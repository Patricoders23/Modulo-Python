{
 "cells": [
  {
   "cell_type": "markdown",
   "metadata": {},
   "source": [
    "# FICHEROS "
   ]
  },
  {
   "cell_type": "markdown",
   "metadata": {},
   "source": [
    "En Python empleamos tres pasos para leer o escribir ficheros:\n",
    "\n",
    "• Llamar a la función open() para devolver un objeto file.\n",
    "\n",
    "• Llamar al método read() o write() del objeto file.\n",
    "\n",
    "• Cerrar el fichero llamando al método close() del objeto file"
   ]
  },
  {
   "cell_type": "markdown",
   "metadata": {},
   "source": [
    "## Modo lectura "
   ]
  },
  {
   "cell_type": "code",
   "execution_count": 122,
   "metadata": {},
   "outputs": [],
   "source": [
    "f = open('Data/poesia.txt', 'r')\n",
    "\n",
    "# f = open('C:\\Users\\CursosTardes\\Documents\\Modulo-Python\\Ficheros\\Data\\poesia.txt', 'r')"
   ]
  },
  {
   "cell_type": "code",
   "execution_count": 123,
   "metadata": {},
   "outputs": [
    {
     "name": "stdout",
     "output_type": "stream",
     "text": [
      "Tu eres el huracan y yo la alta\n",
      "\n",
      "torre que desafia su poder:\n",
      "\n",
      "¡tenias que estrelarte o que abatirme!\n",
      "\n",
      "¡No podia ser!\n",
      "\n",
      "Tú eras el oceano y yo la enhiesta\n",
      "\n",
      "roca que firme aguarda su vaiven:\n",
      "\n",
      "¡tenias que romperte o que arrancarme !\n",
      "\n",
      "¡No podia ser!\n",
      "\n",
      "Hermosa tu, yo altivo: acostumbrados\n",
      "\n",
      "uno a arrollar, el otro a no ceder:\n",
      "\n",
      "la senda estrecha, inevitable el choque...\n",
      "\n",
      "¡No podia ser! \n"
     ]
    }
   ],
   "source": [
    "for linea in f:\n",
    "    print(linea)"
   ]
  },
  {
   "cell_type": "code",
   "execution_count": 124,
   "metadata": {},
   "outputs": [
    {
     "data": {
      "text/plain": [
       "'Tu eres el huracan y yo la alta\\ntorre que desafia su poder:\\n¡tenias que estrelarte o que abatirme!\\n¡No podia ser!\\nTú eras el oceano y yo la enhiesta\\nroca que firme aguarda su vaiven:\\n¡tenias que romperte o que arrancarme !\\n¡No podia ser!\\nHermosa tu, yo altivo: acostumbrados\\nuno a arrollar, el otro a no ceder:\\nla senda estrecha, inevitable el choque...\\n¡No podia ser! '"
      ]
     },
     "execution_count": 124,
     "metadata": {},
     "output_type": "execute_result"
    }
   ],
   "source": [
    "f = open('C:\\\\Users\\\\CursosTardes\\\\Documents\\\\Modulo-Python\\\\Ficheros\\\\Data\\\\poesia.txt', 'r')\n",
    "f.read()"
   ]
  },
  {
   "cell_type": "code",
   "execution_count": 125,
   "metadata": {},
   "outputs": [
    {
     "data": {
      "text/plain": [
       "['Tu eres el huracan y yo la alta\\n',\n",
       " 'torre que desafia su poder:\\n',\n",
       " '¡tenias que estrelarte o que abatirme!\\n',\n",
       " '¡No podia ser!\\n',\n",
       " 'Tú eras el oceano y yo la enhiesta\\n',\n",
       " 'roca que firme aguarda su vaiven:\\n',\n",
       " '¡tenias que romperte o que arrancarme !\\n',\n",
       " '¡No podia ser!\\n',\n",
       " 'Hermosa tu, yo altivo: acostumbrados\\n',\n",
       " 'uno a arrollar, el otro a no ceder:\\n',\n",
       " 'la senda estrecha, inevitable el choque...\\n',\n",
       " '¡No podia ser! ']"
      ]
     },
     "execution_count": 125,
     "metadata": {},
     "output_type": "execute_result"
    }
   ],
   "source": [
    "f = open('C:\\\\Users\\\\CursosTardes\\\\Documents\\\\Modulo-Python\\\\Ficheros\\\\Data\\\\poesia.txt', 'r')\n",
    "f.readlines()"
   ]
  },
  {
   "cell_type": "code",
   "execution_count": 126,
   "metadata": {},
   "outputs": [
    {
     "data": {
      "text/plain": [
       "['Tu eres el huracan y yo la alta\\n',\n",
       " 'torre que desafia su poder:\\n',\n",
       " '¡tenias que estrelarte o que abatirme!\\n',\n",
       " '¡No podia ser!\\n',\n",
       " 'Tú eras el oceano y yo la enhiesta\\n',\n",
       " 'roca que firme aguarda su vaiven:\\n',\n",
       " '¡tenias que romperte o que arrancarme !\\n',\n",
       " '¡No podia ser!\\n',\n",
       " 'Hermosa tu, yo altivo: acostumbrados\\n',\n",
       " 'uno a arrollar, el otro a no ceder:\\n',\n",
       " 'la senda estrecha, inevitable el choque...\\n',\n",
       " '¡No podia ser! ']"
      ]
     },
     "execution_count": 126,
     "metadata": {},
     "output_type": "execute_result"
    }
   ],
   "source": [
    "f = open('Data/poesia.txt', 'r')\n",
    "lineas = f.readlines() #solo para ficheros pequeños, sino sobrecarga la memoria \n",
    "lineas"
   ]
  },
  {
   "cell_type": "code",
   "execution_count": 127,
   "metadata": {},
   "outputs": [
    {
     "data": {
      "text/plain": [
       "'Tu eres el huracan y yo la alta'"
      ]
     },
     "execution_count": 127,
     "metadata": {},
     "output_type": "execute_result"
    }
   ],
   "source": [
    "lineas[0].rstrip()"
   ]
  },
  {
   "cell_type": "markdown",
   "metadata": {},
   "source": [
    "## Modo escritura"
   ]
  },
  {
   "cell_type": "code",
   "execution_count": 128,
   "metadata": {},
   "outputs": [
    {
     "data": {
      "text/plain": [
       "''"
      ]
     },
     "execution_count": 128,
     "metadata": {},
     "output_type": "execute_result"
    }
   ],
   "source": [
    "f = open('Data/texto.txt', 'r')\n",
    "f.read()"
   ]
  },
  {
   "cell_type": "code",
   "execution_count": 129,
   "metadata": {},
   "outputs": [],
   "source": [
    "f.close()"
   ]
  },
  {
   "cell_type": "code",
   "execution_count": 130,
   "metadata": {},
   "outputs": [],
   "source": [
    "h = open('Data/texto.txt', 'w')"
   ]
  },
  {
   "cell_type": "code",
   "execution_count": 131,
   "metadata": {},
   "outputs": [
    {
     "data": {
      "text/plain": [
       "''"
      ]
     },
     "execution_count": 131,
     "metadata": {},
     "output_type": "execute_result"
    }
   ],
   "source": [
    "h = open('Data/texto.txt', 'r')\n",
    "h.read()"
   ]
  },
  {
   "cell_type": "code",
   "execution_count": 132,
   "metadata": {},
   "outputs": [],
   "source": [
    "f = open('Data/poesia.txt', 'r')\n",
    "lineas = f.readlines()\n",
    "#Para no borrar creao unnuevo fichero\n",
    "nuevo_fichero = open('Data/nuevo.txt', 'w')\n",
    "for i, linea in enumerate(lineas):\n",
    "    if i %2 == 0: \n",
    "        nuevo_fichero.write(str(i) + ' '+ linea)\n",
    "    else:\n",
    "        pass"
   ]
  },
  {
   "cell_type": "code",
   "execution_count": 133,
   "metadata": {},
   "outputs": [],
   "source": [
    "#Cuando se ha finalizado la escritura sobre el fichero, \n",
    "#este debe cerrarse para que los datos escritos se guarden \n",
    "nuevo_fichero.close()"
   ]
  },
  {
   "cell_type": "code",
   "execution_count": 134,
   "metadata": {},
   "outputs": [
    {
     "data": {
      "text/plain": [
       "['0 Tu eres el huracan y yo la alta\\n',\n",
       " '2 ¡tenias que estrelarte o que abatirme!\\n',\n",
       " '4 Tú eras el oceano y yo la enhiesta\\n',\n",
       " '6 ¡tenias que romperte o que arrancarme !\\n',\n",
       " '8 Hermosa tu, yo altivo: acostumbrados\\n',\n",
       " '10 la senda estrecha, inevitable el choque...\\n']"
      ]
     },
     "execution_count": 134,
     "metadata": {},
     "output_type": "execute_result"
    }
   ],
   "source": [
    "#Luego abrimos el fichero en modo lectura para comprobar el contenido del fichero\n",
    "open('Data/nuevo.txt').readlines()"
   ]
  },
  {
   "cell_type": "code",
   "execution_count": 135,
   "metadata": {},
   "outputs": [
    {
     "data": {
      "text/plain": [
       "17"
      ]
     },
     "execution_count": 135,
     "metadata": {},
     "output_type": "execute_result"
    }
   ],
   "source": [
    "#Apertura en modo escritura posicionándose al final del mismo ‘a’ .\n",
    "open('Data/nuevo.txt', 'a').write('\\nEste es el final')"
   ]
  },
  {
   "cell_type": "code",
   "execution_count": 136,
   "metadata": {},
   "outputs": [
    {
     "data": {
      "text/plain": [
       "['0 Tu eres el huracan y yo la alta\\n',\n",
       " '2 ¡tenias que estrelarte o que abatirme!\\n',\n",
       " '4 Tú eras el oceano y yo la enhiesta\\n',\n",
       " '6 ¡tenias que romperte o que arrancarme !\\n',\n",
       " '8 Hermosa tu, yo altivo: acostumbrados\\n',\n",
       " '10 la senda estrecha, inevitable el choque...\\n',\n",
       " '\\n',\n",
       " 'Este es el final']"
      ]
     },
     "execution_count": 136,
     "metadata": {},
     "output_type": "execute_result"
    }
   ],
   "source": [
    "open('Data/nuevo.txt').readlines()"
   ]
  },
  {
   "cell_type": "code",
   "execution_count": 137,
   "metadata": {},
   "outputs": [
    {
     "ename": "FileNotFoundError",
     "evalue": "No such file or directory: 'ficheros_permisos.PNG'",
     "output_type": "error",
     "traceback": [
      "\u001b[1;31m---------------------------------------------------------------------------\u001b[0m",
      "\u001b[1;31mTypeError\u001b[0m                                 Traceback (most recent call last)",
      "File \u001b[1;32m~\\AppData\\Roaming\\Python\\Python311\\site-packages\\IPython\\core\\display.py:1045\u001b[0m, in \u001b[0;36mImage._data_and_metadata\u001b[1;34m(self, always_both)\u001b[0m\n\u001b[0;32m   1044\u001b[0m \u001b[38;5;28;01mtry\u001b[39;00m:\n\u001b[1;32m-> 1045\u001b[0m     b64_data \u001b[38;5;241m=\u001b[39m \u001b[43mb2a_base64\u001b[49m\u001b[43m(\u001b[49m\u001b[38;5;28;43mself\u001b[39;49m\u001b[38;5;241;43m.\u001b[39;49m\u001b[43mdata\u001b[49m\u001b[43m,\u001b[49m\u001b[43m \u001b[49m\u001b[43mnewline\u001b[49m\u001b[38;5;241;43m=\u001b[39;49m\u001b[38;5;28;43;01mFalse\u001b[39;49;00m\u001b[43m)\u001b[49m\u001b[38;5;241m.\u001b[39mdecode(\u001b[38;5;124m\"\u001b[39m\u001b[38;5;124mascii\u001b[39m\u001b[38;5;124m\"\u001b[39m)\n\u001b[0;32m   1046\u001b[0m \u001b[38;5;28;01mexcept\u001b[39;00m \u001b[38;5;167;01mTypeError\u001b[39;00m \u001b[38;5;28;01mas\u001b[39;00m e:\n",
      "\u001b[1;31mTypeError\u001b[0m: a bytes-like object is required, not 'str'",
      "\nThe above exception was the direct cause of the following exception:\n",
      "\u001b[1;31mFileNotFoundError\u001b[0m                         Traceback (most recent call last)",
      "File \u001b[1;32m~\\AppData\\Roaming\\Python\\Python311\\site-packages\\IPython\\core\\formatters.py:977\u001b[0m, in \u001b[0;36mMimeBundleFormatter.__call__\u001b[1;34m(self, obj, include, exclude)\u001b[0m\n\u001b[0;32m    974\u001b[0m     method \u001b[38;5;241m=\u001b[39m get_real_method(obj, \u001b[38;5;28mself\u001b[39m\u001b[38;5;241m.\u001b[39mprint_method)\n\u001b[0;32m    976\u001b[0m     \u001b[38;5;28;01mif\u001b[39;00m method \u001b[38;5;129;01mis\u001b[39;00m \u001b[38;5;129;01mnot\u001b[39;00m \u001b[38;5;28;01mNone\u001b[39;00m:\n\u001b[1;32m--> 977\u001b[0m         \u001b[38;5;28;01mreturn\u001b[39;00m \u001b[43mmethod\u001b[49m\u001b[43m(\u001b[49m\u001b[43minclude\u001b[49m\u001b[38;5;241;43m=\u001b[39;49m\u001b[43minclude\u001b[49m\u001b[43m,\u001b[49m\u001b[43m \u001b[49m\u001b[43mexclude\u001b[49m\u001b[38;5;241;43m=\u001b[39;49m\u001b[43mexclude\u001b[49m\u001b[43m)\u001b[49m\n\u001b[0;32m    978\u001b[0m     \u001b[38;5;28;01mreturn\u001b[39;00m \u001b[38;5;28;01mNone\u001b[39;00m\n\u001b[0;32m    979\u001b[0m \u001b[38;5;28;01melse\u001b[39;00m:\n",
      "File \u001b[1;32m~\\AppData\\Roaming\\Python\\Python311\\site-packages\\IPython\\core\\display.py:1035\u001b[0m, in \u001b[0;36mImage._repr_mimebundle_\u001b[1;34m(self, include, exclude)\u001b[0m\n\u001b[0;32m   1033\u001b[0m \u001b[38;5;28;01mif\u001b[39;00m \u001b[38;5;28mself\u001b[39m\u001b[38;5;241m.\u001b[39membed:\n\u001b[0;32m   1034\u001b[0m     mimetype \u001b[38;5;241m=\u001b[39m \u001b[38;5;28mself\u001b[39m\u001b[38;5;241m.\u001b[39m_mimetype\n\u001b[1;32m-> 1035\u001b[0m     data, metadata \u001b[38;5;241m=\u001b[39m \u001b[38;5;28;43mself\u001b[39;49m\u001b[38;5;241;43m.\u001b[39;49m\u001b[43m_data_and_metadata\u001b[49m\u001b[43m(\u001b[49m\u001b[43malways_both\u001b[49m\u001b[38;5;241;43m=\u001b[39;49m\u001b[38;5;28;43;01mTrue\u001b[39;49;00m\u001b[43m)\u001b[49m\n\u001b[0;32m   1036\u001b[0m     \u001b[38;5;28;01mif\u001b[39;00m metadata:\n\u001b[0;32m   1037\u001b[0m         metadata \u001b[38;5;241m=\u001b[39m {mimetype: metadata}\n",
      "File \u001b[1;32m~\\AppData\\Roaming\\Python\\Python311\\site-packages\\IPython\\core\\display.py:1047\u001b[0m, in \u001b[0;36mImage._data_and_metadata\u001b[1;34m(self, always_both)\u001b[0m\n\u001b[0;32m   1045\u001b[0m     b64_data \u001b[38;5;241m=\u001b[39m b2a_base64(\u001b[38;5;28mself\u001b[39m\u001b[38;5;241m.\u001b[39mdata, newline\u001b[38;5;241m=\u001b[39m\u001b[38;5;28;01mFalse\u001b[39;00m)\u001b[38;5;241m.\u001b[39mdecode(\u001b[38;5;124m\"\u001b[39m\u001b[38;5;124mascii\u001b[39m\u001b[38;5;124m\"\u001b[39m)\n\u001b[0;32m   1046\u001b[0m \u001b[38;5;28;01mexcept\u001b[39;00m \u001b[38;5;167;01mTypeError\u001b[39;00m \u001b[38;5;28;01mas\u001b[39;00m e:\n\u001b[1;32m-> 1047\u001b[0m     \u001b[38;5;28;01mraise\u001b[39;00m \u001b[38;5;167;01mFileNotFoundError\u001b[39;00m(\n\u001b[0;32m   1048\u001b[0m         \u001b[38;5;124m\"\u001b[39m\u001b[38;5;124mNo such file or directory: \u001b[39m\u001b[38;5;124m'\u001b[39m\u001b[38;5;132;01m%s\u001b[39;00m\u001b[38;5;124m'\u001b[39m\u001b[38;5;124m\"\u001b[39m \u001b[38;5;241m%\u001b[39m (\u001b[38;5;28mself\u001b[39m\u001b[38;5;241m.\u001b[39mdata)) \u001b[38;5;28;01mfrom\u001b[39;00m \u001b[38;5;21;01me\u001b[39;00m\n\u001b[0;32m   1049\u001b[0m md \u001b[38;5;241m=\u001b[39m {}\n\u001b[0;32m   1050\u001b[0m \u001b[38;5;28;01mif\u001b[39;00m \u001b[38;5;28mself\u001b[39m\u001b[38;5;241m.\u001b[39mmetadata:\n",
      "\u001b[1;31mFileNotFoundError\u001b[0m: No such file or directory: 'ficheros_permisos.PNG'"
     ]
    },
    {
     "ename": "FileNotFoundError",
     "evalue": "No such file or directory: 'ficheros_permisos.PNG'",
     "output_type": "error",
     "traceback": [
      "\u001b[1;31m---------------------------------------------------------------------------\u001b[0m",
      "\u001b[1;31mTypeError\u001b[0m                                 Traceback (most recent call last)",
      "File \u001b[1;32m~\\AppData\\Roaming\\Python\\Python311\\site-packages\\IPython\\core\\display.py:1045\u001b[0m, in \u001b[0;36mImage._data_and_metadata\u001b[1;34m(self, always_both)\u001b[0m\n\u001b[0;32m   1044\u001b[0m \u001b[38;5;28;01mtry\u001b[39;00m:\n\u001b[1;32m-> 1045\u001b[0m     b64_data \u001b[38;5;241m=\u001b[39m \u001b[43mb2a_base64\u001b[49m\u001b[43m(\u001b[49m\u001b[38;5;28;43mself\u001b[39;49m\u001b[38;5;241;43m.\u001b[39;49m\u001b[43mdata\u001b[49m\u001b[43m,\u001b[49m\u001b[43m \u001b[49m\u001b[43mnewline\u001b[49m\u001b[38;5;241;43m=\u001b[39;49m\u001b[38;5;28;43;01mFalse\u001b[39;49;00m\u001b[43m)\u001b[49m\u001b[38;5;241m.\u001b[39mdecode(\u001b[38;5;124m\"\u001b[39m\u001b[38;5;124mascii\u001b[39m\u001b[38;5;124m\"\u001b[39m)\n\u001b[0;32m   1046\u001b[0m \u001b[38;5;28;01mexcept\u001b[39;00m \u001b[38;5;167;01mTypeError\u001b[39;00m \u001b[38;5;28;01mas\u001b[39;00m e:\n",
      "\u001b[1;31mTypeError\u001b[0m: a bytes-like object is required, not 'str'",
      "\nThe above exception was the direct cause of the following exception:\n",
      "\u001b[1;31mFileNotFoundError\u001b[0m                         Traceback (most recent call last)",
      "File \u001b[1;32m~\\AppData\\Roaming\\Python\\Python311\\site-packages\\IPython\\core\\formatters.py:347\u001b[0m, in \u001b[0;36mBaseFormatter.__call__\u001b[1;34m(self, obj)\u001b[0m\n\u001b[0;32m    345\u001b[0m     method \u001b[38;5;241m=\u001b[39m get_real_method(obj, \u001b[38;5;28mself\u001b[39m\u001b[38;5;241m.\u001b[39mprint_method)\n\u001b[0;32m    346\u001b[0m     \u001b[38;5;28;01mif\u001b[39;00m method \u001b[38;5;129;01mis\u001b[39;00m \u001b[38;5;129;01mnot\u001b[39;00m \u001b[38;5;28;01mNone\u001b[39;00m:\n\u001b[1;32m--> 347\u001b[0m         \u001b[38;5;28;01mreturn\u001b[39;00m \u001b[43mmethod\u001b[49m\u001b[43m(\u001b[49m\u001b[43m)\u001b[49m\n\u001b[0;32m    348\u001b[0m     \u001b[38;5;28;01mreturn\u001b[39;00m \u001b[38;5;28;01mNone\u001b[39;00m\n\u001b[0;32m    349\u001b[0m \u001b[38;5;28;01melse\u001b[39;00m:\n",
      "File \u001b[1;32m~\\AppData\\Roaming\\Python\\Python311\\site-packages\\IPython\\core\\display.py:1067\u001b[0m, in \u001b[0;36mImage._repr_png_\u001b[1;34m(self)\u001b[0m\n\u001b[0;32m   1065\u001b[0m \u001b[38;5;28;01mdef\u001b[39;00m \u001b[38;5;21m_repr_png_\u001b[39m(\u001b[38;5;28mself\u001b[39m):\n\u001b[0;32m   1066\u001b[0m     \u001b[38;5;28;01mif\u001b[39;00m \u001b[38;5;28mself\u001b[39m\u001b[38;5;241m.\u001b[39membed \u001b[38;5;129;01mand\u001b[39;00m \u001b[38;5;28mself\u001b[39m\u001b[38;5;241m.\u001b[39mformat \u001b[38;5;241m==\u001b[39m \u001b[38;5;28mself\u001b[39m\u001b[38;5;241m.\u001b[39m_FMT_PNG:\n\u001b[1;32m-> 1067\u001b[0m         \u001b[38;5;28;01mreturn\u001b[39;00m \u001b[38;5;28;43mself\u001b[39;49m\u001b[38;5;241;43m.\u001b[39;49m\u001b[43m_data_and_metadata\u001b[49m\u001b[43m(\u001b[49m\u001b[43m)\u001b[49m\n",
      "File \u001b[1;32m~\\AppData\\Roaming\\Python\\Python311\\site-packages\\IPython\\core\\display.py:1047\u001b[0m, in \u001b[0;36mImage._data_and_metadata\u001b[1;34m(self, always_both)\u001b[0m\n\u001b[0;32m   1045\u001b[0m     b64_data \u001b[38;5;241m=\u001b[39m b2a_base64(\u001b[38;5;28mself\u001b[39m\u001b[38;5;241m.\u001b[39mdata, newline\u001b[38;5;241m=\u001b[39m\u001b[38;5;28;01mFalse\u001b[39;00m)\u001b[38;5;241m.\u001b[39mdecode(\u001b[38;5;124m\"\u001b[39m\u001b[38;5;124mascii\u001b[39m\u001b[38;5;124m\"\u001b[39m)\n\u001b[0;32m   1046\u001b[0m \u001b[38;5;28;01mexcept\u001b[39;00m \u001b[38;5;167;01mTypeError\u001b[39;00m \u001b[38;5;28;01mas\u001b[39;00m e:\n\u001b[1;32m-> 1047\u001b[0m     \u001b[38;5;28;01mraise\u001b[39;00m \u001b[38;5;167;01mFileNotFoundError\u001b[39;00m(\n\u001b[0;32m   1048\u001b[0m         \u001b[38;5;124m\"\u001b[39m\u001b[38;5;124mNo such file or directory: \u001b[39m\u001b[38;5;124m'\u001b[39m\u001b[38;5;132;01m%s\u001b[39;00m\u001b[38;5;124m'\u001b[39m\u001b[38;5;124m\"\u001b[39m \u001b[38;5;241m%\u001b[39m (\u001b[38;5;28mself\u001b[39m\u001b[38;5;241m.\u001b[39mdata)) \u001b[38;5;28;01mfrom\u001b[39;00m \u001b[38;5;21;01me\u001b[39;00m\n\u001b[0;32m   1049\u001b[0m md \u001b[38;5;241m=\u001b[39m {}\n\u001b[0;32m   1050\u001b[0m \u001b[38;5;28;01mif\u001b[39;00m \u001b[38;5;28mself\u001b[39m\u001b[38;5;241m.\u001b[39mmetadata:\n",
      "\u001b[1;31mFileNotFoundError\u001b[0m: No such file or directory: 'ficheros_permisos.PNG'"
     ]
    },
    {
     "data": {
      "text/plain": [
       "<IPython.core.display.Image object>"
      ]
     },
     "execution_count": 137,
     "metadata": {},
     "output_type": "execute_result"
    }
   ],
   "source": [
    "from IPython.display import Image\n",
    "Image(\"ficheros_permisos.PNG\")"
   ]
  },
  {
   "cell_type": "markdown",
   "metadata": {},
   "source": [
    "## Creamos un fichero \n",
    "\n",
    "Para la escritura de ficheros de texto se utilizan los métodos write() y writelines()."
   ]
  },
  {
   "cell_type": "code",
   "execution_count": 138,
   "metadata": {},
   "outputs": [],
   "source": [
    "# Uso del caso write\n",
    "num_par = open('Data/pares.txt', 'w', encoding = 'utf-8')\n",
    "\n",
    "for i in [j for j in range(20) if j % 2 == 0]:\n",
    "    num_par.write(str(i)+ ' ') \n",
    "num_par.close()"
   ]
  },
  {
   "cell_type": "code",
   "execution_count": 139,
   "metadata": {},
   "outputs": [
    {
     "data": {
      "text/plain": [
       "'0 2 4 6 8 10 12 14 16 18 '"
      ]
     },
     "execution_count": 139,
     "metadata": {},
     "output_type": "execute_result"
    }
   ],
   "source": [
    "open('Data/pares.txt').read()"
   ]
  },
  {
   "cell_type": "code",
   "execution_count": 140,
   "metadata": {},
   "outputs": [],
   "source": [
    "# USo del caso writelines()\n",
    "with open('Data/pares1.txt', 'w', encoding= 'utf=8') as n_pares:\n",
    "          n_pares.writelines([str(i) + '\\n' for i in range(20) if i %2 == 0])\n",
    "          "
   ]
  },
  {
   "cell_type": "code",
   "execution_count": 141,
   "metadata": {},
   "outputs": [
    {
     "data": {
      "text/plain": [
       "'0\\n2\\n4\\n6\\n8\\n10\\n12\\n14\\n16\\n18\\n'"
      ]
     },
     "execution_count": 141,
     "metadata": {},
     "output_type": "execute_result"
    }
   ],
   "source": [
    "open('Data/pares1.txt').read()"
   ]
  },
  {
   "cell_type": "markdown",
   "metadata": {},
   "source": [
    "## Leer ficheros (read)"
   ]
  },
  {
   "cell_type": "markdown",
   "metadata": {},
   "source": [
    "*file.read(size=-1)\n",
    "El argumento de número de bytes a leer es opcional, y si se omite, tratará de leer el contenido completo\n",
    "del fichero.\n",
    "\n",
    "*file.readline(size=-1)\n",
    "El método readline() lee líneas individuales del fichero, entendiendo por línea los caracteres que tenga\n",
    "hasta el carácter de fin de línea ('\\n'). El carácter de fin de línea se deja al final de la cadena, y sólo se\n",
    "omite en la última línea si no termina en un fin de línea. Una línea en blanco contiene un único fin de\n",
    "línea('\\n’).\n",
    "\n",
    "*file.readlines()\n",
    "Cuando se alcanza el final del fichero (EOF) los métodos read() y readline() devuelven una cadena vacía,\n",
    "mientras que readlines() devuelve una lista vacía ([])"
   ]
  },
  {
   "cell_type": "markdown",
   "metadata": {},
   "source": [
    "### Leo el fichero que lo cree (pares.txt) y lo vamos a leer de 10 en 10 bytes"
   ]
  },
  {
   "cell_type": "code",
   "execution_count": 142,
   "metadata": {},
   "outputs": [
    {
     "name": "stdout",
     "output_type": "stream",
     "text": [
      "0 2 4 6 8 \n",
      "10 12 14 1\n",
      "6 18 \n"
     ]
    }
   ],
   "source": [
    "with open('Data/pares.txt', 'r', encoding='utf=8') as fobj:\n",
    "    cadena = fobj.read(10)\n",
    "    while cadena:\n",
    "        print(cadena.replace('\\n', ' '))\n",
    "        cadena = fobj.read(10)"
   ]
  },
  {
   "cell_type": "markdown",
   "metadata": {},
   "source": [
    "## Encoding"
   ]
  },
  {
   "cell_type": "markdown",
   "metadata": {},
   "source": [
    "Cuando abrimos el fichero en modo texto bien para leer, bien para escribir, tenemos opción de indicar cómo codificar los caracteres \"extraños\"\n",
    "\n",
    "Una bastante habitual es UTF-8. La función open() llevaría un parámetro adicional.\n"
   ]
  },
  {
   "cell_type": "code",
   "execution_count": 143,
   "metadata": {},
   "outputs": [
    {
     "name": "stdout",
     "output_type": "stream",
     "text": [
      " ñ Á É Ó Í Ú á é í ó ú\n",
      "\n"
     ]
    }
   ],
   "source": [
    "f = open('Data/new.txt', encoding = 'utf-8')\n",
    "\n",
    "print(f.readline())"
   ]
  },
  {
   "cell_type": "code",
   "execution_count": 144,
   "metadata": {},
   "outputs": [],
   "source": [
    "f.close()"
   ]
  },
  {
   "cell_type": "code",
   "execution_count": 145,
   "metadata": {},
   "outputs": [
    {
     "name": "stdout",
     "output_type": "stream",
     "text": [
      " ñ Á É Ó Í Ú á é í ó ú\n",
      "\n",
      " I j k % $ & ^```+´´¨´\n",
      "\n",
      "abdefgtojkññññññññññññ\n"
     ]
    }
   ],
   "source": [
    "# Asegurarse del cierre del fichero:\n",
    "\n",
    "with open('Data/new.txt') as f:\n",
    "    linea = f.readline()\n",
    "    while linea:\n",
    "        print(linea)\n",
    "        linea = f.readline()"
   ]
  },
  {
   "cell_type": "markdown",
   "metadata": {},
   "source": [
    "Abrimos el fichero con *with delante y *as f detrás. Esto abre el fichero y lo guarda en una variable f.\n",
    "\n",
    "*with ... : crea un bloque y el fichero permanecerá abierto dentro de ese bloque. Una vez salgamos del bloque, el fichero se cierra automáticamente, pase lo que pase. \n",
    "\n",
    "Dentro del bloque with : leemos y tratamos el fichero. No necesitamos poner el f.close()."
   ]
  },
  {
   "cell_type": "code",
   "execution_count": 146,
   "metadata": {},
   "outputs": [],
   "source": [
    "with open('Data/fichero.txt') as origen:\n",
    "    with open('Data/copia.txt', 'w') as destino:\n",
    "        linea = origen.readline()\n",
    "        while linea: \n",
    "            destino.write(linea)\n",
    "            linea = origen.readline()"
   ]
  },
  {
   "cell_type": "markdown",
   "metadata": {},
   "source": [
    "## Ficheros y directorios\n",
    "\n",
    "## En Python podemos emplear la barra hacia adelante ( / ) para las cadenas de subdirectorios, independientemente del sistema operativo que se esté utilizando."
   ]
  },
  {
   "cell_type": "markdown",
   "metadata": {},
   "source": [
    "• Una letra de volumen que identifica la unidad de almacenamiento, seguida de un separador de volumen. En Windows dos puntos ( : ).\n",
    "\n",
    "• Un nombre de directorio, formado por una secuencia de nombres de subdirectorios, separados por un carácter. En Windows una barra invertida ( \\ ).\n",
    "\n",
    "• Un nombre de fichero opcional, tras el último carácter separador de directorios."
   ]
  },
  {
   "cell_type": "markdown",
   "metadata": {},
   "source": [
    "### Ruta absoluta "
   ]
  },
  {
   "cell_type": "code",
   "execution_count": 147,
   "metadata": {},
   "outputs": [
    {
     "data": {
      "text/plain": [
       "'C:\\\\Users\\\\CursosTardes\\\\Documents\\\\Modulo-Python\\\\Ficheros\\\\Data\\\\copia.txt'"
      ]
     },
     "execution_count": 147,
     "metadata": {},
     "output_type": "execute_result"
    }
   ],
   "source": [
    "ruta_absoluta = 'C:\\\\Users\\\\CursosTardes\\\\Documents\\\\Modulo-Python\\\\Ficheros\\\\Data\\\\copia.txt'\n",
    "ruta_absoluta"
   ]
  },
  {
   "cell_type": "markdown",
   "metadata": {},
   "source": [
    "### Ruta relativa\n",
    "\n",
    "▪ / es la raíz del sistema de ficheros.\n",
    "\n",
    "▪ ./ denota la carpeta actual en la que se encuentra el programa que se ejecuta.\n",
    "\n",
    "▪ ../ indica la carpeta situada por encima de la actual."
   ]
  },
  {
   "cell_type": "code",
   "execution_count": 148,
   "metadata": {},
   "outputs": [
    {
     "data": {
      "text/plain": [
       "'./Modulo-Python/Ficheros/Data/copia.txt'"
      ]
     },
     "execution_count": 148,
     "metadata": {},
     "output_type": "execute_result"
    }
   ],
   "source": [
    "ruta_relativa = './Modulo-Python/Ficheros/Data/copia.txt'\n",
    "ruta_relativa"
   ]
  },
  {
   "cell_type": "code",
   "execution_count": 149,
   "metadata": {},
   "outputs": [
    {
     "data": {
      "text/plain": [
       "'../Ficheros/Data/copia.txt'"
      ]
     },
     "execution_count": 149,
     "metadata": {},
     "output_type": "execute_result"
    }
   ],
   "source": [
    "ruta_rel = '../Ficheros/Data/copia.txt'\n",
    "ruta_rel"
   ]
  },
  {
   "cell_type": "markdown",
   "metadata": {},
   "source": [
    "## Ficheros estándar\n",
    "_________________________________________________\n",
    "\n",
    "Formatos comunes: CSV, JSON y XML. También esta ZIP"
   ]
  },
  {
   "cell_type": "markdown",
   "metadata": {},
   "source": [
    "\n",
    "Ficheros JSON. El formato de ficheros JSON (JavaScript Object Notation) es un estándar abierto que utiliza texto legible por el ser humano para transmitir objetos de datos formados por pares de atributo-valor.\n",
    "__________________________________________________________________________________________________________\n",
    "Ficheros XML. El XML (eXtensible Markup Language), lenguaje de marcas ampliado, es un meta-lenguaje que nos permite definir lenguajes de marcado adaptados a nuestras necesidades.\n",
    "__________________________________________________________________________________________________________\n",
    "Archivos ZIP. Un archivo no es más que un fichero que contiene varios ficheros junto con metadatos sobre los mismos. Se utiliza para reunir varios ficheros de datos en un único fichero con el fin de reducir las necesidades de almacenamiento"
   ]
  },
  {
   "cell_type": "markdown",
   "metadata": {},
   "source": [
    "### Ficheros CSV. \n",
    "\n",
    "Uno de los formatos más extendidos para el intercambio de datos, el formato de CSV (Comma Separated Values), cuya denominación: Valores Separados por Comas, es bastante descriptiva.\n",
    "\n",
    "La manera más sencilla de cargar un fichero de este tipo es abrirlo con open y crear un lector con\n",
    "reader. El lector obtenido es iterable y cada elemento se corresponde con una línea del fichero\n",
    "cargado; esta línea está representada como una lista donde cada elemento es una cadena de\n",
    "caracteres que corresponde a una columna."
   ]
  },
  {
   "cell_type": "code",
   "execution_count": 150,
   "metadata": {},
   "outputs": [],
   "source": [
    "import csv"
   ]
  },
  {
   "cell_type": "code",
   "execution_count": 151,
   "metadata": {},
   "outputs": [
    {
     "name": "stdout",
     "output_type": "stream",
     "text": [
      "66487.94\n"
     ]
    }
   ],
   "source": [
    "with open ('Data/subvenciones.csv', encoding='latin1') as fichero_csv: #latin1. Esta codificación nos permite trabajar con tildes\n",
    "#• Es necesario transformar de cadena a número usando float, ya que el lector carga todos los valores como cadenas\n",
    "    lector = csv.reader(fichero_csv) \n",
    "#• El lector incluye la fila con la cabecera, que es necesario saltarse\n",
    "    next(lector, None) #El método next() devuelve la fila actual y avanza el iterador a la siguiente fila\n",
    "    importe_total = 0 \n",
    "    for linea in lector: \n",
    "        importe_str = linea[2]\n",
    "        importe=float(importe_str)\n",
    "        importe_total = importe_total + importe\n",
    "    print(importe_total)"
   ]
  },
  {
   "cell_type": "code",
   "execution_count": 152,
   "metadata": {},
   "outputs": [
    {
     "name": "stdout",
     "output_type": "stream",
     "text": [
      "{'AMPA ANTONIO MACHADO': 2344.99, 'AMPA BACHILLER ALONSO LOPEZ': 3200.0, 'AMPA CASTILLA': 2604.44, 'AMPA DAOIZ Y VELARDE': 3152.74, 'AMPA EMILIO CASADO': 3015.67, 'AMPA FEDERICO GARCIA LORCA': 1919.06, 'AMPA GABRIEL Y GALAN': 2741.51, 'AMPA LUIS BUÑUEL': 2081.0, 'AMPA MIGUEL HERNANDEZ': 2923.35, 'AMPA MIRAFLORES': 2787.21, 'AMPA PARQUE CATALUÑA': 2604.44, 'AMPA PROFESOR TIERNO GALVÁN': 1286.0, 'AMPA SEIS DE DICIEMBRE': 1950.0, 'AMPA VALDEPALITOS': 3929.5, 'AMPA LA CHOPERA': 1430.0, 'AMPA EL CUQUILLO': 1507.83, 'AMPA VALDELAPARRA': 2465.0, 'AMPA RIVENDEL': 2200.0, 'AMPA AGORA': 2421.67, 'AMPA ALDEBARAN': 3107.05, 'AMPA GINER DE LOS RIOS': 2058.0, 'AMPA SEVERO OCHOA': 3563.9700000000003, 'AMPA VIRGEN DE LA PAZ': 1416.45, 'AMPA JUAN XXIII': 1781.98, 'AMPA SAN ANTONIO': 2101.83, 'AMPA PADRE  MANYANET': 2695.82, 'AMPA FAPA': 3198.43}\n"
     ]
    }
   ],
   "source": [
    "#calcular las subvenciones por centro almacenando un diccionario que tenga como\n",
    "#clave el nombre del centro y como valor las subvenciones recibidas\n",
    "\n",
    "with open ('Data/subvenciones.csv', encoding='latin1') as fichero_csv: #latin1. Esta codificación nos permite trabajar con tildes\n",
    "    lector = csv.reader(fichero_csv) \n",
    "\n",
    "    next(lector, None) #El método next() devuelve la fila actual y avanza el iterador a la siguiente fila\n",
    "    asociaciones = { }\n",
    "    \n",
    "    for linea in lector: \n",
    "        centro = linea[0]\n",
    "        subvencion = float(linea[2])\n",
    "        if centro in asociaciones:\n",
    "            asociaciones[centro] = asociaciones[centro] + subvencion\n",
    "        else:\n",
    "            asociaciones[centro] = subvencion\n",
    "\n",
    "    print(asociaciones)"
   ]
  },
  {
   "cell_type": "markdown",
   "metadata": {},
   "source": [
    "Podemos usar DictReader en lugar de reader, la cual devuelve un lector en el que cada línea es un diccionario con las claves indicadas en la cabecera del documento y valor el dado en la fila correspondiente.’ "
   ]
  },
  {
   "cell_type": "code",
   "execution_count": 153,
   "metadata": {},
   "outputs": [
    {
     "name": "stdout",
     "output_type": "stream",
     "text": [
      "{'AMPA ANTONIO MACHADO': 2344.99, 'AMPA BACHILLER ALONSO LOPEZ': 3200.0, 'AMPA CASTILLA': 2604.44, 'AMPA DAOIZ Y VELARDE': 3152.74, 'AMPA EMILIO CASADO': 3015.67, 'AMPA FEDERICO GARCIA LORCA': 1919.06, 'AMPA GABRIEL Y GALAN': 2741.51, 'AMPA LUIS BUÑUEL': 2081.0, 'AMPA MIGUEL HERNANDEZ': 2923.35, 'AMPA MIRAFLORES': 2787.21, 'AMPA PARQUE CATALUÑA': 2604.44, 'AMPA PROFESOR TIERNO GALVÁN': 1286.0, 'AMPA SEIS DE DICIEMBRE': 1950.0, 'AMPA VALDEPALITOS': 3929.5, 'AMPA LA CHOPERA': 1430.0, 'AMPA EL CUQUILLO': 1507.83, 'AMPA VALDELAPARRA': 2465.0, 'AMPA RIVENDEL': 2200.0, 'AMPA AGORA': 2421.67, 'AMPA ALDEBARAN': 3107.05, 'AMPA GINER DE LOS RIOS': 2058.0, 'AMPA SEVERO OCHOA': 3563.9700000000003, 'AMPA VIRGEN DE LA PAZ': 1416.45, 'AMPA JUAN XXIII': 1781.98, 'AMPA SAN ANTONIO': 2101.83, 'AMPA PADRE  MANYANET': 2695.82, 'AMPA FAPA': 3198.43}\n"
     ]
    }
   ],
   "source": [
    "with open ('Data/subvenciones.csv', encoding='latin1') as fichero_csv: #latin1. Esta codificación nos permite trabajar con tildes\n",
    "    dic_lector = csv.DictReader(fichero_csv) \n",
    "    asociaciones = {}\n",
    "    \n",
    "    for linea in dic_lector: \n",
    "        centro = linea['Asociación']\n",
    "        subvencion = float(linea['Importe'])\n",
    "        if centro in asociaciones:\n",
    "            asociaciones[centro] = asociaciones[centro] + subvencion\n",
    "        else:\n",
    "            asociaciones[centro] = subvencion\n",
    "\n",
    "    print(asociaciones)"
   ]
  },
  {
   "cell_type": "code",
   "execution_count": 154,
   "metadata": {},
   "outputs": [],
   "source": [
    "with open ('Data/subvenciones.csv', encoding='latin1') as fich_lect, \\\n",
    "    open ('Data/subvenciones.csv', 'w', encoding = 'latin1') as fich_escr: \n",
    "        dict_lector = csv.DictReader(fich_lect)\n",
    "        campos=dic_lector.fieldnames + ['Justificación requerida', 'Justificación recibida']\n",
    "        escritor = csv.DictWriter(fich_escr, fieldnames=campos)\n",
    "        escritor.writeheader()\n",
    "        for linea in dict_lector:\n",
    "            \n",
    "            if float(linea['Importe']) > 300:\n",
    "                linea['Justificación requerida'] = 'Sí'\n",
    "            else: \n",
    "                linea['Justificación requerida'] = 'No'\n",
    "            linea['Justificación requerida'] = 'No'\n",
    "            escritor.writerow(linea)\n",
    "        "
   ]
  },
  {
   "cell_type": "code",
   "execution_count": 155,
   "metadata": {},
   "outputs": [],
   "source": [
    "contactos = [  \n",
    "    (\"Manuel\", \"Desarrollador Web\", \"manuel@ejemplo.con\"),\n",
    "    (\"Lorena\", \"Gestora de proyectos\", \"lorena@ejenplo.com\"),\n",
    "    (\"Javier\", \"Analista de datos\", \"javier@ejemplo.com\"),\n",
    "    (\"Marta\" , \"Experta en Python\", \"marta@ejemplo.com\" )\n",
    "]\n",
    "\n",
    "#ESCRITURA DE LISTAS EN .csv\n",
    "with open('contactos.csv', 'w', newline = '\\n') as csvfile: \n",
    "    writer = csv.writer(csvfile, delimiter = ',')\n",
    "    for contacto in contactos:\n",
    "        writer.writerow(contacto)"
   ]
  },
  {
   "cell_type": "code",
   "execution_count": 156,
   "metadata": {},
   "outputs": [
    {
     "data": {
      "text/plain": [
       "['Manuel,Desarrollador Web,manuel@ejemplo.con\\n',\n",
       " 'Lorena,Gestora de proyectos,lorena@ejenplo.com\\n',\n",
       " 'Javier,Analista de datos,javier@ejemplo.com\\n',\n",
       " 'Marta,Experta en Python,marta@ejemplo.com\\n']"
      ]
     },
     "execution_count": 156,
     "metadata": {},
     "output_type": "execute_result"
    }
   ],
   "source": [
    "open('contactos.csv', encoding = 'latin1').readlines()"
   ]
  },
  {
   "cell_type": "code",
   "execution_count": 157,
   "metadata": {},
   "outputs": [
    {
     "name": "stdout",
     "output_type": "stream",
     "text": [
      "Manuel Desarrollador Web manuel@ejemplo.con\n",
      "Lorena Gestora de proyectos lorena@ejenplo.com\n",
      "Javier Analista de datos javier@ejemplo.com\n",
      "Marta Experta en Python marta@ejemplo.com\n"
     ]
    }
   ],
   "source": [
    "#LECTURA de listas en .csv\n",
    "with open('contactos.csv', newline = '\\n') as csvfile: \n",
    "    reader = csv.reader(csvfile, delimiter = ',')\n",
    "    for nombre, empleo, email in reader:\n",
    "        print(nombre, empleo, email)"
   ]
  },
  {
   "cell_type": "code",
   "execution_count": 158,
   "metadata": {},
   "outputs": [],
   "source": [
    "# Escritura de diccionarios en .csv\n",
    "contactos = [  \n",
    "    (\"Manuel\", \"Desarrollador Web\", \"manuel@ejemplo.con\"),\n",
    "    (\"Lorena\", \"Gestora de proyectos\", \"lorena@ejenplo.com\"),\n",
    "    (\"Javier\", \"Analista de datos\", \"javier@ejemplo.com\"),\n",
    "    (\"Marta\" , \"Experta en Python\", \"marta@ejemplo.com\" )\n",
    "]\n",
    "\n",
    "\n",
    "with open('contactos_1.csv', 'w', newline = '\\n') as csvfile: \n",
    "    campos = ['nombre', 'empleo', 'email']\n",
    "    writer = csv.DictWriter(csvfile, fieldnames=campos)\n",
    "    writer.writeheader()\n",
    "    for nombre, empleo, email in contactos:\n",
    "        writer.writerow({\n",
    "            'nombre': nombre, 'empleo': empleo, 'email':email\n",
    "        })"
   ]
  },
  {
   "cell_type": "code",
   "execution_count": 159,
   "metadata": {},
   "outputs": [
    {
     "name": "stdout",
     "output_type": "stream",
     "text": [
      "Manuel Desarrollador Web manuel@ejemplo.con\n",
      "Lorena Gestora de proyectos lorena@ejenplo.com\n",
      "Javier Analista de datos javier@ejemplo.com\n",
      "Marta Experta en Python marta@ejemplo.com\n"
     ]
    }
   ],
   "source": [
    "#LECTURA de ldiccionarios en .csv\n",
    "with open('contactos_1.csv', newline = '\\n') as csvfile: \n",
    "    reader = csv.DictReader(csvfile)\n",
    "    for contacto in reader:\n",
    "        print(contacto['nombre'], contacto['empleo'], contacto['email'])"
   ]
  },
  {
   "cell_type": "markdown",
   "metadata": {},
   "source": [
    "### Ficheros TSV \n",
    "\n",
    "El formato TSV, del inglés (Valores Tab Separated Values Separados por Tabuladores), es una\n",
    "variante de CSV donde se sustituyen las comas separando columnas por tabuladores. "
   ]
  },
  {
   "cell_type": "code",
   "execution_count": 160,
   "metadata": {},
   "outputs": [],
   "source": [
    "#leemos un fichero CSV (y por tanto no modificamos delimiter) pero escribimos un fichero TSV: uso '\\t'\n",
    "with open ('Data/subvenciones.csv', encoding='latin1') as fich_lect, \\\n",
    "    open ('Data/subvenciones.tsv', 'w', encoding = 'latin1') as fich_escr: \n",
    "        dict_lector = csv.DictReader(fich_lect)\n",
    "        campos=dic_lector.fieldnames \n",
    "        escritor = csv.DictWriter(fich_escr, delimiter = '\\t', fieldnames=campos)\n",
    "        escritor.writeheader()\n",
    "        for linea in dict_lector:\n",
    "            escritor.writerow(linea)"
   ]
  },
  {
   "cell_type": "code",
   "execution_count": 161,
   "metadata": {},
   "outputs": [
    {
     "name": "stdout",
     "output_type": "stream",
     "text": [
      "{}\n"
     ]
    }
   ],
   "source": [
    "with open ('Data/subvenciones.tsv', encoding='latin1') as fichero:\n",
    "    dict_lector = csv.DictReader(fichero, delimiter= '\\t') \n",
    "    asociaciones = {}\n",
    "    \n",
    "    for linea in dict_lector: \n",
    "        centro = linea['Asociación']\n",
    "        subvencion = float(linea['Importe'])\n",
    "        if centro in asociaciones:\n",
    "            asociaciones[centro] = asociaciones[centro] + subvencion\n",
    "        else:\n",
    "            asociaciones[centro] = subvencion\n",
    "    print(asociaciones)"
   ]
  },
  {
   "cell_type": "markdown",
   "metadata": {},
   "source": [
    "### Ficheros JSON\n",
    "\n",
    "Ficheros JSON. El formato de ficheros JSON (JavaScript Object Notation) es un estándar abierto que utiliza texto legible por el ser humano para transmitir objetos de datos formados por pares de atributo-valor.\n",
    "__________________________________________________________________________________________________________"
   ]
  },
  {
   "cell_type": "code",
   "execution_count": 164,
   "metadata": {},
   "outputs": [
    {
     "name": "stdout",
     "output_type": "stream",
     "text": [
      "[{'Asociación': 'AMPA ANTONIO MACHADO', 'Actividad Subvencionada': 'TALLER FIESTA DE CARNAVAL', 'Importe en euros': '94.56'}, {'Asociación': 'AMPA ANTONIO MACHADO', 'Actividad Subvencionada': 'TALLER DIA DEL PADRE', 'Importe en euros': '39.04 '}]\n"
     ]
    }
   ],
   "source": [
    "import json\n",
    "\n",
    "with open ('Data/subvenciones.json') as fich:\n",
    "    datos = json.load(fich)\n",
    "    print(datos[0:2])"
   ]
  },
  {
   "cell_type": "code",
   "execution_count": 168,
   "metadata": {},
   "outputs": [
    {
     "data": {
      "text/plain": [
       "' with open (\\'Data/subvenciones.json\\', encoding = \\'utf=8\\') as fich_lect,     open(\\'subvenciones_agrupadas_con_gasto.json\\', \\'w\\', encoding= \\'utf-8\\') as fich_escr:\\n        dict_lector = csv.DictReader(fich_lect)\\n        # data = json.load(fich_lect)\\n        asoc_str = \\'Asociación\\',\\n        act_str = \\'Actividad Subvencionada\\'\\n        imp_str = \\'Importe en euros\\'\\n        \\n        lista = []\\n        lista_act = [ ]\\n        asoc_actual = \" \"\\n        dicc = { }\\n        gasto = 0\\n        \\n        for linea in dict_lector: \\n            asoc = linea[asoc_str]\\n            act = linea[act_str]\\n            imp = linea[imp_str(imp_str)]\\n            if asoc_actual != asoc:\\n                dicc[\\'Actividades\\'] = lista_act\\n                dicc[\\'Gasto\\'] = gasto\\n                dicc = {\\'Asociación\\': asoc}\\n                lista.append(dicc)\\n                lista_act = []\\n                gasto = 0\\n            lista_act.append({act_str : act, imp_str : imp})\\n            gasto = gasto + imp\\n            asoc_actual = asoc\\n\\n        json.dump(lista, fich_escr, ensure_ascii = False, indent=4)\\n         '"
      ]
     },
     "execution_count": 168,
     "metadata": {},
     "output_type": "execute_result"
    }
   ],
   "source": [
    "\"\"\" with open ('Data/subvenciones.json', encoding = 'utf=8') as fich_lect, \\\n",
    "    open('subvenciones_agrupadas_con_gasto.json', 'w', encoding= 'utf-8') as fich_escr:\n",
    "        dict_lector = csv.DictReader(fich_lect)\n",
    "        # data = json.load(fich_lect)\n",
    "        asoc_str = 'Asociación',\n",
    "        act_str = 'Actividad Subvencionada'\n",
    "        imp_str = 'Importe en euros'\n",
    "        \n",
    "        lista = []\n",
    "        lista_act = [ ]\n",
    "        asoc_actual = \" \"\n",
    "        dicc = { }\n",
    "        gasto = 0\n",
    "        \n",
    "        for linea in dict_lector: \n",
    "            asoc = linea[asoc_str]\n",
    "            act = linea[act_str]\n",
    "            imp = linea[imp_str(imp_str)]\n",
    "            if asoc_actual != asoc:\n",
    "                dicc['Actividades'] = lista_act\n",
    "                dicc['Gasto'] = gasto\n",
    "                dicc = {'Asociación': asoc}\n",
    "                lista.append(dicc)\n",
    "                lista_act = []\n",
    "                gasto = 0\n",
    "            lista_act.append({act_str : act, imp_str : imp})\n",
    "            gasto = gasto + imp\n",
    "            asoc_actual = asoc\n",
    "\n",
    "        json.dump(lista, fich_escr, ensure_ascii = False, indent=4)\n",
    "         \"\"\"\n",
    "\n"
   ]
  }
 ],
 "metadata": {
  "kernelspec": {
   "display_name": "Curso_Python",
   "language": "python",
   "name": "python3"
  },
  "language_info": {
   "codemirror_mode": {
    "name": "ipython",
    "version": 3
   },
   "file_extension": ".py",
   "mimetype": "text/x-python",
   "name": "python",
   "nbconvert_exporter": "python",
   "pygments_lexer": "ipython3",
   "version": "3.11.9"
  }
 },
 "nbformat": 4,
 "nbformat_minor": 2
}
