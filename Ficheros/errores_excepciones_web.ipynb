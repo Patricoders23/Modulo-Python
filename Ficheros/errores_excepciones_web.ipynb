{
 "cells": [
  {
   "cell_type": "markdown",
   "metadata": {},
   "source": [
    "# **Errores y Excepciones**\n",
    "\n",
    "> ¿Qué son Excepciones?\n",
    "- ¿Por qué utilizar Excepciones?"
   ]
  },
  {
   "cell_type": "markdown",
   "metadata": {},
   "source": [
    "> ¿Qué son Errores?**\n",
    "- Error de Sintaxis\n",
    "\n",
    "- Errores Lógicos (Excepciones)"
   ]
  },
  {
   "cell_type": "markdown",
   "metadata": {},
   "source": [
    "> Excepciones Integradas**\n",
    "\n",
    "> El bloque try y except para Manejar Excepciones**\n",
    "- Capturando Excepciones Específicas\n",
    "\n",
    "- Manejar varias excepciones con una sola cláusula except\n",
    "\n"
   ]
  },
  {
   "cell_type": "markdown",
   "metadata": {},
   "source": [
    "> Uso de try con finally\n",
    "\n",
    "> Uso de try con cláusula else\n",
    "\n",
    "> Generar Excepciones\n",
    "\n",
    "> Cadena de Excepciones\n"
   ]
  },
  {
   "cell_type": "markdown",
   "metadata": {},
   "source": [
    "## **¿Qué son Excepciones?**\n",
    "\n",
    "En Python, una excepción es un objeto que deriva de la clase BaseException que contiene información sobre un evento de error que ocurrió dentro de un método. El objeto de excepción contiene:\n",
    "\n",
    "- Tipo de error (nombre de la excepción)\n",
    "\n",
    "- El estado del programa cuando ocurrió el error\n",
    "\n",
    "- Un mensaje de error que describe el evento de error\n"
   ]
  },
  {
   "cell_type": "markdown",
   "metadata": {},
   "source": [
    "### ¿Por qué utilizar Excepciones?\n",
    "\n",
    "Porque ayuda a:  \n",
    "\n",
    "Manejo de errores estandarizado, Código más limpio, Aplicación robusta, Propagación de excepciones, Diferentes tipos de errores"
   ]
  },
  {
   "cell_type": "markdown",
   "metadata": {},
   "source": [
    "## **¿Qué son Errores?**\n",
    "\n",
    "Error es una acción que es incorrecta o inexacta. Por ejemplo, un error de sintaxis. \n",
    "\n",
    "Se clasifican ampliamente en dos tipos: `Sintaxis y Lógicos`"
   ]
  },
  {
   "cell_type": "markdown",
   "metadata": {},
   "source": [
    "- Errores Lógicos (Excepciones): Indentar un bloque a un nivel incorrecto\n",
    "Usar el nombre de variable incorrecto\n",
    "Cometer un error en una expresión booleana"
   ]
  },
  {
   "cell_type": "code",
   "execution_count": 2,
   "metadata": {},
   "outputs": [
    {
     "ename": "NameError",
     "evalue": "name 'c' is not defined",
     "output_type": "error",
     "traceback": [
      "\u001b[1;31m---------------------------------------------------------------------------\u001b[0m",
      "\u001b[1;31mNameError\u001b[0m                                 Traceback (most recent call last)",
      "Cell \u001b[1;32mIn[2], line 6\u001b[0m\n\u001b[0;32m      3\u001b[0m a \u001b[38;5;241m=\u001b[39m \u001b[38;5;241m10\u001b[39m\n\u001b[0;32m      4\u001b[0m b \u001b[38;5;241m=\u001b[39m \u001b[38;5;241m20\u001b[39m\n\u001b[1;32m----> 6\u001b[0m \u001b[38;5;28mprint\u001b[39m(\u001b[38;5;124m'\u001b[39m\u001b[38;5;124mAddition: \u001b[39m\u001b[38;5;124m'\u001b[39m, a \u001b[38;5;241m+\u001b[39m\u001b[43mc\u001b[49m)\n",
      "\u001b[1;31mNameError\u001b[0m: name 'c' is not defined"
     ]
    }
   ],
   "source": [
    "#Ejemplos de Errores Lógicos:\n",
    "    \n",
    "a = 10\n",
    "b = 20\n",
    "\n",
    "print('Addition: ', a +c)"
   ]
  },
  {
   "cell_type": "markdown",
   "metadata": {},
   "source": [
    "- Error de Sintaxis: Cuando Python analiza el programa y encuentra una instrucción incorrecta, se conoce como error de sintaxis. Cuando el analizador encuentra un error de sintaxis, sale con un mensaje de error sin ejecutar nada.\n",
    "\n",
    "Errores comunes: \n",
    "\n",
    "Indentación incorrecta\n",
    "\n",
    "Falta de dos puntos, coma o corchetes\n",
    "\n",
    "Colocar palabras clave en el lugar incorrecto."
   ]
  },
  {
   "cell_type": "code",
   "execution_count": 5,
   "metadata": {},
   "outputs": [
    {
     "ename": "IndentationError",
     "evalue": "unexpected indent (3640287183.py, line 3)",
     "output_type": "error",
     "traceback": [
      "\u001b[1;36m  Cell \u001b[1;32mIn[5], line 3\u001b[1;36m\u001b[0m\n\u001b[1;33m    print(\"Welcome to python again!\")\u001b[0m\n\u001b[1;37m    ^\u001b[0m\n\u001b[1;31mIndentationError\u001b[0m\u001b[1;31m:\u001b[0m unexpected indent\n"
     ]
    }
   ],
   "source": [
    "#Ejemplos de Errores de sintaxis:\n",
    "print('Welcome to python')\n",
    "    print(\"Welcome to python again!\")"
   ]
  },
  {
   "cell_type": "markdown",
   "metadata": {},
   "source": [
    "## Excepciones Integradas \n",
    "\n",
    "Python genera automáticamente muchas excepciones y errores, por ejemplo: \n",
    "\n",
    "`BaseException`: Excepción base para todas las excepciones\n",
    "\n",
    "`EOFError`: Excepción generada cuando se alcanza el final de un archivo\n",
    "\n",
    "`OSError`: Excepción generada cuando se produce un error de sistema operativo"
   ]
  },
  {
   "cell_type": "code",
   "execution_count": 6,
   "metadata": {},
   "outputs": [
    {
     "ename": "FileNotFoundError",
     "evalue": "[Errno 2] No such file or directory: 'test.txt'",
     "output_type": "error",
     "traceback": [
      "\u001b[1;31m---------------------------------------------------------------------------\u001b[0m",
      "\u001b[1;31mFileNotFoundError\u001b[0m                         Traceback (most recent call last)",
      "Cell \u001b[1;32mIn[6], line 1\u001b[0m\n\u001b[1;32m----> 1\u001b[0m fp \u001b[38;5;241m=\u001b[39m \u001b[38;5;28;43mopen\u001b[39;49m\u001b[43m(\u001b[49m\u001b[38;5;124;43m'\u001b[39;49m\u001b[38;5;124;43mtest.txt\u001b[39;49m\u001b[38;5;124;43m'\u001b[39;49m\u001b[43m,\u001b[49m\u001b[43m \u001b[49m\u001b[38;5;124;43m'\u001b[39;49m\u001b[38;5;124;43mr\u001b[39;49m\u001b[38;5;124;43m'\u001b[39;49m\u001b[43m)\u001b[49m\n\u001b[0;32m      2\u001b[0m \u001b[38;5;28;01mif\u001b[39;00m fp:\n\u001b[0;32m      3\u001b[0m     \u001b[38;5;28mprint\u001b[39m(\u001b[38;5;124m'\u001b[39m\u001b[38;5;124mfile is opened sucessfully\u001b[39m\u001b[38;5;124m'\u001b[39m)\n",
      "File \u001b[1;32m~\\AppData\\Roaming\\Python\\Python311\\site-packages\\IPython\\core\\interactiveshell.py:324\u001b[0m, in \u001b[0;36m_modified_open\u001b[1;34m(file, *args, **kwargs)\u001b[0m\n\u001b[0;32m    317\u001b[0m \u001b[38;5;28;01mif\u001b[39;00m file \u001b[38;5;129;01min\u001b[39;00m {\u001b[38;5;241m0\u001b[39m, \u001b[38;5;241m1\u001b[39m, \u001b[38;5;241m2\u001b[39m}:\n\u001b[0;32m    318\u001b[0m     \u001b[38;5;28;01mraise\u001b[39;00m \u001b[38;5;167;01mValueError\u001b[39;00m(\n\u001b[0;32m    319\u001b[0m         \u001b[38;5;124mf\u001b[39m\u001b[38;5;124m\"\u001b[39m\u001b[38;5;124mIPython won\u001b[39m\u001b[38;5;124m'\u001b[39m\u001b[38;5;124mt let you open fd=\u001b[39m\u001b[38;5;132;01m{\u001b[39;00mfile\u001b[38;5;132;01m}\u001b[39;00m\u001b[38;5;124m by default \u001b[39m\u001b[38;5;124m\"\u001b[39m\n\u001b[0;32m    320\u001b[0m         \u001b[38;5;124m\"\u001b[39m\u001b[38;5;124mas it is likely to crash IPython. If you know what you are doing, \u001b[39m\u001b[38;5;124m\"\u001b[39m\n\u001b[0;32m    321\u001b[0m         \u001b[38;5;124m\"\u001b[39m\u001b[38;5;124myou can use builtins\u001b[39m\u001b[38;5;124m'\u001b[39m\u001b[38;5;124m open.\u001b[39m\u001b[38;5;124m\"\u001b[39m\n\u001b[0;32m    322\u001b[0m     )\n\u001b[1;32m--> 324\u001b[0m \u001b[38;5;28;01mreturn\u001b[39;00m \u001b[43mio_open\u001b[49m\u001b[43m(\u001b[49m\u001b[43mfile\u001b[49m\u001b[43m,\u001b[49m\u001b[43m \u001b[49m\u001b[38;5;241;43m*\u001b[39;49m\u001b[43margs\u001b[49m\u001b[43m,\u001b[49m\u001b[43m \u001b[49m\u001b[38;5;241;43m*\u001b[39;49m\u001b[38;5;241;43m*\u001b[39;49m\u001b[43mkwargs\u001b[49m\u001b[43m)\u001b[49m\n",
      "\u001b[1;31mFileNotFoundError\u001b[0m: [Errno 2] No such file or directory: 'test.txt'"
     ]
    }
   ],
   "source": [
    "fp = open('test.txt', 'r')\n",
    "if fp:\n",
    "    print('file is opened sucessfully')"
   ]
  },
  {
   "cell_type": "markdown",
   "metadata": {},
   "source": [
    "## El Bloque try y except para Manejar Excepciones\n",
    "\n",
    "Es altamente recomendable manejar excepciones. El código dudoso que puede lanzar una excepción se conoce como código riesgoso.\n",
    "\n",
    "Para manejar excepciones, necesitamos utilizar el bloque try y except. Define el código riesgoso que puede lanzar una excepción dentro del bloque try y el código de manejo correspondiente dentro del bloque except."
   ]
  },
  {
   "cell_type": "code",
   "execution_count": 7,
   "metadata": {},
   "outputs": [
    {
     "ename": "ZeroDivisionError",
     "evalue": "division by zero",
     "output_type": "error",
     "traceback": [
      "\u001b[1;31m---------------------------------------------------------------------------\u001b[0m",
      "\u001b[1;31mZeroDivisionError\u001b[0m                         Traceback (most recent call last)",
      "Cell \u001b[1;32mIn[7], line 3\u001b[0m\n\u001b[0;32m      1\u001b[0m a \u001b[38;5;241m=\u001b[39m \u001b[38;5;241m10\u001b[39m\n\u001b[0;32m      2\u001b[0m b \u001b[38;5;241m=\u001b[39m \u001b[38;5;241m0\u001b[39m \n\u001b[1;32m----> 3\u001b[0m c\u001b[38;5;241m=\u001b[39m\u001b[43ma\u001b[49m\u001b[38;5;241;43m/\u001b[39;49m\u001b[43mb\u001b[49m\n\u001b[0;32m      4\u001b[0m \u001b[38;5;28mprint\u001b[39m(\u001b[38;5;124m'\u001b[39m\u001b[38;5;124ma/b = \u001b[39m\u001b[38;5;132;01m%d\u001b[39;00m\u001b[38;5;124m'\u001b[39m \u001b[38;5;241m%\u001b[39mc)\n",
      "\u001b[1;31mZeroDivisionError\u001b[0m: division by zero"
     ]
    }
   ],
   "source": [
    "a = 10\n",
    "b = 0 \n",
    "c=a/b\n",
    "print('a/b = %d' %c) # NO SE PUEDE DIVIDIR PARA CERO, "
   ]
  },
  {
   "cell_type": "code",
   "execution_count": 8,
   "metadata": {},
   "outputs": [
    {
     "name": "stdout",
     "output_type": "stream",
     "text": [
      "No se puede dividor para cero, ingresa otro número diferente de cero\n"
     ]
    }
   ],
   "source": [
    "#CORRECCIÓN CON TRY Y EXCEPT: \n",
    "\n",
    "try:  \n",
    "    a = 1\n",
    "    b = 0 \n",
    "    c = a/b\n",
    "    print('La respuesta de la división para b: ',  c)\n",
    "except: \n",
    "    print('No se puede dividor para cero, ingresa otro número diferente de cero')"
   ]
  },
  {
   "cell_type": "markdown",
   "metadata": {},
   "source": [
    "### Capturando Excepciones Específicas\n",
    "\n",
    "Es buena práctica especificar qué excepción debe capturar o manejar el bloque except. Un bloque try puede ser seguido por varios bloques except para manejar las diferentes excepciones. Pero solo se ejecutará un bloque except cuando ocurra una excepción."
   ]
  },
  {
   "cell_type": "code",
   "execution_count": 12,
   "metadata": {},
   "outputs": [
    {
     "name": "stdout",
     "output_type": "stream",
     "text": [
      "No se puede dividir entre cero\n"
     ]
    }
   ],
   "source": [
    "try:\n",
    "    a = int(input('Ingrese valor de a: '))\n",
    "    b = int(input('Ingrese valor de b: '))\n",
    "    c = a/b\n",
    "    print('La respuesta de la división para b: ',  c)\n",
    "except ValueError:\n",
    "    print('El valor ingresado esta mal')\n",
    "except ZeroDivisionError:\n",
    "    print('No se puede dividir entre cero')\n",
    "    "
   ]
  },
  {
   "cell_type": "markdown",
   "metadata": {},
   "source": [
    "### Manejar Múltiples Excepciones con una Sola Cláusula except\n",
    "\n",
    "También podemos manejar múltiples excepciones con una única cláusula except. Para eso, podemos usar una tupla de valores para especificar múltiples excepciones dentro de la cláusula except."
   ]
  },
  {
   "cell_type": "code",
   "execution_count": 15,
   "metadata": {},
   "outputs": [
    {
     "name": "stdout",
     "output_type": "stream",
     "text": [
      "Por favor ingrese un número valido!\n"
     ]
    }
   ],
   "source": [
    "try:\n",
    "    a = int(input('Ingrese valor de a: '))\n",
    "    b = int(input('Ingrese valor de b: '))\n",
    "    c = a/b\n",
    "    print('La respuesta de la división para b: ',  c)\n",
    "except (ValueError, ZeroDivisionError):\n",
    "    print('Por favor ingrese un número valido!')"
   ]
  },
  {
   "cell_type": "markdown",
   "metadata": {},
   "source": [
    "## Uso de try con finally \n",
    "\n",
    "Python proporciona el bloque `finally`, que se usa junto con la sentencia `try`. El bloque finally se utiliza para escribir un bloque de código que debe ejecutarse, tanto si el bloque try genera un error como si no.\n",
    "\n",
    "Principalmente, el bloque finally se usa para liberar recursos externos. Este bloque proporciona una garantía de ejecución.\n",
    "\n",
    " En Python, podemos realizar dichas acciones usando una sentencia `finally` con una sentencia `try y except`.\n"
   ]
  },
  {
   "cell_type": "code",
   "execution_count": 16,
   "metadata": {},
   "outputs": [
    {
     "name": "stdout",
     "output_type": "stream",
     "text": [
      "La respuesta de la división para b:  0.6\n",
      "Dentro del bloque final\n"
     ]
    }
   ],
   "source": [
    "try:\n",
    "    a = int(input('Ingrese valor de a: '))\n",
    "    b = int(input('Ingrese valor de b: '))\n",
    "    c = a/b\n",
    "    print('La respuesta de la división para b: ',  c)\n",
    "    \n",
    "except ZeroDivisionError:\n",
    "    print('Error: No se puede dividir entre cero')\n",
    "finally:\n",
    "    print('Dentro del bloque final')\n"
   ]
  },
  {
   "cell_type": "markdown",
   "metadata": {},
   "source": [
    "## Uso de try con la cláusula else\n",
    "\n",
    "A veces, es posible que queramos ejecutar un bloque específico de código solo si el bloque try se ejecuta con éxito, es decir, sin excepciones. En ese caso, podemos usar el bloque `else` junto con el bloque `try-except`. El bloque else se ejecutará únicamente si no se produce ninguna excepción en el bloque try. Para estos casos, podemos usar la declaración opcional else con la declaración try."
   ]
  },
  {
   "cell_type": "code",
   "execution_count": 18,
   "metadata": {},
   "outputs": [
    {
     "data": {
      "text/plain": [
       "' try:\\n   El bloque try contiene código que puede generar una excepción.\\nexcept:\\n   El bloque except maneja cualquier excepción que se produzca en el bloque try.\\nelse:\\n   El bloque else se ejecuta solo si no se produce ninguna excepción en el bloque try. '"
      ]
     },
     "execution_count": 18,
     "metadata": {},
     "output_type": "execute_result"
    }
   ],
   "source": [
    "\"\"\" try:\n",
    "   El bloque try contiene código que puede generar una excepción.\n",
    "except:\n",
    "   El bloque except maneja cualquier excepción que se produzca en el bloque try.\n",
    "else:\n",
    "   El bloque else se ejecuta solo si no se produce ninguna excepción en el bloque try. \"\"\"\n",
    "   "
   ]
  },
  {
   "cell_type": "code",
   "execution_count": 20,
   "metadata": {},
   "outputs": [
    {
     "name": "stdout",
     "output_type": "stream",
     "text": [
      "Error: No se puede dividir entre cero\n"
     ]
    }
   ],
   "source": [
    "try:\n",
    "    a = int(input('Ingrese valor de a: '))\n",
    "    b = int(input('Ingrese valor de b: '))\n",
    "    c = a/b\n",
    "    print('a/b = %d' %c)\n",
    "    \n",
    "except ZeroDivisionError:\n",
    "    print('Error: No se puede dividir entre cero')\n",
    "else:\n",
    "    print('Está en el bloque else')\n"
   ]
  },
  {
   "cell_type": "markdown",
   "metadata": {},
   "source": [
    "## Generando Excepciones en Python\n",
    "\n",
    "En Python, la instrucción raise nos permite lanzar una excepción. Esto puede ser un objeto de excepción o una clase de excepción derivada de la clase Exception.\n",
    "\n",
    "Sigue estos pasos para generar una excepción:\n",
    "\n",
    "- Crea una excepción del tipo apropiado: Utiliza las excepciones integradas existentes o crea tu propia excepción según sea necesario.\n",
    "\n",
    "- Proporciona los datos adecuados al generar una excepción: Incluye información relevante sobre el error para ayudar con la depuración.\n",
    "\n",
    "- Ejecuta una instrucción "
   ]
  },
  {
   "cell_type": "code",
   "execution_count": 21,
   "metadata": {},
   "outputs": [
    {
     "name": "stdout",
     "output_type": "stream",
     "text": [
      "Case 1\n",
      "The Simple Interest is 384.0\n",
      "Case 2\n",
      "interest rate is out of range 800\n"
     ]
    }
   ],
   "source": [
    "def simple_interest(amount, year, rate):\n",
    "    try:\n",
    "        if rate > 100:\n",
    "            raise ValueError(rate)\n",
    "        interest = (amount * year * rate) / 100\n",
    "        print('The Simple Interest is', interest)\n",
    "        return interest\n",
    "    except ValueError:\n",
    "        print('interest rate is out of range', rate)\n",
    "\n",
    "print('Case 1')\n",
    "simple_interest(800, 6, 8)\n",
    "\n",
    "print('Case 2')\n",
    "simple_interest(800, 6, 800)"
   ]
  },
  {
   "cell_type": "markdown",
   "metadata": {},
   "source": [
    "## Encadenamiento de Excepciones en Python\n",
    "\n",
    "El encadenamiento de excepciones está disponible solo en Python 3. La instrucción `raise` permite usar una cláusula opcional `from`, la cual habilita el encadenamiento de excepciones. Por lo tanto, podemos implementar el encadenamiento de excepciones en Python 3 usando la cláusula `raise ... from` para encadenar excepciones."
   ]
  },
  {
   "cell_type": "code",
   "execution_count": 23,
   "metadata": {},
   "outputs": [
    {
     "ename": "ValueError",
     "evalue": "Division failed",
     "output_type": "error",
     "traceback": [
      "\u001b[1;31m---------------------------------------------------------------------------\u001b[0m",
      "\u001b[1;31mZeroDivisionError\u001b[0m                         Traceback (most recent call last)",
      "Cell \u001b[1;32mIn[23], line 4\u001b[0m\n\u001b[0;32m      3\u001b[0m b \u001b[38;5;241m=\u001b[39m \u001b[38;5;28mint\u001b[39m(\u001b[38;5;28minput\u001b[39m(\u001b[38;5;124m\"\u001b[39m\u001b[38;5;124mEnter value of b:\u001b[39m\u001b[38;5;124m\"\u001b[39m))\n\u001b[1;32m----> 4\u001b[0m c \u001b[38;5;241m=\u001b[39m \u001b[43ma\u001b[49m\u001b[38;5;241;43m/\u001b[39;49m\u001b[43mb\u001b[49m\n\u001b[0;32m      5\u001b[0m \u001b[38;5;28mprint\u001b[39m(\u001b[38;5;124m\"\u001b[39m\u001b[38;5;124mThe answer of a divide by b:\u001b[39m\u001b[38;5;124m\"\u001b[39m, c)\n",
      "\u001b[1;31mZeroDivisionError\u001b[0m: division by zero",
      "\nThe above exception was the direct cause of the following exception:\n",
      "\u001b[1;31mValueError\u001b[0m                                Traceback (most recent call last)",
      "Cell \u001b[1;32mIn[23], line 7\u001b[0m\n\u001b[0;32m      5\u001b[0m     \u001b[38;5;28mprint\u001b[39m(\u001b[38;5;124m\"\u001b[39m\u001b[38;5;124mThe answer of a divide by b:\u001b[39m\u001b[38;5;124m\"\u001b[39m, c)\n\u001b[0;32m      6\u001b[0m \u001b[38;5;28;01mexcept\u001b[39;00m \u001b[38;5;167;01mZeroDivisionError\u001b[39;00m \u001b[38;5;28;01mas\u001b[39;00m e:\n\u001b[1;32m----> 7\u001b[0m     \u001b[38;5;28;01mraise\u001b[39;00m \u001b[38;5;167;01mValueError\u001b[39;00m(\u001b[38;5;124m\"\u001b[39m\u001b[38;5;124mDivision failed\u001b[39m\u001b[38;5;124m\"\u001b[39m) \u001b[38;5;28;01mfrom\u001b[39;00m \u001b[38;5;21;01me\u001b[39;00m\n",
      "\u001b[1;31mValueError\u001b[0m: Division failed"
     ]
    }
   ],
   "source": [
    "try:\n",
    "    a = int(input(\"Enter value of a:\"))\n",
    "    b = int(input(\"Enter value of b:\"))\n",
    "    c = a/b\n",
    "    print(\"The answer of a divide by b:\", c)\n",
    "except ZeroDivisionError as e:\n",
    "    raise ValueError(\"Division failed\") from e"
   ]
  },
  {
   "cell_type": "code",
   "execution_count": null,
   "metadata": {},
   "outputs": [],
   "source": []
  },
  {
   "cell_type": "markdown",
   "metadata": {},
   "source": []
  }
 ],
 "metadata": {
  "kernelspec": {
   "display_name": "Curso_Python",
   "language": "python",
   "name": "python3"
  },
  "language_info": {
   "codemirror_mode": {
    "name": "ipython",
    "version": 3
   },
   "file_extension": ".py",
   "mimetype": "text/x-python",
   "name": "python",
   "nbconvert_exporter": "python",
   "pygments_lexer": "ipython3",
   "version": "3.11.9"
  }
 },
 "nbformat": 4,
 "nbformat_minor": 2
}
