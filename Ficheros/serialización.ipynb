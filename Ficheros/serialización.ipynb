{
 "cells": [
  {
   "cell_type": "markdown",
   "metadata": {},
   "source": [
    "-------------------------------------------------------------------------------\n",
    "## **SERIALIZACIÓN** \n",
    "------------------------------------------------------------------------------------"
   ]
  },
  {
   "cell_type": "markdown",
   "metadata": {},
   "source": [
    "### 1. Fases de la Serialización:\n",
    "\n",
    "Codificación: El objeto se transforma en una representación binaria (secuencia de bytes).\n",
    "\n",
    "Almacenamiento/Transferencia: La secuencia de bytes se guarda en un archivo o se envía a través de una red.\n",
    "\n",
    "Decodificación/Deserialización: Se reconstruye el objeto a partir de la secuencia de bytes."
   ]
  },
  {
   "cell_type": "markdown",
   "metadata": {},
   "source": [
    "### 2. Formatos de Serialización:\n",
    "____________________\n",
    "> De Binario a JSON/YAML/XML:\n",
    "\n",
    "JSON: Si queremos representar datos en un formato legible por humanos, convertimos la secuencia de bytes binaria a JSON. \n",
    "\n",
    "JSON utiliza pares clave-valor y es ampliamente utilizado para intercambio de datos entre sistemas.\n",
    "\n",
    "YAML: Similar a JSON, YAML también es legible por humanos y se utiliza en configuraciones y definiciones de flujo de trabajo.\n",
    "\n",
    "_______________________\n",
    "> Convertimos la secuencia de bytes binaria a YAML.\n",
    "\n",
    "XML: Si necesitamos estructurar datos con etiquetas y atributos, convertimos la secuencia de bytes binaria a \n",
    "XML. XML es  común en integración de sistemas y representación de datos estructurado"
   ]
  },
  {
   "cell_type": "markdown",
   "metadata": {},
   "source": [
    "# **Ejercicio de: how to handle JSON in Python**"
   ]
  },
  {
   "cell_type": "code",
   "execution_count": 1,
   "metadata": {},
   "outputs": [],
   "source": [
    "# Sintaxis \n",
    "example = '{\"name\": \"Jake\", \"programming languages\": [\"Python\", \"Kotlin\"]}'"
   ]
  },
  {
   "cell_type": "code",
   "execution_count": 2,
   "metadata": {},
   "outputs": [
    {
     "data": {
      "text/plain": [
       "str"
      ]
     },
     "execution_count": 2,
     "metadata": {},
     "output_type": "execute_result"
    }
   ],
   "source": [
    "json_data = '[{\"id\":\"NC04\",\"name\":\"City Centre\"},{\"id\":\"NC66\",\"name\":\"Cultural Quarter\"},{\"id\":\"NC67\",\"name\":\"Riverside\"},{\"id\":\"NC68\",\"name\":\"Clarendon Park\"},{\"id\":\"NE09\",\"name\":\"Belgrave South\"},{\"id\":\"NE10\",\"name\":\"Belgrave North\"}]'\n",
    "type(json_data)"
   ]
  },
  {
   "cell_type": "markdown",
   "metadata": {},
   "source": [
    "### **Conversión de un JSON a Python**\n"
   ]
  },
  {
   "cell_type": "code",
   "execution_count": 3,
   "metadata": {},
   "outputs": [
    {
     "name": "stdout",
     "output_type": "stream",
     "text": [
      "[{'id': 'NC04', 'name': 'City Centre'}, {'id': 'NC66', 'name': 'Cultural Quarter'}, {'id': 'NC67', 'name': 'Riverside'}, {'id': 'NC68', 'name': 'Clarendon Park'}, {'id': 'NE09', 'name': 'Belgrave South'}, {'id': 'NE10', 'name': 'Belgrave North'}]\n",
      "-----------------------------------------------------\n",
      "<class 'list'>\n",
      "-----------------------------------------------------\n",
      "{'id': 'NC04', 'name': 'City Centre'}\n"
     ]
    }
   ],
   "source": [
    "# Importo módulo json\n",
    "import json\n",
    "# Paso el json data \n",
    "neighbourhood = json.loads(json_data)\n",
    "# iMPRIMO EL RESULTADO - list\n",
    "print(neighbourhood)\n",
    "print(\"-----------------------------------------------------\")\n",
    "# Tipo de variable\n",
    "print(type(neighbourhood))\n",
    "print(\"-----------------------------------------------------\")\n",
    "# Accdo añ primer elemnto\n",
    "print(neighbourhood[0])"
   ]
  },
  {
   "cell_type": "markdown",
   "metadata": {},
   "source": [
    "### **Conversión de data Python a JSON string**"
   ]
  },
  {
   "cell_type": "code",
   "execution_count": 4,
   "metadata": {},
   "outputs": [
    {
     "name": "stdout",
     "output_type": "stream",
     "text": [
      "<class 'str'>\n",
      "-----------------------------------------------------\n",
      "[{\"id\": \"NC04\", \"name\": \"City Centre\"}, {\"id\": \"NC66\", \"name\": \"Cultural Quarter\"}, {\"id\": \"NC67\", \"name\": \"Riverside\"}, {\"id\": \"NC68\", \"name\": \"Clarendon Park\"}, {\"id\": \"NE09\", \"name\": \"Belgrave South\"}, {\"id\": \"NE10\", \"name\": \"Belgrave North\"}]\n"
     ]
    }
   ],
   "source": [
    "import json\n",
    "# Paso la dta de Python a dumps method\n",
    "neighbourhood_list = json.dumps(neighbourhood)\n",
    "\n",
    "print(type(neighbourhood_list))\n",
    "print(\"-----------------------------------------------------\")\n",
    "# Printing the result - string\n",
    "print(neighbourhood_list)"
   ]
  },
  {
   "cell_type": "markdown",
   "metadata": {},
   "source": [
    "## **Conversión de diferentes objetos de Python a JSON strings**\n",
    "Para esta conversión se usa: \n",
    "* Dictionary\n",
    "* List\n",
    "* String\n",
    "* Integer\n",
    "\n",
    "> **Nota**: Para esta conversión se necesita usar `dumps()`.\n"
   ]
  },
  {
   "cell_type": "code",
   "execution_count": 5,
   "metadata": {},
   "outputs": [],
   "source": [
    "dictt = {\"name\": \"Don Ramon\", \"age\": 48}\n",
    "listt = [\"Don\", \"Ramon\", 48]\n",
    "strr = \"Don Ramon\"\n",
    "intt = 48"
   ]
  },
  {
   "cell_type": "markdown",
   "metadata": {},
   "source": [
    "Introducimos estos valores a la función `dumps()` y luego lo convertimos a una cadena JSON."
   ]
  },
  {
   "cell_type": "code",
   "execution_count": 6,
   "metadata": {},
   "outputs": [
    {
     "name": "stdout",
     "output_type": "stream",
     "text": [
      "{\"name\": \"Don Ramon\", \"age\": 48}\n",
      "<class 'str'>\n",
      "-----------------------------------------------------\n",
      "[\"Don\", \"Ramon\", 48]\n",
      "<class 'str'>\n",
      "-----------------------------------------------------\n",
      "\"Don Ramon\"\n",
      "<class 'str'>\n",
      "-----------------------------------------------------\n",
      "48\n",
      "<class 'str'>\n",
      "-----------------------------------------------------\n"
     ]
    }
   ],
   "source": [
    "# Diccinario\n",
    "print(json.dumps(dictt))\n",
    "\n",
    "print(type(json.dumps(dictt)))\n",
    "print(\"-----------------------------------------------------\")\n",
    "\n",
    "# Lista\n",
    "print(json.dumps(listt))\n",
    "\n",
    "print(type(json.dumps(listt)))\n",
    "print(\"-----------------------------------------------------\")\n",
    "\n",
    "# String\n",
    "print(json.dumps(strr))\n",
    "\n",
    "print(type(json.dumps(strr)))\n",
    "print(\"-----------------------------------------------------\")\n",
    "\n",
    "# Integer\n",
    "print(json.dumps(intt))\n",
    "\n",
    "print(type(json.dumps(intt)))\n",
    "print(\"-----------------------------------------------------\")"
   ]
  },
  {
   "cell_type": "markdown",
   "metadata": {},
   "source": [
    "### Como leer el formato **JSON**?"
   ]
  },
  {
   "cell_type": "markdown",
   "metadata": {},
   "source": [
    "Usar los métodos`loads()` y `pandas.DataFrame()` "
   ]
  },
  {
   "cell_type": "code",
   "execution_count": 9,
   "metadata": {},
   "outputs": [
    {
     "data": {
      "text/html": [
       "<div>\n",
       "<style scoped>\n",
       "    .dataframe tbody tr th:only-of-type {\n",
       "        vertical-align: middle;\n",
       "    }\n",
       "\n",
       "    .dataframe tbody tr th {\n",
       "        vertical-align: top;\n",
       "    }\n",
       "\n",
       "    .dataframe thead th {\n",
       "        text-align: right;\n",
       "    }\n",
       "</style>\n",
       "<table border=\"1\" class=\"dataframe\">\n",
       "  <thead>\n",
       "    <tr style=\"text-align: right;\">\n",
       "      <th></th>\n",
       "      <th>id</th>\n",
       "      <th>name</th>\n",
       "    </tr>\n",
       "  </thead>\n",
       "  <tbody>\n",
       "    <tr>\n",
       "      <th>0</th>\n",
       "      <td>NC04</td>\n",
       "      <td>City Centre</td>\n",
       "    </tr>\n",
       "    <tr>\n",
       "      <th>1</th>\n",
       "      <td>NC66</td>\n",
       "      <td>Cultural Quarter</td>\n",
       "    </tr>\n",
       "    <tr>\n",
       "      <th>2</th>\n",
       "      <td>NC67</td>\n",
       "      <td>Riverside</td>\n",
       "    </tr>\n",
       "    <tr>\n",
       "      <th>3</th>\n",
       "      <td>NC68</td>\n",
       "      <td>Clarendon Park</td>\n",
       "    </tr>\n",
       "    <tr>\n",
       "      <th>4</th>\n",
       "      <td>NE09</td>\n",
       "      <td>Belgrave South</td>\n",
       "    </tr>\n",
       "    <tr>\n",
       "      <th>5</th>\n",
       "      <td>NE10</td>\n",
       "      <td>Belgrave North</td>\n",
       "    </tr>\n",
       "  </tbody>\n",
       "</table>\n",
       "</div>"
      ],
      "text/plain": [
       "     id              name\n",
       "0  NC04       City Centre\n",
       "1  NC66  Cultural Quarter\n",
       "2  NC67         Riverside\n",
       "3  NC68    Clarendon Park\n",
       "4  NE09    Belgrave South\n",
       "5  NE10    Belgrave North"
      ]
     },
     "execution_count": 9,
     "metadata": {},
     "output_type": "execute_result"
    }
   ],
   "source": [
    "import json\n",
    "import pandas as pd\n",
    "\n",
    "# Uso el método `loads()`  \n",
    "df = json.loads(json_data)\n",
    "# Paso de JSON a DataFrame\n",
    "df = pd.DataFrame(df)\n",
    "df"
   ]
  },
  {
   "cell_type": "code",
   "execution_count": 11,
   "metadata": {},
   "outputs": [
    {
     "name": "stdout",
     "output_type": "stream",
     "text": [
      "<class 'pandas.core.frame.DataFrame'>\n"
     ]
    }
   ],
   "source": [
    "print(type(df))"
   ]
  },
  {
   "cell_type": "code",
   "execution_count": null,
   "metadata": {},
   "outputs": [],
   "source": []
  },
  {
   "cell_type": "code",
   "execution_count": null,
   "metadata": {},
   "outputs": [],
   "source": []
  }
 ],
 "metadata": {
  "kernelspec": {
   "display_name": "Curso_Python",
   "language": "python",
   "name": "python3"
  },
  "language_info": {
   "codemirror_mode": {
    "name": "ipython",
    "version": 3
   },
   "file_extension": ".py",
   "mimetype": "text/x-python",
   "name": "python",
   "nbconvert_exporter": "python",
   "pygments_lexer": "ipython3",
   "version": "3.11.9"
  }
 },
 "nbformat": 4,
 "nbformat_minor": 2
}
