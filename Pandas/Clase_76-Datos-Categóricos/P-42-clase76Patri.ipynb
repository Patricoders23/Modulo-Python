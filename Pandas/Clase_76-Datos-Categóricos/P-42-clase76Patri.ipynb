{
 "cells": [
  {
   "cell_type": "markdown",
   "metadata": {},
   "source": [
    "---------------\n",
    "# Ejercicio 6. Dados los siguientes datos:\n",
    "\n",
    "-------------------------------------------------------"
   ]
  },
  {
   "cell_type": "code",
   "execution_count": 1,
   "metadata": {},
   "outputs": [],
   "source": [
    "encoded_labels = [\n",
    "    0, 1, 2, 3, 0, 4, 5, 6, 2, 1, 3, 0, 5, 4, 6, 1, 2, 5, 4, 3,\n",
    "    7, 8, 9, 10, 7, 11, 12, 13, 9, 8, 10, 7, 12, 11, 13, 8, 9, 12, 11, 10,\n",
    "    14, 15, 16, 17, 18, 19, 20, 21, 22, 23, 24, 25, 26, 27, 28, 29, 30, 31, 32, 33\n",
    "]\n",
    "\n",
    "animal_labels = [\n",
    "    'cat', 'dog', 'bird', 'fish', 'lion', 'tiger', 'bear', 'elephant', \n",
    "    'giraffe', 'zebra', 'kangaroo', 'koala', 'panda', 'monkey',\n",
    "    'shark', 'whale', 'dolphin', 'penguin', 'ostrich', 'crocodile', \n",
    "    'alligator', 'hippopotamus', 'rhinoceros', 'cheetah', 'leopard', \n",
    "    'jaguar', 'wolf', 'fox', 'rabbit', 'squirrel', 'bat', 'owl', \n",
    "    'hawk', 'eagle'\n",
    "]"
   ]
  },
  {
   "cell_type": "markdown",
   "metadata": {},
   "source": [
    "1- Recrear las etiquetas originales a partir de los índices codificados.  \n",
    "2- Contar la frecuencia de cada etiqueta de animal.  \n",
    "3- Identificar las etiquetas de animales únicas presentes en los datos.  \n",
    "4- Determinar el animal más frecuente y el menos frecuente.  \n",
    "5- Agrupar los animales y contar la frecuencia por grupos (mamíferos, aves, reptiles, etc.).  \n",
    "6- Identificar la posición de las primeras y últimas ocurrencias de cada animal.  \n",
    "7- Generar un resumen estadístico de las frecuencias de los animales (media, mediana, desviación estándar).  \n",
    "8- Filtrar y mostrar solo los animales con una frecuencia mayor que 2.  \n",
    "9- Encontrar y mostrar las etiquetas de animales que aparecen solo una vez.  \n",
    "10- Calcular el porcentaje de apariciones de cada animal respecto al total.  \n",
    "11- Ordenar las etiquetas de animales por frecuencia en orden descendente.  \n",
    "12- Generar un DataFrame que muestre la frecuencia acumulativa de las etiquetas."
   ]
  },
  {
   "cell_type": "code",
   "execution_count": 2,
   "metadata": {},
   "outputs": [
    {
     "name": "stdout",
     "output_type": "stream",
     "text": [
      "['cat', 'dog', 'bird', 'fish', 'cat', 'lion', 'tiger', 'bear', 'bird', 'dog', 'fish', 'cat', 'tiger', 'lion', 'bear', 'dog', 'bird', 'tiger', 'lion', 'fish', 'elephant', 'giraffe', 'zebra', 'kangaroo', 'elephant', 'koala', 'panda', 'monkey', 'zebra', 'giraffe', 'kangaroo', 'elephant', 'panda', 'koala', 'monkey', 'giraffe', 'zebra', 'panda', 'koala', 'kangaroo', 'shark', 'whale', 'dolphin', 'penguin', 'ostrich', 'crocodile', 'alligator', 'hippopotamus', 'rhinoceros', 'cheetah', 'leopard', 'jaguar', 'wolf', 'fox', 'rabbit', 'squirrel', 'bat', 'owl', 'hawk', 'eagle']\n"
     ]
    }
   ],
   "source": [
    "original_labels = [animal_labels[i] for i in encoded_labels]\n",
    "print(original_labels)"
   ]
  },
  {
   "cell_type": "code",
   "execution_count": 3,
   "metadata": {},
   "outputs": [
    {
     "name": "stdout",
     "output_type": "stream",
     "text": [
      "Counter({'cat': 3, 'dog': 3, 'bird': 3, 'fish': 3, 'lion': 3, 'tiger': 3, 'elephant': 3, 'giraffe': 3, 'zebra': 3, 'kangaroo': 3, 'koala': 3, 'panda': 3, 'bear': 2, 'monkey': 2, 'shark': 1, 'whale': 1, 'dolphin': 1, 'penguin': 1, 'ostrich': 1, 'crocodile': 1, 'alligator': 1, 'hippopotamus': 1, 'rhinoceros': 1, 'cheetah': 1, 'leopard': 1, 'jaguar': 1, 'wolf': 1, 'fox': 1, 'rabbit': 1, 'squirrel': 1, 'bat': 1, 'owl': 1, 'hawk': 1, 'eagle': 1})\n"
     ]
    }
   ],
   "source": [
    "from collections import Counter\n",
    "\n",
    "label_counts = Counter(original_labels)\n",
    "print(label_counts)"
   ]
  },
  {
   "cell_type": "code",
   "execution_count": 4,
   "metadata": {},
   "outputs": [
    {
     "name": "stdout",
     "output_type": "stream",
     "text": [
      "{'dolphin', 'whale', 'monkey', 'koala', 'jaguar', 'zebra', 'eagle', 'penguin', 'crocodile', 'alligator', 'bear', 'fox', 'giraffe', 'hippopotamus', 'cat', 'wolf', 'owl', 'cheetah', 'kangaroo', 'hawk', 'ostrich', 'bat', 'rabbit', 'elephant', 'shark', 'leopard', 'lion', 'panda', 'tiger', 'rhinoceros', 'dog', 'squirrel', 'bird', 'fish'}\n"
     ]
    }
   ],
   "source": [
    "unique_labels = set(original_labels)\n",
    "print(unique_labels)"
   ]
  },
  {
   "cell_type": "code",
   "execution_count": 5,
   "metadata": {},
   "outputs": [
    {
     "name": "stdout",
     "output_type": "stream",
     "text": [
      "Most frequent label: cat\n",
      "Least frequent label: eagle\n"
     ]
    }
   ],
   "source": [
    "most_frequent_label = label_counts.most_common(1)[0][0]\n",
    "least_frequent_label = label_counts.most_common()[-1][0]\n",
    "print(f\"Most frequent label: {most_frequent_label}\")\n",
    "print(f\"Least frequent label: {least_frequent_label}\")"
   ]
  },
  {
   "cell_type": "code",
   "execution_count": 6,
   "metadata": {},
   "outputs": [
    {
     "name": "stdout",
     "output_type": "stream",
     "text": [
      "{'ammals': 38, 'birds': 7, 'eptiles': 4, 'fish': 5}\n"
     ]
    }
   ],
   "source": [
    "animal_groups = {\n",
    "    'ammals': ['cat', 'dog', 'lion', 'tiger', 'bear', 'elephant', 'giraffe', 'zebra', 'kangaroo', 'koala', 'panda', 'onkey', 'cheetah', 'leopard', 'jaguar', 'wolf', 'fox', 'rabbit', 'quirrel'],\n",
    "    'birds': ['bird', 'ostrich', 'owl', 'hawk', 'eagle'],\n",
    "    'eptiles': ['crocodile', 'alligator', 'hippopotamus', 'rhinoceros'],\n",
    "    'fish': ['fish', 'hark', 'whale', 'dolphin']\n",
    "}\n",
    "\n",
    "group_counts = {}\n",
    "for group, animals in animal_groups.items():\n",
    "    count = sum(1 for label in original_labels if label in animals)\n",
    "    group_counts[group] = count\n",
    "print(group_counts)"
   ]
  },
  {
   "cell_type": "code",
   "execution_count": 7,
   "metadata": {},
   "outputs": [
    {
     "name": "stdout",
     "output_type": "stream",
     "text": [
      "{'dolphin': 42, 'whale': 41, 'monkey': 27, 'koala': 25, 'jaguar': 51, 'zebra': 22, 'eagle': 59, 'penguin': 43, 'crocodile': 45, 'alligator': 46, 'bear': 7, 'fox': 53, 'giraffe': 21, 'hippopotamus': 47, 'cat': 0, 'wolf': 52, 'owl': 57, 'cheetah': 49, 'kangaroo': 23, 'hawk': 58, 'ostrich': 44, 'bat': 56, 'rabbit': 54, 'elephant': 20, 'shark': 40, 'leopard': 50, 'lion': 5, 'panda': 26, 'tiger': 6, 'rhinoceros': 48, 'dog': 1, 'squirrel': 55, 'bird': 2, 'fish': 3}\n",
      "{'dolphin': 42, 'whale': 41, 'monkey': 34, 'koala': 38, 'jaguar': 51, 'zebra': 36, 'eagle': 59, 'penguin': 43, 'crocodile': 45, 'alligator': 46, 'bear': 14, 'fox': 53, 'giraffe': 35, 'hippopotamus': 47, 'cat': 11, 'wolf': 52, 'owl': 57, 'cheetah': 49, 'kangaroo': 39, 'hawk': 58, 'ostrich': 44, 'bat': 56, 'rabbit': 54, 'elephant': 31, 'shark': 40, 'leopard': 50, 'lion': 18, 'panda': 37, 'tiger': 17, 'rhinoceros': 48, 'dog': 15, 'squirrel': 55, 'bird': 16, 'fish': 19}\n"
     ]
    }
   ],
   "source": [
    "first_occurrences = {}\n",
    "last_occurrences = {}\n",
    "for label in unique_labels:\n",
    "    first_occurrence = original_labels.index(label)\n",
    "    last_occurrence = len(original_labels) - 1 - original_labels[::-1].index(label)\n",
    "    first_occurrences[label] = first_occurrence\n",
    "    last_occurrences[label] = last_occurrence\n",
    "print(first_occurrences)\n",
    "print(last_occurrences)"
   ]
  },
  {
   "cell_type": "code",
   "execution_count": 8,
   "metadata": {},
   "outputs": [
    {
     "name": "stdout",
     "output_type": "stream",
     "text": [
      "Mean frequency: 1.76\n",
      "Median frequency: 1.00\n",
      "Standard deviation of frequency: 0.94\n"
     ]
    }
   ],
   "source": [
    "import numpy as np\n",
    "\n",
    "frequencies = list(label_counts.values())\n",
    "mean_freq = np.mean(frequencies)\n",
    "median_freq = np.median(frequencies)\n",
    "std_dev_freq = np.std(frequencies)\n",
    "print(f\"Mean frequency: {mean_freq:.2f}\")\n",
    "print(f\"Median frequency: {median_freq:.2f}\")\n",
    "print(f\"Standard deviation of frequency: {std_dev_freq:.2f}\")"
   ]
  },
  {
   "cell_type": "code",
   "execution_count": 9,
   "metadata": {},
   "outputs": [
    {
     "name": "stdout",
     "output_type": "stream",
     "text": [
      "{'cat': 3, 'dog': 3, 'bird': 3, 'fish': 3, 'lion': 3, 'tiger': 3, 'elephant': 3, 'giraffe': 3, 'zebra': 3, 'kangaroo': 3, 'koala': 3, 'panda': 3}\n"
     ]
    }
   ],
   "source": [
    "freq_gt_2 = {label: count for label, count in label_counts.items() if count > 2}\n",
    "print(freq_gt_2)"
   ]
  },
  {
   "cell_type": "code",
   "execution_count": 10,
   "metadata": {},
   "outputs": [
    {
     "name": "stdout",
     "output_type": "stream",
     "text": [
      "{'shark': 1, 'whale': 1, 'dolphin': 1, 'penguin': 1, 'ostrich': 1, 'crocodile': 1, 'alligator': 1, 'hippopotamus': 1, 'rhinoceros': 1, 'cheetah': 1, 'leopard': 1, 'jaguar': 1, 'wolf': 1, 'fox': 1, 'rabbit': 1, 'squirrel': 1, 'bat': 1, 'owl': 1, 'hawk': 1, 'eagle': 1}\n"
     ]
    }
   ],
   "source": [
    "freq_eq_1 = {label: count for label, count in label_counts.items() if count == 1}\n",
    "print(freq_eq_1)"
   ]
  },
  {
   "cell_type": "code",
   "execution_count": 11,
   "metadata": {},
   "outputs": [
    {
     "name": "stdout",
     "output_type": "stream",
     "text": [
      "{'cat': 5.0, 'dog': 5.0, 'bird': 5.0, 'fish': 5.0, 'lion': 5.0, 'tiger': 5.0, 'bear': 3.3333333333333335, 'elephant': 5.0, 'giraffe': 5.0, 'zebra': 5.0, 'kangaroo': 5.0, 'koala': 5.0, 'panda': 5.0, 'monkey': 3.3333333333333335, 'shark': 1.6666666666666667, 'whale': 1.6666666666666667, 'dolphin': 1.6666666666666667, 'penguin': 1.6666666666666667, 'ostrich': 1.6666666666666667, 'crocodile': 1.6666666666666667, 'alligator': 1.6666666666666667, 'hippopotamus': 1.6666666666666667, 'rhinoceros': 1.6666666666666667, 'cheetah': 1.6666666666666667, 'leopard': 1.6666666666666667, 'jaguar': 1.6666666666666667, 'wolf': 1.6666666666666667, 'fox': 1.6666666666666667, 'rabbit': 1.6666666666666667, 'squirrel': 1.6666666666666667, 'bat': 1.6666666666666667, 'owl': 1.6666666666666667, 'hawk': 1.6666666666666667, 'eagle': 1.6666666666666667}\n"
     ]
    }
   ],
   "source": [
    "total_labels = len(original_labels)\n",
    "percentages = {label: (count / total_labels) * 100 for label, count in label_counts.items()}\n",
    "print(percentages)\n"
   ]
  },
  {
   "cell_type": "code",
   "execution_count": 12,
   "metadata": {},
   "outputs": [
    {
     "ename": "SyntaxError",
     "evalue": "incomplete input (3879161042.py, line 1)",
     "output_type": "error",
     "traceback": [
      "\u001b[1;36m  Cell \u001b[1;32mIn[12], line 1\u001b[1;36m\u001b[0m\n\u001b[1;33m    sorted_labels = sorted(label_counts.items(), key=lambda x: x[1], reverse=True\u001b[0m\n\u001b[1;37m                                                                                 ^\u001b[0m\n\u001b[1;31mSyntaxError\u001b[0m\u001b[1;31m:\u001b[0m incomplete input\n"
     ]
    }
   ],
   "source": [
    "sorted_labels = sorted(label_counts.items(), key=lambda x: x[1], reverse=True"
   ]
  },
  {
   "cell_type": "code",
   "execution_count": null,
   "metadata": {},
   "outputs": [],
   "source": []
  },
  {
   "cell_type": "code",
   "execution_count": null,
   "metadata": {},
   "outputs": [],
   "source": []
  }
 ],
 "metadata": {
  "kernelspec": {
   "display_name": "Curso_Python",
   "language": "python",
   "name": "python3"
  },
  "language_info": {
   "codemirror_mode": {
    "name": "ipython",
    "version": 3
   },
   "file_extension": ".py",
   "mimetype": "text/x-python",
   "name": "python",
   "nbconvert_exporter": "python",
   "pygments_lexer": "ipython3",
   "version": "3.11.9"
  }
 },
 "nbformat": 4,
 "nbformat_minor": 2
}
