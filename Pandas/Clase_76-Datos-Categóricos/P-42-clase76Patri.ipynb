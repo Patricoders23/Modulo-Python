{
 "cells": [
  {
   "cell_type": "markdown",
   "metadata": {},
   "source": [
    "---------------\n",
    "# Ejercicio 6. Dados los siguientes datos:\n",
    "\n",
    "-------------------------------------------------------"
   ]
  },
  {
   "cell_type": "code",
   "execution_count": 309,
   "metadata": {},
   "outputs": [],
   "source": [
    "encoded_labels = [\n",
    "    0, 1, 2, 3, 0, 4, 5, 6, 2, 1, 3, 0, 5, 4, 6, 1, 2, 5, 4, 3,\n",
    "    7, 8, 9, 10, 7, 11, 12, 13, 9, 8, 10, 7, 12, 11, 13, 8, 9, 12, 11, 10,\n",
    "    14, 15, 16, 17, 18, 19, 20, 21, 22, 23, 24, 25, 26, 27, 28, 29, 30, 31, 32, 33\n",
    "]\n",
    "\n",
    "animal_labels = [\n",
    "    'cat', 'dog', 'bird', 'fish', 'lion', 'tiger', 'bear', 'elephant', \n",
    "    'giraffe', 'zebra', 'kangaroo', 'koala', 'panda', 'monkey',\n",
    "    'shark', 'whale', 'dolphin', 'penguin', 'ostrich', 'crocodile', \n",
    "    'alligator', 'hippopotamus', 'rhinoceros', 'cheetah', 'leopard', \n",
    "    'jaguar', 'wolf', 'fox', 'rabbit', 'squirrel', 'bat', 'owl', \n",
    "    'hawk', 'eagle'\n",
    "]"
   ]
  },
  {
   "cell_type": "markdown",
   "metadata": {},
   "source": [
    "1- Recrear las etiquetas originales a partir de los índices codificados.  \n",
    "2- Contar la frecuencia de cada etiqueta de animal.  \n",
    "3- Identificar las etiquetas de animales únicas presentes en los datos.  \n",
    "4- Determinar el animal más frecuente y el menos frecuente.  \n",
    "5- Agrupar los animales y contar la frecuencia por grupos (mamíferos, aves, reptiles, etc.).  \n",
    "6- Identificar la posición de las primeras y últimas ocurrencias de cada animal.  \n",
    "7- Generar un resumen estadístico de las frecuencias de los animales (media, mediana, desviación estándar).  \n",
    "8- Filtrar y mostrar solo los animales con una frecuencia mayor que 2.  \n",
    "9- Encontrar y mostrar las etiquetas de animales que aparecen solo una vez.  \n",
    "10- Calcular el porcentaje de apariciones de cada animal respecto al total.  \n",
    "11- Ordenar las etiquetas de animales por frecuencia en orden descendente.  \n",
    "12- Generar un DataFrame que muestre la frecuencia acumulativa de las etiquetas."
   ]
  },
  {
   "cell_type": "code",
   "execution_count": 310,
   "metadata": {},
   "outputs": [
    {
     "name": "stdout",
     "output_type": "stream",
     "text": [
      "Valores - índice: \n",
      " 0      0\n",
      "1      1\n",
      "2      2\n",
      "3      3\n",
      "4      0\n",
      "5      4\n",
      "6      5\n",
      "7      6\n",
      "8      2\n",
      "9      1\n",
      "10     3\n",
      "11     0\n",
      "12     5\n",
      "13     4\n",
      "14     6\n",
      "15     1\n",
      "16     2\n",
      "17     5\n",
      "18     4\n",
      "19     3\n",
      "20     7\n",
      "21     8\n",
      "22     9\n",
      "23    10\n",
      "24     7\n",
      "25    11\n",
      "26    12\n",
      "27    13\n",
      "28     9\n",
      "29     8\n",
      "30    10\n",
      "31     7\n",
      "32    12\n",
      "33    11\n",
      "34    13\n",
      "35     8\n",
      "36     9\n",
      "37    12\n",
      "38    11\n",
      "39    10\n",
      "40    14\n",
      "41    15\n",
      "42    16\n",
      "43    17\n",
      "44    18\n",
      "45    19\n",
      "46    20\n",
      "47    21\n",
      "48    22\n",
      "49    23\n",
      "50    24\n",
      "51    25\n",
      "52    26\n",
      "53    27\n",
      "54    28\n",
      "55    29\n",
      "56    30\n",
      "57    31\n",
      "58    32\n",
      "59    33\n",
      "dtype: int64\n"
     ]
    }
   ],
   "source": [
    "import pandas as pd \n",
    "\n",
    "values = pd.Series(encoded_labels)\n",
    "dim = pd.Series(animal_labels)\n",
    "\n",
    "print(f'Valores - índice: \\n', values)"
   ]
  },
  {
   "cell_type": "code",
   "execution_count": 311,
   "metadata": {},
   "outputs": [
    {
     "name": "stdout",
     "output_type": "stream",
     "text": [
      "\n",
      "Dimensiones: \n",
      " 0              cat\n",
      "1              dog\n",
      "2             bird\n",
      "3             fish\n",
      "4             lion\n",
      "5            tiger\n",
      "6             bear\n",
      "7         elephant\n",
      "8          giraffe\n",
      "9            zebra\n",
      "10        kangaroo\n",
      "11           koala\n",
      "12           panda\n",
      "13          monkey\n",
      "14           shark\n",
      "15           whale\n",
      "16         dolphin\n",
      "17         penguin\n",
      "18         ostrich\n",
      "19       crocodile\n",
      "20       alligator\n",
      "21    hippopotamus\n",
      "22      rhinoceros\n",
      "23         cheetah\n",
      "24         leopard\n",
      "25          jaguar\n",
      "26            wolf\n",
      "27             fox\n",
      "28          rabbit\n",
      "29        squirrel\n",
      "30             bat\n",
      "31             owl\n",
      "32            hawk\n",
      "33           eagle\n",
      "dtype: object\n"
     ]
    }
   ],
   "source": [
    "print(f'\\nDimensiones: \\n', dim)"
   ]
  },
  {
   "cell_type": "code",
   "execution_count": 312,
   "metadata": {},
   "outputs": [
    {
     "data": {
      "text/plain": [
       "0              cat\n",
       "1              dog\n",
       "2             bird\n",
       "3             fish\n",
       "0              cat\n",
       "4             lion\n",
       "5            tiger\n",
       "6             bear\n",
       "2             bird\n",
       "1              dog\n",
       "3             fish\n",
       "0              cat\n",
       "5            tiger\n",
       "4             lion\n",
       "6             bear\n",
       "1              dog\n",
       "2             bird\n",
       "5            tiger\n",
       "4             lion\n",
       "3             fish\n",
       "7         elephant\n",
       "8          giraffe\n",
       "9            zebra\n",
       "10        kangaroo\n",
       "7         elephant\n",
       "11           koala\n",
       "12           panda\n",
       "13          monkey\n",
       "9            zebra\n",
       "8          giraffe\n",
       "10        kangaroo\n",
       "7         elephant\n",
       "12           panda\n",
       "11           koala\n",
       "13          monkey\n",
       "8          giraffe\n",
       "9            zebra\n",
       "12           panda\n",
       "11           koala\n",
       "10        kangaroo\n",
       "14           shark\n",
       "15           whale\n",
       "16         dolphin\n",
       "17         penguin\n",
       "18         ostrich\n",
       "19       crocodile\n",
       "20       alligator\n",
       "21    hippopotamus\n",
       "22      rhinoceros\n",
       "23         cheetah\n",
       "24         leopard\n",
       "25          jaguar\n",
       "26            wolf\n",
       "27             fox\n",
       "28          rabbit\n",
       "29        squirrel\n",
       "30             bat\n",
       "31             owl\n",
       "32            hawk\n",
       "33           eagle\n",
       "dtype: object"
      ]
     },
     "execution_count": 312,
     "metadata": {},
     "output_type": "execute_result"
    }
   ],
   "source": [
    "# 1- Recrear las etiquetas originales a partir de los índices codificados.  \n",
    "\n",
    "df = dim.take(values) #restauro la serie original de cadenas \n",
    "df"
   ]
  },
  {
   "cell_type": "code",
   "execution_count": 313,
   "metadata": {},
   "outputs": [
    {
     "data": {
      "text/plain": [
       "cat             3\n",
       "elephant        3\n",
       "dog             3\n",
       "panda           3\n",
       "kangaroo        3\n",
       "zebra           3\n",
       "giraffe         3\n",
       "koala           3\n",
       "tiger           3\n",
       "lion            3\n",
       "fish            3\n",
       "bird            3\n",
       "bear            2\n",
       "monkey          2\n",
       "leopard         1\n",
       "hawk            1\n",
       "owl             1\n",
       "bat             1\n",
       "squirrel        1\n",
       "rabbit          1\n",
       "fox             1\n",
       "wolf            1\n",
       "jaguar          1\n",
       "penguin         1\n",
       "cheetah         1\n",
       "rhinoceros      1\n",
       "hippopotamus    1\n",
       "alligator       1\n",
       "crocodile       1\n",
       "ostrich         1\n",
       "dolphin         1\n",
       "whale           1\n",
       "shark           1\n",
       "eagle           1\n",
       "Name: count, dtype: int64"
      ]
     },
     "execution_count": 313,
     "metadata": {},
     "output_type": "execute_result"
    }
   ],
   "source": [
    "  # 2- Contar la frecuencia de cada etiqueta de animal.  \n",
    "  \n",
    "df.value_counts()"
   ]
  },
  {
   "cell_type": "code",
   "execution_count": 314,
   "metadata": {},
   "outputs": [
    {
     "data": {
      "text/plain": [
       "(60,)"
      ]
     },
     "execution_count": 314,
     "metadata": {},
     "output_type": "execute_result"
    }
   ],
   "source": [
    "df.shape"
   ]
  },
  {
   "cell_type": "code",
   "execution_count": 315,
   "metadata": {},
   "outputs": [
    {
     "data": {
      "text/plain": [
       "{'alligator',\n",
       " 'bat',\n",
       " 'bear',\n",
       " 'bird',\n",
       " 'cat',\n",
       " 'cheetah',\n",
       " 'crocodile',\n",
       " 'dog',\n",
       " 'dolphin',\n",
       " 'eagle',\n",
       " 'elephant',\n",
       " 'fish',\n",
       " 'fox',\n",
       " 'giraffe',\n",
       " 'hawk',\n",
       " 'hippopotamus',\n",
       " 'jaguar',\n",
       " 'kangaroo',\n",
       " 'koala',\n",
       " 'leopard',\n",
       " 'lion',\n",
       " 'monkey',\n",
       " 'ostrich',\n",
       " 'owl',\n",
       " 'panda',\n",
       " 'penguin',\n",
       " 'rabbit',\n",
       " 'rhinoceros',\n",
       " 'shark',\n",
       " 'squirrel',\n",
       " 'tiger',\n",
       " 'whale',\n",
       " 'wolf',\n",
       " 'zebra'}"
      ]
     },
     "execution_count": 315,
     "metadata": {},
     "output_type": "execute_result"
    }
   ],
   "source": [
    "# 3. Identificar las etiquetas de animales únicas presentes en los datos. \n",
    " \n",
    "set(df)"
   ]
  },
  {
   "cell_type": "code",
   "execution_count": 316,
   "metadata": {},
   "outputs": [
    {
     "name": "stdout",
     "output_type": "stream",
     "text": [
      "El animal más frecuente es: cat\n",
      "El animal menos frecuente es: eagle\n"
     ]
    }
   ],
   "source": [
    "# 4- Determinar el animal más frecuente y el menos frecuente. \n",
    "\n",
    "frecuencias = df.value_counts()\n",
    "# Obtener el animal más frecuente y el menos frecuente\n",
    "animal_mas_frecuente = frecuencias.index[0]\n",
    "animal_menos_frecuente = frecuencias.index[-1]\n",
    "print(f\"El animal más frecuente es: {animal_mas_frecuente}\")\n",
    "print(f\"El animal menos frecuente es: {animal_menos_frecuente}\")"
   ]
  },
  {
   "cell_type": "code",
   "execution_count": 317,
   "metadata": {},
   "outputs": [
    {
     "name": "stdout",
     "output_type": "stream",
     "text": [
      "{'mammals': 38, 'birds': 7, 'reptiles': 4, 'fish': 5}\n"
     ]
    }
   ],
   "source": [
    "# 5- Agrupar los animales y contar la frecuencia por grupos (mamíferos, aves, reptiles, etc.).  \n",
    "\n",
    "animal_groups = {\n",
    "    'mammals': ['cat', 'dog', 'lion', 'tiger', 'bear', 'elephant', 'giraffe', 'zebra', 'kangaroo', 'koala', 'panda', 'onkey', 'cheetah', 'leopard', 'jaguar', 'wolf', 'fox', 'rabbit', 'quirrel'],\n",
    "    'birds': ['bird', 'ostrich', 'owl', 'hawk', 'eagle'],\n",
    "    'reptiles': ['crocodile', 'alligator', 'hippopotamus', 'rhinoceros'],\n",
    "    'fish': ['fish', 'hark', 'whale', 'dolphin']\n",
    "}\n",
    "\n",
    "group_counts = {}\n",
    "for group, animals in animal_groups.items():\n",
    "    count = sum(1 for label in original_labels if label in animals)\n",
    "    group_counts[group] = count\n",
    "print(group_counts)"
   ]
  },
  {
   "cell_type": "code",
   "execution_count": 318,
   "metadata": {},
   "outputs": [
    {
     "name": "stdout",
     "output_type": "stream",
     "text": [
      "first_occurrences: \n",
      " {'crocodile': 45, 'rhinoceros': 48, 'jaguar': 51, 'bear': 7, 'bird': 2, 'whale': 41, 'rabbit': 54, 'panda': 26, 'hippopotamus': 47, 'elephant': 20, 'fox': 53, 'alligator': 46, 'wolf': 52, 'tiger': 6, 'owl': 57, 'dog': 1, 'hawk': 58, 'koala': 25, 'squirrel': 55, 'cat': 0, 'lion': 5, 'ostrich': 44, 'cheetah': 49, 'giraffe': 21, 'dolphin': 42, 'bat': 56, 'shark': 40, 'monkey': 27, 'leopard': 50, 'fish': 3, 'penguin': 43, 'kangaroo': 23, 'zebra': 22, 'eagle': 59}\n",
      "\n",
      "last_occurrences: \n",
      " 59\n"
     ]
    }
   ],
   "source": [
    "# 6- Identificar la posición de las primeras y últimas ocurrencias de cada animal\n",
    "first_occurrences = {}\n",
    "last_occurrences = {}\n",
    "for label in unique_labels:\n",
    "    first_occurrence = original_labels.index(label)\n",
    "    last_occurrence = len(original_labels) - 1 - original_labels[::-1].index(label)\n",
    "    first_occurrences[label] = first_occurrence\n",
    "    last_occurrences[label] = last_occurrence\n",
    "print(f'first_occurrences: \\n', first_occurrences )\n",
    "print(F'\\nlast_occurrences: \\n', last_occurrence)"
   ]
  },
  {
   "cell_type": "code",
   "execution_count": 319,
   "metadata": {},
   "outputs": [
    {
     "name": "stdout",
     "output_type": "stream",
     "text": [
      "Media: 1.7647058823529411\n",
      "Mediana: 1.0\n",
      "Desviación estándar: 0.9553302944424514\n"
     ]
    }
   ],
   "source": [
    "# 7- Generar un resumen estadístico de las frecuencias de los animales (media, mediana, desviación estándar).  \n",
    "\n",
    "import statistics\n",
    "\n",
    "mean = statistics.mean(label_counts.values())\n",
    "median = statistics.median(label_counts.values())\n",
    "std_deviation = statistics.stdev(label_counts.values())\n",
    "\n",
    "print(f'Media: {mean}')\n",
    "print(f'Mediana: {median}')\n",
    "print(f'Desviación estándar: {std_deviation}')\n"
   ]
  },
  {
   "cell_type": "code",
   "execution_count": 320,
   "metadata": {},
   "outputs": [
    {
     "name": "stdout",
     "output_type": "stream",
     "text": [
      "Resumen estadístico de las frecuencias de los animales:\n",
      "count    34.000000\n",
      "mean      1.764706\n",
      "std       0.955330\n",
      "min       1.000000\n",
      "25%       1.000000\n",
      "50%       1.000000\n",
      "75%       3.000000\n",
      "max       3.000000\n",
      "Name: count, dtype: float64\n"
     ]
    }
   ],
   "source": [
    "frecuencias = df.value_counts()\n",
    "print(\"Resumen estadístico de las frecuencias de los animales:\")\n",
    "print(frecuencias.describe())"
   ]
  },
  {
   "cell_type": "code",
   "execution_count": 321,
   "metadata": {},
   "outputs": [
    {
     "name": "stdout",
     "output_type": "stream",
     "text": [
      "Animales con frecuencia mayor que 2:\n",
      "cat         3\n",
      "elephant    3\n",
      "dog         3\n",
      "panda       3\n",
      "kangaroo    3\n",
      "zebra       3\n",
      "giraffe     3\n",
      "koala       3\n",
      "tiger       3\n",
      "lion        3\n",
      "fish        3\n",
      "bird        3\n",
      "Name: count, dtype: int64\n"
     ]
    }
   ],
   "source": [
    "# 8- Filtrar y mostrar solo los animales con una frecuencia mayor que 2.\n",
    "frecuencias = df.value_counts()\n",
    "frecuencias_filtradas = frecuencias[frecuencias > 2]\n",
    "print(\"Animales con frecuencia mayor que 2:\")\n",
    "print(frecuencias_filtradas)"
   ]
  },
  {
   "cell_type": "code",
   "execution_count": 322,
   "metadata": {},
   "outputs": [
    {
     "name": "stdout",
     "output_type": "stream",
     "text": [
      "Animales que aparecen solo una vez:\n",
      "Index(['leopard', 'hawk', 'owl', 'bat', 'squirrel', 'rabbit', 'fox', 'wolf',\n",
      "       'jaguar', 'penguin', 'cheetah', 'rhinoceros', 'hippopotamus',\n",
      "       'alligator', 'crocodile', 'ostrich', 'dolphin', 'whale', 'shark',\n",
      "       'eagle'],\n",
      "      dtype='object')\n"
     ]
    }
   ],
   "source": [
    "# 9- Encontrar y mostrar las etiquetas de animales que aparecen solo una vez.  \n",
    "frecuencias = df.value_counts()\n",
    "animales_unicos = frecuencias[frecuencias == 1].index\n",
    "\n",
    "print(\"Animales que aparecen solo una vez:\")\n",
    "print(animales_unicos)\n"
   ]
  },
  {
   "cell_type": "code",
   "execution_count": 323,
   "metadata": {},
   "outputs": [
    {
     "name": "stdout",
     "output_type": "stream",
     "text": [
      "Porcentaje de apariciones de cada animal:\n",
      "cat             5.000000\n",
      "elephant        5.000000\n",
      "dog             5.000000\n",
      "panda           5.000000\n",
      "kangaroo        5.000000\n",
      "zebra           5.000000\n",
      "giraffe         5.000000\n",
      "koala           5.000000\n",
      "tiger           5.000000\n",
      "lion            5.000000\n",
      "fish            5.000000\n",
      "bird            5.000000\n",
      "bear            3.333333\n",
      "monkey          3.333333\n",
      "leopard         1.666667\n",
      "hawk            1.666667\n",
      "owl             1.666667\n",
      "bat             1.666667\n",
      "squirrel        1.666667\n",
      "rabbit          1.666667\n",
      "fox             1.666667\n",
      "wolf            1.666667\n",
      "jaguar          1.666667\n",
      "penguin         1.666667\n",
      "cheetah         1.666667\n",
      "rhinoceros      1.666667\n",
      "hippopotamus    1.666667\n",
      "alligator       1.666667\n",
      "crocodile       1.666667\n",
      "ostrich         1.666667\n",
      "dolphin         1.666667\n",
      "whale           1.666667\n",
      "shark           1.666667\n",
      "eagle           1.666667\n",
      "Name: count, dtype: float64\n"
     ]
    }
   ],
   "source": [
    "# 10- Calcular el porcentaje de apariciones de cada animal respecto al total.\n",
    "frecuencias = df.value_counts()\n",
    "total_apariciones = len(df)\n",
    "porcentajes = (frecuencias / total_apariciones) * 100\n",
    "\n",
    "print(\"Porcentaje de apariciones de cada animal:\")\n",
    "print(porcentajes)"
   ]
  },
  {
   "cell_type": "code",
   "execution_count": 324,
   "metadata": {},
   "outputs": [
    {
     "name": "stdout",
     "output_type": "stream",
     "text": [
      "Frecuencias de animales en orden descendente:\n",
      "cat             3\n",
      "koala           3\n",
      "elephant        3\n",
      "fish            3\n",
      "lion            3\n",
      "tiger           3\n",
      "bird            3\n",
      "giraffe         3\n",
      "zebra           3\n",
      "kangaroo        3\n",
      "panda           3\n",
      "dog             3\n",
      "bear            2\n",
      "monkey          2\n",
      "cheetah         1\n",
      "shark           1\n",
      "whale           1\n",
      "dolphin         1\n",
      "ostrich         1\n",
      "crocodile       1\n",
      "alligator       1\n",
      "hippopotamus    1\n",
      "rhinoceros      1\n",
      "bat             1\n",
      "penguin         1\n",
      "jaguar          1\n",
      "wolf            1\n",
      "fox             1\n",
      "rabbit          1\n",
      "squirrel        1\n",
      "owl             1\n",
      "hawk            1\n",
      "leopard         1\n",
      "eagle           1\n",
      "Name: count, dtype: int64\n"
     ]
    }
   ],
   "source": [
    "# 11- Ordenar las etiquetas de animales por frecuencia en orden descendente.  \n",
    "frecuencias = df.value_counts().sort_values(ascending=False)\n",
    "\n",
    "print(\"Frecuencias de animales en orden descendente:\")\n",
    "print(frecuencias)"
   ]
  },
  {
   "cell_type": "code",
   "execution_count": 325,
   "metadata": {},
   "outputs": [
    {
     "name": "stdout",
     "output_type": "stream",
     "text": [
      "Frecuencia acumulativa de las etiquetas:\n",
      "              Frecuencia Acumulativa\n",
      "cat                                3\n",
      "koala                              6\n",
      "elephant                           9\n",
      "fish                              12\n",
      "lion                              15\n",
      "tiger                             18\n",
      "bird                              21\n",
      "giraffe                           24\n",
      "zebra                             27\n",
      "kangaroo                          30\n",
      "panda                             33\n",
      "dog                               36\n",
      "bear                              38\n",
      "monkey                            40\n",
      "cheetah                           41\n",
      "shark                             42\n",
      "whale                             43\n",
      "dolphin                           44\n",
      "ostrich                           45\n",
      "crocodile                         46\n",
      "alligator                         47\n",
      "hippopotamus                      48\n",
      "rhinoceros                        49\n",
      "bat                               50\n",
      "penguin                           51\n",
      "jaguar                            52\n",
      "wolf                              53\n",
      "fox                               54\n",
      "rabbit                            55\n",
      "squirrel                          56\n",
      "owl                               57\n",
      "hawk                              58\n",
      "leopard                           59\n",
      "eagle                             60\n"
     ]
    }
   ],
   "source": [
    "# 12- Generar un DataFrame que muestre la frecuencia acumulativa de las etiquetas.\n",
    "frecuencias = df.value_counts().sort_values(ascending=False)\n",
    "frecuencias_acumulativas = frecuencias.cumsum().to_frame('Frecuencia Acumulativa')\n",
    "\n",
    "print(\"Frecuencia acumulativa de las etiquetas:\")\n",
    "print(frecuencias_acumulativas)"
   ]
  },
  {
   "cell_type": "markdown",
   "metadata": {},
   "source": [
    "-------------------------\n",
    "# Ejercicio 7. Análisis de Tipos de Productos en una Tienda\n",
    "--------------------------------"
   ]
  },
  {
   "cell_type": "markdown",
   "metadata": {},
   "source": [
    "1- Llevar el dicionario a un dataframe y mostrarlo.  \n",
    "2- Consultar los tipos de datos de cada columna.  \n",
    "3- Convertir la Columna category a Tipo Categórico.    \n",
    "4- Acceder a las Categorías y Códigos (cat.categories y cat.codes)"
   ]
  },
  {
   "cell_type": "code",
   "execution_count": 326,
   "metadata": {},
   "outputs": [],
   "source": [
    "### Partiendo del siguiente diccionario:\n",
    "data = {\n",
    "    'product_id': [1, 2, 3, 4, 5, 6],\n",
    "    'product_name': ['apple', 'banana', 'carrot', 'apple', 'banana', 'carrot'],\n",
    "    'category': ['fruit', 'fruit', 'vegetable', 'fruit', 'fruit', 'vegetable']\n",
    "}"
   ]
  },
  {
   "cell_type": "code",
   "execution_count": 327,
   "metadata": {},
   "outputs": [
    {
     "data": {
      "text/html": [
       "<div>\n",
       "<style scoped>\n",
       "    .dataframe tbody tr th:only-of-type {\n",
       "        vertical-align: middle;\n",
       "    }\n",
       "\n",
       "    .dataframe tbody tr th {\n",
       "        vertical-align: top;\n",
       "    }\n",
       "\n",
       "    .dataframe thead th {\n",
       "        text-align: right;\n",
       "    }\n",
       "</style>\n",
       "<table border=\"1\" class=\"dataframe\">\n",
       "  <thead>\n",
       "    <tr style=\"text-align: right;\">\n",
       "      <th></th>\n",
       "      <th>product_id</th>\n",
       "      <th>product_name</th>\n",
       "      <th>category</th>\n",
       "    </tr>\n",
       "  </thead>\n",
       "  <tbody>\n",
       "    <tr>\n",
       "      <th>0</th>\n",
       "      <td>1</td>\n",
       "      <td>apple</td>\n",
       "      <td>fruit</td>\n",
       "    </tr>\n",
       "    <tr>\n",
       "      <th>1</th>\n",
       "      <td>2</td>\n",
       "      <td>banana</td>\n",
       "      <td>fruit</td>\n",
       "    </tr>\n",
       "    <tr>\n",
       "      <th>2</th>\n",
       "      <td>3</td>\n",
       "      <td>carrot</td>\n",
       "      <td>vegetable</td>\n",
       "    </tr>\n",
       "    <tr>\n",
       "      <th>3</th>\n",
       "      <td>4</td>\n",
       "      <td>apple</td>\n",
       "      <td>fruit</td>\n",
       "    </tr>\n",
       "    <tr>\n",
       "      <th>4</th>\n",
       "      <td>5</td>\n",
       "      <td>banana</td>\n",
       "      <td>fruit</td>\n",
       "    </tr>\n",
       "    <tr>\n",
       "      <th>5</th>\n",
       "      <td>6</td>\n",
       "      <td>carrot</td>\n",
       "      <td>vegetable</td>\n",
       "    </tr>\n",
       "  </tbody>\n",
       "</table>\n",
       "</div>"
      ],
      "text/plain": [
       "   product_id product_name   category\n",
       "0           1        apple      fruit\n",
       "1           2       banana      fruit\n",
       "2           3       carrot  vegetable\n",
       "3           4        apple      fruit\n",
       "4           5       banana      fruit\n",
       "5           6       carrot  vegetable"
      ]
     },
     "execution_count": 327,
     "metadata": {},
     "output_type": "execute_result"
    }
   ],
   "source": [
    "df = pd.DataFrame(data)\n",
    "df\n"
   ]
  },
  {
   "cell_type": "code",
   "execution_count": 328,
   "metadata": {},
   "outputs": [
    {
     "data": {
      "text/plain": [
       "product_id       int64\n",
       "product_name    object\n",
       "category        object\n",
       "dtype: object"
      ]
     },
     "execution_count": 328,
     "metadata": {},
     "output_type": "execute_result"
    }
   ],
   "source": [
    "df.dtypes"
   ]
  },
  {
   "cell_type": "code",
   "execution_count": 329,
   "metadata": {},
   "outputs": [
    {
     "data": {
      "text/plain": [
       "product_id         int64\n",
       "product_name      object\n",
       "category        category\n",
       "dtype: object"
      ]
     },
     "execution_count": 329,
     "metadata": {},
     "output_type": "execute_result"
    }
   ],
   "source": [
    "df['category'] = df['category'].astype('category')\n",
    "df.dtypes"
   ]
  },
  {
   "cell_type": "code",
   "execution_count": 330,
   "metadata": {},
   "outputs": [
    {
     "name": "stdout",
     "output_type": "stream",
     "text": [
      "Categorias:  Index(['fruit', 'vegetable'], dtype='object')\n",
      "Codes:  0    0\n",
      "1    0\n",
      "2    1\n",
      "3    0\n",
      "4    0\n",
      "5    1\n",
      "dtype: int8\n"
     ]
    }
   ],
   "source": [
    "cat = df['category']\n",
    "print('Categorias: ', cat.cat.categories)\n",
    "print('Codes: ', cat.cat.codes)"
   ]
  },
  {
   "cell_type": "markdown",
   "metadata": {},
   "source": [
    "----------------------------------------------\n",
    "# Ejercicio 8. Basado en los siguientes datos:  \n",
    "-----------------------------\n",
    "1- Crear un dataframe e imprima un head.  \n",
    "2- Cambiar el dtype de product_preference a categórico.   \n",
    "3- Medir el uso de memoria antes y después de convertir a categórico.  \n",
    "4- Añadir dos categorías más: Orgánico y Keto.  \n",
    "5- Filtrar los datos para incluir solo preferencias 'Vegano' y 'Ecológico'.  \n",
    "6- Eliminar categorías no utilizadas en los datos filtrados.  \n",
    "7- Medir el tiempo de ejecución de `value_counts()` en la columna `product_preference`.  \n",
    "8- Reordenar las categorías en un orden específico.  \n",
    "9- Obtener estadísticas descriptivas de la columna categórica.  \n",
    "10- Agrupar los datos por `product_preference` y contar el número de consumidores en cada categoría.  \n",
    "11- Transformar categorías a números utilizando `cat.codes`. \n"
   ]
  },
  {
   "cell_type": "code",
   "execution_count": 331,
   "metadata": {},
   "outputs": [],
   "source": [
    "data = {\n",
    "    'consumer_id': range(1, 21),\n",
    "    'product_preference': [\n",
    "        'Vegano', 'Ecológico', 'Sin Gluten', 'Normal', 'Ecológico',\n",
    "        'Vegano', 'Normal', 'Sin Gluten', 'Vegano', 'Ecológico',\n",
    "        'Normal', 'Ecológico', 'Sin Gluten', 'Vegano', 'Normal',\n",
    "        'Vegano', 'Sin Gluten', 'Normal', 'Normal', 'Vegano'\n",
    "    ]\n",
    "}"
   ]
  },
  {
   "cell_type": "code",
   "execution_count": 332,
   "metadata": {},
   "outputs": [
    {
     "data": {
      "text/html": [
       "<div>\n",
       "<style scoped>\n",
       "    .dataframe tbody tr th:only-of-type {\n",
       "        vertical-align: middle;\n",
       "    }\n",
       "\n",
       "    .dataframe tbody tr th {\n",
       "        vertical-align: top;\n",
       "    }\n",
       "\n",
       "    .dataframe thead th {\n",
       "        text-align: right;\n",
       "    }\n",
       "</style>\n",
       "<table border=\"1\" class=\"dataframe\">\n",
       "  <thead>\n",
       "    <tr style=\"text-align: right;\">\n",
       "      <th></th>\n",
       "      <th>consumer_id</th>\n",
       "      <th>product_preference</th>\n",
       "    </tr>\n",
       "  </thead>\n",
       "  <tbody>\n",
       "    <tr>\n",
       "      <th>0</th>\n",
       "      <td>1</td>\n",
       "      <td>Vegano</td>\n",
       "    </tr>\n",
       "    <tr>\n",
       "      <th>1</th>\n",
       "      <td>2</td>\n",
       "      <td>Ecológico</td>\n",
       "    </tr>\n",
       "    <tr>\n",
       "      <th>2</th>\n",
       "      <td>3</td>\n",
       "      <td>Sin Gluten</td>\n",
       "    </tr>\n",
       "    <tr>\n",
       "      <th>3</th>\n",
       "      <td>4</td>\n",
       "      <td>Normal</td>\n",
       "    </tr>\n",
       "    <tr>\n",
       "      <th>4</th>\n",
       "      <td>5</td>\n",
       "      <td>Ecológico</td>\n",
       "    </tr>\n",
       "  </tbody>\n",
       "</table>\n",
       "</div>"
      ],
      "text/plain": [
       "   consumer_id product_preference\n",
       "0            1             Vegano\n",
       "1            2          Ecológico\n",
       "2            3         Sin Gluten\n",
       "3            4             Normal\n",
       "4            5          Ecológico"
      ]
     },
     "execution_count": 332,
     "metadata": {},
     "output_type": "execute_result"
    }
   ],
   "source": [
    "df = pd.DataFrame(data)\n",
    "df.head(5)"
   ]
  },
  {
   "cell_type": "code",
   "execution_count": 333,
   "metadata": {},
   "outputs": [
    {
     "data": {
      "text/plain": [
       "consumer_id            int64\n",
       "product_preference    object\n",
       "dtype: object"
      ]
     },
     "execution_count": 333,
     "metadata": {},
     "output_type": "execute_result"
    }
   ],
   "source": [
    "df.dtypes"
   ]
  },
  {
   "cell_type": "code",
   "execution_count": 334,
   "metadata": {},
   "outputs": [],
   "source": [
    "df1 = df.copy()"
   ]
  },
  {
   "cell_type": "code",
   "execution_count": 335,
   "metadata": {},
   "outputs": [
    {
     "data": {
      "text/plain": [
       "consumer_id            int64\n",
       "product_preference    object\n",
       "dtype: object"
      ]
     },
     "execution_count": 335,
     "metadata": {},
     "output_type": "execute_result"
    }
   ],
   "source": [
    "df['product_preference'] = df['product_preference'].astype('category')\n",
    "df1.dtypes"
   ]
  },
  {
   "cell_type": "code",
   "execution_count": 336,
   "metadata": {},
   "outputs": [
    {
     "name": "stdout",
     "output_type": "stream",
     "text": [
      "Memory usage before converting to categorical: 1720 bytes\n",
      "Memory usage after converting to categorical: 778 bytes\n"
     ]
    }
   ],
   "source": [
    "memory_before = df1.memory_usage(deep=True).sum()\n",
    "print(f\"Memory usage before converting to categorical: {memory_before} bytes\")\n",
    "\n",
    "memory_after = df.memory_usage(deep=True).sum()\n",
    "print(f\"Memory usage after converting to categorical: {memory_after} bytes\")"
   ]
  },
  {
   "cell_type": "code",
   "execution_count": 337,
   "metadata": {},
   "outputs": [
    {
     "data": {
      "text/plain": [
       "consumer_id              int64\n",
       "product_preference    category\n",
       "dtype: object"
      ]
     },
     "execution_count": 337,
     "metadata": {},
     "output_type": "execute_result"
    }
   ],
   "source": [
    "df.dtypes"
   ]
  },
  {
   "cell_type": "code",
   "execution_count": 338,
   "metadata": {},
   "outputs": [
    {
     "data": {
      "text/html": [
       "<div>\n",
       "<style scoped>\n",
       "    .dataframe tbody tr th:only-of-type {\n",
       "        vertical-align: middle;\n",
       "    }\n",
       "\n",
       "    .dataframe tbody tr th {\n",
       "        vertical-align: top;\n",
       "    }\n",
       "\n",
       "    .dataframe thead th {\n",
       "        text-align: right;\n",
       "    }\n",
       "</style>\n",
       "<table border=\"1\" class=\"dataframe\">\n",
       "  <thead>\n",
       "    <tr style=\"text-align: right;\">\n",
       "      <th></th>\n",
       "      <th>consumer_id</th>\n",
       "      <th>product_preference</th>\n",
       "    </tr>\n",
       "  </thead>\n",
       "  <tbody>\n",
       "    <tr>\n",
       "      <th>0</th>\n",
       "      <td>1</td>\n",
       "      <td>Vegano</td>\n",
       "    </tr>\n",
       "    <tr>\n",
       "      <th>1</th>\n",
       "      <td>2</td>\n",
       "      <td>Ecológico</td>\n",
       "    </tr>\n",
       "    <tr>\n",
       "      <th>2</th>\n",
       "      <td>3</td>\n",
       "      <td>Sin Gluten</td>\n",
       "    </tr>\n",
       "    <tr>\n",
       "      <th>3</th>\n",
       "      <td>4</td>\n",
       "      <td>Normal</td>\n",
       "    </tr>\n",
       "  </tbody>\n",
       "</table>\n",
       "</div>"
      ],
      "text/plain": [
       "   consumer_id product_preference\n",
       "0            1             Vegano\n",
       "1            2          Ecológico\n",
       "2            3         Sin Gluten\n",
       "3            4             Normal"
      ]
     },
     "execution_count": 338,
     "metadata": {},
     "output_type": "execute_result"
    }
   ],
   "source": [
    "df.head(4)"
   ]
  },
  {
   "cell_type": "code",
   "execution_count": 339,
   "metadata": {},
   "outputs": [
    {
     "data": {
      "text/html": [
       "<div>\n",
       "<style scoped>\n",
       "    .dataframe tbody tr th:only-of-type {\n",
       "        vertical-align: middle;\n",
       "    }\n",
       "\n",
       "    .dataframe tbody tr th {\n",
       "        vertical-align: top;\n",
       "    }\n",
       "\n",
       "    .dataframe thead th {\n",
       "        text-align: right;\n",
       "    }\n",
       "</style>\n",
       "<table border=\"1\" class=\"dataframe\">\n",
       "  <thead>\n",
       "    <tr style=\"text-align: right;\">\n",
       "      <th></th>\n",
       "      <th>consumer_id</th>\n",
       "      <th>product_preference</th>\n",
       "    </tr>\n",
       "  </thead>\n",
       "  <tbody>\n",
       "    <tr>\n",
       "      <th>0</th>\n",
       "      <td>1.0</td>\n",
       "      <td>Vegano</td>\n",
       "    </tr>\n",
       "    <tr>\n",
       "      <th>1</th>\n",
       "      <td>2.0</td>\n",
       "      <td>Ecológico</td>\n",
       "    </tr>\n",
       "    <tr>\n",
       "      <th>2</th>\n",
       "      <td>3.0</td>\n",
       "      <td>Sin Gluten</td>\n",
       "    </tr>\n",
       "    <tr>\n",
       "      <th>3</th>\n",
       "      <td>4.0</td>\n",
       "      <td>Normal</td>\n",
       "    </tr>\n",
       "    <tr>\n",
       "      <th>4</th>\n",
       "      <td>5.0</td>\n",
       "      <td>Ecológico</td>\n",
       "    </tr>\n",
       "    <tr>\n",
       "      <th>5</th>\n",
       "      <td>6.0</td>\n",
       "      <td>Vegano</td>\n",
       "    </tr>\n",
       "    <tr>\n",
       "      <th>6</th>\n",
       "      <td>7.0</td>\n",
       "      <td>Normal</td>\n",
       "    </tr>\n",
       "    <tr>\n",
       "      <th>7</th>\n",
       "      <td>8.0</td>\n",
       "      <td>Sin Gluten</td>\n",
       "    </tr>\n",
       "    <tr>\n",
       "      <th>8</th>\n",
       "      <td>9.0</td>\n",
       "      <td>Vegano</td>\n",
       "    </tr>\n",
       "    <tr>\n",
       "      <th>9</th>\n",
       "      <td>10.0</td>\n",
       "      <td>Ecológico</td>\n",
       "    </tr>\n",
       "    <tr>\n",
       "      <th>10</th>\n",
       "      <td>11.0</td>\n",
       "      <td>Normal</td>\n",
       "    </tr>\n",
       "    <tr>\n",
       "      <th>11</th>\n",
       "      <td>12.0</td>\n",
       "      <td>Ecológico</td>\n",
       "    </tr>\n",
       "    <tr>\n",
       "      <th>12</th>\n",
       "      <td>13.0</td>\n",
       "      <td>Sin Gluten</td>\n",
       "    </tr>\n",
       "    <tr>\n",
       "      <th>13</th>\n",
       "      <td>14.0</td>\n",
       "      <td>Vegano</td>\n",
       "    </tr>\n",
       "    <tr>\n",
       "      <th>14</th>\n",
       "      <td>15.0</td>\n",
       "      <td>Normal</td>\n",
       "    </tr>\n",
       "    <tr>\n",
       "      <th>15</th>\n",
       "      <td>16.0</td>\n",
       "      <td>Vegano</td>\n",
       "    </tr>\n",
       "    <tr>\n",
       "      <th>16</th>\n",
       "      <td>17.0</td>\n",
       "      <td>Sin Gluten</td>\n",
       "    </tr>\n",
       "    <tr>\n",
       "      <th>17</th>\n",
       "      <td>18.0</td>\n",
       "      <td>Normal</td>\n",
       "    </tr>\n",
       "    <tr>\n",
       "      <th>18</th>\n",
       "      <td>19.0</td>\n",
       "      <td>Normal</td>\n",
       "    </tr>\n",
       "    <tr>\n",
       "      <th>19</th>\n",
       "      <td>20.0</td>\n",
       "      <td>Vegano</td>\n",
       "    </tr>\n",
       "    <tr>\n",
       "      <th>20</th>\n",
       "      <td>NaN</td>\n",
       "      <td>Orgánico</td>\n",
       "    </tr>\n",
       "    <tr>\n",
       "      <th>21</th>\n",
       "      <td>NaN</td>\n",
       "      <td>Keto</td>\n",
       "    </tr>\n",
       "  </tbody>\n",
       "</table>\n",
       "</div>"
      ],
      "text/plain": [
       "    consumer_id product_preference\n",
       "0           1.0             Vegano\n",
       "1           2.0          Ecológico\n",
       "2           3.0         Sin Gluten\n",
       "3           4.0             Normal\n",
       "4           5.0          Ecológico\n",
       "5           6.0             Vegano\n",
       "6           7.0             Normal\n",
       "7           8.0         Sin Gluten\n",
       "8           9.0             Vegano\n",
       "9          10.0          Ecológico\n",
       "10         11.0             Normal\n",
       "11         12.0          Ecológico\n",
       "12         13.0         Sin Gluten\n",
       "13         14.0             Vegano\n",
       "14         15.0             Normal\n",
       "15         16.0             Vegano\n",
       "16         17.0         Sin Gluten\n",
       "17         18.0             Normal\n",
       "18         19.0             Normal\n",
       "19         20.0             Vegano\n",
       "20          NaN           Orgánico\n",
       "21          NaN               Keto"
      ]
     },
     "metadata": {},
     "output_type": "display_data"
    }
   ],
   "source": [
    "new_categories = ['Orgánico', 'Keto']\n",
    "df['product_preference'] = df['product_preference'].cat.set_categories(list(set(df['product_preference'].cat.categories) | set(new_categories)))\n",
    "\n",
    "df.loc[20, 'product_preference'] = 'Orgánico'\n",
    "df.loc[21, 'product_preference'] = 'Keto'\n",
    "\n",
    "display(df)"
   ]
  },
  {
   "cell_type": "code",
   "execution_count": 340,
   "metadata": {},
   "outputs": [
    {
     "data": {
      "text/plain": [
       "(22, 2)"
      ]
     },
     "execution_count": 340,
     "metadata": {},
     "output_type": "execute_result"
    }
   ],
   "source": [
    "df.shape"
   ]
  },
  {
   "cell_type": "code",
   "execution_count": 341,
   "metadata": {},
   "outputs": [
    {
     "data": {
      "text/html": [
       "<div>\n",
       "<style scoped>\n",
       "    .dataframe tbody tr th:only-of-type {\n",
       "        vertical-align: middle;\n",
       "    }\n",
       "\n",
       "    .dataframe tbody tr th {\n",
       "        vertical-align: top;\n",
       "    }\n",
       "\n",
       "    .dataframe thead th {\n",
       "        text-align: right;\n",
       "    }\n",
       "</style>\n",
       "<table border=\"1\" class=\"dataframe\">\n",
       "  <thead>\n",
       "    <tr style=\"text-align: right;\">\n",
       "      <th></th>\n",
       "      <th>consumer_id</th>\n",
       "      <th>product_preference</th>\n",
       "    </tr>\n",
       "  </thead>\n",
       "  <tbody>\n",
       "    <tr>\n",
       "      <th>0</th>\n",
       "      <td>1.0</td>\n",
       "      <td>Vegano</td>\n",
       "    </tr>\n",
       "    <tr>\n",
       "      <th>1</th>\n",
       "      <td>2.0</td>\n",
       "      <td>Ecológico</td>\n",
       "    </tr>\n",
       "    <tr>\n",
       "      <th>4</th>\n",
       "      <td>5.0</td>\n",
       "      <td>Ecológico</td>\n",
       "    </tr>\n",
       "    <tr>\n",
       "      <th>5</th>\n",
       "      <td>6.0</td>\n",
       "      <td>Vegano</td>\n",
       "    </tr>\n",
       "    <tr>\n",
       "      <th>8</th>\n",
       "      <td>9.0</td>\n",
       "      <td>Vegano</td>\n",
       "    </tr>\n",
       "    <tr>\n",
       "      <th>9</th>\n",
       "      <td>10.0</td>\n",
       "      <td>Ecológico</td>\n",
       "    </tr>\n",
       "    <tr>\n",
       "      <th>11</th>\n",
       "      <td>12.0</td>\n",
       "      <td>Ecológico</td>\n",
       "    </tr>\n",
       "    <tr>\n",
       "      <th>13</th>\n",
       "      <td>14.0</td>\n",
       "      <td>Vegano</td>\n",
       "    </tr>\n",
       "    <tr>\n",
       "      <th>15</th>\n",
       "      <td>16.0</td>\n",
       "      <td>Vegano</td>\n",
       "    </tr>\n",
       "    <tr>\n",
       "      <th>19</th>\n",
       "      <td>20.0</td>\n",
       "      <td>Vegano</td>\n",
       "    </tr>\n",
       "  </tbody>\n",
       "</table>\n",
       "</div>"
      ],
      "text/plain": [
       "    consumer_id product_preference\n",
       "0           1.0             Vegano\n",
       "1           2.0          Ecológico\n",
       "4           5.0          Ecológico\n",
       "5           6.0             Vegano\n",
       "8           9.0             Vegano\n",
       "9          10.0          Ecológico\n",
       "11         12.0          Ecológico\n",
       "13         14.0             Vegano\n",
       "15         16.0             Vegano\n",
       "19         20.0             Vegano"
      ]
     },
     "execution_count": 341,
     "metadata": {},
     "output_type": "execute_result"
    }
   ],
   "source": [
    "df_filtrado = df[df['product_preference'].isin(['Vegano', 'Ecológico'])]\n",
    "df_filtrado"
   ]
  },
  {
   "cell_type": "code",
   "execution_count": 342,
   "metadata": {},
   "outputs": [
    {
     "name": "stdout",
     "output_type": "stream",
     "text": [
      "Index(['Vegano', 'Ecológico'], dtype='object')\n"
     ]
    },
    {
     "name": "stderr",
     "output_type": "stream",
     "text": [
      "C:\\Users\\CursosTardes\\AppData\\Local\\Temp\\ipykernel_17252\\2185128107.py:1: SettingWithCopyWarning: \n",
      "A value is trying to be set on a copy of a slice from a DataFrame.\n",
      "Try using .loc[row_indexer,col_indexer] = value instead\n",
      "\n",
      "See the caveats in the documentation: https://pandas.pydata.org/pandas-docs/stable/user_guide/indexing.html#returning-a-view-versus-a-copy\n",
      "  df_filtrado['product_preference'] = df_filtrado['product_preference'].cat.remove_unused_categories()\n"
     ]
    }
   ],
   "source": [
    "df_filtrado['product_preference'] = df_filtrado['product_preference'].cat.remove_unused_categories()\n",
    "print(df_filtrado['product_preference'].cat.categories)"
   ]
  },
  {
   "cell_type": "code",
   "execution_count": 343,
   "metadata": {},
   "outputs": [
    {
     "name": "stdout",
     "output_type": "stream",
     "text": [
      "275 µs ± 44 µs per loop (mean ± std. dev. of 7 runs, 1,000 loops each)\n"
     ]
    }
   ],
   "source": [
    "%timeit df_filtrado['product_preference'].value_counts()"
   ]
  },
  {
   "cell_type": "code",
   "execution_count": 344,
   "metadata": {},
   "outputs": [
    {
     "name": "stdout",
     "output_type": "stream",
     "text": [
      "Index(['Vegano', 'Ecológico'], dtype='object')\n"
     ]
    },
    {
     "name": "stderr",
     "output_type": "stream",
     "text": [
      "C:\\Users\\CursosTardes\\AppData\\Local\\Temp\\ipykernel_17252\\3596646087.py:1: SettingWithCopyWarning: \n",
      "A value is trying to be set on a copy of a slice from a DataFrame.\n",
      "Try using .loc[row_indexer,col_indexer] = value instead\n",
      "\n",
      "See the caveats in the documentation: https://pandas.pydata.org/pandas-docs/stable/user_guide/indexing.html#returning-a-view-versus-a-copy\n",
      "  df_filtrado['product_preference'] = df_filtrado['product_preference'].cat.reorder_categories(['Vegano', 'Ecológico'])\n"
     ]
    }
   ],
   "source": [
    "df_filtrado['product_preference'] = df_filtrado['product_preference'].cat.reorder_categories(['Vegano', 'Ecológico'])\n",
    "print(df_filtrado['product_preference'].cat.categories)"
   ]
  },
  {
   "cell_type": "code",
   "execution_count": 345,
   "metadata": {},
   "outputs": [
    {
     "name": "stdout",
     "output_type": "stream",
     "text": [
      "count         10\n",
      "unique         2\n",
      "top       Vegano\n",
      "freq           6\n",
      "Name: product_preference, dtype: object\n"
     ]
    }
   ],
   "source": [
    "print(df_filtrado['product_preference'].describe())"
   ]
  },
  {
   "cell_type": "code",
   "execution_count": 346,
   "metadata": {},
   "outputs": [
    {
     "name": "stdout",
     "output_type": "stream",
     "text": [
      "product_preference\n",
      "Vegano       6\n",
      "Ecológico    4\n",
      "Name: consumer_id, dtype: int64\n"
     ]
    },
    {
     "name": "stderr",
     "output_type": "stream",
     "text": [
      "C:\\Users\\CursosTardes\\AppData\\Local\\Temp\\ipykernel_17252\\3574680607.py:1: FutureWarning: The default of observed=False is deprecated and will be changed to True in a future version of pandas. Pass observed=False to retain current behavior or observed=True to adopt the future default and silence this warning.\n",
      "  print(df_filtrado.groupby('product_preference')['consumer_id'].count())\n"
     ]
    }
   ],
   "source": [
    "print(df_filtrado.groupby('product_preference')['consumer_id'].count())"
   ]
  },
  {
   "cell_type": "code",
   "execution_count": 347,
   "metadata": {},
   "outputs": [
    {
     "name": "stdout",
     "output_type": "stream",
     "text": [
      "0     0\n",
      "1     1\n",
      "4     1\n",
      "5     0\n",
      "8     0\n",
      "9     1\n",
      "11    1\n",
      "13    0\n",
      "15    0\n",
      "19    0\n",
      "dtype: int8\n"
     ]
    }
   ],
   "source": [
    "print(df_filtrado['product_preference'].cat.codes)"
   ]
  }
 ],
 "metadata": {
  "kernelspec": {
   "display_name": "Curso_Python",
   "language": "python",
   "name": "python3"
  },
  "language_info": {
   "codemirror_mode": {
    "name": "ipython",
    "version": 3
   },
   "file_extension": ".py",
   "mimetype": "text/x-python",
   "name": "python",
   "nbconvert_exporter": "python",
   "pygments_lexer": "ipython3",
   "version": "3.11.9"
  }
 },
 "nbformat": 4,
 "nbformat_minor": 2
}
