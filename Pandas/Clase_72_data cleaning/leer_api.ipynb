{
 "cells": [
  {
   "cell_type": "markdown",
   "metadata": {},
   "source": [
    "-----------------\n",
    "# **How To Efficiently Download Any Dataset from Kaggle**\n",
    "----------------\n",
    "\n",
    "Secuencia de pasos en: https://ravi-chan.medium.com/how-to-download-any-data-set-from-kaggle-7e2adc152d7f \n",
    "\n",
    "Fuente de los datos: https://www.kaggle.com/thedevastator/datasets"
   ]
  },
  {
   "cell_type": "raw",
   "metadata": {
    "vscode": {
     "languageId": "raw"
    }
   },
   "source": [
    "from kaggle.api.kaggle_api_extended import KaggleApi\n",
    "api = KaggleApi()\n",
    "api.authenticate()"
   ]
  },
  {
   "cell_type": "code",
   "execution_count": 2,
   "metadata": {},
   "outputs": [],
   "source": [
    "import pandas as pd\n",
    "import os\n",
    "import opendatasets as od"
   ]
  },
  {
   "cell_type": "code",
   "execution_count": 3,
   "metadata": {},
   "outputs": [
    {
     "name": "stdout",
     "output_type": "stream",
     "text": [
      "Skipping, found downloaded files in \".\\oecd-global-crude-oil-imports-prices\" (use force=True to force download)\n"
     ]
    }
   ],
   "source": [
    "# Assign the Kaggle data set URL into variable\n",
    "dataset = 'https://www.kaggle.com/datasets/thedevastator/oecd-global-crude-oil-imports-prices'\n",
    "# Using opendatasets let's download the data sets\n",
    "od.download(dataset)"
   ]
  },
  {
   "cell_type": "code",
   "execution_count": 4,
   "metadata": {},
   "outputs": [],
   "source": [
    "data_dir = '.\\oecd-global-crude-oil-imports-prices'"
   ]
  },
  {
   "cell_type": "code",
   "execution_count": 5,
   "metadata": {},
   "outputs": [
    {
     "data": {
      "text/plain": [
       "['crude_oil_import_prices.csv']"
      ]
     },
     "execution_count": 5,
     "metadata": {},
     "output_type": "execute_result"
    }
   ],
   "source": [
    "os.listdir(data_dir)"
   ]
  },
  {
   "cell_type": "code",
   "execution_count": 6,
   "metadata": {},
   "outputs": [],
   "source": [
    "df = pd.read_csv('oecd-global-crude-oil-imports-prices\\\\crude_oil_import_prices.csv')"
   ]
  },
  {
   "cell_type": "code",
   "execution_count": 7,
   "metadata": {},
   "outputs": [
    {
     "data": {
      "text/html": [
       "<div>\n",
       "<style scoped>\n",
       "    .dataframe tbody tr th:only-of-type {\n",
       "        vertical-align: middle;\n",
       "    }\n",
       "\n",
       "    .dataframe tbody tr th {\n",
       "        vertical-align: top;\n",
       "    }\n",
       "\n",
       "    .dataframe thead th {\n",
       "        text-align: right;\n",
       "    }\n",
       "</style>\n",
       "<table border=\"1\" class=\"dataframe\">\n",
       "  <thead>\n",
       "    <tr style=\"text-align: right;\">\n",
       "      <th></th>\n",
       "      <th>index</th>\n",
       "      <th>LOCATION</th>\n",
       "      <th>INDICATOR</th>\n",
       "      <th>SUBJECT</th>\n",
       "      <th>MEASURE</th>\n",
       "      <th>FREQUENCY</th>\n",
       "      <th>TIME</th>\n",
       "      <th>Value</th>\n",
       "      <th>Flag Codes</th>\n",
       "    </tr>\n",
       "  </thead>\n",
       "  <tbody>\n",
       "    <tr>\n",
       "      <th>0</th>\n",
       "      <td>0</td>\n",
       "      <td>AUS</td>\n",
       "      <td>OILIMPPRICE</td>\n",
       "      <td>TOT</td>\n",
       "      <td>USD_BAR</td>\n",
       "      <td>A</td>\n",
       "      <td>1980</td>\n",
       "      <td>31.81</td>\n",
       "      <td>NaN</td>\n",
       "    </tr>\n",
       "    <tr>\n",
       "      <th>1</th>\n",
       "      <td>1</td>\n",
       "      <td>AUS</td>\n",
       "      <td>OILIMPPRICE</td>\n",
       "      <td>TOT</td>\n",
       "      <td>USD_BAR</td>\n",
       "      <td>A</td>\n",
       "      <td>1981</td>\n",
       "      <td>35.88</td>\n",
       "      <td>NaN</td>\n",
       "    </tr>\n",
       "    <tr>\n",
       "      <th>2</th>\n",
       "      <td>2</td>\n",
       "      <td>AUS</td>\n",
       "      <td>OILIMPPRICE</td>\n",
       "      <td>TOT</td>\n",
       "      <td>USD_BAR</td>\n",
       "      <td>A</td>\n",
       "      <td>1982</td>\n",
       "      <td>35.42</td>\n",
       "      <td>NaN</td>\n",
       "    </tr>\n",
       "    <tr>\n",
       "      <th>3</th>\n",
       "      <td>3</td>\n",
       "      <td>AUS</td>\n",
       "      <td>OILIMPPRICE</td>\n",
       "      <td>TOT</td>\n",
       "      <td>USD_BAR</td>\n",
       "      <td>A</td>\n",
       "      <td>1983</td>\n",
       "      <td>30.88</td>\n",
       "      <td>NaN</td>\n",
       "    </tr>\n",
       "    <tr>\n",
       "      <th>4</th>\n",
       "      <td>4</td>\n",
       "      <td>AUS</td>\n",
       "      <td>OILIMPPRICE</td>\n",
       "      <td>TOT</td>\n",
       "      <td>USD_BAR</td>\n",
       "      <td>A</td>\n",
       "      <td>1984</td>\n",
       "      <td>29.19</td>\n",
       "      <td>NaN</td>\n",
       "    </tr>\n",
       "    <tr>\n",
       "      <th>...</th>\n",
       "      <td>...</td>\n",
       "      <td>...</td>\n",
       "      <td>...</td>\n",
       "      <td>...</td>\n",
       "      <td>...</td>\n",
       "      <td>...</td>\n",
       "      <td>...</td>\n",
       "      <td>...</td>\n",
       "      <td>...</td>\n",
       "    </tr>\n",
       "    <tr>\n",
       "      <th>17355</th>\n",
       "      <td>17355</td>\n",
       "      <td>LUX</td>\n",
       "      <td>OILIMPPRICE</td>\n",
       "      <td>TOT</td>\n",
       "      <td>USD_BAR</td>\n",
       "      <td>M</td>\n",
       "      <td>2016-02</td>\n",
       "      <td>NaN</td>\n",
       "      <td>M</td>\n",
       "    </tr>\n",
       "    <tr>\n",
       "      <th>17356</th>\n",
       "      <td>17356</td>\n",
       "      <td>LUX</td>\n",
       "      <td>OILIMPPRICE</td>\n",
       "      <td>TOT</td>\n",
       "      <td>USD_BAR</td>\n",
       "      <td>M</td>\n",
       "      <td>2016-03</td>\n",
       "      <td>NaN</td>\n",
       "      <td>M</td>\n",
       "    </tr>\n",
       "    <tr>\n",
       "      <th>17357</th>\n",
       "      <td>17357</td>\n",
       "      <td>LUX</td>\n",
       "      <td>OILIMPPRICE</td>\n",
       "      <td>TOT</td>\n",
       "      <td>USD_BAR</td>\n",
       "      <td>M</td>\n",
       "      <td>2016-04</td>\n",
       "      <td>NaN</td>\n",
       "      <td>M</td>\n",
       "    </tr>\n",
       "    <tr>\n",
       "      <th>17358</th>\n",
       "      <td>17358</td>\n",
       "      <td>LUX</td>\n",
       "      <td>OILIMPPRICE</td>\n",
       "      <td>TOT</td>\n",
       "      <td>USD_BAR</td>\n",
       "      <td>M</td>\n",
       "      <td>2016-05</td>\n",
       "      <td>NaN</td>\n",
       "      <td>M</td>\n",
       "    </tr>\n",
       "    <tr>\n",
       "      <th>17359</th>\n",
       "      <td>17359</td>\n",
       "      <td>LUX</td>\n",
       "      <td>OILIMPPRICE</td>\n",
       "      <td>TOT</td>\n",
       "      <td>USD_BAR</td>\n",
       "      <td>M</td>\n",
       "      <td>2016-06</td>\n",
       "      <td>NaN</td>\n",
       "      <td>M</td>\n",
       "    </tr>\n",
       "  </tbody>\n",
       "</table>\n",
       "<p>17360 rows × 9 columns</p>\n",
       "</div>"
      ],
      "text/plain": [
       "       index LOCATION    INDICATOR SUBJECT  MEASURE FREQUENCY     TIME  Value  \\\n",
       "0          0      AUS  OILIMPPRICE     TOT  USD_BAR         A     1980  31.81   \n",
       "1          1      AUS  OILIMPPRICE     TOT  USD_BAR         A     1981  35.88   \n",
       "2          2      AUS  OILIMPPRICE     TOT  USD_BAR         A     1982  35.42   \n",
       "3          3      AUS  OILIMPPRICE     TOT  USD_BAR         A     1983  30.88   \n",
       "4          4      AUS  OILIMPPRICE     TOT  USD_BAR         A     1984  29.19   \n",
       "...      ...      ...          ...     ...      ...       ...      ...    ...   \n",
       "17355  17355      LUX  OILIMPPRICE     TOT  USD_BAR         M  2016-02    NaN   \n",
       "17356  17356      LUX  OILIMPPRICE     TOT  USD_BAR         M  2016-03    NaN   \n",
       "17357  17357      LUX  OILIMPPRICE     TOT  USD_BAR         M  2016-04    NaN   \n",
       "17358  17358      LUX  OILIMPPRICE     TOT  USD_BAR         M  2016-05    NaN   \n",
       "17359  17359      LUX  OILIMPPRICE     TOT  USD_BAR         M  2016-06    NaN   \n",
       "\n",
       "      Flag Codes  \n",
       "0            NaN  \n",
       "1            NaN  \n",
       "2            NaN  \n",
       "3            NaN  \n",
       "4            NaN  \n",
       "...          ...  \n",
       "17355          M  \n",
       "17356          M  \n",
       "17357          M  \n",
       "17358          M  \n",
       "17359          M  \n",
       "\n",
       "[17360 rows x 9 columns]"
      ]
     },
     "execution_count": 7,
     "metadata": {},
     "output_type": "execute_result"
    }
   ],
   "source": [
    "df"
   ]
  },
  {
   "cell_type": "code",
   "execution_count": 12,
   "metadata": {},
   "outputs": [
    {
     "data": {
      "text/html": [
       "<div>\n",
       "<style scoped>\n",
       "    .dataframe tbody tr th:only-of-type {\n",
       "        vertical-align: middle;\n",
       "    }\n",
       "\n",
       "    .dataframe tbody tr th {\n",
       "        vertical-align: top;\n",
       "    }\n",
       "\n",
       "    .dataframe thead th {\n",
       "        text-align: right;\n",
       "    }\n",
       "</style>\n",
       "<table border=\"1\" class=\"dataframe\">\n",
       "  <thead>\n",
       "    <tr style=\"text-align: right;\">\n",
       "      <th></th>\n",
       "      <th>index</th>\n",
       "      <th>Value</th>\n",
       "    </tr>\n",
       "  </thead>\n",
       "  <tbody>\n",
       "    <tr>\n",
       "      <th>count</th>\n",
       "      <td>17360.000000</td>\n",
       "      <td>9734.000000</td>\n",
       "    </tr>\n",
       "    <tr>\n",
       "      <th>mean</th>\n",
       "      <td>8679.500000</td>\n",
       "      <td>41.376256</td>\n",
       "    </tr>\n",
       "    <tr>\n",
       "      <th>std</th>\n",
       "      <td>5011.544672</td>\n",
       "      <td>31.575795</td>\n",
       "    </tr>\n",
       "    <tr>\n",
       "      <th>min</th>\n",
       "      <td>0.000000</td>\n",
       "      <td>2.330000</td>\n",
       "    </tr>\n",
       "    <tr>\n",
       "      <th>25%</th>\n",
       "      <td>4339.750000</td>\n",
       "      <td>18.350000</td>\n",
       "    </tr>\n",
       "    <tr>\n",
       "      <th>50%</th>\n",
       "      <td>8679.500000</td>\n",
       "      <td>28.560000</td>\n",
       "    </tr>\n",
       "    <tr>\n",
       "      <th>75%</th>\n",
       "      <td>13019.250000</td>\n",
       "      <td>56.265000</td>\n",
       "    </tr>\n",
       "    <tr>\n",
       "      <th>max</th>\n",
       "      <td>17359.000000</td>\n",
       "      <td>142.290000</td>\n",
       "    </tr>\n",
       "  </tbody>\n",
       "</table>\n",
       "</div>"
      ],
      "text/plain": [
       "              index        Value\n",
       "count  17360.000000  9734.000000\n",
       "mean    8679.500000    41.376256\n",
       "std     5011.544672    31.575795\n",
       "min        0.000000     2.330000\n",
       "25%     4339.750000    18.350000\n",
       "50%     8679.500000    28.560000\n",
       "75%    13019.250000    56.265000\n",
       "max    17359.000000   142.290000"
      ]
     },
     "execution_count": 12,
     "metadata": {},
     "output_type": "execute_result"
    }
   ],
   "source": [
    "df.describe()"
   ]
  },
  {
   "cell_type": "code",
   "execution_count": 9,
   "metadata": {},
   "outputs": [
    {
     "data": {
      "text/plain": [
       "FREQUENCY\n",
       "M    12264\n",
       "Q     4088\n",
       "A     1008\n",
       "Name: count, dtype: int64"
      ]
     },
     "execution_count": 9,
     "metadata": {},
     "output_type": "execute_result"
    }
   ],
   "source": [
    "df['FREQUENCY'].value_counts()"
   ]
  },
  {
   "cell_type": "code",
   "execution_count": null,
   "metadata": {},
   "outputs": [],
   "source": []
  },
  {
   "cell_type": "code",
   "execution_count": null,
   "metadata": {},
   "outputs": [],
   "source": []
  },
  {
   "cell_type": "code",
   "execution_count": null,
   "metadata": {},
   "outputs": [],
   "source": []
  },
  {
   "cell_type": "code",
   "execution_count": null,
   "metadata": {},
   "outputs": [],
   "source": []
  },
  {
   "cell_type": "code",
   "execution_count": null,
   "metadata": {},
   "outputs": [],
   "source": []
  },
  {
   "cell_type": "code",
   "execution_count": null,
   "metadata": {},
   "outputs": [],
   "source": []
  },
  {
   "cell_type": "code",
   "execution_count": null,
   "metadata": {},
   "outputs": [],
   "source": []
  }
 ],
 "metadata": {
  "kernelspec": {
   "display_name": "Curso_Python",
   "language": "python",
   "name": "python3"
  },
  "language_info": {
   "codemirror_mode": {
    "name": "ipython",
    "version": 3
   },
   "file_extension": ".py",
   "mimetype": "text/x-python",
   "name": "python",
   "nbconvert_exporter": "python",
   "pygments_lexer": "ipython3",
   "version": "3.11.9"
  }
 },
 "nbformat": 4,
 "nbformat_minor": 2
}
