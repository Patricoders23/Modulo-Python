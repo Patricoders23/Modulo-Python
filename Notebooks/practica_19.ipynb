{
 "cells": [
  {
   "cell_type": "markdown",
   "metadata": {},
   "source": [
    "# BUCLES O CICLO FOR "
   ]
  },
  {
   "cell_type": "markdown",
   "metadata": {},
   "source": [
    "## Ejercicios en clase: "
   ]
  },
  {
   "cell_type": "code",
   "execution_count": 2,
   "metadata": {},
   "outputs": [
    {
     "name": "stdout",
     "output_type": "stream",
     "text": [
      "L\n",
      "e\n",
      "a\n",
      "r\n",
      "n\n",
      " \n",
      "P\n",
      "y\n",
      "t\n",
      "h\n",
      "o\n",
      "n\n"
     ]
    }
   ],
   "source": [
    "palabra= 'Learn Python'\n",
    "\n",
    "for letra in palabra:\n",
    "    print(letra)"
   ]
  },
  {
   "cell_type": "code",
   "execution_count": 3,
   "metadata": {},
   "outputs": [
    {
     "name": "stdout",
     "output_type": "stream",
     "text": [
      "1\n",
      "2\n",
      "3\n"
     ]
    }
   ],
   "source": [
    "#Recorre una lista\n",
    "numeros = (1,2,3)\n",
    "\n",
    "for numero in numeros:\n",
    "    print(numero)"
   ]
  },
  {
   "cell_type": "code",
   "execution_count": 14,
   "metadata": {},
   "outputs": [
    {
     "name": "stdout",
     "output_type": "stream",
     "text": [
      "a 1\n",
      "b 2\n",
      "c 3\n"
     ]
    }
   ],
   "source": [
    "#Recorre un diccionario\n",
    "numeros = {'a':1,'b':2,'c':3}\n",
    "\n",
    "for k,v in numeros.items():\n",
    "    print(k, v)"
   ]
  },
  {
   "cell_type": "code",
   "execution_count": 6,
   "metadata": {},
   "outputs": [
    {
     "name": "stdout",
     "output_type": "stream",
     "text": [
      "Comienzo\n",
      "\n",
      "Final\n"
     ]
    }
   ],
   "source": [
    "print('Comienzo')\n",
    "\n",
    "for i in []:  #SI LA LISTA ESTÁ VACIA NO SE EJECUTA NINGUNA VEZ\n",
    "    print('Hola', end= ' ')\n",
    "print()\n",
    "print('Final')"
   ]
  },
  {
   "cell_type": "code",
   "execution_count": 38,
   "metadata": {},
   "outputs": [
    {
     "name": "stdout",
     "output_type": "stream",
     "text": [
      "Comienzo Segundo\n",
      "Hola a   ----!Hola 1000   ----!Hola 0   ----!Hola 687899098   ----!\n",
      "Final\n"
     ]
    }
   ],
   "source": [
    "print('Comienzo', 'Segundo')\n",
    "\n",
    "for i in ['a',1000,00, 687899098]:\n",
    "    print(f'Hola {i}',  end= '   ----!',)\n",
    "print()\n",
    "print('Final')"
   ]
  },
  {
   "cell_type": "code",
   "execution_count": 39,
   "metadata": {},
   "outputs": [
    {
     "name": "stdout",
     "output_type": "stream",
     "text": [
      "Comienzo Segundo\n",
      "Hola   ----!Hola   ----!Hola   ----!Hola   ----!\n",
      "Final\n"
     ]
    }
   ],
   "source": [
    "print('Comienzo', 'Segundo')\n",
    "\n",
    "for i in ['a',1000, 00, 687899098]:\n",
    "    print('Hola',  end= '   ----!',)\n",
    "print()\n",
    "print('Final')"
   ]
  },
  {
   "cell_type": "code",
   "execution_count": 42,
   "metadata": {},
   "outputs": [
    {
     "name": "stdout",
     "output_type": "stream",
     "text": [
      "Comienzo\n",
      "Hola  Hola  Hola  \n",
      "Final\n"
     ]
    }
   ],
   "source": [
    "print('Comienzo')\n",
    "\n",
    "for _ in [0,1,2]: #se puede utilizar el guion bajo (_) en vez de un nombre de variable\n",
    "    print('Hola ', end= ' ')\n",
    "print()\n",
    "print('Final')"
   ]
  },
  {
   "cell_type": "code",
   "execution_count": 50,
   "metadata": {},
   "outputs": [
    {
     "name": "stdout",
     "output_type": "stream",
     "text": [
      "Comienzo\n",
      "Hola. Ahora i vale3 y su cuadrado 9;\tHola. Ahora i vale4 y su cuadrado 16;\tHola. Ahora i vale5 y su cuadrado 25;\tFinal\n"
     ]
    }
   ],
   "source": [
    "print ('Comienzo')\n",
    "\n",
    "for i in [3,4,5]:\n",
    "    print(f'Hola. Ahora i vale{i} y su cuadrado {i**2}', end=';\\t')\n",
    "print('Final')"
   ]
  },
  {
   "cell_type": "code",
   "execution_count": 52,
   "metadata": {},
   "outputs": [
    {
     "name": "stdout",
     "output_type": "stream",
     "text": [
      "Comienzo\n",
      "Hola. Ahora i vale Alba\n",
      "Hola. Ahora i vale Benito\n",
      "Hola. Ahora i vale 27\n",
      "Hola. Ahora i vale True\n",
      "Hola. Ahora i vale 2.54\n",
      "Final\n"
     ]
    }
   ],
   "source": [
    "print('Comienzo')\n",
    "\n",
    "for i in ['Alba', 'Benito', 27, True, 2.54]:\n",
    "    print(f'Hola. Ahora i vale {i}')\n",
    "print('Final')"
   ]
  },
  {
   "cell_type": "code",
   "execution_count": 53,
   "metadata": {},
   "outputs": [
    {
     "name": "stdout",
     "output_type": "stream",
     "text": [
      "El bucle no ha comenzado. Ahora i vale 10\n",
      "0* 0 = 0\n",
      "1* 1 = 1\n",
      "2* 2 = 4\n",
      "3* 3 = 9\n",
      "4* 4 = 16\n",
      "El bucle ha terminado. Ahora i vale 4\n"
     ]
    }
   ],
   "source": [
    "i = 10\n",
    "print(f'El bucle no ha comenzado. Ahora i vale {i}')\n",
    "\n",
    "for i in [0,1,2,3,4]:\n",
    "    print(f'{i}* {i} = {i**2}')\n",
    "\n",
    "print(f'El bucle ha terminado. Ahora i vale {i}')"
   ]
  },
  {
   "cell_type": "code",
   "execution_count": 3,
   "metadata": {},
   "outputs": [
    {
     "name": "stdout",
     "output_type": "stream",
     "text": [
      "El bucle no ha comenzado. Ahora i vale 10\n",
      "Ahora i vale 0\n",
      "Ahora i vale 100\n",
      "Ahora i vale 1\n",
      "Ahora i vale 100\n",
      "Ahora i vale 2\n",
      "Ahora i vale 100\n",
      "El bucle ha terminado. Ahora i vale 100\n"
     ]
    }
   ],
   "source": [
    "i = 10\n",
    "print(f'El bucle no ha comenzado. Ahora i vale {i}')\n",
    "\n",
    "for i in [0,1,2]:\n",
    "    print(f'Ahora i vale {i}')\n",
    "    i=100\n",
    "    print(f'Ahora i vale {i}')\n",
    "    \n",
    "print(f'El bucle ha terminado. Ahora i vale {i}')"
   ]
  },
  {
   "cell_type": "code",
   "execution_count": 4,
   "metadata": {},
   "outputs": [
    {
     "name": "stdout",
     "output_type": "stream",
     "text": [
      "Dame una A\n",
      "Dame una M\n",
      "Dame una I\n",
      "Dame una G\n",
      "Dame una O\n",
      "Amigo!\n"
     ]
    }
   ],
   "source": [
    "for i in 'AMIGO':\n",
    "    print(f'Dame una {i}')\n",
    "print('Amigo!')"
   ]
  },
  {
   "cell_type": "markdown",
   "metadata": {},
   "source": [
    "### Romper un bucle for.\n",
    "\n",
    "Una sentencia break dentro de un for rompe el bucle, igual que para los bucles while."
   ]
  },
  {
   "cell_type": "code",
   "execution_count": 6,
   "metadata": {},
   "outputs": [
    {
     "name": "stdout",
     "output_type": "stream",
     "text": [
      "P\n",
      "y\n",
      "t\n",
      "h\n",
      "\n",
      "Fin\n"
     ]
    }
   ],
   "source": [
    "palabra = 'Python'\n",
    "for letra in palabra: \n",
    "    if letra == 'o':\n",
    "        break\n",
    "    print(letra)\n",
    "print()\n",
    "print('Fin')"
   ]
  },
  {
   "cell_type": "markdown",
   "metadata": {},
   "source": [
    "##  1) Escriba un programa en el que se le pide a un usuario introducir una palabra (string) y luego imprima el total de vocales encontrada"
   ]
  },
  {
   "cell_type": "code",
   "execution_count": 11,
   "metadata": {},
   "outputs": [
    {
     "name": "stdout",
     "output_type": "stream",
     "text": [
      "Escribió: Maria del pilar . El número de vocales contadas es 6\n",
      "\n",
      "Fin\n"
     ]
    }
   ],
   "source": [
    "vocales = 'aeiou'\n",
    "cadena=input('Introduzca una palabra: ')\n",
    "nro_vocales= 0 #ES UN CONTADOR\n",
    "\n",
    "for letra in cadena.lower():\n",
    "    if letra in vocales:\n",
    "        nro_vocales +=1\n",
    "        \n",
    "print(f'Escribió: {cadena}. El número de vocales contadas es {nro_vocales}')\n",
    "print()\n",
    "print('Fin')"
   ]
  },
  {
   "cell_type": "markdown",
   "metadata": {},
   "source": [
    "## Secuencia de números:\n",
    "\n",
    "Usa la función range(star, stop, step)\n",
    "\n",
    "range() devuelve un objeto iterable. \n",
    "\n",
    "-start: es opcional y tiene valor por defecto 0.\n",
    "\n",
    "-stop: es obligatorio(siempre se llega a uno menos que este valor)\n",
    "\n",
    "-step: es opcional y tiene valor por defecto 1. "
   ]
  },
  {
   "cell_type": "code",
   "execution_count": 12,
   "metadata": {},
   "outputs": [
    {
     "name": "stdout",
     "output_type": "stream",
     "text": [
      "0\n",
      "1\n",
      "2\n"
     ]
    }
   ],
   "source": [
    "for i in range(0,3):\n",
    "    print(i)"
   ]
  },
  {
   "cell_type": "code",
   "execution_count": 13,
   "metadata": {},
   "outputs": [
    {
     "name": "stdout",
     "output_type": "stream",
     "text": [
      "0\n",
      "1\n",
      "2\n"
     ]
    }
   ],
   "source": [
    "for i in range(3):\n",
    "    print(i)"
   ]
  },
  {
   "cell_type": "code",
   "execution_count": 14,
   "metadata": {},
   "outputs": [
    {
     "name": "stdout",
     "output_type": "stream",
     "text": [
      "1\n",
      "3\n",
      "5\n"
     ]
    }
   ],
   "source": [
    "for i in range(1,6, 2):\n",
    "    print(i)"
   ]
  },
  {
   "cell_type": "code",
   "execution_count": 22,
   "metadata": {},
   "outputs": [
    {
     "name": "stdout",
     "output_type": "stream",
     "text": [
      "2\n",
      "1\n",
      "0\n",
      "-1\n"
     ]
    }
   ],
   "source": [
    "for i in range (2,-2, -1):\n",
    "    print(i)"
   ]
  },
  {
   "cell_type": "markdown",
   "metadata": {},
   "source": [
    "## Ejercicio 2) Escriba un programa en el que se le pide a un usuario introducir un número entero y luego que imprima en pantalla si dicho número es primo o no. Excluir 0 y 1 en el rango."
   ]
  },
  {
   "cell_type": "code",
   "execution_count": 32,
   "metadata": {},
   "outputs": [
    {
     "name": "stdout",
     "output_type": "stream",
     "text": [
      "Para el número: 13\n",
      "Tenemos un numero primo\n"
     ]
    }
   ],
   "source": [
    "numero = int(input('Introduzca un número entero positivo que no sea ni cero ni uno: '))\n",
    "print(f'Para el número: {numero}')\n",
    "for i in range(2, numero):\n",
    "    if numero % i == 0:\n",
    "        print('No es primo')\n",
    "        break\n",
    "    \n",
    "else: \n",
    "    print('Tenemos un numero primo')"
   ]
  },
  {
   "cell_type": "markdown",
   "metadata": {},
   "source": [
    "## BUCLES ANIDADOS"
   ]
  },
  {
   "cell_type": "code",
   "execution_count": 35,
   "metadata": {},
   "outputs": [
    {
     "name": "stdout",
     "output_type": "stream",
     "text": [
      "1 * 1 = 1\n",
      "1 * 2 = 2\n",
      "1 * 3 = 3\n",
      "1 * 4 = 4\n",
      "1 * 5 = 5\n",
      "1 * 6 = 6\n",
      "1 * 7 = 7\n",
      "1 * 8 = 8\n",
      "1 * 9 = 9\n",
      "2 * 1 = 2\n",
      "2 * 2 = 4\n",
      "2 * 3 = 6\n",
      "2 * 4 = 8\n",
      "2 * 5 = 10\n",
      "2 * 6 = 12\n",
      "2 * 7 = 14\n",
      "2 * 8 = 16\n",
      "2 * 9 = 18\n",
      "3 * 1 = 3\n",
      "3 * 2 = 6\n",
      "3 * 3 = 9\n",
      "3 * 4 = 12\n",
      "3 * 5 = 15\n",
      "3 * 6 = 18\n",
      "3 * 7 = 21\n",
      "3 * 8 = 24\n",
      "3 * 9 = 27\n",
      "4 * 1 = 4\n",
      "4 * 2 = 8\n",
      "4 * 3 = 12\n",
      "4 * 4 = 16\n",
      "4 * 5 = 20\n",
      "4 * 6 = 24\n",
      "4 * 7 = 28\n",
      "4 * 8 = 32\n",
      "4 * 9 = 36\n",
      "5 * 1 = 5\n",
      "5 * 2 = 10\n",
      "5 * 3 = 15\n",
      "5 * 4 = 20\n",
      "5 * 5 = 25\n",
      "5 * 6 = 30\n",
      "5 * 7 = 35\n",
      "5 * 8 = 40\n",
      "5 * 9 = 45\n",
      "6 * 1 = 6\n",
      "6 * 2 = 12\n",
      "6 * 3 = 18\n",
      "6 * 4 = 24\n",
      "6 * 5 = 30\n",
      "6 * 6 = 36\n",
      "6 * 7 = 42\n",
      "6 * 8 = 48\n",
      "6 * 9 = 54\n",
      "7 * 1 = 7\n",
      "7 * 2 = 14\n",
      "7 * 3 = 21\n",
      "7 * 4 = 28\n",
      "7 * 5 = 35\n",
      "7 * 6 = 42\n",
      "7 * 7 = 49\n",
      "7 * 8 = 56\n",
      "7 * 9 = 63\n",
      "8 * 1 = 8\n",
      "8 * 2 = 16\n",
      "8 * 3 = 24\n",
      "8 * 4 = 32\n",
      "8 * 5 = 40\n",
      "8 * 6 = 48\n",
      "8 * 7 = 56\n",
      "8 * 8 = 64\n",
      "8 * 9 = 72\n",
      "9 * 1 = 9\n",
      "9 * 2 = 18\n",
      "9 * 3 = 27\n",
      "9 * 4 = 36\n",
      "9 * 5 = 45\n",
      "9 * 6 = 54\n",
      "9 * 7 = 63\n",
      "9 * 8 = 72\n",
      "9 * 9 = 81\n"
     ]
    }
   ],
   "source": [
    "for tabla_numeros in range (1,10):\n",
    "    for factor_multipliacion in range (1,10):\n",
    "        resultados = tabla_numeros*factor_multipliacion\n",
    "        print(f'{tabla_numeros} * {factor_multipliacion} = {resultados}')"
   ]
  },
  {
   "cell_type": "markdown",
   "metadata": {},
   "source": [
    "## TESTIGOS, CONTADORES Y ACUMULADORES\n",
    "\n",
    "En muchos programas se necesitan variables que indiquen si simplemente ha ocurrido algo (testigos), o\n",
    "que cuenten cuántas veces ha ocurrido algo (contadores), o que acumulen valores (acumuladores). Las\n",
    "situaciones pueden ser muy diversas, por lo que en este apartado simplemente se ofrecen unos ejemplos\n",
    "para mostrar la idea."
   ]
  },
  {
   "cell_type": "markdown",
   "metadata": {},
   "source": [
    "#### Testigo.\n",
    "Se entiende por testigo una variable que indica simplemente si una condición se ha cumplido o no. Es un caso particular de contador, pero se suele hacer con variables lógicas en vez de numéricas (en este caso, la variable que hace de testigo es la variable sacaste_cinco)"
   ]
  },
  {
   "cell_type": "code",
   "execution_count": 37,
   "metadata": {},
   "outputs": [
    {
     "name": "stdout",
     "output_type": "stream",
     "text": [
      "Comienzo\n",
      "Tirada_1: 5\n",
      "Tirada_2: 4\n",
      "Tirada_3: 2\n",
      "Ha salido al menos un cinco\n",
      "Fin del programa\n"
     ]
    }
   ],
   "source": [
    "import random\n",
    "print('Comienzo')\n",
    "sacaste_cinco= False \n",
    "for i in range(3): \n",
    "    dado= random.randrange(1,7)\n",
    "    print(f'Tirada_{i+1}: {dado}')\n",
    "    if dado == 5: \n",
    "        sacaste_cinco = True\n",
    "if sacaste_cinco:\n",
    "    print('Ha salido al menos un cinco')\n",
    "else: \n",
    "    print('NO ha salido ningun 5')\n",
    "print('Fin del programa')"
   ]
  },
  {
   "cell_type": "markdown",
   "metadata": {},
   "source": [
    "#### Contador\n",
    "\n",
    "Se entiende por contador una variable que lleva la cuenta del número de veces que se ha cumplido una\n",
    "condición. El ejemplo siguiente es un ejemplo de programa con contador (en este caso, la variable que\n",
    "hace de contador es la variable cuenta_cincos)\n"
   ]
  },
  {
   "cell_type": "code",
   "execution_count": 60,
   "metadata": {},
   "outputs": [
    {
     "name": "stdout",
     "output_type": "stream",
     "text": [
      "Comienzo\n",
      "Tirada_1: 2\n",
      "Tirada_2: 6\n",
      "Tirada_3: 4\n",
      "En total ha(n) salido 0 cinco(s).\n",
      "Fin del programa\n"
     ]
    }
   ],
   "source": [
    "import random\n",
    "\n",
    "print('Comienzo')\n",
    "cuenta_cincos = 0 #CONTADOR\n",
    "for i in range(3): \n",
    "    dado= random.randrange(1,7)\n",
    "    print(f'Tirada_{i+1}: {dado}')\n",
    "    if dado == 5: \n",
    "        cuenta_cincos += 1\n",
    "\n",
    "print(f'En total ha(n) salido {cuenta_cincos} cinco(s).')\n",
    "print('Fin del programa')"
   ]
  },
  {
   "cell_type": "markdown",
   "metadata": {},
   "source": [
    "#### Acumulador\n",
    "\n",
    "Se entiende por acumulador una variable que acumula el resultado de una operación. El\n",
    "ejemplo siguiente es un ejemplo de programa con acumulador (en este caso, la variable\n",
    "que hace de acumulador es la variable total)"
   ]
  },
  {
   "cell_type": "code",
   "execution_count": 62,
   "metadata": {},
   "outputs": [
    {
     "name": "stdout",
     "output_type": "stream",
     "text": [
      "Comienzo\n",
      "Tirada_1: 4\n",
      "Tirada_2: 6\n",
      "Tirada_3: 4\n",
      "En total ha obtenido 14 punto(s)\n",
      "Final\n"
     ]
    }
   ],
   "source": [
    "import random\n",
    "\n",
    "print('Comienzo')\n",
    "total = 0 #ACUMULADOR\n",
    "for i in range(3):\n",
    "    dado=random.randrange(1,7)\n",
    "    print(f'Tirada_{i+1}: {dado}')\n",
    "    total += dado\n",
    "\n",
    "print(f'En total ha obtenido {total} punto(s)')\n",
    "print('Final')"
   ]
  },
  {
   "cell_type": "markdown",
   "metadata": {},
   "source": [
    "# PRACTICA 19"
   ]
  },
  {
   "cell_type": "markdown",
   "metadata": {},
   "source": [
    "## 1)Escriba un programa que le pida al usuario un número entero mayor que cero y que luego imprima en pantalla sus divisores."
   ]
  },
  {
   "cell_type": "code",
   "execution_count": 66,
   "metadata": {},
   "outputs": [
    {
     "name": "stdout",
     "output_type": "stream",
     "text": [
      "Los divisores de 11 son: \n",
      "El divisor es 1\n",
      "El divisor es 11\n"
     ]
    }
   ],
   "source": [
    "numero = int(input('Ingrese un número mayo que cero: '))\n",
    "\n",
    "if numero > 0:\n",
    "    \n",
    "    print(f'Los divisores de {numero} son: ') \n",
    "    for i in range(1, numero+1):\n",
    "        if numero % i == 0:\n",
    "            print(f'El divisor es {i}')\n",
    "else:\n",
    "    print('No es divisor')"
   ]
  },
  {
   "cell_type": "markdown",
   "metadata": {},
   "source": [
    "## 2) Escriba un programa que pregunte al usuario cuántos números se van a introducir, pida esos números y escriba cuántos negativos ha introducido."
   ]
  },
  {
   "cell_type": "code",
   "execution_count": 76,
   "metadata": {},
   "outputs": [
    {
     "name": "stdout",
     "output_type": "stream",
     "text": [
      "Se han introducido 3 números negativos.\n",
      "-------------------------------------\n",
      "Fin\n"
     ]
    }
   ],
   "source": [
    "cuantos_num = int(input('Cuántos números desea introducir:  '))\n",
    "\n",
    "contador_negativos = 0 #USO CONTADOR\n",
    "\n",
    "for _ in range(cuantos_num):\n",
    "    numero = int(input('Introduzca un número: '))\n",
    "    if numero < 0:\n",
    "        contador_negativos += 1\n",
    "        \n",
    "print(f'Se han introducido {contador_negativos} números negativos.')\n",
    "print('-------------------------------------')\n",
    "print('Fin')\n",
    "\n"
   ]
  },
  {
   "cell_type": "markdown",
   "metadata": {},
   "source": [
    "## 3)  Escriba un programa que pida dos números enteros y escriba qué números son pares y cuáles impares desde el primero hasta el segundo."
   ]
  },
  {
   "cell_type": "code",
   "execution_count": 81,
   "metadata": {},
   "outputs": [
    {
     "name": "stdout",
     "output_type": "stream",
     "text": [
      "4 es un numero par\n",
      "5 es impar\n",
      "6 es un numero par\n",
      "7 es impar\n",
      "8 es un numero par\n"
     ]
    }
   ],
   "source": [
    "ent1 = int(input('Ingrese el primer número entero: '))\n",
    "ent2 = int(input('Ingrese el segundo número entero: '))\n",
    "\n",
    "if ent1>ent2:\n",
    "    ent1, ent2 = ent2, ent1\n",
    "\n",
    "for num in range(ent1, ent2 +1):\n",
    "    if num %2 == 0: \n",
    "        print(f'{num} es un numero par')\n",
    "    \n",
    "    else: \n",
    "        print(f'{num} es impar')"
   ]
  },
  {
   "cell_type": "markdown",
   "metadata": {},
   "source": [
    "## 4) Escriba un programa que pregunte cuántos números se van a introducir, pida esos números, y diga al final cuántos han sido pares y cuántos impares"
   ]
  },
  {
   "cell_type": "code",
   "execution_count": 85,
   "metadata": {},
   "outputs": [
    {
     "name": "stdout",
     "output_type": "stream",
     "text": [
      "Son pares: 2\n",
      "Son impares: 2\n"
     ]
    }
   ],
   "source": [
    "cuantos_num = int(input('Cuántos números desea introducir:  '))\n",
    "\n",
    "contador_pares = 0 #USO CONTADOR\n",
    "contador_impares= 0 #USO CONTADOR\n",
    "\n",
    "for _ in range(cuantos_num):\n",
    "    numero = int(input('Introduzca un número: '))\n",
    "    if numero % 2 == 0:\n",
    "        contador_pares += 1\n",
    "    else: \n",
    "        contador_impares +=1\n",
    "        \n",
    "print(f'Son pares: {contador_pares}')\n",
    "print(f'Son impares: {contador_impares}')"
   ]
  },
  {
   "cell_type": "markdown",
   "metadata": {},
   "source": [
    "## 5) Escriba un programa que pregunte cuantos números se van a introducir, pida esos números (que puedan ser decimales) y calcule su suma."
   ]
  },
  {
   "cell_type": "code",
   "execution_count": 90,
   "metadata": {},
   "outputs": [
    {
     "name": "stdout",
     "output_type": "stream",
     "text": [
      "La suma es: 11.2\n",
      "De los siguientes valores: [1.0, 2.0, 3.9, 4.3]\n"
     ]
    }
   ],
   "source": [
    "cuantos_num = int(input('Cuántos números desea introducir:  '))\n",
    "\n",
    "suma_valores = 0.0 #USO CONTADOR\n",
    "\n",
    "valores_int = [ ] #Lista para almacenar valores\n",
    "\n",
    "\n",
    "for _ in range(cuantos_num):\n",
    "    numero = float(input('Introduzca un número: '))\n",
    "    suma_valores += numero\n",
    "    valores_int.append(numero)\n",
    "            \n",
    "print(f'La suma es: {suma_valores}')\n",
    "print(f'De los siguientes valores: {valores_int}')"
   ]
  },
  {
   "cell_type": "markdown",
   "metadata": {},
   "source": [
    "## Integrados 2, 4 y 5 "
   ]
  },
  {
   "cell_type": "code",
   "execution_count": 112,
   "metadata": {},
   "outputs": [
    {
     "name": "stdout",
     "output_type": "stream",
     "text": [
      "[1.0, 4.0, -3.0, -6.0]\n",
      "Negativos: 2\n",
      "pares: 2\n",
      "impares: 2\n",
      "suma: -4.0\n",
      "Negativos: [-3.0, -6.0]\n",
      "pares: [4.0, -6.0]\n",
      "impares: [1.0, -3.0]\n",
      "suma: -4.0\n"
     ]
    }
   ],
   "source": [
    "totalNumero = int(input('Entre el total de números a introducir:'))\n",
    "negativos = 0\n",
    "pares = 0\n",
    "impares = 0\n",
    "sumaDecimales = 0\n",
    " \n",
    "listaNum = []\n",
    " \n",
    "for i in range(totalNumero):\n",
    "    num = float(input(f'Ingrese el número {i + 1} de {totalNumero}'))\n",
    "    listaNum.append( num)\n",
    "    negativos += 1 if num < 0 else 0\n",
    "    pares += 1 if num % 2 == 0 else 0\n",
    "    impares += 1 if num % 2 != 0 else 0\n",
    "    sumaDecimales += num\n",
    "\n",
    " \n",
    "print(listaNum)\n",
    "print(f'Negativos: {negativos}\\npares: {pares}\\nimpares: {impares}\\nsuma: {sumaDecimales}')\n",
    " \n",
    "print(f'Negativos: {list(filter(lambda x: (x < 0), listaNum))}\\npares: {list(filter(lambda x: (x % 2 == 0), listaNum))}\\nimpares: {list(filter(lambda x: (x % 2 != 0), listaNum))}\\nsuma: {sum(listaNum)}')"
   ]
  },
  {
   "cell_type": "markdown",
   "metadata": {},
   "source": [
    "## 6) Imprimir todos los dígitos decimales, del 0 al 9, utilizando una repetición "
   ]
  },
  {
   "cell_type": "code",
   "execution_count": 93,
   "metadata": {},
   "outputs": [
    {
     "name": "stdout",
     "output_type": "stream",
     "text": [
      "0*0 = 0\n",
      "0*1 = 0\n",
      "0*2 = 0\n",
      "0*3 = 0\n",
      "0*4 = 0\n",
      "0*5 = 0\n",
      "0*6 = 0\n",
      "0*7 = 0\n",
      "0*8 = 0\n",
      "0*9 = 0\n",
      "1*0 = 0\n",
      "1*1 = 1\n",
      "1*2 = 2\n",
      "1*3 = 3\n",
      "1*4 = 4\n",
      "1*5 = 5\n",
      "1*6 = 6\n",
      "1*7 = 7\n",
      "1*8 = 8\n",
      "1*9 = 9\n",
      "2*0 = 0\n",
      "2*1 = 2\n",
      "2*2 = 4\n",
      "2*3 = 6\n",
      "2*4 = 8\n",
      "2*5 = 10\n",
      "2*6 = 12\n",
      "2*7 = 14\n",
      "2*8 = 16\n",
      "2*9 = 18\n",
      "3*0 = 0\n",
      "3*1 = 3\n",
      "3*2 = 6\n",
      "3*3 = 9\n",
      "3*4 = 12\n",
      "3*5 = 15\n",
      "3*6 = 18\n",
      "3*7 = 21\n",
      "3*8 = 24\n",
      "3*9 = 27\n",
      "4*0 = 0\n",
      "4*1 = 4\n",
      "4*2 = 8\n",
      "4*3 = 12\n",
      "4*4 = 16\n",
      "4*5 = 20\n",
      "4*6 = 24\n",
      "4*7 = 28\n",
      "4*8 = 32\n",
      "4*9 = 36\n",
      "5*0 = 0\n",
      "5*1 = 5\n",
      "5*2 = 10\n",
      "5*3 = 15\n",
      "5*4 = 20\n",
      "5*5 = 25\n",
      "5*6 = 30\n",
      "5*7 = 35\n",
      "5*8 = 40\n",
      "5*9 = 45\n",
      "6*0 = 0\n",
      "6*1 = 6\n",
      "6*2 = 12\n",
      "6*3 = 18\n",
      "6*4 = 24\n",
      "6*5 = 30\n",
      "6*6 = 36\n",
      "6*7 = 42\n",
      "6*8 = 48\n",
      "6*9 = 54\n",
      "7*0 = 0\n",
      "7*1 = 7\n",
      "7*2 = 14\n",
      "7*3 = 21\n",
      "7*4 = 28\n",
      "7*5 = 35\n",
      "7*6 = 42\n",
      "7*7 = 49\n",
      "7*8 = 56\n",
      "7*9 = 63\n",
      "8*0 = 0\n",
      "8*1 = 8\n",
      "8*2 = 16\n",
      "8*3 = 24\n",
      "8*4 = 32\n",
      "8*5 = 40\n",
      "8*6 = 48\n",
      "8*7 = 56\n",
      "8*8 = 64\n",
      "8*9 = 72\n",
      "9*0 = 0\n",
      "9*1 = 9\n",
      "9*2 = 18\n",
      "9*3 = 27\n",
      "9*4 = 36\n",
      "9*5 = 45\n",
      "9*6 = 54\n",
      "9*7 = 63\n",
      "9*8 = 72\n",
      "9*9 = 81\n"
     ]
    }
   ],
   "source": [
    "for digitos in range (10):\n",
    "    for repeticion in range (10): \n",
    "        resultado = digitos * repeticion\n",
    "        print(f'{digitos}*{repeticion} = {resultado}')"
   ]
  },
  {
   "cell_type": "markdown",
   "metadata": {},
   "source": [
    "## 7) Imprimir todos los números entre el 100 y el 199."
   ]
  },
  {
   "cell_type": "code",
   "execution_count": 94,
   "metadata": {},
   "outputs": [
    {
     "name": "stdout",
     "output_type": "stream",
     "text": [
      "100\n",
      "101\n",
      "102\n",
      "103\n",
      "104\n",
      "105\n",
      "106\n",
      "107\n",
      "108\n",
      "109\n",
      "110\n",
      "111\n",
      "112\n",
      "113\n",
      "114\n",
      "115\n",
      "116\n",
      "117\n",
      "118\n",
      "119\n",
      "120\n",
      "121\n",
      "122\n",
      "123\n",
      "124\n",
      "125\n",
      "126\n",
      "127\n",
      "128\n",
      "129\n",
      "130\n",
      "131\n",
      "132\n",
      "133\n",
      "134\n",
      "135\n",
      "136\n",
      "137\n",
      "138\n",
      "139\n",
      "140\n",
      "141\n",
      "142\n",
      "143\n",
      "144\n",
      "145\n",
      "146\n",
      "147\n",
      "148\n",
      "149\n",
      "150\n",
      "151\n",
      "152\n",
      "153\n",
      "154\n",
      "155\n",
      "156\n",
      "157\n",
      "158\n",
      "159\n",
      "160\n",
      "161\n",
      "162\n",
      "163\n",
      "164\n",
      "165\n",
      "166\n",
      "167\n",
      "168\n",
      "169\n",
      "170\n",
      "171\n",
      "172\n",
      "173\n",
      "174\n",
      "175\n",
      "176\n",
      "177\n",
      "178\n",
      "179\n",
      "180\n",
      "181\n",
      "182\n",
      "183\n",
      "184\n",
      "185\n",
      "186\n",
      "187\n",
      "188\n",
      "189\n",
      "190\n",
      "191\n",
      "192\n",
      "193\n",
      "194\n",
      "195\n",
      "196\n",
      "197\n",
      "198\n",
      "199\n"
     ]
    }
   ],
   "source": [
    "for i in range (100, 200):\n",
    "    print(i)"
   ]
  },
  {
   "cell_type": "markdown",
   "metadata": {},
   "source": [
    "## 8) Imprimir los números entre el 5 y el 20, saltando de tres en tres."
   ]
  },
  {
   "cell_type": "code",
   "execution_count": 95,
   "metadata": {},
   "outputs": [
    {
     "name": "stdout",
     "output_type": "stream",
     "text": [
      "5\n",
      "8\n",
      "11\n",
      "14\n",
      "17\n",
      "20\n"
     ]
    }
   ],
   "source": [
    "for i in range (5,21, 3):\n",
    "    print(i)"
   ]
  },
  {
   "cell_type": "markdown",
   "metadata": {},
   "source": [
    "## 9) Solicitar al usuario que ingrese una frase y luego imprimir un listado de las vocales que aparecen en esa frase (sin repetirlas"
   ]
  },
  {
   "cell_type": "code",
   "execution_count": 97,
   "metadata": {},
   "outputs": [
    {
     "name": "stdout",
     "output_type": "stream",
     "text": [
      "La frase es: SOLO SE QUE NADA SE\n",
      "El numero de vocales no repetidas dentro de la frase son:  ['a', 'e', 'o', 'u']\n",
      "\n",
      "Fin\n"
     ]
    }
   ],
   "source": [
    "vocales = 'aeiou'\n",
    "\n",
    "frase= str(input('Introduzca una frase: '))\n",
    "print(f'La frase es: {frase}')\n",
    "\n",
    "nr_vocales = set() #Conjunto pata almacenar las vocales sin repetirlas\n",
    "\n",
    "\n",
    "for letra in frase.lower():\n",
    "    if letra in vocales: \n",
    "        nr_vocales.add(letra)\n",
    "\n",
    "print(f'El numero de vocales no repetidas dentro de la frase son:  {sorted(nr_vocales)}')\n",
    "print()\n",
    "print('Fin') \n",
    "     "
   ]
  },
  {
   "cell_type": "markdown",
   "metadata": {},
   "source": [
    "## 10)  Solicitar al usuario que ingrese una frase y luego imprimir la cantidad de vocales que se encuentran en dicha frase."
   ]
  },
  {
   "cell_type": "code",
   "execution_count": 100,
   "metadata": {},
   "outputs": [
    {
     "name": "stdout",
     "output_type": "stream",
     "text": [
      "La frase es: EL PLANETA SE ESTA CALENTANDO A MAS DEL 1.5 GRADOS POR AÑO\n",
      "\n",
      "El numero de vocales dentro de la frase son:  19\n",
      "\n",
      "Fin\n"
     ]
    }
   ],
   "source": [
    "vocales = 'aeiou'\n",
    "\n",
    "frase= str(input('Introduzca una frase: '))\n",
    "print(f'La frase es: {frase}\\n')\n",
    "\n",
    "nr_vocales = 0 #Conjunto pata almacenar las vocales sin repetirlas\n",
    "\n",
    "\n",
    "for letra in frase.lower():\n",
    "    if letra in vocales: \n",
    "        nr_vocales += 1\n",
    "\n",
    "print(f'El numero de vocales dentro de la frase son:  {nr_vocales}')\n",
    "print()\n",
    "print('Fin') "
   ]
  },
  {
   "cell_type": "markdown",
   "metadata": {},
   "source": [
    "## 11) Escribir un programa que muestre la sumatoria de todos los números entre el 0 y el 100"
   ]
  },
  {
   "cell_type": "code",
   "execution_count": 102,
   "metadata": {},
   "outputs": [
    {
     "name": "stdout",
     "output_type": "stream",
     "text": [
      "La sumatoria de todos los números entre el 0 y 100 es: 5050\n"
     ]
    }
   ],
   "source": [
    "suma = 0 #Utilizo un contador\n",
    "for i in range (101):\n",
    "    suma += i\n",
    "print(f'La sumatoria de todos los números entre el 0 y 100 es: {suma}') \n",
    "    "
   ]
  },
  {
   "cell_type": "markdown",
   "metadata": {},
   "source": [
    "## 12) Escribir un programa que muestre la sumatoria de todos los múltiplos de 3 encontrados  entre el 0 y el 100"
   ]
  },
  {
   "cell_type": "code",
   "execution_count": 103,
   "metadata": {},
   "outputs": [
    {
     "name": "stdout",
     "output_type": "stream",
     "text": [
      "La sumatoria de todos los múltiplos de 3 es: 1683\n"
     ]
    }
   ],
   "source": [
    "suma = 0 #Utilizo un contador\n",
    "for i in range (101):\n",
    "    if i % 3 == 0:\n",
    "        suma += i\n",
    "print(f'La sumatoria de todos los múltiplos de 3 es: {suma}') "
   ]
  },
  {
   "cell_type": "markdown",
   "metadata": {},
   "source": [
    "## 13)  Escribir un programa que permita al usuario ingresar 6 números enteros, que pueden ser  positivos o negativos. Al finalizar, mostrar la sumatoria de los números negativos y el promedio  de los positivos. No olvides que no es posible dividir por cero, por lo que es necesario evitar  que el programa arroje un error si no se ingresaron números positivos. "
   ]
  },
  {
   "cell_type": "code",
   "execution_count": 110,
   "metadata": {},
   "outputs": [
    {
     "name": "stdout",
     "output_type": "stream",
     "text": [
      "-4\n",
      "Promedio de positivos: 4.0\n",
      "Suma de negativos: 3\n"
     ]
    }
   ],
   "source": [
    "numeros = 6\n",
    "sum_positivos = 0\n",
    "sum_negativos = 0 \n",
    "cant_positivos = 0\n",
    "\n",
    "for _ in range(numeros):\n",
    "    numero = int(input('Introduzca un número: '))\n",
    "    if numero > 0:\n",
    "        sum_positivos += numero\n",
    "        cant_positivos += 1\n",
    "    elif numero < 0:\n",
    "        sum_negativos += 1\n",
    "\n",
    "if cant_positivos != 0:\n",
    "    promedio_positivos = sum_positivos/cant_positivos\n",
    "else:\n",
    "    promedio_positivos = 0\n",
    "\n",
    "print(numero)\n",
    "print(f'Promedio de positivos: {promedio_positivos}')\n",
    "print(f'Suma de negativos: {sum_negativos}')"
   ]
  },
  {
   "cell_type": "markdown",
   "metadata": {},
   "source": [
    "## 14) Dado un número entero positivo, mostrar su factorial. El factorial de un número se obtiene  multiplicando todos los números enteros positivos que hay entre el 1 y ese número"
   ]
  },
  {
   "cell_type": "code",
   "execution_count": 1,
   "metadata": {},
   "outputs": [
    {
     "name": "stdout",
     "output_type": "stream",
     "text": [
      "El factorial de 6 es 720\n"
     ]
    }
   ],
   "source": [
    "numero = int(input(\"Ingrese un número entero positivo: \"))\n",
    "\n",
    "factorial = 1\n",
    "for i in range(1, numero + 1):\n",
    "    factorial *= i\n",
    "\n",
    "print(\"El factorial de\", numero, \"es\", factorial)"
   ]
  },
  {
   "cell_type": "markdown",
   "metadata": {},
   "source": [
    "## 15) Escribir un programa que pida al usuario una palabra y luego muestre por pantalla una a  una las letras de la palabra introducida empezando por la última"
   ]
  },
  {
   "cell_type": "code",
   "execution_count": 2,
   "metadata": {},
   "outputs": [
    {
     "name": "stdout",
     "output_type": "stream",
     "text": [
      "a\n",
      "d\n",
      "n\n",
      "a\n",
      "r\n",
      "a\n",
      "u\n",
      "g\n"
     ]
    }
   ],
   "source": [
    "palabra = str(input('Ingrese una palabra: '))\n",
    "\n",
    "for i in range(len(palabra) -1,-1,-1):\n",
    "    print(palabra[i])"
   ]
  }
 ],
 "metadata": {
  "kernelspec": {
   "display_name": "Curso_Python",
   "language": "python",
   "name": "python3"
  },
  "language_info": {
   "codemirror_mode": {
    "name": "ipython",
    "version": 3
   },
   "file_extension": ".py",
   "mimetype": "text/x-python",
   "name": "python",
   "nbconvert_exporter": "python",
   "pygments_lexer": "ipython3",
   "version": "3.11.9"
  }
 },
 "nbformat": 4,
 "nbformat_minor": 2
}
