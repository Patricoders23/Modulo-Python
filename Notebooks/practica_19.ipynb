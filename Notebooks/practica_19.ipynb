{
 "cells": [
  {
   "cell_type": "markdown",
   "metadata": {},
   "source": [
    "# BUCLES O CICLO FOR "
   ]
  },
  {
   "cell_type": "code",
   "execution_count": null,
   "metadata": {},
   "outputs": [],
   "source": []
  },
  {
   "cell_type": "code",
   "execution_count": null,
   "metadata": {},
   "outputs": [],
   "source": []
  },
  {
   "cell_type": "code",
   "execution_count": null,
   "metadata": {},
   "outputs": [],
   "source": []
  },
  {
   "cell_type": "markdown",
   "metadata": {},
   "source": [
    "## Ejercicios en clase: "
   ]
  },
  {
   "cell_type": "code",
   "execution_count": 2,
   "metadata": {},
   "outputs": [
    {
     "name": "stdout",
     "output_type": "stream",
     "text": [
      "L\n",
      "e\n",
      "a\n",
      "r\n",
      "n\n",
      " \n",
      "P\n",
      "y\n",
      "t\n",
      "h\n",
      "o\n",
      "n\n"
     ]
    }
   ],
   "source": [
    "palabra= 'Learn Python'\n",
    "\n",
    "for letra in palabra:\n",
    "    print(letra)"
   ]
  },
  {
   "cell_type": "code",
   "execution_count": 3,
   "metadata": {},
   "outputs": [
    {
     "name": "stdout",
     "output_type": "stream",
     "text": [
      "1\n",
      "2\n",
      "3\n"
     ]
    }
   ],
   "source": [
    "#Recorre una lista\n",
    "numeros = (1,2,3)\n",
    "\n",
    "for numero in numeros:\n",
    "    print(numero)"
   ]
  },
  {
   "cell_type": "code",
   "execution_count": 14,
   "metadata": {},
   "outputs": [
    {
     "name": "stdout",
     "output_type": "stream",
     "text": [
      "a 1\n",
      "b 2\n",
      "c 3\n"
     ]
    }
   ],
   "source": [
    "#Recorre un diccionario\n",
    "numeros = {'a':1,'b':2,'c':3}\n",
    "\n",
    "for k,v in numeros.items():\n",
    "    print(k, v)"
   ]
  },
  {
   "cell_type": "code",
   "execution_count": 6,
   "metadata": {},
   "outputs": [
    {
     "name": "stdout",
     "output_type": "stream",
     "text": [
      "Comienzo\n",
      "\n",
      "Final\n"
     ]
    }
   ],
   "source": [
    "print('Comienzo')\n",
    "\n",
    "for i in []:  #SI LA LISTA ESTÁ VACIA NO SE EJECUTA NINGUNA VEZ\n",
    "    print('Hola', end= ' ')\n",
    "print()\n",
    "print('Final')"
   ]
  },
  {
   "cell_type": "code",
   "execution_count": 38,
   "metadata": {},
   "outputs": [
    {
     "name": "stdout",
     "output_type": "stream",
     "text": [
      "Comienzo Segundo\n",
      "Hola a   ----!Hola 1000   ----!Hola 0   ----!Hola 687899098   ----!\n",
      "Final\n"
     ]
    }
   ],
   "source": [
    "print('Comienzo', 'Segundo')\n",
    "\n",
    "for i in ['a',1000,00, 687899098]:\n",
    "    print(f'Hola {i}',  end= '   ----!',)\n",
    "print()\n",
    "print('Final')"
   ]
  },
  {
   "cell_type": "code",
   "execution_count": 39,
   "metadata": {},
   "outputs": [
    {
     "name": "stdout",
     "output_type": "stream",
     "text": [
      "Comienzo Segundo\n",
      "Hola   ----!Hola   ----!Hola   ----!Hola   ----!\n",
      "Final\n"
     ]
    }
   ],
   "source": [
    "print('Comienzo', 'Segundo')\n",
    "\n",
    "for i in ['a',1000, 00, 687899098]:\n",
    "    print('Hola',  end= '   ----!',)\n",
    "print()\n",
    "print('Final')"
   ]
  },
  {
   "cell_type": "code",
   "execution_count": 42,
   "metadata": {},
   "outputs": [
    {
     "name": "stdout",
     "output_type": "stream",
     "text": [
      "Comienzo\n",
      "Hola  Hola  Hola  \n",
      "Final\n"
     ]
    }
   ],
   "source": [
    "print('Comienzo')\n",
    "\n",
    "for _ in [0,1,2]: #se puede utilizar el guion bajo (_) en vez de un nombre de variable\n",
    "    print('Hola ', end= ' ')\n",
    "print()\n",
    "print('Final')"
   ]
  },
  {
   "cell_type": "code",
   "execution_count": 50,
   "metadata": {},
   "outputs": [
    {
     "name": "stdout",
     "output_type": "stream",
     "text": [
      "Comienzo\n",
      "Hola. Ahora i vale3 y su cuadrado 9;\tHola. Ahora i vale4 y su cuadrado 16;\tHola. Ahora i vale5 y su cuadrado 25;\tFinal\n"
     ]
    }
   ],
   "source": [
    "print ('Comienzo')\n",
    "\n",
    "for i in [3,4,5]:\n",
    "    print(f'Hola. Ahora i vale{i} y su cuadrado {i**2}', end=';\\t')\n",
    "print('Final')"
   ]
  },
  {
   "cell_type": "code",
   "execution_count": 52,
   "metadata": {},
   "outputs": [
    {
     "name": "stdout",
     "output_type": "stream",
     "text": [
      "Comienzo\n",
      "Hola. Ahora i vale Alba\n",
      "Hola. Ahora i vale Benito\n",
      "Hola. Ahora i vale 27\n",
      "Hola. Ahora i vale True\n",
      "Hola. Ahora i vale 2.54\n",
      "Final\n"
     ]
    }
   ],
   "source": [
    "print('Comienzo')\n",
    "\n",
    "for i in ['Alba', 'Benito', 27, True, 2.54]:\n",
    "    print(f'Hola. Ahora i vale {i}')\n",
    "print('Final')"
   ]
  },
  {
   "cell_type": "code",
   "execution_count": 53,
   "metadata": {},
   "outputs": [
    {
     "name": "stdout",
     "output_type": "stream",
     "text": [
      "El bucle no ha comenzado. Ahora i vale 10\n",
      "0* 0 = 0\n",
      "1* 1 = 1\n",
      "2* 2 = 4\n",
      "3* 3 = 9\n",
      "4* 4 = 16\n",
      "El bucle ha terminado. Ahora i vale 4\n"
     ]
    }
   ],
   "source": [
    "i = 10\n",
    "print(f'El bucle no ha comenzado. Ahora i vale {i}')\n",
    "\n",
    "for i in [0,1,2,3,4]:\n",
    "    print(f'{i}* {i} = {i**2}')\n",
    "\n",
    "print(f'El bucle ha terminado. Ahora i vale {i}')"
   ]
  }
 ],
 "metadata": {
  "kernelspec": {
   "display_name": "Curso_Python",
   "language": "python",
   "name": "python3"
  },
  "language_info": {
   "codemirror_mode": {
    "name": "ipython",
    "version": 3
   },
   "file_extension": ".py",
   "mimetype": "text/x-python",
   "name": "python",
   "nbconvert_exporter": "python",
   "pygments_lexer": "ipython3",
   "version": "3.11.9"
  }
 },
 "nbformat": 4,
 "nbformat_minor": 2
}
