{
 "cells": [
  {
   "cell_type": "markdown",
   "metadata": {},
   "source": [
    "# DICCIONARIOS"
   ]
  },
  {
   "cell_type": "code",
   "execution_count": 67,
   "metadata": {},
   "outputs": [
    {
     "data": {
      "text/plain": [
       "{2015: 2135209, 2016: 2154924, 2017: 2177048, 2028: 2220270}"
      ]
     },
     "execution_count": 67,
     "metadata": {},
     "output_type": "execute_result"
    }
   ],
   "source": [
    "poblacion_perros = {\n",
    "    2015: 2_135_209,\n",
    "    2016: 2_154_924,\n",
    "    2017: 2_177_048,\n",
    "    2028: 2_220_270\n",
    "}\n",
    "\n",
    "poblacion_perros"
   ]
  },
  {
   "cell_type": "code",
   "execution_count": 68,
   "metadata": {},
   "outputs": [],
   "source": [
    "paises_capitales = {\n",
    "    \"España\": \"Madrid\",\n",
    "    \"Francia\": \"París\",\n",
    "    \"Italia\": \"Roma\",\n",
    "    \"Alemania\": \"Berlín\",\n",
    "    \"Reino Unido\": \"Londres\"\n",
    "}\n"
   ]
  },
  {
   "cell_type": "markdown",
   "metadata": {},
   "source": [
    "### Conversión:"
   ]
  },
  {
   "cell_type": "code",
   "execution_count": 69,
   "metadata": {},
   "outputs": [
    {
     "data": {
      "text/plain": [
       "{'a': '1', 'b': '1'}"
      ]
     },
     "execution_count": 69,
     "metadata": {},
     "output_type": "execute_result"
    }
   ],
   "source": [
    "dict(['a1', 'b1'])"
   ]
  },
  {
   "cell_type": "code",
   "execution_count": 70,
   "metadata": {},
   "outputs": [
    {
     "data": {
      "text/plain": [
       "{'1': '2', '4': '5'}"
      ]
     },
     "execution_count": 70,
     "metadata": {},
     "output_type": "execute_result"
    }
   ],
   "source": [
    "dict(['12', '45'])"
   ]
  },
  {
   "cell_type": "code",
   "execution_count": 71,
   "metadata": {},
   "outputs": [
    {
     "ename": "ValueError",
     "evalue": "dictionary update sequence element #0 has length 4; 2 is required",
     "output_type": "error",
     "traceback": [
      "\u001b[1;31m---------------------------------------------------------------------------\u001b[0m",
      "\u001b[1;31mValueError\u001b[0m                                Traceback (most recent call last)",
      "Cell \u001b[1;32mIn[71], line 1\u001b[0m\n\u001b[1;32m----> 1\u001b[0m \u001b[38;5;28;43mdict\u001b[39;49m\u001b[43m(\u001b[49m\u001b[43m[\u001b[49m\u001b[38;5;124;43m'\u001b[39;49m\u001b[38;5;124;43ma123\u001b[39;49m\u001b[38;5;124;43m'\u001b[39;49m\u001b[43m,\u001b[49m\u001b[43m \u001b[49m\u001b[38;5;124;43m'\u001b[39;49m\u001b[38;5;124;43mb123\u001b[39;49m\u001b[38;5;124;43m'\u001b[39;49m\u001b[43m]\u001b[49m\u001b[43m)\u001b[49m\n",
      "\u001b[1;31mValueError\u001b[0m: dictionary update sequence element #0 has length 4; 2 is required"
     ]
    }
   ],
   "source": [
    "dict(['a123', 'b123'])"
   ]
  },
  {
   "cell_type": "code",
   "execution_count": null,
   "metadata": {},
   "outputs": [
    {
     "data": {
      "text/plain": [
       "{'a': '2', 'b': '3'}"
      ]
     },
     "execution_count": 7,
     "metadata": {},
     "output_type": "execute_result"
    }
   ],
   "source": [
    "# Diccionario a partir de una tupla \n",
    "\n",
    "dict(('a2', 'b3'))"
   ]
  },
  {
   "cell_type": "code",
   "execution_count": null,
   "metadata": {},
   "outputs": [
    {
     "data": {
      "text/plain": [
       "{'a': 1, 'b': 2}"
      ]
     },
     "execution_count": 9,
     "metadata": {},
     "output_type": "execute_result"
    }
   ],
   "source": [
    "# Diccionario a partir de una lista \n",
    "\n",
    "dict([[ 'a',1],['b',2]])"
   ]
  },
  {
   "cell_type": "code",
   "execution_count": null,
   "metadata": {},
   "outputs": [
    {
     "data": {
      "text/plain": [
       "{'nombre': 'Guido', 'apellido': 'Van Rossum', 'job': 'Creador de Python'}"
      ]
     },
     "execution_count": 10,
     "metadata": {},
     "output_type": "execute_result"
    }
   ],
   "source": [
    "persona = dict ( \n",
    "    nombre = 'Guido',\n",
    "    apellido = 'Van Rossum',\n",
    "    job =  'Creador de Python'\n",
    ")\n",
    "persona"
   ]
  },
  {
   "cell_type": "code",
   "execution_count": null,
   "metadata": {},
   "outputs": [],
   "source": [
    "#Es posible crear un diccionario especificando sus claves y un único valor de «relleno»:\n",
    "\n",
    "dic = dict.fromkeys('aeiou',0)"
   ]
  },
  {
   "cell_type": "code",
   "execution_count": null,
   "metadata": {},
   "outputs": [
    {
     "data": {
      "text/plain": [
       "('a', 'e', 'i', 'o', 'u')"
      ]
     },
     "execution_count": 14,
     "metadata": {},
     "output_type": "execute_result"
    }
   ],
   "source": [
    "dic1=tuple(dic)\n",
    "dic1"
   ]
  },
  {
   "cell_type": "code",
   "execution_count": null,
   "metadata": {},
   "outputs": [
    {
     "data": {
      "text/plain": [
       "{'a': 2, 'e': 2, 'i': 2, 'o': 2, 'u': 2}"
      ]
     },
     "execution_count": 20,
     "metadata": {},
     "output_type": "execute_result"
    }
   ],
   "source": [
    "dict.fromkeys(('a', 'e', 'i', 'o', 'u'),2)"
   ]
  },
  {
   "cell_type": "code",
   "execution_count": null,
   "metadata": {},
   "outputs": [
    {
     "data": {
      "text/plain": [
       "{7: 2, 6: 2, 5: 2, 4: 2, 3: 2}"
      ]
     },
     "execution_count": 21,
     "metadata": {},
     "output_type": "execute_result"
    }
   ],
   "source": [
    "dict.fromkeys([7,6,5,4,3],2)"
   ]
  },
  {
   "cell_type": "markdown",
   "metadata": {},
   "source": [
    "### Operaciones con diccionarios "
   ]
  },
  {
   "cell_type": "code",
   "execution_count": null,
   "metadata": {},
   "outputs": [
    {
     "data": {
      "text/plain": [
       "'Que tiende al desorden'"
      ]
     },
     "execution_count": 22,
     "metadata": {},
     "output_type": "execute_result"
    }
   ],
   "source": [
    "rae = {\n",
    "    'bifronte': 'De dos Frentes o dos caras ',\n",
    "    'anarcoide': 'Que tiende al desorden',\n",
    "    'montuvio': 'Campesino'\n",
    "}\n",
    "rae['anarcoide']"
   ]
  },
  {
   "cell_type": "markdown",
   "metadata": {},
   "source": [
    "### función get()"
   ]
  },
  {
   "cell_type": "code",
   "execution_count": null,
   "metadata": {},
   "outputs": [
    {
     "data": {
      "text/plain": [
       "'De dos frentes o dos caras '"
      ]
     },
     "execution_count": 24,
     "metadata": {},
     "output_type": "execute_result"
    }
   ],
   "source": [
    "rae = {\n",
    "    'bifronte': 'De dos frentes o dos caras ',\n",
    "    'anarcoide': 'Que tiende al desorden',\n",
    "    'montuvio': 'Campesino'\n",
    "}\n",
    "rae.get('bifronte')"
   ]
  },
  {
   "cell_type": "code",
   "execution_count": null,
   "metadata": {},
   "outputs": [
    {
     "data": {
      "text/plain": [
       "'No disponible'"
      ]
     },
     "execution_count": 26,
     "metadata": {},
     "output_type": "execute_result"
    }
   ],
   "source": [
    "rae.get('programacion','No disponible')"
   ]
  },
  {
   "cell_type": "code",
   "execution_count": null,
   "metadata": {},
   "outputs": [],
   "source": [
    "ml_concepts = {\n",
    "    \"Supervised Learning\":  \"Training a model on labeled data, example: Image classification\",\n",
    "    \"Unsupervised Learning\":\"Training a model on unlabeled data, example: Clustering\",\n",
    "    \"Neural Networks\": \"A model inspired by the human brain, example: Deep learning\",\n",
    "    \"Overfitting\":  \"When a model is too complex for the data, example: High variance\",\n",
    "    \"Bias-Variance Tradeoff\": \"Balancing model simplicity and complexity, example: Model selection\"\n",
    "    }\n"
   ]
  },
  {
   "cell_type": "code",
   "execution_count": null,
   "metadata": {},
   "outputs": [
    {
     "data": {
      "text/plain": [
       "'Training a model on unlabeled data, example: Clustering'"
      ]
     },
     "execution_count": 36,
     "metadata": {},
     "output_type": "execute_result"
    }
   ],
   "source": [
    "ml_concepts\n",
    "\n",
    "ml_concepts.get(\"Unsupervised Learning\")"
   ]
  },
  {
   "cell_type": "code",
   "execution_count": null,
   "metadata": {},
   "outputs": [
    {
     "data": {
      "text/plain": [
       "{'Supervised Learning': 'Training a model on labeled data, example: Image classification',\n",
       " 'Unsupervised Learning': 'Training a model on unlabeled data, example: Clustering',\n",
       " 'Neural Networks': 'A model inspired by the human brain, example: Deep learning',\n",
       " 'Overfitting': 'Cuando un modelo es muy complejo para la data, ejemplo alta variancia',\n",
       " 'Bias-Variance Tradeoff': 'Balancing model simplicity and complexity, example: Model selection'}"
      ]
     },
     "execution_count": 38,
     "metadata": {},
     "output_type": "execute_result"
    }
   ],
   "source": [
    "#Mofifico\n",
    "\n",
    "ml_concepts[\"Overfitting\"] = \"Cuando un modelo es muy complejo para la data, ejemplo alta variancia\"\n",
    "ml_concepts"
   ]
  },
  {
   "cell_type": "markdown",
   "metadata": {},
   "source": [
    "### Utilizo el patrón de creación, creando desde vacío"
   ]
  },
  {
   "cell_type": "code",
   "execution_count": null,
   "metadata": {},
   "outputs": [
    {
     "data": {
      "text/plain": [
       "{'a': 1, 'e': 2, 'i': 3, 'o': 4, 'u': 5}"
      ]
     },
     "execution_count": 39,
     "metadata": {},
     "output_type": "execute_result"
    }
   ],
   "source": [
    "vocales = 'aeiou'\n",
    "enum_vocales = { }\n",
    "\n",
    "for i, vocal in enumerate(vocales, start = 1):\n",
    "    enum_vocales[vocal] = i \n",
    "    \n",
    "\n",
    "enum_vocales"
   ]
  },
  {
   "cell_type": "code",
   "execution_count": null,
   "metadata": {},
   "outputs": [
    {
     "data": {
      "text/plain": [
       "{'Supervised Learning': 'Training a model on labeled data, example: Image classification',\n",
       " 'Unsupervised Learning': 'Training a model on unlabeled data, example: Clustering',\n",
       " 'Neural Networks': 'A model inspired by the human brain, example: Deep learning',\n",
       " 'Overfitting': 'Cuando un modelo es muy complejo para la data, ejemplo alta variancia',\n",
       " 'Bias-Variance Tradeoff': 'Balancing model simplicity and complexity, example: Model selection',\n",
       " 'Gradient Descent': 'An optimization algorithm used to minimize the loss function, example: Linear regression',\n",
       " 'K-Means Clustering': 'A type of unsupervised learning algorithm, example: Customer segmentation'}"
      ]
     },
     "execution_count": 40,
     "metadata": {},
     "output_type": "execute_result"
    }
   ],
   "source": [
    "ml_concepts[\"Gradient Descent\"] = \"An optimization algorithm used to minimize the loss function, example: Linear regression\"\n",
    "ml_concepts[\"K-Means Clustering\"] = \"A type of unsupervised learning algorithm, example: Customer segmentation\"\n",
    "\n",
    "ml_concepts"
   ]
  },
  {
   "cell_type": "code",
   "execution_count": null,
   "metadata": {},
   "outputs": [
    {
     "data": {
      "text/plain": [
       "True"
      ]
     },
     "execution_count": 45,
     "metadata": {},
     "output_type": "execute_result"
    }
   ],
   "source": [
    "\"K-Means Clustering\" in ml_concepts"
   ]
  },
  {
   "cell_type": "markdown",
   "metadata": {},
   "source": [
    "### Obtener todas las claves y valor"
   ]
  },
  {
   "cell_type": "code",
   "execution_count": null,
   "metadata": {},
   "outputs": [
    {
     "data": {
      "text/plain": [
       "dict_keys(['Supervised Learning', 'Unsupervised Learning', 'Neural Networks', 'Overfitting', 'Bias-Variance Tradeoff', 'Gradient Descent', 'K-Means Clustering'])"
      ]
     },
     "execution_count": 46,
     "metadata": {},
     "output_type": "execute_result"
    }
   ],
   "source": [
    "ml_concepts.keys()"
   ]
  },
  {
   "cell_type": "code",
   "execution_count": null,
   "metadata": {},
   "outputs": [
    {
     "data": {
      "text/plain": [
       "dict_values(['Training a model on labeled data, example: Image classification', 'Training a model on unlabeled data, example: Clustering', 'A model inspired by the human brain, example: Deep learning', 'Cuando un modelo es muy complejo para la data, ejemplo alta variancia', 'Balancing model simplicity and complexity, example: Model selection', 'An optimization algorithm used to minimize the loss function, example: Linear regression', 'A type of unsupervised learning algorithm, example: Customer segmentation'])"
      ]
     },
     "execution_count": 50,
     "metadata": {},
     "output_type": "execute_result"
    }
   ],
   "source": [
    "ml_concepts.values()"
   ]
  },
  {
   "cell_type": "code",
   "execution_count": null,
   "metadata": {},
   "outputs": [
    {
     "data": {
      "text/plain": [
       "dict_items([('Supervised Learning', 'Training a model on labeled data, example: Image classification'), ('Unsupervised Learning', 'Training a model on unlabeled data, example: Clustering'), ('Neural Networks', 'A model inspired by the human brain, example: Deep learning'), ('Overfitting', 'Cuando un modelo es muy complejo para la data, ejemplo alta variancia'), ('Bias-Variance Tradeoff', 'Balancing model simplicity and complexity, example: Model selection'), ('Gradient Descent', 'An optimization algorithm used to minimize the loss function, example: Linear regression'), ('K-Means Clustering', 'A type of unsupervised learning algorithm, example: Customer segmentation')])"
      ]
     },
     "execution_count": 51,
     "metadata": {},
     "output_type": "execute_result"
    }
   ],
   "source": [
    "ml_concepts.items()"
   ]
  },
  {
   "cell_type": "code",
   "execution_count": null,
   "metadata": {},
   "outputs": [
    {
     "data": {
      "text/plain": [
       "7"
      ]
     },
     "execution_count": 52,
     "metadata": {},
     "output_type": "execute_result"
    }
   ],
   "source": [
    "len(ml_concepts)"
   ]
  },
  {
   "cell_type": "markdown",
   "metadata": {},
   "source": [
    "### Iterar sobre clave y valor:"
   ]
  },
  {
   "cell_type": "code",
   "execution_count": null,
   "metadata": {},
   "outputs": [
    {
     "name": "stdout",
     "output_type": "stream",
     "text": [
      "Supervised Learning\n",
      "Unsupervised Learning\n",
      "Neural Networks\n",
      "Overfitting\n",
      "Bias-Variance Tradeoff\n",
      "Gradient Descent\n",
      "K-Means Clustering\n"
     ]
    }
   ],
   "source": [
    "for word in ml_concepts.keys():\n",
    "    print (word)"
   ]
  },
  {
   "cell_type": "code",
   "execution_count": null,
   "metadata": {},
   "outputs": [
    {
     "name": "stdout",
     "output_type": "stream",
     "text": [
      "Training a model on labeled data, example: Image classification\n",
      "Training a model on unlabeled data, example: Clustering\n",
      "A model inspired by the human brain, example: Deep learning\n",
      "Cuando un modelo es muy complejo para la data, ejemplo alta variancia\n",
      "Balancing model simplicity and complexity, example: Model selection\n",
      "An optimization algorithm used to minimize the loss function, example: Linear regression\n",
      "A type of unsupervised learning algorithm, example: Customer segmentation\n"
     ]
    }
   ],
   "source": [
    "for meaning in ml_concepts.values():\n",
    "    print (meaning)"
   ]
  },
  {
   "cell_type": "markdown",
   "metadata": {},
   "source": [
    "### Iterar sobre clave-valor:"
   ]
  },
  {
   "cell_type": "code",
   "execution_count": null,
   "metadata": {},
   "outputs": [
    {
     "name": "stdout",
     "output_type": "stream",
     "text": [
      "Supervised Learning:   Training a model on labeled data, example: Image classification\n",
      "Unsupervised Learning:   Training a model on unlabeled data, example: Clustering\n",
      "Neural Networks:   A model inspired by the human brain, example: Deep learning\n",
      "Overfitting:   Cuando un modelo es muy complejo para la data, ejemplo alta variancia\n",
      "Bias-Variance Tradeoff:   Balancing model simplicity and complexity, example: Model selection\n",
      "Gradient Descent:   An optimization algorithm used to minimize the loss function, example: Linear regression\n",
      "K-Means Clustering:   A type of unsupervised learning algorithm, example: Customer segmentation\n"
     ]
    }
   ],
   "source": [
    "for word,meaning in ml_concepts.items():\n",
    "    print (f'{word}:   {meaning}')"
   ]
  },
  {
   "cell_type": "markdown",
   "metadata": {},
   "source": [
    "### Combinar diccionarios:"
   ]
  },
  {
   "cell_type": "code",
   "execution_count": null,
   "metadata": {},
   "outputs": [],
   "source": [
    "ml1= {'Supervised Learning': 'Training a model on labeled data: Image classification',\n",
    " 'Unsupervised Learning': 'Training a model on unlabeled data: Clustering',\n",
    " 'Neural Networks': 'A model inspired by the human brain: Deep learning',\n",
    " 'Overfitting': 'Cuando un modelo es muy complejo para la data: alta variancia'\n",
    "}\n",
    "\n",
    "ml2 = {'Bias-Variance Tradeoff': 'Balancing model simplicity and complexity, example: Model selection',\n",
    " 'Gradient Descent': 'An optimization algorithm used to minimize the loss function, example: Linear regression',\n",
    " 'K-Means Clustering': 'A type of unsupervised learning algorithm, example: Customer segmentation'\n",
    " }"
   ]
  },
  {
   "cell_type": "code",
   "execution_count": null,
   "metadata": {},
   "outputs": [
    {
     "data": {
      "text/plain": [
       "{'Supervised Learning': 'Training a model on labeled data: Image classification',\n",
       " 'Unsupervised Learning': 'Training a model on unlabeled data: Clustering',\n",
       " 'Neural Networks': 'A model inspired by the human brain: Deep learning',\n",
       " 'Overfitting': 'Cuando un modelo es muy complejo para la data: alta variancia',\n",
       " 'Bias-Variance Tradeoff': 'Balancing model simplicity and complexity, example: Model selection',\n",
       " 'Gradient Descent': 'An optimization algorithm used to minimize the loss function, example: Linear regression',\n",
       " 'K-Means Clustering': 'A type of unsupervised learning algorithm, example: Customer segmentation'}"
      ]
     },
     "execution_count": 59,
     "metadata": {},
     "output_type": "execute_result"
    }
   ],
   "source": [
    "{**ml1, **ml2}"
   ]
  },
  {
   "cell_type": "code",
   "execution_count": null,
   "metadata": {},
   "outputs": [
    {
     "data": {
      "text/plain": [
       "{'Supervised Learning': 'Training a model on labeled data: Image classification',\n",
       " 'Unsupervised Learning': 'Training a model on unlabeled data: Clustering',\n",
       " 'Neural Networks': 'A model inspired by the human brain: Deep learning',\n",
       " 'Overfitting': 'Cuando un modelo es muy complejo para la data: alta variancia',\n",
       " 'Bias-Variance Tradeoff': 'Balancing model simplicity and complexity, example: Model selection',\n",
       " 'Gradient Descent': 'An optimization algorithm used to minimize the loss function, example: Linear regression',\n",
       " 'K-Means Clustering': 'A type of unsupervised learning algorithm, example: Customer segmentation'}"
      ]
     },
     "execution_count": 60,
     "metadata": {},
     "output_type": "execute_result"
    }
   ],
   "source": [
    "ml1 | ml2"
   ]
  },
  {
   "cell_type": "code",
   "execution_count": null,
   "metadata": {},
   "outputs": [
    {
     "data": {
      "text/plain": [
       "{'Supervised Learning': 'Training a model on labeled data: Image classification',\n",
       " 'Unsupervised Learning': 'Training a model on unlabeled data: Clustering',\n",
       " 'Neural Networks': 'A model inspired by the human brain: Deep learning',\n",
       " 'Overfitting': 'Cuando un modelo es muy complejo para la data: alta variancia',\n",
       " 'Bias-Variance Tradeoff': 'Balancing model simplicity and complexity, example: Model selection',\n",
       " 'Gradient Descent': 'An optimization algorithm used to minimize the loss function, example: Linear regression',\n",
       " 'K-Means Clustering': 'A type of unsupervised learning algorithm, example: Customer segmentation'}"
      ]
     },
     "execution_count": 61,
     "metadata": {},
     "output_type": "execute_result"
    }
   ],
   "source": [
    "ml1.update(ml2)\n",
    "\n",
    "ml1"
   ]
  },
  {
   "cell_type": "markdown",
   "metadata": {},
   "source": [
    "### Borrar elementos"
   ]
  },
  {
   "cell_type": "code",
   "execution_count": 72,
   "metadata": {},
   "outputs": [
    {
     "data": {
      "text/plain": [
       "{'Supervised Learning': 'Training a model on labeled data: Image classification',\n",
       " 'Unsupervised Learning': 'Training a model on unlabeled data: Clustering',\n",
       " 'Neural Networks': 'A model inspired by the human brain: Deep learning',\n",
       " 'Overfitting': 'Cuando un modelo es muy complejo para la data: alta variancia',\n",
       " 'Bias-Variance Tradeoff': 'Balancing model simplicity and complexity, example: Model selection',\n",
       " 'K-Means Clustering': 'A type of unsupervised learning algorithm, example: Customer segmentation'}"
      ]
     },
     "execution_count": 72,
     "metadata": {},
     "output_type": "execute_result"
    }
   ],
   "source": [
    "del ml2['Gradient Descent']\n",
    "\n",
    "ml1"
   ]
  },
  {
   "cell_type": "code",
   "execution_count": 74,
   "metadata": {},
   "outputs": [
    {
     "data": {
      "text/plain": [
       "6"
      ]
     },
     "execution_count": 74,
     "metadata": {},
     "output_type": "execute_result"
    }
   ],
   "source": [
    "len(ml1)"
   ]
  },
  {
   "cell_type": "code",
   "execution_count": 75,
   "metadata": {},
   "outputs": [
    {
     "data": {
      "text/plain": [
       "{'Supervised Learning': 'Training a model on labeled data: Image classification',\n",
       " 'Unsupervised Learning': 'Training a model on unlabeled data: Clustering',\n",
       " 'Overfitting': 'Cuando un modelo es muy complejo para la data: alta variancia',\n",
       " 'Bias-Variance Tradeoff': 'Balancing model simplicity and complexity, example: Model selection',\n",
       " 'K-Means Clustering': 'A type of unsupervised learning algorithm, example: Customer segmentation'}"
      ]
     },
     "execution_count": 75,
     "metadata": {},
     "output_type": "execute_result"
    }
   ],
   "source": [
    "ml1.pop('Neural Networks')\n",
    "ml1"
   ]
  },
  {
   "cell_type": "code",
   "execution_count": 76,
   "metadata": {},
   "outputs": [
    {
     "data": {
      "text/plain": [
       "5"
      ]
     },
     "execution_count": 76,
     "metadata": {},
     "output_type": "execute_result"
    }
   ],
   "source": [
    "len(ml1)"
   ]
  },
  {
   "cell_type": "code",
   "execution_count": 78,
   "metadata": {},
   "outputs": [
    {
     "data": {
      "text/plain": [
       "{}"
      ]
     },
     "execution_count": 78,
     "metadata": {},
     "output_type": "execute_result"
    }
   ],
   "source": [
    "#Borrar lo todo\n",
    "ml1.clear()\n",
    "ml1"
   ]
  },
  {
   "cell_type": "markdown",
   "metadata": {},
   "source": [
    "### Reinicializando el diccionario a vacio con {}"
   ]
  },
  {
   "cell_type": "code",
   "execution_count": 80,
   "metadata": {},
   "outputs": [
    {
     "data": {
      "text/plain": [
       "{}"
      ]
     },
     "execution_count": 80,
     "metadata": {},
     "output_type": "execute_result"
    }
   ],
   "source": [
    "ml1 = {}\n",
    "ml1"
   ]
  },
  {
   "cell_type": "markdown",
   "metadata": {},
   "source": [
    "### Cuidado con las copias "
   ]
  },
  {
   "cell_type": "code",
   "execution_count": 81,
   "metadata": {},
   "outputs": [],
   "source": [
    "dl = {\n",
    "    \"algorithm\": \"step-by-step instructions\",\n",
    "    \"artificial neuron\": \"brain-inspired model\",\n",
    "    \"backpropagation\": \"weight adjustment algorithm\",\n",
    "    \"batch\": \"data set for training\",\n",
    "    \"bias\": \"constant added to neuron input\",\n",
    "    \"CNN\": \"convolutional neural network\",\n",
    "    \"convolutional layer\": \"extracts image features\",\n",
    "    \"deep learning\": \"subset of machine learning\",\n",
    "    \"dense layer\": \"all neurons connected\",\n",
    "    \"dropout\": \"randomly removes neurons\",\n",
    "    \"epoch\": \"one training cycle\"\n",
    "}"
   ]
  },
  {
   "cell_type": "code",
   "execution_count": 84,
   "metadata": {},
   "outputs": [
    {
     "data": {
      "text/plain": [
       "{'algorithm': 'step-by-step instructions',\n",
       " 'artificial neuron': 'brain-inspired model',\n",
       " 'backpropagation': 'weight adjustment algorithm',\n",
       " 'batch': 'data set for training',\n",
       " 'bias': 'constant added to neuron input',\n",
       " 'CNN': 'convolutional neural network',\n",
       " 'convolutional layer': 'extracts image features',\n",
       " 'deep learning': 'subset of machine learning',\n",
       " 'dense layer': 'all neurons connected',\n",
       " 'dropout': 'randomly removes neurons',\n",
       " 'epoch': 'one training cycle'}"
      ]
     },
     "execution_count": 84,
     "metadata": {},
     "output_type": "execute_result"
    }
   ],
   "source": [
    "copy_dl = dl\n",
    "copy_dl"
   ]
  },
  {
   "cell_type": "code",
   "execution_count": 86,
   "metadata": {},
   "outputs": [
    {
     "data": {
      "text/plain": [
       "{'algorithm': 'bla bla bla prueba',\n",
       " 'artificial neuron': 'brain-inspired model',\n",
       " 'backpropagation': 'weight adjustment algorithm',\n",
       " 'batch': 'data set for training',\n",
       " 'bias': 'constant added to neuron input',\n",
       " 'CNN': 'convolutional neural network',\n",
       " 'convolutional layer': 'extracts image features',\n",
       " 'deep learning': 'subset of machine learning',\n",
       " 'dense layer': 'all neurons connected',\n",
       " 'dropout': 'randomly removes neurons',\n",
       " 'epoch': 'one training cycle'}"
      ]
     },
     "execution_count": 86,
     "metadata": {},
     "output_type": "execute_result"
    }
   ],
   "source": [
    "#Si modifico del original se modifica la copia  --> OJO \n",
    "dl['algorithm'] = 'bla bla bla prueba'\n",
    "\n",
    "copy_dl"
   ]
  },
  {
   "cell_type": "code",
   "execution_count": 87,
   "metadata": {},
   "outputs": [
    {
     "data": {
      "text/plain": [
       "{'algorithm': 'bla bla bla prueba',\n",
       " 'artificial neuron': 'brain-inspired model',\n",
       " 'backpropagation': 'weight adjustment algorithm',\n",
       " 'batch': 'data set for training',\n",
       " 'bias': 'constant added to neuron input',\n",
       " 'CNN': 'convolutional neural network',\n",
       " 'convolutional layer': 'extracts image features',\n",
       " 'deep learning': 'subset of machine learning',\n",
       " 'dense layer': 'all neurons connected',\n",
       " 'dropout': 'randomly removes neurons',\n",
       " 'epoch': 'one training cycle'}"
      ]
     },
     "execution_count": 87,
     "metadata": {},
     "output_type": "execute_result"
    }
   ],
   "source": [
    "dl"
   ]
  },
  {
   "cell_type": "code",
   "execution_count": 88,
   "metadata": {},
   "outputs": [],
   "source": [
    "# SOLUCION\n",
    "\n",
    "dl = {\n",
    "    \"algorithm\": \"step-by-step instructions\",\n",
    "    \"artificial neuron\": \"brain-inspired model\",\n",
    "    \"backpropagation\": \"weight adjustment algorithm\",\n",
    "    \"batch\": \"data set for training\",\n",
    "    \"bias\": \"constant added to neuron input\",\n",
    "    \"CNN\": \"convolutional neural network\",\n",
    "    \"convolutional layer\": \"extracts image features\",\n",
    "    \"deep learning\": \"subset of machine learning\",\n",
    "    \"dense layer\": \"all neurons connected\",\n",
    "    \"dropout\": \"randomly removes neurons\",\n",
    "    \"epoch\": \"one training cycle\"\n",
    "}\n",
    "\n",
    "copy_dl = dl.copy()"
   ]
  },
  {
   "cell_type": "code",
   "execution_count": 90,
   "metadata": {},
   "outputs": [
    {
     "data": {
      "text/plain": [
       "{'algorithm': 'step-by-step instructions',\n",
       " 'artificial neuron': 'brain-inspired model',\n",
       " 'backpropagation': 'weight adjustment algorithm',\n",
       " 'batch': 'data set for training',\n",
       " 'bias': 'constant added to neuron input',\n",
       " 'CNN': 'convolutional neural network',\n",
       " 'convolutional layer': 'extracts image features',\n",
       " 'deep learning': 'subset of machine learning',\n",
       " 'dense layer': 'all neurons connected',\n",
       " 'dropout': 'randomly removes neurons',\n",
       " 'epoch': 'one training cycle'}"
      ]
     },
     "execution_count": 90,
     "metadata": {},
     "output_type": "execute_result"
    }
   ],
   "source": [
    "#Ahora no se ha cambiado \n",
    "dl['algorithm'] = 'bla bla bla prueba'\n",
    "\n",
    "copy_dl\n"
   ]
  },
  {
   "cell_type": "code",
   "execution_count": null,
   "metadata": {},
   "outputs": [],
   "source": []
  },
  {
   "cell_type": "code",
   "execution_count": null,
   "metadata": {},
   "outputs": [],
   "source": []
  },
  {
   "cell_type": "code",
   "execution_count": null,
   "metadata": {},
   "outputs": [],
   "source": []
  },
  {
   "cell_type": "code",
   "execution_count": null,
   "metadata": {},
   "outputs": [],
   "source": []
  },
  {
   "cell_type": "code",
   "execution_count": null,
   "metadata": {},
   "outputs": [],
   "source": []
  },
  {
   "cell_type": "code",
   "execution_count": null,
   "metadata": {},
   "outputs": [],
   "source": []
  },
  {
   "cell_type": "code",
   "execution_count": null,
   "metadata": {},
   "outputs": [],
   "source": []
  },
  {
   "cell_type": "code",
   "execution_count": null,
   "metadata": {},
   "outputs": [],
   "source": []
  },
  {
   "cell_type": "code",
   "execution_count": null,
   "metadata": {},
   "outputs": [],
   "source": []
  },
  {
   "cell_type": "code",
   "execution_count": null,
   "metadata": {},
   "outputs": [],
   "source": []
  }
 ],
 "metadata": {
  "kernelspec": {
   "display_name": "Curso_Python",
   "language": "python",
   "name": "python3"
  },
  "language_info": {
   "codemirror_mode": {
    "name": "ipython",
    "version": 3
   },
   "file_extension": ".py",
   "mimetype": "text/x-python",
   "name": "python",
   "nbconvert_exporter": "python",
   "pygments_lexer": "ipython3",
   "version": "3.11.9"
  }
 },
 "nbformat": 4,
 "nbformat_minor": 2
}
