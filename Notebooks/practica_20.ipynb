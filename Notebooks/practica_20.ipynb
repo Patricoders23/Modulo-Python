{
 "cells": [
  {
   "cell_type": "markdown",
   "metadata": {},
   "source": [
    "# LISTAS "
   ]
  },
  {
   "cell_type": "markdown",
   "metadata": {},
   "source": [
    "### Invertir la lista"
   ]
  },
  {
   "cell_type": "code",
   "execution_count": 182,
   "metadata": {},
   "outputs": [],
   "source": [
    "hip= [\n",
    "    \"diferencia\",\n",
    "    \"significancia\",\n",
    "    \"formulación\",\n",
    "    \"rechazo\",\n",
    "    \"efecto\"\n",
    "]"
   ]
  },
  {
   "cell_type": "code",
   "execution_count": 183,
   "metadata": {},
   "outputs": [
    {
     "data": {
      "text/plain": [
       "['efecto', 'rechazo', 'formulación', 'significancia', 'diferencia']"
      ]
     },
     "execution_count": 183,
     "metadata": {},
     "output_type": "execute_result"
    }
   ],
   "source": [
    "# INVERTIR LA LISTA \n",
    "hip[::-1] "
   ]
  },
  {
   "cell_type": "code",
   "execution_count": 184,
   "metadata": {},
   "outputs": [
    {
     "data": {
      "text/plain": [
       "['efecto', 'rechazo', 'formulación', 'significancia', 'diferencia']"
      ]
     },
     "execution_count": 184,
     "metadata": {},
     "output_type": "execute_result"
    }
   ],
   "source": [
    "# INVERTIR LA LISTA, USO LA FUNCIÓN reversed \n",
    "\n",
    "list(reversed(hip))"
   ]
  },
  {
   "cell_type": "code",
   "execution_count": 185,
   "metadata": {},
   "outputs": [
    {
     "data": {
      "text/plain": [
       "['efecto', 'rechazo', 'formulación', 'significancia', 'diferencia']"
      ]
     },
     "execution_count": 185,
     "metadata": {},
     "output_type": "execute_result"
    }
   ],
   "source": [
    "# Modificando la lista original. Utilizando la función .reverse() (sin ‘d’ al final) \n",
    "hip.reverse()\n",
    "hip"
   ]
  },
  {
   "cell_type": "markdown",
   "metadata": {},
   "source": [
    "### Añadir elementos al final de la lista"
   ]
  },
  {
   "cell_type": "code",
   "execution_count": 186,
   "metadata": {},
   "outputs": [
    {
     "data": {
      "text/plain": [
       "['efecto',\n",
       " 'rechazo',\n",
       " 'formulación',\n",
       " 'significancia',\n",
       " 'diferencia',\n",
       " 'hipótesis nula']"
      ]
     },
     "execution_count": 186,
     "metadata": {},
     "output_type": "execute_result"
    }
   ],
   "source": [
    "hip.append('hipótesis nula')\n",
    "hip"
   ]
  },
  {
   "cell_type": "markdown",
   "metadata": {},
   "source": [
    "### Creando listas desde otra lista vacía"
   ]
  },
  {
   "cell_type": "code",
   "execution_count": 187,
   "metadata": {},
   "outputs": [
    {
     "data": {
      "text/plain": [
       "[0, 2, 4, 6, 8, 10, 12, 14, 16, 18, 20, 22, 24]"
      ]
     },
     "execution_count": 187,
     "metadata": {},
     "output_type": "execute_result"
    }
   ],
   "source": [
    "numeros_pares = []\n",
    "for i in range(26):\n",
    "    if i%2==0:\n",
    "        numeros_pares.append(i)\n",
    "numeros_pares"
   ]
  },
  {
   "cell_type": "code",
   "execution_count": 188,
   "metadata": {},
   "outputs": [
    {
     "data": {
      "text/plain": [
       "[1, 3, 5, 7, 9, 11, 13, 15, 17, 19, 21, 23, 25]"
      ]
     },
     "execution_count": 188,
     "metadata": {},
     "output_type": "execute_result"
    }
   ],
   "source": [
    "numeros_impares = []\n",
    "for i in range(26):\n",
    "    if i % 2 != 0:\n",
    "        numeros_impares.append(i)\n",
    "\n",
    "numeros_impares"
   ]
  },
  {
   "cell_type": "markdown",
   "metadata": {},
   "source": [
    "### Añadir en cualquier posición de una lista"
   ]
  },
  {
   "cell_type": "code",
   "execution_count": 189,
   "metadata": {},
   "outputs": [
    {
     "data": {
      "text/plain": [
       "['estadística',\n",
       " 'efecto',\n",
       " 'rechazo',\n",
       " 'formulación',\n",
       " 'significancia',\n",
       " 'diferencia',\n",
       " 'hipótesis nula']"
      ]
     },
     "execution_count": 189,
     "metadata": {},
     "output_type": "execute_result"
    }
   ],
   "source": [
    "hip.insert(0, 'estadística')\n",
    "hip"
   ]
  },
  {
   "cell_type": "code",
   "execution_count": 190,
   "metadata": {},
   "outputs": [
    {
     "data": {
      "text/plain": [
       "['estadística',\n",
       " 'efecto',\n",
       " 'rechazo',\n",
       " 'formulación',\n",
       " 'significancia',\n",
       " 'diferencia',\n",
       " 'hipótesis nula',\n",
       " 'datos']"
      ]
     },
     "execution_count": 190,
     "metadata": {},
     "output_type": "execute_result"
    }
   ],
   "source": [
    "hip.insert(100, 'datos') #inserta al final NO RECOMENDABLE\n",
    "hip"
   ]
  },
  {
   "cell_type": "code",
   "execution_count": 191,
   "metadata": {},
   "outputs": [
    {
     "data": {
      "text/plain": [
       "['ciencia',\n",
       " 'estadística',\n",
       " 'efecto',\n",
       " 'rechazo',\n",
       " 'formulación',\n",
       " 'significancia',\n",
       " 'diferencia',\n",
       " 'hipótesis nula',\n",
       " 'datos']"
      ]
     },
     "execution_count": 191,
     "metadata": {},
     "output_type": "execute_result"
    }
   ],
   "source": [
    "hip.insert(-100, 'ciencia') #inserta al inicio NO RECOMENDABLE\n",
    "hip"
   ]
  },
  {
   "cell_type": "markdown",
   "metadata": {},
   "source": [
    "### Repetir elementos"
   ]
  },
  {
   "cell_type": "code",
   "execution_count": 192,
   "metadata": {},
   "outputs": [
    {
     "data": {
      "text/plain": [
       "['ciencia',\n",
       " 'estadística',\n",
       " 'efecto',\n",
       " 'rechazo',\n",
       " 'formulación',\n",
       " 'significancia',\n",
       " 'diferencia',\n",
       " 'hipótesis nula',\n",
       " 'datos',\n",
       " 'ciencia',\n",
       " 'estadística',\n",
       " 'efecto',\n",
       " 'rechazo',\n",
       " 'formulación',\n",
       " 'significancia',\n",
       " 'diferencia',\n",
       " 'hipótesis nula',\n",
       " 'datos']"
      ]
     },
     "execution_count": 192,
     "metadata": {},
     "output_type": "execute_result"
    }
   ],
   "source": [
    "hip * 2"
   ]
  },
  {
   "cell_type": "markdown",
   "metadata": {},
   "source": [
    "### Combinar listas"
   ]
  },
  {
   "cell_type": "code",
   "execution_count": 193,
   "metadata": {},
   "outputs": [],
   "source": [
    "verbos_hipotesis = [\n",
    "    \"Segunda lista: formular\",\n",
    "    \"rechazar\",\n",
    "    \"aceptar\",\n",
    "    \"comparar\",\n",
    "    \"evaluar\"\n",
    "]"
   ]
  },
  {
   "cell_type": "code",
   "execution_count": 194,
   "metadata": {},
   "outputs": [
    {
     "data": {
      "text/plain": [
       "['ciencia',\n",
       " 'estadística',\n",
       " 'efecto',\n",
       " 'rechazo',\n",
       " 'formulación',\n",
       " 'significancia',\n",
       " 'diferencia',\n",
       " 'hipótesis nula',\n",
       " 'datos',\n",
       " 'Segunda lista: formular',\n",
       " 'rechazar',\n",
       " 'aceptar',\n",
       " 'comparar',\n",
       " 'evaluar']"
      ]
     },
     "execution_count": 194,
     "metadata": {},
     "output_type": "execute_result"
    }
   ],
   "source": [
    "hip + verbos_hipotesis"
   ]
  },
  {
   "cell_type": "code",
   "execution_count": 195,
   "metadata": {},
   "outputs": [
    {
     "data": {
      "text/plain": [
       "['ciencia',\n",
       " 'estadística',\n",
       " 'efecto',\n",
       " 'rechazo',\n",
       " 'formulación',\n",
       " 'significancia',\n",
       " 'diferencia',\n",
       " 'hipótesis nula',\n",
       " 'datos',\n",
       " 'Segunda lista: formular',\n",
       " 'rechazar',\n",
       " 'aceptar',\n",
       " 'comparar',\n",
       " 'evaluar']"
      ]
     },
     "execution_count": 195,
     "metadata": {},
     "output_type": "execute_result"
    }
   ],
   "source": [
    "hip + verbos_hipotesis"
   ]
  },
  {
   "cell_type": "markdown",
   "metadata": {},
   "source": [
    "### - Modificando la lista original:"
   ]
  },
  {
   "cell_type": "code",
   "execution_count": 196,
   "metadata": {},
   "outputs": [
    {
     "data": {
      "text/plain": [
       "['ciencia',\n",
       " 'estadística',\n",
       " 'efecto',\n",
       " 'rechazo',\n",
       " 'formulación',\n",
       " 'significancia',\n",
       " 'diferencia',\n",
       " 'hipótesis nula',\n",
       " 'datos',\n",
       " 'Segunda lista: formular',\n",
       " 'rechazar',\n",
       " 'aceptar',\n",
       " 'comparar',\n",
       " 'evaluar']"
      ]
     },
     "execution_count": 196,
     "metadata": {},
     "output_type": "execute_result"
    }
   ],
   "source": [
    "# Mediante la función extend()\n",
    "hip.extend(verbos_hipotesis)\n",
    "hip"
   ]
  },
  {
   "cell_type": "markdown",
   "metadata": {},
   "source": [
    "### Modificar con troceado:"
   ]
  },
  {
   "cell_type": "code",
   "execution_count": 197,
   "metadata": {},
   "outputs": [
    {
     "data": {
      "text/plain": [
       "['estadística', 'efecto', 'rechazo']"
      ]
     },
     "execution_count": 197,
     "metadata": {},
     "output_type": "execute_result"
    }
   ],
   "source": [
    "hip[1:4]"
   ]
  },
  {
   "cell_type": "code",
   "execution_count": 198,
   "metadata": {},
   "outputs": [
    {
     "data": {
      "text/plain": [
       "['ciencia',\n",
       " 'curso',\n",
       " 'data',\n",
       " 'formulación',\n",
       " 'significancia',\n",
       " 'diferencia',\n",
       " 'hipótesis nula',\n",
       " 'datos',\n",
       " 'Segunda lista: formular',\n",
       " 'rechazar',\n",
       " 'aceptar',\n",
       " 'comparar',\n",
       " 'evaluar']"
      ]
     },
     "execution_count": 198,
     "metadata": {},
     "output_type": "execute_result"
    }
   ],
   "source": [
    "hip[1:4]= ['curso', 'data']\n",
    "hip"
   ]
  },
  {
   "cell_type": "markdown",
   "metadata": {},
   "source": [
    "### Borrar elementos"
   ]
  },
  {
   "cell_type": "code",
   "execution_count": 199,
   "metadata": {},
   "outputs": [
    {
     "data": {
      "text/plain": [
       "['ciencia',\n",
       " 'curso',\n",
       " 'data',\n",
       " 'significancia',\n",
       " 'diferencia',\n",
       " 'hipótesis nula',\n",
       " 'datos',\n",
       " 'Segunda lista: formular',\n",
       " 'rechazar',\n",
       " 'aceptar',\n",
       " 'comparar',\n",
       " 'evaluar']"
      ]
     },
     "execution_count": 199,
     "metadata": {},
     "output_type": "execute_result"
    }
   ],
   "source": [
    "# a) BORRA POR ÍNDICE, con la función del\n",
    "\n",
    "del hip[3]\n",
    "hip"
   ]
  },
  {
   "cell_type": "code",
   "execution_count": 200,
   "metadata": {},
   "outputs": [
    {
     "data": {
      "text/plain": [
       "['ciencia',\n",
       " 'curso',\n",
       " 'data',\n",
       " 'diferencia',\n",
       " 'hipótesis nula',\n",
       " 'datos',\n",
       " 'Segunda lista: formular',\n",
       " 'rechazar',\n",
       " 'aceptar',\n",
       " 'comparar',\n",
       " 'evaluar']"
      ]
     },
     "execution_count": 200,
     "metadata": {},
     "output_type": "execute_result"
    }
   ],
   "source": [
    "# b) Mediante la función remove()\n",
    "\n",
    "hip.remove('significancia')\n",
    "hip\n",
    "\n",
    "#Si existen valores duplicados, la función remove() solo borrara la primera ocurrencia"
   ]
  },
  {
   "cell_type": "code",
   "execution_count": 201,
   "metadata": {},
   "outputs": [
    {
     "data": {
      "text/plain": [
       "'evaluar'"
      ]
     },
     "execution_count": 201,
     "metadata": {},
     "output_type": "execute_result"
    }
   ],
   "source": [
    "# c) ) Por su índice (con extracción)\n",
    "\n",
    "#función pop() que además de borrar, nos «recupera» el elemento; algo así como una\n",
    "#extracción. Lo podemos ver como una combinación de acceso + borrado\n",
    "\n",
    "palabra =hip.pop() #Es el último elemento de la lista\n",
    "palabra"
   ]
  },
  {
   "cell_type": "code",
   "execution_count": 202,
   "metadata": {},
   "outputs": [
    {
     "data": {
      "text/plain": [
       "['ciencia',\n",
       " 'curso',\n",
       " 'data',\n",
       " 'diferencia',\n",
       " 'hipótesis nula',\n",
       " 'datos',\n",
       " 'Segunda lista: formular',\n",
       " 'rechazar',\n",
       " 'aceptar',\n",
       " 'comparar']"
      ]
     },
     "execution_count": 202,
     "metadata": {},
     "output_type": "execute_result"
    }
   ],
   "source": [
    "hip # Elimino la palabra evaluar-- de mi lista"
   ]
  },
  {
   "cell_type": "code",
   "execution_count": 203,
   "metadata": {},
   "outputs": [
    {
     "data": {
      "text/plain": [
       "['ciencia',\n",
       " 'hipótesis nula',\n",
       " 'datos',\n",
       " 'Segunda lista: formular',\n",
       " 'rechazar',\n",
       " 'aceptar',\n",
       " 'comparar']"
      ]
     },
     "execution_count": 203,
     "metadata": {},
     "output_type": "execute_result"
    }
   ],
   "source": [
    "# d) Por su rango: Mediante troceado de listas \n",
    "\n",
    "hip[1:4] = []\n",
    "\n",
    "#Troceado de la lista: hip[1:4] selecciona los elementos desde el índice 1 hasta el índice 3 (el índice 4 no está incluido).\n",
    "#Asignación hip[1:4] = []:  elimina los elementos seleccionados. Elementos eliminadoss: ['curso', 'data', 'diferencia']\n",
    "hip"
   ]
  },
  {
   "cell_type": "markdown",
   "metadata": {},
   "source": [
    "### Borrado completo de la lista"
   ]
  },
  {
   "cell_type": "code",
   "execution_count": 204,
   "metadata": {},
   "outputs": [
    {
     "data": {
      "text/plain": [
       "[]"
      ]
     },
     "execution_count": 204,
     "metadata": {},
     "output_type": "execute_result"
    }
   ],
   "source": [
    "# Utilizo la fnción clear\n",
    "hip.clear()\n",
    "hip"
   ]
  },
  {
   "cell_type": "code",
   "execution_count": 205,
   "metadata": {},
   "outputs": [
    {
     "data": {
      "text/plain": [
       "[]"
      ]
     },
     "execution_count": 205,
     "metadata": {},
     "output_type": "execute_result"
    }
   ],
   "source": [
    "hip = ['ciencia',\n",
    " 'hipótesis nula',\n",
    " 'datos',\n",
    " 'Segunda lista: formular',\n",
    " 'rechazar',\n",
    " 'aceptar',\n",
    " 'comparar']\n",
    "\n",
    "hip = []\n",
    "hip"
   ]
  },
  {
   "cell_type": "code",
   "execution_count": 206,
   "metadata": {},
   "outputs": [
    {
     "name": "stdout",
     "output_type": "stream",
     "text": [
      "El id de la lista hip es: 2587356249920\n",
      "El id de  la lista hip usando la funcion clear es: 2587356249920\n"
     ]
    }
   ],
   "source": [
    "hip = ['ciencia',\n",
    " 'hipótesis nula',\n",
    " 'datos',\n",
    " 'Segunda lista: formular',\n",
    " 'rechazar',\n",
    " 'aceptar',\n",
    " 'comparar']\n",
    "\n",
    "print(f'El id de la lista hip es: {id(hip)}')\n",
    "\n",
    "hip.clear()\n",
    "print(f'El id de  la lista hip usando la funcion clear es: {id(hip)}')"
   ]
  },
  {
   "cell_type": "code",
   "execution_count": 207,
   "metadata": {},
   "outputs": [
    {
     "name": "stdout",
     "output_type": "stream",
     "text": [
      "El id de la lista hip es: 2587356247168\n",
      "El id de  la lista hip usando la funcion clear es: 2587355196096\n"
     ]
    }
   ],
   "source": [
    "hip = ['ciencia',\n",
    " 'hipótesis nula',\n",
    " 'datos',\n",
    " 'Segunda lista: formular',\n",
    " 'rechazar',\n",
    " 'aceptar',\n",
    " 'comparar']\n",
    "\n",
    "print(f'El id de la lista hip es: {id(hip)}')\n",
    "\n",
    "hip = []\n",
    "print(f'El id de  la lista hip usando la funcion clear es: {id(hip)}')"
   ]
  },
  {
   "cell_type": "markdown",
   "metadata": {},
   "source": [
    "### Encontrar un elemento "
   ]
  },
  {
   "cell_type": "code",
   "execution_count": 208,
   "metadata": {},
   "outputs": [
    {
     "data": {
      "text/plain": [
       "2"
      ]
     },
     "execution_count": 208,
     "metadata": {},
     "output_type": "execute_result"
    }
   ],
   "source": [
    "hip = ['ciencia',\n",
    " 'hipótesis nula',\n",
    " 'datos',\n",
    " 'Segunda ex lista: formular',\n",
    " 'rechazar',\n",
    " 'aceptar',\n",
    " 'comparar']\n",
    "\n",
    "hip.index('datos') # Muestra que es el segundo elemento "
   ]
  },
  {
   "cell_type": "code",
   "execution_count": 209,
   "metadata": {},
   "outputs": [
    {
     "ename": "ValueError",
     "evalue": "'datos2' is not in list",
     "output_type": "error",
     "traceback": [
      "\u001b[1;31m---------------------------------------------------------------------------\u001b[0m",
      "\u001b[1;31mValueError\u001b[0m                                Traceback (most recent call last)",
      "Cell \u001b[1;32mIn[209], line 1\u001b[0m\n\u001b[1;32m----> 1\u001b[0m \u001b[43mhip\u001b[49m\u001b[38;5;241;43m.\u001b[39;49m\u001b[43mindex\u001b[49m\u001b[43m(\u001b[49m\u001b[38;5;124;43m'\u001b[39;49m\u001b[38;5;124;43mdatos2\u001b[39;49m\u001b[38;5;124;43m'\u001b[39;49m\u001b[43m)\u001b[49m \u001b[38;5;66;03m#da error si no esta en la lista \u001b[39;00m\n",
      "\u001b[1;31mValueError\u001b[0m: 'datos2' is not in list"
     ]
    }
   ],
   "source": [
    "hip.index('datos2') #da error si no esta en la lista "
   ]
  },
  {
   "cell_type": "markdown",
   "metadata": {},
   "source": [
    "### Pertenencia de un elemento"
   ]
  },
  {
   "cell_type": "code",
   "execution_count": 215,
   "metadata": {},
   "outputs": [
    {
     "data": {
      "text/plain": [
       "True"
      ]
     },
     "execution_count": 215,
     "metadata": {},
     "output_type": "execute_result"
    }
   ],
   "source": [
    "hip = ['ciencia',\n",
    " 'hipótesis nula',\n",
    " 'datos',\n",
    " 'Segunda ex lista: formular',\n",
    " 'rechazar',\n",
    " 'aceptar',\n",
    " 'comparar']\n",
    "\n",
    "'datos' in hip "
   ]
  },
  {
   "cell_type": "code",
   "execution_count": 216,
   "metadata": {},
   "outputs": [
    {
     "data": {
      "text/plain": [
       "False"
      ]
     },
     "execution_count": 216,
     "metadata": {},
     "output_type": "execute_result"
    }
   ],
   "source": [
    "'datos2' in hip"
   ]
  },
  {
   "cell_type": "markdown",
   "metadata": {},
   "source": [
    "### Número de ocurrencias "
   ]
  },
  {
   "cell_type": "code",
   "execution_count": 213,
   "metadata": {},
   "outputs": [
    {
     "data": {
      "text/plain": [
       "2"
      ]
     },
     "execution_count": 213,
     "metadata": {},
     "output_type": "execute_result"
    }
   ],
   "source": [
    "ciencia = ['datos', 'por', 'todas', 'partes', 'datos']\n",
    "\n",
    "ciencia.count('datos')"
   ]
  },
  {
   "cell_type": "code",
   "execution_count": 214,
   "metadata": {},
   "outputs": [
    {
     "data": {
      "text/plain": [
       "0"
      ]
     },
     "execution_count": 214,
     "metadata": {},
     "output_type": "execute_result"
    }
   ],
   "source": [
    "ciencia.count('big')"
   ]
  },
  {
   "cell_type": "markdown",
   "metadata": {},
   "source": [
    "### Convertir lista a cadena de texto ====> ','.join(mylist)\n",
    "Funciona solo si todos los elementos de la lista son cadena de texto"
   ]
  },
  {
   "cell_type": "code",
   "execution_count": 223,
   "metadata": {},
   "outputs": [
    {
     "data": {
      "text/plain": [
       "'ciencia,hipótesis nula,datos,Segunda ex lista: formular,rechazar,aceptar,comparar'"
      ]
     },
     "execution_count": 223,
     "metadata": {},
     "output_type": "execute_result"
    }
   ],
   "source": [
    "hip = ['ciencia',\n",
    " 'hipótesis nula',\n",
    " 'datos',\n",
    " 'Segunda ex lista: formular',\n",
    " 'rechazar',\n",
    " 'aceptar',\n",
    " 'comparar']\n",
    "\n",
    "','.join(hip)"
   ]
  },
  {
   "cell_type": "code",
   "execution_count": 224,
   "metadata": {},
   "outputs": [
    {
     "data": {
      "text/plain": [
       "'ciencia hipótesis nula datos Segunda ex lista: formular rechazar aceptar comparar'"
      ]
     },
     "execution_count": 224,
     "metadata": {},
     "output_type": "execute_result"
    }
   ],
   "source": [
    "' '.join(hip)"
   ]
  },
  {
   "cell_type": "code",
   "execution_count": 225,
   "metadata": {},
   "outputs": [
    {
     "data": {
      "text/plain": [
       "'ciencia|hipótesis nula|datos|Segunda ex lista: formular|rechazar|aceptar|comparar'"
      ]
     },
     "execution_count": 225,
     "metadata": {},
     "output_type": "execute_result"
    }
   ],
   "source": [
    "'|'.join(hip)"
   ]
  },
  {
   "cell_type": "code",
   "execution_count": 226,
   "metadata": {},
   "outputs": [
    {
     "ename": "TypeError",
     "evalue": "sequence item 0: expected str instance, int found",
     "output_type": "error",
     "traceback": [
      "\u001b[1;31m---------------------------------------------------------------------------\u001b[0m",
      "\u001b[1;31mTypeError\u001b[0m                                 Traceback (most recent call last)",
      "Cell \u001b[1;32mIn[226], line 1\u001b[0m\n\u001b[1;32m----> 1\u001b[0m \u001b[38;5;124;43m'\u001b[39;49m\u001b[38;5;124;43m|\u001b[39;49m\u001b[38;5;124;43m'\u001b[39;49m\u001b[38;5;241;43m.\u001b[39;49m\u001b[43mjoin\u001b[49m\u001b[43m(\u001b[49m\u001b[43m[\u001b[49m\u001b[38;5;241;43m1\u001b[39;49m\u001b[43m,\u001b[49m\u001b[38;5;241;43m2\u001b[39;49m\u001b[43m,\u001b[49m\u001b[38;5;241;43m3\u001b[39;49m\u001b[43m,\u001b[49m\u001b[38;5;241;43m4\u001b[39;49m\u001b[43m]\u001b[49m\u001b[43m)\u001b[49m\n",
      "\u001b[1;31mTypeError\u001b[0m: sequence item 0: expected str instance, int found"
     ]
    }
   ],
   "source": [
    "'|'.join([1,2,3,4]) #error porque no son texto"
   ]
  },
  {
   "cell_type": "markdown",
   "metadata": {},
   "source": [
    "### Ordenar una lista "
   ]
  },
  {
   "cell_type": "code",
   "execution_count": 228,
   "metadata": {},
   "outputs": [
    {
     "data": {
      "text/plain": [
       "['Segunda ex lista: formular',\n",
       " 'aceptar',\n",
       " 'ciencia',\n",
       " 'comparar',\n",
       " 'datos',\n",
       " 'hipótesis nula',\n",
       " 'rechazar']"
      ]
     },
     "execution_count": 228,
     "metadata": {},
     "output_type": "execute_result"
    }
   ],
   "source": [
    "hip = ['ciencia',\n",
    " 'hipótesis nula',\n",
    " 'datos',\n",
    " 'Segunda ex lista: formular',\n",
    " 'rechazar',\n",
    " 'aceptar',\n",
    " 'comparar']\n",
    "\n",
    "sorted(hip)\n",
    "\n",
    "#Primero considera los caracteres especiales y mayúsculas.\n",
    "#Luego considera los caracteres minúsculas en orden alfabético."
   ]
  },
  {
   "cell_type": "code",
   "execution_count": 234,
   "metadata": {},
   "outputs": [
    {
     "data": {
      "text/plain": [
       "['rechazar',\n",
       " 'hipótesis nula',\n",
       " 'datos',\n",
       " 'comparar',\n",
       " 'ciencia',\n",
       " 'aceptar',\n",
       " 'Segunda ex lista: formular']"
      ]
     },
     "execution_count": 234,
     "metadata": {},
     "output_type": "execute_result"
    }
   ],
   "source": [
    "sorted(hip, reverse=True)"
   ]
  },
  {
   "cell_type": "markdown",
   "metadata": {},
   "source": [
    "### Modificando la lista original mediante la función sort()"
   ]
  },
  {
   "cell_type": "code",
   "execution_count": 233,
   "metadata": {},
   "outputs": [
    {
     "name": "stdout",
     "output_type": "stream",
     "text": [
      "['Segunda ex lista: formular', 'aceptar', 'ciencia', 'comparar', 'datos', 'hipótesis nula', 'rechazar']\n"
     ]
    }
   ],
   "source": [
    "hip = [\n",
    "    'ciencia',\n",
    "    'hipótesis nula',\n",
    "    'datos',\n",
    "    'Segunda ex lista: formular',\n",
    "    'rechazar',\n",
    "    'aceptar',\n",
    "    'comparar'\n",
    "]\n",
    "\n",
    "hip.sort()\n",
    "print(hip)"
   ]
  },
  {
   "cell_type": "markdown",
   "metadata": {},
   "source": [
    "### Longitud de una lista"
   ]
  },
  {
   "cell_type": "code",
   "execution_count": 235,
   "metadata": {},
   "outputs": [
    {
     "data": {
      "text/plain": [
       "7"
      ]
     },
     "execution_count": 235,
     "metadata": {},
     "output_type": "execute_result"
    }
   ],
   "source": [
    "hip = [\n",
    "    'ciencia',\n",
    "    'hipótesis nula',\n",
    "    'datos',\n",
    "    'Segunda ex lista: formular',\n",
    "    'rechazar',\n",
    "    'aceptar',\n",
    "    'comparar'\n",
    "]\n",
    "\n",
    "len(hip)"
   ]
  },
  {
   "cell_type": "markdown",
   "metadata": {},
   "source": [
    "### Iterar sobre una lista"
   ]
  },
  {
   "cell_type": "code",
   "execution_count": 236,
   "metadata": {},
   "outputs": [
    {
     "name": "stdout",
     "output_type": "stream",
     "text": [
      "ciencia\n",
      "hipótesis nula\n",
      "datos\n",
      "Segunda ex lista: formular\n",
      "rechazar\n",
      "aceptar\n",
      "comparar\n"
     ]
    }
   ],
   "source": [
    "hip = [\n",
    "    'ciencia',\n",
    "    'hipótesis nula',\n",
    "    'datos',\n",
    "    'Segunda ex lista: formular',\n",
    "    'rechazar',\n",
    "    'aceptar',\n",
    "    'comparar'\n",
    "]\n",
    "\n",
    "for palabras in hip:\n",
    "    print(palabras)"
   ]
  },
  {
   "cell_type": "markdown",
   "metadata": {},
   "source": [
    "### Iterar usando numeración "
   ]
  },
  {
   "cell_type": "code",
   "execution_count": 237,
   "metadata": {},
   "outputs": [
    {
     "name": "stdout",
     "output_type": "stream",
     "text": [
      "0 ciencia\n",
      "1 hipótesis nula\n",
      "2 datos\n",
      "3 Segunda ex lista: formular\n",
      "4 rechazar\n",
      "5 aceptar\n",
      "6 comparar\n"
     ]
    }
   ],
   "source": [
    "hip = [\n",
    "    'ciencia',\n",
    "    'hipótesis nula',\n",
    "    'datos',\n",
    "    'Segunda ex lista: formular',\n",
    "    'rechazar',\n",
    "    'aceptar',\n",
    "    'comparar'\n",
    "]\n",
    "\n",
    "for i, palabras in enumerate(hip):\n",
    "    print(i, palabras)"
   ]
  },
  {
   "cell_type": "markdown",
   "metadata": {},
   "source": [
    "### Iterar sobre múltiples listas "
   ]
  },
  {
   "cell_type": "code",
   "execution_count": 240,
   "metadata": {},
   "outputs": [
    {
     "name": "stdout",
     "output_type": "stream",
     "text": [
      "a mor\n",
      "e nano\n",
      "i luso\n",
      "o so\n",
      "u ranio\n"
     ]
    }
   ],
   "source": [
    "v = ['a', 'e', 'i', 'o', 'u']\n",
    "l = ['mor', 'nano', 'luso', 'so', 'ranio']\n",
    "\n",
    "for vocales, letras in zip(v, l):\n",
    "    print(vocales, letras)\n"
   ]
  },
  {
   "cell_type": "code",
   "execution_count": 241,
   "metadata": {},
   "outputs": [
    {
     "name": "stdout",
     "output_type": "stream",
     "text": [
      "a mor\n",
      "e nano\n",
      "i luso\n"
     ]
    }
   ],
   "source": [
    "v = ['a', 'e', 'i'] #Realiza la combinación hasta que se agota la lista mas corta. \n",
    "l = ['mor', 'nano', 'luso', 'so', 'ranio']\n",
    "\n",
    "for vocales, letras in zip(v, l):\n",
    "    print(vocales, letras)"
   ]
  },
  {
   "cell_type": "code",
   "execution_count": 242,
   "metadata": {},
   "outputs": [
    {
     "data": {
      "text/plain": [
       "[('a', 'mor'), ('e', 'nano'), ('i', 'luso'), ('o', 'so'), ('u', 'ranio')]"
      ]
     },
     "execution_count": 242,
     "metadata": {},
     "output_type": "execute_result"
    }
   ],
   "source": [
    "v = ['a', 'e', 'i', 'o', 'u']\n",
    "l = ['mor', 'nano', 'luso', 'so', 'ranio']\n",
    "\n",
    "list(zip(v, l))"
   ]
  },
  {
   "cell_type": "markdown",
   "metadata": {},
   "source": [
    "### Comparar listas"
   ]
  },
  {
   "cell_type": "code",
   "execution_count": 245,
   "metadata": {},
   "outputs": [
    {
     "data": {
      "text/plain": [
       "True"
      ]
     },
     "execution_count": 245,
     "metadata": {},
     "output_type": "execute_result"
    }
   ],
   "source": [
    "[1,2,3] < [1,2,4]"
   ]
  },
  {
   "cell_type": "code",
   "execution_count": 246,
   "metadata": {},
   "outputs": [
    {
     "data": {
      "text/plain": [
       "False"
      ]
     },
     "execution_count": 246,
     "metadata": {},
     "output_type": "execute_result"
    }
   ],
   "source": [
    "[1,2,3] < [1,2,3]"
   ]
  },
  {
   "cell_type": "code",
   "execution_count": 247,
   "metadata": {},
   "outputs": [
    {
     "data": {
      "text/plain": [
       "True"
      ]
     },
     "execution_count": 247,
     "metadata": {},
     "output_type": "execute_result"
    }
   ],
   "source": [
    "[1,2,3] < [5,3,1]"
   ]
  },
  {
   "cell_type": "markdown",
   "metadata": {},
   "source": [
    "### Copias de las listas "
   ]
  },
  {
   "cell_type": "code",
   "execution_count": 249,
   "metadata": {},
   "outputs": [
    {
     "data": {
      "text/plain": [
       "[1, 2, 3, 4, 5, 6]"
      ]
     },
     "execution_count": 249,
     "metadata": {},
     "output_type": "execute_result"
    }
   ],
   "source": [
    "lista_original = [1,2,3,4,5,6]\n",
    "\n",
    "copia_lista = lista_original\n",
    "copia_lista"
   ]
  },
  {
   "cell_type": "code",
   "execution_count": 250,
   "metadata": {},
   "outputs": [
    {
     "data": {
      "text/plain": [
       "[15, 2, 3, 4, 5, 6]"
      ]
     },
     "execution_count": 250,
     "metadata": {},
     "output_type": "execute_result"
    }
   ],
   "source": [
    "copia_lista[0]=15 # cambio en la posición cero del elemento de mi lista \n",
    "copia_lista"
   ]
  },
  {
   "cell_type": "code",
   "execution_count": 251,
   "metadata": {},
   "outputs": [
    {
     "data": {
      "text/plain": [
       "[15, 2, 3, 4, 5, 6]"
      ]
     },
     "execution_count": 251,
     "metadata": {},
     "output_type": "execute_result"
    }
   ],
   "source": [
    "lista_original # afecto a mi lista original OJO!!!"
   ]
  },
  {
   "cell_type": "markdown",
   "metadata": {},
   "source": [
    "#### Se recomenda realizar una copia dura para que no se modifiquen los valores al realizar una copia. "
   ]
  },
  {
   "cell_type": "code",
   "execution_count": 252,
   "metadata": {},
   "outputs": [
    {
     "data": {
      "text/plain": [
       "[1, 2, 3, 4, 5, 6]"
      ]
     },
     "execution_count": 252,
     "metadata": {},
     "output_type": "execute_result"
    }
   ],
   "source": [
    "lista_original = [1,2,3,4,5,6]\n",
    "\n",
    "copia_lista = lista_original.copy()\n",
    "copia_lista"
   ]
  },
  {
   "cell_type": "code",
   "execution_count": 253,
   "metadata": {},
   "outputs": [
    {
     "data": {
      "text/plain": [
       "[15, 2, 3, 4, 5, 6]"
      ]
     },
     "execution_count": 253,
     "metadata": {},
     "output_type": "execute_result"
    }
   ],
   "source": [
    "copia_lista[0]=15 # cambio en la posición cero del elemento de mi lista \n",
    "copia_lista"
   ]
  },
  {
   "cell_type": "code",
   "execution_count": 254,
   "metadata": {},
   "outputs": [
    {
     "data": {
      "text/plain": [
       "[1, 2, 3, 4, 5, 6]"
      ]
     },
     "execution_count": 254,
     "metadata": {},
     "output_type": "execute_result"
    }
   ],
   "source": [
    "lista_original #NO se cambiaron mis valores"
   ]
  },
  {
   "cell_type": "markdown",
   "metadata": {},
   "source": [
    "### Cambio a la lista original cuando se trocea la lista"
   ]
  },
  {
   "cell_type": "code",
   "execution_count": 255,
   "metadata": {},
   "outputs": [
    {
     "data": {
      "text/plain": [
       "['a', 'b', 'c', 'd', 'e']"
      ]
     },
     "execution_count": 255,
     "metadata": {},
     "output_type": "execute_result"
    }
   ],
   "source": [
    "lista = ['a', 'b', 'c', 'd', 'e']\n",
    "\n",
    "cop_lista = lista[:]\n",
    "cop_lista"
   ]
  },
  {
   "cell_type": "code",
   "execution_count": 256,
   "metadata": {},
   "outputs": [
    {
     "data": {
      "text/plain": [
       "['a', 'b', 'c', 'd', 'e']"
      ]
     },
     "execution_count": 256,
     "metadata": {},
     "output_type": "execute_result"
    }
   ],
   "source": [
    "lista"
   ]
  },
  {
   "cell_type": "code",
   "execution_count": 257,
   "metadata": {},
   "outputs": [
    {
     "data": {
      "text/plain": [
       "True"
      ]
     },
     "execution_count": 257,
     "metadata": {},
     "output_type": "execute_result"
    }
   ],
   "source": [
    "id(lista) != id(cop_lista)"
   ]
  },
  {
   "cell_type": "markdown",
   "metadata": {},
   "source": [
    "### Veracidad Múltiple"
   ]
  },
  {
   "cell_type": "code",
   "execution_count": 258,
   "metadata": {},
   "outputs": [
    {
     "name": "stdout",
     "output_type": "stream",
     "text": [
      "cumple\n"
     ]
    }
   ],
   "source": [
    "# Comprobamos si una palabra cumple con estas condiciones: \n",
    "#Su longitud total es mayor que 4 \n",
    "#Empieza por  <<p>>\n",
    "#Contiene al menos una <<y>>\n",
    "\n",
    "palabra='Python'\n",
    "if len(palabra) > 4 and palabra.startswith('P') and palabra.count('y') >= 1:\n",
    "    print('cumple')\n",
    "else: \n",
    "    print('!No cumple')"
   ]
  },
  {
   "cell_type": "code",
   "execution_count": 260,
   "metadata": {},
   "outputs": [
    {
     "name": "stdout",
     "output_type": "stream",
     "text": [
      "Cumple requisitos\n"
     ]
    }
   ],
   "source": [
    "# VERACIDAD USANDO 'ALL'\n",
    "\n",
    "palabra='Python'\n",
    "\n",
    "cumple_longitud =len(palabra)>4\n",
    "empieza_P = palabra.startswith('P')\n",
    "alguna_y = palabra.count('y') >= 1\n",
    "\n",
    "cumple_todas = all([cumple_longitud, empieza_P, alguna_y])\n",
    "\n",
    "if cumple_todas:\n",
    "    print('Cumple requisitos')\n",
    "else:\n",
    "    print('No cumple requisitos')\n"
   ]
  },
  {
   "cell_type": "code",
   "execution_count": 261,
   "metadata": {},
   "outputs": [
    {
     "name": "stdout",
     "output_type": "stream",
     "text": [
      "Cumple requisitos\n"
     ]
    }
   ],
   "source": [
    "# VERACIDAD USANDO 'ANY'\n",
    "\n",
    "palabra='Python'\n",
    "\n",
    "cumple_longitud =len(palabra)>4\n",
    "empieza_P = palabra.startswith('P')\n",
    "alguna_y = palabra.count('y') >= 1\n",
    "\n",
    "cumple_todo = any([cumple_longitud, empieza_P, alguna_y])\n",
    "\n",
    "if cumple_todo:\n",
    "    print('Cumple requisitos')\n",
    "else:\n",
    "    print('No cumple requisitos')\n"
   ]
  }
 ],
 "metadata": {
  "kernelspec": {
   "display_name": "Curso_Python",
   "language": "python",
   "name": "python3"
  },
  "language_info": {
   "codemirror_mode": {
    "name": "ipython",
    "version": 3
   },
   "file_extension": ".py",
   "mimetype": "text/x-python",
   "name": "python",
   "nbconvert_exporter": "python",
   "pygments_lexer": "ipython3",
   "version": "3.11.9"
  }
 },
 "nbformat": 4,
 "nbformat_minor": 2
}
