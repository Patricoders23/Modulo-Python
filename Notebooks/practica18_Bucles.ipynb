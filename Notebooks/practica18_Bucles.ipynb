{
 "cells": [
  {
   "cell_type": "markdown",
   "metadata": {},
   "source": [
    "# BUCLES - LOOPS \n",
    "\n",
    "En general un bucle es una estructura de control que repite un bloque de instrucciones"
   ]
  },
  {
   "cell_type": "markdown",
   "metadata": {},
   "source": [
    "# While: Mientras se cumple una condición haz esto o lo otro. "
   ]
  },
  {
   "cell_type": "markdown",
   "metadata": {},
   "source": [
    "## 1. Escriba un programa que pregunte una y otra vez si desea continuar con el programa, siempre que se conteste exactamente sí (en minúsculas y con tilde)."
   ]
  },
  {
   "cell_type": "code",
   "execution_count": 18,
   "metadata": {},
   "outputs": [
    {
     "name": "stdout",
     "output_type": "stream",
     "text": [
      "Usted desea continuar con el programa, ¡felicidades!\n",
      "Usted desea continuar con el programa, ¡felicidades!\n",
      "Usted desea continuar con el programa, ¡felicidades!\n",
      "Usted desea continuar con el programa, ¡felicidades!\n",
      "Usted desea continuar con el programa, ¡felicidades!\n",
      "Usted desea continuar con el programa, ¡felicidades!\n",
      "Usted desea continuar con el programa, ¡felicidades!\n",
      "Gracias por usar el programa. ¡Hasta luego!\n"
     ]
    }
   ],
   "source": [
    "respuesta = input('¿Desea continuar con el programa? [sí/no]: ')\n",
    "\n",
    "while respuesta == 'sí':\n",
    "    print('Usted desea continuar con el programa, ¡felicidades!')\n",
    "    respuesta = input('¿Desea continuar con el programa? [sí/no]: ')\n",
    "    if respuesta != 'sí' and respuesta != 'no':\n",
    "        print('No has escrito correctamente, se escribe \"sí\", en minúsculas y con tilde, repítelo.')\n",
    "\n",
    "print('Gracias por usar el programa. ¡Hasta luego!')\n"
   ]
  },
  {
   "cell_type": "markdown",
   "metadata": {},
   "source": [
    "## 2. Escriba un programa que pregunte una y otra vez si desea terminar el programa, siempre que se conteste exactamente N (en mayúsculas)"
   ]
  },
  {
   "cell_type": "code",
   "execution_count": 35,
   "metadata": {},
   "outputs": [
    {
     "name": "stdout",
     "output_type": "stream",
     "text": [
      "Usted no desea terminar el programa!!\n",
      "Usted no desea terminar el programa!!\n",
      "Usted no desea terminar el programa!!\n",
      "Usted no desea terminar el programa!!\n",
      "Usted no desea terminar el programa!!\n",
      "Usted no desea terminar el programa!!\n",
      "Usted no desea terminar el programa!!\n",
      "Usted escribió: ny, repítelo!! Se escribe \"n\" para terminar, en mayúsculas\n",
      "El programa ha terminado. ¡Hasta luego!\n"
     ]
    }
   ],
   "source": [
    "pregunta = str(input('Desea terminar el programa? [y/n]: '))\n",
    "\n",
    "while pregunta.lower() == 'n':\n",
    "    print('Usted no desea terminar el programa!!')\n",
    "    pregunta = str(input('Desea terminar el programa? [y/n]: '))\n",
    "    if pregunta.lower() != 's' and pregunta.lower() != 'n':\n",
    "        print(f'Usted escribió: {pregunta}, repítelo!! Se escribe \"n\" para terminar, en mayúsculas')\n",
    "print('El programa ha terminado. ¡Hasta luego!')  "
   ]
  },
  {
   "cell_type": "markdown",
   "metadata": {},
   "source": [
    "## 3. Escriba un programa que pregunte una y otra vez si desea continuar con el programa, siempre que se conteste S o s (en mayúsculas o en minúsculas).\n"
   ]
  },
  {
   "cell_type": "code",
   "execution_count": 46,
   "metadata": {},
   "outputs": [
    {
     "name": "stdout",
     "output_type": "stream",
     "text": [
      "Usted escribió: S, felicidades!! desea continuar con el programa\n",
      "Usted escribió: s, felicidades!! desea continuar con el programa\n",
      "Usted escribió: s, felicidades!! desea continuar con el programa\n",
      "Usted escribió: S, felicidades!! desea continuar con el programa\n",
      "Usted escribió: si, repítelo!! Se escribe \"s\" o \"S\" para continuar el bucle\n",
      "El programa ha terminado. ¡Hasta luego!\n"
     ]
    }
   ],
   "source": [
    "pregunta = str(input('Desea terminar el programa? [y/n]: '))\n",
    "\n",
    "while pregunta == 's' or pregunta == 'S' :\n",
    "    print(f'Usted escribió: {pregunta}, felicidades!! desea continuar con el programa')\n",
    "    pregunta = str(input('Desea terminar el programa? [y/n]: '))\n",
    "    if pregunta != 's' and pregunta != 'S' and pregunta != 'n':\n",
    "        print(f'Usted escribió: {pregunta}, repítelo!! Se escribe \"s\" o \"S\" para continuar el bucle')\n",
    "print('El programa ha terminado. ¡Hasta luego!')  "
   ]
  },
  {
   "cell_type": "markdown",
   "metadata": {},
   "source": [
    "## 4. Escriba un programa que solicite una contraseña (el texto de la contraseña no es importante) y la vuelva a solicitar hasta que las dos contraseñas coincidan"
   ]
  },
  {
   "cell_type": "code",
   "execution_count": 1,
   "metadata": {},
   "outputs": [
    {
     "name": "stdout",
     "output_type": "stream",
     "text": [
      "La contraseña 1 es: , y la contraseña 2 es: ER2 NO son iguales, ¡repítalo!\n",
      "La contraseña 1 es: ER2, y la contraseña 2 es: WE1 NO son iguales, ¡repítalo!\n",
      "La contraseña_1: WE1, y la contraseña_2: WE1 son iguales, ¡felicidades!\n",
      "El programa ha terminado, ¡gracias!\n"
     ]
    }
   ],
   "source": [
    "contrasena_1 = input('Ingrese la primera contraseña: ')\n",
    "contrasena_2 = input('Ingrese la segunda contraseña: ')\n",
    "\n",
    "while contrasena_1 != contrasena_2:\n",
    "    print(f'La contraseña 1 es: {contrasena_1}, y la contraseña 2 es: {contrasena_2} NO son iguales, ¡repítalo!')\n",
    "    contrasena_1 = input('Ingrese la primera contraseña nuevamente: ')\n",
    "    contrasena_2 = input('Ingrese la segunda contraseña: ')\n",
    "\n",
    "print(f'La contraseña_1: {contrasena_1}, y la contraseña_2: {contrasena_2} son iguales, ¡felicidades!')\n",
    "print('El programa ha terminado, ¡gracias!')\n"
   ]
  },
  {
   "cell_type": "markdown",
   "metadata": {},
   "source": [
    "## 5. Escriba un programa que simule una hucha. El programa solicitará primero una cantidad, que será la cantidad de dinero que queremos ahorrar. A continuación, el programa solicitará una y otra vez las cantidades que se irán ahorrando, hasta que el total ahorrado iguale o supere al objetivo. El programa no comprobará que las cantidades sean positivas."
   ]
  },
  {
   "cell_type": "code",
   "execution_count": 13,
   "metadata": {},
   "outputs": [
    {
     "name": "stdout",
     "output_type": "stream",
     "text": [
      "El objetivo es ahorrar 25 euros\n",
      "No has ahorrado lo suficiente, has ahorrado 8 de 25 euros. Sigue ahorrando.\n",
      "No has ahorrado lo suficiente, has ahorrado 14 de 25 euros. Sigue ahorrando.\n",
      "No has ahorrado lo suficiente, has ahorrado 18 de 25 euros. Sigue ahorrando.\n",
      "Felicidades, has alcanzado tu objetivo de 25 euros ahorrados. ¡Has ahorrado un total de 26 euros!\n"
     ]
    }
   ],
   "source": [
    "\n",
    "objetivo = int(input('¿Cuánto dinero quieres ahorrar en total? '))\n",
    "print(f'El objetivo es ahorrar {objetivo} euros')\n",
    "\n",
    "total_ahorrado = 0\n",
    "\n",
    "while total_ahorrado < objetivo:\n",
    "\n",
    "    cantidad = int(input('¿Cuánto dinero vas a ahorrar hoy? '))\n",
    "    \n",
    "\n",
    "    total_ahorrado += cantidad\n",
    "    \n",
    " \n",
    "    if total_ahorrado < objetivo:\n",
    "        print(f'No has ahorrado lo suficiente, has ahorrado {total_ahorrado} de {objetivo} euros. Sigue ahorrando.')\n",
    "\n",
    "print(f'Felicidades, has alcanzado tu objetivo de {objetivo} euros ahorrados. ¡Has ahorrado un total de {total_ahorrado} euros!')\n",
    "\n"
   ]
  },
  {
   "cell_type": "markdown",
   "metadata": {},
   "source": [
    "## 6. Escriba un programa que mejore la simulación de la hucha del ejercicio anterior, no permitiendo que se escriban cantidades negativas."
   ]
  },
  {
   "cell_type": "code",
   "execution_count": 16,
   "metadata": {},
   "outputs": [
    {
     "name": "stdout",
     "output_type": "stream",
     "text": [
      "EL OBJETIVO ES AHORRAR: 10 euros\n",
      "No has ahorrado lo suficiente, has ahorrado 4 de 10 euros. Sigue ahorrando.\n",
      "No has ahorrado lo suficiente, has ahorrado 8 de 10 euros. Sigue ahorrando.\n",
      "Felicidades, has alcanzado tu objetivo de 10 euros ahorrados.¡Has ahorrado un total de 10 euros!\n"
     ]
    }
   ],
   "source": [
    "objetivo = int(input('¿Cuánto dinero quieres ahorrar en total? '))\n",
    "print(f'EL OBJETIVO ES AHORRAR: {objetivo} euros')\n",
    "\n",
    "total_ahorrado = 0\n",
    "\n",
    "while total_ahorrado < objetivo:\n",
    "    cantidad = int(input('¿Cuánto dinero vas a ahorrar hoy? '))\n",
    "    \n",
    "    if cantidad >= 0:\n",
    "        total_ahorrado += cantidad\n",
    "        if total_ahorrado < objetivo:\n",
    "            print(f'No has ahorrado lo suficiente, has ahorrado {total_ahorrado} de {objetivo} euros. Sigue ahorrando.')\n",
    "    else:\n",
    "        print('No puedes ahorrar una cantidad negativa, inténtalo otra vez!')\n",
    "\n",
    "print(f'Felicidades, has alcanzado tu objetivo de {objetivo} euros ahorrados.' \n",
    "      f'¡Has ahorrado un total de {total_ahorrado} euros!')\n"
   ]
  },
  {
   "cell_type": "markdown",
   "metadata": {},
   "source": [
    "## 7. Escriba un programa que solicite una contraseña (el texto de la contraseña no es importante) y la vuelva a solicitar hasta que las dos contraseñas coincidan, con un límite de tres peticiones."
   ]
  },
  {
   "cell_type": "code",
   "execution_count": 8,
   "metadata": {},
   "outputs": [
    {
     "name": "stdout",
     "output_type": "stream",
     "text": [
      "Las contraseñas no son iguales\n",
      "Ingrese otra vez las contraseñas: \n",
      "Las contraseñas no son iguales\n",
      "Ingrese otra vez las contraseñas: \n",
      "Las contraseñas no son iguales\n",
      "Ingrese otra vez las contraseñas: \n",
      "Las contraseñas no son iguales\n",
      "Ingrese otra vez las contraseñas: \n",
      "Las contraseñas no son iguales\n",
      "Ingrese otra vez las contraseñas: \n",
      "Las contraseñas no son iguales\n",
      "Ingrese otra vez las contraseñas: \n",
      "Las contraseñas no son iguales\n",
      "Ingrese otra vez las contraseñas: \n",
      "Las contraseñas no son iguales\n",
      "Las contraseñas son iguales, felicidades!!\n",
      "exit\n"
     ]
    }
   ],
   "source": [
    "a = input ('Ingrese una contraseña: ')\n",
    "b = input ('Repita la misma contraseña: ')\n",
    "\n",
    "while a != b:\n",
    "    print ('Las contraseñas no son iguales')\n",
    "    a = input ('Ingrese una contraseña: ')\n",
    "    b = input ('Repita la contraseña: ')\n",
    "    if a == b: \n",
    "        print ('Las contraseñas son iguales, felicidades!!')\n",
    "        break\n",
    "    else:\n",
    "        print('Ingrese otra vez las contraseñas: ')\n",
    "print ('exit')"
   ]
  },
  {
   "cell_type": "code",
   "execution_count": 25,
   "metadata": {},
   "outputs": [
    {
     "name": "stdout",
     "output_type": "stream",
     "text": [
      "Las contraseñas no coinciden.\n",
      "Las contraseñas no coinciden.\n",
      "Las contraseñas no coinciden.\n",
      "Se han superado los tres intentos. Salida del programa.\n",
      "El programa ha terminado.\n"
     ]
    }
   ],
   "source": [
    "intentos = 0\n",
    "\n",
    "while intentos < 3:\n",
    "    a = input('Ingrese una contraseña: ')\n",
    "    b = input('Repita la misma contraseña: ')\n",
    "\n",
    "    if a == b:\n",
    "        print('Las contraseñas son iguales, ¡felicidades!')\n",
    "        break\n",
    "    else:\n",
    "        print('Las contraseñas no coinciden.')\n",
    "        intentos += 1\n",
    "\n",
    "    if intentos == 3:\n",
    "        print('Se han superado los tres intentos. Salida del programa.')\n",
    "else:\n",
    "    print('El programa ha terminado.')\n"
   ]
  },
  {
   "cell_type": "markdown",
   "metadata": {},
   "source": [
    "## 8. Escriba un programa que lea los números enteros desde teclado, hasta que el usuario ingrese el 0. Finalmente, mostrar la sumatoria de todos los números ingresados."
   ]
  },
  {
   "cell_type": "code",
   "execution_count": 30,
   "metadata": {},
   "outputs": [
    {
     "name": "stdout",
     "output_type": "stream",
     "text": [
      "Usted ingresó el número 5 \n",
      "La sumatoria es 5\n",
      "Usted ingresó el número -5 \n",
      "La sumatoria es 0\n",
      "Usted ingresó el número 7 \n",
      "La sumatoria es 7\n",
      "Usted ingresó el número 9 \n",
      "La sumatoria es 16\n",
      "Usted ingresó el número -11 \n",
      "La sumatoria es 5\n",
      "Usted ingresó el número 33 \n",
      "La sumatoria es 38\n",
      "Usted ingresó el número 0 \n",
      "La sumatoria en total es: 38\n"
     ]
    }
   ],
   "source": [
    "sumatoria = 0 \n",
    "\n",
    "while True: \n",
    "    numero = int (input('Ingrese un número entero: '))\n",
    "    print(f'Usted ingresó el número {numero} ')\n",
    "    \n",
    "    if numero != 0: \n",
    "        sumatoria += numero\n",
    "        print(f'La sumatoria es {sumatoria}')\n",
    "    else: \n",
    "        break\n",
    "print(f'La sumatoria en total es: {sumatoria}')"
   ]
  },
  {
   "cell_type": "markdown",
   "metadata": {},
   "source": [
    "## 9. Escriba un programa que lea los números enteros desde teclado, hasta que el usuario ingrese el 0.  Finalmente, mostrar la cantidad de todos los números positivos ingresados."
   ]
  },
  {
   "cell_type": "code",
   "execution_count": 32,
   "metadata": {},
   "outputs": [
    {
     "name": "stdout",
     "output_type": "stream",
     "text": [
      "Usted ingresó el número 8 \n",
      "La sumatoria es 8\n",
      "Usted ingresó el número 9 \n",
      "La sumatoria es 17\n",
      "Usted ingresó el número 74 \n",
      "La sumatoria es 91\n",
      "Usted ingresó el número 0 \n",
      "La sumatoria en total es: 91\n"
     ]
    }
   ],
   "source": [
    "sumatoria = 0 \n",
    "\n",
    "while True: \n",
    "    numero = int (input('Ingrese un número entero: '))\n",
    "    print(f'Usted ingresó el número {numero} ')\n",
    "    \n",
    "    if numero != 0 and numero > 0:\n",
    "        sumatoria += numero\n",
    "        print(f'La sumatoria es {sumatoria}')\n",
    "    else: \n",
    "        break\n",
    "print(f'La sumatoria en total es: {sumatoria}')"
   ]
  },
  {
   "cell_type": "markdown",
   "metadata": {},
   "source": [
    "## 10. Escriba un programa que lea los números enteros positivos de teclado, hasta que el usuario  ingrese el 0. Informar cuál fue el mayor número ingresado"
   ]
  },
  {
   "cell_type": "code",
   "execution_count": 6,
   "metadata": {},
   "outputs": [
    {
     "name": "stdout",
     "output_type": "stream",
     "text": [
      "Usted ingresó el número 8 \n",
      "La sumatoria es 8\n",
      "Usted ingresó el número 4 \n",
      "La sumatoria es 12\n",
      "Usted ingresó el número 0 \n",
      "No se admiten números ----> NEGATIVOS\n",
      "La sumatoria en total es: 12\n",
      "EL MAYOR NÚMERO ES: 8\n"
     ]
    }
   ],
   "source": [
    "sumatoria = 0 \n",
    "numeros_ingresados = [ ]\n",
    "\n",
    "while True: \n",
    "    numero = int (input('Ingrese un número entero: '))\n",
    "    print(f'Usted ingresó el número {numero} ')\n",
    "    \n",
    "    if numero != 0 and numero > 0:\n",
    "        sumatoria += numero\n",
    "        numeros_ingresados.append(numero)\n",
    "        print(f'La sumatoria es {sumatoria}')\n",
    "    else:\n",
    "        print('No se admiten números ----> NEGATIVOS') \n",
    "        break\n",
    "print(f'La sumatoria en total es: {sumatoria}')\n",
    "\n",
    "if numeros_ingresados:\n",
    "    max_num =max(numeros_ingresados)\n",
    "    print(f'EL MAYOR NÚMERO ES: {max_num}')\n",
    "else:\n",
    "    print(f'No se ingresaron números mayores a cero')"
   ]
  },
  {
   "cell_type": "code",
   "execution_count": null,
   "metadata": {},
   "outputs": [],
   "source": []
  },
  {
   "cell_type": "markdown",
   "metadata": {},
   "source": [
    "## Ejercicio clase:"
   ]
  },
  {
   "cell_type": "code",
   "execution_count": 1,
   "metadata": {},
   "outputs": [
    {
     "name": "stdout",
     "output_type": "stream",
     "text": [
      "Bienvenido!\n",
      "Hola que tal!\n",
      "Hola que tal!\n",
      "Que tenga un buen día!\n"
     ]
    }
   ],
   "source": [
    "saludo = 'S' #importante dar un valor inicial \n",
    "print('Bienvenido!')\n",
    "while saludo == 'S':\n",
    "    print('Hola que tal!')\n",
    "    saludo = input ('Quiere que le salude de nuevo? [S/N]')\n",
    "print('Que tenga un buen día!')"
   ]
  },
  {
   "cell_type": "code",
   "execution_count": 5,
   "metadata": {},
   "outputs": [
    {
     "name": "stdout",
     "output_type": "stream",
     "text": [
      "1\n",
      "2\n",
      "3\n",
      "Programa terminado\n"
     ]
    }
   ],
   "source": [
    "i = 1\n",
    "while i <= 3: \n",
    "    print(i)\n",
    "    i += 1\n",
    "print('Programa terminado')"
   ]
  },
  {
   "cell_type": "code",
   "execution_count": 9,
   "metadata": {},
   "outputs": [
    {
     "name": "stdout",
     "output_type": "stream",
     "text": [
      "1\n",
      "4\n",
      "13\n",
      "40\n",
      "Programa Terminado\n"
     ]
    }
   ],
   "source": [
    "i = 1\n",
    "while i <= 50:\n",
    "    print(i)\n",
    "    i = 3 * i +1\n",
    "print ('Programa Terminado')"
   ]
  },
  {
   "cell_type": "code",
   "execution_count": 13,
   "metadata": {},
   "outputs": [
    {
     "name": "stdout",
     "output_type": "stream",
     "text": [
      "Ha escrito un número negativo!... Inténtelo de nuevo\n",
      "Escribió el número: 5. Gracias por su colaboración\n"
     ]
    }
   ],
   "source": [
    "numero = int(input('Escriba un número positivo: '))\n",
    "while numero < 0: \n",
    "    print ('Ha escrito un número negativo!... Inténtelo de nuevo')\n",
    "    numero = int (input('Escriba un número positivo: '))\n",
    "print(f'Escribió el número: {numero}. Gracias por su colaboración')"
   ]
  },
  {
   "cell_type": "code",
   "execution_count": 20,
   "metadata": {},
   "outputs": [
    {
     "name": "stdout",
     "output_type": "stream",
     "text": [
      "Hola que tal!!\n",
      "Que tenga un buen día\n"
     ]
    }
   ],
   "source": [
    "# USO DE BREAK\n",
    "\n",
    "MAX_SALUDOS = 4 \n",
    "nro_saludos = 0\n",
    "saludo = 'S'\n",
    "\n",
    "while saludo == 'S':\n",
    "    print('Hola que tal!!')\n",
    "    nro_saludos += 1\n",
    "    if nro_saludos == MAX_SALUDOS:\n",
    "        print (f'Se alcanzó el numero máximo de saludos, {MAX_SALUDOS}')\n",
    "        break\n",
    "    saludo = input ( 'Quiere otro saludo? [Y/N]')\n",
    "print ('Que tenga un buen día')"
   ]
  },
  {
   "cell_type": "code",
   "execution_count": 22,
   "metadata": {},
   "outputs": [
    {
     "name": "stdout",
     "output_type": "stream",
     "text": [
      "¡Hola, qué tal!\n",
      "¡Hola, qué tal!\n",
      "¡Hola, qué tal!\n",
      "¡Hola, qué tal!\n",
      "Se alcanzó el número máximo de saludos, 4.\n",
      "Que tenga un buen día\n"
     ]
    }
   ],
   "source": [
    "MAX_SALUDOS = 4 \n",
    "nro_saludos = 0\n",
    "saludo = 'Y'\n",
    "\n",
    "while saludo == 'Y':\n",
    "    print('¡Hola, qué tal!')\n",
    "    nro_saludos += 1\n",
    "    if nro_saludos == MAX_SALUDOS:\n",
    "        print(f'Se alcanzó el número máximo de saludos, {MAX_SALUDOS}.')\n",
    "        break\n",
    "    saludo = input('¿Quiere otro saludo? [Y/N] ').upper()\n",
    "print('Que tenga un buen día')\n"
   ]
  },
  {
   "cell_type": "code",
   "execution_count": 23,
   "metadata": {},
   "outputs": [
    {
     "name": "stdout",
     "output_type": "stream",
     "text": [
      "¡Hola, qué tal!\n",
      "¡Hola, qué tal!\n",
      "¡Hola, qué tal!\n",
      "¡Hola, qué tal!\n",
      "Se alcanzó el número máximo de saludos, 4.\n",
      "Que tenga un buen día\n"
     ]
    }
   ],
   "source": [
    "# USO ELSE: \n",
    "\n",
    "MAX_SALUDOS = 4 \n",
    "nro_saludos = 0\n",
    "saludo = 'Y'\n",
    "\n",
    "while saludo == 'Y':\n",
    "    print('¡Hola, qué tal!')\n",
    "    nro_saludos += 1\n",
    "    if nro_saludos == MAX_SALUDOS:\n",
    "        print(f'Se alcanzó el número máximo de saludos, {MAX_SALUDOS}.')\n",
    "        break\n",
    "    saludo = input('¿Quiere otro saludo? [Y/N] ').upper()\n",
    "else:\n",
    "    print('Usted no quiere mas saludos')\n",
    "print('Que tenga un buen día')"
   ]
  },
  {
   "cell_type": "code",
   "execution_count": 27,
   "metadata": {},
   "outputs": [
    {
     "name": "stdout",
     "output_type": "stream",
     "text": [
      "¡Hola, qué tal!\n",
      "¡Hola, qué tal!\n",
      "¡Hola, qué tal!\n",
      "¡Hola, qué tal!\n",
      "¡Hola, qué tal!\n",
      "¡Hola, qué tal!\n",
      "Usted ingresó: 6 veces \"Y\", y son respuestas válidas\n",
      "Que tenga un buen día\n"
     ]
    }
   ],
   "source": [
    "# USO CONTINUE:\n",
    "\n",
    "saludo = 'Y'\n",
    "respuestas_validas = 0\n",
    "\n",
    "while saludo == 'Y':\n",
    "    print('¡Hola, qué tal!')\n",
    "    saludo = input ('Quiere otro saludo? [Y/N] ')\n",
    "    if saludo not in 'Y/N':\n",
    "        print('No le he entendido, pero le saludo')\n",
    "        saludo = 'Y'\n",
    "        continue\n",
    "    respuestas_validas += 1\n",
    "    \n",
    "print(f'Usted ingresó: {respuestas_validas} veces \"Y\", y son respuestas válidas')\n",
    "print('Que tenga un buen día')"
   ]
  },
  {
   "cell_type": "code",
   "execution_count": 32,
   "metadata": {},
   "outputs": [
    {
     "name": "stdout",
     "output_type": "stream",
     "text": [
      "La variable comienza con el número 3, y se incrementó mas 2\n",
      "La variable comienza con el número 5, y se incrementó mas 2\n",
      "La variable comienza con el número 7, y se incrementó mas 2\n",
      "La variable comienza con el número 9, y se incrementó mas 2\n",
      "La variable comienza con el número 11, y se incrementó mas 2\n",
      "Hasta que cumple la condición \"numero<10\", y termina el programa. Fin!!\n"
     ]
    }
   ],
   "source": [
    "# Evitar bucles infinitos \n",
    "\n",
    "numero = 1\n",
    "while numero < 10:\n",
    "    numero += 2\n",
    "    print(f'La variable comienza con el número {numero}, y se incrementó mas 2')\n",
    "print(f'Hasta que cumple la condición \"numero<10\", y termina el programa. Fin!!')"
   ]
  },
  {
   "cell_type": "code",
   "execution_count": 34,
   "metadata": {},
   "outputs": [
    {
     "name": "stdout",
     "output_type": "stream",
     "text": [
      "La nota que ingresó es de: 7.0\n",
      "La nota que ingresó es de: 5.0\n",
      "La nota que ingresó es de: 9.0\n",
      "La nota que ingresó es de: 9.0\n",
      "La nota que ingresó es de:  11.0, y está fuera de rango, repítelo!!\n"
     ]
    }
   ],
   "source": [
    "while True:\n",
    "    nota = float(input('Introduzca una nota: '))\n",
    "    if not(0 <= nota <=10):\n",
    "        print(f'La nota que ingresó es de:  {nota}, y está fuera de rango, repítelo!!')\n",
    "        break\n",
    "    print (f'La nota que ingresó es de: {nota}')"
   ]
  }
 ],
 "metadata": {
  "kernelspec": {
   "display_name": "Curso_Python",
   "language": "python",
   "name": "python3"
  },
  "language_info": {
   "codemirror_mode": {
    "name": "ipython",
    "version": 3
   },
   "file_extension": ".py",
   "mimetype": "text/x-python",
   "name": "python",
   "nbconvert_exporter": "python",
   "pygments_lexer": "ipython3",
   "version": "3.11.9"
  }
 },
 "nbformat": 4,
 "nbformat_minor": 2
}
