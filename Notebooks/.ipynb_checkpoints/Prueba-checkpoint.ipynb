{
 "cells": [
  {
   "cell_type": "code",
   "execution_count": 1,
   "id": "e8476555",
   "metadata": {},
   "outputs": [
    {
     "name": "stdout",
     "output_type": "stream",
     "text": [
      "4\n"
     ]
    }
   ],
   "source": [
    "print(2+2)"
   ]
  },
  {
   "cell_type": "markdown",
   "id": "9b7c0f3b",
   "metadata": {},
   "source": [
    "# Prueba"
   ]
  },
  {
   "cell_type": "markdown",
   "id": "577731bb",
   "metadata": {},
   "source": [
    "## Sección"
   ]
  },
  {
   "cell_type": "markdown",
   "id": "b15c8576",
   "metadata": {},
   "source": [
    "### Subsection "
   ]
  },
  {
   "cell_type": "code",
   "execution_count": null,
   "id": "f7258a2b",
   "metadata": {},
   "outputs": [],
   "source": []
  }
 ],
 "metadata": {
  "kernelspec": {
   "display_name": "Python 3 (ipykernel)",
   "language": "python",
   "name": "python3"
  },
  "language_info": {
   "codemirror_mode": {
    "name": "ipython",
    "version": 3
   },
   "file_extension": ".py",
   "mimetype": "text/x-python",
   "name": "python",
   "nbconvert_exporter": "python",
   "pygments_lexer": "ipython3",
   "version": "3.11.9"
  }
 },
 "nbformat": 4,
 "nbformat_minor": 5
}
