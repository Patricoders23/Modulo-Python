{
 "cells": [
  {
   "cell_type": "markdown",
   "id": "b8b3820c",
   "metadata": {},
   "source": [
    "# Practica 24 - Funciones. 15 ejercicios para resolver solo 10."
   ]
  },
  {
   "cell_type": "markdown",
   "id": "51fd8a94",
   "metadata": {},
   "source": [
    "1 - Escribe un programa que defina una función crear_lista( ) para crear y devolver una lista que sea la combinación de dos listas que se le pasen."
   ]
  },
  {
   "cell_type": "code",
   "execution_count": 75,
   "id": "411e44c4",
   "metadata": {},
   "outputs": [
    {
     "name": "stdout",
     "output_type": "stream",
     "text": [
      "La lista conatenada es: [10, 11, 12, 13, 14, 20, 30, 40]\n",
      "\n"
     ]
    }
   ],
   "source": [
    "def crear_lista(list1, list2):\n",
    "    return list1 + list2\n",
    "\n",
    "list1= [10, 11, 12, 13, 14]\n",
    "list2 =[20,30,40]\n",
    "\n",
    "result = crear_lista(list1, list2)\n",
    "print(f'La lista conatenada es: {result}\\n')"
   ]
  },
  {
   "cell_type": "markdown",
   "id": "1aa4b8b7",
   "metadata": {},
   "source": [
    "2- Escribe una programa que defina una funcion que haga conversiones de precios de moneda. Se le pide al usuario que introduzca la cantidad en euros y que introduzca la divisa a la que quiere convertir. Use por lo menos dos divisas mas: Dolár y Francos por ejemplo. Imprima los resultados."
   ]
  },
  {
   "cell_type": "code",
   "execution_count": 76,
   "id": "cfa89752",
   "metadata": {},
   "outputs": [
    {
     "name": "stdout",
     "output_type": "stream",
     "text": [
      "El cambio para 100.0 euros es 120.0 dólares\n"
     ]
    }
   ],
   "source": [
    "def conversion_monedas ():\n",
    "    moneda= float(input('Ingrese la cantidad de dinero que deasea convertir: '))\n",
    "    divisa= str(input('Introduzca la divisa a la que quiere convertir (francos ó dolar): '))\n",
    "    \n",
    "    francos_rate=0.9\n",
    "    dolar_rate=1.2\n",
    "    \n",
    "    if divisa.lower() == 'francos':\n",
    "        print(f'El cambio para {moneda} euros es {moneda * francos_rate} francos')\n",
    "    elif divisa.lower() == 'dolar':\n",
    "        print(f'El cambio para {moneda} euros es {moneda * dolar_rate} dólares')\n",
    "    else: \n",
    "        print('La divisa no es válida')\n",
    "\n",
    "conversion_monedas()\n",
    "    "
   ]
  },
  {
   "cell_type": "code",
   "execution_count": 5,
   "id": "df6e04d3",
   "metadata": {},
   "outputs": [
    {
     "name": "stdout",
     "output_type": "stream",
     "text": [
      "El cambio para 10.0 euros es 12.0 dolar\n"
     ]
    }
   ],
   "source": [
    "def conversion_monedas():\n",
    "    moneda = float(input('Ingrese la cantidad de dinero que desea convertir: '))\n",
    "    divisa = input('Introduzca la divisa a la que quiere convertir: ')\n",
    "\n",
    "    conversiones = {\n",
    "        'francos': 0.9,\n",
    "        'dolar': 1.2\n",
    "    }\n",
    "\n",
    "    if divisa in conversiones:\n",
    "        print(f'El cambio para {moneda} euros es {moneda * conversiones[divisa]} {divisa}')\n",
    "    else:\n",
    "        print('La divisa no es válida')\n",
    "\n",
    "conversion_monedas()"
   ]
  },
  {
   "cell_type": "markdown",
   "id": "e8e0284d",
   "metadata": {},
   "source": [
    "3- Escribe un programa que defina una función llamada limpiar_lista( ) para eliminar todas las entradas duplicadas de la lista que recibe."
   ]
  },
  {
   "cell_type": "code",
   "execution_count": 6,
   "id": "33b4c69b",
   "metadata": {},
   "outputs": [
    {
     "name": "stdout",
     "output_type": "stream",
     "text": [
      "Lista original: [4, 3, 4, 5, 67, 8]\n",
      "Lista sin duplicados: [67, 3, 4, 5, 8]\n"
     ]
    }
   ],
   "source": [
    "def limpiar_lista():\n",
    "    lista = [int(input('Ingrese número {i+1}:  ')) for i in range(6)]\n",
    "    \n",
    "    lista_sin_duplicados=list(set(lista))\n",
    "    \n",
    "    print(\"Lista original:\", lista)\n",
    "    print(\"Lista sin duplicados:\", lista_sin_duplicados)\n",
    "\n",
    "limpiar_lista()"
   ]
  },
  {
   "cell_type": "markdown",
   "id": "0a28448d",
   "metadata": {},
   "source": [
    "4- ¿Cuál de las llamadas a la función imprímelo( ) en el siguiente programa informará de errores?"
   ]
  },
  {
   "cell_type": "code",
   "execution_count": 21,
   "id": "78571ae1",
   "metadata": {},
   "outputs": [
    {
     "name": "stdout",
     "output_type": "stream",
     "text": [
      "\n",
      "20 6.28 Hi\n",
      "30 6.28 Hello\n",
      "40 2.35 NagMum10"
     ]
    }
   ],
   "source": [
    "def imprimelo(i, a, s, *args) : \n",
    "    print( )\n",
    "    print(i, a, s, end = '') \n",
    "    for var in args:\n",
    "        print(var, end = '')\n",
    "        \n",
    "# imprimelo(10, 3.14) # PORQUE LA FUNCIÓN ESPERA 3 ARGUMENTOS REQUERIDOS,PERO SOLO SE PASAN 2. \n",
    "imprimelo(20, s = 'Hi', a = 6.28)\n",
    "imprimelo(a = 6.28, s = 'Hello', i = 30) \n",
    "imprimelo(40, 2.35, 'Nag', 'Mum', 10)"
   ]
  },
  {
   "cell_type": "markdown",
   "id": "90072e0e",
   "metadata": {},
   "source": [
    "5 - ¿Cuál de las llamadas a funciona( ) en el siguiente programa informará de errores?"
   ]
  },
  {
   "cell_type": "code",
   "execution_count": 25,
   "id": "f5869eee",
   "metadata": {},
   "outputs": [
    {
     "name": "stdout",
     "output_type": "stream",
     "text": [
      "10 !\n",
      "10 !\n",
      "20 !\n",
      "10 !\n",
      "20 !\n",
      "30 !\n",
      "10 +\n",
      "20 +\n",
      "30 +\n",
      "40 +\n"
     ]
    }
   ],
   "source": [
    "def funciona(a, *args, s = '!') :\n",
    "    print(a, s)\n",
    "    for i in args :\n",
    "        print(i, s)\n",
    "        \n",
    "funciona(10) \n",
    "funciona(10, 20)\n",
    "funciona(10, 20, 30)\n",
    "funciona(10, 20, 30, 40, s = '+')\n",
    "\n",
    "# NINGUNA PORQUE funciona() USA *args PARA MANEJAR VARIOS ARGUMENTOS, POR ESO TODAS LAS LLAMADAS FUNCIONAN "
   ]
  },
  {
   "cell_type": "markdown",
   "id": "88393dc3",
   "metadata": {},
   "source": [
    "6 - ¿Cuál de las siguientes es una declaración de retorno válida?"
   ]
  },
  {
   "cell_type": "code",
   "execution_count": 31,
   "id": "2346695d",
   "metadata": {},
   "outputs": [
    {
     "ename": "SyntaxError",
     "evalue": "'return' outside function (4266077043.py, line 1)",
     "output_type": "error",
     "traceback": [
      "\u001b[1;36m  Cell \u001b[1;32mIn[31], line 1\u001b[1;36m\u001b[0m\n\u001b[1;33m    return (a, b, c) # RETORNA UNA TUPLA\u001b[0m\n\u001b[1;37m    ^\u001b[0m\n\u001b[1;31mSyntaxError\u001b[0m\u001b[1;31m:\u001b[0m 'return' outside function\n"
     ]
    }
   ],
   "source": [
    "return (a, b, c) # RETORNA UNA TUPLA \n",
    "return a + b + c # RETORNA UN SIMPLE VALOR, RESULTADO DE LA SUMA \n",
    "return a, b, c # RETORNA UNA TUPLA CON 3 ELEMENTOS. "
   ]
  },
  {
   "cell_type": "markdown",
   "id": "eec1a252",
   "metadata": {},
   "source": [
    "7 - ¿Cuál de las siguientes es una declaración de retorno válida?"
   ]
  },
  {
   "cell_type": "code",
   "execution_count": 37,
   "id": "51b2233a",
   "metadata": {},
   "outputs": [
    {
     "name": "stdout",
     "output_type": "stream",
     "text": [
      "First avatar\n"
     ]
    }
   ],
   "source": [
    "def fun( ) :\n",
    "    print('First avatar')\n",
    "fun( )\n",
    "\n",
    "#################################\n",
    "\n",
    "# def fun( ) :\n",
    "#     print('New avatar')  \n",
    "#  fun( )"
   ]
  },
  {
   "cell_type": "markdown",
   "id": "e30f2b75",
   "metadata": {},
   "source": [
    "8 (Opcional) - ¿Cómo definirías una función que contenga tres sentencias return, cada una de las cuales devuelve un tipo de valor diferente?"
   ]
  },
  {
   "cell_type": "code",
   "execution_count": 39,
   "id": "a6e88b02",
   "metadata": {},
   "outputs": [
    {
     "name": "stdout",
     "output_type": "stream",
     "text": [
      "Cero\n",
      "[2, 4, 8]\n",
      "Negativo\n"
     ]
    }
   ],
   "source": [
    "def ejemplo(x):\n",
    "    if x<0:\n",
    "        return 'Negativo'\n",
    "    elif x==0:\n",
    "        return 'Cero'\n",
    "    else:\n",
    "        return[x, x**2, x**3]\n",
    "\n",
    "print(ejemplo(0))\n",
    "print(ejemplo(2))\n",
    "print(ejemplo(-5))"
   ]
  },
  {
   "cell_type": "markdown",
   "id": "4d539a86",
   "metadata": {},
   "source": [
    "9 (Opcional) - ¿Cómo llamarías a imprimelo( ) para que imprima los elementos de una tupla?"
   ]
  },
  {
   "cell_type": "code",
   "execution_count": 48,
   "id": "65a3ff18",
   "metadata": {},
   "outputs": [
    {
     "name": "stdout",
     "output_type": "stream",
     "text": [
      "\n",
      "20 6.28 Hi\n",
      "20 6.28 Hi"
     ]
    }
   ],
   "source": [
    "def imprimelo(i, a, s, *args) : \n",
    "    print( )\n",
    "    print(i, a, s, end = '') \n",
    "    for var in args:\n",
    "        print(var, end = '')\n",
    "        \n",
    "\n",
    "imprimelo(20, s = 'Hi', a = 6.28)\n",
    "\n",
    "tupla = (20, 6.28, 'Hi')\n",
    "imprimelo(*tupla)"
   ]
  },
  {
   "cell_type": "markdown",
   "id": "a8ac9fe9",
   "metadata": {},
   "source": [
    "10 - ¿Cuál será la salida de los siguientes programas?. Explique también con sus propias palabras lo que el programa está haciendo. Puede hacerlo en un bloque aparte o en el mismo bloque del codigo usando comentarios"
   ]
  },
  {
   "cell_type": "markdown",
   "id": "9f9b6b87",
   "metadata": {},
   "source": [
    "a)"
   ]
  },
  {
   "cell_type": "code",
   "execution_count": 52,
   "id": "3af9f912",
   "metadata": {},
   "outputs": [
    {
     "name": "stdout",
     "output_type": "stream",
     "text": [
      "4\n"
     ]
    }
   ],
   "source": [
    "def fun(x, y) :\n",
    "    if x == 0 :\n",
    "        return y\n",
    "    else :\n",
    "        return fun(x - 1, x * y) \n",
    "\n",
    "print(fun(2, 2))"
   ]
  },
  {
   "cell_type": "markdown",
   "id": "6f8299d0",
   "metadata": {},
   "source": [
    "b)"
   ]
  },
  {
   "cell_type": "code",
   "execution_count": 50,
   "id": "f46c2ba5",
   "metadata": {},
   "outputs": [
    {
     "name": "stdout",
     "output_type": "stream",
     "text": [
      "91\n"
     ]
    }
   ],
   "source": [
    "def fun(num) :\n",
    "    if num > 100 : \n",
    "        return num - 10\n",
    "    return fun(fun(num + 11)) \n",
    "print(fun(75))"
   ]
  },
  {
   "cell_type": "markdown",
   "id": "b91e6a9c",
   "metadata": {},
   "source": [
    "c)"
   ]
  },
  {
   "cell_type": "code",
   "execution_count": 53,
   "id": "40f50f6c",
   "metadata": {},
   "outputs": [
    {
     "name": "stdout",
     "output_type": "stream",
     "text": [
      "True\n"
     ]
    }
   ],
   "source": [
    "def fun_(num) :\n",
    "    if num == 0 :\n",
    "        print(\"False\")\n",
    "    elif num == 1 :\n",
    "        print(\"True\")\n",
    "    elif num % 2 == 0 :\n",
    "        fun_(num / 2)\n",
    "fun_(256)"
   ]
  },
  {
   "cell_type": "markdown",
   "id": "3e2f061f",
   "metadata": {},
   "source": [
    "11 - Considere la siguiente lista: lst = [1.25, 3.22, 4.68, 10.95, 32.55, 12.54]. Los números en la lista representan radios de circulos. Escriba un programa donde se obtenga una lista de las areas de esos circulos."
   ]
  },
  {
   "cell_type": "markdown",
   "id": "44b90292",
   "metadata": {},
   "source": [
    "- Area del circulo: A ---------------> A = (pi) * r**2"
   ]
  },
  {
   "cell_type": "code",
   "execution_count": 65,
   "id": "fc8d0d68",
   "metadata": {},
   "outputs": [
    {
     "name": "stdout",
     "output_type": "stream",
     "text": [
      "['4.91', '32.57', '68.81', '376.68', '3328.53', '494.02']\n"
     ]
    }
   ],
   "source": [
    "import math \n",
    "\n",
    "def areas_circulos(lst): \n",
    "    areas = []\n",
    "    for i in lst:\n",
    "        area = math.pi * (i ** 2)\n",
    "        areas.append(area)\n",
    "    return areas\n",
    "\n",
    "lst = [1.25, 3.22, 4.68, 10.95, 32.55, 12.54]\n",
    "\n",
    "print([\"{:.2f}\".format(area) for area in areas_circulos(lst)])"
   ]
  },
  {
   "cell_type": "markdown",
   "id": "32444ae6",
   "metadata": {},
   "source": [
    "12 - Considere la siguiente lista: lista = ['Thor', 'Iron Man', 'Cap America', 'Hulk', 'Hawkeye']. Escribe un programa para obtener una lista en la que todos los nombres se conviertan a mayúsculas."
   ]
  },
  {
   "cell_type": "code",
   "execution_count": 66,
   "id": "4bd49275",
   "metadata": {},
   "outputs": [
    {
     "name": "stdout",
     "output_type": "stream",
     "text": [
      "['THOR', 'IRON MAN', 'CAP AMERICA', 'HULK', 'HAWKEYE']\n"
     ]
    }
   ],
   "source": [
    "def convertir_a_mayusculas(lista):\n",
    "    return [nombre.upper() for nombre in lista]\n",
    "\n",
    "lista = ['Thor', 'Iron Man', 'Cap America', 'Hulk', 'Hawkeye']\n",
    "\n",
    "lista_mayusculas = convertir_a_mayusculas(lista)\n",
    "\n",
    "print(lista_mayusculas)"
   ]
  },
  {
   "cell_type": "markdown",
   "id": "e68715cf",
   "metadata": {},
   "source": [
    "13 - Considere la siguiente lista: lista_1 = ['Yo hago Yoga Hoy', 'Acaso hubo búhos acá', 'Ana, la tacaña catalana.', 'Julio está dando caña'] . Escribe un programa que imprima las cadenas que son palíndromos."
   ]
  },
  {
   "cell_type": "code",
   "execution_count": 70,
   "id": "7859f9dd",
   "metadata": {},
   "outputs": [],
   "source": [
    "def es_palindromo(cadena):\n",
    "    cadena_sin_espacios = cadena.replace(\" \", \"\")\n",
    "    return cadena_sin_espacios == cadena_sin_espacios[::-1]\n",
    "\n",
    "def imprimir_palindromos(lista):\n",
    "    for cadena in lista:\n",
    "        if es_palindromo(cadena):\n",
    "            print(cadena)\n",
    "\n",
    "lista_1 = ['Yo hago Yoga Hoy', 'Acaso hubo búhos acá', 'Ana, la tacaña catalana.', 'Julio está dando caña']\n",
    "\n",
    "imprimir_palindromos(lista_1)"
   ]
  },
  {
   "cell_type": "code",
   "execution_count": 71,
   "id": "5ca5d07a",
   "metadata": {},
   "outputs": [],
   "source": [
    "imprimir_palindromos(lista_1)"
   ]
  },
  {
   "cell_type": "markdown",
   "id": "84f77ceb",
   "metadata": {},
   "source": [
    "14 - Supongamos que un diccionario contiene los nombres de los alumnos y las notas que han obtenido en un examen (Rango de notas de 0 - 100). Escribe un programa para obtener una lista de los alumnos que han obtenido más de 40 puntos en el examen."
   ]
  },
  {
   "cell_type": "code",
   "execution_count": 72,
   "id": "83a20444",
   "metadata": {},
   "outputs": [
    {
     "name": "stdout",
     "output_type": "stream",
     "text": [
      "Alumnos aprobados:\n",
      "Juan\n",
      "Pedro\n",
      "Ana\n",
      "Sofía\n"
     ]
    }
   ],
   "source": [
    "def obtener_alumnos_aprobados(notas):\n",
    "    aprobados = []\n",
    "    for alumno, nota in notas.items():\n",
    "        if nota > 40:\n",
    "            aprobados.append(alumno)\n",
    "    return aprobados\n",
    "\n",
    "notas = {\n",
    "    \"Juan\": 80,\n",
    "    \"María\": 30,\n",
    "    \"Pedro\": 50,\n",
    "    \"Ana\": 90,\n",
    "    \"Luis\": 20,\n",
    "    \"Sofía\": 60\n",
    "}\n",
    "\n",
    "aprobados = obtener_alumnos_aprobados(notas)\n",
    "print(\"Alumnos aprobados:\")\n",
    "for alumno in aprobados:\n",
    "    print(alumno)"
   ]
  },
  {
   "cell_type": "markdown",
   "id": "cc191c04",
   "metadata": {},
   "source": [
    "15 - Considere las siguientes listas:"
   ]
  },
  {
   "cell_type": "code",
   "execution_count": 73,
   "id": "f2164659",
   "metadata": {},
   "outputs": [],
   "source": [
    "nums = [10, 20, 30, 40, 50, 60, 70, 80]\n",
    "strs = ['A', 'B', 'C', 'D', 'E', 'F', 'G', 'H']"
   ]
  },
  {
   "cell_type": "markdown",
   "id": "0ec7ca4d",
   "metadata": {},
   "source": [
    "Escribe un programa para obtener una lista de tuplas, donde cada tupla contenga un número de una lista y una cadena de otra, en el mismo orden en que aparecen en las listas originales"
   ]
  },
  {
   "cell_type": "code",
   "execution_count": 74,
   "id": "a4e64fd8",
   "metadata": {},
   "outputs": [
    {
     "name": "stdout",
     "output_type": "stream",
     "text": [
      "[(10, 'A'), (20, 'B'), (30, 'C'), (40, 'D'), (50, 'E'), (60, 'F'), (70, 'G'), (80, 'H')]\n"
     ]
    }
   ],
   "source": [
    "def obtener_lista_tuplas(nums,strs):\n",
    "    return list(zip(nums, strs))\n",
    "\n",
    "lista_tuplas = obtener_lista_tuplas(nums, strs)\n",
    "print(lista_tuplas)"
   ]
  }
 ],
 "metadata": {
  "kernelspec": {
   "display_name": "Python 3 (ipykernel)",
   "language": "python",
   "name": "python3"
  },
  "language_info": {
   "codemirror_mode": {
    "name": "ipython",
    "version": 3
   },
   "file_extension": ".py",
   "mimetype": "text/x-python",
   "name": "python",
   "nbconvert_exporter": "python",
   "pygments_lexer": "ipython3",
   "version": "3.11.9"
  }
 },
 "nbformat": 4,
 "nbformat_minor": 5
}
