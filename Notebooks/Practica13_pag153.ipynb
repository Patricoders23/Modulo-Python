{
 "cells": [
  {
   "cell_type": "markdown",
   "metadata": {},
   "source": [
    "## Pregunta 1:\n",
    "\n",
    "Escribir un programa que pregunte el nombre del usuario en la consola y después de que el usuario lo introduzca muestre por pantalla la cadena ¡Hola <nombre>!, donde <nombre> es el nombre que el usuario haya introducido."
   ]
  },
  {
   "cell_type": "code",
   "execution_count": 1,
   "metadata": {},
   "outputs": [
    {
     "name": "stdout",
     "output_type": "stream",
     "text": [
      "¡Hola Maria!\n"
     ]
    }
   ],
   "source": [
    "nombre = input ('Como te llamas? ')\n",
    "print(f\"¡Hola {nombre}!\")"
   ]
  },
  {
   "cell_type": "markdown",
   "metadata": {},
   "source": [
    "## Pregunta 2:\n",
    "\n",
    "Escribir un programa que muestre por pantalla el resultado de la siguiente operación aritmética: (((3+2) / (2.5)))**2.\n",
    "\n",
    "Uso las letras: (((a + b) / c)) ** 2"
   ]
  },
  {
   "cell_type": "code",
   "execution_count": 3,
   "metadata": {},
   "outputs": [],
   "source": [
    "a = float(input(\"Ingrese el primer número (a): \"))\n",
    "b = float(input(\"Ingrese el segundo número (b): \"))\n",
    "c = float(input(\"Ingrese el tercer número (c): \"))"
   ]
  },
  {
   "cell_type": "code",
   "execution_count": 4,
   "metadata": {},
   "outputs": [],
   "source": [
    "resultado = (((a + b) / c)) ** 2"
   ]
  },
  {
   "cell_type": "code",
   "execution_count": 5,
   "metadata": {},
   "outputs": [
    {
     "name": "stdout",
     "output_type": "stream",
     "text": [
      "El resultado de la operación es: 4.0\n"
     ]
    }
   ],
   "source": [
    "print(\"El resultado de la operación es:\", resultado)"
   ]
  },
  {
   "cell_type": "markdown",
   "metadata": {},
   "source": [
    "## Pregunta3:\n",
    "\n",
    "Escribe un programa que pregunte al usuario por el número de horas trabajadas y el coste por hora. Después debe mostrar por pantalla la paga que le corresponde."
   ]
  },
  {
   "cell_type": "code",
   "execution_count": 10,
   "metadata": {},
   "outputs": [
    {
     "name": "stdout",
     "output_type": "stream",
     "text": [
      "Tu paga por 40.0 horas trabajadas a un precio/hora de 10.0 €/hr, es de 400.00 €\n"
     ]
    }
   ],
   "source": [
    "horas_trabajadas = float(input(\"¿Cuántas horas has trabajado? \"))\n",
    "coste_por_hora = float(input(\"¿Cuál es tu coste por hora? \"))\n",
    "paga = horas_trabajadas * coste_por_hora\n",
    "print(f\"Tu paga por {horas_trabajadas} horas trabajadas a un precio/hora de {coste_por_hora} €/hr, es de {paga:.2f} €\")\n"
   ]
  },
  {
   "cell_type": "markdown",
   "metadata": {},
   "source": [
    "## Pregunta 4:\n",
    "\n",
    "Escribir un programa que pida al usuario dos números enteros y muestre por pantalla la n> entre m> da un cociente c> y un resto r>,   donde n> y m> son los números introducidos por el usuario, y c> y son el cociente y el resto de la división entera respectivamente."
   ]
  },
  {
   "cell_type": "code",
   "execution_count": 13,
   "metadata": {},
   "outputs": [
    {
     "name": "stdout",
     "output_type": "stream",
     "text": [
      "Dividir 11 entre 5, da un cociente de 2 y un resto de 1\n"
     ]
    }
   ],
   "source": [
    "n = int(input ('Introduce un número entero: '))\n",
    "m = int(input ('Introduce otro número entero: '))\n",
    "\n",
    "cociente = n // m \n",
    "resto = n % m\n",
    "\n",
    "print (f'Dividir {n} entre {m}, da un cociente de {cociente} y un resto de {resto}')"
   ]
  },
  {
   "cell_type": "markdown",
   "metadata": {},
   "source": [
    "## Pregunta 5:\n",
    "\n",
    "Escribir un programa que pregunte al usuario una cantidad a invertir, el interés porcentual anual y el número de años, y muestre por pantalla el capital obtenido en la inversión redondeado con dos decimales."
   ]
  },
  {
   "cell_type": "code",
   "execution_count": 16,
   "metadata": {},
   "outputs": [
    {
     "name": "stdout",
     "output_type": "stream",
     "text": [
      "El capital obtenido de la cantidad 10000.0,\n",
      "que has invertido con el 20.0% de interés anual,\n",
      "y con 5 años de inversión, es de:\n",
      "24883.20 €\n"
     ]
    }
   ],
   "source": [
    "cantidad_invertida =  float(input('Introduce la cantidad a invertir: '))\n",
    "interes_anual = float(input('El interés anual puede ser del 20 o 24, escoge: '))\n",
    "numero_anios = int(input('Introduce el número de años: '))\n",
    "\n",
    "capital_final = cantidad_invertida * (1 + interes_anual / 100)**numero_anios\n",
    "print(f\"El capital obtenido de la cantidad {cantidad_invertida},\\n\"\n",
    "      f\"que has invertido con el {interes_anual}% de interés anual,\\n\"\n",
    "      f\"y con {numero_anios} años de inversión, es de:\\n\"\n",
    "      f\"{capital_final:.2f} €\")"
   ]
  },
  {
   "cell_type": "markdown",
   "metadata": {},
   "source": [
    "## Pregunta 6:\n",
    "\n",
    "Una juguetería tiene mucho éxito en dos de sus productos: payasos y muñecas. Suele hacer venta por correo y la empresa de logística les cobra por peso de cada paquete así que deben calcular el peso de los payasos y muñecas que saldrán en cada paquete a demanda. Cada payaso pesa 112 g y cada muñeca 75 g. Escribir un programa que lea el número de payasos y muñecas vendidos en el último pedido y calcule el peso total del paquete que será enviado"
   ]
  },
  {
   "cell_type": "code",
   "execution_count": 26,
   "metadata": {},
   "outputs": [
    {
     "name": "stdout",
     "output_type": "stream",
     "text": [
      "El peso total por: \n",
      "la cantidad de 5 payasos \n",
      "y por la cantidad de 2 muñecas\n",
      "es de: 710g\n"
     ]
    }
   ],
   "source": [
    "#Defino Constantes\n",
    "PESO_PAYASO = 112\n",
    "PESO_MUÑECA = 75\n",
    "\n",
    "#Envios \n",
    "payasos = int(input('Introduce el número de payasos a enviar: '))\n",
    "munecas = int(input('Introduce el número de muñecas a enviar: '))\n",
    "\n",
    "peso_total = (PESO_PAYASO*payasos) + (PESO_MUÑECA*munecas)\n",
    "\n",
    "print(f'El peso total por: \\n' \n",
    "      f'la cantidad de {payasos} payasos \\n'\n",
    "      f'y por la cantidad de {munecas} muñecas\\n' \n",
    "      f'es de: {peso_total}g')"
   ]
  },
  {
   "cell_type": "markdown",
   "metadata": {},
   "source": [
    "## Ejercicio 7:\n",
    "\n",
    "Una panadería vende barras de pan a 3.49€ cada una. El pan que no es el día tiene un descuento del 60%. Escribe un programa que comience leyendo el número de barras vendidas que no son del día. Después tu programa debe mostrar el precio habitual de una barra de pan, el descuento que se le hace por no ser fresca y el coste final total."
   ]
  },
  {
   "cell_type": "code",
   "execution_count": 29,
   "metadata": {},
   "outputs": [
    {
     "name": "stdout",
     "output_type": "stream",
     "text": [
      "El coste de una barra fresca es de: 3.49€\n",
      "El descuento sobre una barra que NO es del día es del: 0.6%\n",
      "El precio final de un total de 10 barras con descuento, es de: 13.96€\n"
     ]
    }
   ],
   "source": [
    "barras = int(input('Ingrese el número de barras vendidas que NO son del día: '))\n",
    "PRECIO= 3.49\n",
    "DESCUENTO = 0.6\n",
    "coste = barras * PRECIO * (1-DESCUENTO)\n",
    "\n",
    "print(f'El coste de una barra fresca es de: {PRECIO}€')\n",
    "print(f'El descuento sobre una barra que NO es del día es del: {DESCUENTO}%')\n",
    "print(f'El precio final de un total de {barras} barras con descuento, es de: {coste:.2f}€')"
   ]
  },
  {
   "cell_type": "markdown",
   "metadata": {},
   "source": [
    "## Pregunta 8: \n",
    "\n",
    "Suponga un valor adecuado para la temperatura de una ciudad en grados Fahrenheit. Escriba un programa para convertir esta temperatura en grados centígrados e imprima ambas temperaturas. C = (F-32)*(5/9)"
   ]
  },
  {
   "cell_type": "code",
   "execution_count": 34,
   "metadata": {},
   "outputs": [
    {
     "name": "stdout",
     "output_type": "stream",
     "text": [
      "La temperatura que ingreso es de: 76 grados Fahrenheit\n",
      "Corresponde a: 24.44 grados Centígrados\n"
     ]
    }
   ],
   "source": [
    "temperatura_f = int(input('Introduzca la temperatura en grados Fahrenheit de la ciudad: '))\n",
    "FRACCION = 5/9\n",
    "centigrados=(temperatura_f -32)*FRACCION\n",
    "\n",
    "print(f'La temperatura que ingreso es de: {temperatura_f} grados Fahrenheit\\n'\n",
    "      f'Corresponde a: {centigrados:.2f} grados Centígrados')"
   ]
  },
  {
   "cell_type": "markdown",
   "metadata": {},
   "source": [
    "## Pregunta 9: \n",
    "\n",
    "Suponga un valor adecuado para la temperatura de una ciudad en grados centígrados. Escriba un programa para convertir esta temperatura en la escala Kelvin e imprima ambas temperaturas. K = C + 273.15"
   ]
  },
  {
   "cell_type": "code",
   "execution_count": 35,
   "metadata": {},
   "outputs": [
    {
     "name": "stdout",
     "output_type": "stream",
     "text": [
      "La temperatura que ingreso es de: 26 grados Centígrados\n",
      "Corresponde a: 299.15 grados Kelvin\n"
     ]
    }
   ],
   "source": [
    "temperatura_c = int(input('Introduzca la temperatura en grados Centígrados de la ciudad: '))\n",
    "CTE= 273.15\n",
    "kelvin = temperatura_c + CTE\n",
    "\n",
    "print(f'La temperatura que ingreso es de: {temperatura_c} grados Centígrados\\n'\n",
    "      f'Corresponde a: {kelvin:.2f} grados Kelvin')"
   ]
  },
  {
   "cell_type": "markdown",
   "metadata": {},
   "source": [
    "## Pregunta 10:\n",
    "\n",
    "Imprima la parte imaginaria del complejo z = 2 + 3j."
   ]
  },
  {
   "cell_type": "code",
   "execution_count": 42,
   "metadata": {},
   "outputs": [
    {
     "name": "stdout",
     "output_type": "stream",
     "text": [
      "La parte imaginaria de z= (2+3j) es: 3.0\n"
     ]
    }
   ],
   "source": [
    "z = 2 + 3j\n",
    "\n",
    "print(f'La parte imaginaria de z= {z} es: {z.imag}')"
   ]
  },
  {
   "cell_type": "markdown",
   "metadata": {},
   "source": [
    "## Pregunta 11\n",
    "\n",
    "Obtenga la parte real de z = 4 + 2j."
   ]
  },
  {
   "cell_type": "code",
   "execution_count": 43,
   "metadata": {},
   "outputs": [
    {
     "name": "stdout",
     "output_type": "stream",
     "text": [
      "La parte real de z= (4+2j) es: 4.0\n"
     ]
    }
   ],
   "source": [
    "z = 4 + 2j\n",
    "\n",
    "print(f'La parte real de z= {z} es: {z.real}')"
   ]
  },
  {
   "cell_type": "markdown",
   "metadata": {},
   "source": [
    "## Pregunta 12\n",
    "\n",
    "Obtenga el conjugado de z = 4 + 2j."
   ]
  },
  {
   "cell_type": "code",
   "execution_count": 45,
   "metadata": {},
   "outputs": [
    {
     "name": "stdout",
     "output_type": "stream",
     "text": [
      "El conjugado de z = (4+2j) es: (4-2j)\n"
     ]
    }
   ],
   "source": [
    "z = 4 + 2j\n",
    "print(f\"El conjugado de z = {z} es: {z.conjugate()}\")"
   ]
  },
  {
   "cell_type": "markdown",
   "metadata": {},
   "source": [
    "## Pregunta 13\n",
    "\n",
    "Imprima el equivalente en nuestra base decimal del binario ‘1100001110’."
   ]
  },
  {
   "cell_type": "code",
   "execution_count": 49,
   "metadata": {},
   "outputs": [
    {
     "name": "stdout",
     "output_type": "stream",
     "text": [
      "El equivalente decimal de este '1100001110' numero binario,  es: 782\n"
     ]
    }
   ],
   "source": [
    "binario = '1100001110'\n",
    "decimal = int(binario, 2)\n",
    "\n",
    "print(f\"El equivalente decimal de este '{binario}' numero binario,  es: {decimal}\")"
   ]
  },
  {
   "cell_type": "markdown",
   "metadata": {},
   "source": [
    "## Pregunta 14\n",
    "\n",
    "Convierta el valor flotante 4.33 a un string (cadena)."
   ]
  },
  {
   "cell_type": "code",
   "execution_count": 50,
   "metadata": {},
   "outputs": [
    {
     "name": "stdout",
     "output_type": "stream",
     "text": [
      "El valor flotante 4.33 convertido a string es: '4.33'\n"
     ]
    }
   ],
   "source": [
    "flotante = 4.33\n",
    "cadena = str(flotante)\n",
    "\n",
    "print(f\"El valor flotante {flotante} convertido a string es: '{cadena}'\")"
   ]
  },
  {
   "cell_type": "markdown",
   "metadata": {},
   "source": [
    "## Pregunta 15\n",
    "\n",
    "Obtenga el cociente entero y el resto de la división entre 29 y 5."
   ]
  },
  {
   "cell_type": "code",
   "execution_count": 51,
   "metadata": {},
   "outputs": [
    {
     "name": "stdout",
     "output_type": "stream",
     "text": [
      "El cociente entero de la división entre 29 y 5 es: 5\n",
      "El resto de la división entre 29 y 5 es: 4\n"
     ]
    }
   ],
   "source": [
    "dividendo = 29\n",
    "divisor = 5\n",
    "cociente = dividendo // divisor \n",
    "resto = dividendo % divisor\n",
    "\n",
    "print(f\"El cociente entero de la división entre {dividendo} y {divisor} es: {cociente}\")\n",
    "print(f\"El resto de la división entre {dividendo} y {divisor} es: {resto}\")"
   ]
  },
  {
   "cell_type": "markdown",
   "metadata": {},
   "source": [
    "## Pregunta 16\n",
    "\n",
    "Obtenga el equivalente hexadecimal de 34567."
   ]
  },
  {
   "cell_type": "code",
   "execution_count": 52,
   "metadata": {},
   "outputs": [
    {
     "name": "stdout",
     "output_type": "stream",
     "text": [
      "El equivalente hexadecimal de 34567 es: 0x8707\n"
     ]
    }
   ],
   "source": [
    "decimal = 34567\n",
    "hexadecimal = hex(decimal)\n",
    "\n",
    "print(f\"El equivalente hexadecimal de {decimal} es: {hexadecimal}\")"
   ]
  },
  {
   "cell_type": "markdown",
   "metadata": {},
   "source": [
    "## Pregunta 17\n",
    "\n",
    "Aproxime hasta dos decimales el número 45.67859245."
   ]
  },
  {
   "cell_type": "code",
   "execution_count": 53,
   "metadata": {},
   "outputs": [
    {
     "name": "stdout",
     "output_type": "stream",
     "text": [
      "El numero 45.67859245 aproximado con 2 decimales es de: 45.68\n"
     ]
    }
   ],
   "source": [
    "numero = 45.67859245\n",
    "\n",
    "print(f'El numero {numero} aproximado con 2 decimales es de: {numero:.2f}')"
   ]
  },
  {
   "cell_type": "markdown",
   "metadata": {},
   "source": [
    "## Pregunta 18\n",
    "\n",
    "Obtenga 4 a partir de 3.556."
   ]
  },
  {
   "cell_type": "code",
   "execution_count": 54,
   "metadata": {},
   "outputs": [
    {
     "name": "stdout",
     "output_type": "stream",
     "text": [
      "El número 3.556 truncado es: 3\n"
     ]
    }
   ],
   "source": [
    "numero_float = 3.556\n",
    "resultado = int(numero_float)\n",
    "\n",
    "print(f\"El número {numero_float} truncado es: {resultado}\")"
   ]
  },
  {
   "cell_type": "markdown",
   "metadata": {},
   "source": [
    "## Pregunta 19\n",
    "\n",
    "Obtenga 17 a partir de 16.7844."
   ]
  },
  {
   "cell_type": "code",
   "execution_count": 55,
   "metadata": {},
   "outputs": [
    {
     "name": "stdout",
     "output_type": "stream",
     "text": [
      "El número 16.7844 redondeado es: 17\n"
     ]
    }
   ],
   "source": [
    "numero = 16.7844\n",
    "resultado = round(numero)\n",
    "print(f\"El número {numero} redondeado es: {resultado}\")"
   ]
  },
  {
   "cell_type": "markdown",
   "metadata": {},
   "source": [
    "## Pregunta 20\n",
    "\n",
    "Calcule el resto de la división con 3.45 y 1.2."
   ]
  },
  {
   "cell_type": "code",
   "execution_count": 58,
   "metadata": {},
   "outputs": [
    {
     "name": "stdout",
     "output_type": "stream",
     "text": [
      "El resto de la división entre 3.45 y 1.2 es: 1.0500\n"
     ]
    }
   ],
   "source": [
    "dividendo = 3.45\n",
    "divisor = 1.2\n",
    "resto = dividendo % divisor\n",
    "print(f\"El resto de la división entre {dividendo} y {divisor} es: {resto:.4f}\")"
   ]
  },
  {
   "cell_type": "markdown",
   "metadata": {},
   "source": [
    "## Pregunta 21:\n",
    "\n",
    "Calcule 3.45 **1.22"
   ]
  },
  {
   "cell_type": "code",
   "execution_count": 59,
   "metadata": {},
   "outputs": [
    {
     "name": "stdout",
     "output_type": "stream",
     "text": [
      "El resultado de 3.45**1.22 es 4.530428659651715\n"
     ]
    }
   ],
   "source": [
    "a = 3.45 \n",
    "b=1.22\n",
    "c=a**b\n",
    "\n",
    "print(f'El resultado de {a}**{b} es {c}')"
   ]
  },
  {
   "cell_type": "markdown",
   "metadata": {},
   "source": [
    "## Pregunta 22: \n",
    "\n",
    "¿Cuál de los siguientes es un nombre de variable no válido y por qué"
   ]
  },
  {
   "cell_type": "markdown",
   "metadata": {},
   "source": [
    "----> 422 = 2 No es valido porque no se puede asiganar variables con números \n",
    "\n",
    "----> pop in 2020 y Plot # 3, No es valido porque tiene espacios \n",
    "\n",
    "----> #MEAN, no asigana valor, es un comentario\n",
    "\n",
    "----> queue. =2, al igual que group. ---> No acepta punto\n",
    "\n",
    "----> basic-hra= 3, No acepta linea \n",
    "\n",
    "----> team´svictory=3, No acepta '"
   ]
  },
  {
   "cell_type": "code",
   "execution_count": 60,
   "metadata": {},
   "outputs": [
    {
     "ename": "SyntaxError",
     "evalue": "cannot assign to literal here. Maybe you meant '==' instead of '='? (965116426.py, line 1)",
     "output_type": "error",
     "traceback": [
      "\u001b[1;36m  Cell \u001b[1;32mIn[60], line 1\u001b[1;36m\u001b[0m\n\u001b[1;33m    422 = 2\u001b[0m\n\u001b[1;37m    ^\u001b[0m\n\u001b[1;31mSyntaxError\u001b[0m\u001b[1;31m:\u001b[0m cannot assign to literal here. Maybe you meant '==' instead of '='?\n"
     ]
    }
   ],
   "source": [
    "422 = 2"
   ]
  },
  {
   "cell_type": "code",
   "execution_count": 61,
   "metadata": {},
   "outputs": [
    {
     "ename": "SyntaxError",
     "evalue": "cannot assign to comparison (3116272129.py, line 1)",
     "output_type": "error",
     "traceback": [
      "\u001b[1;36m  Cell \u001b[1;32mIn[61], line 1\u001b[1;36m\u001b[0m\n\u001b[1;33m    pop in 2020 = 2\u001b[0m\n\u001b[1;37m    ^\u001b[0m\n\u001b[1;31mSyntaxError\u001b[0m\u001b[1;31m:\u001b[0m cannot assign to comparison\n"
     ]
    }
   ],
   "source": [
    "pop in 2020 = 2"
   ]
  },
  {
   "cell_type": "code",
   "execution_count": 62,
   "metadata": {},
   "outputs": [
    {
     "ename": "SyntaxError",
     "evalue": "invalid syntax (1606108070.py, line 1)",
     "output_type": "error",
     "traceback": [
      "\u001b[1;36m  Cell \u001b[1;32mIn[62], line 1\u001b[1;36m\u001b[0m\n\u001b[1;33m    queue. =2\u001b[0m\n\u001b[1;37m           ^\u001b[0m\n\u001b[1;31mSyntaxError\u001b[0m\u001b[1;31m:\u001b[0m invalid syntax\n"
     ]
    }
   ],
   "source": [
    "queue. =2"
   ]
  },
  {
   "cell_type": "code",
   "execution_count": 64,
   "metadata": {},
   "outputs": [
    {
     "ename": "SyntaxError",
     "evalue": "cannot assign to expression here. Maybe you meant '==' instead of '='? (2267481780.py, line 1)",
     "output_type": "error",
     "traceback": [
      "\u001b[1;36m  Cell \u001b[1;32mIn[64], line 1\u001b[1;36m\u001b[0m\n\u001b[1;33m    basic-hra= 3\u001b[0m\n\u001b[1;37m    ^\u001b[0m\n\u001b[1;31mSyntaxError\u001b[0m\u001b[1;31m:\u001b[0m cannot assign to expression here. Maybe you meant '==' instead of '='?\n"
     ]
    }
   ],
   "source": [
    "basic-hra= 3"
   ]
  },
  {
   "cell_type": "code",
   "execution_count": 65,
   "metadata": {},
   "outputs": [
    {
     "ename": "SyntaxError",
     "evalue": "invalid character '´' (U+00B4) (814107057.py, line 1)",
     "output_type": "error",
     "traceback": [
      "\u001b[1;36m  Cell \u001b[1;32mIn[65], line 1\u001b[1;36m\u001b[0m\n\u001b[1;33m    team´svictory=3\u001b[0m\n\u001b[1;37m        ^\u001b[0m\n\u001b[1;31mSyntaxError\u001b[0m\u001b[1;31m:\u001b[0m invalid character '´' (U+00B4)\n"
     ]
    }
   ],
   "source": [
    "team´svictory=3"
   ]
  },
  {
   "cell_type": "markdown",
   "metadata": {},
   "source": [
    "## Pregunta 23: \n",
    "\n",
    "Calcule (en Jupyter ) las siguientes operaciones\n"
   ]
  },
  {
   "cell_type": "code",
   "execution_count": 67,
   "metadata": {},
   "outputs": [
    {
     "name": "stdout",
     "output_type": "stream",
     "text": [
      "División por cero no es posible, el valor del divisor es 0\n"
     ]
    }
   ],
   "source": [
    "a=2**6\n",
    "b=8%2\n",
    "\n",
    "if b != 0:\n",
    "    preg_one = a//b\n",
    "    print(f'El valor de la divisón entera, es decir el cociente sin la parte decimal es de: {preg_one}')\n",
    "else:\n",
    "    print(f'División por cero no es posible, el valor del divisor es {b}')"
   ]
  },
  {
   "cell_type": "code",
   "execution_count": 69,
   "metadata": {},
   "outputs": [
    {
     "name": "stdout",
     "output_type": "stream",
     "text": [
      "El valor de la divisón entera --> // <--, es decir el cociente sin la parte decimal es de: 40\n"
     ]
    }
   ],
   "source": [
    "c=9**2\n",
    "d=5-3\n",
    "\n",
    "if d != 0:\n",
    "    preg_two = c//d\n",
    "    print(f'El valor de la divisón entera --> // <--, es decir el cociente sin la parte decimal es de: {preg_two}')\n",
    "else:\n",
    "    print(f'División por cero no es posible, el valor del divisor es {d}')\n"
   ]
  },
  {
   "cell_type": "code",
   "execution_count": 70,
   "metadata": {},
   "outputs": [
    {
     "name": "stdout",
     "output_type": "stream",
     "text": [
      "El resultado de la operación 10+6-2%3+7-2, es: 19\n"
     ]
    }
   ],
   "source": [
    "e = '10+6-2%3+7-2'\n",
    "f = 10+6-2%3+7-2\n",
    "\n",
    "print(f'El resultado de la operación {e}, es: {f}')"
   ]
  },
  {
   "cell_type": "code",
   "execution_count": 73,
   "metadata": {},
   "outputs": [
    {
     "name": "stdout",
     "output_type": "stream",
     "text": [
      "El resultado de la operación 5%10+10-23*4//3, es: -15\n"
     ]
    }
   ],
   "source": [
    "g = 5%10+10-23*4//3\n",
    "h=  '5%10+10-23*4//3'\n",
    "print(f'El resultado de la operación {h}, es: {g}')"
   ]
  },
  {
   "cell_type": "code",
   "execution_count": 75,
   "metadata": {},
   "outputs": [
    {
     "name": "stdout",
     "output_type": "stream",
     "text": [
      "El resultado de la operación 5+5//5-5*5**5%5, es: 6\n"
     ]
    }
   ],
   "source": [
    "k = '5+5//5-5*5**5%5'\n",
    "l = 5+5//5-5*5**5%5\n",
    "print(f'El resultado de la operación {k}, es: {l}')"
   ]
  },
  {
   "cell_type": "code",
   "execution_count": 77,
   "metadata": {},
   "outputs": [
    {
     "name": "stdout",
     "output_type": "stream",
     "text": [
      "El resultado de la operación 7%7+7//7-7*7, es: -48\n"
     ]
    }
   ],
   "source": [
    "m = 7%7+7//7-7*7\n",
    "n = '7%7+7//7-7*7'\n",
    "print(f'El resultado de la operación {n}, es: {m}')"
   ]
  },
  {
   "cell_type": "markdown",
   "metadata": {},
   "source": [
    "## Pregunta 24:\n",
    "\n",
    "Evalúe las siguientes expresiones. "
   ]
  },
  {
   "cell_type": "code",
   "execution_count": 80,
   "metadata": {},
   "outputs": [
    {
     "data": {
      "text/plain": [
       "2"
      ]
     },
     "execution_count": 80,
     "metadata": {},
     "output_type": "execute_result"
    }
   ],
   "source": [
    "a = min(2,6,8,5)\n",
    "a\n",
    "\n",
    "#Evalua la lista y selecciona el valor minimo. "
   ]
  },
  {
   "cell_type": "code",
   "execution_count": 82,
   "metadata": {},
   "outputs": [
    {
     "data": {
      "text/plain": [
       "'0b101110'"
      ]
     },
     "execution_count": 82,
     "metadata": {},
     "output_type": "execute_result"
    }
   ],
   "source": [
    "b = bin(46)\n",
    "b\n",
    "\n",
    "#la función bin() se utiliza para convertir un número entero en su representación binaria. \n",
    "#La salida es una cadena de texto que representa el número binario, precedida por el prefijo '0b', que indica que la cadena es un número binario."
   ]
  },
  {
   "cell_type": "code",
   "execution_count": 84,
   "metadata": {},
   "outputs": [
    {
     "data": {
      "text/plain": [
       "10.54"
      ]
     },
     "execution_count": 84,
     "metadata": {},
     "output_type": "execute_result"
    }
   ],
   "source": [
    "c=round(10.544336,2)\n",
    "c\n",
    "\n",
    "#Redondea el número 10.544336 a 2 dígitos después del punto decimal"
   ]
  },
  {
   "cell_type": "markdown",
   "metadata": {},
   "source": [
    "## Pregunta 25: \n",
    "Escriba un programa que intercambie los valores enteros de las variables a y b. No está permitido utilizar una tercera variable. No se le permite realizar operaciones aritméticas en a y b"
   ]
  },
  {
   "cell_type": "code",
   "execution_count": 85,
   "metadata": {},
   "outputs": [
    {
     "name": "stdout",
     "output_type": "stream",
     "text": [
      "Antes del intercambio: a = 5, b = 10\n",
      "Después del intercambio: a = 10, b = 5\n"
     ]
    }
   ],
   "source": [
    "a = 5\n",
    "b = 10\n",
    "\n",
    "print(f\"Antes del intercambio: a = {a}, b = {b}\")\n",
    "\n",
    "a, b = b, a\n",
    "\n",
    "print(f\"Después del intercambio: a = {a}, b = {b}\")\n"
   ]
  }
 ],
 "metadata": {
  "kernelspec": {
   "display_name": "Curso_Python",
   "language": "python",
   "name": "python3"
  },
  "language_info": {
   "codemirror_mode": {
    "name": "ipython",
    "version": 3
   },
   "file_extension": ".py",
   "mimetype": "text/x-python",
   "name": "python",
   "nbconvert_exporter": "python",
   "pygments_lexer": "ipython3",
   "version": "3.11.9"
  }
 },
 "nbformat": 4,
 "nbformat_minor": 2
}
