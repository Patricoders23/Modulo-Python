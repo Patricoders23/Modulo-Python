{
 "cells": [
  {
   "cell_type": "markdown",
   "metadata": {},
   "source": [
    "# FUNCIONES"
   ]
  },
  {
   "cell_type": "markdown",
   "metadata": {},
   "source": [
    "## Hay dos tipos de funciones de Python:\n",
    "\n",
    "(a) Funciones integradas - Ej. len( ), sorted( ), min( ), max( ), entre otros.\n",
    "\n",
    "(b) Funciones definidas por el usuario."
   ]
  },
  {
   "cell_type": "code",
   "execution_count": 3,
   "metadata": {},
   "outputs": [],
   "source": [
    "def func():\n",
    "    print('Mi primera función')\n",
    "    print('Mi segundo print de mi función')"
   ]
  },
  {
   "cell_type": "code",
   "execution_count": 4,
   "metadata": {},
   "outputs": [
    {
     "name": "stdout",
     "output_type": "stream",
     "text": [
      "Mi primera función\n",
      "Mi segundo print de mi función\n"
     ]
    }
   ],
   "source": [
    "func() #PRimera llamada "
   ]
  },
  {
   "cell_type": "code",
   "execution_count": 5,
   "metadata": {},
   "outputs": [
    {
     "name": "stdout",
     "output_type": "stream",
     "text": [
      "Mi primera función\n",
      "Mi segundo print de mi función\n"
     ]
    }
   ],
   "source": [
    "func() #Segunda llamada"
   ]
  },
  {
   "cell_type": "code",
   "execution_count": 14,
   "metadata": {},
   "outputs": [],
   "source": [
    "def func1():\n",
    "    print('Entre a la función 1')\n",
    "    def func2(): #Función anidada\n",
    "        print('Entre a la segunda función')\n",
    "    print('Sigo dentro de la función')\n",
    "    func2() #IMPRIME LA FUNC2 PORQUE LA LLAMO"
   ]
  },
  {
   "cell_type": "code",
   "execution_count": 15,
   "metadata": {},
   "outputs": [
    {
     "name": "stdout",
     "output_type": "stream",
     "text": [
      "Entre a la función 1\n",
      "Sigo dentro de la función\n",
      "Entre a la segunda función\n"
     ]
    }
   ],
   "source": [
    "func1()"
   ]
  },
  {
   "cell_type": "code",
   "execution_count": 16,
   "metadata": {},
   "outputs": [],
   "source": [
    "def func1():\n",
    "    print('Entre a la función 1')\n",
    "    def func2(): #Función anidada\n",
    "        print('Entre a la segunda función')\n",
    "    print('Sigo dentro de la función')\n",
    "    #func2() #NO  IMPRIME LA FUNC2 PORQUE LA LLAMO"
   ]
  },
  {
   "cell_type": "code",
   "execution_count": 17,
   "metadata": {},
   "outputs": [
    {
     "name": "stdout",
     "output_type": "stream",
     "text": [
      "Entre a la función 1\n",
      "Sigo dentro de la función\n"
     ]
    }
   ],
   "source": [
    "func1()"
   ]
  },
  {
   "cell_type": "code",
   "execution_count": 18,
   "metadata": {},
   "outputs": [
    {
     "ename": "NameError",
     "evalue": "name 'func2' is not defined",
     "output_type": "error",
     "traceback": [
      "\u001b[1;31m---------------------------------------------------------------------------\u001b[0m",
      "\u001b[1;31mNameError\u001b[0m                                 Traceback (most recent call last)",
      "Cell \u001b[1;32mIn[18], line 1\u001b[0m\n\u001b[1;32m----> 1\u001b[0m \u001b[43mfunc2\u001b[49m() \u001b[38;5;66;03m#No se puede INVOCAR funciones interiores desde aquí \u001b[39;00m\n",
      "\u001b[1;31mNameError\u001b[0m: name 'func2' is not defined"
     ]
    }
   ],
   "source": [
    "func2() #No se puede INVOCAR funciones interiores desde aquí "
   ]
  },
  {
   "cell_type": "code",
   "execution_count": 20,
   "metadata": {},
   "outputs": [
    {
     "name": "stdout",
     "output_type": "stream",
     "text": [
      "<class 'function'>\n"
     ]
    }
   ],
   "source": [
    "print(type(func1))\n",
    "#print(type(func2))"
   ]
  },
  {
   "cell_type": "markdown",
   "metadata": {},
   "source": [
    "## Comunicación con funciones "
   ]
  },
  {
   "cell_type": "code",
   "execution_count": 21,
   "metadata": {},
   "outputs": [
    {
     "name": "stdout",
     "output_type": "stream",
     "text": [
      "60\n"
     ]
    }
   ],
   "source": [
    "def calcular_suma(x,y,z):\n",
    "    return x + y+ z\n",
    "s1 = calcular_suma(10,20,30)\n",
    "\n",
    "print(s1)"
   ]
  },
  {
   "cell_type": "code",
   "execution_count": 22,
   "metadata": {},
   "outputs": [
    {
     "data": {
      "text/plain": [
       "6"
      ]
     },
     "execution_count": 22,
     "metadata": {},
     "output_type": "execute_result"
    }
   ],
   "source": [
    "def calcular_suma(x,y,z):\n",
    "    return x + y+ z\n",
    "a,b,c = 1,2,3\n",
    "s2 = calcular_suma(a, b, c)\n",
    "s2"
   ]
  },
  {
   "cell_type": "code",
   "execution_count": 23,
   "metadata": {},
   "outputs": [
    {
     "name": "stdout",
     "output_type": "stream",
     "text": [
      "None\n"
     ]
    },
    {
     "ename": "NameError",
     "evalue": "name 'w' is not defined",
     "output_type": "error",
     "traceback": [
      "\u001b[1;31m---------------------------------------------------------------------------\u001b[0m",
      "\u001b[1;31mNameError\u001b[0m                                 Traceback (most recent call last)",
      "Cell \u001b[1;32mIn[23], line 6\u001b[0m\n\u001b[0;32m      4\u001b[0m s2\u001b[38;5;241m=\u001b[39mcalcular_suma(a,b,c)\n\u001b[0;32m      5\u001b[0m \u001b[38;5;28mprint\u001b[39m(s2)\n\u001b[1;32m----> 6\u001b[0m \u001b[38;5;28mprint\u001b[39m(\u001b[43mw\u001b[49m)\n",
      "\u001b[1;31mNameError\u001b[0m: name 'w' is not defined"
     ]
    }
   ],
   "source": [
    "def calcular_suma(x,y,z):\n",
    "    w=x+y+z\n",
    "a,b,c = 1,2,3\n",
    "s2=calcular_suma(a,b,c)\n",
    "print(s2)\n",
    "print(w)"
   ]
  },
  {
   "cell_type": "code",
   "execution_count": 26,
   "metadata": {},
   "outputs": [
    {
     "name": "stdout",
     "output_type": "stream",
     "text": [
      "None\n"
     ]
    }
   ],
   "source": [
    "def calcular_suma(x,y,z):\n",
    "    w=x+y+z\n",
    "    return #No devuelve nada porque no le especifico \n",
    "s3=calcular_suma(10,20,30)\n",
    "print(s3)\n",
    "#print(w)"
   ]
  },
  {
   "cell_type": "code",
   "execution_count": 27,
   "metadata": {},
   "outputs": [
    {
     "name": "stdout",
     "output_type": "stream",
     "text": [
      "60\n"
     ]
    }
   ],
   "source": [
    "def calcular_suma(x,y,z):\n",
    "    w=x+y+z\n",
    "    return w #Devuelve porque llamé a la variable\n",
    "s3=calcular_suma(10,20,30)\n",
    "print(s3)"
   ]
  },
  {
   "cell_type": "markdown",
   "metadata": {},
   "source": [
    "## Para devolver múltiples valores de una función, podemos ponerlos en una lista/tupla/diccionario y luego devolverlo.\n"
   ]
  },
  {
   "cell_type": "markdown",
   "metadata": {},
   "source": [
    "## CON LISTAS "
   ]
  },
  {
   "cell_type": "code",
   "execution_count": 29,
   "metadata": {},
   "outputs": [
    {
     "name": "stdout",
     "output_type": "stream",
     "text": [
      "[1, 2, 3, 4, 5, 6, 7, 8, 9, 10]\n"
     ]
    }
   ],
   "source": [
    "def diez_numeros():\n",
    "    numeros=[]\n",
    "    for i in range (1,11):\n",
    "        numeros.append(i)\n",
    "    return numeros\n",
    "\n",
    "print(diez_numeros())"
   ]
  },
  {
   "cell_type": "code",
   "execution_count": 30,
   "metadata": {},
   "outputs": [
    {
     "name": "stdout",
     "output_type": "stream",
     "text": [
      "[25, 30, 28, 40]\n"
     ]
    }
   ],
   "source": [
    "def millas_recorridas(sem_1, sem_2, sem_3, sem_4):\n",
    "    return[sem_1, sem_2, sem_3, sem_4]\n",
    "\n",
    "total_mensual = millas_recorridas(25,30,28,40)\n",
    "print(total_mensual)"
   ]
  },
  {
   "cell_type": "markdown",
   "metadata": {},
   "source": [
    "## CON TUPLAS "
   ]
  },
  {
   "cell_type": "code",
   "execution_count": 31,
   "metadata": {},
   "outputs": [
    {
     "name": "stdout",
     "output_type": "stream",
     "text": [
      "('Mary', 4)\n"
     ]
    }
   ],
   "source": [
    "def persona(nombre, edad):\n",
    "    return nombre, edad\n",
    "\n",
    "print(persona('Mary', 4))\n"
   ]
  },
  {
   "cell_type": "code",
   "execution_count": 32,
   "metadata": {},
   "outputs": [
    {
     "name": "stdout",
     "output_type": "stream",
     "text": [
      "('Mary', 4)\n"
     ]
    }
   ],
   "source": [
    "def persona(nombre, edad):\n",
    "    return (nombre, edad)\n",
    "\n",
    "print(persona('Mary', 4))"
   ]
  },
  {
   "cell_type": "markdown",
   "metadata": {},
   "source": [
    "## CON DICCIONARIOS"
   ]
  },
  {
   "cell_type": "code",
   "execution_count": 33,
   "metadata": {},
   "outputs": [
    {
     "name": "stdout",
     "output_type": "stream",
     "text": [
      "{'Boston': 'EEUU'}\n"
     ]
    }
   ],
   "source": [
    "def ciudad_pais(ciudad, pais):\n",
    "    ubicacion = { }\n",
    "    ubicacion[ciudad] = pais\n",
    "    return ubicacion\n",
    "\n",
    "ubicacion_favorita = ciudad_pais('Boston', 'EEUU')\n",
    "print(ubicacion_favorita)"
   ]
  },
  {
   "cell_type": "markdown",
   "metadata": {},
   "source": [
    "## Tipos de Argumentos\n",
    "\n",
    "(a) Argumentos posicionales\n",
    "\n",
    "(b) Argumentos por palabras clave (keyword)\n",
    "\n",
    "(c) Argumentos posicionales de longitud variable\n",
    "\n",
    "(d) Argumentos de palabras clave y longitud variable"
   ]
  },
  {
   "cell_type": "markdown",
   "metadata": {},
   "source": [
    "### (a) Argumentos posicionales"
   ]
  },
  {
   "cell_type": "code",
   "execution_count": 34,
   "metadata": {},
   "outputs": [
    {
     "name": "stdout",
     "output_type": "stream",
     "text": [
      "13.14\n",
      "RIGMAROLE\n"
     ]
    }
   ],
   "source": [
    "def func(i,j,k):\n",
    "    print(i+j)\n",
    "    print(k.upper())\n",
    "\n",
    "func(10, 3.14, 'Rigmarole')"
   ]
  },
  {
   "cell_type": "code",
   "execution_count": 35,
   "metadata": {},
   "outputs": [
    {
     "ename": "TypeError",
     "evalue": "can only concatenate str (not \"int\") to str",
     "output_type": "error",
     "traceback": [
      "\u001b[1;31m---------------------------------------------------------------------------\u001b[0m",
      "\u001b[1;31mTypeError\u001b[0m                                 Traceback (most recent call last)",
      "Cell \u001b[1;32mIn[35], line 5\u001b[0m\n\u001b[0;32m      2\u001b[0m     \u001b[38;5;28mprint\u001b[39m(i\u001b[38;5;241m+\u001b[39mj)\n\u001b[0;32m      3\u001b[0m     \u001b[38;5;28mprint\u001b[39m(k\u001b[38;5;241m.\u001b[39mupper())\n\u001b[1;32m----> 5\u001b[0m \u001b[43mfunc\u001b[49m\u001b[43m(\u001b[49m\u001b[38;5;124;43m'\u001b[39;49m\u001b[38;5;124;43mRigmarole\u001b[39;49m\u001b[38;5;124;43m'\u001b[39;49m\u001b[43m,\u001b[49m\u001b[43m \u001b[49m\u001b[38;5;241;43m10\u001b[39;49m\u001b[43m,\u001b[49m\u001b[43m \u001b[49m\u001b[38;5;241;43m3.14\u001b[39;49m\u001b[43m)\u001b[49m\n",
      "Cell \u001b[1;32mIn[35], line 2\u001b[0m, in \u001b[0;36mfunc\u001b[1;34m(i, j, k)\u001b[0m\n\u001b[0;32m      1\u001b[0m \u001b[38;5;28;01mdef\u001b[39;00m \u001b[38;5;21mfunc\u001b[39m(i,j,k):\n\u001b[1;32m----> 2\u001b[0m     \u001b[38;5;28mprint\u001b[39m(\u001b[43mi\u001b[49m\u001b[38;5;241;43m+\u001b[39;49m\u001b[43mj\u001b[49m)\n\u001b[0;32m      3\u001b[0m     \u001b[38;5;28mprint\u001b[39m(k\u001b[38;5;241m.\u001b[39mupper())\n",
      "\u001b[1;31mTypeError\u001b[0m: can only concatenate str (not \"int\") to str"
     ]
    }
   ],
   "source": [
    "def func(i,j,k):\n",
    "    print(i+j)\n",
    "    print(k.upper())\n",
    "\n",
    "func('Rigmarole', 10, 3.14) # ERROR porque no tiene el orden correcto. "
   ]
  },
  {
   "cell_type": "code",
   "execution_count": 37,
   "metadata": {},
   "outputs": [
    {
     "name": "stdout",
     "output_type": "stream",
     "text": [
      "13.14\n",
      "RIGMAROLE\n"
     ]
    }
   ],
   "source": [
    "def func(i,j,k):\n",
    "    print(k+j)\n",
    "    print(i.upper())\n",
    "\n",
    "func('Rigmarole', 10, 3.14)"
   ]
  },
  {
   "cell_type": "code",
   "execution_count": 38,
   "metadata": {},
   "outputs": [
    {
     "name": "stdout",
     "output_type": "stream",
     "text": [
      "10 3.14 Sicilian\n"
     ]
    }
   ],
   "source": [
    "#Los argumentos de palabras clave se pueden pasar fuera de orden. \n",
    "def imprimelo(i, a, str):\n",
    "    print(i,a,str)\n",
    "\n",
    "imprimelo(a=3.14, i=10, str='Sicilian')"
   ]
  },
  {
   "cell_type": "code",
   "execution_count": 41,
   "metadata": {},
   "outputs": [
    {
     "name": "stdout",
     "output_type": "stream",
     "text": [
      "3.14 10 Sicilian\n"
     ]
    }
   ],
   "source": [
    "def imprimelo(a, i, str):\n",
    "    print(a,i,str)\n",
    "\n",
    "imprimelo(str='Sicilian', a=3.14, i=10)"
   ]
  },
  {
   "cell_type": "code",
   "execution_count": 42,
   "metadata": {},
   "outputs": [
    {
     "ename": "SyntaxError",
     "evalue": "positional argument follows keyword argument (2534154401.py, line 4)",
     "output_type": "error",
     "traceback": [
      "\u001b[1;36m  Cell \u001b[1;32mIn[42], line 4\u001b[1;36m\u001b[0m\n\u001b[1;33m    imprimelo(str='Sicilian', a=3.14, 10)\u001b[0m\n\u001b[1;37m                                        ^\u001b[0m\n\u001b[1;31mSyntaxError\u001b[0m\u001b[1;31m:\u001b[0m positional argument follows keyword argument\n"
     ]
    }
   ],
   "source": [
    "def imprimelo(a, i, str):\n",
    "    print(a,i,str)\n",
    "\n",
    "imprimelo(str='Sicilian', a=3.14, 10) # ERROR posicional"
   ]
  },
  {
   "cell_type": "markdown",
   "metadata": {},
   "source": [
    "### A veces, el número de argumentos posicionales que se pasarán a una función no es seguro. \n",
    "\n",
    "En tales casos, los argumentos posicionales de longitud variable se pueden recibir usando *args."
   ]
  },
  {
   "cell_type": "code",
   "execution_count": 43,
   "metadata": {},
   "outputs": [
    {
     "name": "stdout",
     "output_type": "stream",
     "text": [
      "\n",
      "10 ---"
     ]
    }
   ],
   "source": [
    "def imprimelo(*args):\n",
    "    print()\n",
    "    for var in args:\n",
    "        print(var, end = ' ---')\n",
    "imprimelo(10) # 1 args"
   ]
  },
  {
   "cell_type": "code",
   "execution_count": 45,
   "metadata": {},
   "outputs": [
    {
     "name": "stdout",
     "output_type": "stream",
     "text": [
      "\n",
      "10<--- 3.14<--- "
     ]
    }
   ],
   "source": [
    "def imprimelo(*args):\n",
    "    print()\n",
    "    for var in args:\n",
    "        print(var, end = '<--- ')\n",
    "imprimelo(10, 3.14) # 2 args"
   ]
  },
  {
   "cell_type": "code",
   "execution_count": 46,
   "metadata": {},
   "outputs": [
    {
     "name": "stdout",
     "output_type": "stream",
     "text": [
      "\n",
      "10<--- 3.14<--- Sicilian<--- "
     ]
    }
   ],
   "source": [
    "def imprimelo(*args):\n",
    "    print()\n",
    "    for var in args:\n",
    "        print(var, end = '<--- ')\n",
    "imprimelo(10, 3.14, 'Sicilian') # 3 args"
   ]
  },
  {
   "cell_type": "code",
   "execution_count": 48,
   "metadata": {},
   "outputs": [
    {
     "name": "stdout",
     "output_type": "stream",
     "text": [
      "\n",
      "10<--- 3.14<--- Sicilian<--- Punekar<--- "
     ]
    }
   ],
   "source": [
    "def imprimelo(*args):\n",
    "    print()\n",
    "    for var in args:\n",
    "        print(var, end = '<--- ')\n",
    "imprimelo(10, 3.14, 'Sicilian', 'Punekar') # 4 args"
   ]
  },
  {
   "cell_type": "markdown",
   "metadata": {},
   "source": [
    "### A veces, el número de argumentos de palabras clave (keywords) que se pasarán a una función no es seguro. En tales casos, los argumentos longitud variable se pueden recibir usando **kwargs.\n",
    "\n"
   ]
  },
  {
   "cell_type": "code",
   "execution_count": 50,
   "metadata": {},
   "outputs": [
    {
     "name": "stdout",
     "output_type": "stream",
     "text": [
      "\n",
      "a 10<--- "
     ]
    }
   ],
   "source": [
    "def imprimelo(**kwargs):\n",
    "    print()\n",
    "    for name, value in kwargs.items():\n",
    "        print(name, value, end='<--- ')\n",
    "\n",
    "imprimelo (a=10)"
   ]
  },
  {
   "cell_type": "code",
   "execution_count": 51,
   "metadata": {},
   "outputs": [
    {
     "name": "stdout",
     "output_type": "stream",
     "text": [
      "\n",
      "a 10<--- b 3.14<--- "
     ]
    }
   ],
   "source": [
    "def imprimelo(**kwargs):\n",
    "    print()\n",
    "    for name, value in kwargs.items():\n",
    "        print(name, value, end='<--- ')\n",
    "\n",
    "imprimelo (a=10, b=3.14)"
   ]
  },
  {
   "cell_type": "code",
   "execution_count": 52,
   "metadata": {},
   "outputs": [
    {
     "name": "stdout",
     "output_type": "stream",
     "text": [
      "\n",
      "a 10<--- b 3.14<--- s Sicilian<--- "
     ]
    }
   ],
   "source": [
    "def imprimelo(**kwargs):\n",
    "    print()\n",
    "    for name, value in kwargs.items():\n",
    "        print(name, value, end='<--- ')\n",
    "\n",
    "imprimelo (a=10, b=3.14, s='Sicilian')"
   ]
  },
  {
   "cell_type": "code",
   "execution_count": 54,
   "metadata": {},
   "outputs": [
    {
     "name": "stdout",
     "output_type": "stream",
     "text": [
      "\n",
      "Estudiante Mary<--- Edad 23<--- "
     ]
    }
   ],
   "source": [
    "def imprimelo(**kwargs):\n",
    "    print()\n",
    "    for name, value in kwargs.items():\n",
    "        print(name, value, end='<--- ')\n",
    "diccionario = {'Estudiante': 'Mary', 'Edad': 23}\n",
    "\n",
    "imprimelo (**diccionario)"
   ]
  },
  {
   "cell_type": "markdown",
   "metadata": {},
   "source": [
    "#### El kwargs utilizado en la definición de imprimelo() es un diccionario que contiene:\n",
    "\n",
    " nombres de variables como claves,\n",
    " \n",
    " valores como valores, \n",
    " \n",
    " ** indica que contendrá todos los argumentos pasados a imprimelo()"
   ]
  },
  {
   "cell_type": "code",
   "execution_count": 56,
   "metadata": {},
   "outputs": [
    {
     "name": "stdout",
     "output_type": "stream",
     "text": [
      "\n",
      "10 20<--- 30 40<--- "
     ]
    }
   ],
   "source": [
    "def imprimelo (i, j, *args, x, y, **kwargs): \n",
    "    print()\n",
    "    print(i,j, end= '<--- ')\n",
    "    for var in args:\n",
    "        print(var, end= '<-- ')\n",
    "    print(x,y, end='<--- ')\n",
    "    for name, value in kwargs.items():\n",
    "        print(name, value, end='<-- ')\n",
    "\n",
    "imprimelo(10,20,x=30,y=40)"
   ]
  },
  {
   "cell_type": "code",
   "execution_count": 58,
   "metadata": {},
   "outputs": [
    {
     "name": "stdout",
     "output_type": "stream",
     "text": [
      "\n",
      "10 20<--- 100<-- 200<-- 300<-- 30 40<--- "
     ]
    }
   ],
   "source": [
    "def imprimelo (i, j, *args, x, y, **kwargs): \n",
    "    print()\n",
    "    print(i,j, end= '<--- ')\n",
    "    for var in args:\n",
    "        print(var, end= '<-- ')\n",
    "    print(x,y, end='<--- ')\n",
    "    for name, value in kwargs.items():\n",
    "        print(name, value, end='<-- ')\n",
    "\n",
    "#100, 200, 300 VAN A *args, nada para  **kwargs\n",
    "imprimelo(10, 20, 100, 200, 300, x=30,y=40)"
   ]
  },
  {
   "cell_type": "code",
   "execution_count": 61,
   "metadata": {},
   "outputs": [
    {
     "name": "stdout",
     "output_type": "stream",
     "text": [
      "\n",
      "10 20<--- 100<-- 200<-- 300<-- 30 40<--- a 10001<-- b 10002<-- "
     ]
    }
   ],
   "source": [
    "def imprimelo (i, j, *args, x, y, **kwargs): \n",
    "    print()\n",
    "    print(i,j, end= '<--- ')\n",
    "    for var in args:\n",
    "        print(var, end= '<-- ')\n",
    "    print(x,y, end='<--- ')\n",
    "    for name, value in kwargs.items():\n",
    "        print(name, value, end='<-- ')\n",
    "\n",
    "#100, 200, 300 VAN A *args, a=10001, b=10002 VAN a **kwargs\n",
    "imprimelo(10, 20, 100, 200, 300, x=30,y=40, a=10001, b=10002)"
   ]
  },
  {
   "cell_type": "markdown",
   "metadata": {},
   "source": [
    "### Al definir una función, se puede dar un valor predeterminado a los argumentos. Se usará el valor predeterminado si no pasamos el valor para ese argumento durante la llamada."
   ]
  },
  {
   "cell_type": "code",
   "execution_count": 63,
   "metadata": {},
   "outputs": [
    {
     "name": "stdout",
     "output_type": "stream",
     "text": [
      "113.14\n"
     ]
    }
   ],
   "source": [
    "def func (a, b=100, c=3.14): \n",
    "    return a+b+c\n",
    "\n",
    "w=func(10)\n",
    "\n",
    "print(w)"
   ]
  },
  {
   "cell_type": "code",
   "execution_count": 64,
   "metadata": {},
   "outputs": [
    {
     "name": "stdout",
     "output_type": "stream",
     "text": [
      "63.14\n"
     ]
    }
   ],
   "source": [
    "def func (a, b=100, c=3.14): \n",
    "    return a+b+c\n",
    "\n",
    "w=func(10, 50)  #a toma el valor de 10, y b toma el valor de 100\n",
    "\n",
    "print(w)"
   ]
  },
  {
   "cell_type": "code",
   "execution_count": 66,
   "metadata": {},
   "outputs": [
    {
     "name": "stdout",
     "output_type": "stream",
     "text": [
      "65\n"
     ]
    }
   ],
   "source": [
    "def func (a, b=100, c=3.14): \n",
    "    return a+b+c\n",
    "\n",
    "w=func(10, 50, 5)  #a toma el valor de 10, y b toma el valor de 100, c toma el valor de 5\n",
    "\n",
    "print(w)"
   ]
  },
  {
   "cell_type": "code",
   "execution_count": 68,
   "metadata": {},
   "outputs": [
    {
     "name": "stdout",
     "output_type": "stream",
     "text": [
      "9\n"
     ]
    }
   ],
   "source": [
    "def func (a, b=100, c=3.14): \n",
    "    return a+b+c\n",
    "\n",
    "w=func(1, c=3, b=5)  #a toma el valor de 1, y b toma el valor de 3, c toma el valor de 3.14\n",
    "\n",
    "print(w)"
   ]
  },
  {
   "cell_type": "markdown",
   "metadata": {},
   "source": []
  },
  {
   "cell_type": "code",
   "execution_count": null,
   "metadata": {},
   "outputs": [],
   "source": []
  }
 ],
 "metadata": {
  "kernelspec": {
   "display_name": "Curso_Python",
   "language": "python",
   "name": "python3"
  },
  "language_info": {
   "codemirror_mode": {
    "name": "ipython",
    "version": 3
   },
   "file_extension": ".py",
   "mimetype": "text/x-python",
   "name": "python",
   "nbconvert_exporter": "python",
   "pygments_lexer": "ipython3",
   "version": "3.11.9"
  }
 },
 "nbformat": 4,
 "nbformat_minor": 2
}
