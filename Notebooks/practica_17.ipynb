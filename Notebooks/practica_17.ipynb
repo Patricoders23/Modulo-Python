{
 "cells": [
  {
   "cell_type": "markdown",
   "metadata": {},
   "source": [
    "## 1. Escribe expresiones condicionales para: "
   ]
  },
  {
   "cell_type": "code",
   "execution_count": 45,
   "metadata": {},
   "outputs": [
    {
     "name": "stdout",
     "output_type": "stream",
     "text": [
      "El resultado es correcto 30\n",
      "El resultado es suma = 30\n"
     ]
    }
   ],
   "source": [
    "a = int(input('Ingrese el valor de a: '))\n",
    "\n",
    "b = 20\n",
    "\n",
    "if a < 10 or b == 20:\n",
    "    suma = a + b\n",
    "    if suma == 30:\n",
    "        print(f'El resultado es correcto {suma}')\n",
    "    else:\n",
    "        print('El resultado no es 30')\n",
    "    print(f'El resultado es suma = {suma}')\n",
    "else:\n",
    "    print('El número que ingresó NO es menor que 10')\n",
    "\n"
   ]
  },
  {
   "cell_type": "code",
   "execution_count": 47,
   "metadata": {},
   "outputs": [
    {
     "name": "stdout",
     "output_type": "stream",
     "text": [
      "Afternoon\n"
     ]
    }
   ],
   "source": [
    "time = float(input('Ingrese la hora: '))\n",
    "\n",
    "if time < 12:\n",
    "    print ('Morning')\n",
    "else:\n",
    "    print('Afternoon')"
   ]
  },
  {
   "cell_type": "code",
   "execution_count": 49,
   "metadata": {},
   "outputs": [
    {
     "name": "stdout",
     "output_type": "stream",
     "text": [
      "Usted ingresó 5, por lo tanto es:False\n"
     ]
    }
   ],
   "source": [
    "marks = int(input('Ingrese un número del 1 al 200: '))\n",
    "\n",
    "if marks >= 70: \n",
    "    print(f'Usted ingresó {marks}, por lo tanto es: True')\n",
    "else:\n",
    "    print(f'Usted ingresó {marks}, por lo tanto es:False')"
   ]
  },
  {
   "cell_type": "markdown",
   "metadata": {},
   "source": [
    "## 2. Vuelva a escribir el siguiente fragmento de código en 2 líneas:"
   ]
  },
  {
   "cell_type": "code",
   "execution_count": 50,
   "metadata": {},
   "outputs": [
    {
     "name": "stdout",
     "output_type": "stream",
     "text": [
      "\"x\" and \"y\" are equal\n"
     ]
    }
   ],
   "source": [
    "x,y = 3.0, 3.0\n",
    "\n",
    "print('\"x\" and \"y\" are equal' if x == y else '\"x\" and \"y\" are NOT equal')"
   ]
  },
  {
   "cell_type": "markdown",
   "metadata": {},
   "source": [
    "## 3. ¿Cuál será el resultado de los siguientes programas?. Explicar en una celda de texto o en comentario que hace cada código."
   ]
  },
  {
   "cell_type": "markdown",
   "metadata": {},
   "source": [
    "### Ejercicios del item a"
   ]
  },
  {
   "cell_type": "code",
   "execution_count": 52,
   "metadata": {},
   "outputs": [
    {
     "name": "stdout",
     "output_type": "stream",
     "text": [
      "4\n",
      "-1\n",
      "0\n"
     ]
    }
   ],
   "source": [
    "# Asigna en una sóla línea variables y sus valores:\n",
    "i,j,k = 4, -1, 0\n",
    "print(i)\n",
    "print(j)\n",
    "print(k)"
   ]
  },
  {
   "cell_type": "code",
   "execution_count": 79,
   "metadata": {},
   "outputs": [
    {
     "name": "stdout",
     "output_type": "stream",
     "text": [
      "El valor de w es: 4, es decir que toma el valor de i: 4\n",
      "Porque OR evalúa los operandos de izq. a derecha y devuelve el primer valor que NO es FALSE.\n",
      "\n",
      "El valor de x al usar AND es: 0, es decir que toma el valor k: 0\n",
      "Porque AND evalúa los operandos de izq. a derecha y devuelve el primer valor que es FALSE. \n",
      "\n",
      "El valor de y al usar los operadores AND y OR, toma el valor de j: -1\n",
      "El valor de y es: -1\n",
      "El valor de \"z\" al usar los operadores OR y AND, toma el valor de i: 4\n",
      "El valor de \"z\" es: 4\n"
     ]
    }
   ],
   "source": [
    "w = i or j or k\n",
    "print (f'El valor de w es: {w}, es decir que toma el valor de i: {i}\\n'\n",
    "       f'Porque OR evalúa los operandos de izq. a derecha y devuelve el primer valor que NO es FALSE.')\n",
    "\n",
    "x = i and j and k \n",
    "print (f'\\nEl valor de x al usar AND es: {x}, es decir que toma el valor k: {k}\\n'\n",
    "       f'Porque AND evalúa los operandos de izq. a derecha y devuelve el primer valor que es FALSE. ')\n",
    "\n",
    "y = i and j or k \n",
    "print(f'\\nEl valor de y al usar los operadores AND y OR, toma el valor de j: {j}')\n",
    "print(f'El valor de y es: {y}')\n",
    "\n",
    "z = i or j and k \n",
    "print(f'El valor de \"z\" al usar los operadores OR y AND, toma el valor de i: {i}')\n",
    "print(f'El valor de \"z\" es: {z}')"
   ]
  },
  {
   "cell_type": "markdown",
   "metadata": {},
   "source": [
    "### Ejercicios del item b."
   ]
  },
  {
   "cell_type": "code",
   "execution_count": 80,
   "metadata": {},
   "outputs": [
    {
     "name": "stdout",
     "output_type": "stream",
     "text": [
      "\"not not\" convierte cualquier valor a booleano\n",
      "\"not a\" convierte a \"10\" en \"False\"\n",
      "\"not a\" convierte de vuelta a \"10\" en \"True\"\n",
      "---> Resultado de \"a\" es: True\n"
     ]
    }
   ],
   "source": [
    "a = 10\n",
    "a = not not a\n",
    "print(f'\"not not\" convierte cualquier valor a booleano\\n'\n",
    "      f'\"not a\" convierte a \"10\" en \"False\"\\n'\n",
    "      f'\"not a\" convierte de vuelta a \"10\" en \"True\"\\n' \n",
    "      f'---> Resultado de \"a\" es: {a}')"
   ]
  },
  {
   "cell_type": "markdown",
   "metadata": {},
   "source": [
    "### Ejercicios del item c"
   ]
  },
  {
   "cell_type": "code",
   "execution_count": 81,
   "metadata": {},
   "outputs": [
    {
     "name": "stdout",
     "output_type": "stream",
     "text": [
      "biggest=45\n"
     ]
    }
   ],
   "source": [
    "#El operador and evalúa los operandos de izquierda a derecha y devuelve el primer valor que es False. \n",
    "#Si todos los valores son True, devuelve el último valor evaluado. \n",
    "\n",
    "x,y,z = 20, 40, 45\n",
    "if x>y and x>z:\n",
    "    print('biggest=' +str(x))\n",
    "elif y>x and y>z: \n",
    "    print('biggest=' + str(y))\n",
    "elif z>x and z>y:\n",
    "    print('biggest=' + str(z))\n",
    "\n"
   ]
  },
  {
   "cell_type": "markdown",
   "metadata": {},
   "source": [
    "### Ejercicios del item d "
   ]
  },
  {
   "cell_type": "code",
   "execution_count": 83,
   "metadata": {},
   "outputs": [
    {
     "name": "stdout",
     "output_type": "stream",
     "text": [
      "500\n"
     ]
    }
   ],
   "source": [
    "num = 30 \n",
    "k=100 if num<=10 else 500 #Como 30 NO es menor o igual a 10, imprime 500\n",
    "print(k)"
   ]
  },
  {
   "cell_type": "markdown",
   "metadata": {},
   "source": [
    "### Ejercicios del item e"
   ]
  },
  {
   "cell_type": "code",
   "execution_count": 84,
   "metadata": {},
   "outputs": [
    {
     "name": "stdout",
     "output_type": "stream",
     "text": [
      "hello\n"
     ]
    }
   ],
   "source": [
    "#El operador and evalúa los operandos de izquierda a derecha y devuelve el primer valor que es False. \n",
    "#Si todos los valores son True, devuelve el último valor evaluado. \n",
    "\n",
    "#El valor de a es 10. En un contexto booleano, cualquier número que no sea cero se considera True.\n",
    "#Dado que a es 10, que no es cero, se considera True\n",
    "\n",
    "#Se evalúa si b es mayor que 20. Esto devuelve True ya que 60 es mayor que 20.\n",
    "\n",
    "a= 10\n",
    "b=60\n",
    "if a and b>20: # Como a es True (ya que no es cero) y b > 20 también es True, ambos operandos son True.\n",
    "    print('hello')\n",
    "else:\n",
    "    print('Hi')"
   ]
  },
  {
   "cell_type": "markdown",
   "metadata": {},
   "source": [
    "### Ejercicios del item f"
   ]
  },
  {
   "cell_type": "code",
   "execution_count": 85,
   "metadata": {},
   "outputs": [
    {
     "name": "stdout",
     "output_type": "stream",
     "text": [
      "Hi\n"
     ]
    }
   ],
   "source": [
    "a=10\n",
    "b=60\n",
    "if a>20 and b>20: #Como 10 NO es mayor que 20 --> FALSE, por eso devuelve Hi.\n",
    "    print('Hello')\n",
    "else:\n",
    "    print('Hi') #Como a > 20 es False, el operador and no necesita evaluar b > 20."
   ]
  },
  {
   "cell_type": "markdown",
   "metadata": {},
   "source": [
    "### Ejercicios del item g"
   ]
  },
  {
   "cell_type": "code",
   "execution_count": 88,
   "metadata": {},
   "outputs": [
    {
     "name": "stdout",
     "output_type": "stream",
     "text": [
      "Hello\n"
     ]
    }
   ],
   "source": [
    "# El operador OR evalúa los operandos de izquierda a derecha y devuelve el primer valor que no sea False.\n",
    "# Si todos los valores son False, devuelve el último valor evaluado.\n",
    "\n",
    "a = 10\n",
    "if a == 30 or 40 or 60: #Se evalúa si a es igual a 30. Esto devuelve False.\n",
    "                        #El valor 40 y 60 es una expresión que se evalúa como True porque cualquier número diferente de cero se considera verdadero en Python.\n",
    "    print('Hello') # False or True or True---> valor es TRUE e imprime Hello\n",
    "else:\n",
    "    print('Hi')"
   ]
  },
  {
   "cell_type": "markdown",
   "metadata": {},
   "source": [
    "### Ejercicios del item h"
   ]
  },
  {
   "cell_type": "code",
   "execution_count": 92,
   "metadata": {},
   "outputs": [
    {
     "name": "stdout",
     "output_type": "stream",
     "text": [
      "Hi\n"
     ]
    }
   ],
   "source": [
    "a = 10 \n",
    "if a == 30 or a == 40 or a==60: # a==30 --> Falso, 10 == 40 --> Falso, 10 == 60 --> Falso. Imprime Hi \n",
    "    print('hello')\n",
    "else: \n",
    "    print('Hi') # Son todos falsos, por lo tanto imprime Hi"
   ]
  },
  {
   "cell_type": "code",
   "execution_count": null,
   "metadata": {},
   "outputs": [],
   "source": []
  },
  {
   "cell_type": "markdown",
   "metadata": {},
   "source": [
    "### Ejercicio i"
   ]
  },
  {
   "cell_type": "code",
   "execution_count": 94,
   "metadata": {},
   "outputs": [
    {
     "name": "stdout",
     "output_type": "stream",
     "text": [
      "Hi\n"
     ]
    }
   ],
   "source": [
    "a = 10\n",
    "if a in (30, 40, 50): # a no esta en 30 = Falso, a no esta en 40 = Falso, a no esta en 50 =Falso\n",
    "    print('Hello')\n",
    "else:\n",
    "    print('Hi')# Al ser falso imprime Hi"
   ]
  },
  {
   "cell_type": "markdown",
   "metadata": {},
   "source": [
    "## 4. Señala los errores, si los hay, en los siguientes programas: "
   ]
  },
  {
   "cell_type": "markdown",
   "metadata": {},
   "source": [
    "### a)"
   ]
  },
  {
   "cell_type": "code",
   "execution_count": 98,
   "metadata": {},
   "outputs": [],
   "source": [
    "a=12.25\n",
    "b=12.52\n",
    "\n",
    "if a==b:\n",
    "    print('a and b are equal') # Como a no es igual a b, no imprime nada. Tengo que agregar ELSE\n",
    "#No imprime nada"
   ]
  },
  {
   "cell_type": "code",
   "execution_count": 97,
   "metadata": {},
   "outputs": [
    {
     "name": "stdout",
     "output_type": "stream",
     "text": [
      "a and b Not are equal\n"
     ]
    }
   ],
   "source": [
    "a=12.25\n",
    "b=12.52\n",
    "\n",
    "if a==b:\n",
    "    print('a and b are equal')\n",
    "    #Falta else por eso no da resultados.\n",
    "else:\n",
    "    print('a and b Not are equal')"
   ]
  },
  {
   "cell_type": "markdown",
   "metadata": {},
   "source": [
    "### b)"
   ]
  },
  {
   "cell_type": "code",
   "execution_count": 99,
   "metadata": {},
   "outputs": [
    {
     "name": "stdout",
     "output_type": "stream",
     "text": [
      "Unicode value of X is smaller than that of x\n"
     ]
    }
   ],
   "source": [
    "if ord('X') < ord('x'): \n",
    "    print('Unicode value of X is smaller than that of x') # Se cumple la condicion por lo tanto imprime. "
   ]
  },
  {
   "cell_type": "code",
   "execution_count": 101,
   "metadata": {},
   "outputs": [
    {
     "name": "stdout",
     "output_type": "stream",
     "text": [
      "88\n",
      "120\n"
     ]
    }
   ],
   "source": [
    "print (ord('X'))\n",
    "print(ord('x'))"
   ]
  },
  {
   "cell_type": "markdown",
   "metadata": {},
   "source": [
    "### c)"
   ]
  },
  {
   "cell_type": "code",
   "execution_count": 103,
   "metadata": {},
   "outputs": [
    {
     "name": "stdout",
     "output_type": "stream",
     "text": [
      "10\n"
     ]
    }
   ],
   "source": [
    "x=10\n",
    "if x>=2:  # Eliminé then porque no se usa en condicionales\n",
    "    print (x) "
   ]
  },
  {
   "cell_type": "markdown",
   "metadata": {},
   "source": [
    "### d)"
   ]
  },
  {
   "cell_type": "code",
   "execution_count": 105,
   "metadata": {},
   "outputs": [
    {
     "name": "stdout",
     "output_type": "stream",
     "text": [
      "x\n"
     ]
    }
   ],
   "source": [
    "x = 10; y = 15\n",
    "if x%2==y%3: # Agregre == y los : que siempre van al final de if y else.\n",
    "    print('x')"
   ]
  },
  {
   "cell_type": "markdown",
   "metadata": {},
   "source": [
    "### e)"
   ]
  },
  {
   "cell_type": "code",
   "execution_count": 107,
   "metadata": {},
   "outputs": [
    {
     "name": "stdout",
     "output_type": "stream",
     "text": [
      "x is less than y\n"
     ]
    }
   ],
   "source": [
    "x,y = 30,40\n",
    "if x==y:\n",
    "    print('x is equal to y')\n",
    "elif x > y:   #Es incorrecto= elseif x>y:\n",
    "    print('x is greater than y')\n",
    "elif x<y:  # Es incorrecto= elseif x<y:\n",
    "    print('x is less than y')"
   ]
  },
  {
   "cell_type": "markdown",
   "metadata": {},
   "source": [
    "## 5) If a = 10, b = 12, c = 0, encuentra los valores de las siguientes expresiones : \n"
   ]
  },
  {
   "cell_type": "code",
   "execution_count": 114,
   "metadata": {},
   "outputs": [
    {
     "name": "stdout",
     "output_type": "stream",
     "text": [
      "El resultado es verdadero --> imprime\n"
     ]
    }
   ],
   "source": [
    "a,b,c=10,12,0 \n",
    "\n",
    "if a != 6 and b>5: # a no es igual a 6 = Falso. PEro 12 > 5 = verdadero. Imprime verdadero\n",
    "    print('El resultado es verdadero --> imprime')\n",
    "else:\n",
    "    print('El resultado es Falso')"
   ]
  },
  {
   "cell_type": "code",
   "execution_count": 116,
   "metadata": {},
   "outputs": [
    {
     "name": "stdout",
     "output_type": "stream",
     "text": [
      "El resultado es Falso\n"
     ]
    }
   ],
   "source": [
    "if a == 9 or b<5:  #Falso y Falso \n",
    "    print('El resultado es verdadero --> imprime')\n",
    "else:\n",
    "    print('El resultado es Falso') # imprime falso de la ultima condicion "
   ]
  },
  {
   "cell_type": "code",
   "execution_count": 117,
   "metadata": {},
   "outputs": [
    {
     "name": "stdout",
     "output_type": "stream",
     "text": [
      "True\n"
     ]
    }
   ],
   "source": [
    "print(not(a<10))"
   ]
  },
  {
   "cell_type": "code",
   "execution_count": 118,
   "metadata": {},
   "outputs": [
    {
     "name": "stdout",
     "output_type": "stream",
     "text": [
      "True\n"
     ]
    }
   ],
   "source": [
    "print(not(a>5 and c)) #10 es mayor que 5= True, #True"
   ]
  },
  {
   "cell_type": "code",
   "execution_count": 120,
   "metadata": {},
   "outputs": [
    {
     "name": "stdout",
     "output_type": "stream",
     "text": [
      "True\n"
     ]
    }
   ],
   "source": [
    "print(5 and c != 8 or c) #5=True, 0!= True, c= 0 se considera FALSE"
   ]
  },
  {
   "cell_type": "markdown",
   "metadata": {},
   "source": [
    "## 6) Programa lo siguiente: "
   ]
  },
  {
   "cell_type": "markdown",
   "metadata": {},
   "source": [
    "### a) Cualquier número entero se ingresa a través del teclado. Escribe un programa para averiguar si es un número par o impar."
   ]
  },
  {
   "cell_type": "code",
   "execution_count": 125,
   "metadata": {},
   "outputs": [
    {
     "name": "stdout",
     "output_type": "stream",
     "text": [
      "Ingresó el número: 5, es número IMPAR\n"
     ]
    }
   ],
   "source": [
    "numero = int(input('Ingrese un número entero: '))\n",
    "\n",
    "if numero % 2 == 0:\n",
    "    print(f'Ingresó el número: {numero}, es número PAR') \n",
    "else: \n",
    "    print(f'Ingresó el número: {numero}, es número IMPAR') "
   ]
  },
  {
   "cell_type": "markdown",
   "metadata": {},
   "source": [
    "### b) . Si las edades de Sara, Sofía y Ana se ingresan a través del teclado, escriba un programa para determinar el más joven de las tres."
   ]
  },
  {
   "cell_type": "code",
   "execution_count": 140,
   "metadata": {},
   "outputs": [
    {
     "name": "stdout",
     "output_type": "stream",
     "text": [
      "La persona más joven es: Sofía\n"
     ]
    }
   ],
   "source": [
    "a = int(input('Ingresa la edad de Ana:  '))\n",
    "r = int(input('Ingresa la edad de Sara:  '))\n",
    "s = int(input('Ingresa la edad de Sofía:  '))\n",
    "\n",
    "if a<r and r<s:\n",
    "    menor = 'Ana' \n",
    "elif r<a and r<s:\n",
    "    menor = 'Sara'\n",
    "else: \n",
    "    menor = 'Sofía'\n",
    "\n",
    "print(f'La persona más joven es: {menor}')"
   ]
  },
  {
   "cell_type": "markdown",
   "metadata": {},
   "source": [
    "### c) Dado un punto (x, y), escriba un programa para averiguar si se encuentra en el eje X, el eje Y o en el origen del plano cartesiano"
   ]
  },
  {
   "cell_type": "code",
   "execution_count": 141,
   "metadata": {},
   "outputs": [
    {
     "name": "stdout",
     "output_type": "stream",
     "text": [
      "Ingresó x=-1 y y=5. No se encuentra en el eje x, y, ni el origen. Inténtelo otra vez!!\n"
     ]
    }
   ],
   "source": [
    "x= int(input('Ingrese un punto en el eje x: '))\n",
    "y= int(input('Ingrese un punto en el eje y: '))\n",
    "\n",
    "if x == 0 and y == 0: \n",
    "    print(f'Ingresó x={x} y y={y}. Está en el origen del plano cartesiano')\n",
    "elif x == 0:\n",
    "    print(f'Ingresó x={x} y y={y}. Está en el eje y')\n",
    "elif y == 0:\n",
    "    print(f'Ingresó x={x} y y={y}. Está en el eje x')\n",
    "    \n",
    "else:\n",
    "    print(f'Ingresó x={x} y y={y}. No se encuentra en el eje x, y, ni el origen. Inténtelo otra vez!!')"
   ]
  },
  {
   "cell_type": "markdown",
   "metadata": {},
   "source": [
    "## 7) Años de perro: Comunmente se dice que un año humano equivale a 7 años caninos. Escriba un programa que implemente la conversion de años humanos a años caninos. "
   ]
  },
  {
   "cell_type": "code",
   "execution_count": 145,
   "metadata": {},
   "outputs": [
    {
     "name": "stdout",
     "output_type": "stream",
     "text": [
      "La edad del canino es: 35\n"
     ]
    }
   ],
   "source": [
    "edad_humano = int(input('Ingrese su edad: '))\n",
    "\n",
    "\n",
    "edad_perro = edad_humano*7\n",
    "print(f'La edad del canino es: {edad_perro}')"
   ]
  },
  {
   "cell_type": "markdown",
   "metadata": {},
   "source": [
    "## 8) Niveles de sonido"
   ]
  },
  {
   "cell_type": "markdown",
   "metadata": {},
   "source": [
    "![Texto alternativo](./imagenes/ej8.PNG)"
   ]
  },
  {
   "cell_type": "code",
   "execution_count": 18,
   "metadata": {},
   "outputs": [
    {
     "name": "stdout",
     "output_type": "stream",
     "text": [
      "El nivel de sonido esta entre: Alarm Clocking y Gas Lawnmower\n"
     ]
    }
   ],
   "source": [
    "nivel_sonido = int(input('Ingrese un nivel de sonido: '))\n",
    "\n",
    "decibelios = {40: 'Quiet Room', 70: 'Alarm Clocking', 106: 'Gas Lawnmower', 130: 'Jackhammer'}\n",
    "\n",
    "if nivel_sonido in decibelios:\n",
    "    print (f'Los decibelios son: {decibelios.get(nivel_sonido)}')\n",
    "    \n",
    "elif nivel_sonido > 40 and nivel_sonido < 70:\n",
    "    print(f'El nivel de sonido esta entre: {decibelios.get(40)} y {decibelios.get(70)}')\n",
    "elif nivel_sonido > 70 and nivel_sonido < 106:\n",
    "    print(f'El nivel de sonido esta entre: {decibelios.get(70)} y {decibelios.get(106)}')\n",
    "elif nivel_sonido > 106 and nivel_sonido < 130:\n",
    "    print(f'El nivel de sonido esta entre:  {decibelios.get(106)} y {decibelios.get(130)}')\n",
    "else:\n",
    "    print('Nivel superior al permitido')"
   ]
  },
  {
   "cell_type": "markdown",
   "metadata": {},
   "source": [
    "## 9) De la nota a la frecuencia"
   ]
  },
  {
   "cell_type": "markdown",
   "metadata": {},
   "source": [
    "![Texto alternativo](./imagenes/ej9.PNG)"
   ]
  },
  {
   "cell_type": "code",
   "execution_count": 1,
   "metadata": {},
   "outputs": [
    {
     "name": "stdout",
     "output_type": "stream",
     "text": [
      "La frecuencia de la nota D4 es: \"293.66\" \n"
     ]
    }
   ],
   "source": [
    "notas=input('Ingrese alguna de las siguientes notas [C4,D4,E4,F4,G4,A4,B4]: ')\n",
    "\n",
    "frecuencias = {'C4': 261.63, 'D4': 293.66, 'E4': 329.63, 'F4': 349.23,\n",
    "               'G4': 392.00, 'A4': 440.00, 'B4': 493.88}\n",
    "\n",
    "print(f'La frecuencia de la nota {notas} es: \"{frecuencias.get(notas, \"La nota no existe\")}\" ')"
   ]
  },
  {
   "cell_type": "markdown",
   "metadata": {},
   "source": [
    "## 10) Cara en los billetes de $: "
   ]
  },
  {
   "cell_type": "markdown",
   "metadata": {},
   "source": [
    "![Texto alternativo](./imagenes/ej10.PNG)"
   ]
  },
  {
   "cell_type": "code",
   "execution_count": 8,
   "metadata": {},
   "outputs": [
    {
     "name": "stdout",
     "output_type": "stream",
     "text": [
      "El billete de 100 tiene el nombre de: \"Benjamin Franklin\" \n"
     ]
    }
   ],
   "source": [
    "billete = int(input(f'Para conocer el nombre de la persona que aparece el billete\\n,'\n",
    "                    f'seleccione su billete de estas opciones[1 , 2, 5, 10, 20, 50, 100]:  '))\n",
    "denominacion = {\n",
    "    1: 'George Washington',\n",
    "    2: 'Thomas Jefferson',\n",
    "    5: 'Abraham Lincoln',\n",
    "    10: 'Alexander Hamilton',\n",
    "    20: 'Andrew Jackson',\n",
    "    50: 'Ulysses S. Grant',\n",
    "    100: 'Benjamin Franklin' \n",
    "    } \n",
    "\n",
    "\n",
    "print(f'El billete de {billete} tiene el nombre de: \"{denominacion.get(billete, \"El billete no existe\")}\" ')"
   ]
  },
  {
   "cell_type": "markdown",
   "metadata": {},
   "source": [
    "## 11) Estaciones del año"
   ]
  },
  {
   "cell_type": "markdown",
   "metadata": {},
   "source": [
    "![Texto alternativo](./imagenes/ej11.PNG)"
   ]
  },
  {
   "cell_type": "code",
   "execution_count": 10,
   "metadata": {},
   "outputs": [
    {
     "name": "stdout",
     "output_type": "stream",
     "text": [
      "La estación es: Primavera\n"
     ]
    }
   ],
   "source": [
    "meses = {\n",
    "    'enero': 1, 'febrero': 2, 'marzo': 3, 'abril': 4,\n",
    "    'mayo': 5, 'junio': 6, 'julio': 7, 'agosto': 8,\n",
    "    'septiembre': 9, 'octubre': 10, 'noviembre': 11, 'diciembre': 12\n",
    "}\n",
    "\n",
    "\n",
    "estaciones = {\n",
    "    'Primavera': (3, 21),\n",
    "    'Verano': (7, 21),\n",
    "    'Otoño': (9, 21),\n",
    "    'Invierno': (12, 21)\n",
    "}\n",
    "\n",
    "\n",
    "mes = input(\"Ingrese el mes: \").lower()\n",
    "dia = int(input(\"Ingrese el día: \"))\n",
    "\n",
    "\n",
    "num_mes = meses[mes]\n",
    "\n",
    "\n",
    "if (num_mes == 3 and dia >= 21) or (num_mes in [4, 5]) or (num_mes == 6 and dia < 21):\n",
    "    estacion = 'Primavera'\n",
    "elif (num_mes == 6 and dia >= 21) or (num_mes in [7, 8]) or (num_mes == 9 and dia < 21):\n",
    "    estacion = 'Verano'\n",
    "elif (num_mes == 9 and dia >= 21) or (num_mes in [10, 11]) or (num_mes == 12 and dia < 21):\n",
    "    estacion = 'Otoño'\n",
    "else:\n",
    "    estacion = 'Invierno'\n",
    "\n",
    "print(f\"La estación es: {estacion}\")\n"
   ]
  },
  {
   "cell_type": "markdown",
   "metadata": {},
   "source": [
    "## 12) Signo Zodiacal"
   ]
  },
  {
   "cell_type": "markdown",
   "metadata": {},
   "source": [
    "![Texto alternativo](./imagenes/ej12.PNG)"
   ]
  },
  {
   "cell_type": "code",
   "execution_count": 16,
   "metadata": {},
   "outputs": [
    {
     "name": "stdout",
     "output_type": "stream",
     "text": [
      "Su signo zodiacal es: Acuario\n"
     ]
    }
   ],
   "source": [
    "meses = {\n",
    "    'enero': 1, 'febrero': 2, 'marzo': 3, 'abril': 4,\n",
    "    'mayo': 5, 'junio': 6, 'julio': 7, 'agosto': 8,\n",
    "    'septiembre': 9, 'octubre': 10, 'noviembre': 11, 'diciembre': 12\n",
    "}\n",
    "\n",
    "\n",
    "zodiacos = {\n",
    "    'Capricornio': ((12, 22), (1, 19)),\n",
    "    'Acuario': ((1, 20), (2, 18)),\n",
    "    'Piscis': ((2, 19), (3, 20)),\n",
    "    'Aries': ((3, 21), (4, 19)),\n",
    "    'Tauro': ((4, 20), (5, 20)),\n",
    "    'Géminis': ((5, 21), (6, 20)),\n",
    "    'Cáncer': ((6, 21), (7, 22)),\n",
    "    'Leo': ((7, 23), (8, 22)),\n",
    "    'Virgo': ((8, 23), (9, 22)),\n",
    "    'Libra': ((9, 23), (10, 22)),\n",
    "    'Escorpio': ((10, 23), (11, 21)),\n",
    "    'Sagitario': ((11, 22), (12, 21))\n",
    "}\n",
    "\n",
    "\n",
    "mes = input(\"Ingrese su mes de nacimiento: \").lower()\n",
    "dia = int(input(\"Ingrese su día de nacimiento: \"))\n",
    "\n",
    "\n",
    "\n",
    "num_mes = meses.get(mes)\n",
    "\n",
    "\n",
    "if num_mes is None:\n",
    "    print(\"Mes no válido. Por favor, intente de nuevo.\")\n",
    "else:\n",
    "    \n",
    "    signo = None\n",
    "    for zodiaco, ((mes_inicio, dia_inicio), (mes_fin, dia_fin)) in zodiacos.items():\n",
    "        if (num_mes == mes_inicio and dia >= dia_inicio) or (num_mes == mes_fin and dia <= dia_fin) or \\\n",
    "           (num_mes > mes_inicio and num_mes < mes_fin) or \\\n",
    "           (mes_inicio > mes_fin and (num_mes > mes_inicio or num_mes < mes_fin)):\n",
    "            signo = zodiaco\n",
    "            break\n",
    "\n",
    "\n",
    "    if signo:\n",
    "        print(f\"Su signo zodiacal es: {signo}\")\n",
    "    else:\n",
    "        print(\"Fecha no válida. Por favor, intente de nuevo.\")\n"
   ]
  },
  {
   "cell_type": "markdown",
   "metadata": {},
   "source": [
    "## 13) Escala de Ritcher"
   ]
  },
  {
   "cell_type": "markdown",
   "metadata": {},
   "source": [
    "![Texto alternativo](./imagenes/ej13.PNG)"
   ]
  },
  {
   "cell_type": "code",
   "execution_count": 36,
   "metadata": {},
   "outputs": [
    {
     "name": "stdout",
     "output_type": "stream",
     "text": [
      "Un terremoto de magnitud 5.0 se considera un terremoto Moderate.\n"
     ]
    }
   ],
   "source": [
    "magnitud = float(input(\"Ingrese la magnitud del terremoto: \"))\n",
    "\n",
    "if magnitud < 2.0:\n",
    "    descriptor = \"Micro\"\n",
    "elif magnitud < 3.0:\n",
    "    descriptor = \"Very Minor\"\n",
    "elif magnitud < 4.0:\n",
    "    descriptor = \"Minor\"\n",
    "elif magnitud < 5.0:\n",
    "    descriptor = \"Light\"\n",
    "elif magnitud < 6.0:\n",
    "    descriptor = \"Moderate\"\n",
    "elif magnitud < 7.0:\n",
    "    descriptor = \"Strong\"\n",
    "elif magnitud < 8.0:\n",
    "    descriptor = \"Major\"\n",
    "elif magnitud < 10.0:\n",
    "    descriptor = \"Great\"\n",
    "else:\n",
    "    descriptor = \"Meteoric\"\n",
    "\n",
    "\n",
    "print(f\"Un terremoto de magnitud {magnitud} se considera un terremoto {descriptor}.\")\n",
    "\n"
   ]
  },
  {
   "cell_type": "markdown",
   "metadata": {},
   "source": [
    "## 14) Conversión de calificación en letras a número"
   ]
  },
  {
   "cell_type": "markdown",
   "metadata": {},
   "source": [
    "![Texto alternativo](./imagenes/ej14.PNG)"
   ]
  },
  {
   "cell_type": "code",
   "execution_count": 23,
   "metadata": {},
   "outputs": [
    {
     "name": "stdout",
     "output_type": "stream",
     "text": [
      "Si tiene un \"C-\" equivale a: \"1.7\" \n"
     ]
    }
   ],
   "source": [
    "calificaciones = {\n",
    "    'A+' : 4.0,\n",
    "    'A': 4.0,\n",
    "    'A-': 3.7,\n",
    "    'B+': 3.3,\n",
    "    'B': 3,\n",
    "    'B-': 2.7,\n",
    "    'C+': 2.3,\n",
    "    'C': 2.0,\n",
    "    'C-': 1.7,\n",
    "    'D+': 1.3,\n",
    "    'D': 1.0,\n",
    "    'F': 0\n",
    "}\n",
    "    \n",
    "\n",
    "letra = input(f'Ingrese la letra de su calificación: ')\n",
    "      \n",
    "\n",
    "print(f'Si tiene un \"{letra}\" equivale a: \"{calificaciones.get(letra, \"La letra no existe, repítalo\")}\" ')"
   ]
  },
  {
   "cell_type": "markdown",
   "metadata": {},
   "source": [
    "## 15) Evaluacion de Empleados"
   ]
  },
  {
   "cell_type": "markdown",
   "metadata": {},
   "source": [
    "![Texto alternativo](./imagenes/ej15.PNG)"
   ]
  },
  {
   "cell_type": "code",
   "execution_count": 28,
   "metadata": {},
   "outputs": [
    {
     "name": "stdout",
     "output_type": "stream",
     "text": [
      "Su desempeño es: \"Desempeño Aceptable\"\n",
      "El aumento de sueldo es: $960.00\n"
     ]
    }
   ],
   "source": [
    "rating = {\n",
    "    0.0: 'Desempeño Inaceptable',\n",
    "    0.4: 'Desempeño Aceptable',\n",
    "    0.6: 'Desempeño Meritorio',\n",
    "}\n",
    "\n",
    "\n",
    "try:\n",
    "    empleado = float(input('Ingrese calificación empleado: '))\n",
    "except ValueError:\n",
    "    print(\"Calificación no válida. Por favor, ingrese un número válido.\")\n",
    "    exit()\n",
    "\n",
    "\n",
    "if empleado in rating:\n",
    "    desempeno = rating[empleado]\n",
    "    aumento = 2400.00 * empleado\n",
    "    print(f'Su desempeño es: \"{desempeno}\"')\n",
    "    print(f'El aumento de sueldo es: ${aumento:.2f}')\n",
    "else:\n",
    "    print(\"Calificación no válida. Por favor, ingrese 0.0, 0.4 o 0.6 o más.\")\n"
   ]
  },
  {
   "cell_type": "markdown",
   "metadata": {},
   "source": [
    "## 16) Convertir moneda de una denominación a otra"
   ]
  },
  {
   "cell_type": "markdown",
   "metadata": {},
   "source": [
    "![Texto alternativo](./imagenes/ej16.PNG)"
   ]
  },
  {
   "cell_type": "code",
   "execution_count": 30,
   "metadata": {},
   "outputs": [
    {
     "name": "stdout",
     "output_type": "stream",
     "text": [
      "100.0 euros equivalen a 788.00 yuan chino.\n"
     ]
    }
   ],
   "source": [
    "tipos_de_cambio = {\n",
    "    'dolar americano': 1.10,   # Ejemplo: 1 EUR = 1.10 USD\n",
    "    'dolar australiano': 1.62,\n",
    "    'dolar canadiense': 1.48,\n",
    "    'libra esterlina': 0.87,\n",
    "    'yuan chino': 7.88,\n",
    "    'rublo': 84.59,\n",
    "    'franco suizo': 0.97\n",
    "}\n",
    "\n",
    "\n",
    "cantidad_euros = float(input(\"Ingrese la cantidad de dinero en euros (€): \"))\n",
    "\n",
    "moneda_destino = input(\"Ingrese la denominación a la que desea cambiar (dolar americano, dolar australiano, dolar canadiense, libra esterlina, yuan chino, rublo, franco suizo): \").lower()\n",
    "\n",
    "\n",
    "if moneda_destino in tipos_de_cambio:\n",
    "    tasa_cambio = tipos_de_cambio[moneda_destino]\n",
    "    cantidad_convertida = cantidad_euros * tasa_cambio\n",
    "    print(f\"{cantidad_euros} euros equivalen a {cantidad_convertida:.2f} {moneda_destino}.\")\n",
    "else:\n",
    "    print(\"La moneda de destino no es válida. Por favor, intente de nuevo.\")\n"
   ]
  },
  {
   "cell_type": "markdown",
   "metadata": {},
   "source": [
    "## 17) Vocal o consonante"
   ]
  },
  {
   "cell_type": "markdown",
   "metadata": {},
   "source": [
    "![Texto alternativo](./imagenes/ej17.PNG)"
   ]
  },
  {
   "cell_type": "code",
   "execution_count": 33,
   "metadata": {},
   "outputs": [
    {
     "name": "stdout",
     "output_type": "stream",
     "text": [
      "Ingresó la letra s, y es una consonante.\n"
     ]
    }
   ],
   "source": [
    "letra = input(\"Ingrese una letra del alfabeto en minúsculas: \")\n",
    "\n",
    "if letra in ['a', 'e', 'i', 'o', 'u']:\n",
    "    print(f\"Ingresó la letra {letra}, y es una vocal.\")\n",
    "else:\n",
    "    print(\"Ingresó la letra {}, y es una consonante.\".format(letra))\n"
   ]
  },
  {
   "cell_type": "markdown",
   "metadata": {},
   "source": [
    "## 18) Clasificación Triángulos"
   ]
  },
  {
   "cell_type": "markdown",
   "metadata": {},
   "source": [
    "![Texto alternativo](./imagenes/ej18.PNG)"
   ]
  },
  {
   "cell_type": "code",
   "execution_count": 34,
   "metadata": {},
   "outputs": [
    {
     "name": "stdout",
     "output_type": "stream",
     "text": [
      "El triángulo es escaleno.\n"
     ]
    }
   ],
   "source": [
    "lado1 = float(input(\"Ingrese la longitud del primer lado del triángulo: \"))\n",
    "lado2 = float(input(\"Ingrese la longitud del segundo lado del triángulo: \"))\n",
    "lado3 = float(input(\"Ingrese la longitud del tercer lado del triángulo: \"))\n",
    "\n",
    "\n",
    "if lado1 == lado2 == lado3:\n",
    "    print(\"El triángulo es equilátero.\")\n",
    "elif lado1 == lado2 or lado1 == lado3 or lado2 == lado3:\n",
    "    print(\"El triángulo es isósceles.\")\n",
    "else:\n",
    "    print(\"El triángulo es escaleno.\")\n"
   ]
  },
  {
   "cell_type": "markdown",
   "metadata": {},
   "source": [
    "![Texto alternativo](./imagenes/ej19.PNG)"
   ]
  },
  {
   "cell_type": "markdown",
   "metadata": {},
   "source": [
    "## 20) Tablero de Ajedrez "
   ]
  },
  {
   "cell_type": "markdown",
   "metadata": {},
   "source": [
    "![Texto alternativo](./imagenes/ej20.PNG)"
   ]
  },
  {
   "cell_type": "code",
   "execution_count": 35,
   "metadata": {},
   "outputs": [
    {
     "name": "stdout",
     "output_type": "stream",
     "text": [
      "El cuadrado en la posición b3 es de color blanco.\n"
     ]
    }
   ],
   "source": [
    "posicion = input(\"Ingrese la posición en el tablero de ajedrez (por ejemplo, a1): \")\n",
    "\n",
    "columna = posicion[0]\n",
    "fila = int(posicion[1])\n",
    "\n",
    "if (columna in 'aceg' and fila % 2 == 1) or (columna in 'bdfh' and fila % 2 == 0):\n",
    "    color = \"negro\"\n",
    "else:\n",
    "    color = \"blanco\"\n",
    "\n",
    "print(f\"El cuadrado en la posición {posicion} es de color {color}.\")\n"
   ]
  },
  {
   "cell_type": "markdown",
   "metadata": {},
   "source": [
    "## Ejercicios de explicación de clases "
   ]
  },
  {
   "cell_type": "markdown",
   "metadata": {},
   "source": [
    "### Booleanos en condiciones: True --- False --- None"
   ]
  },
  {
   "cell_type": "code",
   "execution_count": 4,
   "metadata": {},
   "outputs": [
    {
     "name": "stdout",
     "output_type": "stream",
     "text": [
      "Viste con jersey\n"
     ]
    }
   ],
   "source": [
    "is_cold = True\n",
    "\n",
    "if is_cold == True: \n",
    "    print('Viste con jersey')\n",
    "else:\n",
    "    print('Usa camiseta')"
   ]
  },
  {
   "cell_type": "code",
   "execution_count": 5,
   "metadata": {},
   "outputs": [
    {
     "name": "stdout",
     "output_type": "stream",
     "text": [
      "Usa camiseta\n"
     ]
    }
   ],
   "source": [
    "is_cold = False \n",
    "if not is_cold: #También puede ser: if is_cold==False\n",
    "    print('Usa camiseta')\n",
    "else: \n",
    "    print('Viste con jersey')"
   ]
  },
  {
   "cell_type": "code",
   "execution_count": 6,
   "metadata": {},
   "outputs": [
    {
     "name": "stdout",
     "output_type": "stream",
     "text": [
      "Value seems to be void, mean: true false or other\n"
     ]
    }
   ],
   "source": [
    "value = None \n",
    "if value:\n",
    "    print('Value has come useful value')\n",
    "else: \n",
    "    print('Value seems to be void, mean: true false or other')\n",
    "    "
   ]
  },
  {
   "cell_type": "code",
   "execution_count": 7,
   "metadata": {},
   "outputs": [
    {
     "name": "stdout",
     "output_type": "stream",
     "text": [
      "Claramente el valor es none: none + none\n"
     ]
    }
   ],
   "source": [
    "value = None \n",
    "\n",
    "if value is None: \n",
    "    print('Claramente el valor es none: none + none')\n",
    "else: \n",
    "    print('Value has some useful value')"
   ]
  },
  {
   "cell_type": "code",
   "execution_count": 9,
   "metadata": {},
   "outputs": [
    {
     "name": "stdout",
     "output_type": "stream",
     "text": [
      "99\n"
     ]
    }
   ],
   "source": [
    "value = 99 \n",
    "\n",
    "if value is not None:\n",
    "    print(f'{value}')\n",
    "else: \n",
    "    print('Es otro número')"
   ]
  },
  {
   "cell_type": "code",
   "execution_count": 13,
   "metadata": {},
   "outputs": [
    {
     "name": "stdout",
     "output_type": "stream",
     "text": [
      "None\n"
     ]
    },
    {
     "data": {
      "text/plain": [
       "True"
      ]
     },
     "execution_count": 13,
     "metadata": {},
     "output_type": "execute_result"
    }
   ],
   "source": [
    "value = None \n",
    "print(value)\n",
    "value is None\n",
    "value == None"
   ]
  },
  {
   "cell_type": "code",
   "execution_count": 16,
   "metadata": {},
   "outputs": [
    {
     "name": "stdout",
     "output_type": "stream",
     "text": [
      "El id de None es: 140716623629072\n",
      "Comprobamos si el id_value de: 140716623629072 es igual al id_None de: 140716623629072\n"
     ]
    }
   ],
   "source": [
    "print(f'El id de None es: {id(None)}') \n",
    "\n",
    "value = None\n",
    "print(f'Comprobamos si el id_value de: {id(value)} es igual al id_None de: {id(None)}')"
   ]
  },
  {
   "cell_type": "markdown",
   "metadata": {},
   "source": [
    "### Evaluación a Falso o Verdadero"
   ]
  },
  {
   "cell_type": "code",
   "execution_count": 29,
   "metadata": {},
   "outputs": [
    {
     "name": "stdout",
     "output_type": "stream",
     "text": [
      "El valor de booleano-False es: False\n",
      "El valor booleano de None es: False\n",
      "El valor booleano de cero es: False\n",
      "El valor booleano de float es: False\n",
      "El valor booleano de una cadena vacía es: False\n",
      "El valor booleano de una lista vacía es: False\n",
      "El valor booleano de una tupla vacía es: False\n",
      "El valor booleano de un diccionario vacío es: False\n",
      "El valor booleano de un conjunto vacio es: False\n"
     ]
    }
   ],
   "source": [
    "# EVALUACIÓN DE  FALSO: \n",
    "print(f'El valor de booleano-False es: {bool(False)}')\n",
    "print(f'El valor booleano de None es: {bool(None)}')\n",
    "print(f'El valor booleano de cero es: {bool(0)}')\n",
    "print(f'El valor booleano de float es: {bool(0.0)}')\n",
    "print(f'El valor booleano de una cadena vacía es: {bool(\"\")}') #cadena vacía\n",
    "print(f'El valor booleano de una lista vacía es: {bool([])}')\n",
    "print(f'El valor booleano de una tupla vacía es: {bool(())}')\n",
    "print(f'El valor booleano de un diccionario vacío es: {bool({})}')\n",
    "print(f'El valor booleano de un conjunto vacio es: {bool(set())}')\n"
   ]
  },
  {
   "cell_type": "markdown",
   "metadata": {},
   "source": [
    "### Asignación lógica"
   ]
  },
  {
   "cell_type": "code",
   "execution_count": 33,
   "metadata": {},
   "outputs": [
    {
     "data": {
      "text/plain": [
       "5"
      ]
     },
     "execution_count": 33,
     "metadata": {},
     "output_type": "execute_result"
    }
   ],
   "source": [
    "b=0\n",
    "c=5\n",
    "a=b or c  #evalúa a falso el 0, y el c=5 lo evalúa a verdadero. Usa OR\n",
    "a"
   ]
  },
  {
   "cell_type": "code",
   "execution_count": 35,
   "metadata": {},
   "outputs": [
    {
     "data": {
      "text/plain": [
       "0"
      ]
     },
     "execution_count": 35,
     "metadata": {},
     "output_type": "execute_result"
    }
   ],
   "source": [
    "b=0\n",
    "c=5\n",
    "a=b and c #evalúa a falso el 0, y el c=5 lo evalúa a verdadero. Usa AND\n",
    "a"
   ]
  }
 ],
 "metadata": {
  "kernelspec": {
   "display_name": "Curso_Python",
   "language": "python",
   "name": "python3"
  },
  "language_info": {
   "codemirror_mode": {
    "name": "ipython",
    "version": 3
   },
   "file_extension": ".py",
   "mimetype": "text/x-python",
   "name": "python",
   "nbconvert_exporter": "python",
   "pygments_lexer": "ipython3",
   "version": "3.11.9"
  }
 },
 "nbformat": 4,
 "nbformat_minor": 2
}
