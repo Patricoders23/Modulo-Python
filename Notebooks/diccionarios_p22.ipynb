{
 "cells": [
  {
   "cell_type": "markdown",
   "metadata": {},
   "source": [
    "# DICCIONARIOS"
   ]
  },
  {
   "cell_type": "markdown",
   "metadata": {},
   "source": [
    "## Repaso en clases"
   ]
  },
  {
   "cell_type": "markdown",
   "metadata": {},
   "source": [
    "### Iterar sobre un diccionario"
   ]
  },
  {
   "cell_type": "code",
   "execution_count": 1,
   "metadata": {},
   "outputs": [],
   "source": [
    "ia_dicc = {\n",
    "    'IA': 'Inteligencia',\n",
    "    'Machine Learning': 'Algoritmos',\n",
    "    'Deep Learning': 'Neuronales',\n",
    "    'Natural Language Processing': 'Lenguaje',\n",
    "    'Computer Vision': 'Imagenes'\n",
    "}"
   ]
  },
  {
   "cell_type": "code",
   "execution_count": 2,
   "metadata": {},
   "outputs": [
    {
     "name": "stdout",
     "output_type": "stream",
     "text": [
      "IA\n",
      "Machine Learning\n",
      "Deep Learning\n",
      "Natural Language Processing\n",
      "Computer Vision\n"
     ]
    }
   ],
   "source": [
    "for word in ia_dicc.keys():\n",
    "    print(word)"
   ]
  },
  {
   "cell_type": "code",
   "execution_count": 3,
   "metadata": {},
   "outputs": [
    {
     "name": "stdout",
     "output_type": "stream",
     "text": [
      "Inteligencia\n",
      "Algoritmos\n",
      "Neuronales\n",
      "Lenguaje\n",
      "Imagenes\n"
     ]
    }
   ],
   "source": [
    "for meaning in ia_dicc.values():\n",
    "    print(meaning)"
   ]
  },
  {
   "cell_type": "code",
   "execution_count": 5,
   "metadata": {},
   "outputs": [
    {
     "name": "stdout",
     "output_type": "stream",
     "text": [
      "IA: Inteligencia\n",
      "Machine Learning: Algoritmos\n",
      "Deep Learning: Neuronales\n",
      "Natural Language Processing: Lenguaje\n",
      "Computer Vision: Imagenes\n"
     ]
    }
   ],
   "source": [
    "#Itera sobre clave-valor \n",
    "for word, meaning in ia_dicc.items():\n",
    "    print(f'{word}: {meaning}')"
   ]
  },
  {
   "cell_type": "markdown",
   "metadata": {},
   "source": [
    "### Combinar diccionarios"
   ]
  },
  {
   "cell_type": "code",
   "execution_count": 6,
   "metadata": {},
   "outputs": [],
   "source": [
    "ia_dic2= {\n",
    "    \"Inteligencia Artificial\": \"IA\",\n",
    "    \"Aprendizaje Automático\": \"Machine Learning\",\n",
    "    \"Aprendizaje Profundo\": \"Deep Learning\",\n",
    "    \"Procesamiento de Lenguaje Natural\": \"Natural Language Processing\",\n",
    "    \"Visión por Computadora\": \"Computer Vision\"\n",
    "}"
   ]
  },
  {
   "cell_type": "code",
   "execution_count": 7,
   "metadata": {},
   "outputs": [],
   "source": [
    "ia_dic1 = {\n",
    "    \"IA\": \"Inteligencia\",\n",
    "    \"Machine Learning\": \"Algoritmos\",\n",
    "    \"Deep Learning\": \"Neuronales\",\n",
    "    \"Natural Language Processing\": \"Lenguaje\",\n",
    "    \"Computer Vision\": \"Imagenes\"\n",
    "}"
   ]
  },
  {
   "cell_type": "code",
   "execution_count": 8,
   "metadata": {},
   "outputs": [
    {
     "data": {
      "text/plain": [
       "{'IA': 'Inteligencia',\n",
       " 'Machine Learning': 'Algoritmos',\n",
       " 'Deep Learning': 'Neuronales',\n",
       " 'Natural Language Processing': 'Lenguaje',\n",
       " 'Computer Vision': 'Imagenes',\n",
       " 'Inteligencia Artificial': 'IA',\n",
       " 'Aprendizaje Automático': 'Machine Learning',\n",
       " 'Aprendizaje Profundo': 'Deep Learning',\n",
       " 'Procesamiento de Lenguaje Natural': 'Natural Language Processing',\n",
       " 'Visión por Computadora': 'Computer Vision'}"
      ]
     },
     "execution_count": 8,
     "metadata": {},
     "output_type": "execute_result"
    }
   ],
   "source": [
    "{**ia_dic1, **ia_dic2}"
   ]
  },
  {
   "cell_type": "code",
   "execution_count": 9,
   "metadata": {},
   "outputs": [
    {
     "data": {
      "text/plain": [
       "{'IA': 'Inteligencia',\n",
       " 'Machine Learning': 'Algoritmos',\n",
       " 'Deep Learning': 'Neuronales',\n",
       " 'Natural Language Processing': 'Lenguaje',\n",
       " 'Computer Vision': 'Imagenes',\n",
       " 'Inteligencia Artificial': 'IA',\n",
       " 'Aprendizaje Automático': 'Machine Learning',\n",
       " 'Aprendizaje Profundo': 'Deep Learning',\n",
       " 'Procesamiento de Lenguaje Natural': 'Natural Language Processing',\n",
       " 'Visión por Computadora': 'Computer Vision'}"
      ]
     },
     "execution_count": 9,
     "metadata": {},
     "output_type": "execute_result"
    }
   ],
   "source": [
    "ia_dic1 | ia_dic2"
   ]
  },
  {
   "cell_type": "markdown",
   "metadata": {},
   "source": [
    "### Modifico diccionarios "
   ]
  },
  {
   "cell_type": "code",
   "execution_count": 10,
   "metadata": {},
   "outputs": [
    {
     "data": {
      "text/plain": [
       "{'Inteligencia Artificial': 'IA',\n",
       " 'Aprendizaje Automático': 'Machine Learning',\n",
       " 'Aprendizaje Profundo': 'Deep Learning',\n",
       " 'Procesamiento de Lenguaje Natural': 'Natural Language Processing',\n",
       " 'Visión por Computadora': 'Computer Vision',\n",
       " 'IA': 'Inteligencia',\n",
       " 'Machine Learning': 'Algoritmos',\n",
       " 'Deep Learning': 'Neuronales',\n",
       " 'Natural Language Processing': 'Lenguaje',\n",
       " 'Computer Vision': 'Imagenes'}"
      ]
     },
     "execution_count": 10,
     "metadata": {},
     "output_type": "execute_result"
    }
   ],
   "source": [
    "ia_dic2.update(ia_dic1)\n",
    "ia_dic2"
   ]
  },
  {
   "cell_type": "code",
   "execution_count": 13,
   "metadata": {},
   "outputs": [
    {
     "data": {
      "text/plain": [
       "{'IA': 'Inteligencia',\n",
       " 'Machine Learning': 'Algoritmos',\n",
       " 'Deep Learning': 'Neuronales',\n",
       " 'Natural Language Processing': 'Lenguaje',\n",
       " 'Computer Vision': 'Imagenes'}"
      ]
     },
     "execution_count": 13,
     "metadata": {},
     "output_type": "execute_result"
    }
   ],
   "source": [
    "ia_dic1"
   ]
  },
  {
   "cell_type": "markdown",
   "metadata": {},
   "source": [
    "### Borrar elementos"
   ]
  },
  {
   "cell_type": "code",
   "execution_count": 15,
   "metadata": {},
   "outputs": [
    {
     "data": {
      "text/plain": [
       "{'Machine Learning': 'Algoritmos',\n",
       " 'Deep Learning': 'Neuronales',\n",
       " 'Natural Language Processing': 'Lenguaje',\n",
       " 'Computer Vision': 'Imagenes'}"
      ]
     },
     "execution_count": 15,
     "metadata": {},
     "output_type": "execute_result"
    }
   ],
   "source": [
    "#Usando del\n",
    "del ia_dic1['IA']\n",
    "ia_dic1"
   ]
  },
  {
   "cell_type": "code",
   "execution_count": 17,
   "metadata": {},
   "outputs": [
    {
     "data": {
      "text/plain": [
       "{'Aprendizaje Automático': 'Machine Learning',\n",
       " 'Aprendizaje Profundo': 'Deep Learning',\n",
       " 'Procesamiento de Lenguaje Natural': 'Natural Language Processing',\n",
       " 'Visión por Computadora': 'Computer Vision',\n",
       " 'Machine Learning': 'Algoritmos',\n",
       " 'Deep Learning': 'Neuronales',\n",
       " 'Natural Language Processing': 'Lenguaje',\n",
       " 'Computer Vision': 'Imagenes'}"
      ]
     },
     "execution_count": 17,
     "metadata": {},
     "output_type": "execute_result"
    }
   ],
   "source": [
    "#Borro mediante la función pop()\n",
    "ia_dic2.pop('Inteligencia Artificial')\n",
    "ia_dic2"
   ]
  },
  {
   "cell_type": "code",
   "execution_count": 18,
   "metadata": {},
   "outputs": [
    {
     "data": {
      "text/plain": [
       "{}"
      ]
     },
     "execution_count": 18,
     "metadata": {},
     "output_type": "execute_result"
    }
   ],
   "source": [
    "#Borrado por completo\n",
    "ia_dicc.clear()\n",
    "ia_dicc"
   ]
  },
  {
   "cell_type": "code",
   "execution_count": 19,
   "metadata": {},
   "outputs": [
    {
     "data": {
      "text/plain": [
       "{}"
      ]
     },
     "execution_count": 19,
     "metadata": {},
     "output_type": "execute_result"
    }
   ],
   "source": [
    "ia_dicc = {}\n",
    "ia_dicc"
   ]
  },
  {
   "cell_type": "markdown",
   "metadata": {},
   "source": [
    "### Diccionarios por comprensión"
   ]
  },
  {
   "cell_type": "code",
   "execution_count": 20,
   "metadata": {},
   "outputs": [
    {
     "data": {
      "text/plain": [
       "{'sol': 3, 'cohete': 6, 'tierra': 6}"
      ]
     },
     "execution_count": 20,
     "metadata": {},
     "output_type": "execute_result"
    }
   ],
   "source": [
    "palabras = ('sol', 'espacio', 'cohete', 'tierra')\n",
    "long_palabras = {p: len(p) for p in  palabras if p[0] not in 'aeiou'}\n",
    "long_palabras"
   ]
  },
  {
   "cell_type": "markdown",
   "metadata": {},
   "source": [
    "### Objetos << hashables >>"
   ]
  },
  {
   "cell_type": "code",
   "execution_count": 21,
   "metadata": {},
   "outputs": [
    {
     "data": {
      "text/plain": [
       "999"
      ]
     },
     "execution_count": 21,
     "metadata": {},
     "output_type": "execute_result"
    }
   ],
   "source": [
    "hash(999) #HASH que no cambia en ejecución durante toda su vida"
   ]
  },
  {
   "cell_type": "code",
   "execution_count": 22,
   "metadata": {},
   "outputs": [
    {
     "data": {
      "text/plain": [
       "322818021289917443"
      ]
     },
     "execution_count": 22,
     "metadata": {},
     "output_type": "execute_result"
    }
   ],
   "source": [
    "hash(3.14)"
   ]
  },
  {
   "cell_type": "code",
   "execution_count": 23,
   "metadata": {},
   "outputs": [
    {
     "data": {
      "text/plain": [
       "-5439707320347954848"
      ]
     },
     "execution_count": 23,
     "metadata": {},
     "output_type": "execute_result"
    }
   ],
   "source": [
    "hash('hello')"
   ]
  },
  {
   "cell_type": "code",
   "execution_count": 25,
   "metadata": {},
   "outputs": [
    {
     "data": {
      "text/plain": [
       "3999914887954526369"
      ]
     },
     "execution_count": 25,
     "metadata": {},
     "output_type": "execute_result"
    }
   ],
   "source": [
    "hash(('a','b','c'))"
   ]
  },
  {
   "cell_type": "code",
   "execution_count": 27,
   "metadata": {},
   "outputs": [
    {
     "data": {
      "text/plain": [
       "-6033856227967022452"
      ]
     },
     "execution_count": 27,
     "metadata": {},
     "output_type": "execute_result"
    }
   ],
   "source": [
    "# Objeto HASHABLE tiene que ser INMUTABLE\n",
    "hash('spiderman') "
   ]
  },
  {
   "cell_type": "code",
   "execution_count": 28,
   "metadata": {},
   "outputs": [
    {
     "data": {
      "text/plain": [
       "-6033856227967022452"
      ]
     },
     "execution_count": 28,
     "metadata": {},
     "output_type": "execute_result"
    }
   ],
   "source": [
    "'spiderman'.__hash__()"
   ]
  },
  {
   "cell_type": "markdown",
   "metadata": {},
   "source": [
    "## PRÁCTICA 22"
   ]
  },
  {
   "cell_type": "markdown",
   "metadata": {},
   "source": [
    "## Cree un diccionario que contenga los nombres de los estudiantes y las calificaciones obtenidas por ellos en tres materias. Escriba un programa para reemplazar las calificaciones de tres materias con el total de tres materias y el promedio. Informe quien es el mejor de la clase. "
   ]
  },
  {
   "cell_type": "code",
   "execution_count": 29,
   "metadata": {},
   "outputs": [],
   "source": [
    "calificaciones = {\n",
    "    \"Juan Pérez\": {\"Matemáticas\": 8.5, \"Lengua\": 9.2, \"Ciencias\": 7.8},\n",
    "    \"María García\": {\"Matemáticas\": 9.8, \"Lengua\": 8.5, \"Ciencias\": 9.5},\n",
    "    \"Pedro Rodríguez\": {\"Matemáticas\": 7.2, \"Lengua\": 8.8, \"Ciencias\": 8.2},\n",
    "    \"Sofía Martínez\": {\"Matemáticas\": 9.2, \"Lengua\": 9.8, \"Ciencias\": 9.0},\n",
    "    \"Luis Hernández\": {\"Matemáticas\": 8.0, \"Lengua\": 7.5, \"Ciencias\": 8.5}\n",
    "}"
   ]
  },
  {
   "cell_type": "code",
   "execution_count": 33,
   "metadata": {},
   "outputs": [
    {
     "name": "stdout",
     "output_type": "stream",
     "text": [
      "{'Juan Pérez': {'Total': 76.5, 'Promedio': 38.25}, 'María García': {'Total': 83.4, 'Promedio': 41.7}, 'Pedro Rodríguez': {'Total': 72.6, 'Promedio': 36.3}, 'Sofía Martínez': {'Total': 84.0, 'Promedio': 42.0}, 'Luis Hernández': {'Total': 72.0, 'Promedio': 36.0}}\n"
     ]
    }
   ],
   "source": [
    "calificaciones = {estudiante: \n",
    "        {\n",
    "    'Total': sum(materias.values()), \n",
    "    'Promedio': sum(materias.values())/len(materias)\n",
    "        } \n",
    "    for estudiante, materias in calificaciones.items()}\n",
    "print(calificaciones)"
   ]
  },
  {
   "cell_type": "code",
   "execution_count": 39,
   "metadata": {},
   "outputs": [
    {
     "name": "stdout",
     "output_type": "stream",
     "text": [
      " El mejor estudiante es: Sofía Martínez\n"
     ]
    }
   ],
   "source": [
    "mejor_estudiante = max(calificaciones, key=lambda x: calificaciones[x]['Promedio'])\n",
    "print(f' El mejor estudiante es: {mejor_estudiante}')"
   ]
  },
  {
   "cell_type": "code",
   "execution_count": 36,
   "metadata": {},
   "outputs": [
    {
     "name": "stdout",
     "output_type": "stream",
     "text": [
      "Calificaciones_actualizadas: \n",
      "Juan Pérez: {'Total': 76.5, 'Promedio': 38.25}\n",
      "María García: {'Total': 83.4, 'Promedio': 41.7}\n",
      "Pedro Rodríguez: {'Total': 72.6, 'Promedio': 36.3}\n",
      "Sofía Martínez: {'Total': 84.0, 'Promedio': 42.0}\n",
      "Luis Hernández: {'Total': 72.0, 'Promedio': 36.0}\n"
     ]
    }
   ],
   "source": [
    "print('Calificaciones_actualizadas: ')\n",
    "for estudiante, calificacion in calificaciones.items():\n",
    "    print(f'{estudiante}: {calificacion}')"
   ]
  },
  {
   "cell_type": "markdown",
   "metadata": {},
   "source": [
    "## Crear un diccionario que almacene los siguientes datos, realizar las siguientes operaciones: \n",
    "\n",
    "-Encontrar el estado de una interfaz determinada \n",
    "\n",
    "-Encuentra la interfaz y la IP de todas las interfaces que están activas.\n",
    "\n",
    "-Encuentra el número total de interfaces \n",
    "\n",
    "-Añadir dos nuevas entradas al diccionario"
   ]
  },
  {
   "cell_type": "code",
   "execution_count": 52,
   "metadata": {},
   "outputs": [],
   "source": [
    "data = {\n",
    "    'Interface: eth0': {'IP': '1.1.1.1', 'add': 'up'},\n",
    "    'Interface: eth1': {'IP': '2.2.2.2', 'add': 'up'},\n",
    "    'Interface: wlan0': {'IP': '3.3.3.3', 'add': 'down'},\n",
    "    'Interface: wlan1': {'IP': '4.4.4.4', 'add': 'up'}\n",
    "    }"
   ]
  },
  {
   "cell_type": "code",
   "execution_count": 46,
   "metadata": {},
   "outputs": [
    {
     "name": "stdout",
     "output_type": "stream",
     "text": [
      "up\n"
     ]
    }
   ],
   "source": [
    "# Encontrar el estado de la interfaz determinada: \n",
    "def get_interface_status(data, interface):\n",
    "    for key, value in data.items():\n",
    "        if interface in key:\n",
    "            return value['add']\n",
    "    return None\n",
    "    \n",
    "print(get_interface_status(data, 'eth0'))"
   ]
  },
  {
   "cell_type": "code",
   "execution_count": 48,
   "metadata": {},
   "outputs": [
    {
     "name": "stdout",
     "output_type": "stream",
     "text": [
      "up\n"
     ]
    }
   ],
   "source": [
    "# Encontrar el estado de la interfaz determinada:   \n",
    "interface_estado = lambda interface: data.get(interface, {}).get('add')\n",
    "\n",
    "print(interface_estado('Interface: eth0'))"
   ]
  },
  {
   "cell_type": "code",
   "execution_count": 53,
   "metadata": {},
   "outputs": [
    {
     "name": "stdout",
     "output_type": "stream",
     "text": [
      "[('Interface: eth0', '1.1.1.1'), ('Interface: eth1', '2.2.2.2'), ('Interface: wlan1', '4.4.4.4')]\n"
     ]
    }
   ],
   "source": [
    "#LA INTERFAZ y la IP de todas las interfaces que estan activas \n",
    "interfaz_activas = lambda: [(k, v['IP']) for k, v in data.items() if v['add']== 'up']\n",
    "print(interfaz_activas())\n"
   ]
  },
  {
   "cell_type": "code",
   "execution_count": 55,
   "metadata": {},
   "outputs": [
    {
     "name": "stdout",
     "output_type": "stream",
     "text": [
      "Total de interfaces: 4\n"
     ]
    }
   ],
   "source": [
    "#Encontrar el número total de interfaces \n",
    "\n",
    "total_interfaces = lambda: len(data)\n",
    "print(f\"Total de interfaces: {total_interfaces()}\")"
   ]
  },
  {
   "cell_type": "code",
   "execution_count": 56,
   "metadata": {},
   "outputs": [
    {
     "name": "stdout",
     "output_type": "stream",
     "text": [
      "{'Interface: eth0': {'IP': '1.1.1.1', 'add': 'up'}, 'Interface: eth1': {'IP': '2.2.2.2', 'add': 'up'}, 'Interface: wlan0': {'IP': '3.3.3.3', 'add': 'down'}, 'Interface: wlan1': {'IP': '4.4.4.4', 'add': 'up'}, 'Interface : eth2': {'IP': '5.5.5.5', 'add': 'up'}, 'Interface : wlan2': {'IP': '6.6.6.6', 'add': 'down'}}\n"
     ]
    }
   ],
   "source": [
    "data.update({\n",
    "    'Interface : eth2': {'IP': '5.5.5.5', 'add': 'up'},\n",
    "    'Interface : wlan2': {'IP': '6.6.6.6', 'add': 'down'}\n",
    "})\n",
    "\n",
    "print(data)"
   ]
  },
  {
   "cell_type": "markdown",
   "metadata": {},
   "source": [
    "## 3. Crear un diccionario de 10 nombres de usuario y contraseñas. El programa recibe el nombre de usuario y la contraseña por el teclado y luego los busca en el diccionario. Imprima el mensaje apropiado en la pantalla en función de si se encuentra una coincidencia o no. "
   ]
  },
  {
   "cell_type": "code",
   "execution_count": 63,
   "metadata": {},
   "outputs": [],
   "source": [
    "users = {\n",
    "    'user1': 'password1',\n",
    "    'user2': 'password2',\n",
    "    'user3': 'password3',\n",
    "    'user4': 'password4',\n",
    "    'user5': 'password5',\n",
    "    'user6': 'password6',\n",
    "    'user7': 'password7',\n",
    "    'user8': 'password8',\n",
    "    'user9': 'password9',\n",
    "    'user10': 'password10'\n",
    "}\n"
   ]
  },
  {
   "cell_type": "code",
   "execution_count": 64,
   "metadata": {},
   "outputs": [
    {
     "name": "stdout",
     "output_type": "stream",
     "text": [
      "Lo sentimos, no coincide su contraseña o user\n"
     ]
    }
   ],
   "source": [
    "find_user = lambda username, password: username in users and users[username] == password\n",
    "\n",
    "username = input('Ingrese su nombre de usuario: ')\n",
    "password = input('Ingrese su contraseña: ')\n",
    "\n",
    "if find_user(username, password):\n",
    "    print('Bienvenido! LA contraseña es correcta')\n",
    "else:\n",
    "    print('Lo sentimos, no coincide su contraseña o user')"
   ]
  },
  {
   "cell_type": "markdown",
   "metadata": {},
   "source": [
    " ## 4. Escribe un programa en Python que imprima un diccionario donde las claves sean números entre 1 y 15 (ambos incluidos) y los valores sean los cuadrados de sus claves respectivas.\n",
    " "
   ]
  },
  {
   "cell_type": "code",
   "execution_count": 65,
   "metadata": {},
   "outputs": [
    {
     "name": "stdout",
     "output_type": "stream",
     "text": [
      "{1: 1, 2: 4, 3: 9, 4: 16, 5: 25, 6: 36, 7: 49, 8: 64, 9: 81, 10: 100, 11: 121, 12: 144, 13: 169, 14: 196, 15: 225}\n"
     ]
    }
   ],
   "source": [
    "sqr_dict = {i: i**2 for i in range(1, 16)}\n",
    "\n",
    "print(sqr_dict)"
   ]
  },
  {
   "cell_type": "markdown",
   "metadata": {},
   "source": [
    "## 5. Escribe un programa en Python que imprima  la suma todos los valores de un diccionario. Puede utilizar números enteros  para los pares clave:valor"
   ]
  },
  {
   "cell_type": "code",
   "execution_count": 70,
   "metadata": {},
   "outputs": [
    {
     "name": "stdout",
     "output_type": "stream",
     "text": [
      "El diccionario es: {1: 3, 2: 4, 3: 5, 4: 6, 5: 7, 6: 8, 7: 9}\n",
      " la suma de sus valores es: 42\n"
     ]
    }
   ],
   "source": [
    "diccionario = {i: i+2 for i in range (1,8)}\n",
    "\n",
    "print(f'El diccionario es: {diccionario}')\n",
    "print(f' la suma de sus valores es: {sum(diccionario.values())}')"
   ]
  },
  {
   "cell_type": "markdown",
   "metadata": {},
   "source": [
    "## 6. Programa en python que multiplique todos los valores de un diccionario. Puede utilizar numeros enteros para los pares clave-valor."
   ]
  },
  {
   "cell_type": "code",
   "execution_count": 73,
   "metadata": {},
   "outputs": [
    {
     "name": "stdout",
     "output_type": "stream",
     "text": [
      "El diccionario es: {1: 6, 2: 7, 3: 8, 4: 9, 5: 10, 6: 11, 7: 12}\n",
      " la multiplicación de sus valores es: 3991680\n"
     ]
    }
   ],
   "source": [
    "import math\n",
    "\n",
    "diccionario = {i: i+5 for i in range (1,8)}\n",
    "\n",
    "print(f'El diccionario es: {diccionario}')\n",
    "print(f' la multiplicación de sus valores es: {math.prod(diccionario.values())}')"
   ]
  },
  {
   "cell_type": "markdown",
   "metadata": {},
   "source": [
    "## 7. Programa que cuente la contidad de valores (values) que contiene cada clave  (key) del diccionario. El valor (o valores) de cada clave están guardados en una lista."
   ]
  },
  {
   "cell_type": "code",
   "execution_count": 80,
   "metadata": {},
   "outputs": [
    {
     "name": "stdout",
     "output_type": "stream",
     "text": [
      "{'clave_1': [1, 2], 'clave_2': [5, 7, 8], 'clave_3': [9, 2, 5, 3]}\n",
      "---------------------------------\n",
      "La cantidad de values que tiene el diccionario: 9\n"
     ]
    }
   ],
   "source": [
    "dccio = {'clave_1': [1, 2], 'clave_2': [5, 7, 8], 'clave_3': [9, 2, 5, 3]}\n",
    "print(dccio)\n",
    "print('---------------------------------')\n",
    "print(f'La cantidad de values que tiene el diccionario: ' \n",
    "      f'{sum(len(value) for value in dccio.values())}')\n"
   ]
  },
  {
   "cell_type": "code",
   "execution_count": 81,
   "metadata": {},
   "outputs": [
    {
     "name": "stdout",
     "output_type": "stream",
     "text": [
      "La clave clave_1 tiene 2 valores: [1, 2]\n",
      "La clave clave_2 tiene 3 valores: [5, 7, 8]\n",
      "La clave clave_3 tiene 4 valores: [9, 2, 5, 3]\n"
     ]
    }
   ],
   "source": [
    "for key, value  in dccio.items():\n",
    "    print(f\"La clave {key} tiene {len(value)} valores: {value}\")"
   ]
  },
  {
   "cell_type": "markdown",
   "metadata": {},
   "source": [
    "## 8. Programa que ordene los elementos de una lista (contenida como valores en un diccionario) alfabéticamente. "
   ]
  },
  {
   "cell_type": "code",
   "execution_count": 7,
   "metadata": {},
   "outputs": [],
   "source": [
    "profes = {'Math': ['Julia', 'Miguel', 'Francisco', 'Edu', 'Gael'],\n",
    "          'Physics': ['Antonio', 'Ade', 'Gin'],\n",
    "          'Chemistry': ['Rosa', 'Adela']}"
   ]
  },
  {
   "cell_type": "code",
   "execution_count": 10,
   "metadata": {},
   "outputs": [
    {
     "name": "stdout",
     "output_type": "stream",
     "text": [
      "La clave 'Math' tiene 5 elementos en el siguiente orden: ['Edu', 'Francisco', 'Gael', 'Julia', 'Miguel']\n",
      "La clave 'Physics' tiene 3 elementos en el siguiente orden: ['Ade', 'Antonio', 'Gin']\n",
      "La clave 'Chemistry' tiene 2 elementos en el siguiente orden: ['Adela', 'Rosa']\n"
     ]
    }
   ],
   "source": [
    "for key, value in profes.items():\n",
    "    ordenada = sorted(value)\n",
    "    print(f\"La clave '{key}' tiene {len(value)} elementos en el siguiente orden: {ordenada}\")"
   ]
  },
  {
   "cell_type": "markdown",
   "metadata": {},
   "source": [
    "## 9. PRograma que combine dos diccionarios en uno solo sumando los valores de aquellas claves que estén repetidas en dicho diccionario. "
   ]
  },
  {
   "cell_type": "code",
   "execution_count": 11,
   "metadata": {},
   "outputs": [],
   "source": [
    "d1 = {'a': 100, 'b': 400, 'c': 300}\n",
    "d2 = {'a': 300, 'b': 200, 'd': 400}"
   ]
  },
  {
   "cell_type": "code",
   "execution_count": 13,
   "metadata": {},
   "outputs": [
    {
     "name": "stdout",
     "output_type": "stream",
     "text": [
      "{'a': 400, 'c': 300, 'd': 400, 'b': 600}\n"
     ]
    }
   ],
   "source": [
    "result = {}\n",
    "for key in set(list(d1.keys()) + list(d2.keys())):\n",
    "    result[key] = d1.get(key, 0) + d2.get(key, 0)\n",
    "\n",
    "print(result)"
   ]
  }
 ],
 "metadata": {
  "kernelspec": {
   "display_name": "Python 3",
   "language": "python",
   "name": "python3"
  },
  "language_info": {
   "codemirror_mode": {
    "name": "ipython",
    "version": 3
   },
   "file_extension": ".py",
   "mimetype": "text/x-python",
   "name": "python",
   "nbconvert_exporter": "python",
   "pygments_lexer": "ipython3",
   "version": "3.11.7"
  }
 },
 "nbformat": 4,
 "nbformat_minor": 2
}
