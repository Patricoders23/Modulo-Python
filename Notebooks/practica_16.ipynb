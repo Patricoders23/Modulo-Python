{
 "cells": [
  {
   "cell_type": "markdown",
   "metadata": {},
   "source": [
    "## 1) Desarrolle un programa que le pregunte al usuario por la edad y que luego imprima en pantalla si dicho usuario es menor o mayor de edad"
   ]
  },
  {
   "cell_type": "code",
   "execution_count": 5,
   "metadata": {},
   "outputs": [
    {
     "name": "stdout",
     "output_type": "stream",
     "text": [
      "Ingreso la edad de: 8. --> Es menor de edad\n"
     ]
    }
   ],
   "source": [
    "edad = int(input('Ingrese su edad: '))\n",
    "\n",
    "if edad <= 18:\n",
    "    print (f'Ingreso la edad de: {edad}. --> Es menor de edad')\n",
    "else:\n",
    "    print(f'Ingreso la edad de: {edad}. --> Es mayor de edad')"
   ]
  },
  {
   "cell_type": "markdown",
   "metadata": {},
   "source": [
    "## 2) Escribir un programa que pida al usuario un número entero y que luego imprima en pantalla si dicho número es o no divisible entre 2."
   ]
  },
  {
   "cell_type": "code",
   "execution_count": 10,
   "metadata": {},
   "outputs": [
    {
     "name": "stdout",
     "output_type": "stream",
     "text": [
      "Ingresó el número: 7. --> No divisible entre 2\n"
     ]
    }
   ],
   "source": [
    "entero = int(input('Ingrese un número entero: '))\n",
    "\n",
    "if entero%2 == 0:\n",
    "    print (f'Ingresó el número: {entero}. --> Es divisible entre 2')\n",
    "else:\n",
    "    print(f'Ingresó el número: {entero}. --> No divisible entre 2')\n"
   ]
  },
  {
   "cell_type": "markdown",
   "metadata": {},
   "source": [
    "## 3) Escriba un programa que pida al usuario dos números enteros y que calcule su división, indicando si la división es exacta o no.\n"
   ]
  },
  {
   "cell_type": "code",
   "execution_count": 14,
   "metadata": {},
   "outputs": [
    {
     "name": "stdout",
     "output_type": "stream",
     "text": [
      "La división entre 11 y 4. --> NO es exacta\n"
     ]
    }
   ],
   "source": [
    "ent1 = int(input('Ingrese un número entero: '))\n",
    "ent2 = int(input('Ingrese otro número entero: '))\n",
    "\n",
    "if ent1 % ent2 == 0:\n",
    "    print (f'La división entre {ent1} y {ent2}. --> Es exacta')\n",
    "else:\n",
    "    print (f'La división entre {ent1} y {ent2}. --> NO es exacta')"
   ]
  },
  {
   "cell_type": "markdown",
   "metadata": {},
   "source": [
    "## Ejercicio adicional: \n",
    "\n",
    "Dada una variable llamada “year “ con un valor entero, compruebe si dicho año es bisiesto o no lo es. Un año\n",
    " es bisiesto en el Calendario Gregorian, si es divisible entre 4 y no divisible entre 100, o bien si es divisible \n",
    "entre 400.\n",
    "Ejemplo:\n",
    "Entrada: 2008\n",
    "Salida: Es un año bisiesto\n",
    "Usar solo el condicional if (no usar funciones)"
   ]
  },
  {
   "cell_type": "code",
   "execution_count": 20,
   "metadata": {},
   "outputs": [
    {
     "name": "stdout",
     "output_type": "stream",
     "text": [
      "El año que ingreso fue 2000, por lo tanto es año Bisiesto!!\n"
     ]
    }
   ],
   "source": [
    "year = int(input('Ingrese un año: '))\n",
    "\n",
    "if (year % 4 == 0 and year % 100 != 0) or (year % 400 == 0):\n",
    "    print(f'El año que ingreso fue {year}, por lo tanto es año Bisiesto!!')\n",
    "else:\n",
    "    print(f'El año que ingreso fue {year}, por lo tanto NO es año Bisiesto') "
   ]
  }
 ],
 "metadata": {
  "kernelspec": {
   "display_name": "Curso_Python",
   "language": "python",
   "name": "python3"
  },
  "language_info": {
   "codemirror_mode": {
    "name": "ipython",
    "version": 3
   },
   "file_extension": ".py",
   "mimetype": "text/x-python",
   "name": "python",
   "nbconvert_exporter": "python",
   "pygments_lexer": "ipython3",
   "version": "3.11.9"
  }
 },
 "nbformat": 4,
 "nbformat_minor": 2
}
