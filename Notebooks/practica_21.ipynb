{
 "cells": [
  {
   "cell_type": "markdown",
   "metadata": {},
   "source": [
    "## Ejercicios de la clase "
   ]
  },
  {
   "cell_type": "code",
   "execution_count": 40,
   "metadata": {},
   "outputs": [],
   "source": [
    "portero = 'Casillas'\n",
    "\n",
    "defensas = ['Capdevila', 'Piqué', ' Puyol ', 'Ramos' ]\n",
    "\n",
    "mediocampistas = ['Xavi', 'Busquets', 'X.Alonso']\n",
    "\n",
    "delanteros = [ 'Iniesta', 'Villa', 'Pedro']"
   ]
  },
  {
   "cell_type": "code",
   "execution_count": 41,
   "metadata": {},
   "outputs": [
    {
     "data": {
      "text/plain": [
       "['Casillas',\n",
       " ['Capdevila', 'Piqué', ' Puyol ', 'Ramos'],\n",
       " ['Xavi', 'Busquets', 'X.Alonso'],\n",
       " ['Iniesta', 'Villa', 'Pedro']]"
      ]
     },
     "execution_count": 41,
     "metadata": {},
     "output_type": "execute_result"
    }
   ],
   "source": [
    "equipo = [portero, defensas, mediocampistas, delanteros]\n",
    "equipo"
   ]
  },
  {
   "cell_type": "code",
   "execution_count": 42,
   "metadata": {},
   "outputs": [
    {
     "data": {
      "text/plain": [
       "['Capdevila', 'Piqué', ' Puyol ', 'Ramos']"
      ]
     },
     "execution_count": 42,
     "metadata": {},
     "output_type": "execute_result"
    }
   ],
   "source": [
    "equipo [1]"
   ]
  },
  {
   "cell_type": "code",
   "execution_count": 43,
   "metadata": {},
   "outputs": [
    {
     "data": {
      "text/plain": [
       "'Capdevila'"
      ]
     },
     "execution_count": 43,
     "metadata": {},
     "output_type": "execute_result"
    }
   ],
   "source": [
    "equipo [1][0]"
   ]
  },
  {
   "cell_type": "code",
   "execution_count": 44,
   "metadata": {},
   "outputs": [
    {
     "name": "stdout",
     "output_type": "stream",
     "text": [
      "None\n",
      "None\n",
      "None\n",
      "22\n",
      "22\n",
      "None\n",
      "1\n"
     ]
    }
   ],
   "source": [
    "lst = [12, 15, 13, 23, 22, 16, 17]\n",
    "print(lst.append(22))\n",
    "print(lst.remove(13))\n",
    "print(lst.remove(17))\n",
    "\n",
    "print(lst.pop()) # remueve el último ítem de la lista\n",
    "print(lst.pop(3)) # remueve eL tercer ítem de la Lista\n",
    "print(lst.insert(3,21))\n",
    "print(lst.count(23)) # deuveLve el número de veces que aparece el numero 23 en La Lista\n",
    "\n",
    "idx = lst.index(23) # retorna el índice del ítem\n",
    "idx1 = lst.index(12) # retorna un valueError dado que eL 5e no se encuentra en la Lista"
   ]
  },
  {
   "cell_type": "markdown",
   "metadata": {},
   "source": [
    "# LISTAS POR COMPRENSIÓN"
   ]
  },
  {
   "cell_type": "markdown",
   "metadata": {},
   "source": [
    "![Texto alternativo](./imagenes/listas_comprensión.PNG)"
   ]
  },
  {
   "cell_type": "code",
   "execution_count": 45,
   "metadata": {},
   "outputs": [],
   "source": [
    "valores = '32,45,11,87,20,48'\n",
    "enteros = []\n",
    "\n",
    "for valor in valores.split(','):\n",
    "    valor_entero = int(valor)\n",
    "    enteros.append(valor_entero)"
   ]
  },
  {
   "cell_type": "code",
   "execution_count": 46,
   "metadata": {},
   "outputs": [
    {
     "data": {
      "text/plain": [
       "[32, 45, 11, 87, 20, 48]"
      ]
     },
     "execution_count": 46,
     "metadata": {},
     "output_type": "execute_result"
    }
   ],
   "source": [
    "enteros"
   ]
  },
  {
   "cell_type": "code",
   "execution_count": 47,
   "metadata": {},
   "outputs": [
    {
     "data": {
      "text/plain": [
       "[32, 45, 11, 87, 20, 48]"
      ]
     },
     "execution_count": 47,
     "metadata": {},
     "output_type": "execute_result"
    }
   ],
   "source": [
    "#Utilizamos una lista por comprensión: \n",
    "valores = '32,45,11,87,20,48'\n",
    "enteros = [int(valor) for valor in valores.split(',')]\n",
    "enteros"
   ]
  },
  {
   "cell_type": "markdown",
   "metadata": {},
   "source": [
    "![Texto alternativo](./imagenes/Comprehension.PNG)\n"
   ]
  },
  {
   "cell_type": "markdown",
   "metadata": {},
   "source": [
    "### Condiciones en comprensiones "
   ]
  },
  {
   "cell_type": "code",
   "execution_count": 48,
   "metadata": {},
   "outputs": [],
   "source": [
    "values = '32,45,11,87,20,48'\n",
    "int_values = [int(v) for v in values.split(',') if v.startswith('4')]"
   ]
  },
  {
   "cell_type": "code",
   "execution_count": 49,
   "metadata": {},
   "outputs": [
    {
     "data": {
      "text/plain": [
       "[45, 48]"
      ]
     },
     "execution_count": 49,
     "metadata": {},
     "output_type": "execute_result"
    }
   ],
   "source": [
    "int_values"
   ]
  },
  {
   "cell_type": "markdown",
   "metadata": {},
   "source": [
    "### Anidamiento en comprensiones "
   ]
  },
  {
   "cell_type": "code",
   "execution_count": 50,
   "metadata": {},
   "outputs": [],
   "source": [
    "# Es posible usar bucles anidados\n",
    "\n",
    "valores = '32,45,11,87,20,48'\n",
    "svalores=valores.split(',')\n",
    "\n",
    "combinaciones = [f'{v1}x{v2}' for v1, v2 in svalores]"
   ]
  },
  {
   "cell_type": "code",
   "execution_count": 51,
   "metadata": {},
   "outputs": [
    {
     "data": {
      "text/plain": [
       "['3x2', '4x5', '1x1', '8x7', '2x0', '4x8']"
      ]
     },
     "execution_count": 51,
     "metadata": {},
     "output_type": "execute_result"
    }
   ],
   "source": [
    "combinaciones"
   ]
  },
  {
   "cell_type": "code",
   "execution_count": 52,
   "metadata": {},
   "outputs": [
    {
     "name": "stdout",
     "output_type": "stream",
     "text": [
      "[1, 6, 11, 16, 21, 26, 31, 36, 41, 46, 51, 56, 61, 66, 71, 76, 81, 86, 91, 96, 101, 106, 111, 116]\n"
     ]
    }
   ],
   "source": [
    "resultado = [5*x + 1 for x in range(24)]\n",
    "print(resultado)"
   ]
  },
  {
   "cell_type": "markdown",
   "metadata": {},
   "source": [
    "### Funciones Matemáticas"
   ]
  },
  {
   "cell_type": "code",
   "execution_count": 53,
   "metadata": {},
   "outputs": [
    {
     "data": {
      "text/plain": [
       "28"
      ]
     },
     "execution_count": 53,
     "metadata": {},
     "output_type": "execute_result"
    }
   ],
   "source": [
    "#Suma de data\n",
    "data = [5, 3, 2, 8, 9, 1]\n",
    "sum(data)"
   ]
  },
  {
   "cell_type": "code",
   "execution_count": 54,
   "metadata": {},
   "outputs": [
    {
     "name": "stdout",
     "output_type": "stream",
     "text": [
      "1\n",
      "9\n"
     ]
    }
   ],
   "source": [
    "print(min(data))\n",
    "print(max(data))"
   ]
  },
  {
   "cell_type": "markdown",
   "metadata": {},
   "source": [
    "### Listas de listas "
   ]
  },
  {
   "cell_type": "code",
   "execution_count": 55,
   "metadata": {},
   "outputs": [],
   "source": [
    "portero = 'Casillas'\n",
    "defensas = ['Capdevila', 'Piqué', ' Puyol' , 'Ramos']\n",
    "mediocampistas = ['Xavi', 'Busquets' , 'X-Alonso']\n",
    "delanteros = ['Iniesta' , 'Villa', 'Pedro'] "
   ]
  },
  {
   "cell_type": "code",
   "execution_count": 56,
   "metadata": {},
   "outputs": [
    {
     "data": {
      "text/plain": [
       "['Casillas',\n",
       " ['Capdevila', 'Piqué', ' Puyol', 'Ramos'],\n",
       " ['Xavi', 'Busquets', 'X-Alonso'],\n",
       " ['Iniesta', 'Villa', 'Pedro']]"
      ]
     },
     "execution_count": 56,
     "metadata": {},
     "output_type": "execute_result"
    }
   ],
   "source": [
    "equipo = [portero, defensas, mediocampistas, delanteros]\n",
    "equipo"
   ]
  },
  {
   "cell_type": "code",
   "execution_count": 57,
   "metadata": {},
   "outputs": [
    {
     "data": {
      "text/plain": [
       "'Capdevila'"
      ]
     },
     "execution_count": 57,
     "metadata": {},
     "output_type": "execute_result"
    }
   ],
   "source": [
    "equipo[1][0] #primer defensa"
   ]
  },
  {
   "cell_type": "code",
   "execution_count": 58,
   "metadata": {},
   "outputs": [
    {
     "data": {
      "text/plain": [
       "'Casillas'"
      ]
     },
     "execution_count": 58,
     "metadata": {},
     "output_type": "execute_result"
    }
   ],
   "source": [
    "equipo[0] #portero"
   ]
  },
  {
   "cell_type": "code",
   "execution_count": 59,
   "metadata": {},
   "outputs": [
    {
     "data": {
      "text/plain": [
       "['Xavi', 'Busquets', 'X-Alonso']"
      ]
     },
     "execution_count": 59,
     "metadata": {},
     "output_type": "execute_result"
    }
   ],
   "source": [
    "equipo[2] #mediocampistas"
   ]
  },
  {
   "cell_type": "markdown",
   "metadata": {},
   "source": [
    "### Ejercicio # 4 Escriba un programa que permita multiplicar matrices de 2 filas por 2 columnas."
   ]
  },
  {
   "cell_type": "code",
   "execution_count": 60,
   "metadata": {},
   "outputs": [
    {
     "name": "stdout",
     "output_type": "stream",
     "text": [
      "La matriz A es:\n",
      "[6, 4]\n",
      "[8, 9]\n",
      "La matriz B es:\n",
      "[3, 2]\n",
      "[1, 7]\n",
      "La matriz resultado es:\n",
      "[22, 40]\n",
      "[33, 79]\n"
     ]
    }
   ],
   "source": [
    "A = [[6, 4], [8, 9]]\n",
    "B = [[3, 2], [1, 7]]\n",
    "\n",
    "if len(A)!= 2 or len(A[0])!= 2 or len(B)!= 2 or len(B[0])!= 2:\n",
    "    print(\"Error: Las matrices deben tener 2 filas y 2 columnas\")\n",
    "else:\n",
    "    C = [[A[0][0]*B[0][0] + A[0][1]*B[1][0], A[0][0]*B[0][1] + A[0][1]*B[1][1]],\n",
    "         [A[1][0]*B[0][0] + A[1][1]*B[1][0], A[1][0]*B[0][1] + A[1][1]*B[1][1]]]\n",
    "\n",
    "    print(\"La matriz A es:\")\n",
    "    for fila in A:\n",
    "        print(fila)\n",
    "    print(\"La matriz B es:\")\n",
    "    for fila in B:\n",
    "        print(fila)\n",
    "    print(\"La matriz resultado es:\")\n",
    "    for fila in C:\n",
    "        print(fila)"
   ]
  },
  {
   "cell_type": "markdown",
   "metadata": {},
   "source": [
    "# TUPLAS  \n",
    "\n",
    "---> Son inmutables "
   ]
  },
  {
   "cell_type": "code",
   "execution_count": 61,
   "metadata": {},
   "outputs": [],
   "source": [
    "empty_tuple = ()\n",
    "\n",
    "tenerif_geolog = (28.3534, -16.23534)\n",
    "three_wise_men = ('Melchor', 'Gaspar', 'Baltasar')"
   ]
  },
  {
   "cell_type": "code",
   "execution_count": 62,
   "metadata": {},
   "outputs": [
    {
     "ename": "TypeError",
     "evalue": "'tuple' object does not support item assignment",
     "output_type": "error",
     "traceback": [
      "\u001b[1;31m---------------------------------------------------------------------------\u001b[0m",
      "\u001b[1;31mTypeError\u001b[0m                                 Traceback (most recent call last)",
      "Cell \u001b[1;32mIn[62], line 2\u001b[0m\n\u001b[0;32m      1\u001b[0m \u001b[38;5;66;03m#Modificando Tuplas \u001b[39;00m\n\u001b[1;32m----> 2\u001b[0m \u001b[43mthree_wise_men\u001b[49m\u001b[43m[\u001b[49m\u001b[38;5;241;43m0\u001b[39;49m\u001b[43m]\u001b[49m\u001b[38;5;241m=\u001b[39m \u001b[38;5;124m'\u001b[39m\u001b[38;5;124mTom Hanks\u001b[39m\u001b[38;5;124m'\u001b[39m\n",
      "\u001b[1;31mTypeError\u001b[0m: 'tuple' object does not support item assignment"
     ]
    }
   ],
   "source": [
    "#Modificando Tuplas ---> NO SE PUEDE SON INMUTABLES \n",
    "three_wise_men[0]= 'Tom Hanks'"
   ]
  },
  {
   "cell_type": "code",
   "execution_count": 1,
   "metadata": {},
   "outputs": [
    {
     "data": {
      "text/plain": [
       "('agua', 'aceite', 'arroz')"
      ]
     },
     "execution_count": 1,
     "metadata": {},
     "output_type": "execute_result"
    }
   ],
   "source": [
    "#De lista la convierto a tupla\n",
    "shop = ['agua', 'aceite', 'arroz']\n",
    "tuple(shop)"
   ]
  },
  {
   "cell_type": "code",
   "execution_count": 4,
   "metadata": {},
   "outputs": [
    {
     "name": "stdout",
     "output_type": "stream",
     "text": [
      "Melchor\n",
      "Gaspar\n",
      "Baltasar\n"
     ]
    }
   ],
   "source": [
    "#Desempaquetado de tuplas\n",
    "\n",
    "a = ('Melchor', 'Gaspar', 'Baltasar')\n",
    "\n",
    "king1, king2, king3 = a\n",
    "\n",
    "print(king1)\n",
    "print(king2)\n",
    "print(king3)\n",
    "\n"
   ]
  },
  {
   "cell_type": "markdown",
   "metadata": {},
   "source": [
    "### Intercambio de valores "
   ]
  },
  {
   "cell_type": "code",
   "execution_count": 5,
   "metadata": {},
   "outputs": [
    {
     "name": "stdout",
     "output_type": "stream",
     "text": [
      "El valor de valor1 antes de intercambiar: 40\n",
      "El valor de valor1 después de intercambiar: 20\n"
     ]
    }
   ],
   "source": [
    "valores = (40,20)\n",
    "valor1, valor2 = valores \n",
    "print(f'El valor de valor1 antes de intercambiar: {valor1}')\n",
    "\n",
    "valor1, valor2 = valor2, valor1\n",
    "print(f'El valor de valor1 después de intercambiar: {valor1}')"
   ]
  },
  {
   "cell_type": "markdown",
   "metadata": {},
   "source": [
    "### Desempaquetado extendido"
   ]
  },
  {
   "cell_type": "code",
   "execution_count": 14,
   "metadata": {},
   "outputs": [
    {
     "name": "stdout",
     "output_type": "stream",
     "text": [
      "Desempaqueto a la tupla asignandole una variable, head: \n",
      "G\n",
      "\n",
      "\n",
      "Desempaqueto el body de la tupla asignandole una variable, body: ['A', 'R', 'R']\n",
      "\n",
      "Desempaqueto el último valor de la tupla asignandole una variable, tail: Y\n"
     ]
    },
    {
     "data": {
      "text/plain": [
       "['A', 'R', 'R']"
      ]
     },
     "execution_count": 14,
     "metadata": {},
     "output_type": "execute_result"
    }
   ],
   "source": [
    "ranking = ('G', 'A', 'R', 'R', 'Y')\n",
    "\n",
    "\n",
    "head, *body, tail = ranking \n",
    "\n",
    "\n",
    "\n",
    "print(f'Desempaqueto a la tupla asignandole una variable, head: \\n{head}\\n')\n",
    "\n",
    "\n",
    "print(f'\\nDesempaqueto el body de la tupla asignandole una variable, body: {body}')\n",
    "\n",
    "\n",
    "print(f'\\nDesempaqueto el último valor de la tupla asignandole una variable, tail: {tail}')\n"
   ]
  },
  {
   "cell_type": "markdown",
   "metadata": {},
   "source": [
    "### Desempaquetado genérico"
   ]
  },
  {
   "cell_type": "code",
   "execution_count": 16,
   "metadata": {},
   "outputs": [
    {
     "data": {
      "text/plain": [
       "('O', '2')"
      ]
     },
     "execution_count": 16,
     "metadata": {},
     "output_type": "execute_result"
    }
   ],
   "source": [
    "#Sobre cadenas de texto\n",
    "oxygen = 'O2'\n",
    "\n",
    "first , last = oxygen\n",
    "first, last"
   ]
  },
  {
   "cell_type": "code",
   "execution_count": 18,
   "metadata": {},
   "outputs": [
    {
     "data": {
      "text/plain": [
       "('H', ['e', 'l', 'l', 'o', ' ', 'W', 'o', 'r', 'l', 'd'], '!')"
      ]
     },
     "execution_count": 18,
     "metadata": {},
     "output_type": "execute_result"
    }
   ],
   "source": [
    "text = 'Hello World!'\n",
    "head, *body, tail = text \n",
    "head, body, tail "
   ]
  },
  {
   "cell_type": "code",
   "execution_count": 19,
   "metadata": {},
   "outputs": [
    {
     "data": {
      "text/plain": [
       "('Virginia Wolf', 'Jane Austen', 'Mary Shelly')"
      ]
     },
     "execution_count": 19,
     "metadata": {},
     "output_type": "execute_result"
    }
   ],
   "source": [
    "# Sobre Listas:\n",
    "\n",
    "writer1, writer2, writer3 = ['Virginia Wolf', 'Jane Austen', 'Mary Shelly']\n",
    "writer1, writer2, writer3 "
   ]
  },
  {
   "cell_type": "code",
   "execution_count": 20,
   "metadata": {},
   "outputs": [
    {
     "data": {
      "text/plain": [
       "('Hello,', 'World!')"
      ]
     },
     "execution_count": 20,
     "metadata": {},
     "output_type": "execute_result"
    }
   ],
   "source": [
    "text  = 'Hello, World!'\n",
    "word1, word2 = text.split()\n",
    "word1, word2"
   ]
  },
  {
   "cell_type": "markdown",
   "metadata": {},
   "source": [
    "### Concatenación con Tuplas "
   ]
  },
  {
   "cell_type": "code",
   "execution_count": 22,
   "metadata": {},
   "outputs": [
    {
     "name": "stdout",
     "output_type": "stream",
     "text": [
      "Tuple1: \n",
      "(0, 1, 2, 3)\n",
      "\n",
      "Tuple2: \n",
      "('Geeks', 'For', 'Geeks')\n",
      "\n",
      "Tuples después de la concatenación: \n",
      "(0, 1, 2, 3, 'Geeks', 'For', 'Geeks')\n"
     ]
    }
   ],
   "source": [
    "Tuple1=(0,1,2,3)\n",
    "Tuple2=('Geeks','For', 'Geeks')\n",
    "\n",
    "Tuple3 = Tuple1 + Tuple2\n",
    "\n",
    "print('Tuple1: ')\n",
    "print(Tuple1)\n",
    "\n",
    "print('\\nTuple2: ')\n",
    "print(Tuple2)\n",
    "\n",
    "\n",
    "print('\\nTuples después de la concatenación: ')\n",
    "print(Tuple3)"
   ]
  },
  {
   "cell_type": "markdown",
   "metadata": {},
   "source": [
    "# PRACTICA 21_ página 93 "
   ]
  },
  {
   "cell_type": "markdown",
   "metadata": {},
   "source": [
    "## l. Crea una tupla con números enteros con algunos de ellos repetidos, pide un numero por teclado e indica cuantas veces se repite si estuviese en la tupla."
   ]
  },
  {
   "cell_type": "code",
   "execution_count": 26,
   "metadata": {},
   "outputs": [
    {
     "name": "stdout",
     "output_type": "stream",
     "text": [
      "El número 5 se repite 2 veces en la tupla.\n"
     ]
    }
   ],
   "source": [
    "enteros = (1,2,3,4,5,3,4,5)\n",
    "\n",
    "ingresa_numero = int(input('Ingresa un entero por teclado: '))\n",
    "\n",
    "\n",
    "conteo = enteros.count(ingresa_numero)\n",
    "\n",
    "print(f'El número {ingresa_numero} se repite {conteo} veces en la tupla.')"
   ]
  },
  {
   "cell_type": "markdown",
   "metadata": {},
   "source": [
    "## 2. Crea una tupla con números e indica el número con mayor valor y el que menor tenga."
   ]
  },
  {
   "cell_type": "code",
   "execution_count": 30,
   "metadata": {},
   "outputs": [
    {
     "name": "stdout",
     "output_type": "stream",
     "text": [
      "El número menor:  1 y el mayor:  5 en la tupla.\n"
     ]
    }
   ],
   "source": [
    "enteros = (1,2,3,4,5,3,4,5)\n",
    "\n",
    "mayor = max(enteros)\n",
    "menor = min(enteros)\n",
    "\n",
    "print(f'El número menor:  {menor} y el mayor:  {mayor} en la tupla.')"
   ]
  },
  {
   "cell_type": "markdown",
   "metadata": {},
   "source": [
    "## 3. Crea una tupla con valores ya predefinidos del I al 10, pide un índice por teclado y muestra los valores de la tupla."
   ]
  },
  {
   "cell_type": "code",
   "execution_count": 37,
   "metadata": {},
   "outputs": [
    {
     "name": "stdout",
     "output_type": "stream",
     "text": [
      "El valor en el índice 4 es: 64\n"
     ]
    }
   ],
   "source": [
    "enteros = (11,42,53,64,750,426,27,18,79,10)\n",
    "\n",
    "ingresa_indice = int(input('Ingresa un indice del 1 al 10: '))\n",
    "\n",
    "if 1<= ingresa_indice <=10:\n",
    "    print(f'El valor en el índice {ingresa_indice} es: {enteros[ingresa_indice-1]}') #Utilizo -1 porque la tupla empieza el indice en 0. \n",
    "    \n",
    "else: \n",
    "    print('Índice fuera de rango, tiene que estar entre 1 y 10')"
   ]
  },
  {
   "cell_type": "markdown",
   "metadata": {},
   "source": [
    "## 4. Escribir un código donde se le pide al usuario almacenar en una tupla el día, mes y año (todos en formato entero) y luego que imprima dicha fecha en el formato: \"03/07/2023\""
   ]
  },
  {
   "cell_type": "code",
   "execution_count": 40,
   "metadata": {},
   "outputs": [
    {
     "name": "stdout",
     "output_type": "stream",
     "text": [
      "03/11/2025\n"
     ]
    }
   ],
   "source": [
    "dia = int(input('Ingrese el día: '))\n",
    "mes = int(input('Ingrese el mes: '))\n",
    "año = int(input('Ingrese el año: '))\n",
    "\n",
    "tupla_fecha = (dia,mes,año)\n",
    "print(f'{tupla_fecha[0]:02d}/{tupla_fecha[1]:02d}/{tupla_fecha[2]}')"
   ]
  },
  {
   "cell_type": "markdown",
   "metadata": {},
   "source": [
    "## 5. Definir una tupla con tres valores enteros. Convertir el contenido de la tupla a tipo lista. Modificar la lista y luego convertir la lista en tupla.\n"
   ]
  },
  {
   "cell_type": "code",
   "execution_count": 47,
   "metadata": {},
   "outputs": [
    {
     "name": "stdout",
     "output_type": "stream",
     "text": [
      "La tupla ahora es lista: [1, 2, 30]\n",
      "\n",
      "Agrege un elemento a la lista: [1, 2, 30, 5] \n",
      "\n",
      "Ahora la lista es tupla: (1, 2, 30, 5)\n"
     ]
    }
   ],
   "source": [
    "tupla_ent = (1,2,30)\n",
    "\n",
    "lista = list(tupla_ent)\n",
    "print(f'La tupla ahora es lista: {lista}')\n",
    "\n",
    "lista.append(5)\n",
    "print(f'\\nAgrege un elemento a la lista: {lista} ') \n",
    "\n",
    "tupla2 = tuple(lista)\n",
    "print(f'\\nAhora la lista es tupla: {tupla2}') "
   ]
  },
  {
   "cell_type": "markdown",
   "metadata": {},
   "source": [
    "## 6. Crear una tupla y luego imprimirla en orden inverso en otra variable (otra tupla)"
   ]
  },
  {
   "cell_type": "code",
   "execution_count": 49,
   "metadata": {},
   "outputs": [
    {
     "name": "stdout",
     "output_type": "stream",
     "text": [
      "OsrevnI\n"
     ]
    }
   ],
   "source": [
    "tupla='InversO'\n",
    "print(tupla[::-1])"
   ]
  },
  {
   "cell_type": "markdown",
   "metadata": {},
   "source": [
    "## Dala la tupla\n",
    "\n",
    "tuplel = (\"Orange\",[10, 20, 30], (5, 15, 25))\n",
    "\n",
    "Acceder al valor '20' e imprimir en una nueva variable\n"
   ]
  },
  {
   "cell_type": "code",
   "execution_count": 79,
   "metadata": {},
   "outputs": [
    {
     "name": "stdout",
     "output_type": "stream",
     "text": [
      "El número 20 es el elemento 0 (solo tine 1 elemento = 0) de body\n",
      "y el elemento 1(tiene 3 elemento:0,1,2), la nueva variable es: 20\n",
      "------------------------------------\n",
      "10\n",
      "------------------------------------\n",
      "25\n"
     ]
    }
   ],
   "source": [
    "tuplel = (\"Orange\",[10, 20, 30],(5, 15, 25))\n",
    "\n",
    "head, *body, tail = tuplel\n",
    "\n",
    "type(body)\n",
    "\n",
    "nueva_variable = body[0][1]\n",
    "print(f'El número 20 es el elemento 0 (solo tine 1 elemento = 0) de body\\n'\n",
    "      f'y el elemento 1(tiene 3 elemento:0,1,2), la nueva variable es: {nueva_variable}')\n",
    "\n",
    "nueva_variable2 = body[0][0]\n",
    "\n",
    "print('------------------------------------')\n",
    "print(nueva_variable2)\n",
    "\n",
    "print('------------------------------------')\n",
    "nv2=tail[2]\n",
    "print(nv2)\n"
   ]
  },
  {
   "cell_type": "markdown",
   "metadata": {},
   "source": [
    "## 8. Escriba un programa para descomprimir Ia siguiente tupla en cuatro variables e imprimir cada variable.\n",
    "tuple1 = (10, 20, 30, 40)"
   ]
  },
  {
   "cell_type": "code",
   "execution_count": 80,
   "metadata": {},
   "outputs": [
    {
     "name": "stdout",
     "output_type": "stream",
     "text": [
      "10\n",
      "20\n",
      "30\n",
      "40\n"
     ]
    }
   ],
   "source": [
    "tuple1 = (10, 20, 30, 40)\n",
    "a,b,c,d = tuple1\n",
    "print(a)\n",
    "print(b)\n",
    "print(c)\n",
    "print(d)"
   ]
  },
  {
   "cell_type": "markdown",
   "metadata": {},
   "source": [
    "## 9. Intercambiar dos tuplas en Python dados:  "
   ]
  },
  {
   "cell_type": "code",
   "execution_count": 82,
   "metadata": {},
   "outputs": [
    {
     "name": "stdout",
     "output_type": "stream",
     "text": [
      "(99, 88)\n",
      "(11, 22)\n"
     ]
    }
   ],
   "source": [
    "tuple1= (11,22)\n",
    "tuple2=(99,88)\n",
    "\n",
    "tuplas = tuple1, tuple2 = tuple2, tuple1\n",
    "tuplas \n",
    "\n",
    "print(tuple1)\n",
    "print(tuple2)"
   ]
  },
  {
   "cell_type": "markdown",
   "metadata": {},
   "source": [
    "## 10. Cuántas veces aparece 777 en la siguiente tupla? Escribir código:  "
   ]
  },
  {
   "cell_type": "code",
   "execution_count": 85,
   "metadata": {},
   "outputs": [
    {
     "name": "stdout",
     "output_type": "stream",
     "text": [
      "2\n"
     ]
    }
   ],
   "source": [
    "tt = (55,777,54,6,76,7777,1,777,2,6)\n",
    "\n",
    "print(tt.count(777))"
   ]
  },
  {
   "cell_type": "markdown",
   "metadata": {},
   "source": [
    "## 11. Cual es la suma de todos los números en la siguiente tupla? "
   ]
  },
  {
   "cell_type": "code",
   "execution_count": 86,
   "metadata": {},
   "outputs": [
    {
     "name": "stdout",
     "output_type": "stream",
     "text": [
      "1306\n"
     ]
    }
   ],
   "source": [
    "tt = (42,1092,11,88,65,2,6)\n",
    "\n",
    "print(sum(tt))"
   ]
  },
  {
   "cell_type": "markdown",
   "metadata": {},
   "source": [
    "## 12.  Cuáles son los valores min y max de la siguiente tupla? "
   ]
  },
  {
   "cell_type": "code",
   "execution_count": 88,
   "metadata": {},
   "outputs": [
    {
     "name": "stdout",
     "output_type": "stream",
     "text": [
      "2\n",
      "1092\n"
     ]
    }
   ],
   "source": [
    "tt = (42,1092,11,88,65,2,6)\n",
    "\n",
    "print(min(tt))\n",
    "\n",
    "print(max(tt))"
   ]
  },
  {
   "cell_type": "markdown",
   "metadata": {},
   "source": [
    "## 13. Escriba un programa para almacenar el nombre de 5 frutas por parte del usuario, almacenarlo en una tupla y luego imprimir. "
   ]
  },
  {
   "cell_type": "code",
   "execution_count": 91,
   "metadata": {},
   "outputs": [
    {
     "name": "stdout",
     "output_type": "stream",
     "text": [
      "('manzana', 'pera', 'uva', 'uvilla', 'lima')\n"
     ]
    }
   ],
   "source": [
    "frutas = ()\n",
    "\n",
    "for i in range(5): \n",
    "    fruta = str(input('Ingresa el nombre de cinco frutas:  '))\n",
    "    frutas +=(fruta,)\n",
    "\n",
    "\n",
    "print(frutas)\n"
   ]
  },
  {
   "cell_type": "markdown",
   "metadata": {},
   "source": [
    "## 14. Considere la siguiente tupla y escriba el código para las siguientes declaraciones: \n"
   ]
  },
  {
   "cell_type": "code",
   "execution_count": 102,
   "metadata": {},
   "outputs": [
    {
     "name": "stdout",
     "output_type": "stream",
     "text": [
      "El primer elemnto es: 12\n",
      "El último elemento es: b\n",
      "El orden inverso: (('a', 'b'), 'Anil', 'Hockey', 45, 3, 12)\n",
      "Nombre Anil: Anil\n"
     ]
    }
   ],
   "source": [
    "T1=(12,3,45,'Hockey', 'Anil',('a','b'))\n",
    "\n",
    "primer_e = T1[0]\n",
    "print(f'El primer elemnto es: {primer_e}')\n",
    "\n",
    "ultimo_e=T1[5][1]\n",
    "print(f'El último elemento es: {ultimo_e}')\n",
    "\n",
    "print(f'El orden inverso: {T1[::-1]}')\n",
    "\n",
    "print(f'Nombre Anil: {T1[4]}')\n"
   ]
  },
  {
   "cell_type": "code",
   "execution_count": 103,
   "metadata": {},
   "outputs": [
    {
     "name": "stdout",
     "output_type": "stream",
     "text": [
      "El penúltimo elemento es: a\n"
     ]
    }
   ],
   "source": [
    "anteultimo_e=T1[5][0]\n",
    "print(f'El penúltimo elemento es: {anteultimo_e}')"
   ]
  },
  {
   "cell_type": "markdown",
   "metadata": {},
   "source": [
    "## 15. Escriba un programa que le pida a un usuario una cadena (string), luego convertirlo a una tupla e imprimir "
   ]
  },
  {
   "cell_type": "code",
   "execution_count": 109,
   "metadata": {},
   "outputs": [
    {
     "name": "stdout",
     "output_type": "stream",
     "text": [
      "('e', 'r', 't', 'e', 'c')\n"
     ]
    }
   ],
   "source": [
    "cadenas = ()\n",
    "\n",
    "for i in range(5): \n",
    "    cadena = str(input('Ingresa cinco letras:  '))\n",
    "    cadenas +=(cadena,)\n",
    "\n",
    "\n",
    "print(cadenas)\n"
   ]
  },
  {
   "cell_type": "code",
   "execution_count": 114,
   "metadata": {},
   "outputs": [
    {
     "data": {
      "text/plain": [
       "('m', 'a', 'r', 'i', 'a')"
      ]
     },
     "execution_count": 114,
     "metadata": {},
     "output_type": "execute_result"
    }
   ],
   "source": [
    "palabra = input('Ingrese una palabra: ')\n",
    "\n",
    "letras = tuple(palabra)\n",
    "letras "
   ]
  },
  {
   "cell_type": "code",
   "execution_count": null,
   "metadata": {},
   "outputs": [],
   "source": []
  }
 ],
 "metadata": {
  "kernelspec": {
   "display_name": "Curso_Python",
   "language": "python",
   "name": "python3"
  },
  "language_info": {
   "codemirror_mode": {
    "name": "ipython",
    "version": 3
   },
   "file_extension": ".py",
   "mimetype": "text/x-python",
   "name": "python",
   "nbconvert_exporter": "python",
   "pygments_lexer": "ipython3",
   "version": "3.11.9"
  }
 },
 "nbformat": 4,
 "nbformat_minor": 2
}
