{
 "cells": [
  {
   "cell_type": "code",
   "execution_count": null,
   "metadata": {},
   "outputs": [],
   "source": []
  },
  {
   "cell_type": "markdown",
   "metadata": {},
   "source": []
  },
  {
   "cell_type": "markdown",
   "metadata": {},
   "source": [
    "## Ejercicios de la clase "
   ]
  },
  {
   "cell_type": "code",
   "execution_count": 1,
   "metadata": {},
   "outputs": [],
   "source": [
    "portero = 'Casillas'\n",
    "\n",
    "defensas = ['Capdevila', 'Piqué', ' Puyol ', 'Ramos' ]\n",
    "\n",
    "mediocampistas = ['Xavi', 'Busquets', 'X.Alonso']\n",
    "\n",
    "delanteros = [ 'Iniesta', 'Villa', 'Pedro']"
   ]
  },
  {
   "cell_type": "code",
   "execution_count": 2,
   "metadata": {},
   "outputs": [
    {
     "data": {
      "text/plain": [
       "['Casillas',\n",
       " ['Capdevila', 'Piqué', ' Puyol ', 'Ramos'],\n",
       " ['Xavi', 'Busquets', 'X.Alonso'],\n",
       " ['Iniesta', 'Villa', 'Pedro']]"
      ]
     },
     "execution_count": 2,
     "metadata": {},
     "output_type": "execute_result"
    }
   ],
   "source": [
    "equipo = [portero, defensas, mediocampistas, delanteros]\n",
    "equipo"
   ]
  },
  {
   "cell_type": "code",
   "execution_count": 3,
   "metadata": {},
   "outputs": [
    {
     "data": {
      "text/plain": [
       "['Capdevila', 'Piqué', ' Puyol ', 'Ramos']"
      ]
     },
     "execution_count": 3,
     "metadata": {},
     "output_type": "execute_result"
    }
   ],
   "source": [
    "equipo [1]"
   ]
  },
  {
   "cell_type": "code",
   "execution_count": 4,
   "metadata": {},
   "outputs": [
    {
     "data": {
      "text/plain": [
       "'Capdevila'"
      ]
     },
     "execution_count": 4,
     "metadata": {},
     "output_type": "execute_result"
    }
   ],
   "source": [
    "equipo [1][0]"
   ]
  },
  {
   "cell_type": "code",
   "execution_count": 14,
   "metadata": {},
   "outputs": [
    {
     "name": "stdout",
     "output_type": "stream",
     "text": [
      "None\n",
      "None\n",
      "None\n",
      "22\n",
      "22\n",
      "None\n",
      "1\n"
     ]
    }
   ],
   "source": [
    "lst = [12, 15, 13, 23, 22, 16, 17]\n",
    "print(lst.append(22))\n",
    "print(lst.remove(13))\n",
    "print(lst.remove(17))\n",
    "\n",
    "print(lst.pop()) # remueve el último ítem de la lista\n",
    "print(lst.pop(3)) # remueve eL tercer ítem de la Lista\n",
    "print(lst.insert(3,21))\n",
    "print(lst.count(23)) # deuveLve el número de veces que aparece el numero 23 en La Lista\n",
    "\n",
    "idx = lst.index(23) # retorna el índice del ítem\n",
    "idx1 = lst.index(12) # retorna un valueError dado que eL 5e no se encuentra en la Lista"
   ]
  }
 ],
 "metadata": {
  "kernelspec": {
   "display_name": "Curso_Python",
   "language": "python",
   "name": "python3"
  },
  "language_info": {
   "codemirror_mode": {
    "name": "ipython",
    "version": 3
   },
   "file_extension": ".py",
   "mimetype": "text/x-python",
   "name": "python",
   "nbconvert_exporter": "python",
   "pygments_lexer": "ipython3",
   "version": "3.11.9"
  }
 },
 "nbformat": 4,
 "nbformat_minor": 2
}
