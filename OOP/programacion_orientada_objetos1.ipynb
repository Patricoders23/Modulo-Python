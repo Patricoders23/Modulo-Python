{
 "cells": [
  {
   "cell_type": "markdown",
   "metadata": {},
   "source": [
    "----------------------\n",
    "# **PROGRAMACIÓN ORIENTADA A OBJETOS**\n",
    "____________________________"
   ]
  },
  {
   "cell_type": "markdown",
   "metadata": {},
   "source": [
    "Paradigmas de programación\n",
    "\n",
    "* Por paradigma se entiende el principio según el cual se organiza un programa para llevar a cabo una tarea determinada.\n",
    "\n",
    "* Python admite tres paradigmas de programación: `programación estructurada`, `programación funcional` y programación orientada a objetos (`POO`)"
   ]
  },
  {
   "cell_type": "markdown",
   "metadata": {},
   "source": [
    " ![Texto alternativo](OOP1.PNG)"
   ]
  },
  {
   "cell_type": "markdown",
   "metadata": {},
   "source": [
    ">CLASES --> describe dos cosas: la forma que tendrá un objeto creado a partir de ella y la funcionalidad que tendrá. Son de naturaleza genérica. \n",
    "\n",
    "* Forma: suele denominarse como `propiedades`\n",
    "* Funcionalidad: `métodos`"
   ]
  },
  {
   "cell_type": "markdown",
   "metadata": {},
   "source": [
    ">OBJETO --> Instancia específica de una clase. Son de naturaleza específica.\n",
    "\n",
    "* `Propiedades` tendrán valores\n",
    "* Los `métodos` pueden acceder o manipular estos valores"
   ]
  },
  {
   "cell_type": "code",
   "execution_count": 2,
   "metadata": {},
   "outputs": [],
   "source": [
    "\n",
    "a= 3.14 # a es un objeto de la clase float\n",
    "s =  'Marge'# s es un objeto de la clase Str\n",
    "lst = [10, 20, 30] # Ist es un objeto de la clase list\n",
    "tpl = ('a','b', 'c') # tpl es un Objeto de la clase tuple"
   ]
  },
  {
   "cell_type": "markdown",
   "metadata": {},
   "source": [
    "### Ejemplo de una clase definida por el usuario "
   ]
  },
  {
   "cell_type": "markdown",
   "metadata": {},
   "source": [
    "La clase Empleado contiene dos métodos `set_data()` y `display_data()` que se utilizan para establecer y mostrar los datos presentes en los objetos creados a partir de la clase Empleado.\n",
    "\n",
    "Se crean dos objetos sin nombre mediante las sentencias: e1=Empleado, e2= Empleado"
   ]
  },
  {
   "cell_type": "code",
   "execution_count": 1,
   "metadata": {},
   "outputs": [
    {
     "name": "stdout",
     "output_type": "stream",
     "text": [
      "Julian 23 25000\n",
      "Maria 25 30000\n"
     ]
    }
   ],
   "source": [
    "class Empleado: #clase\n",
    "    def set_data(self, n, e, s): #método1\n",
    "        self.nombre = n\n",
    "        self.edad = e\n",
    "        self.salario = s\n",
    "        \n",
    "    def display_data(self): #método2\n",
    "        print(self.nombre, self.edad, self.salario)\n",
    "\n",
    "e1 = Empleado() #objeto1\n",
    "e1.set_data('Julian', 23, 25000) # La sintaxis para llamar al método de un objeto es object.method(), tal como en: e1.set_data( )\n",
    "e1.display_data()\n",
    "\n",
    "e2 = Empleado() #objeto2\n",
    "e2.set_data('Maria', 25, 30000)\n",
    "e2.display_data()"
   ]
  },
  {
   "cell_type": "code",
   "execution_count": 4,
   "metadata": {},
   "outputs": [
    {
     "name": "stdout",
     "output_type": "stream",
     "text": [
      "Mario 65 850000\n"
     ]
    }
   ],
   "source": [
    "# Llamamos desde fuera de la clase\n",
    "\"\"\" e3 = Empleado()\n",
    "e3.nombre = 'Ana'\n",
    "e3.edad = 25\n",
    "\n",
    "e3.display_data() \"\"\"\n",
    "\n",
    "e3 = Empleado() #objeto2\n",
    "e3.set_data('Mario', 65, 850000)\n",
    "e3.display_data()"
   ]
  },
  {
   "cell_type": "markdown",
   "metadata": {},
   "source": [
    "## Inicialización de Objetos: \n",
    "\n",
    "Hay dos maneras de inicializar un objeto:\n",
    "\n",
    "> Método 1 : Usando métodos como `get_data()`/ `set_data()`\n",
    "\n",
    ">Método 2 : Usando el método especial` __init__()`\n",
    "\n",
    "- get_data() puede recibir datos del teclado en variables de datos de instancia. \n",
    "\n",
    "- set_data() puede establecer datos de instancia con los valores que recibe. El beneficio de este método es que los datos permanecen protegidos de la manipulación desde fuera de la clase.\n",
    "\n",
    "El beneficio de inicializar un objeto usando el método especial __init__() es que garantiza la inicialización, ya que __init__() siempre se llama cuando se crea un objeto."
   ]
  },
  {
   "cell_type": "code",
   "execution_count": 5,
   "metadata": {},
   "outputs": [
    {
     "name": "stdout",
     "output_type": "stream",
     "text": [
      "Julian 28 30500\n",
      "Karla 22 20500\n",
      "Borrando Objeto<__main__.Empleado object at 0x00000272F1692ED0>\n",
      "Borrando Objeto<__main__.Empleado object at 0x00000272F1700D10>\n"
     ]
    }
   ],
   "source": [
    "class Empleado:  #clase\n",
    "    def set_data(self, n, e, s): #método1  |set_data( ) Para modificar un objeto ya inicializado.\n",
    "\n",
    "        self.__nombre = n\n",
    "        self.__edad = e\n",
    "        self.__salario = s\n",
    "        \n",
    "    def display_data(self):  #método2\n",
    "        print(self.__nombre, self.__edad, self.__salario)\n",
    "        \n",
    "    def __init__(self, n='', e=0, s =0.0): #init ( ) Para inicializar un objeto.\n",
    "        self.__name = n\n",
    "        self.__edad = e\n",
    "        self.__salario = s \n",
    "        \n",
    "    def __del__(self): #método3 |Actividad de limpieza, si la hay, debe hacerse en del()\n",
    "        print('Borrando Objeto' + str(self))\n",
    "\n",
    "e1 = Empleado() #objeto1\n",
    "e1.set_data('Julian', 28, 30500)\n",
    "e1.display_data()\n",
    "\n",
    "e2 = Empleado() #objeto2\n",
    "e2.set_data('Karla', 22, 20500)\n",
    "e2.display_data()\n",
    "\n",
    "e1 = None\n",
    "e2 = None\n"
   ]
  },
  {
   "cell_type": "markdown",
   "metadata": {},
   "source": [
    "## Variables y métodos de clase\n",
    "\n",
    " Si queremos compartir una variable entre todos los objetos de una clase, debemos declarar la variable como variable de clase o atributo de clase.\n",
    "\n",
    "Para declarar una variable de clase, debemos crear una variable sin anteponerle self. \n",
    "\n",
    "Se accede a las variables de clase mediante la sintaxis `classname.varname`.  Las variables de clase se pueden utilizar para contar cuántos objetos se han creado a \n",
    "partir de una clase.\n",
    "\n",
    "Se puede acceder a los métodos de clase mediante la sintaxis `classname.methodname( )`."
   ]
  },
  {
   "cell_type": "markdown",
   "metadata": {},
   "source": [
    "## Funciones vars() y dir()\n",
    "\n",
    "Existen dos útiles funciones integradas (built-in) `vars( )` y `dir( )`. \n",
    "\n",
    "De ellas, vars( ) devuelve  un diccionario de atributos y sus valores, mientras que dir( ) devuelve una lista de \n",
    "atributos\n"
   ]
  },
  {
   "cell_type": "code",
   "execution_count": 10,
   "metadata": {},
   "outputs": [
    {
     "name": "stdout",
     "output_type": "stream",
     "text": [
      "{'__name__': '__main__', '__doc__': \" e3 = Empleado()\\ne3.nombre = 'Ana'\\ne3.edad = 25\\n\\ne3.display_data() \", '__package__': None, '__loader__': None, '__spec__': None, '__builtin__': <module 'builtins' (built-in)>, '__builtins__': <module 'builtins' (built-in)>, '_ih': ['', \"class Empleado: #clase\\n    def set_data(self, n, e, s): #método1\\n        self.nombre = n\\n        self.edad = e\\n        self.salario = s\\n        \\n    def display_data(self): #método2\\n        print(self.nombre, self.edad, self.salario)\\n\\ne1 = Empleado() #objeto1\\ne1.set_data('Julian', 23, 25000)\\ne1.display_data()\\n\\ne2 = Empleado() #objeto2\\ne2.set_data('Maria', 25, 30000)\\ne2.display_data()\", \"# Llamamos desde fuera de la clase\\ne3 = Empleado()\\ne3.nombre = 'Ana'\\ne3.edad = 25\", \"# Llamamos desde fuera de la clase\\ne3 = Empleado()\\ne3.nombre = 'Ana'\\ne3.edad = 25\\n\\ne3.display_data()\", '# Llamamos desde fuera de la clase\\n\"\"\" e3 = Empleado()\\ne3.nombre = \\'Ana\\'\\ne3.edad = 25\\n\\ne3.display_data() \"\"\"\\n\\ne3 = Empleado() #objeto2\\ne3.set_data(\\'Mario\\', 65, 850000)\\ne3.display_data()', \"class Empleado:  #clase\\n    def set_data(self, n, e, s): #método1\\n        self.__nombre = n\\n        self.__edad = e\\n        self.__salario = s\\n        \\n    def display_data(self):  #método2\\n        print(self.__nombre, self.__edad, self.__salario)\\n        \\n    def __init__(self, n='', e=0, s =0.0):\\n        self.__name = n\\n        self.__edad = e\\n        self.__salario = s \\n        \\n    def __del__(self): #método3\\n        print('Borrando Objeto' + str(self))\\n\\ne1 = Empleado()\\ne1.set_data('Julian', 28, 30500)\\ne1.display_data()\\n\\ne2 = Empleado()\\ne2.set_data('Karla', 22, 20500)\\ne2.display_data()\\n\\ne1 = None\\ne2 = None\", \"import math \\n\\na = 125 \\ns = 'Cadena'\\n\\nprint(vars(), end='\\\\n')\", \"import math \\n\\na = 125 \\ns = 'Cadena'\\n\\nprint(vars(), end='\\\\n')     # imprime diccionario de atributos en el módulo actual \\nprint(vars(math))           #imprime dict de atributos en el módulo math\\nprint(dir())                #imprime la lista de atributos del módulo actual\\nprint(dir(math)) \", \"import math \\n\\na = 125 \\ns = 'Cadena'\\n\\nprint(vars(), end='\\\\n')     # imprime diccionario de atributos en el módulo actual \\nprint('\\\\n'vars(math))           #imprime dict de atributos en el módulo math\\nprint(dir())                #imprime la lista de atributos del módulo actual\\nprint(dir(math)) \", \"import math \\n\\na = 125 \\ns = 'Cadena'\\n\\nprint(vars(), end='\\\\n')     # imprime diccionario de atributos en el módulo actual \\nprint('\\\\n', vars(math))           #imprime dict de atributos en el módulo math\\nprint(dir())                #imprime la lista de atributos del módulo actual\\nprint(dir(math)) \", \"import math \\n\\na = 125 \\ns = 'Cadena'\\n\\nprint(vars(), end='\\\\n')     # imprime diccionario de atributos en el módulo actual \\nprint('\\\\n', vars(math))           #imprime dict de atributos en el módulo math\\nprint('\\\\n', dir())                #imprime la lista de atributos del módulo actual\\nprint('\\\\n', dir(math)) \"], '_oh': {}, '_dh': [WindowsPath('c:/Users/CursosTardes/Documents/Modulo-Python/OOP')], 'In': ['', \"class Empleado: #clase\\n    def set_data(self, n, e, s): #método1\\n        self.nombre = n\\n        self.edad = e\\n        self.salario = s\\n        \\n    def display_data(self): #método2\\n        print(self.nombre, self.edad, self.salario)\\n\\ne1 = Empleado() #objeto1\\ne1.set_data('Julian', 23, 25000)\\ne1.display_data()\\n\\ne2 = Empleado() #objeto2\\ne2.set_data('Maria', 25, 30000)\\ne2.display_data()\", \"# Llamamos desde fuera de la clase\\ne3 = Empleado()\\ne3.nombre = 'Ana'\\ne3.edad = 25\", \"# Llamamos desde fuera de la clase\\ne3 = Empleado()\\ne3.nombre = 'Ana'\\ne3.edad = 25\\n\\ne3.display_data()\", '# Llamamos desde fuera de la clase\\n\"\"\" e3 = Empleado()\\ne3.nombre = \\'Ana\\'\\ne3.edad = 25\\n\\ne3.display_data() \"\"\"\\n\\ne3 = Empleado() #objeto2\\ne3.set_data(\\'Mario\\', 65, 850000)\\ne3.display_data()', \"class Empleado:  #clase\\n    def set_data(self, n, e, s): #método1\\n        self.__nombre = n\\n        self.__edad = e\\n        self.__salario = s\\n        \\n    def display_data(self):  #método2\\n        print(self.__nombre, self.__edad, self.__salario)\\n        \\n    def __init__(self, n='', e=0, s =0.0):\\n        self.__name = n\\n        self.__edad = e\\n        self.__salario = s \\n        \\n    def __del__(self): #método3\\n        print('Borrando Objeto' + str(self))\\n\\ne1 = Empleado()\\ne1.set_data('Julian', 28, 30500)\\ne1.display_data()\\n\\ne2 = Empleado()\\ne2.set_data('Karla', 22, 20500)\\ne2.display_data()\\n\\ne1 = None\\ne2 = None\", \"import math \\n\\na = 125 \\ns = 'Cadena'\\n\\nprint(vars(), end='\\\\n')\", \"import math \\n\\na = 125 \\ns = 'Cadena'\\n\\nprint(vars(), end='\\\\n')     # imprime diccionario de atributos en el módulo actual \\nprint(vars(math))           #imprime dict de atributos en el módulo math\\nprint(dir())                #imprime la lista de atributos del módulo actual\\nprint(dir(math)) \", \"import math \\n\\na = 125 \\ns = 'Cadena'\\n\\nprint(vars(), end='\\\\n')     # imprime diccionario de atributos en el módulo actual \\nprint('\\\\n'vars(math))           #imprime dict de atributos en el módulo math\\nprint(dir())                #imprime la lista de atributos del módulo actual\\nprint(dir(math)) \", \"import math \\n\\na = 125 \\ns = 'Cadena'\\n\\nprint(vars(), end='\\\\n')     # imprime diccionario de atributos en el módulo actual \\nprint('\\\\n', vars(math))           #imprime dict de atributos en el módulo math\\nprint(dir())                #imprime la lista de atributos del módulo actual\\nprint(dir(math)) \", \"import math \\n\\na = 125 \\ns = 'Cadena'\\n\\nprint(vars(), end='\\\\n')     # imprime diccionario de atributos en el módulo actual \\nprint('\\\\n', vars(math))           #imprime dict de atributos en el módulo math\\nprint('\\\\n', dir())                #imprime la lista de atributos del módulo actual\\nprint('\\\\n', dir(math)) \"], 'Out': {}, 'get_ipython': <bound method InteractiveShell.get_ipython of <ipykernel.zmqshell.ZMQInteractiveShell object at 0x00000272F163D390>>, 'exit': <IPython.core.autocall.ZMQExitAutocall object at 0x00000272F164A050>, 'quit': <IPython.core.autocall.ZMQExitAutocall object at 0x00000272F164A050>, 'open': <function open at 0x00000272EF4325C0>, '_': '', '__': '', '___': '', '__vsc_ipynb_file__': 'c:\\\\Users\\\\CursosTardes\\\\Documents\\\\Modulo-Python\\\\OOP\\\\programacion_orientada_objetos1.ipynb', '_i': \"import math \\n\\na = 125 \\ns = 'Cadena'\\n\\nprint(vars(), end='\\\\n')     # imprime diccionario de atributos en el módulo actual \\nprint('\\\\n', vars(math))           #imprime dict de atributos en el módulo math\\nprint(dir())                #imprime la lista de atributos del módulo actual\\nprint(dir(math)) \", '_ii': \"import math \\n\\na = 125 \\ns = 'Cadena'\\n\\nprint(vars(), end='\\\\n')     # imprime diccionario de atributos en el módulo actual \\nprint('\\\\n'vars(math))           #imprime dict de atributos en el módulo math\\nprint(dir())                #imprime la lista de atributos del módulo actual\\nprint(dir(math)) \", '_iii': \"import math \\n\\na = 125 \\ns = 'Cadena'\\n\\nprint(vars(), end='\\\\n')     # imprime diccionario de atributos en el módulo actual \\nprint(vars(math))           #imprime dict de atributos en el módulo math\\nprint(dir())                #imprime la lista de atributos del módulo actual\\nprint(dir(math)) \", '_i1': \"class Empleado: #clase\\n    def set_data(self, n, e, s): #método1\\n        self.nombre = n\\n        self.edad = e\\n        self.salario = s\\n        \\n    def display_data(self): #método2\\n        print(self.nombre, self.edad, self.salario)\\n\\ne1 = Empleado() #objeto1\\ne1.set_data('Julian', 23, 25000)\\ne1.display_data()\\n\\ne2 = Empleado() #objeto2\\ne2.set_data('Maria', 25, 30000)\\ne2.display_data()\", 'Empleado': <class '__main__.Empleado'>, 'e1': None, 'e2': None, '_i2': \"# Llamamos desde fuera de la clase\\ne3 = Empleado()\\ne3.nombre = 'Ana'\\ne3.edad = 25\", 'e3': <__main__.Empleado object at 0x00000272F1850850>, '_i3': \"# Llamamos desde fuera de la clase\\ne3 = Empleado()\\ne3.nombre = 'Ana'\\ne3.edad = 25\\n\\ne3.display_data()\", '_i4': '# Llamamos desde fuera de la clase\\n\"\"\" e3 = Empleado()\\ne3.nombre = \\'Ana\\'\\ne3.edad = 25\\n\\ne3.display_data() \"\"\"\\n\\ne3 = Empleado() #objeto2\\ne3.set_data(\\'Mario\\', 65, 850000)\\ne3.display_data()', '_i5': \"class Empleado:  #clase\\n    def set_data(self, n, e, s): #método1\\n        self.__nombre = n\\n        self.__edad = e\\n        self.__salario = s\\n        \\n    def display_data(self):  #método2\\n        print(self.__nombre, self.__edad, self.__salario)\\n        \\n    def __init__(self, n='', e=0, s =0.0):\\n        self.__name = n\\n        self.__edad = e\\n        self.__salario = s \\n        \\n    def __del__(self): #método3\\n        print('Borrando Objeto' + str(self))\\n\\ne1 = Empleado()\\ne1.set_data('Julian', 28, 30500)\\ne1.display_data()\\n\\ne2 = Empleado()\\ne2.set_data('Karla', 22, 20500)\\ne2.display_data()\\n\\ne1 = None\\ne2 = None\", '_i6': \"import math \\n\\na = 125 \\ns = 'Cadena'\\n\\nprint(vars(), end='\\\\n')\", 'math': <module 'math' (built-in)>, 'a': 125, 's': 'Cadena', '_i7': \"import math \\n\\na = 125 \\ns = 'Cadena'\\n\\nprint(vars(), end='\\\\n')     # imprime diccionario de atributos en el módulo actual \\nprint(vars(math))           #imprime dict de atributos en el módulo math\\nprint(dir())                #imprime la lista de atributos del módulo actual\\nprint(dir(math)) \", '_i8': \"import math \\n\\na = 125 \\ns = 'Cadena'\\n\\nprint(vars(), end='\\\\n')     # imprime diccionario de atributos en el módulo actual \\nprint('\\\\n'vars(math))           #imprime dict de atributos en el módulo math\\nprint(dir())                #imprime la lista de atributos del módulo actual\\nprint(dir(math)) \", '_i9': \"import math \\n\\na = 125 \\ns = 'Cadena'\\n\\nprint(vars(), end='\\\\n')     # imprime diccionario de atributos en el módulo actual \\nprint('\\\\n', vars(math))           #imprime dict de atributos en el módulo math\\nprint(dir())                #imprime la lista de atributos del módulo actual\\nprint(dir(math)) \", '_i10': \"import math \\n\\na = 125 \\ns = 'Cadena'\\n\\nprint(vars(), end='\\\\n')     # imprime diccionario de atributos en el módulo actual \\nprint('\\\\n', vars(math))           #imprime dict de atributos en el módulo math\\nprint('\\\\n', dir())                #imprime la lista de atributos del módulo actual\\nprint('\\\\n', dir(math)) \"}\n",
      "\n",
      " {'__name__': 'math', '__doc__': 'This module provides access to the mathematical functions\\ndefined by the C standard.', '__package__': '', '__loader__': <class '_frozen_importlib.BuiltinImporter'>, '__spec__': ModuleSpec(name='math', loader=<class '_frozen_importlib.BuiltinImporter'>, origin='built-in'), 'acos': <built-in function acos>, 'acosh': <built-in function acosh>, 'asin': <built-in function asin>, 'asinh': <built-in function asinh>, 'atan': <built-in function atan>, 'atan2': <built-in function atan2>, 'atanh': <built-in function atanh>, 'cbrt': <built-in function cbrt>, 'ceil': <built-in function ceil>, 'copysign': <built-in function copysign>, 'cos': <built-in function cos>, 'cosh': <built-in function cosh>, 'degrees': <built-in function degrees>, 'dist': <built-in function dist>, 'erf': <built-in function erf>, 'erfc': <built-in function erfc>, 'exp': <built-in function exp>, 'exp2': <built-in function exp2>, 'expm1': <built-in function expm1>, 'fabs': <built-in function fabs>, 'factorial': <built-in function factorial>, 'floor': <built-in function floor>, 'fmod': <built-in function fmod>, 'frexp': <built-in function frexp>, 'fsum': <built-in function fsum>, 'gamma': <built-in function gamma>, 'gcd': <built-in function gcd>, 'hypot': <built-in function hypot>, 'isclose': <built-in function isclose>, 'isfinite': <built-in function isfinite>, 'isinf': <built-in function isinf>, 'isnan': <built-in function isnan>, 'isqrt': <built-in function isqrt>, 'lcm': <built-in function lcm>, 'ldexp': <built-in function ldexp>, 'lgamma': <built-in function lgamma>, 'log': <built-in function log>, 'log1p': <built-in function log1p>, 'log10': <built-in function log10>, 'log2': <built-in function log2>, 'modf': <built-in function modf>, 'pow': <built-in function pow>, 'radians': <built-in function radians>, 'remainder': <built-in function remainder>, 'sin': <built-in function sin>, 'sinh': <built-in function sinh>, 'sqrt': <built-in function sqrt>, 'tan': <built-in function tan>, 'tanh': <built-in function tanh>, 'trunc': <built-in function trunc>, 'prod': <built-in function prod>, 'perm': <built-in function perm>, 'comb': <built-in function comb>, 'nextafter': <built-in function nextafter>, 'ulp': <built-in function ulp>, 'pi': 3.141592653589793, 'e': 2.718281828459045, 'tau': 6.283185307179586, 'inf': inf, 'nan': nan}\n",
      "\n",
      " ['Empleado', 'In', 'Out', '_', '__', '___', '__builtin__', '__builtins__', '__doc__', '__loader__', '__name__', '__package__', '__spec__', '__vsc_ipynb_file__', '_dh', '_i', '_i1', '_i10', '_i2', '_i3', '_i4', '_i5', '_i6', '_i7', '_i8', '_i9', '_ih', '_ii', '_iii', '_oh', 'a', 'e1', 'e2', 'e3', 'exit', 'get_ipython', 'math', 'open', 'quit', 's']\n",
      "\n",
      " ['__doc__', '__loader__', '__name__', '__package__', '__spec__', 'acos', 'acosh', 'asin', 'asinh', 'atan', 'atan2', 'atanh', 'cbrt', 'ceil', 'comb', 'copysign', 'cos', 'cosh', 'degrees', 'dist', 'e', 'erf', 'erfc', 'exp', 'exp2', 'expm1', 'fabs', 'factorial', 'floor', 'fmod', 'frexp', 'fsum', 'gamma', 'gcd', 'hypot', 'inf', 'isclose', 'isfinite', 'isinf', 'isnan', 'isqrt', 'lcm', 'ldexp', 'lgamma', 'log', 'log10', 'log1p', 'log2', 'modf', 'nan', 'nextafter', 'perm', 'pi', 'pow', 'prod', 'radians', 'remainder', 'sin', 'sinh', 'sqrt', 'tan', 'tanh', 'tau', 'trunc', 'ulp']\n"
     ]
    }
   ],
   "source": [
    "import math \n",
    "\n",
    "a = 125 \n",
    "s = 'Cadena'\n",
    "\n",
    "print(vars(), end='\\n')     # imprime diccionario de atributos en el módulo actual \n",
    "print('\\n', vars(math))           #imprime dict de atributos en el módulo math\n",
    "print('\\n', dir())                #imprime la lista de atributos del módulo actual\n",
    "print('\\n', dir(math)) "
   ]
  },
  {
   "cell_type": "code",
   "execution_count": 12,
   "metadata": {},
   "outputs": [
    {
     "name": "stdout",
     "output_type": "stream",
     "text": [
      "{'__module__': '__main__', 'count': 1, '__init__': <function Fruta.__init__ at 0x00000272F1E8E340>, 'display': <function Fruta.display at 0x00000272F1E8E840>, '__dict__': <attribute '__dict__' of 'Fruta' objects>, '__weakref__': <attribute '__weakref__' of 'Fruta' objects>, '__doc__': None}\n",
      "['__class__', '__delattr__', '__dict__', '__dir__', '__doc__', '__eq__', '__format__', '__ge__', '__getattribute__', '__getstate__', '__gt__', '__hash__', '__init__', '__init_subclass__', '__le__', '__lt__', '__module__', '__ne__', '__new__', '__reduce__', '__reduce_ex__', '__repr__', '__setattr__', '__sizeof__', '__str__', '__subclasshook__', '__weakref__', 'count', 'display']\n",
      "{'_Fruta__nombre': 'Banana', '_Fruta__tamaño': 5, '_Fruta__color': 'Amarillo'}\n",
      "['_Fruta__color', '_Fruta__nombre', '_Fruta__tamaño', '__class__', '__delattr__', '__dict__', '__dir__', '__doc__', '__eq__', '__format__', '__ge__', '__getattribute__', '__getstate__', '__gt__', '__hash__', '__init__', '__init_subclass__', '__le__', '__lt__', '__module__', '__ne__', '__new__', '__reduce__', '__reduce_ex__', '__repr__', '__setattr__', '__sizeof__', '__str__', '__subclasshook__', '__weakref__', 'count', 'display']\n"
     ]
    }
   ],
   "source": [
    "class Fruta: \n",
    "    count=0\n",
    "    \n",
    "    def __init__(self, nombre = '', tamaño = 0, color = ''): \n",
    "        self.__nombre = nombre \n",
    "        self.__tamaño = tamaño \n",
    "        self.__color = color\n",
    "        Fruta.count += 1 \n",
    "        \n",
    "    def display():\n",
    "        print(\"Total de frutas: \", Fruta.count)\n",
    "        \n",
    "f1 = Fruta('Banana', 5, 'Amarillo')\n",
    "print(vars(Fruta))\n",
    "print(dir(Fruta))\n",
    "print(vars(f1))\n",
    "print(dir(f1))"
   ]
  },
  {
   "cell_type": "code",
   "execution_count": null,
   "metadata": {},
   "outputs": [],
   "source": []
  },
  {
   "cell_type": "code",
   "execution_count": null,
   "metadata": {},
   "outputs": [],
   "source": []
  },
  {
   "cell_type": "code",
   "execution_count": null,
   "metadata": {},
   "outputs": [],
   "source": []
  },
  {
   "cell_type": "code",
   "execution_count": null,
   "metadata": {},
   "outputs": [],
   "source": []
  },
  {
   "cell_type": "code",
   "execution_count": null,
   "metadata": {},
   "outputs": [],
   "source": []
  },
  {
   "cell_type": "code",
   "execution_count": null,
   "metadata": {},
   "outputs": [],
   "source": []
  },
  {
   "cell_type": "code",
   "execution_count": null,
   "metadata": {},
   "outputs": [],
   "source": []
  },
  {
   "cell_type": "code",
   "execution_count": null,
   "metadata": {},
   "outputs": [],
   "source": []
  },
  {
   "cell_type": "code",
   "execution_count": null,
   "metadata": {},
   "outputs": [],
   "source": []
  }
 ],
 "metadata": {
  "kernelspec": {
   "display_name": "Curso_Python",
   "language": "python",
   "name": "python3"
  },
  "language_info": {
   "codemirror_mode": {
    "name": "ipython",
    "version": 3
   },
   "file_extension": ".py",
   "mimetype": "text/x-python",
   "name": "python",
   "nbconvert_exporter": "python",
   "pygments_lexer": "ipython3",
   "version": "3.11.9"
  }
 },
 "nbformat": 4,
 "nbformat_minor": 2
}
