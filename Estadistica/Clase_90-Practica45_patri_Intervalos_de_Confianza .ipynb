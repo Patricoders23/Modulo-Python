{
 "cells": [
  {
   "cell_type": "markdown",
   "id": "562ea589-86af-41a8-b1ab-4ac56449cf38",
   "metadata": {},
   "source": [
    "***\n",
    "# <font color=orange size=10>Capítulo 2 - Distribuciones de datos y muestreo</font>\n",
    "***"
   ]
  },
  {
   "cell_type": "markdown",
   "id": "12549aae-01c7-47ee-8d25-df2bfc9f0684",
   "metadata": {},
   "source": [
    "\n",
    "## <font color=green size=10>2.1 Población y muestra</font>\n",
    "***"
   ]
  },
  {
   "cell_type": "markdown",
   "id": "27d9279d-b9d9-429d-901d-918a9e35dae0",
   "metadata": {},
   "source": [
    "La siguiente imagen intenta ilustrar la diferencia entre población y muestra:"
   ]
  },
  {
   "cell_type": "markdown",
   "id": "f5379907-db4e-4346-bcfd-e6dcfd18d6b6",
   "metadata": {},
   "source": [
    "![Fig 2.1](Datos/Poblacion_Muestra.png)"
   ]
  },
  {
   "cell_type": "markdown",
   "id": "be8bc5de-123c-458b-85f9-e8b3c030fde1",
   "metadata": {},
   "source": [
    "## <font color=green size=10>2.2 Muestreo Aleatorio y Sesgo (Bias) en la Muestra</font>\n",
    "***\n",
    "\n",
    "Una muestra es un subconjunto de datos dentro  un conjunto de datos más grande la población.\n",
    "\n",
    "El muestreo aleatorio es un proceso en el cual cada miembro disponible de la población que se está muestreando tiene la misma posibilidad de ser elegido para la muestra en cada selección. La muestra resultante se llama una **muestra aleatoria simple**. \n",
    "\n",
    "La calidad de los datos a menudo importa más que la cantidad de datos al hacer una estimación o un modelo basado en una muestra. La calidad de los datos en ciencia de datos implica completitud, consistencia de formato, limpieza y precisión de los puntos de datos individuales. La estadística además añade la noción de **representatividad**."
   ]
  },
  {
   "cell_type": "markdown",
   "id": "a02247db-e772-43e4-8366-fff902ed2f97",
   "metadata": {},
   "source": [
    "### <font color=violet size=10>2.2.1 Términos Clave para el Muestreo Aleatorio</font>\n",
    "***\n",
    "\n",
    "**Muestra (Sample)**  \n",
    "Un subconjunto de un conjunto de datos más grande.\n",
    "\n",
    "**Población**  \n",
    "El conjunto de datos más grande o la idea de un conjunto de datos.\n",
    "\n",
    "**N (n)**  \n",
    "El tamaño de la población (muestra).\n",
    "\n",
    "**Muestreo aleatorio**  \n",
    "Selección de elementos en una muestra de manera aleatoria.\n",
    "\n",
    "**Muestreo estratificado**  \n",
    "División de la población en estratos y muestreo aleatorio dentro de cada estrato. Por ejemplo: estudiantes de un colegio. Se escogen muestras de cada grado/año. 20 Estudiantes de 1er año, 20 estudiantes del 2do año...\n",
    "\n",
    "**Estrato (pl., estratos)**  \n",
    "Un subgrupo homogéneo de una población con características comunes. Ejemplo: Estudiantes del primer año.\n",
    "\n",
    "**Muestra aleatoria simple**  \n",
    "La muestra que resulta del muestreo aleatorio sin estratificar la población.\n",
    "\n",
    "**Sesgo (Bias)**  \n",
    "Error sistemático.\n",
    "\n",
    "**Sesgo en la muestra (Sample Bias)**  \n",
    "Una muestra que no representa adecuadamente a la población."
   ]
  },
  {
   "cell_type": "markdown",
   "id": "3d8d1c99-0d9e-4f90-9427-9439b29512e1",
   "metadata": {},
   "source": [
    "### <font color=violet size=10>2.2.2 Sesgo de Muestreo por Autoselección</font>\n",
    "***\n",
    "\n",
    "Las reseñas de restaurantes, hoteles, cafés, y otros que lees en sitios de redes sociales son propensas al sesgo porque las personas que las envían no son seleccionadas aleatoriamente; más bien, son ellas mismas quienes toman la iniciativa de escribir. Esto conduce a un sesgo de autoselección: las personas motivadas para escribir reseñas pueden haber tenido malas experiencias, pueden tener alguna relación con el establecimiento, o simplemente pueden ser un tipo de persona diferente a las que no escriben reseñas."
   ]
  },
  {
   "cell_type": "markdown",
   "id": "a8bb49f5-11c0-4c67-935b-d1ac6d883a11",
   "metadata": {},
   "source": [
    "### 2.2.3 Sesgo\n",
    "\n",
    "El sesgo estadístico se refiere a errores de medición o de muestreo que son sistemáticos y producidos por el proceso de medición o muestreo. Es importante hacer una distinción entre errores debidos al azar y errores debidos al sesgo. Consideremos el proceso físico de un arma disparando a un blanco. No impactará en el centro absoluto del blanco cada vez, o incluso la mayoría de las veces. Un proceso no sesgado producirá error, pero este será aleatorio y no tenderá fuertemente en ninguna dirección (ver Figura 2.2). "
   ]
  },
  {
   "cell_type": "markdown",
   "id": "5212ef03-4c1e-431f-85f0-bce6f7c9448b",
   "metadata": {},
   "source": [
    "![fig 2.2](Datos/2.2.png)"
   ]
  },
  {
   "cell_type": "markdown",
   "id": "531f5ef9-1519-488f-98f6-5d406bdc5e32",
   "metadata": {},
   "source": [
    "Los resultados mostrados en la Figura 2.3 muestran un proceso sesgado: sigue habiendo error aleatorio en ambas direcciones, x e y, pero también hay un sesgo. Los disparos tienden a caer en el cuadrante superior derecho."
   ]
  },
  {
   "cell_type": "markdown",
   "id": "2bd00811-4fba-42c9-89d4-e13de69fd0de",
   "metadata": {},
   "source": [
    "![Fig 2.3](Datos/2.3.png)"
   ]
  },
  {
   "cell_type": "markdown",
   "id": "02c56b58-e867-4f76-bb90-b31a8eeb7738",
   "metadata": {},
   "source": [
    "El sesgo se presenta en diferentes formas y puede ser observable o invisible. Cuando un resultado sugiere la presencia de sesgo (por ejemplo, al compararlo con un punto de referencia o valores reales), a menudo es un indicador de que un modelo estadístico o de aprendizaje automático ha sido mal especificado, o que se ha omitido una variable importante.\n"
   ]
  },
  {
   "cell_type": "markdown",
   "id": "a840c8ae-5670-491d-81ac-9bbe1ae218f4",
   "metadata": {},
   "source": [
    "> **Ejercicio 2.1**: *Investigar los tipos de sesgos (Bias) en estadística y aprendizaje automático.* Añade un resumen en este mismo notebook."
   ]
  },
  {
   "cell_type": "code",
   "execution_count": null,
   "id": "7fae3b41",
   "metadata": {},
   "outputs": [],
   "source": []
  },
  {
   "cell_type": "markdown",
   "id": "cf9a9c17",
   "metadata": {},
   "source": [
    "Existen varios tipos de sesgos pero se explican los sesgos comunes como: el sesgo de selección, sesgo de información y sesgo de confirmación, entre otros, y veremos cómo pueden afectar los modelos de aprendizaje automático."
   ]
  },
  {
   "cell_type": "markdown",
   "id": "b2f13af7",
   "metadata": {},
   "source": [
    "1. Sesgo de Selección (Selection Bias)\n",
    "\n",
    "El sesgo de selección ocurre cuando los datos utilizados para entrenar un modelo de aprendizaje automático no son representativos de la población general que el modelo intenta predecir. Esto puede deberse a una muestra no aleatoria o a la exclusión de ciertos grupos durante la recopilación de datos.\n",
    "\n",
    "Ejemplo:\n",
    "Supongamos que estamos creando un modelo para predecir enfermedades cardíacas, pero solo recolectamos datos de hospitales urbanos, ignorando las áreas rurales."
   ]
  },
  {
   "cell_type": "code",
   "execution_count": 1,
   "id": "ff591137",
   "metadata": {},
   "outputs": [
    {
     "data": {
      "text/html": [
       "<div>\n",
       "<style scoped>\n",
       "    .dataframe tbody tr th:only-of-type {\n",
       "        vertical-align: middle;\n",
       "    }\n",
       "\n",
       "    .dataframe tbody tr th {\n",
       "        vertical-align: top;\n",
       "    }\n",
       "\n",
       "    .dataframe thead th {\n",
       "        text-align: right;\n",
       "    }\n",
       "</style>\n",
       "<table border=\"1\" class=\"dataframe\">\n",
       "  <thead>\n",
       "    <tr style=\"text-align: right;\">\n",
       "      <th></th>\n",
       "      <th>Edad</th>\n",
       "      <th>Zona</th>\n",
       "    </tr>\n",
       "  </thead>\n",
       "  <tbody>\n",
       "    <tr>\n",
       "      <th>0</th>\n",
       "      <td>64.967142</td>\n",
       "      <td>urbano</td>\n",
       "    </tr>\n",
       "    <tr>\n",
       "      <th>1</th>\n",
       "      <td>58.617357</td>\n",
       "      <td>urbano</td>\n",
       "    </tr>\n",
       "    <tr>\n",
       "      <th>2</th>\n",
       "      <td>66.476885</td>\n",
       "      <td>urbano</td>\n",
       "    </tr>\n",
       "    <tr>\n",
       "      <th>3</th>\n",
       "      <td>75.230299</td>\n",
       "      <td>urbano</td>\n",
       "    </tr>\n",
       "    <tr>\n",
       "      <th>4</th>\n",
       "      <td>57.658466</td>\n",
       "      <td>urbano</td>\n",
       "    </tr>\n",
       "    <tr>\n",
       "      <th>...</th>\n",
       "      <td>...</td>\n",
       "      <td>...</td>\n",
       "    </tr>\n",
       "    <tr>\n",
       "      <th>135</th>\n",
       "      <td>65.499344</td>\n",
       "      <td>rural</td>\n",
       "    </tr>\n",
       "    <tr>\n",
       "      <th>136</th>\n",
       "      <td>42.167467</td>\n",
       "      <td>rural</td>\n",
       "    </tr>\n",
       "    <tr>\n",
       "      <th>137</th>\n",
       "      <td>46.779385</td>\n",
       "      <td>rural</td>\n",
       "    </tr>\n",
       "    <tr>\n",
       "      <th>138</th>\n",
       "      <td>58.135172</td>\n",
       "      <td>rural</td>\n",
       "    </tr>\n",
       "    <tr>\n",
       "      <th>139</th>\n",
       "      <td>37.691357</td>\n",
       "      <td>rural</td>\n",
       "    </tr>\n",
       "  </tbody>\n",
       "</table>\n",
       "<p>140 rows × 2 columns</p>\n",
       "</div>"
      ],
      "text/plain": [
       "          Edad    Zona\n",
       "0    64.967142  urbano\n",
       "1    58.617357  urbano\n",
       "2    66.476885  urbano\n",
       "3    75.230299  urbano\n",
       "4    57.658466  urbano\n",
       "..         ...     ...\n",
       "135  65.499344   rural\n",
       "136  42.167467   rural\n",
       "137  46.779385   rural\n",
       "138  58.135172   rural\n",
       "139  37.691357   rural\n",
       "\n",
       "[140 rows x 2 columns]"
      ]
     },
     "metadata": {},
     "output_type": "display_data"
    },
    {
     "data": {
      "text/html": [
       "<div>\n",
       "<style scoped>\n",
       "    .dataframe tbody tr th:only-of-type {\n",
       "        vertical-align: middle;\n",
       "    }\n",
       "\n",
       "    .dataframe tbody tr th {\n",
       "        vertical-align: top;\n",
       "    }\n",
       "\n",
       "    .dataframe thead th {\n",
       "        text-align: right;\n",
       "    }\n",
       "</style>\n",
       "<table border=\"1\" class=\"dataframe\">\n",
       "  <thead>\n",
       "    <tr style=\"text-align: right;\">\n",
       "      <th></th>\n",
       "      <th>Edad</th>\n",
       "    </tr>\n",
       "    <tr>\n",
       "      <th>Zona</th>\n",
       "      <th></th>\n",
       "    </tr>\n",
       "  </thead>\n",
       "  <tbody>\n",
       "    <tr>\n",
       "      <th>rural</th>\n",
       "      <td>49.655161</td>\n",
       "    </tr>\n",
       "    <tr>\n",
       "      <th>urbano</th>\n",
       "      <td>58.961535</td>\n",
       "    </tr>\n",
       "  </tbody>\n",
       "</table>\n",
       "</div>"
      ],
      "text/plain": [
       "             Edad\n",
       "Zona             \n",
       "rural   49.655161\n",
       "urbano  58.961535"
      ]
     },
     "metadata": {},
     "output_type": "display_data"
    }
   ],
   "source": [
    "import pandas as pd\n",
    "import numpy as np\n",
    "\n",
    "# Generamos datos simulados\n",
    "np.random.seed(42)\n",
    "data_urbana = np.random.normal(loc=60, scale=10, size=100)  # Más casos en zonas urbanas\n",
    "data_rural = np.random.normal(loc=50, scale=10, size=40)    # Menos casos en zonas rurales\n",
    "\n",
    "# Unimos los datos\n",
    "data = np.concatenate([data_urbana, data_rural])\n",
    "labels = ['urbano'] * 100 + ['rural'] * 40\n",
    "\n",
    "# Creamos el DataFrame\n",
    "df = pd.DataFrame({'Edad': data, 'Zona': labels})\n",
    "display(df)\n",
    "\n",
    "# Visualizamos el problema del sesgo de selección\n",
    "display(df.groupby('Zona').mean())\n"
   ]
  },
  {
   "cell_type": "markdown",
   "id": "71b8465c",
   "metadata": {},
   "source": [
    "2. Sesgo de Información (Information Bias)\n",
    "\n",
    "Este tipo de sesgo ocurre cuando hay errores en la medición de las variables o en la información recopilada, lo que lleva a conclusiones erróneas.\n",
    "\n",
    "Ejemplo:\n",
    "Imagina que un sensor que mide la temperatura está defectuoso y siempre registra temperaturas 5 grados más altas."
   ]
  },
  {
   "cell_type": "code",
   "execution_count": 2,
   "id": "e7c1800e",
   "metadata": {},
   "outputs": [
    {
     "name": "stdout",
     "output_type": "stream",
     "text": [
      "        Real     Medida\n",
      "0  21.137300  26.137300\n",
      "1  26.535714  31.535714\n",
      "2  11.962584  16.962584\n",
      "3  20.923169  25.923169\n",
      "4  21.299414  26.299414\n"
     ]
    }
   ],
   "source": [
    "# Simulación de lecturas de temperatura\n",
    "temperaturas_reales = np.random.normal(loc=20, scale=5, size=100)\n",
    "temperaturas_medidas = temperaturas_reales + 5  # Sensor defectuoso\n",
    "\n",
    "# Comparación de temperaturas\n",
    "df_temp = pd.DataFrame({'Real': temperaturas_reales, 'Medida': temperaturas_medidas})\n",
    "print(df_temp.head())\n"
   ]
  },
  {
   "cell_type": "markdown",
   "id": "571cde4d",
   "metadata": {},
   "source": [
    "3. Sesgo de Confirmación (Confirmation Bias)\n",
    "\n",
    "El sesgo de confirmación es la tendencia a favorecer, buscar, interpretar y recordar información de una manera que confirma las creencias o hipótesis preexistentes, mientras se da menos consideración a posibles alternativas.\n",
    "\n",
    "Ejemplo:\n",
    "Supongamos que solo recolectamos datos adicionales cuando estos apoyan nuestra hipótesis inicial."
   ]
  },
  {
   "cell_type": "code",
   "execution_count": 3,
   "id": "fcf4dfd0",
   "metadata": {},
   "outputs": [
    {
     "name": "stdout",
     "output_type": "stream",
     "text": [
      "Media observada: -0.05921206077930762\n",
      "Nueva media con sesgo de confirmación: -0.05921206077930762\n"
     ]
    }
   ],
   "source": [
    "# Generamos datos iniciales\n",
    "datos = np.random.normal(loc=0, scale=1, size=50)\n",
    "\n",
    "# Suponemos que nuestra hipótesis es que la media es positiva\n",
    "media_observada = np.mean(datos)\n",
    "print(\"Media observada:\", media_observada)\n",
    "\n",
    "# Recolectamos más datos solo si la media observada es positiva\n",
    "if media_observada > 0:\n",
    "    datos_adicionales = np.random.normal(loc=0.5, scale=1, size=20)\n",
    "    datos = np.concatenate([datos, datos_adicionales])\n",
    "\n",
    "# Nueva media observada\n",
    "nueva_media = np.mean(datos)\n",
    "print(\"Nueva media con sesgo de confirmación:\", nueva_media)\n"
   ]
  },
  {
   "cell_type": "markdown",
   "id": "da8e3836",
   "metadata": {},
   "source": [
    "Resultados observados:\n",
    "\n",
    "Si la media inicial es positiva, se añaden los datos adicionales, lo que podría incrementar aún más la media debido a la media positiva de los nuevos datos.\n",
    "\n",
    "Si la media inicial no es positiva (como en tu caso donde es aproximadamente -0.059), no se añaden datos adicionales, por lo que la media final es igual a la media inicial."
   ]
  },
  {
   "cell_type": "markdown",
   "id": "b99178b4-3b19-47db-b67c-b72376021169",
   "metadata": {},
   "source": [
    "> **Ejercicio 2.2**: *Investigar la influencia del sesgo en Machine Learning incluye un caso breve en este mismo notebook.*"
   ]
  },
  {
   "cell_type": "markdown",
   "id": "56565cf4",
   "metadata": {},
   "source": [
    "Caso de Sesgo en el Reconocimiento Facial\n",
    "\n",
    "Descripción del caso:\n",
    "Uno de los ejemplos más citados de sesgo en el aprendizaje automático es el sesgo racial en los algoritmos de reconocimiento facial. Investigaciones y pruebas han demostrado que los sistemas de reconocimiento facial tienden a tener tasas más altas de errores cuando identifican rostros de personas de color en comparación con rostros de personas blancas. Este problema se debe en gran parte a la falta de diversidad en los conjuntos de datos utilizados para entrenar estos sistemas.\n",
    "\n",
    "\n",
    "Los algoritmos de reconocimiento facial son entrenados con conjuntos de datos compuestos por imágenes de rostros. Si la mayoría de las imágenes en un conjunto de datos son de personas de un grupo étnico particular, el algoritmo aprende a reconocer mejor esos rostros y puede no desempeñarse igual de bien con rostros de otros grupos étnicos."
   ]
  },
  {
   "cell_type": "code",
   "execution_count": 4,
   "id": "50a2390a",
   "metadata": {},
   "outputs": [
    {
     "name": "stdout",
     "output_type": "stream",
     "text": [
      "Accuracy: 0.83\n"
     ]
    }
   ],
   "source": [
    "import numpy as np\n",
    "from sklearn.model_selection import train_test_split\n",
    "from sklearn.ensemble import RandomForestClassifier\n",
    "from sklearn.metrics import accuracy_score\n",
    "\n",
    "# Simular datos\n",
    "np.random.seed(42)\n",
    "group1 = np.random.normal(loc=0, scale=1, size=(100, 10))  # Grupo mayoritario\n",
    "group2 = np.random.normal(loc=0.5, scale=1, size=(20, 10))  # Grupo minoritario\n",
    "\n",
    "# Etiquetas de grupo\n",
    "labels1 = [0]*100\n",
    "labels2 = [1]*20\n",
    "\n",
    "# Unir datos\n",
    "data = np.vstack((group1, group2))\n",
    "labels = np.array(labels1 + labels2)\n",
    "\n",
    "# Dividir datos\n",
    "X_train, X_test, y_train, y_test = train_test_split(data, labels, test_size=0.3, random_state=42)\n",
    "\n",
    "# Entrenar un clasificador\n",
    "clf = RandomForestClassifier(random_state=42)\n",
    "clf.fit(X_train, y_train)\n",
    "\n",
    "# Predecir y evaluar\n",
    "predictions = clf.predict(X_test)\n",
    "accuracy = accuracy_score(y_test, predictions)\n",
    "print(f\"Accuracy: {accuracy:.2f}\")\n"
   ]
  },
  {
   "cell_type": "markdown",
   "id": "700cd322",
   "metadata": {},
   "source": [
    "En este código, group1 tiene una representación mucho mayor que group2, lo que podría influir en cómo el modelo aprende a clasificar los dos grupos, posiblemente favoreciendo al grupo mayoritario. Este es un ejemplo simple que refleja cómo la representación desigual en los datos de entrenamiento puede llevar a un sesgo en el modelo."
   ]
  },
  {
   "cell_type": "markdown",
   "id": "4cd378fc-07b4-430f-a592-60491de26273",
   "metadata": {},
   "source": [
    "### <font color=violet size=10>2.2.4 Selección Aleatoria</font>\n",
    "***\n",
    "\n",
    "Cuando se trata de muestreo, imagínate que quieres entender lo que piensa un grupo de gente—como en una elección. Si solo preguntas a tus amigos, obtendrás una idea sesgada porque todos son como tú. Eso es lo que pasó en un caso famoso donde predijeron mal el resultado de una elección. Para solucionarlo, ahora usamos técnicas que nos aseguran obtener una \"foto\" más precisa de toda la población, seleccionando personas al azar.\n",
    "\n",
    "Es como si quisieras saber qué sabor de helado prefieren en tu ciudad y, en lugar de solo preguntar en tu barrio, vas y haces una encuesta en diferentes partes de la ciudad, al azar. Esto puede ser desde elegir clientes al azar en una base de datos hasta tomar en cuenta variables como la hora del día para capturar diferentes tipos de personas."
   ]
  },
  {
   "cell_type": "markdown",
   "id": "7bd367fd-c0a9-4772-851a-bbf5b41b6ccc",
   "metadata": {},
   "source": [
    "\n",
    "#### <font color=violet size=10>Tamaño versus Calidad: ¿Cuándo Importa el Tamaño?</font>\n",
    "***\n",
    "\n",
    "En la era de la abundancia de datos, a veces pensamos que entre más, mejor. Pero no siempre es así. Trabajar con muestras más pequeñas nos permite profundizar más y entender mejor los datos. Si tienes millones de registros, podría ser un lío buscar errores o datos faltantes, pero si trabajas con unos miles, puedes manejar mejor esta búsqueda y realmente entender lo que está pasando.\n",
    "\n"
   ]
  },
  {
   "cell_type": "markdown",
   "id": "35ee975e-ed4c-4182-833d-8a96b95d6719",
   "metadata": {},
   "source": [
    "#### <font color=violet size=10>Ejemplo de Importancia de la Calidad versus el Tamaño de los Datos</font>\n",
    "***\n",
    "\n",
    "Ejemplo Práctico: Imagina una tienda en línea analizando la satisfacción del cliente. Pueden tener millones de transacciones, pero solo un pequeño grupo de clientes deja reseñas. Si solo analizan las reseñas detalladas, aunque sean menos, obtendrán insights mucho más valiosos sobre qué hace feliz o infeliz a un cliente, en lugar de perderse en un mar de datos menos detallados.\n"
   ]
  },
  {
   "cell_type": "markdown",
   "id": "9638deb7-988f-41df-a603-29b7ed31bd92",
   "metadata": {},
   "source": [
    "#### <font color=violet size=10>2.2.6 Media Muestral versus Media Poblacional</font>\n",
    "***\n",
    "\n",
    "En estadística, usamos x̄ (pronunciado \"x-barra\") para hablar de la media de una muestra pequeña y 'μ' (mu) para la media de toda la población. Es como si sacaras el promedio de notas de una clase (muestra) y lo compararas con el promedio de toda la escuela (población). Observamos la muestra y, a partir de ahí, inferimos cosas sobre la población completa."
   ]
  },
  {
   "cell_type": "markdown",
   "id": "5de26ea8-0423-48cb-b3d8-beccc05d68b9",
   "metadata": {},
   "source": [
    "#### <font color=violet size=10>2.2.7 Regresión a la Media</font>\n",
    "***\n",
    "\n",
    "Este concepto se refiere a que cuando algo es extremadamente alto o bajo, lo siguiente que mides probablemente estará más cerca del promedio. Es como el \"novato del año\" en deportes, que tiene una temporada increíble y luego parece menos espectacular al año siguiente. Muchas veces, el primer año tuvo suerte además de habilidad, y el siguiente año, la suerte quizás no acompaña tanto, por lo que sus resultados vuelven al promedio."
   ]
  },
  {
   "cell_type": "markdown",
   "id": "2781a738-2f38-463a-b2d4-6ffb11cb9b7c",
   "metadata": {},
   "source": [
    "![Fig. 2.4](Datos/2.4.png)"
   ]
  },
  {
   "cell_type": "markdown",
   "id": "17ce9d8d-4a3a-415d-896a-0037cec8d3c9",
   "metadata": {},
   "source": [
    " \n",
    "Este fenómeno estadístico se conoce como regresión a la media y se produce cuando se realizan mediciones repetidas.Significa que, en general, las observaciones relativamente altas (o bajas) suelen ir seguidas de otras menos extremas más cercanas a la media real del sujeto.La regresión a la media sigue siendo un fenómeno estadístico importante que a menudo no se tiene en cuenta y que puede dar lugar a conclusiones engañosas.Por ejemplo, las estadísticas oficiales publicadas sobre el impacto de los radares de velocidad sugerían que salvaban una media de 100 vidas al año.Este resultado se basaba en el descenso de accidentes mortales que se había producido desde la instalación de los radares.Sin embargo, los radares de velocidad suelen instalarse después de que se haya producido un número inusualmente alto de accidentes, por lo que, en general, cabría esperar que estos volvieran después a niveles normales. Otro análisis que tuvo en cuenta la regresión a la media descubrió que el 50% del descenso de los accidentes se habría producido tanto si se hubiera instalado un radar de velocidad como si no.Esto pone de relieve que, aunque los radares de velocidad pueden reducir el número de accidentes mortales en carretera, la estimación de la magnitud de su efecto debe hacerse con cuidado.  \n"
   ]
  },
  {
   "cell_type": "markdown",
   "id": "b1c4a344-0694-464e-98d8-56e4281cbdf0",
   "metadata": {},
   "source": [
    "### Ejemplo en aprendizaje automático"
   ]
  },
  {
   "cell_type": "markdown",
   "id": "3f6b73cf-2648-4274-9bf0-bd5dddb54e4d",
   "metadata": {},
   "source": [
    "Supongamos que se entrena un modelo de clasificación para predecir si un cliente comprará o no un producto basado en ciertos datos de comportamiento. Durante el proceso de evaluación, se realiza una prueba en un conjunto de datos de validación, y el modelo obtiene una precisión extremadamente alta, mucho mayor que la obtenida en otras pruebas anteriores.\n",
    "\n",
    "Es tentador pensar que el modelo es excepcionalmente bueno, pero esta alta precisión podría ser un resultado fortuito debido a la particularidad de ese conjunto de validación (quizás el conjunto de datos era más fácil de predecir por casualidad). Al probar el modelo en otros conjuntos de datos adicionales o en datos nuevos, es probable que la precisión vuelva a un nivel más cercano al promedio obtenido anteriormente. Este es un caso de regresión a la media en aprendizaje automático: después de un rendimiento extremo, los resultados posteriores tienden a ser más cercanos a la media de los resultados anteriores."
   ]
  },
  {
   "cell_type": "markdown",
   "id": "96213423-1843-410f-bfeb-5d55ebe40519",
   "metadata": {},
   "source": [
    "> **Ejercicio 2.3** Supongamos que tienes los resultados de dos exámenes de matemáticas de un grupo de 100 estudiantes. El primer examen se realizó al inicio del semestre y el segundo examen al final del semestre. Queremos analizar si existe una regresión a la media entre los resultados de estos dos exámenes.\n",
    "\n",
    "> Observa los resultados en el gráfico (ejecute el código). Compara los estudiantes que obtuvieron puntuaciones extremadamente altas o bajas en el primer examen con sus puntuaciones en el segundo examen. ¿Notas alguna tendencia hacia el promedio en sus puntuaciones?"
   ]
  },
  {
   "cell_type": "code",
   "execution_count": 6,
   "id": "2b711255",
   "metadata": {},
   "outputs": [
    {
     "data": {
      "image/png": "[encoded data removed]",
      "text/plain": [
       "<Figure size 800x600 with 1 Axes>"
      ]
     },
     "metadata": {},
     "output_type": "display_data"
    }
   ],
   "source": [
    "import matplotlib.pyplot as plt\n",
    "import numpy as np\n",
    "\n",
    "# Simulación de resultados de exámenes\n",
    "np.random.seed(42)\n",
    "exam1_scores = np.random.normal(70, 15, 100)  # Puntuaciones del primer examen\n",
    "exam2_scores = exam1_scores * 0.5 + np.random.normal(35, 10, 100)  # Puntuaciones del segundo examen con regresión a la media\n",
    "\n",
    "# Crear el gráfico\n",
    "plt.figure(figsize=(8, 6))\n",
    "plt.scatter(exam1_scores, exam2_scores, color='blue', alpha=0.6)\n",
    "plt.plot([30, 110], [30, 110], color='red', linestyle='--')  # Línea de referencia (sin regresión)\n",
    "plt.title('Regresión a la Media en Resultados de Exámenes')\n",
    "plt.xlabel('Puntuación en el Primer Examen')\n",
    "plt.ylabel('Puntuación en el Segundo Examen')\n",
    "plt.grid(True)\n",
    "plt.show()"
   ]
  },
  {
   "cell_type": "markdown",
   "id": "2d2802be-2619-4464-862c-3df0bfc1a834",
   "metadata": {},
   "source": [
    "> a. ¿Qué observas en el gráfico en términos de regresión a la media?\n",
    "\n",
    "> b. ¿Por qué crees que los estudiantes que obtuvieron puntuaciones extremadamente altas o bajas en el primer examen tienden a acercarse más al promedio en el segundo examen?\n",
    "\n",
    "> c. ¿Cómo podría este concepto aplicarse en otras áreas, como en el análisis de rendimiento en deportes o en la predicción de ventas?"
   ]
  },
  {
   "cell_type": "markdown",
   "id": "21c568ab",
   "metadata": {},
   "source": [
    "A) En el gráfico proporcionado, la regresión a la media es evidente, especialmente al observar cómo los puntos se alejan de la línea roja punteada (que indica igualdad de puntuaciones entre los dos exámenes) a medida que nos movemos hacia los extremos en el eje X (puntuaciones del primer examen). Los estudiantes con puntuaciones muy altas o muy bajas en el primer examen tienden a tener puntuaciones más cercanas al promedio del grupo en el segundo examen. Esto se manifiesta en que los puntos tienden a agruparse más cerca de la línea horizontal que representa el promedio general de los dos exámenes, en lugar de alinearse con la línea roja punteada."
   ]
  },
  {
   "cell_type": "markdown",
   "id": "98f6abe6",
   "metadata": {},
   "source": [
    "b. Explicación de la Tendencia hacia el Promedio\n",
    "La tendencia de los estudiantes que obtuvieron puntuaciones extremadamente altas o bajas en el primer examen a acercarse más al promedio en el segundo examen se puede atribuir a varios factores:\n",
    "\n",
    "Variabilidad Aleatoria: Las puntuaciones extremas pueden ser influenciadas por factores aleatorios como el estado de ánimo del estudiante, la familiaridad con los temas específicos del examen, o incluso errores en la evaluación. Estos factores pueden no repetirse de la misma manera, llevando las puntuaciones hacia un resultado más 'normal' o promedio en sucesivas evaluaciones.\n",
    "\n",
    "Errores de Medición: En cualquier tipo de prueba o medición, siempre hay un grado de error de medición. Los estudiantes que extremadamente bien o mal podrían haber tenido suerte o mala suerte respectivamente, y es probable que estos extremos no se repitan debido a la naturaleza aleatoria de dichos errores.\n",
    "\n",
    "Adaptación y Aprendizaje: Los estudiantes en los extremos pueden cambiar su comportamiento de estudio entre los exámenes. Los que lo hicieron excepcionalmente bien pueden sentirse complacientes, mientras que los que lo hicieron mal pueden esforzarse más, resultando en una puntuación que regresa hacia el promedio del grupo."
   ]
  },
  {
   "cell_type": "markdown",
   "id": "02d60fbd",
   "metadata": {},
   "source": [
    "c. Aplicación de la Regresión a la Media en Otros Ámbitos\n",
    "Deportes:\n",
    "\n",
    "En el deporte, especialmente en ligas profesionales, frecuentemente se ve la regresión a la media con \"novatos del año\" que tienen temporadas destacadas seguidas por temporadas menos espectaculares. Esto se puede analizar y prever para tomar decisiones sobre contratos, entrenamientos, y estrategias de juego. Por ejemplo, un equipo podría evitar sobrevalorar a un jugador basándose en una sola temporada excepcional.\n",
    "Negocios y Ventas:\n",
    "\n",
    "En el ámbito empresarial, particularmente en ventas, la regresión a la media puede ayudar a moderar las expectativas después de un periodo particularmente bueno o malo. Si un producto tiene un pico de ventas debido a una campaña publicitaria, es probable que las ventas \"regresen\" a un nivel más normal después de que el efecto de la campaña se disipe.\n",
    "Además, se puede usar para ajustar las estrategias de producción y marketing, entendiendo que los extremos en las ventas pueden no ser sostenibles a largo plazo.\n",
    "Finanzas:\n",
    "\n",
    "En las inversiones, el rendimiento extremo de una acción o fondo en un año dado a menudo regresa al promedio en años siguientes. Esto es crucial para la gestión de portafolios, evitando decisiones basadas en rendimientos anormalmente altos o bajos que pueden no ser repetibles."
   ]
  },
  {
   "cell_type": "markdown",
   "id": "0544f876-39b6-4fa4-9b99-a34f4454633b",
   "metadata": {},
   "source": [
    "\n",
    "### Ideas Clave\n",
    "- Especificar una hipótesis y luego recopilar datos siguiendo los principios de aleatorización y muestreo aleatorio asegura contra el sesgo.\n",
    "- La regresión a la media, que significa \"volver atrás\", es distinta del método de modelado estadístico de regresión lineal, en el cual se estima una relación lineal entre variables predictoras y una variable de resultado.\n"
   ]
  },
  {
   "cell_type": "markdown",
   "id": "28975bef-a070-4259-89a6-e2186fb288ae",
   "metadata": {},
   "source": [
    "## <font color=green size=10>2.3 Distribución Muestral de una Estadística</font>\n",
    "***\n",
    "\n",
    "El término \"distribución muestral de una estadística\" se refiere a la distribución de una estadística muestral sobre muchas muestras tomadas de la misma población. Gran parte de la estadística clásica se ocupa de hacer inferencias de (pequeñas) muestras a (muy grandes) poblaciones.\n",
    "\n",
    "### Términos Clave para la Distribución Muestral\n",
    "\n",
    "**Estadística muestral**  \n",
    "Una métrica calculada para una muestra de datos extraída de una población más grande.\n",
    "\n",
    "**Distribución de datos**  \n",
    "La distribución de frecuencias de valores individuales en un conjunto de datos.\n",
    "\n",
    "**Distribución muestral**  \n",
    "La distribución de frecuencias de una estadística muestral sobre muchas muestras o resamples.\n",
    "\n",
    "**Teorema del límite central**  \n",
    "La tendencia de la distribución muestral a adoptar una forma normal a medida que aumenta el tamaño de la muestra.\n",
    "\n",
    "**Error estándar**  \n",
    "La variabilidad (desviación estándar) de una estadística muestral en muchas muestras (no debe confundirse con la desviación estándar, que por sí sola se refiere a la variabilidad de valores individuales de datos).\n",
    "\n",
    "### Explicaciones Adicionales\n",
    "\n",
    "Típicamente, se toma una muestra con el objetivo de medir algo (con una estadística muestral) o modelar algo (con un modelo estadístico o de aprendizaje automático). Dado que nuestra estimación o modelo se basa en una muestra, podría tener errores; podría ser diferente si tomáramos una muestra diferente. Por lo tanto, nos interesa saber qué tan diferente podría ser: una preocupación clave es la variabilidad muestral. Si tuviéramos muchos datos, podríamos tomar muestras adicionales y observar directamente la distribución de una estadística muestral.\n",
    "\n",
    "Es importante distinguir entre la distribución de los puntos de datos individuales, conocida como la distribución de datos, y la distribución de una estadística muestral, conocida como la distribución muestral.\n",
    "\n",
    "Esto se ilustra en un ejemplo usando el ingreso anual de los solicitantes de préstamos de LendingClub.  \n",
    "La tabla 2.1 muestra algunos registros de datos de préstamos personales de LendingClub. LendingClub es un líder en préstamos entre personas (peer-to-peer lending), donde grupos de inversionistas otorgan préstamos personales a individuos.\n"
   ]
  },
  {
   "cell_type": "markdown",
   "id": "5bc7d21b-6226-4914-ac4c-5ce494748068",
   "metadata": {},
   "source": [
    "**Table 2.1. Algunos registros y columnas de datos de préstamos de LendingClub**\n",
    "\n",
    "| **Outcome** | **Loan amount** | **Income** | **Purpose**            | **Years employed** | **Home ownership** | **State** |\n",
    "|-------------|-----------------|------------|------------------------|--------------------|-------------------|-----------|\n",
    "| Paid off    | 10000           | 79100      | debt_consolidation     | 11                 | MORTGAGE          | NV        |\n",
    "| Paid off    | 9600            | 48000      | moving                 | 5                  | MORTGAGE          | TN        |\n",
    "| Paid off    | 18800           | 120036     | debt_consolidation     | 11                 | MORTGAGE          | MD        |\n",
    "| Default     | 15250           | 232000     | small_business         | 9                  | MORTGAGE          | CA        |\n",
    "| Paid off    | 17050           | 35000      | debt_consolidation     | 4                  | RENT              | MD        |\n",
    "| Paid off    | 5500            | 43000      | debt_consolidation     | 4                  | RENT              | KS        |\n"
   ]
  },
  {
   "cell_type": "markdown",
   "id": "adf94e03-8cd5-4b9a-9f9e-e632a193a5d0",
   "metadata": {},
   "source": [
    "\n",
    "A continuación se presenta una explicación de lo que representa cada columna en la tabla de datos de LendingClub:\n",
    "\n",
    "- **Outcome**: Indica el resultado del préstamo. Puede tener dos valores principales:\n",
    "  - **Paid off**: Significa que el préstamo fue pagado en su totalidad por el prestatario.\n",
    "  - **Default**: Significa que el prestatario incumplió y no pudo pagar el préstamo según lo acordado.\n",
    "\n",
    "- **Loan amount**: Representa la cantidad de dinero (en dólares) que fue prestada al individuo.\n",
    "\n",
    "- **Income**: Indica el ingreso anual del prestatario en dólares. Este dato se utiliza para evaluar la capacidad del prestatario para devolver el préstamo.\n",
    "\n",
    "- **Purpose**: Describe el propósito o razón por la cual el prestatario solicitó el préstamo. Ejemplos comunes incluyen:\n",
    "  - **debt_consolidation**: El prestatario solicitó el préstamo para consolidar deudas existentes.\n",
    "  - **moving**: El préstamo fue solicitado para cubrir gastos de mudanza.\n",
    "  - **small_business**: El prestatario solicitó el préstamo para financiar un pequeño negocio.\n",
    "\n",
    "- **Years employed**: Indica la cantidad de años que el prestatario ha estado empleado. Este dato es relevante para evaluar la estabilidad laboral del prestatario.\n",
    "\n",
    "- **Home ownership**: Describe el estado de propiedad de la vivienda del prestatario. Los valores comunes incluyen:\n",
    "  - **MORTGAGE**: El prestatario tiene una hipoteca sobre su vivienda.\n",
    "  - **RENT**: El prestatario vive en una vivienda alquilada.\n",
    "\n",
    "- **State**: Indica el estado de los Estados Unidos en el que reside el prestatario, usando abreviaturas de dos letras (por ejemplo, **NV** para Nevada, **CA** para California).\n",
    "\n",
    "Estas columnas proporcionan información clave que se puede utilizar para evaluar la solvencia del prestatario y el riesgo asociado al préstamo.\n"
   ]
  },
  {
   "cell_type": "markdown",
   "id": "cea90f70-076e-462c-8c86-56cef6387f8b",
   "metadata": {},
   "source": [
    "Una vez claro el significado de la tabla, vamos a tomar tres muestras de estos datos:  \n",
    "- una muestra de 1,000 valores: simplemente se seleccionarán 1,000 registros individuales de la tabla de datos de préstamos.\n",
    "  \n",
    "- una muestra de 1,000 medias de 5 valores: en lugar de tomar 1,000 registros individuales, se tomarán grupos de 5 registros y se calculará la media (promedio) de un valor específico en cada grupo (por ejemplo, la media del ingreso). Este proceso se repetirá hasta tener 1,000 medias, cada una calculada a partir de un grupo de 5 valores. Este enfoque nos permite observar cómo se comporta la media de pequeños grupos de datos en lugar de observar solo los valores individuales.\n",
    "  \n",
    "- una muestra de 1,000 medias de 20 valores: similar al anterior, pero en lugar de tomar grupos de 5 registros, se tomarán grupos de 20 registros. Nuevamente, se calculará la media para cada grupo y se repetirán los cálculos hasta obtener 1,000 medias, cada una basada en 20 valores. Este tipo de muestra nos da una idea de cómo la media de un tamaño de muestra más grande se comporta en comparación con la media de muestras más pequeñas (en este caso, de 5 valores).\n",
    "  \n",
    "Luego, se hace el histograma de cada muestra para producir la gráfica correspondiente."
   ]
  },
  {
   "cell_type": "code",
   "execution_count": 9,
   "id": "a02def80-478f-4667-b931-dbbd3d7676da",
   "metadata": {},
   "outputs": [
    {
     "data": {
      "text/html": [
       "<div>\n",
       "<style scoped>\n",
       "    .dataframe tbody tr th:only-of-type {\n",
       "        vertical-align: middle;\n",
       "    }\n",
       "\n",
       "    .dataframe tbody tr th {\n",
       "        vertical-align: top;\n",
       "    }\n",
       "\n",
       "    .dataframe thead th {\n",
       "        text-align: right;\n",
       "    }\n",
       "</style>\n",
       "<table border=\"1\" class=\"dataframe\">\n",
       "  <thead>\n",
       "    <tr style=\"text-align: right;\">\n",
       "      <th></th>\n",
       "      <th>income</th>\n",
       "      <th>type</th>\n",
       "    </tr>\n",
       "  </thead>\n",
       "  <tbody>\n",
       "    <tr>\n",
       "      <th>1346</th>\n",
       "      <td>45198.0</td>\n",
       "      <td>Data</td>\n",
       "    </tr>\n",
       "    <tr>\n",
       "      <th>37210</th>\n",
       "      <td>83000.0</td>\n",
       "      <td>Data</td>\n",
       "    </tr>\n",
       "    <tr>\n",
       "      <th>7819</th>\n",
       "      <td>70000.0</td>\n",
       "      <td>Data</td>\n",
       "    </tr>\n",
       "    <tr>\n",
       "      <th>32220</th>\n",
       "      <td>66000.0</td>\n",
       "      <td>Data</td>\n",
       "    </tr>\n",
       "    <tr>\n",
       "      <th>10349</th>\n",
       "      <td>90000.0</td>\n",
       "      <td>Data</td>\n",
       "    </tr>\n",
       "  </tbody>\n",
       "</table>\n",
       "</div>"
      ],
      "text/plain": [
       "        income  type\n",
       "1346   45198.0  Data\n",
       "37210  83000.0  Data\n",
       "7819   70000.0  Data\n",
       "32220  66000.0  Data\n",
       "10349  90000.0  Data"
      ]
     },
     "metadata": {},
     "output_type": "display_data"
    }
   ],
   "source": [
    "import pandas as pd\n",
    "import numpy as np\n",
    "from scipy import stats\n",
    "from sklearn.utils import resample\n",
    "\n",
    "import seaborn as sns\n",
    "import matplotlib.pylab as plt\n",
    "\n",
    "loans_income = pd.read_csv('Datos/loans_income.csv').squeeze('columns')\n",
    "\n",
    "sample_data = pd.DataFrame({\n",
    "    'income': loans_income.sample(1000),\n",
    "    'type': 'Data',\n",
    "})\n",
    "\n",
    "sample_mean_05 = pd.DataFrame({\n",
    "    'income': [loans_income.sample(5).mean() for _ in range(1000)],\n",
    "    'type': 'Mean of 5',\n",
    "})\n",
    "\n",
    "sample_mean_20 = pd.DataFrame({\n",
    "    'income': [loans_income.sample(20).mean() for _ in range(1000)],\n",
    "    'type': 'Mean of 20',\n",
    "})\n",
    "\n",
    "results = pd.concat([sample_data, sample_mean_05, sample_mean_20])\n",
    "display(results.head())"
   ]
  },
  {
   "cell_type": "code",
   "execution_count": 11,
   "id": "851d5fa7-77bf-405c-b700-e620469e61ba",
   "metadata": {},
   "outputs": [
    {
     "data": {
      "text/html": [
       "<div>\n",
       "<style scoped>\n",
       "    .dataframe tbody tr th:only-of-type {\n",
       "        vertical-align: middle;\n",
       "    }\n",
       "\n",
       "    .dataframe tbody tr th {\n",
       "        vertical-align: top;\n",
       "    }\n",
       "\n",
       "    .dataframe thead th {\n",
       "        text-align: right;\n",
       "    }\n",
       "</style>\n",
       "<table border=\"1\" class=\"dataframe\">\n",
       "  <thead>\n",
       "    <tr style=\"text-align: right;\">\n",
       "      <th></th>\n",
       "      <th>income</th>\n",
       "      <th>type</th>\n",
       "    </tr>\n",
       "  </thead>\n",
       "  <tbody>\n",
       "    <tr>\n",
       "      <th>995</th>\n",
       "      <td>69335.05</td>\n",
       "      <td>Mean of 20</td>\n",
       "    </tr>\n",
       "    <tr>\n",
       "      <th>996</th>\n",
       "      <td>67024.35</td>\n",
       "      <td>Mean of 20</td>\n",
       "    </tr>\n",
       "    <tr>\n",
       "      <th>997</th>\n",
       "      <td>67300.00</td>\n",
       "      <td>Mean of 20</td>\n",
       "    </tr>\n",
       "    <tr>\n",
       "      <th>998</th>\n",
       "      <td>63507.45</td>\n",
       "      <td>Mean of 20</td>\n",
       "    </tr>\n",
       "    <tr>\n",
       "      <th>999</th>\n",
       "      <td>65356.65</td>\n",
       "      <td>Mean of 20</td>\n",
       "    </tr>\n",
       "  </tbody>\n",
       "</table>\n",
       "</div>"
      ],
      "text/plain": [
       "       income        type\n",
       "995  69335.05  Mean of 20\n",
       "996  67024.35  Mean of 20\n",
       "997  67300.00  Mean of 20\n",
       "998  63507.45  Mean of 20\n",
       "999  65356.65  Mean of 20"
      ]
     },
     "metadata": {},
     "output_type": "display_data"
    }
   ],
   "source": [
    "display(results.tail())"
   ]
  },
  {
   "cell_type": "markdown",
   "id": "050fb620-60f5-402a-88b1-7a19ed1d00a2",
   "metadata": {},
   "source": [
    "> **Ejercicio 2.4**: *Explique el código de arriba. Con otro dataset de su preferencia repita el ejercicio de arriba.*   "
   ]
  },
  {
   "cell_type": "code",
   "execution_count": 21,
   "id": "b91ec040-66bc-495a-98c5-de863e1a0aa6",
   "metadata": {},
   "outputs": [],
   "source": [
    "# Guardar 'results' en un archivo CSV llamado 'results.csv'\n",
    "# results.to_csv('results.csv', index=False)"
   ]
  },
  {
   "cell_type": "code",
   "execution_count": 12,
   "id": "6b8fcf86",
   "metadata": {},
   "outputs": [
    {
     "data": {
      "image/png": "[encoded data removed]",
      "text/plain": [
       "<Figure size 1000x600 with 1 Axes>"
      ]
     },
     "metadata": {},
     "output_type": "display_data"
    }
   ],
   "source": [
    "import pandas as pd\n",
    "import numpy as np\n",
    "from scipy import stats\n",
    "import seaborn as sns\n",
    "import matplotlib.pylab as plt\n",
    "\n",
    "# Simulando un nuevo dataset de ingresos\n",
    "np.random.seed(42)  # Para reproducibilidad\n",
    "new_loans_income = pd.Series(np.random.normal(50000, 15000, 50000))\n",
    "\n",
    "# Creando muestras para el nuevo dataset\n",
    "new_sample_data = pd.DataFrame({\n",
    "    'income': new_loans_income.sample(1000),\n",
    "    'type': 'Data',\n",
    "})\n",
    "\n",
    "new_sample_mean_05 = pd.DataFrame({\n",
    "    'income': [new_loans_income.sample(5).mean() for _ in range(1000)],\n",
    "    'type': 'Mean of 5',\n",
    "})\n",
    "\n",
    "new_sample_mean_20 = pd.DataFrame({\n",
    "    'income': [new_loans_income.sample(20).mean() for _ in range(1000)],\n",
    "    'type': 'Mean of 20',\n",
    "})\n",
    "\n",
    "# Concatenar y visualizar resultados\n",
    "new_results = pd.concat([new_sample_data, new_sample_mean_05, new_sample_mean_20])\n",
    "\n",
    "# Visualizando los resultados con seaborn\n",
    "sns.set(style=\"whitegrid\")\n",
    "plt.figure(figsize=(10, 6))\n",
    "sns.boxplot(x='type', y='income', data=new_results)\n",
    "plt.title('Comparación de Ingresos Muestrales y sus Medias')\n",
    "plt.show()\n"
   ]
  },
  {
   "cell_type": "markdown",
   "id": "30866557-210e-4e99-a67e-910c8ac21342",
   "metadata": {},
   "source": [
    "Ahora vamos a obtener los histogramas:"
   ]
  },
  {
   "cell_type": "code",
   "execution_count": 13,
   "id": "383227e5-7545-47fe-91f0-c704f179cc1b",
   "metadata": {},
   "outputs": [
    {
     "data": {
      "image/png": "[encoded data removed]",
      "text/plain": [
       "<Figure size 400x600 with 3 Axes>"
      ]
     },
     "metadata": {},
     "output_type": "display_data"
    }
   ],
   "source": [
    "import seaborn as sns\n",
    "import matplotlib.pyplot as plt\n",
    "\n",
    "\n",
    "g = sns.FacetGrid(results, col='type', col_wrap=1, \n",
    "                  height=2, aspect=2)\n",
    "g.map(plt.hist, 'income', range=[0, 200000], bins=40)\n",
    "g.set_axis_labels('Income', 'Count')\n",
    "g.set_titles('{col_name}')\n",
    "\n",
    "\n",
    "g.fig.suptitle('Figura 2.5', fontsize=14)\n",
    "\n",
    "\n",
    "plt.tight_layout(rect=[0, 0, 1, 0.95])\n",
    "\n",
    "\n",
    "plt.show()"
   ]
  },
  {
   "cell_type": "markdown",
   "id": "2939d97f-befa-48c6-8710-46cbf0f3314d",
   "metadata": {},
   "source": [
    "> **Ejercicio 2.5**: *Explique el codigo dado arriba. Con el mismo dataset usado en el ejercicio 2.4 haga los plots*"
   ]
  },
  {
   "cell_type": "code",
   "execution_count": 14,
   "id": "f13a7d9c",
   "metadata": {},
   "outputs": [
    {
     "data": {
      "image/png": "[encoded data removed]",
      "text/plain": [
       "<Figure size 1800x600 with 3 Axes>"
      ]
     },
     "metadata": {},
     "output_type": "display_data"
    }
   ],
   "source": [
    "import seaborn as sns\n",
    "import matplotlib.pyplot as plt\n",
    "\n",
    "# Ajustes de estilo para los gráficos\n",
    "sns.set(style=\"whitegrid\")\n",
    "\n",
    "# Creación de figuras para los histogramas\n",
    "plt.figure(figsize=(18, 6))\n",
    "\n",
    "# Histograma para los datos directos\n",
    "plt.subplot(1, 3, 1)  # 1 fila, 3 columnas, primer gráfico\n",
    "sns.histplot(new_sample_data['income'], bins=30, kde=False, color='blue')\n",
    "plt.title('Histograma de Ingresos Directos')\n",
    "plt.xlabel('Ingreso')\n",
    "plt.ylabel('Frecuencia')\n",
    "\n",
    "# Histograma para la media de muestras de tamaño 5\n",
    "plt.subplot(1, 3, 2)\n",
    "sns.histplot(new_sample_mean_05['income'], bins=30, kde=False, color='green')\n",
    "plt.title('Histograma de la Media de Muestras de 5')\n",
    "plt.xlabel('Ingreso')\n",
    "plt.ylabel('Frecuencia')\n",
    "\n",
    "# Histograma para la media de muestras de tamaño 20\n",
    "plt.subplot(1, 3, 3)\n",
    "sns.histplot(new_sample_mean_20['income'], bins=30, kde=False, color='red')\n",
    "plt.title('Histograma de la Media de Muestras de 20')\n",
    "plt.xlabel('Ingreso')\n",
    "plt.ylabel('Frecuencia')\n",
    "\n",
    "# Mostrar los histogramas\n",
    "plt.tight_layout()\n",
    "plt.show()\n"
   ]
  },
  {
   "cell_type": "markdown",
   "id": "ce78d9cb-8ebb-4443-8cac-b67ad3a0b51e",
   "metadata": {},
   "source": [
    "El histograma de los valores de datos individuales está ampliamente distribuido y sesgado hacia valores más altos, como es de esperar con los datos de ingresos. Los histogramas de las medias de 5 y 20 valores son cada vez más compactos y tienen una forma más similar a una campana.\n"
   ]
  },
  {
   "cell_type": "markdown",
   "id": "c6368324-5bf6-4ed9-af50-73fd57c48c9e",
   "metadata": {},
   "source": [
    "## <font color=green size=10>2.4 Teorema del límite central </font>\n",
    "***\n",
    "\n",
    "Imagina que estás tomando fotos con una cámara antigua que no siempre es precisa. A veces tus fotos salen demasiado oscuras o demasiado claras, pero si tomas muchas fotos del mismo lugar, la mayoría terminará viéndose \"normal\". Eso es un poco lo que dice el Teorema del Límite Central sobre los datos: no importa qué tan extraña sea la \"foto\" (distribución) de tu conjunto de datos original, si tomas suficientes muestras y calculas su media, el resultado parecerá más y más a lo que esperaríamos de una distribución normal (la clásica curva en forma de campana)."
   ]
  },
  {
   "cell_type": "markdown",
   "id": "8406a07a-4f11-435d-bd19-157e3bf8791b",
   "metadata": {},
   "source": [
    "#### <font color=violet size=10>Error Estándar</font>\n",
    "***\n",
    "\n",
    "Piensa en el error estándar como una manera de medir qué tan confiables son tus medias de muestras. Es como intentar calcular cuán cerca está el dardo del centro del blanco cada vez que lanzas. Mientras más dardos lanzas, más precisos puedes ser sobre cuán buen tirador eres. En estadística, mientras más grande es tu muestra, más pequeño es el error estándar, y más confianza puedes tener en que tu media de muestra está cerca de la media real de toda la población.\n",
    "\n",
    "# $\\text{Error estándar} = SE = \\frac{s}{\\sqrt{n}}$\n",
    "\n",
    "A medida que aumenta el tamaño de la muestra, el error estándar disminuye, lo que corresponde a lo observado en la Figura 2.5. \n",
    "\n",
    "Considera el siguiente enfoque para medir el error estándar:\n",
    "\n",
    "1. Recoge una serie de nuevas muestras de la población.\n",
    "2. Para cada nueva muestra, calcula la estadística (por ejemplo, la media).\n",
    "3. Calcula la desviación estándar de las estadísticas calculadas en el paso 2; utiliza esto como tu estimación del error estándar.\n",
    "\n",
    "En la práctica, este enfoque de recolectar nuevas muestras para estimar el error estándar no suele ser muy eficiente. En su lugar, puedes utilizar remuestreo **bootstrap**. En la estadística moderna, el bootstrap se ha convertido en la forma mas usada de estimar el error estándar. Puede utilizarse para prácticamente cualquier estadística y no depende del teorema del límite central u otros supuestos de distribución.\n",
    "\n",
    "\n",
    "#### <font color=violet size=10>Desviación Estándar versus Error Estándar</font>\n",
    "***\n",
    "\n",
    "No confundir la desviación estándar (que mide la variabilidad de puntos de datos individuales) con el error estándar (que mide la variabilidad de una métrica de la muestra).\n",
    "\n",
    "### Ideas Clave\n",
    "\n",
    "- La distribución de frecuencias de una estadística muestral nos dice cómo esa métrica podría variar de una muestra a otra.\n",
    "- Esta distribución muestral puede estimarse a través del bootstrap o mediante fórmulas que dependen del teorema del límite central.\n",
    "- Una métrica clave que resume la variabilidad de una estadística muestral es su error estándar."
   ]
  },
  {
   "cell_type": "markdown",
   "id": "a8ad5a71-2394-4fa3-9aef-f9f4faf0c0d6",
   "metadata": {},
   "source": [
    "## <font color=green size=10>2.6 Bootstrap</font>\n",
    "***\n",
    "\n",
    "El bootstrap es como hacer trampa en una prueba de práctica al usar las preguntas que ya sabes que estarán en el examen. En lugar de salir y recolectar nuevas muestras, que puede ser caro y consumir mucho tiempo, simplemente reutilizas los datos que ya tienes de maneras inteligentes para estimar cuánto podrían variar tus resultados. Esto te ayuda a entender qué tan estables son tus estadísticas, como la media, incluso sin asumir que tus datos se ajustan perfectamente a una distribución normal.\n",
    "\n",
    "### Términos Clave para el Bootstrap\n",
    "\n",
    ">**Bootstrap Sample**  \n",
    "Una muestra tomada con reemplazo de un conjunto de datos observado.\n",
    "\n",
    ">**Remuestreo (Resampling)**  \n",
    "El proceso de tomar muestras repetidas de datos observados; incluye tanto procedimientos de bootstrap como de permutación (shuffling).\n",
    "\n",
    "Conceptualmente, se puede imaginar el bootstrap como replicar la muestra original miles o millones de veces para que tengas una población hipotética que encarna todo el conocimiento de tu muestra original (simplemente es más grande). Luego puedes tomar muestras de esta población hipotética con el propósito de estimar una distribución muestral; ver la Figura 2.6.\n",
    "\n"
   ]
  },
  {
   "cell_type": "markdown",
   "id": "def4410f-21ba-4549-8473-924900eba98a",
   "metadata": {},
   "source": [
    "![Fig 2.6](dATOS/2.6.png)"
   ]
  },
  {
   "cell_type": "markdown",
   "id": "bb789a25-d5a3-453a-8948-561562d69320",
   "metadata": {},
   "source": [
    "### ¿Cómo funciona el Bootstrap?\n",
    "\n",
    "El proceso de bootstrap se puede resumir en los siguientes pasos:\n",
    "\n",
    "1. **Toma de muestras con reemplazo:**\n",
    "\n",
    "  Imagina que tienes una bolsa llena de canicas de diferentes colores, cada canica representa un dato de tu conjunto original. Cuando realizas una toma de muestras con reemplazo, sacas una canica, registras su color (el dato) y luego la devuelves a la bolsa. Esto significa que esa misma canica podría ser seleccionada de nuevo en la misma muestra. Este paso es crucial porque te asegura que cada muestra que generes pueda tener la misma diversidad (o incluso duplicados) que tienes en el conjunto de datos original. Así, cada muestra puede ser considerada como una posible representación del conjunto total.\n",
    "\n",
    "2. **Cálculo de la estadística:**\n",
    "\n",
    "   Una vez que tienes tu muestra (digamos, un puñado de canicas sacadas de la bolsa), calculas lo que te interesa saber. Por ejemplo, si quieres conocer el color promedio, calcularías cuál es el color más frecuente en esa muestra específica. En términos estadísticos, podrías estar calculando la media, la mediana, la moda, etc., dependiendo de lo que necesitas saber sobre los datos.\n",
    "\n",
    "3. **Repetición del proceso:**\n",
    "\n",
    "  Este paso es como repetir el juego de las canicas muchas veces. Cada vez que lo haces, devuelves todas las canicas, mezclas bien, y vuelves a sacar una muestra. Esto se hace muchas veces (por ejemplo, 1,000 o 10,000 veces) para obtener una buena variedad de resultados posibles. Esto te da una \"simulación\" de lo que podrías esperar si pudieras hacer infinitas pruebas con tus datos\n",
    "\n",
    "4. **Análisis de los resultados:**\n",
    "\n",
    "Después de repetir el proceso muchas veces, tendrás un montón de resultados para la estadística que te interesaba (por ejemplo, muchos colores promedio diferentes). Puedes analizar estos resultados para obtener una mejor idea de qué esperar de tus datos. Esto puede incluir:\n",
    "\n",
    "Calcular el promedio de estas estadísticas: Para tener una idea del valor central.\n",
    "\n",
    "Estimar el error estándar: Mira qué tan dispersos están tus resultados alrededor del promedio.\n",
    "\n",
    "Construir intervalos de confianza: Para ver el rango donde es probable que se encuentre la verdadera estadística de toda la población.\n",
    "\n",
    "Visualización: Un histograma o un diagrama de caja puede mostrarte la forma de la distribución de tus estadísticas, ayudándote a entender la variabilidad y la confiabilidad de las estimaciones."
   ]
  },
  {
   "cell_type": "markdown",
   "id": "4de06f61-aeaf-4021-b4e2-336456cee4fa",
   "metadata": {},
   "source": [
    "Los principales paquetes de Python no proporcionan implementaciones del enfoque bootstrap. Sin embargo, se puede implementar utilizando el método `resample` de scikit-learn:"
   ]
  },
  {
   "cell_type": "code",
   "execution_count": 16,
   "id": "5ba27158-212c-48a9-a7fb-027489a543ee",
   "metadata": {},
   "outputs": [
    {
     "name": "stdout",
     "output_type": "stream",
     "text": [
      "Bootstrap Statistics:\n",
      "original: 62000.0\n",
      "bias: -74.99349999999686\n",
      "std. error: 213.8871101858493\n"
     ]
    }
   ],
   "source": [
    "results = []\n",
    "for nrepeat in range(1000):\n",
    "    sample = resample(loans_income)\n",
    "    results.append(sample.median())\n",
    "results = pd.Series(results)\n",
    "print('Bootstrap Statistics:')\n",
    "print(f'original: {loans_income.median()}')\n",
    "print(f'bias: {results.mean() - loans_income.median()}')\n",
    "print(f'std. error: {results.std()}')"
   ]
  },
  {
   "cell_type": "markdown",
   "id": "18c5ead9-ed1a-49c9-914d-d597da169327",
   "metadata": {},
   "source": [
    "1. **Original: 62000.0**\n",
    "   - Este valor es la mediana original de los ingresos (`loans_income`) antes de aplicar el bootstrap. La mediana es el valor que separa la mitad superior de los ingresos de la mitad inferior. En este caso, la mediana de los ingresos en la muestra original es de **62,000**.\n",
    "\n",
    "2. **Bias: -79.29099999999744**\n",
    "   - El sesgo (**bias**) se calcula como la diferencia entre la media de las medianas obtenidas en las iteraciones del bootstrap y la mediana original de los datos. En este caso, el sesgo es de aproximadamente **-79.29099999999744**, lo que indica que, en promedio, las medianas calculadas a partir de las muestras bootstrap son ligeramente menores que la mediana original. Un sesgo negativo sugiere que las muestras tienden a subestimar la mediana original.\n",
    "\n",
    "En el contexto del bootstrap, el **sesgo** (bias) se refiere a la diferencia sistemática entre la estimación obtenida a partir de los datos muestrales (en este caso, las medianas obtenidas a través del bootstrap) y el valor observado en los datos originales (la mediana original de los ingresos).\n",
    "\n",
    "En la salida proporcionada, el sesgo obtenido significa que, en promedio, las medianas calculadas a partir de las 1,000 muestras bootstrap son **76.830 unidades menores** que la mediana original de la muestra de ingresos (`loans_income`).\n",
    "\n",
    " **Dirección del Sesgo**:\n",
    "   - El signo negativo (-) indica la dirección del sesgo. En este caso, sugiere que las muestras bootstrap tienden a subestimar la mediana verdadera de la población. Si el sesgo fuera positivo, implicaría una sobreestimación sistemática.\n",
    "\n",
    " **Magnitud del Sesgo**:\n",
    "   - La magnitud del sesgo (79.30) nos da una idea de cuánto difieren, en promedio, las medianas bootstrap de la mediana original. Aunque un sesgo de -76.830 podría parecer pequeño en relación con la mediana original de 62,000, es importante en contextos donde la precisión es crítica.\n",
    "\n",
    "El sesgo puede surgir por varias razones, incluyendo:\n",
    "\n",
    "- **Naturaleza de la Muestra Original**: Si la muestra original no es completamente representativa de la población subyacente, el bootstrap podría reflejar y amplificar ese sesgo.\n",
    "- **Distribución Asimétrica de los Datos**: Si los datos están sesgados (por ejemplo, con una cola larga a la derecha), la mediana en las muestras bootstrap podría estar sistemáticamente desviada hacia un lado en relación con la mediana original.\n",
    "\n",
    "\n",
    "3. **Std. error: 227.78612191337808**\n",
    "   - El error estándar (**std. error**) mide la variabilidad de las medianas obtenidas a partir del bootstrap. Es una estimación de la desviación estándar de la distribución muestral de la mediana. En este caso, el error estándar es de aproximadamente **227.78612191337808**, lo que proporciona una idea de cuánto podrían variar las medianas si se tomaran diferentes muestras de la misma población."
   ]
  },
  {
   "cell_type": "markdown",
   "id": "4fac2334-af51-43af-8dfb-1173d052d1da",
   "metadata": {},
   "source": [
    "> **Ejercicio 2.6:** Explicar el código de bootstrap dado arriba. Con otra dataset de tu preferencia repite el código de arriba e interpreta resultados. "
   ]
  },
  {
   "cell_type": "markdown",
   "id": "68ae51f0",
   "metadata": {},
   "source": [
    "## Análisis de Resultados Bootstrap\n",
    "\n",
    "Los resultados obtenidos a partir del análisis bootstrap muestran una interesante distribución y variabilidad de las medianas calculadas a partir de 1,000 muestras re-muestreadas de los ingresos. Los siguientes puntos resumen los hallazgos clave:\n",
    "\n",
    "1. **Mediana Original de Ingresos: $62,000**\n",
    "   - Este valor es la mediana de los ingresos en la muestra de datos original antes de aplicar cualquier método de bootstrap.\n",
    "\n",
    "2. **Sesgo (Bias): -74.99**\n",
    "   - Indica una subestimación promedio de la mediana original por parte de las muestras bootstrap. Un sesgo negativo como este sugiere que las medianas obtenidas tienden a ser menores que la mediana real de la población, lo que podría ser indicativo de una muestra original con características particulares o de la naturaleza del muestreo con reemplazo.\n",
    "\n",
    "3. **Error Estándar: 213.89**\n",
    "   - Representa la desviación estándar de las medianas obtenidas, proporcionando una medida de cuán dispersas están las medianas bootstrap en relación con la mediana original. Este valor es útil para entender la variabilidad y la confiabilidad de las estimaciones obtenidas mediante bootstrap.\n"
   ]
  },
  {
   "cell_type": "markdown",
   "id": "ba832b8f-a1b0-4541-81fd-2dd923a6fd5b",
   "metadata": {},
   "source": [
    "## <font color=green size=10>2.7 Intervalos de confianza.</font>\n",
    "***"
   ]
  },
  {
   "cell_type": "markdown",
   "id": "e70edad5-f977-43c3-ae7b-156e8feba689",
   "metadata": {},
   "source": [
    "Las tablas de frecuencias, histogramas, diagramas de caja (boxplots) y errores estándar son formas de entender el posible error en una estimación muestral. Los intervalos de confianza tambien ayudan a encontrar dichos errores.\n",
    "\n",
    "Existe una aversión natural a la incertidumbre; las personas (especialmente los expertos) dicen \"No sé\" con demasiada poca frecuencia. Los analistas y gerentes, aunque reconocen la incertidumbre, tienden a depositar una fe excesiva en una estimación cuando se presenta como un solo número (una estimación puntual). Presentar una estimación no como un solo número, sino como un rango. Los intervalos de confianza hacen esto de una manera fundamentada en los principios del muestreo estadístico.\n",
    "\n",
    "Un intervalo de confianza es un rango de valores, derivado de datos muestrales, que se utiliza para estimar un parámetro desconocido de una población. Este rango viene acompañado de un nivel de confianza que indica la probabilidad de que el intervalo contenga el verdadero valor del parámetro poblacional.\n",
    "\n",
    "En términos prácticos, si se construye un intervalo de confianza del 95% a partir de una muestra, esto significa que si se tomaran muchas muestras similares y se construyeran intervalos de confianza para cada una, aproximadamente el 95% de esos intervalos contendrían el verdadero valor del parámetro poblacional.\n",
    "\n",
    "Por ejemplo, si calculas un intervalo de confianza del 95% para la media de una población, el intervalo te proporcionará un rango de valores dentro del cual es razonable esperar que caiga la verdadera media poblacional, con un 95% de certeza."
   ]
  },
  {
   "cell_type": "code",
   "execution_count": 2,
   "id": "2b44bb60-ff10-4dc2-9c55-e10f9c7e86d1",
   "metadata": {},
   "outputs": [
    {
     "name": "stdout",
     "output_type": "stream",
     "text": [
      "Media de la muestra: 48.96\n",
      "Intervalo de confianza del 95%: (47.16, 50.76)\n"
     ]
    }
   ],
   "source": [
    "import numpy as np\n",
    "import scipy.stats as stats\n",
    "\n",
    "np.random.seed(42)\n",
    "data = np.random.normal(loc=50, scale=10, size=100)  # Media = 50, Desviación estándar = 10, Tamaño de la muestra = 100\n",
    "\n",
    "mean = np.mean(data)\n",
    "\n",
    "sem = stats.sem(data)  # sem = standard error of the mean\n",
    "\n",
    "confidence_interval = stats.t.interval(0.95, len(data)-1, loc=mean, scale=sem)\n",
    "\n",
    "ci_lower = float(confidence_interval[0])\n",
    "ci_upper = float(confidence_interval[1])\n",
    "\n",
    "print(f\"Media de la muestra: {mean:.2f}\")\n",
    "print(f\"Intervalo de confianza del 95%: ({ci_lower:.2f}, {ci_upper:.2f})\")"
   ]
  },
  {
   "cell_type": "markdown",
   "id": "0da55280-834a-41dd-9d12-6e388de2fb65",
   "metadata": {},
   "source": [
    "**Media de la muestra**:\n",
    "La media de los datos generados es 48.96. Esto es la estimación puntual de la media de la población.  \n",
    "\n",
    "**Intervalo de Confianza del 95%:**\n",
    "El intervalo de confianza del 95% para la media está entre 47.16 y 50.76.\n",
    "Esto significa que, si tomamos muchas muestras de la misma población y calculamos un intervalo de confianza del 95% para cada una, aproximadamente el 95% de esos intervalos contendrán la verdadera media poblacional.\n",
    "En este caso, podemos estar un 95% seguros de que la verdadera media de la población de la cual proviene la muestra se encuentra entre 47.16 y 50.76."
   ]
  },
  {
   "cell_type": "markdown",
   "id": "3ae89ca8-d3ee-48f5-95de-81e3d2a7c5d2",
   "metadata": {},
   "source": [
    "> **Ejercicio 2.7**: Explicar cada linea del codigo. Repite el ejercicio con otra muestra de datos y usando un intervalo de confianza del 98%"
   ]
  },
  {
   "cell_type": "code",
   "execution_count": 17,
   "id": "1ba57a2f",
   "metadata": {},
   "outputs": [
    {
     "name": "stdout",
     "output_type": "stream",
     "text": [
      "Media de la nueva muestra: 60.90\n",
      "Intervalo de confianza del 98%: (57.37, 64.43)\n"
     ]
    }
   ],
   "source": [
    "# Nueva semilla y datos\n",
    "np.random.seed(99)\n",
    "new_data = np.random.normal(loc=60, scale=15, size=100)  # Media = 60, Desviación estándar = 15\n",
    "\n",
    "new_mean = np.mean(new_data)\n",
    "new_sem = stats.sem(new_data)\n",
    "\n",
    "# Intervalo de confianza del 98%\n",
    "new_confidence_interval = stats.t.interval(0.98, len(new_data)-1, loc=new_mean, scale=new_sem)\n",
    "new_ci_lower = float(new_confidence_interval[0])\n",
    "new_ci_upper = float(new_confidence_interval[1])\n",
    "\n",
    "print(f\"Media de la nueva muestra: {new_mean:.2f}\")\n",
    "print(f\"Intervalo de confianza del 98%: ({new_ci_lower:.2f}, {new_ci_upper:.2f})\")\n"
   ]
  },
  {
   "cell_type": "markdown",
   "id": "f67a7b03-d863-40b8-b0de-0d5c172c1532",
   "metadata": {},
   "source": [
    "> **Ejercicio 2.8**. Repetir el ejemplo anterior pero esta vez utilice statsmodels en vez de scipy. Compare resultados."
   ]
  },
  {
   "cell_type": "code",
   "execution_count": 18,
   "id": "2814745e",
   "metadata": {},
   "outputs": [
    {
     "name": "stdout",
     "output_type": "stream",
     "text": [
      "Media de la muestra usando statsmodels: 48.96\n",
      "Intervalo de confianza del 95% usando statsmodels: (47.16, 50.76)\n"
     ]
    }
   ],
   "source": [
    "import numpy as np\n",
    "import statsmodels.api as sm\n",
    "\n",
    "# Fijar la semilla para reproducibilidad\n",
    "np.random.seed(42)\n",
    "\n",
    "# Generar datos\n",
    "data = np.random.normal(loc=50, scale=10, size=100)\n",
    "\n",
    "# Usar statsmodels para calcular el intervalo de confianza\n",
    "mean = np.mean(data)\n",
    "sem = np.std(data, ddof=1) / np.sqrt(len(data))  # Calculando el SEM manualmente\n",
    "\n",
    "# Calcular el intervalo de confianza del 95%\n",
    "ci_low, ci_upp = sm.stats.DescrStatsW(data).tconfint_mean()\n",
    "\n",
    "print(f\"Media de la muestra usando statsmodels: {mean:.2f}\")\n",
    "print(f\"Intervalo de confianza del 95% usando statsmodels: ({ci_low:.2f}, {ci_upp:.2f})\")\n"
   ]
  },
  {
   "cell_type": "markdown",
   "id": "cd07efba-9195-4208-a105-e35bd9d1fe73",
   "metadata": {},
   "source": [
    "Dado un tamaño de muestra \\( n \\), y una estadística muestral de interés, el algoritmo para un intervalo de confianza bootstrap es el siguiente:\n",
    "\n",
    "1. Tomar una muestra aleatoria de tamaño \\( n \\) con reemplazo de los datos (un remuestreo).\n",
    "2. Registrar la estadística de interés para el remuestreo.\n",
    "   \n",
    "   **Estadística de interés**: Puede ser cualquier medida que estés estudiando, como la media, la mediana, la desviación estándar, etc. Después de tomar la muestra con reemplazo en el paso 1, calculas esta estadística para la muestra seleccionada.\n",
    "4. Repetir los pasos 1-2 muchas veces (\\( R \\) veces). Cuantas más iteraciones hagas, más precisa será la estimación del intervalo de confianza.\n",
    "5. Para un intervalo de confianza de x%, recortar $\\left[\\frac{100-x}{2}\\right]\\%$ de los resultados de los \\( R \\) remuestreos desde cada extremo de la distribución.\n",
    "   \n",
    "   **Recorte:** Después de tener todas las estadísticas calculadas en los \\( R \\) remuestreos, ordenas estas estadísticas de menor a mayor. Luego, para un intervalo de confianza de  $x\\%$, recortas los valores extremos, es decir, eliminas el $\\left[\\frac{100-x}{2}\\right]\\%$ de los valores más bajos y el mismo porcentaje de los valores más altos. Por ejemplo, para un intervalo de confianza del 95%, recortarías el 2.5% inferior y el 2.5% superior de las estadísticas obtenidas de los 𝑅 remuestreos.\n",
    "\n",
    "7. Los puntos de recorte son los extremos de un intervalo de confianza bootstrap de  $x\\%$ .\n",
    "   \n",
    "   Puntos de recorte: Después de recortar los extremos, los valores más bajo y más alto que quedan forman los extremos del intervalo de confianza. Es decir, el intervalo de confianza estará entre estos dos puntos, y con un 𝑥% de confianza, podemos decir que este intervalo contiene la verdadera estadística poblacional."
   ]
  },
  {
   "cell_type": "markdown",
   "id": "29327f86-3fa6-4745-8b12-34d67f728f21",
   "metadata": {},
   "source": [
    "La Figura 2.9 muestra un intervalo de confianza del 90% para el ingreso anual promedio de los solicitantes de préstamos, basado en una muestra de 20 en la que la media fue de $55.836.\n"
   ]
  },
  {
   "cell_type": "markdown",
   "id": "b8fb0b15-60c0-4edf-85b0-991e26483e01",
   "metadata": {},
   "source": [
    "![Fig 2.7](Datos/2.7.png)"
   ]
  },
  {
   "cell_type": "code",
   "execution_count": 19,
   "id": "603d4ff2-23dd-4d47-b560-60c3999d19f2",
   "metadata": {},
   "outputs": [
    {
     "name": "stdout",
     "output_type": "stream",
     "text": [
      "68760.51844\n",
      "55734.1\n"
     ]
    },
    {
     "data": {
      "image/png": "[encoded data removed]",
      "text/plain": [
       "<Figure size 400x300 with 1 Axes>"
      ]
     },
     "metadata": {},
     "output_type": "display_data"
    }
   ],
   "source": [
    "print(loans_income.mean())\n",
    "np.random.seed(seed=3)  \n",
    "# create a sample of 20 loan income data\n",
    "sample20 = resample(loans_income, n_samples=20, replace=False)\n",
    "print(sample20.mean())\n",
    "results = []\n",
    "for nrepeat in range(500):\n",
    "    sample = resample(sample20)\n",
    "    results.append(sample.mean())\n",
    "results = pd.Series(results)\n",
    "\n",
    "confidence_interval = list(results.quantile([0.05, 0.95]))\n",
    "ax = results.plot.hist(bins=30, figsize=(4, 3))\n",
    "ax.plot(confidence_interval, [55, 55], color='black')\n",
    "for x in confidence_interval:\n",
    "    ax.plot([x, x], [0, 65], color='black')\n",
    "    ax.text(x, 70, f'{x:.0f}', \n",
    "            horizontalalignment='center', verticalalignment='center')\n",
    "ax.text(sum(confidence_interval) / 2, 60, '90% interval',\n",
    "        horizontalalignment='center', verticalalignment='center')\n",
    "\n",
    "meanIncome = results.mean()\n",
    "ax.plot([meanIncome, meanIncome], [0, 50], color='black', linestyle='--')\n",
    "ax.text(meanIncome, 10, f'Mean: {meanIncome:.0f}',\n",
    "        bbox=dict(facecolor='white', edgecolor='white', alpha=0.5),\n",
    "        horizontalalignment='center', verticalalignment='center')\n",
    "ax.set_ylim(0, 80)\n",
    "ax.set_ylabel('Counts')\n",
    "\n",
    "plt.tight_layout()\n",
    "plt.show()"
   ]
  },
  {
   "cell_type": "markdown",
   "id": "24efa578-47ee-4bb2-a641-279124049eae",
   "metadata": {},
   "source": [
    "El bootstrap es una herramienta general que se puede utilizar para generar intervalos de confianza para la mayoría de las estadísticas o parámetros de modelos. Los libros de texto de estadística y el software, con raíces en más de medio siglo de análisis estadístico sin computadoras, también hacen referencia a intervalos de confianza generados por fórmulas, especialmente la distribución t.\n",
    "\n",
    "Por supuesto, lo que realmente nos interesa cuando tenemos un resultado muestral es: \"¿Cuál es la probabilidad de que el valor verdadero esté dentro de un cierto intervalo?\" Esta no es realmente la pregunta que responde un intervalo de confianza, pero termina siendo la forma en que la mayoría de las personas interpretan la respuesta.\n",
    "\n",
    "El porcentaje asociado con el intervalo de confianza se denomina nivel de confianza. Cuanto mayor sea el nivel de confianza, más amplio será el intervalo. Esto sucede porque, al querer estar más seguro de que el intervalo contiene el valor verdadero, se necesita un rango más amplio para cubrir todas las posibles variaciones en los datos muestrales. Por ejemplo, un intervalo de confianza del 99% será más amplio que un intervalo de confianza del 95%, porque queremos estar más seguros (99% en lugar de 95%) de que el intervalo contiene el valor verdadero, y para lograr esa mayor seguridad, ampliamos el intervalo.\n",
    "\n",
    "Además, cuanto más pequeña sea la muestra, más amplio será el intervalo (es decir, mayor será la incertidumbre). Esto sucede porque con menos datos, hay más incertidumbre acerca de la estimación del parámetro verdadero. Para compensar esa incertidumbre, se necesita un intervalo más amplio.  \n",
    "\n",
    "Ambos aspectos tienen sentido: cuanto más seguro quieres estar, y cuanto menos datos tienes, más amplio debe ser el intervalo de confianza para estar suficientemente seguro de capturar el valor verdadero. Un tamaño de muestra pequeño significa que tienes menos información sobre la población, lo que introduce más variabilidad e incertidumbre en tus estimaciones. Para tener la misma seguridad (por ejemplo, un 95% de confianza), el intervalo debe ser más amplio para asegurarse de que incluye el valor verdadero, dado que hay más margen de error. Por el contrario, con un tamaño de muestra más grande, tienes más información, lo que reduce la incertidumbre y permite calcular un intervalo de confianza más estrecho.\n",
    "\n",
    "**Ejemplo para Ilustrar el Concepto**  \n",
    "\n",
    "Imagina que estás midiendo la altura promedio de estudiantes en una escuela. Si quieres estar 95% seguro de que el intervalo de confianza contiene la altura promedio verdadera, el intervalo podría ser algo así como de 160 cm a 170 cm. Si decides que necesitas estar 99% seguro, podrías necesitar ampliar el intervalo a algo como de 155 cm a 175 cm para capturar todas las posibles variaciones. Si tomas la altura de solo 5 estudiantes (una muestra pequeña), podrías obtener un intervalo de confianza de 150 cm a 180 cm debido a la mayor incertidumbre. Pero si tomas la altura de 50 estudiantes (una muestra más grande), podrías obtener un intervalo más preciso, digamos de 160 cm a 170 cm.\n",
    "\n",
    "### Ideas Clave\n",
    "- Los intervalos de confianza son la forma típica de presentar estimaciones como un rango de intervalos.\n",
    "- Cuantos más datos tengas, menos variable será una estimación muestral.\n",
    "- Cuanto menor sea el nivel de confianza que puedas tolerar, más estrecho será el intervalo de confianza.\n",
    "- El bootstrap es una forma efectiva de construir intervalos de confianza."
   ]
  },
  {
   "cell_type": "markdown",
   "id": "dc439092-a082-465a-831e-67bd070b6b13",
   "metadata": {},
   "source": [
    "> **Ejercicio 2.9**. Investigar las aplicaiones y casos de uso de Bootstraping en Machine Learning. Mostrar los resultados en un resumen."
   ]
  },
  {
   "cell_type": "markdown",
   "id": "80c20b32",
   "metadata": {},
   "source": [
    "El método de bootstrap es una técnica poderosa y versátil que encuentra múltiples aplicaciones en el ámbito del machine learning. Las principales aplicaciones y casos de uso de bootstrapping en este campo:\n",
    "\n",
    "1. Evaluación de Modelos\n",
    "\n",
    "El bootstrap permite estimar la variabilidad y la confiabilidad de las métricas de rendimiento de un modelo de aprendizaje automático. Por ejemplo, al entrenar un modelo de clasificación, puedes utilizar el bootstrap para generar múltiples conjuntos de datos de entrenamiento y prueba a partir de un único conjunto de datos original. Esto te permite:\n",
    "\n",
    "Estimar la varianza en las métricas de rendimiento como precisión, recall, y F1-score.\n",
    "Obtener intervalos de confianza para estas métricas, lo que proporciona una visión más profunda sobre la estabilidad y confiabilidad del modelo.\n",
    "\n",
    "2. Comparación de Modelos\n",
    "\n",
    "Cuando se comparan dos o más modelos, el bootstrap puede ser usado para evaluar si las diferencias en el rendimiento entre los modelos son estadísticamente significativas. Esto es útil para:\n",
    "\n",
    "Determinar si un modelo es genuinamente superior a otro o si las diferencias observadas podrían deberse a la variabilidad de los datos.\n",
    "Proporcionar pruebas estadísticas robustas que apoyen la selección de modelos.\n",
    "\n",
    "3. Selección de Características\n",
    "\n",
    "El bootstrap también se utiliza en la selección de características para evaluar la importancia y la estabilidad de las características seleccionadas. Al realizar bootstrapping en los datos y luego aplicar algoritmos de selección de características en cada muestra, puedes:\n",
    "\n",
    "Identificar cuáles características son consistentemente seleccionadas, lo que indica su relevancia y robustez.\n",
    "Reducir la probabilidad de sobreajustar a características que pueden ser ruidosas o irrelevantes.\n",
    "\n",
    "4. Ensemble Learning\n",
    "\n",
    "En técnicas de ensemble como Bagging (Bootstrap Aggregating), el bootstrap es fundamental para mejorar el rendimiento y la estabilidad de los modelos predictivos. En este contexto, el bootstrap se usa para:\n",
    "\n",
    "Crear múltiples modelos a partir de subconjuntos aleatorios del conjunto de datos original.\n",
    "Combinar las predicciones de estos modelos para mejorar la precisión y reducir la varianza.\n",
    "\n",
    "5. Estimación de Incertidumbre\n",
    "\n",
    "En aplicaciones como la regresión y la clasificación, el bootstrap ayuda a estimar la incertidumbre en las predicciones del modelo. Esto es crucial para:\n",
    "\n",
    "Proporcionar bandas de confianza o intervalos de predicción alrededor de las estimaciones, lo que es esencial en campos como la medicina y la finanzas donde las decisiones basadas en predicciones requieren una comprensión clara de los riesgos asociados.\n",
    "\n",
    "6. Validación de Datos Sintéticos\n",
    "\n",
    "El bootstrap puede utilizarse para validar la calidad de los datos sintéticos generados por técnicas como el aumento de datos o la imputación. Al comparar estadísticas calculadas a partir de datos originales y sintéticos, el bootstrap ofrece:\n",
    "\n",
    "Una manera de medir cuán bien los datos sintéticos representan la distribución de los datos reales.\n",
    "Herramientas para ajustar y mejorar los métodos de generación de datos sintéticos."
   ]
  },
  {
   "cell_type": "markdown",
   "id": "5e9e7020-2488-43fe-a008-b147e3f2cf05",
   "metadata": {},
   "source": [
    "> **Ejercicio 2.10** Replicar en un jupyter notebook los resultados del siguiente artículo: https://cienciadedatos.net/documentos/pystats04-bootstrapping-python\n",
    "> Nota: Con replicar los codigos sería suficiente para entregar; replicar la teoria es opcional aunque por lo menos debes leerla si realmente quieres entender la importancia del Bootstrapping "
   ]
  },
  {
   "cell_type": "code",
   "execution_count": 20,
   "id": "b43c191c",
   "metadata": {},
   "outputs": [],
   "source": [
    "# Librerías \n",
    "import numpy as np\n",
    "import matplotlib.pyplot as plt\n",
    "import seaborn as sns\n",
    "from scipy.stats import trim_mean\n",
    "import pandas as pd\n",
    "from tqdm import tqdm\n"
   ]
  },
  {
   "cell_type": "code",
   "execution_count": 21,
   "id": "08ab5428",
   "metadata": {},
   "outputs": [],
   "source": [
    "# Generación de datos\n",
    "np.random.seed(42)\n",
    "datos = np.random.normal(loc=50, scale=10, size=30)"
   ]
  },
  {
   "cell_type": "markdown",
   "id": "8043ce8e",
   "metadata": {},
   "source": [
    "Funciones de Estadísticos y Bootstrapping\n",
    "\n",
    "Definimos una función para calcular el estadístico de interés (media en este caso) y otra para realizar el bootstrapping"
   ]
  },
  {
   "cell_type": "code",
   "execution_count": 22,
   "id": "87d15ddf",
   "metadata": {},
   "outputs": [],
   "source": [
    "def calcular_estadistico(x):\n",
    "    \"\"\"Calcula la media de una muestra.\"\"\"\n",
    "    return np.mean(x)\n",
    "\n",
    "def bootstraping(x, fun_estadistico, n_iteraciones=1000):\n",
    "    \"\"\"Genera muestras bootstrap y calcula el estadístico para cada muestra.\"\"\"\n",
    "    n = len(x)\n",
    "    dist_boot = np.empty(n_iteraciones)\n",
    "    for i in range(n_iteraciones):\n",
    "        resample = np.random.choice(x, size=n, replace=True)\n",
    "        dist_boot[i] = fun_estadistico(resample)\n",
    "    return dist_boot\n"
   ]
  },
  {
   "cell_type": "code",
   "execution_count": 23,
   "id": "709e774d",
   "metadata": {},
   "outputs": [],
   "source": [
    "# Intervalo de Confianza basado en percentiles \n",
    "dist_boot = bootstraping(datos, calcular_estadistico, 1000)\n",
    "ci = np.percentile(dist_boot, [2.5, 97.5])\n"
   ]
  },
  {
   "cell_type": "code",
   "execution_count": 24,
   "id": "7f0721b4",
   "metadata": {},
   "outputs": [
    {
     "data": {
      "image/png": "[encoded data removed]",
      "text/plain": [
       "<Figure size 640x480 with 1 Axes>"
      ]
     },
     "metadata": {},
     "output_type": "display_data"
    }
   ],
   "source": [
    "sns.histplot(dist_boot, kde=True, color=\"skyblue\")\n",
    "plt.axvline(x=ci[0], linestyle=\"--\", label=\"2.5 Percentil\", color='red')\n",
    "plt.axvline(x=ci[1], linestyle=\"--\", label=\"97.5 Percentil\", color='green')\n",
    "plt.title(\"Distribución de Bootstrapping y Intervalo de Confianza del 95%\")\n",
    "plt.xlabel(\"Media Estimada\")\n",
    "plt.ylabel(\"Densidad\")\n",
    "plt.legend()\n",
    "plt.show()\n"
   ]
  },
  {
   "cell_type": "code",
   "execution_count": 25,
   "id": "2265356f",
   "metadata": {},
   "outputs": [
    {
     "name": "stdout",
     "output_type": "stream",
     "text": [
      "Media observada de la muestra: 48.118531041489625\n",
      "Intervalo de confianza del 95% basado en percentiles: [44.79884592 51.31773864]\n"
     ]
    }
   ],
   "source": [
    "print(f\"Media observada de la muestra: {np.mean(datos)}\")\n",
    "print(f\"Intervalo de confianza del 95% basado en percentiles: {ci}\")\n"
   ]
  }
 ],
 "metadata": {
  "kernelspec": {
   "display_name": "Python 3 (ipykernel)",
   "language": "python",
   "name": "python3"
  },
  "language_info": {
   "codemirror_mode": {
    "name": "ipython",
    "version": 3
   },
   "file_extension": ".py",
   "mimetype": "text/x-python",
   "name": "python",
   "nbconvert_exporter": "python",
   "pygments_lexer": "ipython3",
   "version": "3.11.9"
  }
 },
 "nbformat": 4,
 "nbformat_minor": 5
}
