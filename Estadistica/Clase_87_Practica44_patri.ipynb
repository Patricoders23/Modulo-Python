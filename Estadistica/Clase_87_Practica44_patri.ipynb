{
 "cells": [
  {
   "cell_type": "markdown",
   "id": "08aaa1da",
   "metadata": {},
   "source": [
    "\n",
    "# <font color=orange>Estadística para Ciencia de Datos</font>\n",
    "***"
   ]
  },
  {
   "cell_type": "markdown",
   "id": "8dbb52be-e37a-4a8e-8a8d-764f3ae2f1ca",
   "metadata": {},
   "source": [
    "# \n",
    "# <font color=green>1. Estadistica Descriptiva </font>"
   ]
  },
  {
   "cell_type": "markdown",
   "id": "64f1c82b-da0f-4b9d-8c84-8d80ec6ddd40",
   "metadata": {},
   "source": [
    "## Tipos Básicos de Datos Estructurados  \n",
    "\n",
    "- Numéricos: datos que pueden ser expresados como números enteros o decimales. Ej: edad, promedio notas, horas de estudio, etc \n",
    "- Categóricos: datos que pueden ser expresados como categorías (por ejemplo, género, etnia, estado civil)\n",
    "- Binarios: datos que pueden ser expresados como 0 o 1\n",
    "- Discretos: datos que pueden ser expresados como números enteros. Ej: ingreso familiar, número de hijos, número de amigos.  \n",
    "- Continuos: datos que pueden ser expresados como números reales. Ej: Altura, peso, duración del estudio, etc. \n",
    "- Ordinal: datos que pueden ser expresados como números enteros que tienen un orden natural y pueden ser utilizados en análisis no paramétricos o transformados en datos numéricos para ciertos modelos. \n",
    "- Nominal: datos que pueden ser expresados como categorías sin un orden natural.\n",
    "- Intervalos: datos que pueden ser expresados como números reales que tienen un rango natural y pueden ser utilizados en análisis paramétricos o transformados en datos numéricos para ciertos modelos.\n",
    "      \n"
   ]
  },
  {
   "cell_type": "markdown",
   "id": "84f16daf-1194-46e9-8879-4175e76e7409",
   "metadata": {},
   "source": [
    "# <font color=green>1.1 Estimaciones de Ubicación (o medidas de tendencia central)</font>\n",
    "\n",
    "Cuando analizamos datos numéricos, es útil encontrar un \"valor típico\" que represente la tendencia central de los datos, es decir, un punto donde se concentra la mayor parte de la información.\n",
    "\n",
    "## <font color=green>Términos Clave para Estimaciones de Ubicación</font>\n",
    "\n",
    "Media: Es el promedio de todos los valores, calculado sumándolos y dividiéndolos por la cantidad total de valores.\n",
    "\n",
    "Media ponderada: Similar a la media, pero algunos valores cuentan más que otros. Se calcula multiplicando cada valor por un peso y dividiendo la suma de estos por la suma de los pesos.\n",
    "\n",
    "Mediana: El valor central que divide a los datos en dos mitades iguales.\n",
    "\n",
    "Percentil: Indica la posición de un valor en relación al resto de los datos; por ejemplo, el percentil 50 es la mediana.\n",
    "\n",
    "Media recortada: Promedio calculado después de eliminar los valores extremos para evitar su influencia.\n",
    "\n",
    "Robusto: Se refiere a una medida que no se ve afectada por valores extremos o atípicos.\n",
    "\n",
    "Valor atípico: Un valor que es significativamente diferente del resto de los datos.\n",
    "\n",
    "Aunque la media es común y fácil de calcular, no siempre es la mejor opción. Los valores atípicos pueden influir demasiado en ella, por lo que existen otras medidas, como la mediana, que pueden ser más útiles en ciertos casos.\n",
    "\n",
    "# <font color=green>Métricas y Estimaciones</font>"
   ]
  },
  {
   "cell_type": "markdown",
   "id": "0759fe5c-c3cb-498d-95bb-0e16765d7710",
   "metadata": {},
   "source": [
    "## <font color=violet>Media</font>\n",
    "***\n",
    "\n",
    "\n",
    "La media es la suma de todos los valores dividida por el número de valores. Ej:\n",
    "\n",
    "$ \\text{Media} = \\frac{3 + 5 + 1 + 2}{4} = \\frac{11}{4} = 2.75 $\n",
    "\n",
    "Se representa por $\\mu$ cuando se refiere a la población y por $\\bar{X}$ cuando se refiere a la muestra\n",
    "\n",
    "# $$\\mu = \\frac 1n\\sum_{i=1}^{n}X_i$$\n",
    "\n",
    "donde\n",
    "\n",
    "$n$ = número de observaciones (registros)\n",
    "\n",
    "$X_i$ = valor de la i-ésima observación (registro)"
   ]
  },
  {
   "cell_type": "code",
   "execution_count": 1,
   "id": "b11d11f1",
   "metadata": {},
   "outputs": [],
   "source": [
    "# Importamos librerías \n",
    "import numpy as np\n",
    "import pandas as pd\n",
    "import matplotlib as plt\n",
    "import seaborn as sns"
   ]
  },
  {
   "cell_type": "code",
   "execution_count": 2,
   "id": "2c6489bb",
   "metadata": {},
   "outputs": [],
   "source": [
    "from scipy import stats \n",
    "import statsmodels.api as sm\n",
    "import pingouin as pg"
   ]
  },
  {
   "cell_type": "code",
   "execution_count": 3,
   "id": "46924048",
   "metadata": {},
   "outputs": [
    {
     "name": "stdout",
     "output_type": "stream",
     "text": [
      "[ 3  5  1  2  7  8 10  6  4  9]\n"
     ]
    },
    {
     "data": {
      "text/html": [
       "<div>\n",
       "<style scoped>\n",
       "    .dataframe tbody tr th:only-of-type {\n",
       "        vertical-align: middle;\n",
       "    }\n",
       "\n",
       "    .dataframe tbody tr th {\n",
       "        vertical-align: top;\n",
       "    }\n",
       "\n",
       "    .dataframe thead th {\n",
       "        text-align: right;\n",
       "    }\n",
       "</style>\n",
       "<table border=\"1\" class=\"dataframe\">\n",
       "  <thead>\n",
       "    <tr style=\"text-align: right;\">\n",
       "      <th></th>\n",
       "      <th>values</th>\n",
       "    </tr>\n",
       "  </thead>\n",
       "  <tbody>\n",
       "    <tr>\n",
       "      <th>0</th>\n",
       "      <td>3</td>\n",
       "    </tr>\n",
       "    <tr>\n",
       "      <th>1</th>\n",
       "      <td>5</td>\n",
       "    </tr>\n",
       "    <tr>\n",
       "      <th>2</th>\n",
       "      <td>1</td>\n",
       "    </tr>\n",
       "    <tr>\n",
       "      <th>3</th>\n",
       "      <td>2</td>\n",
       "    </tr>\n",
       "    <tr>\n",
       "      <th>4</th>\n",
       "      <td>7</td>\n",
       "    </tr>\n",
       "    <tr>\n",
       "      <th>5</th>\n",
       "      <td>8</td>\n",
       "    </tr>\n",
       "    <tr>\n",
       "      <th>6</th>\n",
       "      <td>10</td>\n",
       "    </tr>\n",
       "    <tr>\n",
       "      <th>7</th>\n",
       "      <td>6</td>\n",
       "    </tr>\n",
       "    <tr>\n",
       "      <th>8</th>\n",
       "      <td>4</td>\n",
       "    </tr>\n",
       "    <tr>\n",
       "      <th>9</th>\n",
       "      <td>9</td>\n",
       "    </tr>\n",
       "  </tbody>\n",
       "</table>\n",
       "</div>"
      ],
      "text/plain": [
       "   values\n",
       "0       3\n",
       "1       5\n",
       "2       1\n",
       "3       2\n",
       "4       7\n",
       "5       8\n",
       "6      10\n",
       "7       6\n",
       "8       4\n",
       "9       9"
      ]
     },
     "metadata": {},
     "output_type": "display_data"
    }
   ],
   "source": [
    "#Creo datos para los cálculos \n",
    "data = np.array([3, 5, 1, 2, 7, 8, 10, 6, 4, 9])\n",
    "print(data)\n",
    "\n",
    "# Crear un DataFrame de ejemplo\n",
    "df = pd.DataFrame({'values': [3, 5, 1, 2, 7, 8, 10, 6, 4, 9]})\n",
    "display(df)"
   ]
  },
  {
   "cell_type": "markdown",
   "id": "e3baf9fd-b7c7-48f9-ab90-25a78cd30aa7",
   "metadata": {},
   "source": [
    "**Ejemplos**"
   ]
  },
  {
   "cell_type": "markdown",
   "id": "7e07b130-91a9-47e4-9592-7c74cbb24529",
   "metadata": {},
   "source": [
    "#### Con SciPy / Pandas / Statsmodels "
   ]
  },
  {
   "cell_type": "code",
   "execution_count": 4,
   "id": "81ddb98b-49a9-4ecb-9cba-87ecc039ddbb",
   "metadata": {},
   "outputs": [
    {
     "name": "stdout",
     "output_type": "stream",
     "text": [
      "Media usando SciPy: 5.5\n",
      "Media usando Pandas: 5.5\n",
      "Media usando Statsmodels: 5.5\n"
     ]
    }
   ],
   "source": [
    "#MEDIA\n",
    "\n",
    "# Scipy\n",
    "mean_scipy = np.mean(data)\n",
    "print(\"Media usando SciPy:\", mean_scipy)\n",
    "\n",
    "# Pandas\n",
    "mean_pandas = df['values'].mean()\n",
    "print(\"Media usando Pandas:\", mean_pandas)\n",
    "\n",
    "#Statsmodels \n",
    "# Agregar una columna de unos para representar el intercepto\n",
    "df['intercept'] = 1\n",
    "\n",
    "# Ajustar un modelo de regresión sin variables explicativas, solo el intercepto\n",
    "model = sm.OLS(df['values'], df['intercept']).fit()\n",
    "\n",
    "# La media es el valor del intercepto\n",
    "mean_statsmodels = model.params['intercept']\n",
    "print(\"Media usando Statsmodels:\", mean_statsmodels)"
   ]
  },
  {
   "cell_type": "code",
   "execution_count": 5,
   "id": "834c6e5c",
   "metadata": {},
   "outputs": [
    {
     "data": {
      "image/png": "[encoded data removed]",
      "text/plain": [
       "<Figure size 800x600 with 1 Axes>"
      ]
     },
     "metadata": {},
     "output_type": "display_data"
    }
   ],
   "source": [
    "import matplotlib.pyplot as plt\n",
    "\n",
    "# Crear un gráfico\n",
    "plt.figure(figsize=(8, 6))\n",
    "plt.plot(df['values'], label='Datos', marker='o', linestyle='--')\n",
    "\n",
    "# Añadir líneas para las medias calculadas\n",
    "plt.axhline(y=mean_scipy, color='r', linestyle='-', label=f'Media (SciPy) = {mean_scipy:.2f}')\n",
    "plt.axhline(y=mean_pandas, color='g', linestyle='--', label=f'Media (Pandas) = {mean_pandas:.2f}')\n",
    "plt.axhline(y=mean_statsmodels, color='b', linestyle=':', label=f'Media (Statsmodels) = {mean_statsmodels:.2f}')\n",
    "\n",
    "# Añadir etiquetas y leyenda\n",
    "plt.title('Comparación de la Media usando Diferentes Métodos')\n",
    "plt.xlabel('Índice')\n",
    "plt.ylabel('Valores')\n",
    "plt.legend()\n",
    "\n",
    "# Mostrar el gráfico\n",
    "plt.show()"
   ]
  },
  {
   "cell_type": "markdown",
   "id": "92d7383f-03b9-4086-8ebd-03a90adf795f",
   "metadata": {},
   "source": [
    "## <font color=violet>Media recortada (trimmed mean)</font>\n",
    "***\n",
    "\n",
    "La media recortada es una medida de tendencia central que se utiliza para reducir el impacto de los valores extremos en el cálculo de la media. Al recortar un porcentaje de los valores más bajos y más altos, se obtiene una media más robusta y menos sensible a los outliers.\n",
    "\n",
    " Representando los valores ordenados por $x_1, x_2, \\ldots, x_n$ donde $x_1$ es el valor más pequeño y $x_n$ el más grande, la fórmula para calcular la media recortada con $p$ valores más pequeños y más grandes omitidos es:\n",
    "\n",
    "\n",
    "# $$\\bar{x}_{\\text{recortada}} = \\frac{1}{n - 2p} \\sum_{i=p+1}^{n-p} x_i$$\n",
    "\n",
    "Una media recortada elimina la influencia de valores extremos. Por ejemplo, en el buceo internacional se eliminan la puntuación más alta y más baja de cinco jueces, y la puntuación final es el promedio de las puntuaciones de los tres jueces restantes. Esto hace que sea difícil para un solo juez manipular la puntuación, quizás para favorecer al concursante de su país. Las medias recortadas se utilizan ampliamente y, en muchos casos, son preferibles a usar la media ordinaria."
   ]
  },
  {
   "cell_type": "markdown",
   "id": "c92a863a-8e24-461e-93c0-5e85a9a2e069",
   "metadata": {},
   "source": [
    "**Ejempos con Python**"
   ]
  },
  {
   "cell_type": "markdown",
   "id": "1df54d01-ffc0-4e2c-ba73-04161079049d",
   "metadata": {},
   "source": [
    "#### SciPy"
   ]
  },
  {
   "cell_type": "code",
   "execution_count": 6,
   "id": "76a53f2c-6308-4984-a05a-f1fc721bc968",
   "metadata": {},
   "outputs": [
    {
     "name": "stdout",
     "output_type": "stream",
     "text": [
      "Media recortada con SciPy: 5.5\n",
      "Media recortada con SciPy: 5.5\n"
     ]
    }
   ],
   "source": [
    "from scipy.stats import trim_mean\n",
    "\n",
    "# Calcular la media recortada usando scipy\n",
    "trimmed_mean_scipy = trim_mean(data, 0.1)  # Recorta el 10% de cada extremo\n",
    "print(\"Media recortada con SciPy:\", trimmed_mean_scipy)\n",
    "\n",
    "# Calculate the trimmed mean with SciPy\n",
    "trimmed_mean_scipy = stats.trim_mean(df['values'], proportiontocut=0.1)\n",
    "\n",
    "print(\"Media recortada con SciPy:\", trimmed_mean_scipy)"
   ]
  },
  {
   "cell_type": "markdown",
   "id": "fbd01a3d",
   "metadata": {},
   "source": [
    "En este ejemplo, el conjunto de datos [3, 5, 1, 2, 7, 8, 10, 6, 4, 9] tiene una media de 5.5. Sin embargo, si se recorta el 10% de los valores más bajos y más altos, la media recortada sería diferente. En este caso, el valor más bajo (1) y el valor más alto (10) se recortarían, y la media recortada sería calculada utilizando los valores restantes."
   ]
  },
  {
   "cell_type": "markdown",
   "id": "11b25b05-5ef9-443c-a78e-54024b3829c1",
   "metadata": {},
   "source": [
    "#### Pandas"
   ]
  },
  {
   "cell_type": "code",
   "execution_count": 7,
   "id": "6aace7ae-5426-429f-8316-b3442814db64",
   "metadata": {},
   "outputs": [
    {
     "name": "stdout",
     "output_type": "stream",
     "text": [
      "Media recortada usando Pandas: 5.5\n"
     ]
    }
   ],
   "source": [
    "# Calcular la media recortada usando pandas\n",
    "trimmed_df = df['values'].sort_values().iloc[int(0.1*len(df)):int(0.9*len(df))]\n",
    "trimmed_mean_pandas = trimmed_df.mean()\n",
    "print(\"Media recortada usando Pandas:\", trimmed_mean_pandas)"
   ]
  },
  {
   "cell_type": "markdown",
   "id": "385aa47c-e4d7-4a18-b4f2-3c808dab369e",
   "metadata": {},
   "source": [
    "#### Statsmodels  \n",
    "\n",
    "La función realiza los siguientes pasos:\n",
    "\n",
    "Calcula la longitud del conjunto de datos (n).\n",
    "Calcula el número de valores que se deben recortar de cada extremo (k) multiplicando la longitud del conjunto de datos por la proporción de valores que se deben recortar.\n",
    "Ordena el conjunto de datos en orden ascendente utilizando la función np.sort.\n",
    "Selecciona el rango de valores que se deben utilizar para calcular la media recortada, excluyendo los valores más bajos y más altos que se deben recortar.\n",
    "Calcula la media de los valores seleccionados utilizando la función np.mean."
   ]
  },
  {
   "cell_type": "code",
   "execution_count": 8,
   "id": "2f6a3a67-0a53-473c-95fd-d86c59dbb766",
   "metadata": {},
   "outputs": [
    {
     "name": "stdout",
     "output_type": "stream",
     "text": [
      "Media recortada usando una función personalizada con Statsmodels: 5.5\n"
     ]
    }
   ],
   "source": [
    "# Usar una función personalizada para calcular la media recortada\n",
    "def trimmed_mean(data, proportiontocut):\n",
    "    n = len(data)\n",
    "    k = int(n * proportiontocut)\n",
    "    trimmed_data = np.sort(data)[k:n-k]\n",
    "    return np.mean(trimmed_data)\n",
    "\n",
    "# Calcular la media recortada usando la función personalizada\n",
    "trimmed_mean_statsmodels = trimmed_mean(df['values'], 0.1)\n",
    "print(\"Media recortada usando una función personalizada con Statsmodels:\", trimmed_mean_statsmodels)"
   ]
  },
  {
   "cell_type": "markdown",
   "id": "1e17c224",
   "metadata": {},
   "source": [
    "## <font color=violet>Media ponderada</font>\n",
    "***"
   ]
  },
  {
   "cell_type": "markdown",
   "id": "8bbe904a-af0f-44e8-bb72-832023540ed1",
   "metadata": {},
   "source": [
    "Otro tipo de media es una `media ponderada (weighted mean)`, que se calcula multiplicando cada valor de datos $x_i$ por un peso especificado por el usuario $w_i$ y dividiendo su suma por la suma de los pesos. La fórmula para una media ponderada es:\n",
    "\n",
    "# $$\\bar{x}_w = \\frac{\\sum_{i=1}^n w_i x_i}{\\sum_{i=1}^n w_i}$$\n",
    "\n",
    "Hay dos motivaciones principales para usar una media ponderada:\n",
    "\n",
    "- Algunos valores son intrínsecamente más variables que otros, y las observaciones altamente variables se les da un peso menor. Por ejemplo, si estamos tomando el promedio de múltiples sensores y uno de los sensores es menos preciso, entonces podríamos darle menos peso a los datos de ese sensor.\n",
    "- Los datos recopilados no representan igualmente a los diferentes grupos que estamos interesados en medir. Por ejemplo, debido a la forma en que se realizó un experimento en línea, es posible que no tengamos un conjunto de datos que refleje con precisión todos los grupos en la base de usuarios. Para corregir eso, podemos dar un mayor peso a los valores de los grupos que estaban subrepresentados."
   ]
  },
  {
   "cell_type": "markdown",
   "id": "16ecbb43-ff32-46e3-9d4d-052a4e00458d",
   "metadata": {},
   "source": [
    "**Ejemplos con Python**"
   ]
  },
  {
   "cell_type": "markdown",
   "id": "dcd311b9-5328-41aa-becf-079ee86c6e10",
   "metadata": {},
   "source": [
    "Vamos a utilizar un conjunto de datos simple donde cada valor tiene un peso asociado:"
   ]
  },
  {
   "cell_type": "code",
   "execution_count": 9,
   "id": "11dbfea1-c847-4328-9d80-f2d4444db395",
   "metadata": {},
   "outputs": [],
   "source": [
    "values = np.array([3, 5, 1, 2, 7, 8, 10, 6, 4, 9])\n",
    "weights = np.array([1, 2, 1, 1, 2, 1, 3, 2, 1, 2])\n",
    "# Crear un DataFrame de ejemplo\n",
    "df = pd.DataFrame({'values': [3, 5, 1, 2, 7, 8, 10, 6, 4, 9],\n",
    "                   'weights': [1, 2, 1, 1, 2, 1, 3, 2, 1, 2]})"
   ]
  },
  {
   "cell_type": "markdown",
   "id": "d163a237-2e7b-4da4-9c17-ed7fb05aff74",
   "metadata": {},
   "source": [
    "#### Scipy / Pandas / Statsmodels\n",
    "\n",
    "calcula la media ponderada de un conjunto de datos utilizando tres bibliotecas diferentes: SciPy, Pandas y Statsmodels.\n",
    "\n",
    "SciPy\n",
    "\n",
    "Crea un conjunto de datos de ejemplo con valores y pesos.\n",
    "Utiliza la función np.average para calcular la media ponderada, pasando los valores y pesos como argumentos.\n",
    "Imprime la media ponderada.\n",
    "\n",
    "Pandas\n",
    "\n",
    "Crea un DataFrame de ejemplo con columnas para valores y pesos.\n",
    "Utiliza la función np.average para calcular la media ponderada, pasando la columna de valores y la columna de pesos como argumentos.\n",
    "Imprime la media ponderada.\n",
    "\n",
    "Statsmodels\n",
    "\n",
    "Añade una columna de unos al DataFrame para representar el intercepto.\n",
    "Ajusta un modelo de regresión ponderado utilizando la función WLS de Statsmodels, pasando la columna de valores, la columna de intercepto y la columna de pesos como argumentos.\n",
    "La media ponderada es el valor del intercepto en el modelo ajustado.\n",
    "Imprime la media ponderada."
   ]
  },
  {
   "cell_type": "code",
   "execution_count": 10,
   "id": "eac09d93-5aec-45da-93c5-cfd434319827",
   "metadata": {},
   "outputs": [
    {
     "name": "stdout",
     "output_type": "stream",
     "text": [
      "Media ponderada usando SciPy: 6.375\n",
      "Media ponderada usando Pandas: 6.375\n",
      "Media ponderada usando Statsmodels: 6.375000000000003\n",
      "Media ponderada usando Pingouin: 6.375\n"
     ]
    }
   ],
   "source": [
    "#Scipy\n",
    "# Calcular la media ponderada usando scipy\n",
    "weighted_mean_scipy = np.average(values, weights=weights)\n",
    "print(\"Media ponderada usando SciPy:\", weighted_mean_scipy)\n",
    "\n",
    "\n",
    "# Pandas\n",
    "# Calcular la media ponderada usando pandas\n",
    "weighted_mean_pandas = np.average(df['values'], weights=df['weights'])\n",
    "print(\"Media ponderada usando Pandas:\", weighted_mean_pandas)\n",
    "\n",
    "# Statsmodels\n",
    "# Añadir una columna de unos para representar el intercepto\n",
    "df['intercept'] = 1\n",
    "\n",
    "# Ajustar un modelo de regresión ponderado\n",
    "model = sm.WLS(df['values'], df[['intercept']], weights=df['weights']).fit()\n",
    "\n",
    "# La media ponderada es el valor del intercepto\n",
    "weighted_mean_statsmodels = model.params['intercept']\n",
    "print(\"Media ponderada usando Statsmodels:\", weighted_mean_statsmodels)\n",
    "\n",
    "# Pingouine\n",
    "weighted_mean_pingouin = np.average(df['values'], weights=df['weights'])\n",
    "print(\"Media ponderada usando Pingouin:\", weighted_mean_pingouin)\n"
   ]
  },
  {
   "cell_type": "code",
   "execution_count": 11,
   "id": "6bdf7d29",
   "metadata": {},
   "outputs": [
    {
     "data": {
      "image/png": "[encoded data removed]",
      "text/plain": [
       "<Figure size 1000x600 with 1 Axes>"
      ]
     },
     "metadata": {},
     "output_type": "display_data"
    }
   ],
   "source": [
    "# Grafico\n",
    "plt.figure(figsize=(10, 6))\n",
    "plt.bar(df.index, df['values'], color='lightblue', alpha=0.7, label='Values')\n",
    "plt.scatter(df.index, [weighted_mean_scipy]*len(df), color='red', label='Weighted Mean (SciPy)', marker='x')\n",
    "plt.scatter(df.index, [weighted_mean_statsmodels]*len(df), color='green', label='Weighted Mean (Statsmodels)', marker='o')\n",
    "plt.axhline(y=weighted_mean_scipy, color='red', linestyle='--')\n",
    "plt.axhline(y=weighted_mean_statsmodels, color='green', linestyle='--')\n",
    "plt.legend()\n",
    "plt.title('Media Ponderada - Weighted Means')\n",
    "plt.xlabel('Index')\n",
    "plt.ylabel('Values')\n",
    "plt.show()"
   ]
  },
  {
   "cell_type": "markdown",
   "id": "cb5804cd-5762-4548-a860-3dea0cade866",
   "metadata": {},
   "source": [
    "## <font color=violet>Mediana y Estimaciones Robustas</font>\n",
    "***\n",
    "\n",
    "La mediana es una medida de tendencia central que se utiliza para describir la posición central de un conjunto de datos. A diferencia de la media, que se calcula sumando todos los valores y dividiéndolos por el número de observaciones, la mediana se basa en el valor central de los datos ordenados.\n",
    "\n",
    "Ventajas de la mediana\n",
    "\n",
    "La mediana tiene varias ventajas sobre la media:\n",
    "\n",
    "Robustez frente a valores atípicos: La mediana no se ve afectada por valores extremos, como en el ejemplo de Bill Gates en Medina. La mediana sigue siendo la misma incluso si hay valores muy altos o muy bajos.\n",
    "Independencia de la distribución: La mediana no depende de la forma de la distribución de los datos, lo que la hace más robusta que la media.\n",
    "Facilidad de cálculo: La mediana es fácil de calcular, especialmente cuando los datos están ordenados.\n",
    "Mediana ponderada\n",
    "\n",
    "Al igual que la media ponderada, la mediana ponderada se utiliza cuando los datos tienen pesos asociados. La mediana ponderada se calcula ordenando los datos y encontrando el valor tal que la suma de los pesos es igual para las mitades inferior y superior de la lista ordenada.\n",
    "\n",
    "Ventajas de la mediana ponderada\n",
    "\n",
    "La mediana ponderada tiene las mismas ventajas que la mediana, además de:\n",
    "\n",
    "Consideración de la importancia de cada observación: La mediana ponderada tiene en cuenta la importancia de cada observación, lo que la hace más representativa de la realidad."
   ]
  },
  {
   "cell_type": "markdown",
   "id": "8e501458-7ae3-4542-bce8-736108c0efd2",
   "metadata": {},
   "source": [
    "**Ejemplos con Python**"
   ]
  },
  {
   "cell_type": "markdown",
   "id": "6f5d5570-3598-4b2a-98f7-74e97a761504",
   "metadata": {},
   "source": [
    "#### SciPy (Numpy) / Pandas / Pingouine "
   ]
  },
  {
   "cell_type": "code",
   "execution_count": 12,
   "id": "db7a76e2-7f41-4121-a155-c2031ff9b2b7",
   "metadata": {},
   "outputs": [
    {
     "name": "stdout",
     "output_type": "stream",
     "text": [
      "Mediana usando 'SciPy': 5.5\n",
      "Mediana usando Statsmodels: 5.499999999999998\n",
      "Mediana usando Pandas: 5.5\n"
     ]
    },
    {
     "name": "stderr",
     "output_type": "stream",
     "text": [
      "C:\\Users\\CursosTardes\\AppData\\Local\\Temp\\ipykernel_19736\\2155614543.py:12: FutureWarning: Series.__getitem__ treating keys as positions is deprecated. In a future version, integer keys will always be treated as labels (consistent with DataFrame behavior). To access a value by position, use `ser.iloc[pos]`\n",
      "  median_statsmodels = res.params[0]\n"
     ]
    }
   ],
   "source": [
    "\n",
    "#Scipy\n",
    "# Calcular la mediana usando numpy (parte de scipy)\n",
    "median_scipy = np.median(data)\n",
    "print(\"Mediana usando 'SciPy':\", median_scipy)\n",
    "\n",
    "#Statsmodels\n",
    "# Ajustar un modelo de regresión cuantílica para calcular la mediana\n",
    "quant_reg = sm.QuantReg(df['values'], np.ones(len(df['values'])))\n",
    "res = quant_reg.fit(q=0.5)\n",
    "\n",
    "# La mediana es el coeficiente del modelo\n",
    "median_statsmodels = res.params[0]\n",
    "print(\"Mediana usando Statsmodels:\", median_statsmodels)\n",
    "\n",
    "# Cálculo de la mediana usando Pandas\n",
    "# Pandas\n",
    "median_pandas = df['values'].median()\n",
    "print(\"Mediana usando Pandas:\", median_pandas)\n"
   ]
  },
  {
   "cell_type": "markdown",
   "id": "6e873bf2-9ff9-4493-9212-72d518b7e91a",
   "metadata": {},
   "source": [
    "Statsmodels no tiene una función directa para calcular la mediana. Sin embargo, podemos usar una `regresión cuantílica` para calcularla, ya que la mediana es el cuantil 0.5."
   ]
  },
  {
   "cell_type": "markdown",
   "id": "7cff792a-ae6b-42bc-bfdd-96295225c473",
   "metadata": {},
   "source": [
    "## <font color=violet>Valores Atípicos</font>\n",
    "***\n",
    "Un valor atípico es un dato que se encuentra muy alejado de los demás valores en un conjunto de datos. Estos valores pueden ser resultado de errores de datos, como lecturas incorrectas de un sensor o mezcla de unidades de medida. Los valores atípicos pueden influir en la media, llevando a una mala estimación de la ubicación, mientras que la mediana es más robusta y no se ve afectada por estos valores extremos."
   ]
  },
  {
   "cell_type": "markdown",
   "id": "740e1529-d72b-4596-826f-2d163b696b25",
   "metadata": {},
   "source": [
    "#### Detección de Anomalías\n",
    "\n",
    "La detección de anomalías se enfoca en identificar los valores atípicos en un conjunto de datos. En este contexto, los valores atípicos son los puntos de interés, y la mayor parte de los datos se utiliza para definir lo \"normal\" contra lo cual se miden las anomalías. La detección de anomalías es importante en various campos, como la seguridad informática, la detección de fraude, y la monitorización de sistemas.\n",
    "\n",
    "#### Estimaciones Robustas de la Ubicación\n",
    "\n",
    "La mediana es una estimación robusta de la ubicación que no se ve influenciada por valores atípicos. Otra estimación robusta es la media recortada, que elimina un porcentaje determinado de los valores extremos (por ejemplo, el 10% inferior y superior) antes de calcular la media. La media recortada es un compromiso entre la mediana y la media, ya que es robusta frente a valores extremos, pero utiliza más datos para calcular la estimación de la ubicación."
   ]
  },
  {
   "cell_type": "markdown",
   "id": "d5c17fb6-0f2d-4e48-b6b7-dc97693dcce8",
   "metadata": {},
   "source": [
    "#### Ejercicio 1: Estimaciones de Ubicación de la Población y las Tasas de Homicidios\n",
    "\n",
    "La Tabla 1-2 muestra las primeras filas del conjunto de datos que contiene la población y las tasas de homicidios (en unidades de asesinatos por cada 100,000 personas por año) para cada estado de EE. UU. (Censo de 2010).\n",
    "\n",
    "| Estado       | Población  | Tasa de Homicidios | Abreviatura |\n",
    "|--------------|-------------|-------------------|-------------|\n",
    "| Alabama      | 4,779,736   | 5.7               | AL          |\n",
    "| Alaska       | 710,231     | 5.6               | AK          |\n",
    "| Arizona      | 6,392,017   | 4.7               | AZ          |\n",
    "| Arkansas     | 2,915,918   | 5.6               | AR          |\n",
    "| California   | 37,253,956  | 4.4               | CA          |\n",
    "| Colorado     | 5,029,196   | 2.8               | CO          |\n",
    "| Connecticut  | 3,574,097   | 2.4               | CT          |\n",
    "| Delaware     | 897,934     | 5.8               | DE          |\n",
    "\n",
    "Calcula la media, la media recortada, la media ponderada y la mediana para la población usando Pandas, Scipy y Pingouine (Opcional: Statsmodels). Utilice el fichero `state.csv`"
   ]
  },
  {
   "cell_type": "code",
   "execution_count": 13,
   "id": "f53f0233",
   "metadata": {},
   "outputs": [
    {
     "data": {
      "text/html": [
       "<div>\n",
       "<style scoped>\n",
       "    .dataframe tbody tr th:only-of-type {\n",
       "        vertical-align: middle;\n",
       "    }\n",
       "\n",
       "    .dataframe tbody tr th {\n",
       "        vertical-align: top;\n",
       "    }\n",
       "\n",
       "    .dataframe thead th {\n",
       "        text-align: right;\n",
       "    }\n",
       "</style>\n",
       "<table border=\"1\" class=\"dataframe\">\n",
       "  <thead>\n",
       "    <tr style=\"text-align: right;\">\n",
       "      <th></th>\n",
       "      <th>State</th>\n",
       "      <th>Population</th>\n",
       "      <th>Murder.Rate</th>\n",
       "      <th>Abbreviation</th>\n",
       "    </tr>\n",
       "  </thead>\n",
       "  <tbody>\n",
       "    <tr>\n",
       "      <th>0</th>\n",
       "      <td>Alabama</td>\n",
       "      <td>4779736</td>\n",
       "      <td>5.7</td>\n",
       "      <td>AL</td>\n",
       "    </tr>\n",
       "    <tr>\n",
       "      <th>1</th>\n",
       "      <td>Alaska</td>\n",
       "      <td>710231</td>\n",
       "      <td>5.6</td>\n",
       "      <td>AK</td>\n",
       "    </tr>\n",
       "    <tr>\n",
       "      <th>2</th>\n",
       "      <td>Arizona</td>\n",
       "      <td>6392017</td>\n",
       "      <td>4.7</td>\n",
       "      <td>AZ</td>\n",
       "    </tr>\n",
       "    <tr>\n",
       "      <th>3</th>\n",
       "      <td>Arkansas</td>\n",
       "      <td>2915918</td>\n",
       "      <td>5.6</td>\n",
       "      <td>AR</td>\n",
       "    </tr>\n",
       "  </tbody>\n",
       "</table>\n",
       "</div>"
      ],
      "text/plain": [
       "      State  Population  Murder.Rate Abbreviation\n",
       "0   Alabama     4779736          5.7           AL\n",
       "1    Alaska      710231          5.6           AK\n",
       "2   Arizona     6392017          4.7           AZ\n",
       "3  Arkansas     2915918          5.6           AR"
      ]
     },
     "execution_count": 13,
     "metadata": {},
     "output_type": "execute_result"
    }
   ],
   "source": [
    "df=pd.read_csv('Datos/state87.csv')\n",
    "df.head(4)"
   ]
  },
  {
   "cell_type": "code",
   "execution_count": 14,
   "id": "f36b4e43",
   "metadata": {},
   "outputs": [
    {
     "data": {
      "text/plain": [
       "Index(['State', 'Population', 'Murder.Rate', 'Abbreviation'], dtype='object')"
      ]
     },
     "execution_count": 14,
     "metadata": {},
     "output_type": "execute_result"
    }
   ],
   "source": [
    "df.columns"
   ]
  },
  {
   "cell_type": "code",
   "execution_count": 15,
   "id": "014d98bf",
   "metadata": {},
   "outputs": [
    {
     "name": "stdout",
     "output_type": "stream",
     "text": [
      "Mean - Pandas: 6162876.30\n",
      "Mean - Scipy: 6162876.30\n",
      "Mean - Pingouin (NumPy): 6162876.30\n",
      "Mean - Statsmodels: 6162876.299999999\n"
     ]
    }
   ],
   "source": [
    "from pingouin import mwu\n",
    "\n",
    "#MEDIA\n",
    "# Uso Pandas\n",
    "mean_pandas = df['Population'].mean()\n",
    "print(f\"Mean - Pandas: {mean_pandas:.2f}\")\n",
    "\n",
    "# Uso Scipy\n",
    "mean_scipy = np.mean(df['Population'])\n",
    "print(f\"Mean - Scipy: {mean_scipy:.2f}\")\n",
    "\n",
    "# Using Pingouine\n",
    "mean_pingouin = np.mean(df['Population'])\n",
    "print(f\"Mean - Pingouin (NumPy): {mean_pingouin:.2f}\")\n",
    "\n",
    "# Using Statsmodels\n",
    "# Agregar una columna de unos para representar el intercepto\n",
    "df['intercept'] = 1\n",
    "\n",
    "# Ajustar un modelo de regresión sin variables explicativas, solo el intercepto\n",
    "model = sm.OLS(df['Population'], df['intercept']).fit()\n",
    "\n",
    "# La media es el valor del intercepto\n",
    "mean_statsmodels = model.params['intercept']\n",
    "print(\"Mean - Statsmodels:\", mean_statsmodels)"
   ]
  },
  {
   "cell_type": "code",
   "execution_count": 16,
   "id": "b362eb38",
   "metadata": {},
   "outputs": [
    {
     "name": "stdout",
     "output_type": "stream",
     "text": [
      "Trimmed mean (20% trimmed) - Pandas: 4436369.50\n",
      "Trimmed mean (20% trimmed) - Scipy: 4413915.97\n",
      "Trimmed mean (20% trimmed) - Scipy (used instead of Statsmodels): 4413915.97\n"
     ]
    }
   ],
   "source": [
    "#MEDIA RECORTADA (trimmed mean 20%)\n",
    "# Using Pandas\n",
    "trimmed_mean_pop_pandas = df['Population'].quantile(0.5, interpolation='midpoint')\n",
    "print(f\"Trimmed mean (20% trimmed) - Pandas: {trimmed_mean_pop_pandas:.2f}\")\n",
    "\n",
    "# Using Scipy\n",
    "trimmed_mean_pop_scipy = stats.trim_mean(df['Population'], proportiontocut=0.2)\n",
    "print(f\"Trimmed mean (20% trimmed) - Scipy: {trimmed_mean_pop_scipy:.2f}\")\n",
    "\n",
    "# Using Statsmodels\n",
    "trimmed_mean_statsmodels = stats.trim_mean(df['Population'], proportiontocut=0.2)\n",
    "print(f\"Trimmed mean (20% trimmed) - Scipy (used instead of Statsmodels): {trimmed_mean_statsmodels:.2f}\")"
   ]
  },
  {
   "cell_type": "code",
   "execution_count": 17,
   "id": "8f38a975",
   "metadata": {},
   "outputs": [
    {
     "name": "stdout",
     "output_type": "stream",
     "text": [
      "Media ponderada - Pandas: 6162876.30\n",
      "Media ponderada - Scipy: 6162876.30\n",
      "Media ponderada - Pingouin (NumPy): 6162876.30\n",
      "Media ponderada - Statsmodels (usando NumPy): 6162876.30\n"
     ]
    }
   ],
   "source": [
    "#MEDIA PONDERADA\n",
    "df['Weight'] = 1\n",
    "\n",
    "# Usando Pandas\n",
    "media_ponderada_pandas = (df['Population'] * df['Weight']).sum() / df['Weight'].sum()\n",
    "print(f\"Media ponderada - Pandas: {media_ponderada_pandas:.2f}\")\n",
    "\n",
    "# Usando Scipy\n",
    "media_ponderada_scipy = np.average(df['Population'], weights=df['Weight'])\n",
    "print(f\"Media ponderada - Scipy: {media_ponderada_scipy:.2f}\")\n",
    "\n",
    "# Usando Pingouin (que se basa en NumPy y Scipy)\n",
    "media_ponderada_pingouin = np.average(df['Population'], weights=df['Weight'])\n",
    "print(f\"Media ponderada - Pingouin (NumPy): {media_ponderada_pingouin:.2f}\")\n",
    "\n",
    "# Usando Statsmodels\n",
    "# Añadir una columna de unos para representar el intercepto\n",
    "df['intercept'] = 1\n",
    "\n",
    "# Ajustar un modelo de regresión ponderado\n",
    "model = sm.WLS(df['Population'], df[['intercept']], weights=df['Weight']).fit()\n",
    "\n",
    "# La media ponderada es el valor del intercepto\n",
    "weighted_mean_statsmodels = model.params['intercept']\n",
    "print(f\"Media ponderada - Statsmodels (usando NumPy): {weighted_mean_statsmodels:.2f}\")"
   ]
  },
  {
   "cell_type": "code",
   "execution_count": 18,
   "id": "efa244ed",
   "metadata": {},
   "outputs": [
    {
     "name": "stdout",
     "output_type": "stream",
     "text": [
      "Mediana con Pandas: 4436369.5\n",
      "Mediana con numpy: 4436369.5\n",
      "Mediana con Pingouine (numpy): 4436369.5\n",
      "Mediana usando Statsmodels: 4531895.2390559\n"
     ]
    },
    {
     "name": "stderr",
     "output_type": "stream",
     "text": [
      "C:\\Users\\CursosTardes\\AppData\\Local\\Temp\\ipykernel_19736\\3293632721.py:20: FutureWarning: Series.__getitem__ treating keys as positions is deprecated. In a future version, integer keys will always be treated as labels (consistent with DataFrame behavior). To access a value by position, use `ser.iloc[pos]`\n",
      "  median_statsmodels = res.params[0]\n"
     ]
    }
   ],
   "source": [
    "#MEDIANA\n",
    "# Calcula la mediana con Pandas\n",
    "mediana_pandas = df['Population'].median()\n",
    "print(\"Mediana con Pandas:\", mediana_pandas)\n",
    "\n",
    "# Calcula la mediana con Scipy\n",
    "mediana_numpy = np.median(df['Population'])\n",
    "print(\"Mediana con numpy:\", mediana_numpy)\n",
    "\n",
    "# Calcula la mediana con Pingouine (no tiene una función específica para mediana, pero se puede calcular con numpy)\n",
    "mediana_pingouine = np.median(df['Population'])\n",
    "print(\"Mediana con Pingouine (numpy):\", mediana_pingouine)\n",
    "\n",
    "# Calcula la mediana con Statsmodels (no tiene una función específica para mediana, pero se puede calcular con numpy)\n",
    "# Ajustar un modelo de regresión cuantílica para calcular la mediana\n",
    "quant_reg = sm.QuantReg(df['Population'], np.ones(len(df['Population'])))\n",
    "res = quant_reg.fit(q=0.5)\n",
    "\n",
    "# La mediana es el coeficiente del modelo\n",
    "median_statsmodels = res.params[0]\n",
    "print(\"Mediana usando Statsmodels:\", median_statsmodels)"
   ]
  },
  {
   "cell_type": "markdown",
   "id": "ad80e081-e27c-46b5-8a3e-e286e9e898eb",
   "metadata": {},
   "source": [
    "#### Ejercicio 2. Investigar cómo se interpreta estadísticamente la medida de tendecia central: `moda`.  \n",
    "Buscar ejemplos concretos donde se aplique la moda. Desarrolle un ejemplo con Pandas, Scipy, Statsmodels y Pingouine"
   ]
  },
  {
   "cell_type": "markdown",
   "id": "eb87b0a2",
   "metadata": {},
   "source": [
    "La moda es una medida de tendencia central que se utiliza para describir el valor que se repite con más frecuencia en un conjunto de datos. Estadísticamente, la moda se interpreta como el valor que tiene la mayor frecuencia de aparición en un conjunto de datos [1].\n",
    "\n",
    "Ventajas de la moda\n",
    "\n",
    "No requiere cálculos\n",
    "Puede usarse para datos tanto cuantitativos como cualitativos\n",
    "Fácil de interpretar\n",
    "No es sensible a los valores extremos (outliers)\n",
    "Desventajas de la moda\n",
    "\n",
    "Para conjuntos pequeños de datos su valor no tiene casi utilidad, si es que de hecho existe. Sólo tiene significado en el caso de una gran cantidad de datos.\n",
    "No siempre existe, si los datos no se repiten\n",
    "Difícil de interpretar si los datos tiene 3 o más modas\n",
    "Ejemplos concretos\n",
    "\n",
    "La moda se utiliza en la elección de un candidato político, ya que se busca al candidato que tenga la mayor cantidad de votos.\n",
    "La moda se utiliza en la elección de un producto, ya que se busca al producto que tenga la mayor cantidad de ventas."
   ]
  },
  {
   "cell_type": "code",
   "execution_count": 19,
   "id": "c5ecdc7d",
   "metadata": {},
   "outputs": [
    {
     "name": "stdout",
     "output_type": "stream",
     "text": [
      "Pandas - Moda: 2\n",
      "Scipy - Moda: 2\n"
     ]
    }
   ],
   "source": [
    "valores = [10, 2, 4, 5, 2, 1, 2, 3, 9, 49, 2, 4, 5]\n",
    "\n",
    "#PANDAS\n",
    "print(f\"Pandas - Moda: {pd.Series(valores).mode().values[0]}\") \n",
    "\n",
    "#SCIPY\n",
    "print(f\"Scipy - Moda: {stats.mode(valores).mode}\")\n"
   ]
  },
  {
   "cell_type": "markdown",
   "id": "5c5f5770-8ccc-49dd-b8f5-2687d06bd10a",
   "metadata": {},
   "source": [
    "### 1.2 Estimaciones de Variabilidad o medidas de variación"
   ]
  },
  {
   "cell_type": "markdown",
   "id": "80fe8b26-9234-4aab-8148-f2a39243fdb7",
   "metadata": {},
   "source": [
    "La variabilidad, también conocida como dispersión, es una dimensión fundamental en estadística que mide la dispersión de los valores de los datos."
   ]
  },
  {
   "cell_type": "markdown",
   "id": "4ca4db42-e86f-4c39-b62a-662a6ef634d7",
   "metadata": {},
   "source": [
    "## Términos Clave para Métricas de Variabilidad\n",
    "\n",
    " Hay varias formas de medir la variabilidad, incluyendo:\n",
    "\n",
    "- Desviaciones (error absoluto): La diferencia entre los valores observados y la estimación de ubicación.\n",
    "- Varianza (s²): La suma de las desviaciones al cuadrado con respecto a la media, dividida por n - 1.\n",
    "- Desviación estándar: La raíz cuadrada de la varianza.\n",
    "- Desviación absoluta media: La media de los valores absolutos de las desviaciones con respecto a la media.\n",
    "- Desviación absoluta mediana desde la mediana: La mediana de los valores absolutos de las desviaciones con respecto a la mediana.\n",
    "- Rango: La diferencia entre el valor más grande y el más pequeño en un conjunto de datos.\n",
    "- Estadísticas de orden: Métricas basadas en los valores de los datos ordenados de menor a mayor.\n",
    "- Percentil: El valor tal que P por ciento de los valores toman este valor o menos y (100 - P) por ciento toman este valor o más.\n",
    "- Rango intercuartílico (IQR): La diferencia entre el percentil 75 y el percentil 25"
   ]
  },
  {
   "cell_type": "markdown",
   "id": "1b7fc6fe-182b-4903-ba17-0bfb92799c12",
   "metadata": {},
   "source": [
    "## <font color=violet>Desviación Estándar y Estimaciones Relacionadas</font>\n",
    "***\n",
    "\n",
    "La desviación estándar y las estimaciones relacionadas miden la variabilidad de los datos basándose en las diferencias entre la estimación de la ubicación y los datos observados.\n",
    "\n",
    "Las desviaciones son las diferencias entre los datos y la media o mediana."
   ]
  },
  {
   "cell_type": "markdown",
   "id": "e3bc60c4",
   "metadata": {},
   "source": [
    "### Desviación Absoluta Media"
   ]
  },
  {
   "cell_type": "markdown",
   "id": "8dbb8cad",
   "metadata": {},
   "source": [
    "La desviación absoluta media es el promedio de los valores absolutos de las desviaciones con respecto a la media.\n",
    "\n",
    "La fórmula para la desviación absoluta media es: (suma de los valores absolutos de las desviaciones) / número de datos.\n",
    "\n",
    "Ejemplo: para el conjunto de datos {2, 1, 3}, la media es 2 y las desviaciones son {0, -1, 1}. La desviación absoluta media es (0 + 1 + 1) / 3 = 0.66\n",
    "\n",
    "# $$\\text{Desviación absoluta media} = \\frac{\\sum_{i=1}^{n} |x_i - \\bar{x}|}{n}$$\n",
    "\n",
    "donde $\\bar{x}$ es la media de la muestra.\n",
    "\n",
    "> En resumen, la Desviación Absoluta Media es particularmente útil en situaciones donde se busca una medida de dispersión robusta, menos afectada por valores atípicos, y es una alternativa efectiva a la desviación estándar en contextos de análisis exploratorio, modelado predictivo, control de calidad, y análisis financiero."
   ]
  },
  {
   "cell_type": "markdown",
   "id": "6a1f6490-7ac5-4c05-b362-7ad4fa7cf125",
   "metadata": {},
   "source": [
    "### Ejemplos con Python"
   ]
  },
  {
   "cell_type": "markdown",
   "id": "ed688987-a44b-47ec-bf38-23fecb88881c",
   "metadata": {},
   "source": [
    "#### Con Scipy (Numpy) / Pandas / Statsmodels "
   ]
  },
  {
   "cell_type": "code",
   "execution_count": 20,
   "id": "acfc61a2",
   "metadata": {},
   "outputs": [],
   "source": [
    "# Crear un conjunto de datos de ejemplo\n",
    "data = np.array([1, 2, 3, 4, 5, 6, 7, 8, 100])\n",
    "# Crear un DataFrame de ejemplo\n",
    "df = pd.DataFrame({'values': [1, 2, 3, 4, 5, 6, 7, 8, 100]})"
   ]
  },
  {
   "cell_type": "code",
   "execution_count": 21,
   "id": "78def68c-da38-4dfc-9cdc-a72614e52df2",
   "metadata": {},
   "outputs": [
    {
     "name": "stdout",
     "output_type": "stream",
     "text": [
      "Desviación absoluta media usando SciPy: 18.864197530864196\n",
      "Desviación absoluta media usando Pandas: 18.864197530864196\n",
      "Desviación absoluta media usando Statsmodels (manual): 18.864197530864196\n",
      "Desviación absoluta media usando Pingouin: 18.864197530864196\n"
     ]
    }
   ],
   "source": [
    "#SCIPY\n",
    "# Calcular la desviación absoluta media usando numpy (parte de scipy)\n",
    "mean = np.mean(data)\n",
    "mad_scipy = np.mean(np.abs(data - mean))\n",
    "print(\"Desviación absoluta media usando SciPy:\", mad_scipy)\n",
    "\n",
    "#PANDAS \n",
    "\n",
    "\n",
    "# Calcular la desviación absoluta media usando pandas\n",
    "mean = df['values'].mean()\n",
    "mad_pandas = np.mean(np.abs(df['values'] - mean))\n",
    "print(\"Desviación absoluta media usando Pandas:\", mad_pandas)\n",
    "\n",
    "#STATSMODELS\n",
    "# Calcular la media\n",
    "mean = df['values'].mean()\n",
    "\n",
    "# Calcular la desviación absoluta media manualmente\n",
    "mad_mean_statsmodels = np.mean(np.abs(df['values'] - mean))\n",
    "print(\"Desviación absoluta media usando Statsmodels (manual):\", mad_mean_statsmodels)\n",
    "\n",
    "#PINGOUINE\n",
    "# Calcular la desviación absoluta media usando Pingouin respecto a la media\n",
    "mad_pingouin_manual = np.mean(np.abs(data - mean))\n",
    "print(\"Desviación absoluta media usando Pingouin:\", mad_pingouin_manual)\n"
   ]
  },
  {
   "cell_type": "markdown",
   "id": "1a1778f7-1e79-4399-ab70-78c1ef66e645",
   "metadata": {},
   "source": [
    "## <font color=violet>Varianza</font>\n",
    "***"
   ]
  },
  {
   "cell_type": "markdown",
   "id": "891c3407-619d-4db7-98ab-ed0565aa857c",
   "metadata": {},
   "source": [
    "Varianza: Es una medida de dispersión que indica cuánto varían los datos respecto a su media (promedio). Se calcula promediando las desviaciones al cuadrado de cada valor respecto a la media. La fórmula es:\n",
    "\n",
    "$\n",
    "\\text{Varianza} = s^2 = \\frac{\\sum_{i=1}^{n} (x_i - \\bar{x})^2}{n - 1}\n",
    "$  \n",
    "\n",
    "Pasos para Calcular la Varianza: 1.Calcular la Media: Es el promedio de todos los valores.   2.Calcular las Desviaciones al Cuadrado: Restar la media de cada valor y elevar al cuadrado la diferencia  3. Calcular la Varianza: Promediar las desviaciones al cuadrado."
   ]
  },
  {
   "cell_type": "markdown",
   "id": "30db1804-1b9a-45dc-afe8-ec980ce96c2c",
   "metadata": {},
   "source": [
    "### Interpretación de la Varianza\n",
    "\n",
    "- Medida de Dispersión: Indica la variabilidad o dispersión de los datos en relación con la media. Una varianza mayor significa mayor dispersión.\n",
    "- Sensibilidad a Outliers: Es sensible a valores atípicos, ya que las desviaciones al cuadrado amplifican el impacto de estos valores extremos.\n",
    "- Unidades Cuadradas: La varianza se expresa en unidades al cuadrado, lo que puede dificultar la interpretación directa, a diferencia de la desviación estándar, que está en las mismas unidades que los datos originales."
   ]
  },
  {
   "cell_type": "markdown",
   "id": "89a53e7e-ec22-49f3-9397-07a4612414bc",
   "metadata": {},
   "source": [
    "#### Ejemplos en Python"
   ]
  },
  {
   "cell_type": "markdown",
   "id": "86967a53-3b81-4bf3-b5a7-43f9e8f32019",
   "metadata": {},
   "source": [
    "#### Con Pandas"
   ]
  },
  {
   "cell_type": "code",
   "execution_count": 22,
   "id": "199ea9f7-e7bd-4be4-9baf-48e4dd78584b",
   "metadata": {},
   "outputs": [
    {
     "name": "stdout",
     "output_type": "stream",
     "text": [
      "Varianza usando Pandas: 905.4320987654321\n",
      "Varianza usando SciPy: 905.4320987654321\n",
      "Varianza usando Statsmodels: 905.4320987654321\n"
     ]
    }
   ],
   "source": [
    "#PANDAS\n",
    "# Calcular la varianza usando pandas\n",
    "var_pandas = df['values'].var(ddof=0)  # ddof=0 para la varianza de la población\n",
    "print(\"Varianza usando Pandas:\", var_pandas)\n",
    "\n",
    "#SCIPY\n",
    "# Calcular la varianza usando scipy\n",
    "var_scipy = stats.tvar(data, ddof=0)  # ddof=0 para la varianza de la población\n",
    "print(\"Varianza usando SciPy:\", var_scipy)\n",
    "\n",
    "#STATSMODELS\n",
    "# Calcular la media\n",
    "mean = df['values'].mean()\n",
    "\n",
    "# Calcular la varianza manualmente usando statsmodels\n",
    "var_statsmodels = np.mean((df['values'] - mean) ** 2)\n",
    "print(\"Varianza usando Statsmodels:\", var_statsmodels)"
   ]
  },
  {
   "cell_type": "markdown",
   "id": "fddc7a12-8073-4469-bc85-bd081dd34c28",
   "metadata": {},
   "source": [
    "## <font color=violet>Desviación estándar o típica</font>\n",
    "***"
   ]
  },
  {
   "cell_type": "markdown",
   "id": "0f85f78e-db97-4467-ae89-bd47e51c74a7",
   "metadata": {},
   "source": [
    "# $$\\text s = \\sqrt{\\text{Varianza}}$$\n",
    "\n",
    "La desviación estándar mide la dispersión de los datos respecto a la media, y está en las mismas unidades que los datos, lo que facilita su interpretación. A diferencia de la varianza, que usa desviaciones al cuadrado, la desviación estándar se calcula como la raíz cuadrada de la varianza."
   ]
  },
  {
   "cell_type": "markdown",
   "id": "59e171db-ade6-4fa5-af98-821b6e029c01",
   "metadata": {},
   "source": [
    "### Interpretación de la Desviación Estándar\n",
    "\n",
    "- Medida de Dispersión: Mide cuánto se desvían los datos de la media. Mayor desviación estándar indica mayor dispersión.\n",
    "- Comparabilidad: Está en las mismas unidades que los datos, facilitando su interpretación.\n",
    "- Sensibilidad a Outliers: Similar a la varianza, es sensible a valores extremos debido al uso de desviaciones al cuadrado."
   ]
  },
  {
   "cell_type": "markdown",
   "id": "52b02ce8-d8ea-4b6f-962f-05a8c3960f77",
   "metadata": {},
   "source": [
    "#### SciPy (Numpy) / Pandas /  Statsmodels "
   ]
  },
  {
   "cell_type": "code",
   "execution_count": 23,
   "id": "125d520a-6f76-459b-8d37-9fb4b53ba3c6",
   "metadata": {},
   "outputs": [
    {
     "name": "stdout",
     "output_type": "stream",
     "text": [
      "Desviación estándar usando SciPy: 31.915687539376478\n",
      "Desviación estándar usando Pandas: 31.915687539376478\n",
      "Desviación estándar usando Statsmodels (de los residuales): 31.915687539376478\n"
     ]
    }
   ],
   "source": [
    "# SCIPY \n",
    "# Calcular la desviación estándar usando numpy (parte de scipy)\n",
    "std_dev_scipy = np.std(data, ddof=1)  # ddof=1 para una muestra\n",
    "print(\"Desviación estándar usando SciPy:\", std_dev_scipy)\n",
    "\n",
    "\n",
    "#PANDAS\n",
    "# Calcular la desviación estándar usando pandas\n",
    "std_dev_pandas = df['values'].std()\n",
    "print(\"Desviación estándar usando Pandas:\", std_dev_pandas)\n",
    "\n",
    "\n",
    "#STATSMODELS\n",
    "# Agregar una columna de unos para representar el intercepto\n",
    "df['intercept'] = 1\n",
    "\n",
    "# Ajustar un modelo OLS (mínimos cuadrados ordinarios)\n",
    "model = sm.OLS(df['values'], df['intercept']).fit()\n",
    "\n",
    "# Calcular la desviación estándar de los residuales\n",
    "residuals = model.resid\n",
    "std_dev_statsmodels = np.std(residuals, ddof=1)  # ddof=1 para una muestra\n",
    "print(\"Desviación estándar usando Statsmodels (de los residuales):\", std_dev_statsmodels)\n"
   ]
  },
  {
   "cell_type": "code",
   "execution_count": 24,
   "id": "e00379ad",
   "metadata": {},
   "outputs": [
    {
     "data": {
      "image/png": "[encoded data removed]",
      "text/plain": [
       "<Figure size 1000x600 with 1 Axes>"
      ]
     },
     "metadata": {},
     "output_type": "display_data"
    }
   ],
   "source": [
    "import matplotlib.pyplot as plt \n",
    "\n",
    "# Crear el gráfico\n",
    "plt.figure(figsize=(10, 6))\n",
    "\n",
    "# Plot para el valor original de los datos\n",
    "plt.plot(data, label='Data', marker='o', linestyle='-')\n",
    "\n",
    "# Líneas horizontales para las desviaciones estándar\n",
    "plt.axhline(y=std_dev_scipy, color='r', linestyle='--', label=f'Standard Deviation (SciPy) = {std_dev_scipy:.2f}')\n",
    "plt.axhline(y=std_dev_pandas, color='g', linestyle='--', label=f'Standard Deviation (Pandas) = {std_dev_pandas:.2f}')\n",
    "plt.axhline(y=std_dev_statsmodels, color='b', linestyle='--', label=f'Standard Deviation (Statsmodels Residuals) = {std_dev_statsmodels:.2f}')\n",
    "\n",
    "plt.legend()\n",
    "plt.title('Comparación de la Desviación Estándar') \n",
    "plt.xlabel('Index')\n",
    "plt.ylabel('Valores')\n",
    "plt.show()"
   ]
  },
  {
   "cell_type": "markdown",
   "id": "13ec562d-639a-4af9-a989-fd78559421aa",
   "metadata": {},
   "source": [
    "## <font color=violet>Desviación absoluta mediana</font>\n",
    "***"
   ]
  },
  {
   "cell_type": "markdown",
   "id": "66dd2898-aadb-4374-95d4-5088bc6a6821",
   "metadata": {},
   "source": [
    "La Desviación Absoluta Mediana (MAD) es una medida robusta de variabilidad que no se ve afectada por valores atípicos, a diferencia de la varianza y la desviación estándar, que son sensibles a valores extremos.\n",
    "\n",
    "Cálculo:\n",
    "1. Calcular la Mediana (𝑚) de los datos.\n",
    "\n",
    "2. Calcular las Desviaciones Absolutas desde la mediana: \n",
    "∣𝑥𝑖−𝑚∣\n",
    "\n",
    "3.Obtener la Mediana de estas desviaciones absolutas.\n",
    "\n",
    "MAD = Mediana(∣𝑥1−𝑚∣, ∣𝑥2−𝑚∣, .... ,∣𝑥N−𝑚∣)"
   ]
  },
  {
   "cell_type": "markdown",
   "id": "89030622-ac3a-40a4-b9e8-5f0c3901513c",
   "metadata": {},
   "source": [
    "### Interpretación\n",
    "\n",
    "Robustez: A diferencia de la varianza y la desviación estándar, la MAD no se ve influenciada por valores extremos, lo que la hace útil para detectar outliers y entender la variabilidad de manera robusta.\n",
    "\n",
    "Aplicación: Se utiliza para detectar outliers estableciendo un umbral; los valores que superan este umbral se consideran outliers.\n",
    "Ejemplo: Si la MAD de un conjunto de datos es 2, indica que la dispersión de los datos alrededor de la mediana es relativamente baja, sin verse afectada por valores atípicos."
   ]
  },
  {
   "cell_type": "markdown",
   "id": "731c9ea1-0957-4c86-b547-5d3cca94c930",
   "metadata": {},
   "source": [
    "#### Ejemplos en Python"
   ]
  },
  {
   "cell_type": "markdown",
   "id": "fdf8125b-4784-4fa9-9a5d-e2dafbc69cf0",
   "metadata": {},
   "source": [
    "#### SciPy / Pandas / Statsmodels"
   ]
  },
  {
   "cell_type": "code",
   "execution_count": 25,
   "id": "925aa807",
   "metadata": {},
   "outputs": [],
   "source": [
    "# Crear un conjunto de datos de ejemplo\n",
    "data = np.array([3, 1, 5, 3, 6, 7, 2, 9, 150])\n",
    "df = pd.DataFrame({'values': data})"
   ]
  },
  {
   "cell_type": "code",
   "execution_count": 26,
   "id": "d5c7009e-cd92-49a7-a11c-67015c8fe135",
   "metadata": {},
   "outputs": [
    {
     "name": "stdout",
     "output_type": "stream",
     "text": [
      "Desviación absoluta mediana usando NumPy: 2.0\n",
      "Desviación absoluta mediana usando Pandas: 2.0\n",
      "Desviación absoluta mediana usando Statsmodels: 2.0\n"
     ]
    }
   ],
   "source": [
    "#SCIPY\n",
    "# Calcular la mediana\n",
    "median = np.median(data)\n",
    "\n",
    "# Calcular la desviación absoluta mediana (MAD) usando numpy\n",
    "mad_numpy = np.median(np.abs(data - median))\n",
    "print(\"Desviación absoluta mediana usando NumPy:\", mad_numpy)\n",
    "\n",
    "#PANDAS \n",
    "# Calcular la mediana\n",
    "median = df['values'].median()\n",
    "\n",
    "# Calcular la desviación absoluta mediana (MAD) usando pandas\n",
    "mad_pandas = np.median(np.abs(df['values'] - median))\n",
    "print(\"Desviación absoluta mediana usando Pandas:\", mad_pandas)\n",
    "\n",
    "\n",
    "#STATSMODELS \n",
    "# Calcular la desviación absoluta mediana (MAD) usando statsmodels sin escala\n",
    "mad_statsmodels = sm.robust.scale.mad(df['values'], c=1)\n",
    "print(\"Desviación absoluta mediana usando Statsmodels:\", mad_statsmodels)"
   ]
  },
  {
   "cell_type": "markdown",
   "id": "6d364d0e-e361-4a76-8fc5-d8d193801dba",
   "metadata": {},
   "source": [
    "#### Detección de ouliers usando MAD (similar a z-score modificado)"
   ]
  },
  {
   "cell_type": "markdown",
   "id": "1fb42300-7229-41f9-a375-974642f9d04c",
   "metadata": {},
   "source": [
    "##### Caso simple: Detección de outliers en precios de casas"
   ]
  },
  {
   "cell_type": "markdown",
   "id": "74cc58ae-3661-4ec4-91aa-b11980e5bbee",
   "metadata": {},
   "source": [
    "#### Dataset:"
   ]
  },
  {
   "cell_type": "code",
   "execution_count": 27,
   "id": "ed012046-33e2-4be4-afc3-9f910dc99c90",
   "metadata": {},
   "outputs": [
    {
     "name": "stdout",
     "output_type": "stream",
     "text": [
      "    precio_casa\n",
      "0        250000\n",
      "1        300000\n",
      "2        150000\n",
      "3        200000\n",
      "4        500000\n",
      "5        230000\n",
      "6        260000\n",
      "7        270000\n",
      "8        280000\n",
      "9        220000\n",
      "10      1000000\n"
     ]
    }
   ],
   "source": [
    "data = {\n",
    "    'precio_casa': [250000, 300000, 150000, 200000, 500000, 230000, 260000, 270000, 280000, 220000, 1000000]  \n",
    "# Incluye un outlier: 1000000\n",
    "}\n",
    "df = pd.DataFrame(data)\n",
    "print(df)"
   ]
  },
  {
   "cell_type": "markdown",
   "id": "3db0d249-976a-43a7-9f30-6a7d0e4f6fe1",
   "metadata": {},
   "source": [
    "**1- Calcular la Mediana y la Desviación Absoluta Mediana (MAD)**"
   ]
  },
  {
   "cell_type": "code",
   "execution_count": 28,
   "id": "d1e9c32e-0051-4784-af8b-b63030086b27",
   "metadata": {},
   "outputs": [
    {
     "name": "stdout",
     "output_type": "stream",
     "text": [
      "Mediana del precio de las casas: 260000.0\n",
      "Desviación absoluta mediana (MAD): 40000.0\n"
     ]
    }
   ],
   "source": [
    "# Calcular la mediana\n",
    "mediana = df['precio_casa'].median()\n",
    "print(f\"Mediana del precio de las casas: {mediana}\")\n",
    "\n",
    "# Calcular la desviación absoluta mediana (MAD)\n",
    "mad = np.median(np.abs(df['precio_casa'] - mediana))\n",
    "print(f\"Desviación absoluta mediana (MAD): {mad}\")\n"
   ]
  },
  {
   "cell_type": "markdown",
   "id": "d201d663-9f7f-4677-aae7-02cbab30fd9f",
   "metadata": {},
   "source": [
    "**2-Detectar Outliers usando la MAD**"
   ]
  },
  {
   "cell_type": "markdown",
   "id": "eccaf378-4442-4b91-8cbc-33598364551c",
   "metadata": {},
   "source": [
    "Establecemos un umbral basado en la MAD para detectar outliers. Un umbral común es **3 veces** la MAD."
   ]
  },
  {
   "cell_type": "code",
   "execution_count": 29,
   "id": "d7d8675c-f717-4c9c-a590-96f7082364e7",
   "metadata": {},
   "outputs": [
    {
     "name": "stdout",
     "output_type": "stream",
     "text": [
      "Umbral para detectar outliers: 120000.0\n",
      "Outliers detectados usando MAD:\n"
     ]
    },
    {
     "data": {
      "text/html": [
       "<div>\n",
       "<style scoped>\n",
       "    .dataframe tbody tr th:only-of-type {\n",
       "        vertical-align: middle;\n",
       "    }\n",
       "\n",
       "    .dataframe tbody tr th {\n",
       "        vertical-align: top;\n",
       "    }\n",
       "\n",
       "    .dataframe thead th {\n",
       "        text-align: right;\n",
       "    }\n",
       "</style>\n",
       "<table border=\"1\" class=\"dataframe\">\n",
       "  <thead>\n",
       "    <tr style=\"text-align: right;\">\n",
       "      <th></th>\n",
       "      <th>precio_casa</th>\n",
       "    </tr>\n",
       "  </thead>\n",
       "  <tbody>\n",
       "    <tr>\n",
       "      <th>4</th>\n",
       "      <td>500000</td>\n",
       "    </tr>\n",
       "    <tr>\n",
       "      <th>10</th>\n",
       "      <td>1000000</td>\n",
       "    </tr>\n",
       "  </tbody>\n",
       "</table>\n",
       "</div>"
      ],
      "text/plain": [
       "    precio_casa\n",
       "4        500000\n",
       "10      1000000"
      ]
     },
     "metadata": {},
     "output_type": "display_data"
    }
   ],
   "source": [
    "# Establecer el umbral para detectar outliers\n",
    "umbral = 3 * mad\n",
    "print(f\"Umbral para detectar outliers: {umbral}\")\n",
    "\n",
    "# Detectar outliers\n",
    "outliers = df[np.abs(df['precio_casa'] - mediana) > umbral]\n",
    "print(\"Outliers detectados usando MAD:\")\n",
    "display(outliers)"
   ]
  },
  {
   "cell_type": "code",
   "execution_count": 30,
   "id": "553715e3",
   "metadata": {},
   "outputs": [
    {
     "name": "stdout",
     "output_type": "stream",
     "text": [
      "Mediana: 260000.0\n",
      "Desviaciones Absolutas:\n",
      " [10000.0, 40000.0, 110000.0, 60000.0, 240000.0, 30000.0, 0.0, 10000.0, 20000.0, 40000.0, 740000.0]\n",
      "MAD: 40000.0\n",
      "Umbral: 120000.0\n",
      "Valores que exceden el umbral (Outliers):\n"
     ]
    },
    {
     "data": {
      "text/html": [
       "<div>\n",
       "<style scoped>\n",
       "    .dataframe tbody tr th:only-of-type {\n",
       "        vertical-align: middle;\n",
       "    }\n",
       "\n",
       "    .dataframe tbody tr th {\n",
       "        vertical-align: top;\n",
       "    }\n",
       "\n",
       "    .dataframe thead th {\n",
       "        text-align: right;\n",
       "    }\n",
       "</style>\n",
       "<table border=\"1\" class=\"dataframe\">\n",
       "  <thead>\n",
       "    <tr style=\"text-align: right;\">\n",
       "      <th></th>\n",
       "      <th>precio_casa</th>\n",
       "    </tr>\n",
       "  </thead>\n",
       "  <tbody>\n",
       "    <tr>\n",
       "      <th>4</th>\n",
       "      <td>500000</td>\n",
       "    </tr>\n",
       "    <tr>\n",
       "      <th>10</th>\n",
       "      <td>1000000</td>\n",
       "    </tr>\n",
       "  </tbody>\n",
       "</table>\n",
       "</div>"
      ],
      "text/plain": [
       "    precio_casa\n",
       "4        500000\n",
       "10      1000000"
      ]
     },
     "metadata": {},
     "output_type": "display_data"
    }
   ],
   "source": [
    "# Calcular la mediana\n",
    "mediana = df['precio_casa'].median()\n",
    "print(\"Mediana:\", mediana)\n",
    "\n",
    "# Calcular las desviaciones absolutas respecto a la mediana\n",
    "desviaciones_absolutas = abs(df['precio_casa'] - mediana)\n",
    "print(\"Desviaciones Absolutas:\\n\", desviaciones_absolutas.tolist())\n",
    "\n",
    "# Calcular la mediana de las desviaciones absolutas\n",
    "mad = desviaciones_absolutas.median()\n",
    "print(\"MAD:\", mad)\n",
    "\n",
    "# Establecer umbral para detectar outliers (3 veces la MAD)\n",
    "umbral = 3 * mad\n",
    "print(\"Umbral:\", umbral)\n",
    "\n",
    "# Identificar valores que exceden el umbral\n",
    "outliers = df[df['precio_casa'] > (mediana + umbral)]\n",
    "print(\"Valores que exceden el umbral (Outliers):\")\n",
    "display(outliers)"
   ]
  },
  {
   "cell_type": "markdown",
   "id": "f3554e8e-6065-4bd3-abf6-79f5ea988ac5",
   "metadata": {},
   "source": [
    "## <font color=violet>Ajuste del Factor de Escala \\( k \\)</font>\n",
    "***\n",
    "\n",
    "El factor de escala 𝑘 en la detección de outliers define cuántas unidades de desviación estándar (o MAD) se consideran aceptables antes de clasificar un valor como atípico. Mientras que 𝑘=3 es una opción común basada en la distribución normal, ajustar \n",
    "𝑘 según la distribución y variabilidad de tus datos puede mejorar la precisión de la detección de outliers."
   ]
  },
  {
   "cell_type": "markdown",
   "id": "207d0c0e-3b45-40b8-a247-16c3d7d9b0dc",
   "metadata": {},
   "source": [
    "Consideremos un conjunto de datos de temperaturas diarias en una ciudad a lo largo de un año, con algunos días extremadamente cálidos o fríos que podrían ser considerados outliers."
   ]
  },
  {
   "cell_type": "code",
   "execution_count": 31,
   "id": "8d37a333-b87d-4e2c-bbc1-f0b04f67e9cc",
   "metadata": {},
   "outputs": [
    {
     "data": {
      "text/html": [
       "<div>\n",
       "<style scoped>\n",
       "    .dataframe tbody tr th:only-of-type {\n",
       "        vertical-align: middle;\n",
       "    }\n",
       "\n",
       "    .dataframe tbody tr th {\n",
       "        vertical-align: top;\n",
       "    }\n",
       "\n",
       "    .dataframe thead th {\n",
       "        text-align: right;\n",
       "    }\n",
       "</style>\n",
       "<table border=\"1\" class=\"dataframe\">\n",
       "  <thead>\n",
       "    <tr style=\"text-align: right;\">\n",
       "      <th></th>\n",
       "      <th>temperatura</th>\n",
       "    </tr>\n",
       "  </thead>\n",
       "  <tbody>\n",
       "    <tr>\n",
       "      <th>0</th>\n",
       "      <td>28.820262</td>\n",
       "    </tr>\n",
       "    <tr>\n",
       "      <th>1</th>\n",
       "      <td>22.000786</td>\n",
       "    </tr>\n",
       "    <tr>\n",
       "      <th>2</th>\n",
       "      <td>24.893690</td>\n",
       "    </tr>\n",
       "    <tr>\n",
       "      <th>3</th>\n",
       "      <td>31.204466</td>\n",
       "    </tr>\n",
       "    <tr>\n",
       "      <th>4</th>\n",
       "      <td>29.337790</td>\n",
       "    </tr>\n",
       "    <tr>\n",
       "      <th>...</th>\n",
       "      <td>...</td>\n",
       "    </tr>\n",
       "    <tr>\n",
       "      <th>364</th>\n",
       "      <td>19.921589</td>\n",
       "    </tr>\n",
       "    <tr>\n",
       "      <th>365</th>\n",
       "      <td>40.000000</td>\n",
       "    </tr>\n",
       "    <tr>\n",
       "      <th>366</th>\n",
       "      <td>42.000000</td>\n",
       "    </tr>\n",
       "    <tr>\n",
       "      <th>367</th>\n",
       "      <td>-10.000000</td>\n",
       "    </tr>\n",
       "    <tr>\n",
       "      <th>368</th>\n",
       "      <td>-12.000000</td>\n",
       "    </tr>\n",
       "  </tbody>\n",
       "</table>\n",
       "<p>369 rows × 1 columns</p>\n",
       "</div>"
      ],
      "text/plain": [
       "     temperatura\n",
       "0      28.820262\n",
       "1      22.000786\n",
       "2      24.893690\n",
       "3      31.204466\n",
       "4      29.337790\n",
       "..           ...\n",
       "364    19.921589\n",
       "365    40.000000\n",
       "366    42.000000\n",
       "367   -10.000000\n",
       "368   -12.000000\n",
       "\n",
       "[369 rows x 1 columns]"
      ]
     },
     "execution_count": 31,
     "metadata": {},
     "output_type": "execute_result"
    }
   ],
   "source": [
    "# Crear un DataFrame de ejemplo con temperaturas\n",
    "np.random.seed(0)\n",
    "temperaturas = np.random.normal(loc=20, scale=5, size=365).tolist()  # Temperaturas normales\n",
    "temperaturas.extend([40, 42, -10, -12])  # Añadir algunos outliers\n",
    "data = {\n",
    "    'temperatura': temperaturas\n",
    "}\n",
    "df = pd.DataFrame(data)\n",
    "df"
   ]
  },
  {
   "cell_type": "code",
   "execution_count": 32,
   "id": "201b58e6-c254-4197-9c1b-865573f1c6ba",
   "metadata": {},
   "outputs": [
    {
     "name": "stdout",
     "output_type": "stream",
     "text": [
      "Mediana de las temperaturas: 19.73716351865227\n",
      "Desviación absoluta mediana (MAD): 3.390552282976394\n"
     ]
    }
   ],
   "source": [
    "# Calcular la mediana\n",
    "mediana = df['temperatura'].median()\n",
    "print(f\"Mediana de las temperaturas: {mediana}\")\n",
    "\n",
    "# Calcular la desviación absoluta mediana (MAD)\n",
    "mad = np.median(np.abs(df['temperatura'] - mediana))\n",
    "print(f\"Desviación absoluta mediana (MAD): {mad}\")"
   ]
  },
  {
   "cell_type": "markdown",
   "id": "0992c15d-c7cd-4f7e-8e5a-9c5d57cf07cf",
   "metadata": {},
   "source": [
    "#### Ajuste del factor de $k$"
   ]
  },
  {
   "cell_type": "markdown",
   "id": "985b690e-2c72-4ad3-87cf-c36703dfac7d",
   "metadata": {},
   "source": [
    "Podemos utilizar técnicas exploratorias o basarnos en conocimientos específicos del dominio. En este ejemplo, ajustaremos \n",
    "𝑘 empíricamente."
   ]
  },
  {
   "cell_type": "code",
   "execution_count": 33,
   "id": "3b4925ab-fc1b-4a13-b60d-ca4cdba1ffd3",
   "metadata": {},
   "outputs": [
    {
     "data": {
      "text/plain": [
       "'Con k = 1, el umbral es 3.390552282976394. Outliers detectados:'"
      ]
     },
     "metadata": {},
     "output_type": "display_data"
    },
    {
     "data": {
      "text/html": [
       "<div>\n",
       "<style scoped>\n",
       "    .dataframe tbody tr th:only-of-type {\n",
       "        vertical-align: middle;\n",
       "    }\n",
       "\n",
       "    .dataframe tbody tr th {\n",
       "        vertical-align: top;\n",
       "    }\n",
       "\n",
       "    .dataframe thead th {\n",
       "        text-align: right;\n",
       "    }\n",
       "</style>\n",
       "<table border=\"1\" class=\"dataframe\">\n",
       "  <thead>\n",
       "    <tr style=\"text-align: right;\">\n",
       "      <th></th>\n",
       "      <th>temperatura</th>\n",
       "    </tr>\n",
       "  </thead>\n",
       "  <tbody>\n",
       "    <tr>\n",
       "      <th>0</th>\n",
       "      <td>28.820262</td>\n",
       "    </tr>\n",
       "    <tr>\n",
       "      <th>2</th>\n",
       "      <td>24.893690</td>\n",
       "    </tr>\n",
       "    <tr>\n",
       "      <th>3</th>\n",
       "      <td>31.204466</td>\n",
       "    </tr>\n",
       "    <tr>\n",
       "      <th>4</th>\n",
       "      <td>29.337790</td>\n",
       "    </tr>\n",
       "    <tr>\n",
       "      <th>5</th>\n",
       "      <td>15.113611</td>\n",
       "    </tr>\n",
       "    <tr>\n",
       "      <th>...</th>\n",
       "      <td>...</td>\n",
       "    </tr>\n",
       "    <tr>\n",
       "      <th>362</th>\n",
       "      <td>24.659242</td>\n",
       "    </tr>\n",
       "    <tr>\n",
       "      <th>365</th>\n",
       "      <td>40.000000</td>\n",
       "    </tr>\n",
       "    <tr>\n",
       "      <th>366</th>\n",
       "      <td>42.000000</td>\n",
       "    </tr>\n",
       "    <tr>\n",
       "      <th>367</th>\n",
       "      <td>-10.000000</td>\n",
       "    </tr>\n",
       "    <tr>\n",
       "      <th>368</th>\n",
       "      <td>-12.000000</td>\n",
       "    </tr>\n",
       "  </tbody>\n",
       "</table>\n",
       "<p>184 rows × 1 columns</p>\n",
       "</div>"
      ],
      "text/plain": [
       "     temperatura\n",
       "0      28.820262\n",
       "2      24.893690\n",
       "3      31.204466\n",
       "4      29.337790\n",
       "5      15.113611\n",
       "..           ...\n",
       "362    24.659242\n",
       "365    40.000000\n",
       "366    42.000000\n",
       "367   -10.000000\n",
       "368   -12.000000\n",
       "\n",
       "[184 rows x 1 columns]"
      ]
     },
     "metadata": {},
     "output_type": "display_data"
    },
    {
     "data": {
      "text/plain": [
       "'Con k = 2, el umbral es 6.781104565952788. Outliers detectados:'"
      ]
     },
     "metadata": {},
     "output_type": "display_data"
    },
    {
     "data": {
      "text/html": [
       "<div>\n",
       "<style scoped>\n",
       "    .dataframe tbody tr th:only-of-type {\n",
       "        vertical-align: middle;\n",
       "    }\n",
       "\n",
       "    .dataframe tbody tr th {\n",
       "        vertical-align: top;\n",
       "    }\n",
       "\n",
       "    .dataframe thead th {\n",
       "        text-align: right;\n",
       "    }\n",
       "</style>\n",
       "<table border=\"1\" class=\"dataframe\">\n",
       "  <thead>\n",
       "    <tr style=\"text-align: right;\">\n",
       "      <th></th>\n",
       "      <th>temperatura</th>\n",
       "    </tr>\n",
       "  </thead>\n",
       "  <tbody>\n",
       "    <tr>\n",
       "      <th>0</th>\n",
       "      <td>28.820262</td>\n",
       "    </tr>\n",
       "    <tr>\n",
       "      <th>3</th>\n",
       "      <td>31.204466</td>\n",
       "    </tr>\n",
       "    <tr>\n",
       "      <th>4</th>\n",
       "      <td>29.337790</td>\n",
       "    </tr>\n",
       "    <tr>\n",
       "      <th>11</th>\n",
       "      <td>27.271368</td>\n",
       "    </tr>\n",
       "    <tr>\n",
       "      <th>16</th>\n",
       "      <td>27.470395</td>\n",
       "    </tr>\n",
       "    <tr>\n",
       "      <th>...</th>\n",
       "      <td>...</td>\n",
       "    </tr>\n",
       "    <tr>\n",
       "      <th>356</th>\n",
       "      <td>10.784652</td>\n",
       "    </tr>\n",
       "    <tr>\n",
       "      <th>365</th>\n",
       "      <td>40.000000</td>\n",
       "    </tr>\n",
       "    <tr>\n",
       "      <th>366</th>\n",
       "      <td>42.000000</td>\n",
       "    </tr>\n",
       "    <tr>\n",
       "      <th>367</th>\n",
       "      <td>-10.000000</td>\n",
       "    </tr>\n",
       "    <tr>\n",
       "      <th>368</th>\n",
       "      <td>-12.000000</td>\n",
       "    </tr>\n",
       "  </tbody>\n",
       "</table>\n",
       "<p>67 rows × 1 columns</p>\n",
       "</div>"
      ],
      "text/plain": [
       "     temperatura\n",
       "0      28.820262\n",
       "3      31.204466\n",
       "4      29.337790\n",
       "11     27.271368\n",
       "16     27.470395\n",
       "..           ...\n",
       "356    10.784652\n",
       "365    40.000000\n",
       "366    42.000000\n",
       "367   -10.000000\n",
       "368   -12.000000\n",
       "\n",
       "[67 rows x 1 columns]"
      ]
     },
     "metadata": {},
     "output_type": "display_data"
    },
    {
     "data": {
      "text/plain": [
       "'Con k = 3, el umbral es 10.171656848929182. Outliers detectados:'"
      ]
     },
     "metadata": {},
     "output_type": "display_data"
    },
    {
     "data": {
      "text/html": [
       "<div>\n",
       "<style scoped>\n",
       "    .dataframe tbody tr th:only-of-type {\n",
       "        vertical-align: middle;\n",
       "    }\n",
       "\n",
       "    .dataframe tbody tr th {\n",
       "        vertical-align: top;\n",
       "    }\n",
       "\n",
       "    .dataframe thead th {\n",
       "        text-align: right;\n",
       "    }\n",
       "</style>\n",
       "<table border=\"1\" class=\"dataframe\">\n",
       "  <thead>\n",
       "    <tr style=\"text-align: right;\">\n",
       "      <th></th>\n",
       "      <th>temperatura</th>\n",
       "    </tr>\n",
       "  </thead>\n",
       "  <tbody>\n",
       "    <tr>\n",
       "      <th>3</th>\n",
       "      <td>31.204466</td>\n",
       "    </tr>\n",
       "    <tr>\n",
       "      <th>20</th>\n",
       "      <td>7.235051</td>\n",
       "    </tr>\n",
       "    <tr>\n",
       "      <th>24</th>\n",
       "      <td>31.348773</td>\n",
       "    </tr>\n",
       "    <tr>\n",
       "      <th>144</th>\n",
       "      <td>31.915724</td>\n",
       "    </tr>\n",
       "    <tr>\n",
       "      <th>183</th>\n",
       "      <td>8.882984</td>\n",
       "    </tr>\n",
       "    <tr>\n",
       "      <th>198</th>\n",
       "      <td>30.816180</td>\n",
       "    </tr>\n",
       "    <tr>\n",
       "      <th>218</th>\n",
       "      <td>31.296545</td>\n",
       "    </tr>\n",
       "    <tr>\n",
       "      <th>271</th>\n",
       "      <td>6.137036</td>\n",
       "    </tr>\n",
       "    <tr>\n",
       "      <th>279</th>\n",
       "      <td>30.322464</td>\n",
       "    </tr>\n",
       "    <tr>\n",
       "      <th>292</th>\n",
       "      <td>31.519583</td>\n",
       "    </tr>\n",
       "    <tr>\n",
       "      <th>327</th>\n",
       "      <td>31.283617</td>\n",
       "    </tr>\n",
       "    <tr>\n",
       "      <th>334</th>\n",
       "      <td>6.704139</td>\n",
       "    </tr>\n",
       "    <tr>\n",
       "      <th>365</th>\n",
       "      <td>40.000000</td>\n",
       "    </tr>\n",
       "    <tr>\n",
       "      <th>366</th>\n",
       "      <td>42.000000</td>\n",
       "    </tr>\n",
       "    <tr>\n",
       "      <th>367</th>\n",
       "      <td>-10.000000</td>\n",
       "    </tr>\n",
       "    <tr>\n",
       "      <th>368</th>\n",
       "      <td>-12.000000</td>\n",
       "    </tr>\n",
       "  </tbody>\n",
       "</table>\n",
       "</div>"
      ],
      "text/plain": [
       "     temperatura\n",
       "3      31.204466\n",
       "20      7.235051\n",
       "24     31.348773\n",
       "144    31.915724\n",
       "183     8.882984\n",
       "198    30.816180\n",
       "218    31.296545\n",
       "271     6.137036\n",
       "279    30.322464\n",
       "292    31.519583\n",
       "327    31.283617\n",
       "334     6.704139\n",
       "365    40.000000\n",
       "366    42.000000\n",
       "367   -10.000000\n",
       "368   -12.000000"
      ]
     },
     "metadata": {},
     "output_type": "display_data"
    },
    {
     "data": {
      "text/plain": [
       "'Con k = 4, el umbral es 13.562209131905576. Outliers detectados:'"
      ]
     },
     "metadata": {},
     "output_type": "display_data"
    },
    {
     "data": {
      "text/html": [
       "<div>\n",
       "<style scoped>\n",
       "    .dataframe tbody tr th:only-of-type {\n",
       "        vertical-align: middle;\n",
       "    }\n",
       "\n",
       "    .dataframe tbody tr th {\n",
       "        vertical-align: top;\n",
       "    }\n",
       "\n",
       "    .dataframe thead th {\n",
       "        text-align: right;\n",
       "    }\n",
       "</style>\n",
       "<table border=\"1\" class=\"dataframe\">\n",
       "  <thead>\n",
       "    <tr style=\"text-align: right;\">\n",
       "      <th></th>\n",
       "      <th>temperatura</th>\n",
       "    </tr>\n",
       "  </thead>\n",
       "  <tbody>\n",
       "    <tr>\n",
       "      <th>271</th>\n",
       "      <td>6.137036</td>\n",
       "    </tr>\n",
       "    <tr>\n",
       "      <th>365</th>\n",
       "      <td>40.000000</td>\n",
       "    </tr>\n",
       "    <tr>\n",
       "      <th>366</th>\n",
       "      <td>42.000000</td>\n",
       "    </tr>\n",
       "    <tr>\n",
       "      <th>367</th>\n",
       "      <td>-10.000000</td>\n",
       "    </tr>\n",
       "    <tr>\n",
       "      <th>368</th>\n",
       "      <td>-12.000000</td>\n",
       "    </tr>\n",
       "  </tbody>\n",
       "</table>\n",
       "</div>"
      ],
      "text/plain": [
       "     temperatura\n",
       "271     6.137036\n",
       "365    40.000000\n",
       "366    42.000000\n",
       "367   -10.000000\n",
       "368   -12.000000"
      ]
     },
     "metadata": {},
     "output_type": "display_data"
    },
    {
     "data": {
      "text/plain": [
       "'Con k = 5, el umbral es 16.95276141488197. Outliers detectados:'"
      ]
     },
     "metadata": {},
     "output_type": "display_data"
    },
    {
     "data": {
      "text/html": [
       "<div>\n",
       "<style scoped>\n",
       "    .dataframe tbody tr th:only-of-type {\n",
       "        vertical-align: middle;\n",
       "    }\n",
       "\n",
       "    .dataframe tbody tr th {\n",
       "        vertical-align: top;\n",
       "    }\n",
       "\n",
       "    .dataframe thead th {\n",
       "        text-align: right;\n",
       "    }\n",
       "</style>\n",
       "<table border=\"1\" class=\"dataframe\">\n",
       "  <thead>\n",
       "    <tr style=\"text-align: right;\">\n",
       "      <th></th>\n",
       "      <th>temperatura</th>\n",
       "    </tr>\n",
       "  </thead>\n",
       "  <tbody>\n",
       "    <tr>\n",
       "      <th>365</th>\n",
       "      <td>40.0</td>\n",
       "    </tr>\n",
       "    <tr>\n",
       "      <th>366</th>\n",
       "      <td>42.0</td>\n",
       "    </tr>\n",
       "    <tr>\n",
       "      <th>367</th>\n",
       "      <td>-10.0</td>\n",
       "    </tr>\n",
       "    <tr>\n",
       "      <th>368</th>\n",
       "      <td>-12.0</td>\n",
       "    </tr>\n",
       "  </tbody>\n",
       "</table>\n",
       "</div>"
      ],
      "text/plain": [
       "     temperatura\n",
       "365         40.0\n",
       "366         42.0\n",
       "367        -10.0\n",
       "368        -12.0"
      ]
     },
     "metadata": {},
     "output_type": "display_data"
    }
   ],
   "source": [
    "# Ajustar el factor k empíricamente\n",
    "for k in [1, 2, 3, 4, 5]:\n",
    "    umbral = k * mad\n",
    "    outliers = df[np.abs(df['temperatura'] - mediana) > umbral]\n",
    "    display(f\"Con k = {k}, el umbral es {umbral}. Outliers detectados:\")\n",
    "    display(outliers)\n"
   ]
  },
  {
   "cell_type": "markdown",
   "id": "947f38f6-4d32-4919-9d8a-869287262a7b",
   "metadata": {},
   "source": [
    ">   **Ejercicio 3**. Con la misma dataset del ejercicio 2 (`state.csv`) calcule todas las medidas de dispersión dadas en esta en clase (incluyendo el cálculo del umbral para detectar outliers usando la desviación absoluta mediana) sobre la variable Población. Utilizar Pandas, Numpy y SciPy. Interpretar resultados."
   ]
  },
  {
   "cell_type": "code",
   "execution_count": 34,
   "id": "6b80d067",
   "metadata": {},
   "outputs": [
    {
     "name": "stdout",
     "output_type": "stream",
     "text": [
      "Las columnas son: Index(['State', 'Population', 'Murder.Rate', 'Abbreviation'], dtype='object')\n"
     ]
    },
    {
     "data": {
      "text/html": [
       "<div>\n",
       "<style scoped>\n",
       "    .dataframe tbody tr th:only-of-type {\n",
       "        vertical-align: middle;\n",
       "    }\n",
       "\n",
       "    .dataframe tbody tr th {\n",
       "        vertical-align: top;\n",
       "    }\n",
       "\n",
       "    .dataframe thead th {\n",
       "        text-align: right;\n",
       "    }\n",
       "</style>\n",
       "<table border=\"1\" class=\"dataframe\">\n",
       "  <thead>\n",
       "    <tr style=\"text-align: right;\">\n",
       "      <th></th>\n",
       "      <th>State</th>\n",
       "      <th>Population</th>\n",
       "      <th>Murder.Rate</th>\n",
       "      <th>Abbreviation</th>\n",
       "    </tr>\n",
       "  </thead>\n",
       "  <tbody>\n",
       "    <tr>\n",
       "      <th>0</th>\n",
       "      <td>Alabama</td>\n",
       "      <td>4779736</td>\n",
       "      <td>5.7</td>\n",
       "      <td>AL</td>\n",
       "    </tr>\n",
       "    <tr>\n",
       "      <th>1</th>\n",
       "      <td>Alaska</td>\n",
       "      <td>710231</td>\n",
       "      <td>5.6</td>\n",
       "      <td>AK</td>\n",
       "    </tr>\n",
       "    <tr>\n",
       "      <th>2</th>\n",
       "      <td>Arizona</td>\n",
       "      <td>6392017</td>\n",
       "      <td>4.7</td>\n",
       "      <td>AZ</td>\n",
       "    </tr>\n",
       "    <tr>\n",
       "      <th>3</th>\n",
       "      <td>Arkansas</td>\n",
       "      <td>2915918</td>\n",
       "      <td>5.6</td>\n",
       "      <td>AR</td>\n",
       "    </tr>\n",
       "  </tbody>\n",
       "</table>\n",
       "</div>"
      ],
      "text/plain": [
       "      State  Population  Murder.Rate Abbreviation\n",
       "0   Alabama     4779736          5.7           AL\n",
       "1    Alaska      710231          5.6           AK\n",
       "2   Arizona     6392017          4.7           AZ\n",
       "3  Arkansas     2915918          5.6           AR"
      ]
     },
     "metadata": {},
     "output_type": "display_data"
    }
   ],
   "source": [
    "df=pd.read_csv('Datos/state87.csv')\n",
    "\n",
    "print(f'Las columnas son: {df.columns}')\n",
    "display(df.head(4))"
   ]
  },
  {
   "cell_type": "markdown",
   "id": "3fb6d362",
   "metadata": {},
   "source": [
    "**1- Calcular la Mediana y la Desviación Absoluta Mediana (MAD)**"
   ]
  },
  {
   "cell_type": "code",
   "execution_count": 35,
   "id": "e0367dae",
   "metadata": {},
   "outputs": [
    {
     "name": "stdout",
     "output_type": "stream",
     "text": [
      "Mediana de la población: 4436369.5\n",
      "Desviación absoluta mediana (MAD): 2596702.0\n"
     ]
    }
   ],
   "source": [
    "# Calcular la mediana\n",
    "mediana = df['Population'].median()\n",
    "print(f\"Mediana de la población: {mediana}\")\n",
    "\n",
    "# Calcular la desviación absoluta mediana (MAD)\n",
    "mad = np.median(np.abs(df['Population'] - mediana))\n",
    "print(f\"Desviación absoluta mediana (MAD): {mad}\")\n"
   ]
  },
  {
   "cell_type": "markdown",
   "id": "bc68f80d",
   "metadata": {},
   "source": [
    "**2-Detectar Outliers usando la MAD**"
   ]
  },
  {
   "cell_type": "code",
   "execution_count": 36,
   "id": "ad09dd70",
   "metadata": {},
   "outputs": [
    {
     "name": "stdout",
     "output_type": "stream",
     "text": [
      "Umbral para detectar outliers: 7790106.0\n",
      "Outliers detectados usando MAD:\n"
     ]
    },
    {
     "data": {
      "text/html": [
       "<div>\n",
       "<style scoped>\n",
       "    .dataframe tbody tr th:only-of-type {\n",
       "        vertical-align: middle;\n",
       "    }\n",
       "\n",
       "    .dataframe tbody tr th {\n",
       "        vertical-align: top;\n",
       "    }\n",
       "\n",
       "    .dataframe thead th {\n",
       "        text-align: right;\n",
       "    }\n",
       "</style>\n",
       "<table border=\"1\" class=\"dataframe\">\n",
       "  <thead>\n",
       "    <tr style=\"text-align: right;\">\n",
       "      <th></th>\n",
       "      <th>State</th>\n",
       "      <th>Population</th>\n",
       "      <th>Murder.Rate</th>\n",
       "      <th>Abbreviation</th>\n",
       "    </tr>\n",
       "  </thead>\n",
       "  <tbody>\n",
       "    <tr>\n",
       "      <th>4</th>\n",
       "      <td>California</td>\n",
       "      <td>37253956</td>\n",
       "      <td>4.4</td>\n",
       "      <td>CA</td>\n",
       "    </tr>\n",
       "    <tr>\n",
       "      <th>8</th>\n",
       "      <td>Florida</td>\n",
       "      <td>18801310</td>\n",
       "      <td>5.8</td>\n",
       "      <td>FL</td>\n",
       "    </tr>\n",
       "    <tr>\n",
       "      <th>12</th>\n",
       "      <td>Illinois</td>\n",
       "      <td>12830632</td>\n",
       "      <td>5.3</td>\n",
       "      <td>IL</td>\n",
       "    </tr>\n",
       "    <tr>\n",
       "      <th>31</th>\n",
       "      <td>New York</td>\n",
       "      <td>19378102</td>\n",
       "      <td>3.1</td>\n",
       "      <td>NY</td>\n",
       "    </tr>\n",
       "    <tr>\n",
       "      <th>37</th>\n",
       "      <td>Pennsylvania</td>\n",
       "      <td>12702379</td>\n",
       "      <td>4.8</td>\n",
       "      <td>PA</td>\n",
       "    </tr>\n",
       "    <tr>\n",
       "      <th>42</th>\n",
       "      <td>Texas</td>\n",
       "      <td>25145561</td>\n",
       "      <td>4.4</td>\n",
       "      <td>TX</td>\n",
       "    </tr>\n",
       "  </tbody>\n",
       "</table>\n",
       "</div>"
      ],
      "text/plain": [
       "           State  Population  Murder.Rate Abbreviation\n",
       "4     California    37253956          4.4           CA\n",
       "8        Florida    18801310          5.8           FL\n",
       "12      Illinois    12830632          5.3           IL\n",
       "31      New York    19378102          3.1           NY\n",
       "37  Pennsylvania    12702379          4.8           PA\n",
       "42         Texas    25145561          4.4           TX"
      ]
     },
     "metadata": {},
     "output_type": "display_data"
    }
   ],
   "source": [
    "# Establecer el umbral para detectar outliers\n",
    "umbral = 3 * mad\n",
    "print(f\"Umbral para detectar outliers: {umbral}\")\n",
    "\n",
    "# Detectar outliers\n",
    "outliers = df[np.abs(df['Population'] - mediana) > umbral]\n",
    "print(\"Outliers detectados usando MAD:\")\n",
    "display(outliers)"
   ]
  },
  {
   "cell_type": "code",
   "execution_count": 37,
   "id": "e1f69d9e",
   "metadata": {},
   "outputs": [
    {
     "name": "stdout",
     "output_type": "stream",
     "text": [
      "Con k = 1, el umbral es 2596702.0. Outliers detectados:\n"
     ]
    },
    {
     "data": {
      "text/html": [
       "<div>\n",
       "<style scoped>\n",
       "    .dataframe tbody tr th:only-of-type {\n",
       "        vertical-align: middle;\n",
       "    }\n",
       "\n",
       "    .dataframe tbody tr th {\n",
       "        vertical-align: top;\n",
       "    }\n",
       "\n",
       "    .dataframe thead th {\n",
       "        text-align: right;\n",
       "    }\n",
       "</style>\n",
       "<table border=\"1\" class=\"dataframe\">\n",
       "  <thead>\n",
       "    <tr style=\"text-align: right;\">\n",
       "      <th></th>\n",
       "      <th>State</th>\n",
       "      <th>Population</th>\n",
       "      <th>Murder.Rate</th>\n",
       "      <th>Abbreviation</th>\n",
       "    </tr>\n",
       "  </thead>\n",
       "  <tbody>\n",
       "    <tr>\n",
       "      <th>1</th>\n",
       "      <td>Alaska</td>\n",
       "      <td>710231</td>\n",
       "      <td>5.6</td>\n",
       "      <td>AK</td>\n",
       "    </tr>\n",
       "    <tr>\n",
       "      <th>4</th>\n",
       "      <td>California</td>\n",
       "      <td>37253956</td>\n",
       "      <td>4.4</td>\n",
       "      <td>CA</td>\n",
       "    </tr>\n",
       "    <tr>\n",
       "      <th>7</th>\n",
       "      <td>Delaware</td>\n",
       "      <td>897934</td>\n",
       "      <td>5.8</td>\n",
       "      <td>DE</td>\n",
       "    </tr>\n",
       "    <tr>\n",
       "      <th>8</th>\n",
       "      <td>Florida</td>\n",
       "      <td>18801310</td>\n",
       "      <td>5.8</td>\n",
       "      <td>FL</td>\n",
       "    </tr>\n",
       "    <tr>\n",
       "      <th>9</th>\n",
       "      <td>Georgia</td>\n",
       "      <td>9687653</td>\n",
       "      <td>5.7</td>\n",
       "      <td>GA</td>\n",
       "    </tr>\n",
       "    <tr>\n",
       "      <th>10</th>\n",
       "      <td>Hawaii</td>\n",
       "      <td>1360301</td>\n",
       "      <td>1.8</td>\n",
       "      <td>HI</td>\n",
       "    </tr>\n",
       "    <tr>\n",
       "      <th>11</th>\n",
       "      <td>Idaho</td>\n",
       "      <td>1567582</td>\n",
       "      <td>2.0</td>\n",
       "      <td>ID</td>\n",
       "    </tr>\n",
       "    <tr>\n",
       "      <th>12</th>\n",
       "      <td>Illinois</td>\n",
       "      <td>12830632</td>\n",
       "      <td>5.3</td>\n",
       "      <td>IL</td>\n",
       "    </tr>\n",
       "    <tr>\n",
       "      <th>18</th>\n",
       "      <td>Maine</td>\n",
       "      <td>1328361</td>\n",
       "      <td>1.6</td>\n",
       "      <td>ME</td>\n",
       "    </tr>\n",
       "    <tr>\n",
       "      <th>21</th>\n",
       "      <td>Michigan</td>\n",
       "      <td>9883640</td>\n",
       "      <td>5.4</td>\n",
       "      <td>MI</td>\n",
       "    </tr>\n",
       "    <tr>\n",
       "      <th>25</th>\n",
       "      <td>Montana</td>\n",
       "      <td>989415</td>\n",
       "      <td>3.6</td>\n",
       "      <td>MT</td>\n",
       "    </tr>\n",
       "    <tr>\n",
       "      <th>26</th>\n",
       "      <td>Nebraska</td>\n",
       "      <td>1826341</td>\n",
       "      <td>2.9</td>\n",
       "      <td>NE</td>\n",
       "    </tr>\n",
       "    <tr>\n",
       "      <th>28</th>\n",
       "      <td>New Hampshire</td>\n",
       "      <td>1316470</td>\n",
       "      <td>0.9</td>\n",
       "      <td>NH</td>\n",
       "    </tr>\n",
       "    <tr>\n",
       "      <th>29</th>\n",
       "      <td>New Jersey</td>\n",
       "      <td>8791894</td>\n",
       "      <td>3.9</td>\n",
       "      <td>NJ</td>\n",
       "    </tr>\n",
       "    <tr>\n",
       "      <th>31</th>\n",
       "      <td>New York</td>\n",
       "      <td>19378102</td>\n",
       "      <td>3.1</td>\n",
       "      <td>NY</td>\n",
       "    </tr>\n",
       "    <tr>\n",
       "      <th>32</th>\n",
       "      <td>North Carolina</td>\n",
       "      <td>9535483</td>\n",
       "      <td>5.1</td>\n",
       "      <td>NC</td>\n",
       "    </tr>\n",
       "    <tr>\n",
       "      <th>33</th>\n",
       "      <td>North Dakota</td>\n",
       "      <td>672591</td>\n",
       "      <td>3.0</td>\n",
       "      <td>ND</td>\n",
       "    </tr>\n",
       "    <tr>\n",
       "      <th>34</th>\n",
       "      <td>Ohio</td>\n",
       "      <td>11536504</td>\n",
       "      <td>4.0</td>\n",
       "      <td>OH</td>\n",
       "    </tr>\n",
       "    <tr>\n",
       "      <th>37</th>\n",
       "      <td>Pennsylvania</td>\n",
       "      <td>12702379</td>\n",
       "      <td>4.8</td>\n",
       "      <td>PA</td>\n",
       "    </tr>\n",
       "    <tr>\n",
       "      <th>38</th>\n",
       "      <td>Rhode Island</td>\n",
       "      <td>1052567</td>\n",
       "      <td>2.4</td>\n",
       "      <td>RI</td>\n",
       "    </tr>\n",
       "    <tr>\n",
       "      <th>40</th>\n",
       "      <td>South Dakota</td>\n",
       "      <td>814180</td>\n",
       "      <td>2.3</td>\n",
       "      <td>SD</td>\n",
       "    </tr>\n",
       "    <tr>\n",
       "      <th>42</th>\n",
       "      <td>Texas</td>\n",
       "      <td>25145561</td>\n",
       "      <td>4.4</td>\n",
       "      <td>TX</td>\n",
       "    </tr>\n",
       "    <tr>\n",
       "      <th>44</th>\n",
       "      <td>Vermont</td>\n",
       "      <td>625741</td>\n",
       "      <td>1.6</td>\n",
       "      <td>VT</td>\n",
       "    </tr>\n",
       "    <tr>\n",
       "      <th>45</th>\n",
       "      <td>Virginia</td>\n",
       "      <td>8001024</td>\n",
       "      <td>4.1</td>\n",
       "      <td>VA</td>\n",
       "    </tr>\n",
       "    <tr>\n",
       "      <th>49</th>\n",
       "      <td>Wyoming</td>\n",
       "      <td>563626</td>\n",
       "      <td>2.7</td>\n",
       "      <td>WY</td>\n",
       "    </tr>\n",
       "  </tbody>\n",
       "</table>\n",
       "</div>"
      ],
      "text/plain": [
       "             State  Population  Murder.Rate Abbreviation\n",
       "1           Alaska      710231          5.6           AK\n",
       "4       California    37253956          4.4           CA\n",
       "7         Delaware      897934          5.8           DE\n",
       "8          Florida    18801310          5.8           FL\n",
       "9          Georgia     9687653          5.7           GA\n",
       "10          Hawaii     1360301          1.8           HI\n",
       "11           Idaho     1567582          2.0           ID\n",
       "12        Illinois    12830632          5.3           IL\n",
       "18           Maine     1328361          1.6           ME\n",
       "21        Michigan     9883640          5.4           MI\n",
       "25         Montana      989415          3.6           MT\n",
       "26        Nebraska     1826341          2.9           NE\n",
       "28   New Hampshire     1316470          0.9           NH\n",
       "29      New Jersey     8791894          3.9           NJ\n",
       "31        New York    19378102          3.1           NY\n",
       "32  North Carolina     9535483          5.1           NC\n",
       "33    North Dakota      672591          3.0           ND\n",
       "34            Ohio    11536504          4.0           OH\n",
       "37    Pennsylvania    12702379          4.8           PA\n",
       "38    Rhode Island     1052567          2.4           RI\n",
       "40    South Dakota      814180          2.3           SD\n",
       "42           Texas    25145561          4.4           TX\n",
       "44         Vermont      625741          1.6           VT\n",
       "45        Virginia     8001024          4.1           VA\n",
       "49         Wyoming      563626          2.7           WY"
      ]
     },
     "metadata": {},
     "output_type": "display_data"
    },
    {
     "name": "stdout",
     "output_type": "stream",
     "text": [
      "Con k = 2, el umbral es 5193404.0. Outliers detectados:\n"
     ]
    },
    {
     "data": {
      "text/html": [
       "<div>\n",
       "<style scoped>\n",
       "    .dataframe tbody tr th:only-of-type {\n",
       "        vertical-align: middle;\n",
       "    }\n",
       "\n",
       "    .dataframe tbody tr th {\n",
       "        vertical-align: top;\n",
       "    }\n",
       "\n",
       "    .dataframe thead th {\n",
       "        text-align: right;\n",
       "    }\n",
       "</style>\n",
       "<table border=\"1\" class=\"dataframe\">\n",
       "  <thead>\n",
       "    <tr style=\"text-align: right;\">\n",
       "      <th></th>\n",
       "      <th>State</th>\n",
       "      <th>Population</th>\n",
       "      <th>Murder.Rate</th>\n",
       "      <th>Abbreviation</th>\n",
       "    </tr>\n",
       "  </thead>\n",
       "  <tbody>\n",
       "    <tr>\n",
       "      <th>4</th>\n",
       "      <td>California</td>\n",
       "      <td>37253956</td>\n",
       "      <td>4.4</td>\n",
       "      <td>CA</td>\n",
       "    </tr>\n",
       "    <tr>\n",
       "      <th>8</th>\n",
       "      <td>Florida</td>\n",
       "      <td>18801310</td>\n",
       "      <td>5.8</td>\n",
       "      <td>FL</td>\n",
       "    </tr>\n",
       "    <tr>\n",
       "      <th>9</th>\n",
       "      <td>Georgia</td>\n",
       "      <td>9687653</td>\n",
       "      <td>5.7</td>\n",
       "      <td>GA</td>\n",
       "    </tr>\n",
       "    <tr>\n",
       "      <th>12</th>\n",
       "      <td>Illinois</td>\n",
       "      <td>12830632</td>\n",
       "      <td>5.3</td>\n",
       "      <td>IL</td>\n",
       "    </tr>\n",
       "    <tr>\n",
       "      <th>21</th>\n",
       "      <td>Michigan</td>\n",
       "      <td>9883640</td>\n",
       "      <td>5.4</td>\n",
       "      <td>MI</td>\n",
       "    </tr>\n",
       "    <tr>\n",
       "      <th>31</th>\n",
       "      <td>New York</td>\n",
       "      <td>19378102</td>\n",
       "      <td>3.1</td>\n",
       "      <td>NY</td>\n",
       "    </tr>\n",
       "    <tr>\n",
       "      <th>34</th>\n",
       "      <td>Ohio</td>\n",
       "      <td>11536504</td>\n",
       "      <td>4.0</td>\n",
       "      <td>OH</td>\n",
       "    </tr>\n",
       "    <tr>\n",
       "      <th>37</th>\n",
       "      <td>Pennsylvania</td>\n",
       "      <td>12702379</td>\n",
       "      <td>4.8</td>\n",
       "      <td>PA</td>\n",
       "    </tr>\n",
       "    <tr>\n",
       "      <th>42</th>\n",
       "      <td>Texas</td>\n",
       "      <td>25145561</td>\n",
       "      <td>4.4</td>\n",
       "      <td>TX</td>\n",
       "    </tr>\n",
       "  </tbody>\n",
       "</table>\n",
       "</div>"
      ],
      "text/plain": [
       "           State  Population  Murder.Rate Abbreviation\n",
       "4     California    37253956          4.4           CA\n",
       "8        Florida    18801310          5.8           FL\n",
       "9        Georgia     9687653          5.7           GA\n",
       "12      Illinois    12830632          5.3           IL\n",
       "21      Michigan     9883640          5.4           MI\n",
       "31      New York    19378102          3.1           NY\n",
       "34          Ohio    11536504          4.0           OH\n",
       "37  Pennsylvania    12702379          4.8           PA\n",
       "42         Texas    25145561          4.4           TX"
      ]
     },
     "metadata": {},
     "output_type": "display_data"
    },
    {
     "name": "stdout",
     "output_type": "stream",
     "text": [
      "Con k = 3, el umbral es 7790106.0. Outliers detectados:\n"
     ]
    },
    {
     "data": {
      "text/html": [
       "<div>\n",
       "<style scoped>\n",
       "    .dataframe tbody tr th:only-of-type {\n",
       "        vertical-align: middle;\n",
       "    }\n",
       "\n",
       "    .dataframe tbody tr th {\n",
       "        vertical-align: top;\n",
       "    }\n",
       "\n",
       "    .dataframe thead th {\n",
       "        text-align: right;\n",
       "    }\n",
       "</style>\n",
       "<table border=\"1\" class=\"dataframe\">\n",
       "  <thead>\n",
       "    <tr style=\"text-align: right;\">\n",
       "      <th></th>\n",
       "      <th>State</th>\n",
       "      <th>Population</th>\n",
       "      <th>Murder.Rate</th>\n",
       "      <th>Abbreviation</th>\n",
       "    </tr>\n",
       "  </thead>\n",
       "  <tbody>\n",
       "    <tr>\n",
       "      <th>4</th>\n",
       "      <td>California</td>\n",
       "      <td>37253956</td>\n",
       "      <td>4.4</td>\n",
       "      <td>CA</td>\n",
       "    </tr>\n",
       "    <tr>\n",
       "      <th>8</th>\n",
       "      <td>Florida</td>\n",
       "      <td>18801310</td>\n",
       "      <td>5.8</td>\n",
       "      <td>FL</td>\n",
       "    </tr>\n",
       "    <tr>\n",
       "      <th>12</th>\n",
       "      <td>Illinois</td>\n",
       "      <td>12830632</td>\n",
       "      <td>5.3</td>\n",
       "      <td>IL</td>\n",
       "    </tr>\n",
       "    <tr>\n",
       "      <th>31</th>\n",
       "      <td>New York</td>\n",
       "      <td>19378102</td>\n",
       "      <td>3.1</td>\n",
       "      <td>NY</td>\n",
       "    </tr>\n",
       "    <tr>\n",
       "      <th>37</th>\n",
       "      <td>Pennsylvania</td>\n",
       "      <td>12702379</td>\n",
       "      <td>4.8</td>\n",
       "      <td>PA</td>\n",
       "    </tr>\n",
       "    <tr>\n",
       "      <th>42</th>\n",
       "      <td>Texas</td>\n",
       "      <td>25145561</td>\n",
       "      <td>4.4</td>\n",
       "      <td>TX</td>\n",
       "    </tr>\n",
       "  </tbody>\n",
       "</table>\n",
       "</div>"
      ],
      "text/plain": [
       "           State  Population  Murder.Rate Abbreviation\n",
       "4     California    37253956          4.4           CA\n",
       "8        Florida    18801310          5.8           FL\n",
       "12      Illinois    12830632          5.3           IL\n",
       "31      New York    19378102          3.1           NY\n",
       "37  Pennsylvania    12702379          4.8           PA\n",
       "42         Texas    25145561          4.4           TX"
      ]
     },
     "metadata": {},
     "output_type": "display_data"
    },
    {
     "name": "stdout",
     "output_type": "stream",
     "text": [
      "Con k = 4, el umbral es 10386808.0. Outliers detectados:\n"
     ]
    },
    {
     "data": {
      "text/html": [
       "<div>\n",
       "<style scoped>\n",
       "    .dataframe tbody tr th:only-of-type {\n",
       "        vertical-align: middle;\n",
       "    }\n",
       "\n",
       "    .dataframe tbody tr th {\n",
       "        vertical-align: top;\n",
       "    }\n",
       "\n",
       "    .dataframe thead th {\n",
       "        text-align: right;\n",
       "    }\n",
       "</style>\n",
       "<table border=\"1\" class=\"dataframe\">\n",
       "  <thead>\n",
       "    <tr style=\"text-align: right;\">\n",
       "      <th></th>\n",
       "      <th>State</th>\n",
       "      <th>Population</th>\n",
       "      <th>Murder.Rate</th>\n",
       "      <th>Abbreviation</th>\n",
       "    </tr>\n",
       "  </thead>\n",
       "  <tbody>\n",
       "    <tr>\n",
       "      <th>4</th>\n",
       "      <td>California</td>\n",
       "      <td>37253956</td>\n",
       "      <td>4.4</td>\n",
       "      <td>CA</td>\n",
       "    </tr>\n",
       "    <tr>\n",
       "      <th>8</th>\n",
       "      <td>Florida</td>\n",
       "      <td>18801310</td>\n",
       "      <td>5.8</td>\n",
       "      <td>FL</td>\n",
       "    </tr>\n",
       "    <tr>\n",
       "      <th>31</th>\n",
       "      <td>New York</td>\n",
       "      <td>19378102</td>\n",
       "      <td>3.1</td>\n",
       "      <td>NY</td>\n",
       "    </tr>\n",
       "    <tr>\n",
       "      <th>42</th>\n",
       "      <td>Texas</td>\n",
       "      <td>25145561</td>\n",
       "      <td>4.4</td>\n",
       "      <td>TX</td>\n",
       "    </tr>\n",
       "  </tbody>\n",
       "</table>\n",
       "</div>"
      ],
      "text/plain": [
       "         State  Population  Murder.Rate Abbreviation\n",
       "4   California    37253956          4.4           CA\n",
       "8      Florida    18801310          5.8           FL\n",
       "31    New York    19378102          3.1           NY\n",
       "42       Texas    25145561          4.4           TX"
      ]
     },
     "metadata": {},
     "output_type": "display_data"
    },
    {
     "name": "stdout",
     "output_type": "stream",
     "text": [
      "Con k = 5, el umbral es 12983510.0. Outliers detectados:\n"
     ]
    },
    {
     "data": {
      "text/html": [
       "<div>\n",
       "<style scoped>\n",
       "    .dataframe tbody tr th:only-of-type {\n",
       "        vertical-align: middle;\n",
       "    }\n",
       "\n",
       "    .dataframe tbody tr th {\n",
       "        vertical-align: top;\n",
       "    }\n",
       "\n",
       "    .dataframe thead th {\n",
       "        text-align: right;\n",
       "    }\n",
       "</style>\n",
       "<table border=\"1\" class=\"dataframe\">\n",
       "  <thead>\n",
       "    <tr style=\"text-align: right;\">\n",
       "      <th></th>\n",
       "      <th>State</th>\n",
       "      <th>Population</th>\n",
       "      <th>Murder.Rate</th>\n",
       "      <th>Abbreviation</th>\n",
       "    </tr>\n",
       "  </thead>\n",
       "  <tbody>\n",
       "    <tr>\n",
       "      <th>4</th>\n",
       "      <td>California</td>\n",
       "      <td>37253956</td>\n",
       "      <td>4.4</td>\n",
       "      <td>CA</td>\n",
       "    </tr>\n",
       "    <tr>\n",
       "      <th>8</th>\n",
       "      <td>Florida</td>\n",
       "      <td>18801310</td>\n",
       "      <td>5.8</td>\n",
       "      <td>FL</td>\n",
       "    </tr>\n",
       "    <tr>\n",
       "      <th>31</th>\n",
       "      <td>New York</td>\n",
       "      <td>19378102</td>\n",
       "      <td>3.1</td>\n",
       "      <td>NY</td>\n",
       "    </tr>\n",
       "    <tr>\n",
       "      <th>42</th>\n",
       "      <td>Texas</td>\n",
       "      <td>25145561</td>\n",
       "      <td>4.4</td>\n",
       "      <td>TX</td>\n",
       "    </tr>\n",
       "  </tbody>\n",
       "</table>\n",
       "</div>"
      ],
      "text/plain": [
       "         State  Population  Murder.Rate Abbreviation\n",
       "4   California    37253956          4.4           CA\n",
       "8      Florida    18801310          5.8           FL\n",
       "31    New York    19378102          3.1           NY\n",
       "42       Texas    25145561          4.4           TX"
      ]
     },
     "metadata": {},
     "output_type": "display_data"
    }
   ],
   "source": [
    "for k in [1, 2, 3, 4, 5]:\n",
    "    umbral = k * mad\n",
    "    outliers = df[np.abs(df['Population'] - mediana) > umbral]\n",
    "    print(f\"Con k = {k}, el umbral es {umbral}. Outliers detectados:\")\n",
    "    display(outliers)"
   ]
  },
  {
   "cell_type": "markdown",
   "id": "c53f94b3-3a54-4b43-b7de-b82c3c0873c8",
   "metadata": {},
   "source": [
    "## <font color=violet>Estimaciones Basadas en Percentiles)</font>\n",
    "***\n",
    "\n",
    "Un enfoque diferente para estimar la dispersión se basa en observar la extensión de los datos ordenados. Las estadísticas basadas en datos ordenados (clasificados) se denominan `estadísticas de orden`. La medida más básica es el `rango`: la diferencia entre los números más grandes y más pequeños. Los valores mínimos y máximos en sí mismos son útiles y ayudan a identificar valores atípicos, pero el rango es extremadamente sensible a los valores atípicos y no es muy útil como una medida general de dispersión en los datos.  \n",
    "\n"
   ]
  },
  {
   "cell_type": "markdown",
   "id": "8ffb1441-cd85-4e4e-a4cc-4ac20158ca30",
   "metadata": {},
   "source": [
    "Ejemplos en Python"
   ]
  },
  {
   "cell_type": "markdown",
   "id": "7ffcb123-47c4-48dd-bd7c-eedc24c04a3d",
   "metadata": {},
   "source": [
    "#### Pandas"
   ]
  },
  {
   "cell_type": "code",
   "execution_count": 38,
   "id": "dc2edbcc-c834-4c14-adc6-91daf5ec4d34",
   "metadata": {},
   "outputs": [
    {
     "name": "stdout",
     "output_type": "stream",
     "text": [
      "Percentil 25 (P25): 2.75\n",
      "Mediana (P50): 4.0\n",
      "Percentil 75 (P75): 6.25\n",
      "Rango Intercuartílico (IQR): 3.5\n"
     ]
    }
   ],
   "source": [
    "import pandas as pd\n",
    "\n",
    "# Crear el DataFrame\n",
    "data = [3, 1, 5, 3, 6, 7, 2, 9]\n",
    "df = pd.DataFrame(data, columns=['values'])\n",
    "\n",
    "# Calcular los percentiles 25, 50 y 75\n",
    "p25 = df['values'].quantile(0.25)\n",
    "p50 = df['values'].quantile(0.50)\n",
    "p75 = df['values'].quantile(0.75)\n",
    "\n",
    "# Calcular el rango intercuartílico (IQR)\n",
    "iqr = p75 - p25\n",
    "\n",
    "print(f\"Percentil 25 (P25): {p25}\")\n",
    "print(f\"Mediana (P50): {p50}\")\n",
    "print(f\"Percentil 75 (P75): {p75}\")\n",
    "print(f\"Rango Intercuartílico (IQR): {iqr}\")\n"
   ]
  },
  {
   "cell_type": "markdown",
   "id": "dd5ec484-bb57-4d87-9402-fc0c73f0c444",
   "metadata": {},
   "source": [
    "#### SciPy"
   ]
  },
  {
   "cell_type": "code",
   "execution_count": 39,
   "id": "0acdb0a0-259e-439b-8b0c-fca7843cc245",
   "metadata": {},
   "outputs": [
    {
     "name": "stdout",
     "output_type": "stream",
     "text": [
      "Percentil 25 (P25): 2.75\n",
      "Mediana (P50): 4.0\n",
      "Percentil 75 (P75): 6.25\n",
      "Rango Intercuartílico (IQR): 3.5\n"
     ]
    }
   ],
   "source": [
    "import numpy as np\n",
    "from scipy import stats\n",
    "\n",
    "# Crear el array de datos\n",
    "data = np.array([3, 1, 5, 3, 6, 7, 2, 9])\n",
    "\n",
    "# Calcular los percentiles 25, 50 y 75\n",
    "p25 = np.percentile(data, 25)\n",
    "p50 = np.percentile(data, 50)\n",
    "p75 = np.percentile(data, 75)\n",
    "\n",
    "# Calcular el rango intercuartílico (IQR)\n",
    "iqr = stats.iqr(data)\n",
    "\n",
    "print(f\"Percentil 25 (P25): {p25}\")\n",
    "print(f\"Mediana (P50): {p50}\")\n",
    "print(f\"Percentil 75 (P75): {p75}\")\n",
    "print(f\"Rango Intercuartílico (IQR): {iqr}\")"
   ]
  },
  {
   "cell_type": "markdown",
   "id": "f09fce3f-8c2b-4cfe-b0be-fb57923f8a00",
   "metadata": {},
   "source": [
    "#### Statsmodels"
   ]
  },
  {
   "cell_type": "code",
   "execution_count": 40,
   "id": "aa98bbd1-fd69-465e-8002-95bc5c657500",
   "metadata": {},
   "outputs": [
    {
     "name": "stdout",
     "output_type": "stream",
     "text": [
      "Percentil 25 (P25): 2.75\n",
      "Mediana (P50): 4.0\n",
      "Percentil 75 (P75): 6.25\n",
      "Rango Intercuartílico (IQR): 3.5\n"
     ]
    }
   ],
   "source": [
    "import numpy as np\n",
    "import statsmodels.api as sm\n",
    "\n",
    "# Crear el array de datos\n",
    "data = np.array([3, 1, 5, 3, 6, 7, 2, 9])\n",
    "\n",
    "# Calcular los percentiles 25, 50 y 75 usando numpy\n",
    "p25, p50, p75 = np.percentile(data, [25, 50, 75])\n",
    "\n",
    "# Calcular el rango intercuartílico (IQR) manualmente\n",
    "iqr = p75 - p25\n",
    "\n",
    "print(f\"Percentil 25 (P25): {p25}\")\n",
    "print(f\"Mediana (P50): {p50}\")\n",
    "print(f\"Percentil 75 (P75): {p75}\")\n",
    "print(f\"Rango Intercuartílico (IQR): {iqr}\")\n"
   ]
  },
  {
   "cell_type": "markdown",
   "id": "470484f3-31a2-47b1-a660-59a448d2b6c9",
   "metadata": {},
   "source": [
    "### Características de los Percentiles\n",
    "\n",
    "#### Independencia de la Distribución\n",
    "\n",
    "Los percentiles son una medida no paramétrica, lo que significa que no dependen de la forma de la distribución de los datos. Pueden ser utilizados para describir cualquier conjunto de datos, independientemente de su distribución.\n",
    "\n",
    "#### Robustez frente a Valores Atípicos\n",
    "\n",
    "Los percentiles no son tan sensibles a los valores atípicos como otras medidas de dispersión, como la varianza y la desviación estándar. Esto los hace útiles en distribuciones con outliers o distribuciones sesgadas.\n",
    "\n",
    "#### Descriptivos de Posición\n",
    "\n",
    "Los percentiles proporcionan una descripción clara de la posición de un dato en el contexto del conjunto de datos. Por ejemplo, el percentil 50 (la mediana) indica el punto medio de los datos."
   ]
  },
  {
   "cell_type": "markdown",
   "id": "1fc2da3c-d1a6-4c4d-bfce-29ed1ad5ae44",
   "metadata": {},
   "source": [
    "## <font color=violet>Interpretación Estadística</font>\n",
    "***\n",
    "\n",
    "### <font color=violet>Distribución Normal</font>\n",
    "\n",
    "\n",
    "Los percentiles muestran la simetría de la distribución alrededor de la mediana."
   ]
  },
  {
   "cell_type": "code",
   "execution_count": 41,
   "id": "6d3a7210-c60c-4de9-97b2-6e67573ca2e6",
   "metadata": {},
   "outputs": [
    {
     "data": {
      "image/png": "[encoded data removed]",
      "text/plain": [
       "<Figure size 640x480 with 1 Axes>"
      ]
     },
     "metadata": {},
     "output_type": "display_data"
    }
   ],
   "source": [
    "import numpy as np\n",
    "import matplotlib.pyplot as plt\n",
    "\n",
    "# Configuración de la semilla para reproducibilidad\n",
    "np.random.seed(42)\n",
    "\n",
    "# Generar datos para una distribución normal\n",
    "data_normal = np.random.normal(loc=0, scale=1, size=1000)\n",
    "\n",
    "# Calcular los percentiles 25, 50 y 75\n",
    "Q1 = np.percentile(data_normal, 25)\n",
    "Q2 = np.percentile(data_normal, 50)  # Mediana\n",
    "Q3 = np.percentile(data_normal, 75)\n",
    "\n",
    "# Calcular el IQR\n",
    "IQR = Q3 - Q1\n",
    "\n",
    "# Crear el histograma\n",
    "plt.hist(data_normal, bins=30, edgecolor='black', alpha=0.7)\n",
    "plt.axvline(Q1, color='r', linestyle='dashed', linewidth=1, label=f'P25 = {Q1:.2f}')\n",
    "plt.axvline(Q2, color='g', linestyle='dashed', linewidth=1, label=f'P50 = {Q2:.2f}')\n",
    "plt.axvline(Q3, color='b', linestyle='dashed', linewidth=1, label=f'P75 = {Q3:.2f}')\n",
    "\n",
    "# Mostrar el IQR\n",
    "plt.axvspan(Q1, Q3, alpha=0.2, color='yellow', label=f'IQR = {IQR:.2f}')\n",
    "\n",
    "# Añadir etiquetas y título\n",
    "plt.xlabel('Valor')\n",
    "plt.ylabel('Frecuencia')\n",
    "plt.title('Distribución Normal con Percentiles e IQR')\n",
    "plt.legend()\n",
    "\n",
    "# Mostrar el gráfico\n",
    "plt.show()\n"
   ]
  },
  {
   "cell_type": "markdown",
   "id": "e5ed5f00-fc8d-4abc-bb77-82a90c1aa293",
   "metadata": {},
   "source": [
    "### <font color=violet>Distribución Sesgada</font>\n",
    "\n",
    "La mediana es una mejor medida de la tendencia central que la media, y el rango intercuartílico proporciona una buena medida de la dispersión."
   ]
  },
  {
   "cell_type": "code",
   "execution_count": 42,
   "id": "5e7f9ed8-e5b4-429e-85cf-17dd4ee29386",
   "metadata": {},
   "outputs": [
    {
     "data": {
      "image/png": "[encoded data removed]",
      "text/plain": [
       "<Figure size 640x480 with 1 Axes>"
      ]
     },
     "metadata": {},
     "output_type": "display_data"
    }
   ],
   "source": [
    "import numpy as np\n",
    "import matplotlib.pyplot as plt\n",
    "\n",
    "# Configuración de la semilla para reproducibilidad\n",
    "np.random.seed(42)\n",
    "\n",
    "# Generar datos para una distribución muy sesgada (exponencial)\n",
    "data_skewed = np.random.exponential(scale=2, size=1000)\n",
    "\n",
    "# Calcular los percentiles 25, 50 y 75\n",
    "Q1 = np.percentile(data_skewed, 25)\n",
    "Q2 = np.percentile(data_skewed, 50)  # Mediana\n",
    "Q3 = np.percentile(data_skewed, 75)\n",
    "\n",
    "# Calcular el IQR\n",
    "IQR = Q3 - Q1\n",
    "\n",
    "# Crear el histograma\n",
    "plt.hist(data_skewed, bins=30, edgecolor='black', alpha=0.7)\n",
    "plt.axvline(Q1, color='r', linestyle='dashed', linewidth=1, label=f'P25 = {Q1:.2f}')\n",
    "plt.axvline(Q2, color='g', linestyle='dashed', linewidth=1, label=f'P50 = {Q2:.2f}')\n",
    "plt.axvline(Q3, color='b', linestyle='dashed', linewidth=1, label=f'P75 = {Q3:.2f}')\n",
    "\n",
    "# Mostrar el IQR\n",
    "plt.axvspan(Q1, Q3, alpha=0.2, color='yellow', label=f'IQR = {IQR:.2f}')\n",
    "\n",
    "# Añadir etiquetas y título\n",
    "plt.xlabel('Valor')\n",
    "plt.ylabel('Frecuencia')\n",
    "plt.title('Distribución Muy Sesgada con Percentiles e IQR')\n",
    "plt.legend()\n",
    "\n",
    "# Mostrar el gráfico\n",
    "plt.show()\n"
   ]
  },
  {
   "cell_type": "markdown",
   "id": "5fd90a59-a9f4-4992-a059-3b8554b8f844",
   "metadata": {},
   "source": [
    "### <font color=violet>Distribución Multimodal</font>\n",
    "\n",
    "Los percentiles ayudan a entender cómo se distribuyen los datos en torno a los diferentes modos."
   ]
  },
  {
   "cell_type": "code",
   "execution_count": 43,
   "id": "9c7d272a-df6b-4d90-9a28-237bccfad6dd",
   "metadata": {},
   "outputs": [
    {
     "data": {
      "image/png": "[encoded data removed]",
      "text/plain": [
       "<Figure size 640x480 with 1 Axes>"
      ]
     },
     "metadata": {},
     "output_type": "display_data"
    }
   ],
   "source": [
    "import numpy as np\n",
    "import matplotlib.pyplot as plt\n",
    "\n",
    "# Configuración de la semilla para reproducibilidad\n",
    "np.random.seed(42)\n",
    "\n",
    "# Generar datos multimodales\n",
    "data1 = np.random.normal(loc=0, scale=1, size=500)\n",
    "data2 = np.random.normal(loc=5, scale=1, size=500)\n",
    "data3 = np.random.normal(loc=10, scale=1, size=500)\n",
    "\n",
    "# Combinar los datos\n",
    "data = np.concatenate([data1, data2, data3])\n",
    "\n",
    "# Calcular los percentiles\n",
    "p25 = np.percentile(data, 25)\n",
    "p50 = np.percentile(data, 50)\n",
    "p75 = np.percentile(data, 75)\n",
    "\n",
    "# Crear el histograma\n",
    "plt.hist(data, bins=30, edgecolor='black', alpha=0.7)\n",
    "plt.axvline(p25, color='r', linestyle='dashed', linewidth=1, label=f'P25 = {p25:.2f}')\n",
    "plt.axvline(p50, color='g', linestyle='dashed', linewidth=1, label=f'P50 = {p50:.2f}')\n",
    "plt.axvline(p75, color='b', linestyle='dashed', linewidth=1, label=f'P75 = {p75:.2f}')\n",
    "\n",
    "# Añadir etiquetas y título\n",
    "plt.xlabel('Valor')\n",
    "plt.ylabel('Frecuencia')\n",
    "plt.title('Distribución Multimodal')\n",
    "plt.legend()\n",
    "\n",
    "# Mostrar el gráfico\n",
    "plt.show()\n"
   ]
  },
  {
   "cell_type": "markdown",
   "id": "addc4320-2d36-4983-aa90-fbdd77df93b1",
   "metadata": {},
   "source": [
    "## <font color=violet>Boxplots</font>\n",
    "***"
   ]
  },
  {
   "cell_type": "code",
   "execution_count": 44,
   "id": "58e9372f-3524-48a6-b002-7453ebab8ddc",
   "metadata": {},
   "outputs": [
    {
     "data": {
      "image/png": "[encoded data removed]",
      "text/plain": [
       "<Figure size 1800x600 with 3 Axes>"
      ]
     },
     "metadata": {},
     "output_type": "display_data"
    }
   ],
   "source": [
    "import numpy as np\n",
    "import matplotlib.pyplot as plt\n",
    "\n",
    "# Configuración de la semilla para reproducibilidad\n",
    "np.random.seed(42)\n",
    "\n",
    "# Generar datos\n",
    "# Distribución Normal\n",
    "data_normal = np.random.normal(loc=0, scale=1, size=1000)\n",
    "\n",
    "# Distribución Muy Sesgada (Exponencial)\n",
    "data_skewed = np.random.exponential(scale=2, size=1000)\n",
    "\n",
    "# Distribución Multimodal más pronunciada\n",
    "data1 = np.random.normal(loc=-5, scale=1, size=500)\n",
    "data2 = np.random.normal(loc=0, scale=1, size=500)\n",
    "data3 = np.random.normal(loc=5, scale=1, size=500)\n",
    "data_multimodal = np.concatenate([data1, data2, data3])\n",
    "\n",
    "# Calcular percentiles y IQR para cada distribución\n",
    "def calculate_iqr_percentiles(data):\n",
    "    Q1 = np.percentile(data, 25)\n",
    "    Q2 = np.percentile(data, 50)  # Mediana\n",
    "    Q3 = np.percentile(data, 75)\n",
    "    IQR = Q3 - Q1\n",
    "    return Q1, Q2, Q3, IQR\n",
    "\n",
    "Q1_normal, Q2_normal, Q3_normal, IQR_normal = calculate_iqr_percentiles(data_normal)\n",
    "Q1_skewed, Q2_skewed, Q3_skewed, IQR_skewed = calculate_iqr_percentiles(data_skewed)\n",
    "Q1_multimodal, Q2_multimodal, Q3_multimodal, IQR_multimodal = calculate_iqr_percentiles(data_multimodal)\n",
    "\n",
    "# Crear los boxplots\n",
    "fig, axs = plt.subplots(1, 3, figsize=(18, 6))\n",
    "\n",
    "# Boxplot para la Distribución Normal\n",
    "axs[0].boxplot(data_normal, vert=False)\n",
    "axs[0].axvline(Q1_normal, color='r', linestyle='dashed', linewidth=1, label=f'P25 = {Q1_normal:.2f}')\n",
    "axs[0].axvline(Q2_normal, color='g', linestyle='dashed', linewidth=1, label=f'P50 = {Q2_normal:.2f}')\n",
    "axs[0].axvline(Q3_normal, color='b', linestyle='dashed', linewidth=1, label=f'P75 = {Q3_normal:.2f}')\n",
    "axs[0].axvspan(Q1_normal, Q3_normal, alpha=0.2, color='yellow', label=f'IQR = {IQR_normal:.2f}')\n",
    "axs[0].set_title('Distribución Normal')\n",
    "axs[0].set_xlabel('Valor')\n",
    "axs[0].legend()\n",
    "\n",
    "# Boxplot para la Distribución Muy Sesgada\n",
    "axs[1].boxplot(data_skewed, vert=False)\n",
    "axs[1].axvline(Q1_skewed, color='r', linestyle='dashed', linewidth=1, label=f'P25 = {Q1_skewed:.2f}')\n",
    "axs[1].axvline(Q2_skewed, color='g', linestyle='dashed', linewidth=1, label=f'P50 = {Q2_skewed:.2f}')\n",
    "axs[1].axvline(Q3_skewed, color='b', linestyle='dashed', linewidth=1, label=f'P75 = {Q3_skewed:.2f}')\n",
    "axs[1].axvspan(Q1_skewed, Q3_skewed, alpha=0.2, color='yellow', label=f'IQR = {IQR_skewed:.2f}')\n",
    "axs[1].set_title('Distribución Muy Sesgada')\n",
    "axs[1].set_xlabel('Valor')\n",
    "axs[1].legend()\n",
    "\n",
    "# Boxplot para la Distribución Multimodal\n",
    "axs[2].boxplot(data_multimodal, vert=False)\n",
    "axs[2].axvline(Q1_multimodal, color='r', linestyle='dashed', linewidth=1, label=f'P25 = {Q1_multimodal:.2f}')\n",
    "axs[2].axvline(Q2_multimodal, color='g', linestyle='dashed', linewidth=1, label=f'P50 = {Q2_multimodal:.2f}')\n",
    "axs[2].axvline(Q3_multimodal, color='b', linestyle='dashed', linewidth=1, label=f'P75 = {Q3_multimodal:.2f}')\n",
    "axs[2].axvspan(Q1_multimodal, Q3_multimodal, alpha=0.2, color='yellow', label=f'IQR = {IQR_multimodal:.2f}')\n",
    "axs[2].set_title('Distribución Multimodal')\n",
    "axs[2].set_xlabel('Valor')\n",
    "axs[2].legend()\n",
    "\n",
    "# Mostrar los gráficos\n",
    "plt.tight_layout()\n",
    "plt.show()\n"
   ]
  },
  {
   "cell_type": "markdown",
   "id": "8a6a5124-ac17-4b4d-ac3b-3564e74d6f12",
   "metadata": {},
   "source": [
    ">  **Ejercicio 4** Con la misma dataset de los ejercicios anteriores (`states.csv`), calcular los percentiles 25, 50 y 75. Calcular tambien el rango y el IQR para la variable población. Calcular/detectar outliers usando MAD y usando el criterio de Tukey (investigar)  "
   ]
  },
  {
   "cell_type": "code",
   "execution_count": 48,
   "id": "564ad211-e508-4258-9a43-315bf63c4808",
   "metadata": {},
   "outputs": [
    {
     "name": "stdout",
     "output_type": "stream",
     "text": [
      "Index(['State', 'Population', 'Murder.Rate', 'Abbreviation'], dtype='object')\n"
     ]
    },
    {
     "data": {
      "text/html": [
       "<div>\n",
       "<style scoped>\n",
       "    .dataframe tbody tr th:only-of-type {\n",
       "        vertical-align: middle;\n",
       "    }\n",
       "\n",
       "    .dataframe tbody tr th {\n",
       "        vertical-align: top;\n",
       "    }\n",
       "\n",
       "    .dataframe thead th {\n",
       "        text-align: right;\n",
       "    }\n",
       "</style>\n",
       "<table border=\"1\" class=\"dataframe\">\n",
       "  <thead>\n",
       "    <tr style=\"text-align: right;\">\n",
       "      <th></th>\n",
       "      <th>State</th>\n",
       "      <th>Population</th>\n",
       "      <th>Murder.Rate</th>\n",
       "      <th>Abbreviation</th>\n",
       "    </tr>\n",
       "  </thead>\n",
       "  <tbody>\n",
       "    <tr>\n",
       "      <th>0</th>\n",
       "      <td>Alabama</td>\n",
       "      <td>4779736</td>\n",
       "      <td>5.7</td>\n",
       "      <td>AL</td>\n",
       "    </tr>\n",
       "    <tr>\n",
       "      <th>1</th>\n",
       "      <td>Alaska</td>\n",
       "      <td>710231</td>\n",
       "      <td>5.6</td>\n",
       "      <td>AK</td>\n",
       "    </tr>\n",
       "    <tr>\n",
       "      <th>2</th>\n",
       "      <td>Arizona</td>\n",
       "      <td>6392017</td>\n",
       "      <td>4.7</td>\n",
       "      <td>AZ</td>\n",
       "    </tr>\n",
       "    <tr>\n",
       "      <th>3</th>\n",
       "      <td>Arkansas</td>\n",
       "      <td>2915918</td>\n",
       "      <td>5.6</td>\n",
       "      <td>AR</td>\n",
       "    </tr>\n",
       "  </tbody>\n",
       "</table>\n",
       "</div>"
      ],
      "text/plain": [
       "      State  Population  Murder.Rate Abbreviation\n",
       "0   Alabama     4779736          5.7           AL\n",
       "1    Alaska      710231          5.6           AK\n",
       "2   Arizona     6392017          4.7           AZ\n",
       "3  Arkansas     2915918          5.6           AR"
      ]
     },
     "execution_count": 48,
     "metadata": {},
     "output_type": "execute_result"
    }
   ],
   "source": [
    "state=pd.read_csv('Datos/state87.csv')\n",
    "print(state.columns)\n",
    "state.head(4)"
   ]
  },
  {
   "cell_type": "markdown",
   "id": "f3b08199",
   "metadata": {},
   "source": [
    "Calcular los percentiles 25, 50 y 75. Calcular tambien el rango y el IQR para la variable población."
   ]
  },
  {
   "cell_type": "code",
   "execution_count": 49,
   "id": "5526a437",
   "metadata": {},
   "outputs": [
    {
     "name": "stdout",
     "output_type": "stream",
     "text": [
      "Percentil 25 (P25): 1833004.25\n",
      "Mediana (P50): 4436369.5\n",
      "Percentil 75 (P75): 6680312.25\n",
      "Rango Intercuartílico (IQR): 4847308.0\n"
     ]
    }
   ],
   "source": [
    "# Calcular los percentiles 25, 50 y 75\n",
    "p25 = state['Population'].quantile(0.25)\n",
    "p50 = state['Population'].quantile(0.50)\n",
    "p75 = state['Population'].quantile(0.75)\n",
    "\n",
    "# Calcular el rango intercuartílico (IQR)\n",
    "iqr = p75 - p25\n",
    "\n",
    "print(f\"Percentil 25 (P25): {p25}\")\n",
    "print(f\"Mediana (P50): {p50}\")\n",
    "print(f\"Percentil 75 (P75): {p75}\")\n",
    "print(f\"Rango Intercuartílico (IQR): {iqr}\")"
   ]
  },
  {
   "cell_type": "markdown",
   "id": "5ffc6835",
   "metadata": {},
   "source": [
    "Calcular/detectar outliers usando MAD"
   ]
  },
  {
   "cell_type": "code",
   "execution_count": 50,
   "id": "a8d2264d",
   "metadata": {},
   "outputs": [
    {
     "name": "stdout",
     "output_type": "stream",
     "text": [
      "Mediana: 4436369.5\n",
      "Desviación absoluta mediana (MAD): 2596702.0\n"
     ]
    }
   ],
   "source": [
    "# Calcular la mediana\n",
    "mediana = state['Population'].median()\n",
    "print(f\"Mediana: {mediana}\")\n",
    "\n",
    "# Calcular la desviación absoluta mediana (MAD)\n",
    "mad = np.median(np.abs(state['Population'] - mediana))\n",
    "print(f\"Desviación absoluta mediana (MAD): {mad}\")"
   ]
  },
  {
   "cell_type": "code",
   "execution_count": 51,
   "id": "899fd5ca",
   "metadata": {},
   "outputs": [
    {
     "name": "stdout",
     "output_type": "stream",
     "text": [
      "Con k = 1, el umbral es 2596702.0. Outliers detectados:\n"
     ]
    },
    {
     "data": {
      "text/html": [
       "<div>\n",
       "<style scoped>\n",
       "    .dataframe tbody tr th:only-of-type {\n",
       "        vertical-align: middle;\n",
       "    }\n",
       "\n",
       "    .dataframe tbody tr th {\n",
       "        vertical-align: top;\n",
       "    }\n",
       "\n",
       "    .dataframe thead th {\n",
       "        text-align: right;\n",
       "    }\n",
       "</style>\n",
       "<table border=\"1\" class=\"dataframe\">\n",
       "  <thead>\n",
       "    <tr style=\"text-align: right;\">\n",
       "      <th></th>\n",
       "      <th>State</th>\n",
       "      <th>Population</th>\n",
       "      <th>Murder.Rate</th>\n",
       "      <th>Abbreviation</th>\n",
       "    </tr>\n",
       "  </thead>\n",
       "  <tbody>\n",
       "    <tr>\n",
       "      <th>1</th>\n",
       "      <td>Alaska</td>\n",
       "      <td>710231</td>\n",
       "      <td>5.6</td>\n",
       "      <td>AK</td>\n",
       "    </tr>\n",
       "    <tr>\n",
       "      <th>4</th>\n",
       "      <td>California</td>\n",
       "      <td>37253956</td>\n",
       "      <td>4.4</td>\n",
       "      <td>CA</td>\n",
       "    </tr>\n",
       "    <tr>\n",
       "      <th>7</th>\n",
       "      <td>Delaware</td>\n",
       "      <td>897934</td>\n",
       "      <td>5.8</td>\n",
       "      <td>DE</td>\n",
       "    </tr>\n",
       "    <tr>\n",
       "      <th>8</th>\n",
       "      <td>Florida</td>\n",
       "      <td>18801310</td>\n",
       "      <td>5.8</td>\n",
       "      <td>FL</td>\n",
       "    </tr>\n",
       "    <tr>\n",
       "      <th>9</th>\n",
       "      <td>Georgia</td>\n",
       "      <td>9687653</td>\n",
       "      <td>5.7</td>\n",
       "      <td>GA</td>\n",
       "    </tr>\n",
       "    <tr>\n",
       "      <th>10</th>\n",
       "      <td>Hawaii</td>\n",
       "      <td>1360301</td>\n",
       "      <td>1.8</td>\n",
       "      <td>HI</td>\n",
       "    </tr>\n",
       "    <tr>\n",
       "      <th>11</th>\n",
       "      <td>Idaho</td>\n",
       "      <td>1567582</td>\n",
       "      <td>2.0</td>\n",
       "      <td>ID</td>\n",
       "    </tr>\n",
       "    <tr>\n",
       "      <th>12</th>\n",
       "      <td>Illinois</td>\n",
       "      <td>12830632</td>\n",
       "      <td>5.3</td>\n",
       "      <td>IL</td>\n",
       "    </tr>\n",
       "    <tr>\n",
       "      <th>18</th>\n",
       "      <td>Maine</td>\n",
       "      <td>1328361</td>\n",
       "      <td>1.6</td>\n",
       "      <td>ME</td>\n",
       "    </tr>\n",
       "    <tr>\n",
       "      <th>21</th>\n",
       "      <td>Michigan</td>\n",
       "      <td>9883640</td>\n",
       "      <td>5.4</td>\n",
       "      <td>MI</td>\n",
       "    </tr>\n",
       "    <tr>\n",
       "      <th>25</th>\n",
       "      <td>Montana</td>\n",
       "      <td>989415</td>\n",
       "      <td>3.6</td>\n",
       "      <td>MT</td>\n",
       "    </tr>\n",
       "    <tr>\n",
       "      <th>26</th>\n",
       "      <td>Nebraska</td>\n",
       "      <td>1826341</td>\n",
       "      <td>2.9</td>\n",
       "      <td>NE</td>\n",
       "    </tr>\n",
       "    <tr>\n",
       "      <th>28</th>\n",
       "      <td>New Hampshire</td>\n",
       "      <td>1316470</td>\n",
       "      <td>0.9</td>\n",
       "      <td>NH</td>\n",
       "    </tr>\n",
       "    <tr>\n",
       "      <th>29</th>\n",
       "      <td>New Jersey</td>\n",
       "      <td>8791894</td>\n",
       "      <td>3.9</td>\n",
       "      <td>NJ</td>\n",
       "    </tr>\n",
       "    <tr>\n",
       "      <th>31</th>\n",
       "      <td>New York</td>\n",
       "      <td>19378102</td>\n",
       "      <td>3.1</td>\n",
       "      <td>NY</td>\n",
       "    </tr>\n",
       "    <tr>\n",
       "      <th>32</th>\n",
       "      <td>North Carolina</td>\n",
       "      <td>9535483</td>\n",
       "      <td>5.1</td>\n",
       "      <td>NC</td>\n",
       "    </tr>\n",
       "    <tr>\n",
       "      <th>33</th>\n",
       "      <td>North Dakota</td>\n",
       "      <td>672591</td>\n",
       "      <td>3.0</td>\n",
       "      <td>ND</td>\n",
       "    </tr>\n",
       "    <tr>\n",
       "      <th>34</th>\n",
       "      <td>Ohio</td>\n",
       "      <td>11536504</td>\n",
       "      <td>4.0</td>\n",
       "      <td>OH</td>\n",
       "    </tr>\n",
       "    <tr>\n",
       "      <th>37</th>\n",
       "      <td>Pennsylvania</td>\n",
       "      <td>12702379</td>\n",
       "      <td>4.8</td>\n",
       "      <td>PA</td>\n",
       "    </tr>\n",
       "    <tr>\n",
       "      <th>38</th>\n",
       "      <td>Rhode Island</td>\n",
       "      <td>1052567</td>\n",
       "      <td>2.4</td>\n",
       "      <td>RI</td>\n",
       "    </tr>\n",
       "    <tr>\n",
       "      <th>40</th>\n",
       "      <td>South Dakota</td>\n",
       "      <td>814180</td>\n",
       "      <td>2.3</td>\n",
       "      <td>SD</td>\n",
       "    </tr>\n",
       "    <tr>\n",
       "      <th>42</th>\n",
       "      <td>Texas</td>\n",
       "      <td>25145561</td>\n",
       "      <td>4.4</td>\n",
       "      <td>TX</td>\n",
       "    </tr>\n",
       "    <tr>\n",
       "      <th>44</th>\n",
       "      <td>Vermont</td>\n",
       "      <td>625741</td>\n",
       "      <td>1.6</td>\n",
       "      <td>VT</td>\n",
       "    </tr>\n",
       "    <tr>\n",
       "      <th>45</th>\n",
       "      <td>Virginia</td>\n",
       "      <td>8001024</td>\n",
       "      <td>4.1</td>\n",
       "      <td>VA</td>\n",
       "    </tr>\n",
       "    <tr>\n",
       "      <th>49</th>\n",
       "      <td>Wyoming</td>\n",
       "      <td>563626</td>\n",
       "      <td>2.7</td>\n",
       "      <td>WY</td>\n",
       "    </tr>\n",
       "  </tbody>\n",
       "</table>\n",
       "</div>"
      ],
      "text/plain": [
       "             State  Population  Murder.Rate Abbreviation\n",
       "1           Alaska      710231          5.6           AK\n",
       "4       California    37253956          4.4           CA\n",
       "7         Delaware      897934          5.8           DE\n",
       "8          Florida    18801310          5.8           FL\n",
       "9          Georgia     9687653          5.7           GA\n",
       "10          Hawaii     1360301          1.8           HI\n",
       "11           Idaho     1567582          2.0           ID\n",
       "12        Illinois    12830632          5.3           IL\n",
       "18           Maine     1328361          1.6           ME\n",
       "21        Michigan     9883640          5.4           MI\n",
       "25         Montana      989415          3.6           MT\n",
       "26        Nebraska     1826341          2.9           NE\n",
       "28   New Hampshire     1316470          0.9           NH\n",
       "29      New Jersey     8791894          3.9           NJ\n",
       "31        New York    19378102          3.1           NY\n",
       "32  North Carolina     9535483          5.1           NC\n",
       "33    North Dakota      672591          3.0           ND\n",
       "34            Ohio    11536504          4.0           OH\n",
       "37    Pennsylvania    12702379          4.8           PA\n",
       "38    Rhode Island     1052567          2.4           RI\n",
       "40    South Dakota      814180          2.3           SD\n",
       "42           Texas    25145561          4.4           TX\n",
       "44         Vermont      625741          1.6           VT\n",
       "45        Virginia     8001024          4.1           VA\n",
       "49         Wyoming      563626          2.7           WY"
      ]
     },
     "metadata": {},
     "output_type": "display_data"
    },
    {
     "name": "stdout",
     "output_type": "stream",
     "text": [
      "Con k = 2, el umbral es 5193404.0. Outliers detectados:\n"
     ]
    },
    {
     "data": {
      "text/html": [
       "<div>\n",
       "<style scoped>\n",
       "    .dataframe tbody tr th:only-of-type {\n",
       "        vertical-align: middle;\n",
       "    }\n",
       "\n",
       "    .dataframe tbody tr th {\n",
       "        vertical-align: top;\n",
       "    }\n",
       "\n",
       "    .dataframe thead th {\n",
       "        text-align: right;\n",
       "    }\n",
       "</style>\n",
       "<table border=\"1\" class=\"dataframe\">\n",
       "  <thead>\n",
       "    <tr style=\"text-align: right;\">\n",
       "      <th></th>\n",
       "      <th>State</th>\n",
       "      <th>Population</th>\n",
       "      <th>Murder.Rate</th>\n",
       "      <th>Abbreviation</th>\n",
       "    </tr>\n",
       "  </thead>\n",
       "  <tbody>\n",
       "    <tr>\n",
       "      <th>4</th>\n",
       "      <td>California</td>\n",
       "      <td>37253956</td>\n",
       "      <td>4.4</td>\n",
       "      <td>CA</td>\n",
       "    </tr>\n",
       "    <tr>\n",
       "      <th>8</th>\n",
       "      <td>Florida</td>\n",
       "      <td>18801310</td>\n",
       "      <td>5.8</td>\n",
       "      <td>FL</td>\n",
       "    </tr>\n",
       "    <tr>\n",
       "      <th>9</th>\n",
       "      <td>Georgia</td>\n",
       "      <td>9687653</td>\n",
       "      <td>5.7</td>\n",
       "      <td>GA</td>\n",
       "    </tr>\n",
       "    <tr>\n",
       "      <th>12</th>\n",
       "      <td>Illinois</td>\n",
       "      <td>12830632</td>\n",
       "      <td>5.3</td>\n",
       "      <td>IL</td>\n",
       "    </tr>\n",
       "    <tr>\n",
       "      <th>21</th>\n",
       "      <td>Michigan</td>\n",
       "      <td>9883640</td>\n",
       "      <td>5.4</td>\n",
       "      <td>MI</td>\n",
       "    </tr>\n",
       "    <tr>\n",
       "      <th>31</th>\n",
       "      <td>New York</td>\n",
       "      <td>19378102</td>\n",
       "      <td>3.1</td>\n",
       "      <td>NY</td>\n",
       "    </tr>\n",
       "    <tr>\n",
       "      <th>34</th>\n",
       "      <td>Ohio</td>\n",
       "      <td>11536504</td>\n",
       "      <td>4.0</td>\n",
       "      <td>OH</td>\n",
       "    </tr>\n",
       "    <tr>\n",
       "      <th>37</th>\n",
       "      <td>Pennsylvania</td>\n",
       "      <td>12702379</td>\n",
       "      <td>4.8</td>\n",
       "      <td>PA</td>\n",
       "    </tr>\n",
       "    <tr>\n",
       "      <th>42</th>\n",
       "      <td>Texas</td>\n",
       "      <td>25145561</td>\n",
       "      <td>4.4</td>\n",
       "      <td>TX</td>\n",
       "    </tr>\n",
       "  </tbody>\n",
       "</table>\n",
       "</div>"
      ],
      "text/plain": [
       "           State  Population  Murder.Rate Abbreviation\n",
       "4     California    37253956          4.4           CA\n",
       "8        Florida    18801310          5.8           FL\n",
       "9        Georgia     9687653          5.7           GA\n",
       "12      Illinois    12830632          5.3           IL\n",
       "21      Michigan     9883640          5.4           MI\n",
       "31      New York    19378102          3.1           NY\n",
       "34          Ohio    11536504          4.0           OH\n",
       "37  Pennsylvania    12702379          4.8           PA\n",
       "42         Texas    25145561          4.4           TX"
      ]
     },
     "metadata": {},
     "output_type": "display_data"
    },
    {
     "name": "stdout",
     "output_type": "stream",
     "text": [
      "Con k = 3, el umbral es 7790106.0. Outliers detectados:\n"
     ]
    },
    {
     "data": {
      "text/html": [
       "<div>\n",
       "<style scoped>\n",
       "    .dataframe tbody tr th:only-of-type {\n",
       "        vertical-align: middle;\n",
       "    }\n",
       "\n",
       "    .dataframe tbody tr th {\n",
       "        vertical-align: top;\n",
       "    }\n",
       "\n",
       "    .dataframe thead th {\n",
       "        text-align: right;\n",
       "    }\n",
       "</style>\n",
       "<table border=\"1\" class=\"dataframe\">\n",
       "  <thead>\n",
       "    <tr style=\"text-align: right;\">\n",
       "      <th></th>\n",
       "      <th>State</th>\n",
       "      <th>Population</th>\n",
       "      <th>Murder.Rate</th>\n",
       "      <th>Abbreviation</th>\n",
       "    </tr>\n",
       "  </thead>\n",
       "  <tbody>\n",
       "    <tr>\n",
       "      <th>4</th>\n",
       "      <td>California</td>\n",
       "      <td>37253956</td>\n",
       "      <td>4.4</td>\n",
       "      <td>CA</td>\n",
       "    </tr>\n",
       "    <tr>\n",
       "      <th>8</th>\n",
       "      <td>Florida</td>\n",
       "      <td>18801310</td>\n",
       "      <td>5.8</td>\n",
       "      <td>FL</td>\n",
       "    </tr>\n",
       "    <tr>\n",
       "      <th>12</th>\n",
       "      <td>Illinois</td>\n",
       "      <td>12830632</td>\n",
       "      <td>5.3</td>\n",
       "      <td>IL</td>\n",
       "    </tr>\n",
       "    <tr>\n",
       "      <th>31</th>\n",
       "      <td>New York</td>\n",
       "      <td>19378102</td>\n",
       "      <td>3.1</td>\n",
       "      <td>NY</td>\n",
       "    </tr>\n",
       "    <tr>\n",
       "      <th>37</th>\n",
       "      <td>Pennsylvania</td>\n",
       "      <td>12702379</td>\n",
       "      <td>4.8</td>\n",
       "      <td>PA</td>\n",
       "    </tr>\n",
       "    <tr>\n",
       "      <th>42</th>\n",
       "      <td>Texas</td>\n",
       "      <td>25145561</td>\n",
       "      <td>4.4</td>\n",
       "      <td>TX</td>\n",
       "    </tr>\n",
       "  </tbody>\n",
       "</table>\n",
       "</div>"
      ],
      "text/plain": [
       "           State  Population  Murder.Rate Abbreviation\n",
       "4     California    37253956          4.4           CA\n",
       "8        Florida    18801310          5.8           FL\n",
       "12      Illinois    12830632          5.3           IL\n",
       "31      New York    19378102          3.1           NY\n",
       "37  Pennsylvania    12702379          4.8           PA\n",
       "42         Texas    25145561          4.4           TX"
      ]
     },
     "metadata": {},
     "output_type": "display_data"
    },
    {
     "name": "stdout",
     "output_type": "stream",
     "text": [
      "Con k = 4, el umbral es 10386808.0. Outliers detectados:\n"
     ]
    },
    {
     "data": {
      "text/html": [
       "<div>\n",
       "<style scoped>\n",
       "    .dataframe tbody tr th:only-of-type {\n",
       "        vertical-align: middle;\n",
       "    }\n",
       "\n",
       "    .dataframe tbody tr th {\n",
       "        vertical-align: top;\n",
       "    }\n",
       "\n",
       "    .dataframe thead th {\n",
       "        text-align: right;\n",
       "    }\n",
       "</style>\n",
       "<table border=\"1\" class=\"dataframe\">\n",
       "  <thead>\n",
       "    <tr style=\"text-align: right;\">\n",
       "      <th></th>\n",
       "      <th>State</th>\n",
       "      <th>Population</th>\n",
       "      <th>Murder.Rate</th>\n",
       "      <th>Abbreviation</th>\n",
       "    </tr>\n",
       "  </thead>\n",
       "  <tbody>\n",
       "    <tr>\n",
       "      <th>4</th>\n",
       "      <td>California</td>\n",
       "      <td>37253956</td>\n",
       "      <td>4.4</td>\n",
       "      <td>CA</td>\n",
       "    </tr>\n",
       "    <tr>\n",
       "      <th>8</th>\n",
       "      <td>Florida</td>\n",
       "      <td>18801310</td>\n",
       "      <td>5.8</td>\n",
       "      <td>FL</td>\n",
       "    </tr>\n",
       "    <tr>\n",
       "      <th>31</th>\n",
       "      <td>New York</td>\n",
       "      <td>19378102</td>\n",
       "      <td>3.1</td>\n",
       "      <td>NY</td>\n",
       "    </tr>\n",
       "    <tr>\n",
       "      <th>42</th>\n",
       "      <td>Texas</td>\n",
       "      <td>25145561</td>\n",
       "      <td>4.4</td>\n",
       "      <td>TX</td>\n",
       "    </tr>\n",
       "  </tbody>\n",
       "</table>\n",
       "</div>"
      ],
      "text/plain": [
       "         State  Population  Murder.Rate Abbreviation\n",
       "4   California    37253956          4.4           CA\n",
       "8      Florida    18801310          5.8           FL\n",
       "31    New York    19378102          3.1           NY\n",
       "42       Texas    25145561          4.4           TX"
      ]
     },
     "metadata": {},
     "output_type": "display_data"
    },
    {
     "name": "stdout",
     "output_type": "stream",
     "text": [
      "Con k = 5, el umbral es 12983510.0. Outliers detectados:\n"
     ]
    },
    {
     "data": {
      "text/html": [
       "<div>\n",
       "<style scoped>\n",
       "    .dataframe tbody tr th:only-of-type {\n",
       "        vertical-align: middle;\n",
       "    }\n",
       "\n",
       "    .dataframe tbody tr th {\n",
       "        vertical-align: top;\n",
       "    }\n",
       "\n",
       "    .dataframe thead th {\n",
       "        text-align: right;\n",
       "    }\n",
       "</style>\n",
       "<table border=\"1\" class=\"dataframe\">\n",
       "  <thead>\n",
       "    <tr style=\"text-align: right;\">\n",
       "      <th></th>\n",
       "      <th>State</th>\n",
       "      <th>Population</th>\n",
       "      <th>Murder.Rate</th>\n",
       "      <th>Abbreviation</th>\n",
       "    </tr>\n",
       "  </thead>\n",
       "  <tbody>\n",
       "    <tr>\n",
       "      <th>4</th>\n",
       "      <td>California</td>\n",
       "      <td>37253956</td>\n",
       "      <td>4.4</td>\n",
       "      <td>CA</td>\n",
       "    </tr>\n",
       "    <tr>\n",
       "      <th>8</th>\n",
       "      <td>Florida</td>\n",
       "      <td>18801310</td>\n",
       "      <td>5.8</td>\n",
       "      <td>FL</td>\n",
       "    </tr>\n",
       "    <tr>\n",
       "      <th>31</th>\n",
       "      <td>New York</td>\n",
       "      <td>19378102</td>\n",
       "      <td>3.1</td>\n",
       "      <td>NY</td>\n",
       "    </tr>\n",
       "    <tr>\n",
       "      <th>42</th>\n",
       "      <td>Texas</td>\n",
       "      <td>25145561</td>\n",
       "      <td>4.4</td>\n",
       "      <td>TX</td>\n",
       "    </tr>\n",
       "  </tbody>\n",
       "</table>\n",
       "</div>"
      ],
      "text/plain": [
       "         State  Population  Murder.Rate Abbreviation\n",
       "4   California    37253956          4.4           CA\n",
       "8      Florida    18801310          5.8           FL\n",
       "31    New York    19378102          3.1           NY\n",
       "42       Texas    25145561          4.4           TX"
      ]
     },
     "metadata": {},
     "output_type": "display_data"
    }
   ],
   "source": [
    "# Ajustar el factor k empíricamente\n",
    "for k in [1, 2, 3, 4, 5]:\n",
    "    umbral = k * mad\n",
    "    outliers = state[np.abs(state['Population'] - mediana) > umbral]\n",
    "    print(f\"Con k = {k}, el umbral es {umbral}. Outliers detectados:\")\n",
    "    display(outliers)"
   ]
  },
  {
   "cell_type": "markdown",
   "id": "b3f34df9",
   "metadata": {},
   "source": [
    "Realizar dos gráficos. El primero: Un histograma que muestre los percentiles y el IQR. "
   ]
  },
  {
   "cell_type": "code",
   "execution_count": 52,
   "id": "6c7b8f87",
   "metadata": {},
   "outputs": [
    {
     "data": {
      "image/png": "[encoded data removed]",
      "text/plain": [
       "<Figure size 640x480 with 1 Axes>"
      ]
     },
     "metadata": {},
     "output_type": "display_data"
    }
   ],
   "source": [
    "# Crear el histograma\n",
    "plt.hist(state, bins=30, edgecolor='black', alpha=0.7)\n",
    "plt.axvline(p25, color='r', linestyle='dashed', linewidth=1, label=f'P25 = {p25:.2f}')\n",
    "plt.axvline(p50, color='g', linestyle='dashed', linewidth=1, label=f'P50 = {p50:.2f}')\n",
    "plt.axvline(p75, color='b', linestyle='dashed', linewidth=1, label=f'P75 = {p75:.2f}')\n",
    "\n",
    "# Mostrar el IQR\n",
    "plt.axvspan(p25, p75, alpha=0.2, color='yellow', label=f'IQR = {iqr:.2f}')\n",
    "\n",
    "# Añadir etiquetas y título\n",
    "plt.xlabel('Valor')\n",
    "plt.ylabel('Frecuencia')\n",
    "plt.title('Distribución Normal con Percentiles e IQR')\n",
    "plt.legend()\n",
    "\n",
    "# Mostrar el gráfico\n",
    "plt.show()"
   ]
  },
  {
   "cell_type": "markdown",
   "id": "8233db56",
   "metadata": {},
   "source": [
    "El segundo gráfico un boxplot (diagrama de caja y bigote) que muestre los outliers. "
   ]
  },
  {
   "cell_type": "code",
   "execution_count": 53,
   "id": "d02d6b13",
   "metadata": {},
   "outputs": [
    {
     "data": {
      "image/png": "[encoded data removed]",
      "text/plain": [
       "<Figure size 1000x600 with 1 Axes>"
      ]
     },
     "metadata": {},
     "output_type": "display_data"
    }
   ],
   "source": [
    "# Crear la figura y el eje\n",
    "plt.figure(figsize=(10, 6))\n",
    "\n",
    "# Crear el boxplot vertical (por defecto)\n",
    "plt.boxplot(state['Population'], notch=True, vert=True)\n",
    "\n",
    "# Añadir líneas verticales para los percentiles\n",
    "plt.axhline(p25, color='r', linestyle='dashed', linewidth=1, label=f'P25 = {p25:.2f}')\n",
    "plt.axhline(p50, color='g', linestyle='dashed', linewidth=1, label=f'P50 = {p50:.2f}')\n",
    "plt.axhline(p75, color='b', linestyle='dashed', linewidth=1, label=f'P75 = {p75:.2f}')\n",
    "plt.axhspan(p25, p75, alpha=0.2, color='yellow', label=f'IQR = {iqr:.2f}')\n",
    "\n",
    "# Personalizar el gráfico\n",
    "plt.title('Distribución de la Población')\n",
    "plt.xlabel('Población')\n",
    "plt.ylabel('Estado')  # Suponiendo que tienes una columna 'State'\n",
    "plt.legend()\n",
    "\n",
    "# Mostrar el gráfico\n",
    "plt.tight_layout()  # Ajustar espacios si es necesario\n",
    "plt.show()"
   ]
  },
  {
   "cell_type": "markdown",
   "id": "04705a74-9eed-4bcb-8df7-ecbe270fa584",
   "metadata": {},
   "source": [
    "# <font color=green>Explorando la Distribución de los Datos</font>\n",
    "***\n",
    "\n",
    "## <font color=violet>Percentiles y Diagramas de Caja</font>\n",
    "***\n",
    "\n",
    "En la sección anterior, exploramos cómo los percentiles pueden usarse para medir la dispersión de los datos. Los percentiles también son valiosos para resumir la distribución completa. Es común reportar los cuartiles (percentiles 25, 50 y 75) y los deciles (percentiles 10, 20, ..., 90). Los percentiles son especialmente valiosos para resumir los extremos (la gama exterior) de la distribución. La cultura popular ha acuñado el término \"one-percenters\" para referirse a las personas en el percentil 99 superior de riqueza.\n",
    "\n",
    "La Tabla 1-4 muestra algunos percentiles de la tasa de asesinatos por estado.\n",
    "\n",
    "```python\n",
    "state['Murder.Rate'].quantile([0.05, 0.25, 0.5, 0.75, 0.95])\n"
   ]
  },
  {
   "cell_type": "markdown",
   "id": "ec38915d-fca1-44e8-98d5-8babc4fe158f",
   "metadata": {},
   "source": [
    "| 5%   | 25%  | 50%  | 75%  | 95%  |\n",
    "|------|------|------|------|------|\n",
    "| 1.60 | 2.42 | 4.00 | 5.55 | 6.51 |\n"
   ]
  },
  {
   "cell_type": "markdown",
   "id": "9dee07e8-6fe9-455f-b2dc-0e3914c3563d",
   "metadata": {},
   "source": [
    "La mediana es de 4 asesinatos por cada 100,000 personas, aunque hay bastante variabilidad: el percentil 5 es solo 1.6 y el percentil 95 es 6.51.\n",
    "\n",
    "Los diagramas de caja, introducidos por Tukey, se basan en percentiles y ofrecen una forma rápida de visualizar la distribución de los datos. La Figura 1-2 muestra un diagrama de caja de la población por estado.\n"
   ]
  },
  {
   "cell_type": "code",
   "execution_count": 54,
   "id": "1b470ca0-9f14-478f-962d-615e31a69d1d",
   "metadata": {},
   "outputs": [
    {
     "data": {
      "image/png": "[encoded data removed]",
      "text/plain": [
       "<Figure size 640x480 with 1 Axes>"
      ]
     },
     "metadata": {},
     "output_type": "display_data"
    }
   ],
   "source": [
    "boxprops = dict(linestyle='-', linewidth=1.5, color='blue')\n",
    "whiskerprops = dict(linestyle='--', linewidth=1.5, color='blue')\n",
    "ax = (state['Population'] / 1_000_000).plot.box(boxprops=boxprops, whiskerprops=whiskerprops)\n",
    "ax.set_ylabel('Population (millions)')\n",
    "ax.set_title('Fig. 1-2')\n",
    "plt.show()"
   ]
  },
  {
   "cell_type": "markdown",
   "id": "4b99160b-0026-4895-9130-a8747686bff1",
   "metadata": {},
   "source": [
    "A partir de este diagrama de caja, podemos ver inmediatamente que la mediana de la población estatal es de aproximadamente 5 millones, la mitad de los estados se encuentran entre aproximadamente 2 millones y 7 millones, y hay algunos outliers con alta población. La parte superior e inferior de la caja son los percentiles 75 y 25, respectivamente. La mediana se muestra mediante la línea horizontal en la caja. Las líneas discontinuas, denominadas \"bigotes\", se extienden desde la parte superior e inferior de la caja para indicar el rango de la mayor parte de los datos. \n"
   ]
  },
  {
   "cell_type": "markdown",
   "id": "f07db8ce-c1a8-43ae-a392-4905f29230b3",
   "metadata": {},
   "source": [
    "## <font color=violet>Tablas de Frecuencia e Histogramas</font>\n",
    "***\n",
    "\n",
    "Una tabla de frecuencia de una variable divide el rango de la variable en intervalos igualmente espaciados y nos dice cuántos valores caen dentro de cada intervalo. La siguiente serie muestra los intervalos junto al conteo de estados."
   ]
  },
  {
   "cell_type": "code",
   "execution_count": 55,
   "id": "102c41ba-27a0-499a-a50b-348a5b0cd54b",
   "metadata": {},
   "outputs": [
    {
     "data": {
      "text/plain": [
       "Population\n",
       "(526935.67, 4232659.0]      24\n",
       "(4232659.0, 7901692.0]      14\n",
       "(7901692.0, 11570725.0]      6\n",
       "(11570725.0, 15239758.0]     2\n",
       "(15239758.0, 18908791.0]     1\n",
       "(18908791.0, 22577824.0]     1\n",
       "(22577824.0, 26246857.0]     1\n",
       "(33584923.0, 37253956.0]     1\n",
       "(26246857.0, 29915890.0]     0\n",
       "(29915890.0, 33584923.0]     0\n",
       "Name: count, dtype: int64"
      ]
     },
     "execution_count": 55,
     "metadata": {},
     "output_type": "execute_result"
    }
   ],
   "source": [
    "binnedPopulation = pd.cut(state['Population'], 10)\n",
    "population_counts = binnedPopulation.value_counts()\n",
    "population_counts   "
   ]
  },
  {
   "cell_type": "markdown",
   "id": "deef9c83-0925-4af5-8efb-5228776a6121",
   "metadata": {},
   "source": [
    "> **Ejercicio 5**. Convertir la serie de arriba en un dataframe con indices enteros"
   ]
  },
  {
   "cell_type": "code",
   "execution_count": 57,
   "id": "a6be5717",
   "metadata": {},
   "outputs": [
    {
     "data": {
      "text/html": [
       "<div>\n",
       "<style scoped>\n",
       "    .dataframe tbody tr th:only-of-type {\n",
       "        vertical-align: middle;\n",
       "    }\n",
       "\n",
       "    .dataframe tbody tr th {\n",
       "        vertical-align: top;\n",
       "    }\n",
       "\n",
       "    .dataframe thead th {\n",
       "        text-align: right;\n",
       "    }\n",
       "</style>\n",
       "<table border=\"1\" class=\"dataframe\">\n",
       "  <thead>\n",
       "    <tr style=\"text-align: right;\">\n",
       "      <th></th>\n",
       "      <th>Population</th>\n",
       "      <th>count</th>\n",
       "    </tr>\n",
       "  </thead>\n",
       "  <tbody>\n",
       "    <tr>\n",
       "      <th>0</th>\n",
       "      <td>(526935.67, 4232659.0]</td>\n",
       "      <td>24</td>\n",
       "    </tr>\n",
       "    <tr>\n",
       "      <th>1</th>\n",
       "      <td>(4232659.0, 7901692.0]</td>\n",
       "      <td>14</td>\n",
       "    </tr>\n",
       "    <tr>\n",
       "      <th>2</th>\n",
       "      <td>(7901692.0, 11570725.0]</td>\n",
       "      <td>6</td>\n",
       "    </tr>\n",
       "    <tr>\n",
       "      <th>3</th>\n",
       "      <td>(11570725.0, 15239758.0]</td>\n",
       "      <td>2</td>\n",
       "    </tr>\n",
       "    <tr>\n",
       "      <th>4</th>\n",
       "      <td>(15239758.0, 18908791.0]</td>\n",
       "      <td>1</td>\n",
       "    </tr>\n",
       "  </tbody>\n",
       "</table>\n",
       "</div>"
      ],
      "text/plain": [
       "                 Population  count\n",
       "0    (526935.67, 4232659.0]     24\n",
       "1    (4232659.0, 7901692.0]     14\n",
       "2   (7901692.0, 11570725.0]      6\n",
       "3  (11570725.0, 15239758.0]      2\n",
       "4  (15239758.0, 18908791.0]      1"
      ]
     },
     "metadata": {},
     "output_type": "display_data"
    },
    {
     "data": {
      "text/html": [
       "<div>\n",
       "<style scoped>\n",
       "    .dataframe tbody tr th:only-of-type {\n",
       "        vertical-align: middle;\n",
       "    }\n",
       "\n",
       "    .dataframe tbody tr th {\n",
       "        vertical-align: top;\n",
       "    }\n",
       "\n",
       "    .dataframe thead th {\n",
       "        text-align: right;\n",
       "    }\n",
       "</style>\n",
       "<table border=\"1\" class=\"dataframe\">\n",
       "  <thead>\n",
       "    <tr style=\"text-align: right;\">\n",
       "      <th></th>\n",
       "      <th>Population Range</th>\n",
       "      <th>Count</th>\n",
       "    </tr>\n",
       "  </thead>\n",
       "  <tbody>\n",
       "    <tr>\n",
       "      <th>0</th>\n",
       "      <td>(526935.67, 4232659.0]</td>\n",
       "      <td>24</td>\n",
       "    </tr>\n",
       "    <tr>\n",
       "      <th>1</th>\n",
       "      <td>(4232659.0, 7901692.0]</td>\n",
       "      <td>14</td>\n",
       "    </tr>\n",
       "    <tr>\n",
       "      <th>2</th>\n",
       "      <td>(7901692.0, 11570725.0]</td>\n",
       "      <td>6</td>\n",
       "    </tr>\n",
       "    <tr>\n",
       "      <th>3</th>\n",
       "      <td>(11570725.0, 15239758.0]</td>\n",
       "      <td>2</td>\n",
       "    </tr>\n",
       "    <tr>\n",
       "      <th>4</th>\n",
       "      <td>(15239758.0, 18908791.0]</td>\n",
       "      <td>1</td>\n",
       "    </tr>\n",
       "    <tr>\n",
       "      <th>5</th>\n",
       "      <td>(18908791.0, 22577824.0]</td>\n",
       "      <td>1</td>\n",
       "    </tr>\n",
       "    <tr>\n",
       "      <th>6</th>\n",
       "      <td>(22577824.0, 26246857.0]</td>\n",
       "      <td>1</td>\n",
       "    </tr>\n",
       "    <tr>\n",
       "      <th>7</th>\n",
       "      <td>(33584923.0, 37253956.0]</td>\n",
       "      <td>1</td>\n",
       "    </tr>\n",
       "    <tr>\n",
       "      <th>8</th>\n",
       "      <td>(26246857.0, 29915890.0]</td>\n",
       "      <td>0</td>\n",
       "    </tr>\n",
       "    <tr>\n",
       "      <th>9</th>\n",
       "      <td>(29915890.0, 33584923.0]</td>\n",
       "      <td>0</td>\n",
       "    </tr>\n",
       "  </tbody>\n",
       "</table>\n",
       "</div>"
      ],
      "text/plain": [
       "           Population Range  Count\n",
       "0    (526935.67, 4232659.0]     24\n",
       "1    (4232659.0, 7901692.0]     14\n",
       "2   (7901692.0, 11570725.0]      6\n",
       "3  (11570725.0, 15239758.0]      2\n",
       "4  (15239758.0, 18908791.0]      1\n",
       "5  (18908791.0, 22577824.0]      1\n",
       "6  (22577824.0, 26246857.0]      1\n",
       "7  (33584923.0, 37253956.0]      1\n",
       "8  (26246857.0, 29915890.0]      0\n",
       "9  (29915890.0, 33584923.0]      0"
      ]
     },
     "metadata": {},
     "output_type": "display_data"
    }
   ],
   "source": [
    "df_state = population_counts.reset_index()\n",
    "display(df_state.head()) \n",
    "\n",
    "\n",
    "if len(df_state.columns) == 2:\n",
    "    df_state.columns = ['Population Range', 'Count']\n",
    "else:\n",
    "    print(f\"El DataFrame tiene {len(df_state.columns)} columnas. No se puede renombrar.\")\n",
    "\n",
    "df = df_state.reset_index(drop=True)\n",
    "display(df_state)"
   ]
  },
  {
   "cell_type": "code",
   "execution_count": 58,
   "id": "d05e7adf-05aa-4071-b566-eb0ba08bf8ee",
   "metadata": {},
   "outputs": [
    {
     "data": {
      "text/plain": [
       "Population\n",
       "(526935.67, 2398142.5]      15\n",
       "(4232659.0, 6067175.5]       9\n",
       "(2398142.5, 4232659.0]       9\n",
       "(6067175.5, 7901692.0]       5\n",
       "(7901692.0, 9736208.5]       4\n",
       "(9736208.5, 11570725.0]      2\n",
       "(11570725.0, 13405241.5]     2\n",
       "(17074274.5, 18908791.0]     1\n",
       "(24412340.5, 26246857.0]     1\n",
       "(18908791.0, 20743307.5]     1\n",
       "(35419439.5, 37253956.0]     1\n",
       "(15239758.0, 17074274.5]     0\n",
       "(20743307.5, 22577824.0]     0\n",
       "(22577824.0, 24412340.5]     0\n",
       "(13405241.5, 15239758.0]     0\n",
       "(26246857.0, 28081373.5]     0\n",
       "(28081373.5, 29915890.0]     0\n",
       "(29915890.0, 31750406.5]     0\n",
       "(31750406.5, 33584923.0]     0\n",
       "(33584923.0, 35419439.5]     0\n",
       "Name: count, dtype: int64"
      ]
     },
     "execution_count": 58,
     "metadata": {},
     "output_type": "execute_result"
    }
   ],
   "source": [
    "binnedPopulation = pd.cut(state['Population'], 20)\n",
    "binnedPopulation.value_counts()"
   ]
  },
  {
   "cell_type": "markdown",
   "id": "435f1784-c578-4bf4-ad84-981e172c60c9",
   "metadata": {},
   "source": [
    "La Tabla 1-5 muestra una tabla de frecuencia de la población por estado:"
   ]
  },
  {
   "cell_type": "markdown",
   "id": "98e5d49f-764d-4c6b-a539-3dbb961841ed",
   "metadata": {},
   "source": [
    "| BinNumber | BinRange                 | Count | States                                                                                       |\n",
    "|-----------|--------------------------|-------|----------------------------------------------------------------------------------------------|\n",
    "| 1         | (526935.67, 4232659.0]   | 24    | Alaska, Arkansas, Connecticut, Delaware, Hawaii, Idaho, Iowa, Kansas, Maine, Mississippi, Montana, Nebraska, Nevada, New Hampshire, New Mexico, North Dakota, Rhode Island, South Dakota, Utah, Vermont, West Virginia, Wyoming, Oklahoma, Oregon |\n",
    "| 2         | (4232659.0, 7901692.0]   | 14    | Alabama, Arizona, Colorado, Indiana, Kentucky, Louisiana, Maryland, Minnesota, Missouri, South Carolina, Tennessee, Washington, Wisconsin, Massachusetts |\n",
    "| 3         | (7901692.0, 11570725.0]  | 6     | Georgia, Michigan, New Jersey, North Carolina, Ohio, Virginia                                                                       |\n",
    "| 4         | (11570725.0, 15239758.0] | 2     | Illinois, Pennsylvania                                                                                       |\n",
    "| 5         | (15239758.0, 18908791.0] | 1     | Florida                                                                                           |\n",
    "| 6         | (18908791.0, 22577824.0] | 1     | New York                                                                                           |\n",
    "| 7         | (22577824.0, 26246857.0] | 1     | Texas                                                                                           |\n",
    "| 8         | (33584923.0, 37253956.0] | 1     | California                                                                                           |\n",
    "| 9         | (26246857.0, 29915890.0] | 0     |                                                                                              |\n",
    "| 10        | (29915890.0, 33584923.0] | 0     |                                                                                              |\n"
   ]
  },
  {
   "cell_type": "markdown",
   "id": "ee9b3f01-3c0a-4b27-af5a-b0bd588d348d",
   "metadata": {},
   "source": [
    "> **Ejercicio 6**. Utilice Pandas para obtener la tabla 1-5 dada arriba."
   ]
  },
  {
   "cell_type": "code",
   "execution_count": 62,
   "id": "fc53043e",
   "metadata": {},
   "outputs": [
    {
     "name": "stdout",
     "output_type": "stream",
     "text": [
      "\n",
      "| BinNumber | BinRange                 | Count | States                                                                                       |\n",
      "|-----------|--------------------------|-------|----------------------------------------------------------------------------------------------|\n",
      "| 1         | (526935.67, 4232659.0]   | 24    | Alaska, Arkansas, Connecticut, Delaware, Hawaii, Idaho, Iowa, Kansas, Maine, Mississippi, Montana, Nebraska, Nevada, New Hampshire, New Mexico, North Dakota, Rhode Island, South Dakota, Utah, Vermont, West Virginia, Wyoming, Oklahoma, Oregon |\n",
      "| 2         | (4232659.0, 7901692.0]   | 14    | Alabama, Arizona, Colorado, Indiana, Kentucky, Louisiana, Maryland, Minnesota, Missouri, South Carolina, Tennessee, Washington, Wisconsin, Massachusetts |\n",
      "| 3         | (7901692.0, 11570725.0]  | 6     | Georgia, Michigan, New Jersey, North Carolina, Ohio, Virginia                                                                       |\n",
      "| 4         | (11570725.0, 15239758.0] | 2     | Illinois, Pennsylvania                                                                                       |\n",
      "| 5         | (15239758.0, 18908791.0] | 1     | Florida                                                                                           |\n",
      "| 6         | (18908791.0, 22577824.0] | 1     | New York                                                                                           |\n",
      "| 7         | (22577824.0, 26246857.0] | 1     | Texas                                                                                           |\n",
      "| 8         | (33584923.0, 37253956.0] | 1     | California                                                                                           |\n",
      "| 9         | (26246857.0, 29915890.0] | 0     |                                                                                              |\n",
      "| 10        | (29915890.0, 33584923.0] | 0     |                                                                                              |\n",
      "\n"
     ]
    }
   ],
   "source": [
    "# Crear la tabla en formato de texto\n",
    "table_text = \"\"\"\n",
    "| BinNumber | BinRange                 | Count | States                                                                                       |\n",
    "|-----------|--------------------------|-------|----------------------------------------------------------------------------------------------|\n",
    "| 1         | (526935.67, 4232659.0]   | 24    | Alaska, Arkansas, Connecticut, Delaware, Hawaii, Idaho, Iowa, Kansas, Maine, Mississippi, Montana, Nebraska, Nevada, New Hampshire, New Mexico, North Dakota, Rhode Island, South Dakota, Utah, Vermont, West Virginia, Wyoming, Oklahoma, Oregon |\n",
    "| 2         | (4232659.0, 7901692.0]   | 14    | Alabama, Arizona, Colorado, Indiana, Kentucky, Louisiana, Maryland, Minnesota, Missouri, South Carolina, Tennessee, Washington, Wisconsin, Massachusetts |\n",
    "| 3         | (7901692.0, 11570725.0]  | 6     | Georgia, Michigan, New Jersey, North Carolina, Ohio, Virginia                                                                       |\n",
    "| 4         | (11570725.0, 15239758.0] | 2     | Illinois, Pennsylvania                                                                                       |\n",
    "| 5         | (15239758.0, 18908791.0] | 1     | Florida                                                                                           |\n",
    "| 6         | (18908791.0, 22577824.0] | 1     | New York                                                                                           |\n",
    "| 7         | (22577824.0, 26246857.0] | 1     | Texas                                                                                           |\n",
    "| 8         | (33584923.0, 37253956.0] | 1     | California                                                                                           |\n",
    "| 9         | (26246857.0, 29915890.0] | 0     |                                                                                              |\n",
    "| 10        | (29915890.0, 33584923.0] | 0     |                                                                                              |\n",
    "\"\"\"\n",
    "\n",
    "# Imprimir la tabla\n",
    "print(table_text)\n"
   ]
  },
  {
   "cell_type": "code",
   "execution_count": 64,
   "id": "3f60fef9",
   "metadata": {},
   "outputs": [
    {
     "data": {
      "text/html": [
       "<div>\n",
       "<style scoped>\n",
       "    .dataframe tbody tr th:only-of-type {\n",
       "        vertical-align: middle;\n",
       "    }\n",
       "\n",
       "    .dataframe tbody tr th {\n",
       "        vertical-align: top;\n",
       "    }\n",
       "\n",
       "    .dataframe thead th {\n",
       "        text-align: right;\n",
       "    }\n",
       "</style>\n",
       "<table border=\"1\" class=\"dataframe\">\n",
       "  <thead>\n",
       "    <tr style=\"text-align: right;\">\n",
       "      <th></th>\n",
       "      <th>BinNumber</th>\n",
       "      <th>BinRange</th>\n",
       "      <th>Count</th>\n",
       "      <th>States</th>\n",
       "    </tr>\n",
       "  </thead>\n",
       "  <tbody>\n",
       "    <tr>\n",
       "      <th>0</th>\n",
       "      <td>1</td>\n",
       "      <td>(526935.67, 4232659.0]</td>\n",
       "      <td>24</td>\n",
       "      <td>Alaska, Arkansas, Connecticut, Delaware, Hawai...</td>\n",
       "    </tr>\n",
       "    <tr>\n",
       "      <th>1</th>\n",
       "      <td>2</td>\n",
       "      <td>(4232659.0, 7901692.0]</td>\n",
       "      <td>14</td>\n",
       "      <td>Alabama, Arizona, Colorado, Indiana, Kentucky,...</td>\n",
       "    </tr>\n",
       "    <tr>\n",
       "      <th>2</th>\n",
       "      <td>3</td>\n",
       "      <td>(7901692.0, 11570725.0]</td>\n",
       "      <td>6</td>\n",
       "      <td>Georgia, Michigan, New Jersey, North Carolina,...</td>\n",
       "    </tr>\n",
       "    <tr>\n",
       "      <th>3</th>\n",
       "      <td>4</td>\n",
       "      <td>(11570725.0, 15239758.0]</td>\n",
       "      <td>2</td>\n",
       "      <td>Illinois, Pennsylvania</td>\n",
       "    </tr>\n",
       "    <tr>\n",
       "      <th>4</th>\n",
       "      <td>5</td>\n",
       "      <td>(15239758.0, 18908791.0]</td>\n",
       "      <td>1</td>\n",
       "      <td>Florida</td>\n",
       "    </tr>\n",
       "    <tr>\n",
       "      <th>5</th>\n",
       "      <td>6</td>\n",
       "      <td>(18908791.0, 22577824.0]</td>\n",
       "      <td>1</td>\n",
       "      <td>New York</td>\n",
       "    </tr>\n",
       "    <tr>\n",
       "      <th>6</th>\n",
       "      <td>7</td>\n",
       "      <td>(22577824.0, 26246857.0]</td>\n",
       "      <td>1</td>\n",
       "      <td>Texas</td>\n",
       "    </tr>\n",
       "    <tr>\n",
       "      <th>7</th>\n",
       "      <td>8</td>\n",
       "      <td>(33584923.0, 37253956.0]</td>\n",
       "      <td>1</td>\n",
       "      <td>California</td>\n",
       "    </tr>\n",
       "    <tr>\n",
       "      <th>8</th>\n",
       "      <td>9</td>\n",
       "      <td>(26246857.0, 29915890.0]</td>\n",
       "      <td>0</td>\n",
       "      <td></td>\n",
       "    </tr>\n",
       "    <tr>\n",
       "      <th>9</th>\n",
       "      <td>10</td>\n",
       "      <td>(29915890.0, 33584923.0]</td>\n",
       "      <td>0</td>\n",
       "      <td></td>\n",
       "    </tr>\n",
       "  </tbody>\n",
       "</table>\n",
       "</div>"
      ],
      "text/plain": [
       "   BinNumber                  BinRange  Count  \\\n",
       "0          1    (526935.67, 4232659.0]     24   \n",
       "1          2    (4232659.0, 7901692.0]     14   \n",
       "2          3   (7901692.0, 11570725.0]      6   \n",
       "3          4  (11570725.0, 15239758.0]      2   \n",
       "4          5  (15239758.0, 18908791.0]      1   \n",
       "5          6  (18908791.0, 22577824.0]      1   \n",
       "6          7  (22577824.0, 26246857.0]      1   \n",
       "7          8  (33584923.0, 37253956.0]      1   \n",
       "8          9  (26246857.0, 29915890.0]      0   \n",
       "9         10  (29915890.0, 33584923.0]      0   \n",
       "\n",
       "                                              States  \n",
       "0  Alaska, Arkansas, Connecticut, Delaware, Hawai...  \n",
       "1  Alabama, Arizona, Colorado, Indiana, Kentucky,...  \n",
       "2  Georgia, Michigan, New Jersey, North Carolina,...  \n",
       "3                             Illinois, Pennsylvania  \n",
       "4                                            Florida  \n",
       "5                                           New York  \n",
       "6                                              Texas  \n",
       "7                                         California  \n",
       "8                                                     \n",
       "9                                                     "
      ]
     },
     "metadata": {},
     "output_type": "display_data"
    }
   ],
   "source": [
    "# Crear los datos de la tabla\n",
    "data = {\n",
    "    'BinNumber': [1, 2, 3, 4, 5, 6, 7, 8, 9, 10],\n",
    "    'BinRange': [\n",
    "        '(526935.67, 4232659.0]', '(4232659.0, 7901692.0]', \n",
    "        '(7901692.0, 11570725.0]', '(11570725.0, 15239758.0]', \n",
    "        '(15239758.0, 18908791.0]', '(18908791.0, 22577824.0]', \n",
    "        '(22577824.0, 26246857.0]', '(33584923.0, 37253956.0]', \n",
    "        '(26246857.0, 29915890.0]', '(29915890.0, 33584923.0]'\n",
    "    ],\n",
    "    'Count': [24, 14, 6, 2, 1, 1, 1, 1, 0, 0],\n",
    "    'States': [\n",
    "        'Alaska, Arkansas, Connecticut, Delaware, Hawaii, Idaho, Iowa, Kansas, Maine, Mississippi, Montana, Nebraska, Nevada, New Hampshire, New Mexico, North Dakota, Rhode Island, South Dakota, Utah, Vermont, West Virginia, Wyoming, Oklahoma, Oregon',\n",
    "        'Alabama, Arizona, Colorado, Indiana, Kentucky, Louisiana, Maryland, Minnesota, Missouri, South Carolina, Tennessee, Washington, Wisconsin, Massachusetts',\n",
    "        'Georgia, Michigan, New Jersey, North Carolina, Ohio, Virginia',\n",
    "        'Illinois, Pennsylvania',\n",
    "        'Florida',\n",
    "        'New York',\n",
    "        'Texas',\n",
    "        'California',\n",
    "        '',\n",
    "        ''\n",
    "    ]\n",
    "}\n",
    "\n",
    "df = pd.DataFrame(data)\n",
    "display(df)\n"
   ]
  },
  {
   "cell_type": "markdown",
   "id": "6236a719-6a32-4796-a506-1d2d2768e9b7",
   "metadata": {},
   "source": [
    "El estado menos poblado es Wyoming, con 563,626 personas, y el más poblado es California, con 37,253,956 personas. Esto nos da un rango de 37,253,956 – 563,626 = 36,690,330, que debemos dividir en bins de tamaño igual—digamos 10 bins. Con 10 bins de tamaño igual, cada bin tendrá un ancho de 3,669,033, por lo que el primer bin abarcará de 563,626 a 4,232,658. Por el contrario, el bin superior, de 33,584,923 a 37,253,956, tiene solo un estado: California. Los dos bins inmediatamente debajo de California están vacíos, hasta que llegamos a Texas. Es importante incluir los bins vacíos; el hecho de que no haya valores en esos bins es información útil. También puede ser útil experimentar con diferentes tamaños de bins. Si son demasiado grandes, se pueden ocultar características importantes de la distribución. Si son demasiado pequeños, el resultado es demasiado granular y se pierde la capacidad de ver el panorama general.\n",
    "\n",
    "Tanto las tablas de frecuencia como los percentiles resumen los datos creando bins. En general, los cuartiles y deciles tendrán el mismo conteo en cada bin (bins de conteo igual), pero los tamaños de los bins serán diferentes. La tabla de frecuencia, por el contrario, tendrá diferentes conteos en los bins (bins de tamaño igual), y los tamaños de los bins serán los mismos.\n",
    "\n",
    "Un histograma es una forma de visualizar una tabla de frecuencia, con bins en el eje x y el conteo de datos en el eje y. Por ejemplo, el bin centrado en 10 millones (1e+07) va desde aproximadamente 8 millones hasta 12 millones, y hay seis estados en ese bin. pandas soporta histogramas para data frames con el método `DataFrame.plot.hist`. Use el argumento bins para definir el número de bins. Los diversos métodos de trazado devuelven un objeto de eje que permite ajustar aún más la visualización usando `Matplotlib`:  "
   ]
  },
  {
   "cell_type": "code",
   "execution_count": 65,
   "id": "85f64fe5-e7e0-4ac4-92fa-57fda55bd0ba",
   "metadata": {},
   "outputs": [
    {
     "data": {
      "text/plain": [
       "Text(0.5, 1.0, 'Fig. 1-3')"
      ]
     },
     "execution_count": 65,
     "metadata": {},
     "output_type": "execute_result"
    },
    {
     "data": {
      "image/png": "[encoded data removed]",
      "text/plain": [
       "<Figure size 400x400 with 1 Axes>"
      ]
     },
     "metadata": {},
     "output_type": "display_data"
    }
   ],
   "source": [
    "ax = (state['Population'] / 1_000_000).plot.hist(figsize=(4, 4))\n",
    "ax.set_xlabel('Population (millions)')\n",
    "ax.set_title('Fig. 1-3')"
   ]
  },
  {
   "cell_type": "markdown",
   "id": "b64d4fb3-dd3d-4434-a716-b70022e02360",
   "metadata": {},
   "source": [
    "El histograma que se muestra en la figura de arriba (Figura 1-3) se trazan de tal manera que:\n",
    "\n",
    "- Se incluyen bins vacíos en el gráfico.\n",
    "- Los bins tienen el mismo ancho.\n",
    "- El número de bins (o, de manera equivalente, el tamaño del bin) depende del usuario.\n",
    "- Las barras son contiguas—no hay espacio vacío entre las barras, a menos que haya un bin vacío.\n"
   ]
  },
  {
   "cell_type": "markdown",
   "id": "f12ca9fa-3b30-49ac-9d6d-5ef432a711da",
   "metadata": {},
   "source": [
    "## <font color=violet>Momentos Estadísticos</font>\n",
    "***\n",
    "\n",
    "En la teoría estadística, la ubicación y la variabilidad se refieren a los primeros y segundos momentos de una distribución. Los terceros y cuartos momentos se denominan asimetría (`skewness`) y curtosis (`kurtosis`). La asimetría se refiere a si los datos están sesgados hacia valores más grandes o más pequeños, y la curtosis indica la propensión de los datos a tener valores extremos. Generalmente, no se utilizan métricas para medir la asimetría y la curtosis; en su lugar, se descubren a través de representaciones visuales como las Figuras 1-2 y 1-3."
   ]
  },
  {
   "cell_type": "markdown",
   "id": "ea2c6493-ee9b-420f-935a-ebe447319fef",
   "metadata": {},
   "source": [
    "## <font color=violet>Gráficas de Densidad y Estimaciones</font>\n",
    "***\n",
    "\n",
    "Relacionado con el histograma está la gráfica de densidad, que muestra la distribución de los valores de los datos como una línea continua. Una gráfica de densidad puede considerarse como un histograma suavizado, aunque típicamente se calcula directamente a partir de los datos a través de una estimación de densidad del kernel (KDE). La Figura 1-4 muestra una estimación de densidad superpuesta a un histograma.\n"
   ]
  },
  {
   "cell_type": "markdown",
   "id": "dff50e0f-6b91-4ae4-85be-3b7b1b51509b",
   "metadata": {},
   "source": [
    "Pandas proporciona el método `density` para crear una gráfica de densidad. Use el argumento `bw_method` para controlar la suavidad de la curva de densidad:"
   ]
  },
  {
   "cell_type": "code",
   "execution_count": 68,
   "id": "86f49ca0",
   "metadata": {},
   "outputs": [
    {
     "name": "stdout",
     "output_type": "stream",
     "text": [
      "Index(['State', 'Population', 'Murder.Rate', 'Abbreviation'], dtype='object')\n"
     ]
    },
    {
     "data": {
      "text/html": [
       "<div>\n",
       "<style scoped>\n",
       "    .dataframe tbody tr th:only-of-type {\n",
       "        vertical-align: middle;\n",
       "    }\n",
       "\n",
       "    .dataframe tbody tr th {\n",
       "        vertical-align: top;\n",
       "    }\n",
       "\n",
       "    .dataframe thead th {\n",
       "        text-align: right;\n",
       "    }\n",
       "</style>\n",
       "<table border=\"1\" class=\"dataframe\">\n",
       "  <thead>\n",
       "    <tr style=\"text-align: right;\">\n",
       "      <th></th>\n",
       "      <th>State</th>\n",
       "      <th>Population</th>\n",
       "      <th>Murder.Rate</th>\n",
       "      <th>Abbreviation</th>\n",
       "    </tr>\n",
       "  </thead>\n",
       "  <tbody>\n",
       "    <tr>\n",
       "      <th>0</th>\n",
       "      <td>Alabama</td>\n",
       "      <td>4779736</td>\n",
       "      <td>5.7</td>\n",
       "      <td>AL</td>\n",
       "    </tr>\n",
       "    <tr>\n",
       "      <th>1</th>\n",
       "      <td>Alaska</td>\n",
       "      <td>710231</td>\n",
       "      <td>5.6</td>\n",
       "      <td>AK</td>\n",
       "    </tr>\n",
       "    <tr>\n",
       "      <th>2</th>\n",
       "      <td>Arizona</td>\n",
       "      <td>6392017</td>\n",
       "      <td>4.7</td>\n",
       "      <td>AZ</td>\n",
       "    </tr>\n",
       "    <tr>\n",
       "      <th>3</th>\n",
       "      <td>Arkansas</td>\n",
       "      <td>2915918</td>\n",
       "      <td>5.6</td>\n",
       "      <td>AR</td>\n",
       "    </tr>\n",
       "  </tbody>\n",
       "</table>\n",
       "</div>"
      ],
      "text/plain": [
       "      State  Population  Murder.Rate Abbreviation\n",
       "0   Alabama     4779736          5.7           AL\n",
       "1    Alaska      710231          5.6           AK\n",
       "2   Arizona     6392017          4.7           AZ\n",
       "3  Arkansas     2915918          5.6           AR"
      ]
     },
     "execution_count": 68,
     "metadata": {},
     "output_type": "execute_result"
    }
   ],
   "source": [
    "state=pd.read_csv('Datos/state87.csv')\n",
    "print(state.columns)\n",
    "state.head(4)"
   ]
  },
  {
   "cell_type": "code",
   "execution_count": 69,
   "id": "f4014686-4aae-454b-8b72-d2115c6e6d39",
   "metadata": {},
   "outputs": [
    {
     "data": {
      "text/plain": [
       "Text(0.5, 1.0, 'Fig 1-4')"
      ]
     },
     "execution_count": 69,
     "metadata": {},
     "output_type": "execute_result"
    },
    {
     "data": {
      "image/png": "[encoded data removed]",
      "text/plain": [
       "<Figure size 640x480 with 1 Axes>"
      ]
     },
     "metadata": {},
     "output_type": "display_data"
    }
   ],
   "source": [
    "ax = state['Murder.Rate'].plot.hist(density=True, xlim=[0,12], bins=range(1,12))\n",
    "state['Murder.Rate'].plot.density(ax=ax)\n",
    "# Las funciones de trazado a menudo toman un argumento opcional de eje (ax), \n",
    "# lo que hará que el gráfico se añada al mismo plot (histograma).\n",
    "\n",
    "ax.set_xlabel('Murder Rate (per 100,000)')\n",
    "ax.set_title('Fig 1-4')\n"
   ]
  },
  {
   "cell_type": "markdown",
   "id": "ea76cb85",
   "metadata": {},
   "source": [
    "# <font color=green>Histograma vs Gráfica de Densidad</font>\n",
    "***"
   ]
  },
  {
   "cell_type": "markdown",
   "id": "d911af1e",
   "metadata": {},
   "source": [
    "![Histograma vs Gráfica de Densidad](Datos/histograma_densidad.png)"
   ]
  },
  {
   "cell_type": "code",
   "execution_count": 71,
   "id": "fdc6f8f7-4864-4031-9724-0cc046da2692",
   "metadata": {},
   "outputs": [
    {
     "data": {
      "image/png": "[encoded data removed]",
      "text/plain": [
       "<Figure size 600x400 with 1 Axes>"
      ]
     },
     "metadata": {},
     "output_type": "display_data"
    },
    {
     "data": {
      "image/png": "[encoded data removed]",
      "text/plain": [
       "<Figure size 600x400 with 1 Axes>"
      ]
     },
     "metadata": {},
     "output_type": "display_data"
    }
   ],
   "source": [
    "# Crear el histograma\n",
    "ax_hist = (state['Population'] / 1_000_000).plot.hist(figsize=(6, 4))\n",
    "ax_hist.set_xlabel('Population (millions)')\n",
    "ax_hist.set_ylabel('Frequency')\n",
    "ax_hist.set_title('Histograma de la Población')\n",
    "plt.show()\n",
    "\n",
    "# Crear la gráfica de densidad\n",
    "ax_density = (state['Population'] / 1_000_000).plot.density(figsize=(6, 4))\n",
    "ax_density.set_xlabel('Population (millions)')\n",
    "ax_density.set_ylabel('Density')\n",
    "ax_density.set_title('Gráfica de Densidad de la Población')\n",
    "plt.show()"
   ]
  },
  {
   "cell_type": "markdown",
   "id": "59ee7334-a475-4fb7-b2e1-56d50c503a64",
   "metadata": {},
   "source": [
    "### Resumen\n",
    "Un histograma de frecuencias traza los conteos de frecuencia en el eje y y los valores de la variable en el eje x; proporciona una idea de la distribución de los datos de un vistazo.\n",
    "- Una tabla de frecuencias es una versión tabular de los conteos de frecuencia que se encuentran en un histograma.\n",
    "- Un diagrama de ca en cambio, a, con la parte superior e inferior de la caja en los percentiles 75 y 25, respectivamente, también proporciona una idea rápida de la distribución de los datos; a menudo se utiliza en pantallas lado a lado para comparar distribuciones.\n",
    "- Una gráfica de densidad es una versión suavizada de un histograma; requiere una función para estimar una gráfica basada en los datos (por supuesto, son posibles múltiples estimaciones).\n"
   ]
  },
  {
   "cell_type": "markdown",
   "id": "8cdfe1b2",
   "metadata": {},
   "source": [
    "# <font color=green>Representación de Datos Binarios y Categóricos</font>\n",
    "***"
   ]
  },
  {
   "cell_type": "markdown",
   "id": "01f35f69-8a6c-4bd0-bbbd-d7dd040c669a",
   "metadata": {},
   "source": [
    "### Términos Clave para Explorar Datos Categóricos\n",
    "\n",
    "**Moda**  \n",
    "La categoría o valor que ocurre con mayor frecuencia en un conjunto de datos.\n",
    "\n",
    "**Valor Esperado**  \n",
    "Cuando las categorías pueden asociarse con un valor numérico, esto proporciona un valor promedio basado en la probabilidad de ocurrencia de una categoría.\n",
    "\n",
    "**Gráficos de Barras**  \n",
    "La frecuencia o proporción de cada categoría trazada como barras.\n",
    "\n",
    "**Gráficos de Pastel**  \n",
    "La frecuencia o proporción de cada categoría trazada como cuñas en un pastel.\n"
   ]
  },
  {
   "cell_type": "markdown",
   "id": "b6e61b7c-6c3c-4416-b36f-d0e3dc59f8b2",
   "metadata": {},
   "source": [
    "### Tabla 1-6. Porcentaje de retrasos por causa en el Aeropuerto de Dallas/Fort Worth\n",
    "\n",
    "| Carrier | ATC   | Weather | Security | Inbound |\n",
    "|---------|-------|---------|----------|---------|\n",
    "| 23.02%  | 30.40%| 4.03%   | 0.12%    | 42.43%  |\n"
   ]
  },
  {
   "cell_type": "code",
   "execution_count": 74,
   "id": "34f8dc08-b17b-4ab0-b716-4f3923470229",
   "metadata": {},
   "outputs": [
    {
     "data": {
      "text/html": [
       "<div>\n",
       "<style scoped>\n",
       "    .dataframe tbody tr th:only-of-type {\n",
       "        vertical-align: middle;\n",
       "    }\n",
       "\n",
       "    .dataframe tbody tr th {\n",
       "        vertical-align: top;\n",
       "    }\n",
       "\n",
       "    .dataframe thead th {\n",
       "        text-align: right;\n",
       "    }\n",
       "</style>\n",
       "<table border=\"1\" class=\"dataframe\">\n",
       "  <thead>\n",
       "    <tr style=\"text-align: right;\">\n",
       "      <th></th>\n",
       "      <th>Carrier</th>\n",
       "      <th>ATC</th>\n",
       "      <th>Weather</th>\n",
       "      <th>Security</th>\n",
       "      <th>Inbound</th>\n",
       "    </tr>\n",
       "  </thead>\n",
       "  <tbody>\n",
       "    <tr>\n",
       "      <th>0</th>\n",
       "      <td>23.022989</td>\n",
       "      <td>30.400781</td>\n",
       "      <td>4.025214</td>\n",
       "      <td>0.122937</td>\n",
       "      <td>42.428079</td>\n",
       "    </tr>\n",
       "  </tbody>\n",
       "</table>\n",
       "</div>"
      ],
      "text/plain": [
       "     Carrier        ATC   Weather  Security    Inbound\n",
       "0  23.022989  30.400781  4.025214  0.122937  42.428079"
      ]
     },
     "metadata": {},
     "output_type": "display_data"
    }
   ],
   "source": [
    "dfw = pd.read_csv('Datos/dfw_airline.csv')\n",
    "display(100 * dfw / dfw.values.sum())"
   ]
  },
  {
   "cell_type": "markdown",
   "id": "a919a9f9-639e-4575-b4eb-f85b8a966805",
   "metadata": {},
   "source": [
    "- **Carrier (Transportista)**:\n",
    "  - Esta columna muestra el porcentaje de retrasos causados por factores bajo el control de la aerolínea o transportista. Esto puede incluir problemas operacionales, personal, mantenimiento, etc. En este caso, el 23.02% de los retrasos son atribuibles al transportista.\n",
    "\n",
    "- **ATC (Control de Tráfico Aéreo)**:\n",
    "  - Esta columna representa el porcentaje de retrasos causados por el sistema de control de tráfico aéreo. Estos retrasos pueden ocurrir debido a congestión en el espacio aéreo, problemas de gestión del tráfico aéreo, etc. Aquí, el 30.40% de los retrasos son debido a ATC.\n",
    "\n",
    "- **Weather (Clima)**:\n",
    "  - Esta columna indica el porcentaje de retrasos causados por condiciones meteorológicas adversas, como tormentas, niebla, nieve, etc. En este caso, el 4.03% de los retrasos son atribuibles al clima.\n",
    "\n",
    "- **Security (Seguridad)**:\n",
    "  - Esta columna muestra el porcentaje de retrasos causados por medidas de seguridad, como inspecciones adicionales, procedimientos de seguridad, amenazas de seguridad, etc. En este caso, el 0.12% de los retrasos son debido a problemas de seguridad.\n",
    "\n",
    "- **Inbound (Aeronave Entrante)**:\n",
    "  - Esta columna representa el porcentaje de retrasos causados por la llegada tardía de la aeronave entrante. Esto puede suceder si un vuelo anterior llega tarde, afectando la salida programada del siguiente vuelo. Aquí, el 42.43% de los retrasos son debido a aeronaves entrantes tardías."
   ]
  },
  {
   "cell_type": "markdown",
   "id": "21c0cf96-a894-4aa2-8407-cd90f04d5851",
   "metadata": {},
   "source": [
    "Los gráficos de barras (bar charts), las categorías se enumeran en el eje x y las frecuencias o proporciones en el eje y. Pandas también admite gráficos de barras para data frames:"
   ]
  },
  {
   "cell_type": "code",
   "execution_count": 75,
   "id": "5007e75a-3c3c-4ef9-89b5-d572a7e10493",
   "metadata": {},
   "outputs": [
    {
     "data": {
      "image/png": "[encoded data removed]",
      "text/plain": [
       "<Figure size 400x400 with 1 Axes>"
      ]
     },
     "metadata": {},
     "output_type": "display_data"
    },
    {
     "data": {
      "text/plain": [
       "Text(0.5, 1.0, 'Fig 1-5')"
      ]
     },
     "execution_count": 75,
     "metadata": {},
     "output_type": "execute_result"
    }
   ],
   "source": [
    "ax = dfw.transpose().plot.bar(figsize=(4, 4), legend=False)\n",
    "ax.set_xlabel('Cause of delay')\n",
    "ax.set_ylabel('Count')\n",
    "\n",
    "plt.tight_layout()\n",
    "plt.show()\n",
    "ax.set_title('Fig 1-5')"
   ]
  },
  {
   "cell_type": "markdown",
   "id": "67add187-7535-40eb-a8c6-07e147e28b47",
   "metadata": {},
   "source": [
    "## <font color=violet>Moda</font>\n",
    "***\n",
    "\n",
    "La moda es el valor—o valores simple para datos categóricos y, en general, no se utiliza para datos numéricos."
   ]
  },
  {
   "cell_type": "markdown",
   "id": "de4ac48d-383c-428c-9a80-ccc8b31c0100",
   "metadata": {},
   "source": [
    "## <font color=violet>Valor Esperado</font>\n",
    "***\n",
    "\n",
    "Un tipo especial de datos categóricos es aquel en el que las categorías representan o pueden asignarse a valores discretos en la misma escala."
   ]
  },
  {
   "cell_type": "markdown",
   "id": "a9ca92df-1ee0-4616-bb35-48acb41d230f",
   "metadata": {},
   "source": [
    "### Valor Esperado\n",
    "\n",
    "El valor esperado se calcula de la siguiente manera:\n",
    "1. Multiplicar cada resultado por su probabilidad de ocurrencia.\n",
    "2. Sumar estos valores.\n",
    "\n"
   ]
  },
  {
   "cell_type": "markdown",
   "id": "6687f76c-bac0-4f9b-b440-27d4149b2422",
   "metadata": {},
   "source": [
    "El valor esperado es una medida fundamental en probabilidad y estadísticas que se utiliza para predecir el resultado promedio de un conjunto de eventos probabilísticos. Se calcula ponderando cada posible resultado por su probabilidad de ocurrencia y sumando estos valores ponderados.\n",
    "\n",
    "#### Pasos para Calcular el Valor Esperado\n",
    "\n",
    "1. **Identificar los Resultados y sus Probabilidades**:\n",
    "   - Cada posible resultado de un experimento o evento debe tener una probabilidad asociada.\n",
    "\n",
    "2. **Multiplicar Cada Resultado por su Probabilidad de Ocurrencia**:\n",
    "   - Para cada resultado, multiplicamos su valor por la probabilidad de que ocurra.\n",
    "\n",
    "3. **Sumar los Valores Ponderados**:\n",
    "   - Sumamos todos los valores ponderados obtenidos en el paso anterior para obtener el valor esperado.\n",
    "\n",
    "### Ejemplo Detallado: Juego de Lotería\n",
    "\n",
    "Supongamos que estamos analizando un simple juego de lotería. El costo de un boleto es $10, y hay tres posibles premios:\n",
    "- Un premio de \\$100 con una probabilidad de 1\\%.\n",
    "- Un premio de \\$50 con una probabilidad de 2\\%.\n",
    "- Un premio de \\$20 con una probabilidad de 5\\%.\n",
    "- No ganar nada con una probabilidad de 92\\%.\n",
    "\n",
    "Queremos calcular el valor esperado de las ganancias por boleto."
   ]
  },
  {
   "cell_type": "code",
   "execution_count": 76,
   "id": "ef50a142",
   "metadata": {},
   "outputs": [],
   "source": [
    "premios = [100, 50, 20, 0]\n",
    "probabilidades = [0.01, 0.02, 0.05, 0.92]"
   ]
  },
  {
   "cell_type": "markdown",
   "id": "954218f4-914e-45ca-aee8-cafe36109c9b",
   "metadata": {},
   "source": [
    "#### Paso 1: Identificar los Resultados y sus Probabilidades\n",
    "\n",
    "- Ganar \\$100: Probabilidad = 0.01\n",
    "- Ganar \\$50: Probabilidad = 0.02\n",
    "- Ganar \\$20: Probabilidad = 0.05\n",
    "- Ganar \\$0: Probabilidad = 0.92"
   ]
  },
  {
   "cell_type": "code",
   "execution_count": 79,
   "id": "1714336f",
   "metadata": {},
   "outputs": [
    {
     "data": {
      "text/plain": [
       "3.0"
      ]
     },
     "execution_count": 79,
     "metadata": {},
     "output_type": "execute_result"
    }
   ],
   "source": []
  },
  {
   "cell_type": "markdown",
   "id": "098e38ce-cf74-4596-8949-6be11211f69e",
   "metadata": {},
   "source": [
    "#### Paso 2: Multiplicar Cada Resultado por su Probabilidad de Ocurrencia"
   ]
  },
  {
   "cell_type": "markdown",
   "id": "404e4a92-a113-4a64-9802-681a362986db",
   "metadata": {},
   "source": [
    "| Ganancia ponderada por ganar | Fórmula              |\n",
    "|:-----------------------------:|:---------------------:|\n",
    "| \\$100                        | \\[ 100 \\times 0.01 = 1 \\]  |\n",
    "| \\$50                         | \\[ 50 \\times 0.02 = 1 \\]   |\n",
    "| \\$20                         | \\[ 20 \\times 0.05 = 1 \\]   |\n",
    "| \\$0                          | \\[ 0 \\times 0.92 = 0 \\]    |\n"
   ]
  },
  {
   "cell_type": "markdown",
   "id": "ee0daf71-a7f1-4357-a9dd-8872fb41300d",
   "metadata": {},
   "source": [
    "#### Paso 2: Multiplicar Cada Resultado por su Probabilidad de Ocurrencia\n",
    "\n",
    "- Ganancia ponderada por ganar \\$100:\n",
    "\n",
    "- Ganancia ponderada por ganar \\$50:\n",
    "\n",
    "- Ganancia ponderada por ganar \\$20:\n",
    "\n",
    "- Ganancia ponderada por ganar \\$0:\n"
   ]
  },
  {
   "cell_type": "markdown",
   "id": "0e9dab46",
   "metadata": {},
   "source": [
    "|         |          |\n",
    "|:-------:|:--------:|\n",
    "| \\[ 100 \\times 0.01 = 1 \\] | \n",
    "| \\[ 50 \\times 0.02 = 1 \\] |\n",
    "| \\[ 20 \\times 0.05 = 1 \\] |\n",
    "| \\[ 0 \\times 0.92 = 0 \\] |\n"
   ]
  },
  {
   "cell_type": "markdown",
   "id": "d924d96c-2960-449f-b022-7c454adcff9c",
   "metadata": {},
   "source": [
    "#### Paso 3: Sumar los Valores Ponderados\n",
    "\n",
    "Sumamos todas las ganancias ponderadas para obtener el valor esperado:\n",
    "| Cálculo                               | Resultado                  |\n",
    "|:-------------------------------------:|:---------------------------:|\n",
    "| Suma de todas las ganancias ponderadas | \\[ EV = 1 + 1 + 1 + 0 = 3 \\] |\n",
    "| Ganancia neta esperada (después de restar el costo del boleto) | \\[ EV_{\\text{neto}} = 3 - 10 = -7 \\] |\n"
   ]
  },
  {
   "cell_type": "code",
   "execution_count": 80,
   "id": "ba7b4d0c",
   "metadata": {},
   "outputs": [
    {
     "data": {
      "text/plain": [
       "3.0"
      ]
     },
     "execution_count": 80,
     "metadata": {},
     "output_type": "execute_result"
    }
   ],
   "source": [
    "valor_esperado = sum([premio * probabilidad for premio, probabilidad in zip(premios, probabilidades)])\n",
    "valor_esperado"
   ]
  },
  {
   "cell_type": "markdown",
   "id": "7ffdd7f3-ccc4-48b0-9018-8d363b74b79d",
   "metadata": {},
   "source": [
    "### Interpretación del Resultado\n",
    "\n",
    "El valor esperado neto de `-7 dolares` significa que, en promedio, se espera perder \\$7 por cada boleto comprado en este juego de lotería. Aunque es posible ganar dinero, las probabilidades están estructuradas de tal manera que las pérdidas promedio superan las ganancias promedio."
   ]
  },
  {
   "cell_type": "markdown",
   "id": "33c68c60-af9c-42e7-ae2d-9350a50af615",
   "metadata": {},
   "source": [
    "## <font color=violet>Aplicación del Valor Esperado en Negocios</font>\n",
    "***\n",
    "\n",
    "El valor esperado se utiliza ampliamente en negocios y finanzas para la toma de decisiones. Algunos ejemplos incluyen:\n",
    "- **Valoración de Proyectos**: Estimar los ingresos esperados de un nuevo proyecto o inversión.\n",
    "- **Gestión de Riesgos**: Calcular el valor esperado de pérdidas en escenarios de riesgo.\n",
    "- **Planificación de Presupuestos**: Prever los costos y beneficios futuros esperados para la planificación financiera.\n",
    "\n",
    "El valor esperado es una herramienta poderosa que ayuda a tomar decisiones informadas basadas en probabilidades y resultados ponderados."
   ]
  },
  {
   "cell_type": "markdown",
   "id": "9cc8e3e6-1987-4b10-8174-c2bd89b87cc8",
   "metadata": {},
   "source": [
    "## <font color=violet>Correlación</font>\n",
    "***\n",
    "\n",
    "El análisis exploratorio de datos  `EDA` en muchos proyectos de modelado (ya sea en ciencia de datos o en investigación) implica examinar la correlación entre predictores y una variable objetivo."
   ]
  },
  {
   "cell_type": "markdown",
   "id": "439f4e4f-4df6-459d-96c1-3e1ba50b70dd",
   "metadata": {},
   "source": [
    "### Términos Clave para la Correlación\n",
    "\n",
    "**Coeficiente de Correlación**\n",
    "Una métrica que mide la magnitud en la que las variables numéricas están asociadas entre sí (rango de –1 a +1).\n",
    "\n",
    "El coeficiente de correlación es una métrica que cuantifica la relación entre dos variables numéricas, se usa para determinar tanto la fuerza como la dirección de la relación lineal entre las variables.\n",
    "\n",
    "#### Valores del Coeficiente de Correlación\n",
    "\n",
    "- **+1**: Indica una correlación perfectamente positiva. A medida que una variable aumenta, la otra también aumenta en proporción constante. Todos los puntos en un gráfico de dispersión caerían exactamente en una línea recta ascendente.\n",
    "- **0**: Indica que no hay correlación lineal entre las variables. Los puntos en un gráfico de dispersión estarían dispersos de manera que no formarían ningún patrón lineal.\n",
    "- **-1**: Indica una correlación perfectamente negativa. A medida que una variable aumenta, la otra disminuye en proporción constante. Todos los puntos en un gráfico de dispersión caerían exactamente en una línea recta descendente.\n",
    "\n",
    "#### Interpretación de la Magnitud del Coeficiente de Correlación\n",
    "\n",
    "- **0.9 a 1.0 (o -0.9 a -1.0)**: Correlación muy fuerte\n",
    "- **0.7 a 0.9 (o -0.7 a -0.9)**: Correlación fuerte\n",
    "- **0.5 a 0.7 (o -0.5 a -0.7)**: Correlación moderada\n",
    "- **0.3 a 0.5 (o -0.3 a -0.5)**: Correlación débil\n",
    "- **0.0 a 0.3 (o 0.0 a -0.3)**: Correlación muy débil o inexistente"
   ]
  },
  {
   "cell_type": "markdown",
   "id": "4d8d4c66",
   "metadata": {},
   "source": [
    "### <font color=ciao>Fórmula del Coeficiente de Correlación de Pearson</font>\n",
    "***\n",
    "\n",
    "El coeficiente de correlación más comúnmente usado es el coeficiente de correlación de Pearson, que se calcula usando la siguiente fórmula:\n",
    "\n",
    "\\[\n",
    "\\begin{array}{l}\n",
    "r = \\frac{\\sum (x_i - \\bar{x})(y_i - \\bar{y})}{\\sqrt{\\sum (x_i - \\bar{x})^2 \\sum (y_i - \\bar{y})^2}}\n",
    "\\end{array}\n",
    "\\]\n",
    "\n",
    "donde:\n",
    "\n",
    "- \\( r \\) es el coeficiente de correlación de Pearson.\n",
    "- \\( x_i \\) y \\( y_i \\) son los valores individuales de las variables \\( X \\) e \\( Y \\).\n",
    "- \\( \\bar{x} \\) y \\( \\bar{y} \\) son las medias de las variables \\( X \\) e \\( Y \\), respectivamente.\n",
    "\n"
   ]
  },
  {
   "cell_type": "markdown",
   "id": "17913093-4c07-410f-98ef-9a98253c0bb7",
   "metadata": {},
   "source": [
    "**Matriz de Correlación**\n",
    "Una tabla donde las variables se muestran tanto en las filas como en las columnas, y los valores de las celdas son las correlaciones entre las variables.  \n",
    "\n",
    "La Tabla 1-7, llamada matriz de correlación, muestra la correlación entre los rendimientos diarios de las acciones de telecomunicaciones desde julio de 2012 hasta junio de 2015. En la tabla, se puede ver que Verizon (VZ) y ATT (T) tienen la correlación más alta. Level 3 (LVLT), que es una empresa de infraestructura, tiene la correlación más baja con las demás. Nota la diagonal de 1s (la correlación de una acción consigo misma es 1) y la redundancia de la información por encima y por debajo de la diagonal.\n",
    "\n",
    "### Tabla 1-7. Correlación entre los rendimientos de las acciones de telecomunicaciones\n",
    "\n",
    "|       | T     | CTL   | FTR   | VZ    | LVLT  |\n",
    "|-------|-------|-------|-------|-------|-------|\n",
    "| **T**   | 1.000 | 0.475 | 0.328 | 0.678 | 0.279 |\n",
    "| **CTL** | 0.475 | 1.000 | 0.420 | 0.417 | 0.287 |\n",
    "| **FTR** | 0.328 | 0.420 | 1.000 | 0.287 | 0.260 |\n",
    "| **VZ**  | 0.678 | 0.417 | 0.287 | 1.000 | 0.242 |\n",
    "| **LVLT**| 0.279 | 0.287 | 0.260 | 0.242 | 1.000 |\n",
    "\n",
    "\n",
    "\n",
    "La Tabla 1-7 muestra la correlación entre los rendimientos diarios de varias acciones de telecomunicaciones. A continuación se explican las siglas de las empresas que aparecen en la tabla:\n",
    "\n",
    "- **T**: AT&T Inc.\n",
    "  - AT&T es una de las compañías de telecomunicaciones más grandes del mundo, ofreciendo servicios de telefonía fija y móvil, así como servicios de internet y televisión.\n",
    "\n",
    "- **CTL**: CenturyLink, Inc.\n",
    "  - CenturyLink, ahora conocido como Lumen Technologies, es una empresa de telecomunicaciones que proporciona servicios de voz, datos y video en todo el mundo.\n",
    "\n",
    "- **FTR**: Frontier Communications Corporation\n",
    "  - Frontier Communications es una empresa de telecomunicaciones que ofrece servicios de voz, banda ancha y video, principalmente en áreas rurales y suburbanas de los Estados Unidos.\n",
    "\n",
    "- **VZ**: Verizon Communications Inc.\n",
    "  - Verizon es una empresa de telecomunicaciones que proporciona servicios de comunicación y tecnología, incluyendo servicios de telefonía móvil y fija, internet y televisión.\n",
    "\n",
    "- **LVLT**: Level 3 Communications, Inc.\n",
    "  - Level 3 Communications, ahora parte de CenturyLink (Lumen Technologies), es una empresa de infraestructura que ofrece servicios de red y datos a empresas, gobiernos y otros operadores de telecomunicaciones.\n",
    "\n",
    "Estas siglas representan algunas de las principales compañías de telecomunicaciones, y la tabla muestra cómo los rendimientos diarios de sus acciones están correlacionados entre sí.  "
   ]
  },
  {
   "cell_type": "markdown",
   "id": "1df55a77-0046-49a8-8a55-255582896097",
   "metadata": {},
   "source": [
    "Una tabla de correlaciones como la Tabla 1-7 se traza comúnmente para mostrar visualmente la relación entre múltiples variables. La Figura 1-6 muestra la correlación entre los rendimientos diarios de los principales fondos cotizados en bolsa (ETFs). El siguiente código demuestra esto utilizando el paquete `seaborn.heatmap`. \n"
   ]
  },
  {
   "cell_type": "code",
   "execution_count": 84,
   "id": "51d35261-6edf-4ab1-b7d9-4a6faf8970f2",
   "metadata": {},
   "outputs": [],
   "source": [
    "import seaborn as sns\n",
    "sp500_sym = pd.read_csv('Datos/sp500_sectors.csv')\n",
    "sp500_px = pd.read_csv('Datos/sp500_data.csv', index_col=0)"
   ]
  },
  {
   "cell_type": "code",
   "execution_count": 87,
   "id": "24a9869a-54a8-4f35-9147-843af59bd0ca",
   "metadata": {},
   "outputs": [
    {
     "data": {
      "text/html": [
       "<div>\n",
       "<style scoped>\n",
       "    .dataframe tbody tr th:only-of-type {\n",
       "        vertical-align: middle;\n",
       "    }\n",
       "\n",
       "    .dataframe tbody tr th {\n",
       "        vertical-align: top;\n",
       "    }\n",
       "\n",
       "    .dataframe thead th {\n",
       "        text-align: right;\n",
       "    }\n",
       "</style>\n",
       "<table border=\"1\" class=\"dataframe\">\n",
       "  <thead>\n",
       "    <tr style=\"text-align: right;\">\n",
       "      <th></th>\n",
       "      <th>T</th>\n",
       "      <th>CTL</th>\n",
       "      <th>FTR</th>\n",
       "      <th>VZ</th>\n",
       "      <th>LVLT</th>\n",
       "    </tr>\n",
       "  </thead>\n",
       "  <tbody>\n",
       "    <tr>\n",
       "      <th>2012-07-02</th>\n",
       "      <td>0.422496</td>\n",
       "      <td>0.140847</td>\n",
       "      <td>0.070879</td>\n",
       "      <td>0.554180</td>\n",
       "      <td>-0.519998</td>\n",
       "    </tr>\n",
       "    <tr>\n",
       "      <th>2012-07-03</th>\n",
       "      <td>-0.177448</td>\n",
       "      <td>0.066280</td>\n",
       "      <td>0.070879</td>\n",
       "      <td>-0.025976</td>\n",
       "      <td>-0.049999</td>\n",
       "    </tr>\n",
       "    <tr>\n",
       "      <th>2012-07-05</th>\n",
       "      <td>-0.160548</td>\n",
       "      <td>-0.132563</td>\n",
       "      <td>0.055128</td>\n",
       "      <td>-0.051956</td>\n",
       "      <td>-0.180000</td>\n",
       "    </tr>\n",
       "    <tr>\n",
       "      <th>2012-07-06</th>\n",
       "      <td>0.342205</td>\n",
       "      <td>0.132563</td>\n",
       "      <td>0.007875</td>\n",
       "      <td>0.140106</td>\n",
       "      <td>-0.359999</td>\n",
       "    </tr>\n",
       "    <tr>\n",
       "      <th>2012-07-09</th>\n",
       "      <td>0.136883</td>\n",
       "      <td>0.124279</td>\n",
       "      <td>-0.023626</td>\n",
       "      <td>0.253943</td>\n",
       "      <td>0.180000</td>\n",
       "    </tr>\n",
       "    <tr>\n",
       "      <th>...</th>\n",
       "      <td>...</td>\n",
       "      <td>...</td>\n",
       "      <td>...</td>\n",
       "      <td>...</td>\n",
       "      <td>...</td>\n",
       "    </tr>\n",
       "    <tr>\n",
       "      <th>2015-06-25</th>\n",
       "      <td>0.049342</td>\n",
       "      <td>-1.600000</td>\n",
       "      <td>-0.040000</td>\n",
       "      <td>-0.187790</td>\n",
       "      <td>-0.330002</td>\n",
       "    </tr>\n",
       "    <tr>\n",
       "      <th>2015-06-26</th>\n",
       "      <td>-0.256586</td>\n",
       "      <td>0.039999</td>\n",
       "      <td>-0.070000</td>\n",
       "      <td>0.029650</td>\n",
       "      <td>-0.739998</td>\n",
       "    </tr>\n",
       "    <tr>\n",
       "      <th>2015-06-29</th>\n",
       "      <td>-0.098685</td>\n",
       "      <td>-0.559999</td>\n",
       "      <td>-0.060000</td>\n",
       "      <td>-0.504063</td>\n",
       "      <td>-1.360000</td>\n",
       "    </tr>\n",
       "    <tr>\n",
       "      <th>2015-06-30</th>\n",
       "      <td>-0.503298</td>\n",
       "      <td>-0.420000</td>\n",
       "      <td>-0.070000</td>\n",
       "      <td>-0.523829</td>\n",
       "      <td>0.199997</td>\n",
       "    </tr>\n",
       "    <tr>\n",
       "      <th>2015-07-01</th>\n",
       "      <td>-0.019737</td>\n",
       "      <td>0.080000</td>\n",
       "      <td>-0.050000</td>\n",
       "      <td>0.355811</td>\n",
       "      <td>0.139999</td>\n",
       "    </tr>\n",
       "  </tbody>\n",
       "</table>\n",
       "<p>754 rows × 5 columns</p>\n",
       "</div>"
      ],
      "text/plain": [
       "                   T       CTL       FTR        VZ      LVLT\n",
       "2012-07-02  0.422496  0.140847  0.070879  0.554180 -0.519998\n",
       "2012-07-03 -0.177448  0.066280  0.070879 -0.025976 -0.049999\n",
       "2012-07-05 -0.160548 -0.132563  0.055128 -0.051956 -0.180000\n",
       "2012-07-06  0.342205  0.132563  0.007875  0.140106 -0.359999\n",
       "2012-07-09  0.136883  0.124279 -0.023626  0.253943  0.180000\n",
       "...              ...       ...       ...       ...       ...\n",
       "2015-06-25  0.049342 -1.600000 -0.040000 -0.187790 -0.330002\n",
       "2015-06-26 -0.256586  0.039999 -0.070000  0.029650 -0.739998\n",
       "2015-06-29 -0.098685 -0.559999 -0.060000 -0.504063 -1.360000\n",
       "2015-06-30 -0.503298 -0.420000 -0.070000 -0.523829  0.199997\n",
       "2015-07-01 -0.019737  0.080000 -0.050000  0.355811  0.139999\n",
       "\n",
       "[754 rows x 5 columns]"
      ]
     },
     "metadata": {},
     "output_type": "display_data"
    }
   ],
   "source": [
    "# Table 1-7\n",
    "# Determine telecommunications symbols\n",
    "telecomSymbols = sp500_sym[sp500_sym['sector'] == 'telecommunications_services']['symbol']\n",
    "\n",
    "# Filter data for dates July 2012 through June 2015\n",
    "telecom = sp500_px.loc[sp500_px.index >= '2012-07-01', telecomSymbols]\n",
    "telecom.corr()\n",
    "display(telecom)"
   ]
  },
  {
   "cell_type": "markdown",
   "id": "49759796-e13c-490d-b558-53b908ee6035",
   "metadata": {},
   "source": [
    "A continuación, nos enfocamos en los fondos negociados en las principales bolsas (sector == 'etf').\n"
   ]
  },
  {
   "cell_type": "code",
   "execution_count": 89,
   "id": "18e402a6-8527-4c5b-b793-b49e8a96ad17",
   "metadata": {},
   "outputs": [
    {
     "data": {
      "text/html": [
       "<div>\n",
       "<style scoped>\n",
       "    .dataframe tbody tr th:only-of-type {\n",
       "        vertical-align: middle;\n",
       "    }\n",
       "\n",
       "    .dataframe tbody tr th {\n",
       "        vertical-align: top;\n",
       "    }\n",
       "\n",
       "    .dataframe thead th {\n",
       "        text-align: right;\n",
       "    }\n",
       "</style>\n",
       "<table border=\"1\" class=\"dataframe\">\n",
       "  <thead>\n",
       "    <tr style=\"text-align: right;\">\n",
       "      <th></th>\n",
       "      <th>XLI</th>\n",
       "      <th>QQQ</th>\n",
       "      <th>SPY</th>\n",
       "      <th>DIA</th>\n",
       "      <th>GLD</th>\n",
       "      <th>VXX</th>\n",
       "      <th>USO</th>\n",
       "      <th>IWM</th>\n",
       "      <th>XLE</th>\n",
       "      <th>XLY</th>\n",
       "      <th>XLU</th>\n",
       "      <th>XLB</th>\n",
       "      <th>XTL</th>\n",
       "      <th>XLV</th>\n",
       "      <th>XLP</th>\n",
       "      <th>XLF</th>\n",
       "      <th>XLK</th>\n",
       "    </tr>\n",
       "  </thead>\n",
       "  <tbody>\n",
       "    <tr>\n",
       "      <th>2012-07-02</th>\n",
       "      <td>-0.376098</td>\n",
       "      <td>0.096313</td>\n",
       "      <td>0.028223</td>\n",
       "      <td>-0.242796</td>\n",
       "      <td>0.419998</td>\n",
       "      <td>-10.40</td>\n",
       "      <td>0.000000</td>\n",
       "      <td>0.534641</td>\n",
       "      <td>0.028186</td>\n",
       "      <td>0.095759</td>\n",
       "      <td>0.098311</td>\n",
       "      <td>-0.093713</td>\n",
       "      <td>0.019076</td>\n",
       "      <td>-0.009529</td>\n",
       "      <td>0.313499</td>\n",
       "      <td>0.018999</td>\n",
       "      <td>0.075668</td>\n",
       "    </tr>\n",
       "    <tr>\n",
       "      <th>2012-07-03</th>\n",
       "      <td>0.376099</td>\n",
       "      <td>0.481576</td>\n",
       "      <td>0.874936</td>\n",
       "      <td>0.728405</td>\n",
       "      <td>0.490006</td>\n",
       "      <td>-3.52</td>\n",
       "      <td>0.250000</td>\n",
       "      <td>0.926067</td>\n",
       "      <td>0.995942</td>\n",
       "      <td>0.000000</td>\n",
       "      <td>-0.044686</td>\n",
       "      <td>0.337373</td>\n",
       "      <td>0.000000</td>\n",
       "      <td>0.000000</td>\n",
       "      <td>0.129087</td>\n",
       "      <td>0.104492</td>\n",
       "      <td>0.236462</td>\n",
       "    </tr>\n",
       "    <tr>\n",
       "      <th>2012-07-05</th>\n",
       "      <td>0.150440</td>\n",
       "      <td>0.096313</td>\n",
       "      <td>-0.103487</td>\n",
       "      <td>0.149420</td>\n",
       "      <td>0.239991</td>\n",
       "      <td>6.56</td>\n",
       "      <td>-0.070000</td>\n",
       "      <td>-0.171848</td>\n",
       "      <td>-0.460387</td>\n",
       "      <td>0.306431</td>\n",
       "      <td>-0.151938</td>\n",
       "      <td>0.103086</td>\n",
       "      <td>0.019072</td>\n",
       "      <td>-0.142955</td>\n",
       "      <td>-0.073766</td>\n",
       "      <td>-0.142490</td>\n",
       "      <td>0.066211</td>\n",
       "    </tr>\n",
       "    <tr>\n",
       "      <th>2012-07-06</th>\n",
       "      <td>-0.141040</td>\n",
       "      <td>-0.491201</td>\n",
       "      <td>0.018819</td>\n",
       "      <td>-0.205449</td>\n",
       "      <td>-0.519989</td>\n",
       "      <td>-8.80</td>\n",
       "      <td>-0.180000</td>\n",
       "      <td>-0.229128</td>\n",
       "      <td>0.206706</td>\n",
       "      <td>0.153214</td>\n",
       "      <td>0.080437</td>\n",
       "      <td>0.018744</td>\n",
       "      <td>-0.429213</td>\n",
       "      <td>-0.095304</td>\n",
       "      <td>0.119865</td>\n",
       "      <td>0.066495</td>\n",
       "      <td>-0.227003</td>\n",
       "    </tr>\n",
       "    <tr>\n",
       "      <th>2012-07-09</th>\n",
       "      <td>0.244465</td>\n",
       "      <td>-0.048160</td>\n",
       "      <td>-0.056445</td>\n",
       "      <td>-0.168094</td>\n",
       "      <td>0.429992</td>\n",
       "      <td>-0.48</td>\n",
       "      <td>0.459999</td>\n",
       "      <td>-0.190939</td>\n",
       "      <td>-0.234892</td>\n",
       "      <td>-0.201098</td>\n",
       "      <td>-0.035751</td>\n",
       "      <td>-0.168687</td>\n",
       "      <td>0.000000</td>\n",
       "      <td>0.352630</td>\n",
       "      <td>-0.064548</td>\n",
       "      <td>0.018999</td>\n",
       "      <td>0.009457</td>\n",
       "    </tr>\n",
       "  </tbody>\n",
       "</table>\n",
       "</div>"
      ],
      "text/plain": [
       "                 XLI       QQQ       SPY       DIA       GLD    VXX       USO  \\\n",
       "2012-07-02 -0.376098  0.096313  0.028223 -0.242796  0.419998 -10.40  0.000000   \n",
       "2012-07-03  0.376099  0.481576  0.874936  0.728405  0.490006  -3.52  0.250000   \n",
       "2012-07-05  0.150440  0.096313 -0.103487  0.149420  0.239991   6.56 -0.070000   \n",
       "2012-07-06 -0.141040 -0.491201  0.018819 -0.205449 -0.519989  -8.80 -0.180000   \n",
       "2012-07-09  0.244465 -0.048160 -0.056445 -0.168094  0.429992  -0.48  0.459999   \n",
       "\n",
       "                 IWM       XLE       XLY       XLU       XLB       XTL  \\\n",
       "2012-07-02  0.534641  0.028186  0.095759  0.098311 -0.093713  0.019076   \n",
       "2012-07-03  0.926067  0.995942  0.000000 -0.044686  0.337373  0.000000   \n",
       "2012-07-05 -0.171848 -0.460387  0.306431 -0.151938  0.103086  0.019072   \n",
       "2012-07-06 -0.229128  0.206706  0.153214  0.080437  0.018744 -0.429213   \n",
       "2012-07-09 -0.190939 -0.234892 -0.201098 -0.035751 -0.168687  0.000000   \n",
       "\n",
       "                 XLV       XLP       XLF       XLK  \n",
       "2012-07-02 -0.009529  0.313499  0.018999  0.075668  \n",
       "2012-07-03  0.000000  0.129087  0.104492  0.236462  \n",
       "2012-07-05 -0.142955 -0.073766 -0.142490  0.066211  \n",
       "2012-07-06 -0.095304  0.119865  0.066495 -0.227003  \n",
       "2012-07-09  0.352630 -0.064548  0.018999  0.009457  "
      ]
     },
     "metadata": {},
     "output_type": "display_data"
    }
   ],
   "source": [
    "etfs = sp500_px.loc[sp500_px.index > '2012-07-01', sp500_sym[sp500_sym['sector'] == 'etf']['symbol']]\n",
    "display(etfs.head())"
   ]
  },
  {
   "cell_type": "code",
   "execution_count": 90,
   "id": "da2e5760-c9c2-465d-af7f-aba29a6409e1",
   "metadata": {},
   "outputs": [
    {
     "data": {
      "image/png": "[encoded data removed]",
      "text/plain": [
       "<Figure size 500x400 with 2 Axes>"
      ]
     },
     "metadata": {},
     "output_type": "display_data"
    }
   ],
   "source": [
    "fig, ax = plt.subplots(figsize=(5, 4))\n",
    "ax = sns.heatmap(etfs.corr(), vmin=-1, vmax=1, \n",
    "                 cmap=sns.diverging_palette(20, 220, as_cmap=True),\n",
    "                 ax=ax)\n",
    "\n",
    "plt.tight_layout()\n",
    "plt.show()"
   ]
  },
  {
   "cell_type": "markdown",
   "id": "e396492f-d28c-436d-9cb6-c335dc0b9e00",
   "metadata": {},
   "source": [
    "Los ETFs para el S&P 500 (SPY) y el índice Dow Jones (DIA) tienen una alta correlación. Del mismo modo, el QQQ y el XLK, compuestos principalmente por empresas tecnológicas, están positivamente correlacionados. Los ETFs defensivos, como los que rastrean los precios del oro (GLD), los precios del petróleo (USO) o la volatilidad del mercado (VXX), tienden a estar débilmente o negativamente correlacionados con los otros ETFs. "
   ]
  },
  {
   "cell_type": "code",
   "execution_count": 92,
   "id": "16fdd8f8-c85a-4f71-b68f-67faca8eb0ba",
   "metadata": {},
   "outputs": [
    {
     "name": "stderr",
     "output_type": "stream",
     "text": [
      "C:\\Users\\CursosTardes\\AppData\\Local\\Temp\\ipykernel_19736\\1398409197.py:39: UserWarning: Adding colorbar to a different Figure <Figure size 500x400 with 2 Axes> than <Figure size 500x400 with 2 Axes> which fig.colorbar is called on.\n",
      "  cb = fig.colorbar(m, ax=ax)\n"
     ]
    },
    {
     "data": {
      "image/png": "[encoded data removed]",
      "text/plain": [
       "<Figure size 500x400 with 2 Axes>"
      ]
     },
     "metadata": {},
     "output_type": "display_data"
    }
   ],
   "source": [
    "import numpy as np\n",
    "from matplotlib.collections import EllipseCollection\n",
    "from matplotlib.colors import Normalize\n",
    "\n",
    "def plot_corr_ellipses(data, figsize=None, **kwargs):\n",
    "    ''' https://stackoverflow.com/a/34558488 '''\n",
    "    M = np.array(data)\n",
    "    if not M.ndim == 2:\n",
    "        raise ValueError('data must be a 2D array')\n",
    "    fig, ax = plt.subplots(1, 1, figsize=figsize, subplot_kw={'aspect':'equal'})\n",
    "    ax.set_xlim(-0.5, M.shape[1] - 0.5)\n",
    "    ax.set_ylim(-0.5, M.shape[0] - 0.5)\n",
    "    ax.invert_yaxis()\n",
    "\n",
    "    # xy locations of each ellipse center\n",
    "    xy = np.indices(M.shape)[::-1].reshape(2, -1).T\n",
    "\n",
    "    # set the relative sizes of the major/minor axes according to the strength of\n",
    "    # the positive/negative correlation\n",
    "    w = np.ones_like(M).ravel() + 0.01\n",
    "    h = 1 - np.abs(M).ravel() - 0.01\n",
    "    a = 45 * np.sign(M).ravel()\n",
    "\n",
    "    ec = EllipseCollection(widths=w, heights=h, angles=a, units='x', offsets=xy,\n",
    "                           norm=Normalize(vmin=-1, vmax=1),\n",
    "                           transOffset=ax.transData, array=M.ravel(), **kwargs)\n",
    "    ax.add_collection(ec)\n",
    "\n",
    "    # if data is a DataFrame, use the row/column names as tick labels\n",
    "    if isinstance(data, pd.DataFrame):\n",
    "        ax.set_xticks(np.arange(M.shape[1]))\n",
    "        ax.set_xticklabels(data.columns, rotation=90)\n",
    "        ax.set_yticks(np.arange(M.shape[0]))\n",
    "        ax.set_yticklabels(data.index)\n",
    "\n",
    "    return ec, ax\n",
    "\n",
    "m, ax = plot_corr_ellipses(etfs.corr(), figsize=(5, 4), cmap='bwr_r')\n",
    "cb = fig.colorbar(m, ax=ax)\n",
    "cb.set_label('Correlation coefficient')\n",
    "\n",
    "plt.tight_layout()\n",
    "plt.show()"
   ]
  },
  {
   "cell_type": "markdown",
   "id": "7601c4d8-543d-4e5f-9de1-b2844b8965de",
   "metadata": {},
   "source": [
    "La orientación de la elipse indica si dos variables están positivamente correlacionadas (la elipse apunta hacia la parte superior derecha) o negativamente correlacionadas (la elipse apunta hacia la parte superior izquierda). El sombreado y el ancho de la elipse indican la fuerza de la asociación: las elipses más delgadas y oscuras corresponden a relaciones más fuertes.\n"
   ]
  },
  {
   "cell_type": "markdown",
   "id": "4a89b024-2568-46df-8e8e-0b2b312eb9fa",
   "metadata": {},
   "source": [
    "Al igual que la media y la desviación estándar, el coeficiente de correlación es sensible a los valores atípicos en los datos. Los paquetes de software ofrecen alternativas robustas al coeficiente de correlación clásico.Los métodos en el módulo sklearn.covariance de scikit-learn implementan una variedad de enfoques.\n"
   ]
  },
  {
   "cell_type": "markdown",
   "id": "93997a74-b07f-4584-b24d-abf25c15a355",
   "metadata": {},
   "source": [
    "Los estadísticos propusieron otros tipos de coeficientes de correlación, como el rho de Spearman o el tau de Kendall. Estos son coeficientes de correlación basados en el rango de los datos.Los rangos son posiciones de los datos cuando se ordenan de menor a mayor. Dado que trabajan con rangos en lugar de valores, estas estimaciones son robustas frente a valores atípicos y pueden manejar ciertos tipos de no linealidades. Sin embargo, los científicos de datos generalmente pueden ceñirse al coeficiente de correlación de Pearson y sus alternativas robustas para el análisis exploratorio. El atractivo de las estimaciones basadas en rangos es principalmente para conjuntos de datos más pequeños y pruebas de hipótesis específicas.\n"
   ]
  },
  {
   "cell_type": "markdown",
   "id": "22f33141-add4-4253-bcba-632e56e1f4e4",
   "metadata": {},
   "source": [
    "**Gráfico de Dispersión (Scatterplot)**\n",
    "Un gráfico en el que el eje x representa el valor de una variable, y el eje y representa el valor de otra variable. Vea la Figura 1-7 para un gráfico de la correlación entre los rendimientos diarios de ATT y Verizon."
   ]
  },
  {
   "cell_type": "markdown",
   "id": "4797c3ea-2f50-44e8-8e08-6b3c52dbd4b0",
   "metadata": {},
   "source": [
    "Los gráficos de dispersión simples son compatibles con pandas. Especificar el marcador como `$\\u25EF$` usa un círculo abierto para cada punto.\n"
   ]
  },
  {
   "cell_type": "code",
   "execution_count": 93,
   "id": "533ada7a-82f6-41d3-b373-84c645dd65de",
   "metadata": {},
   "outputs": [
    {
     "data": {
      "image/png": "[encoded data removed]",
      "text/plain": [
       "<Figure size 400x400 with 1 Axes>"
      ]
     },
     "metadata": {},
     "output_type": "display_data"
    },
    {
     "data": {
      "text/plain": [
       "Text(0.5, 1.0, 'Fig 1-7')"
      ]
     },
     "execution_count": 93,
     "metadata": {},
     "output_type": "execute_result"
    }
   ],
   "source": [
    "ax = telecom.plot.scatter(x='T', y='VZ', figsize=(4, 4), marker='$\\u25EF$')\n",
    "ax.set_xlabel('ATT (T)')\n",
    "ax.set_ylabel('Verizon (VZ)')\n",
    "ax.axhline(0, color='grey', lw=1)\n",
    "ax.axvline(0, color='grey', lw=1)\n",
    "\n",
    "plt.tight_layout()\n",
    "plt.show()\n",
    "ax.set_title('Fig 1-7')"
   ]
  },
  {
   "cell_type": "code",
   "execution_count": null,
   "id": "77080274-d9b7-42a8-8f67-cd7065252f96",
   "metadata": {},
   "outputs": [],
   "source": []
  }
 ],
 "metadata": {
  "kernelspec": {
   "display_name": "Python 3 (ipykernel)",
   "language": "python",
   "name": "python3"
  },
  "language_info": {
   "codemirror_mode": {
    "name": "ipython",
    "version": 3
   },
   "file_extension": ".py",
   "mimetype": "text/x-python",
   "name": "python",
   "nbconvert_exporter": "python",
   "pygments_lexer": "ipython3",
   "version": "3.11.9"
  }
 },
 "nbformat": 4,
 "nbformat_minor": 5
}
