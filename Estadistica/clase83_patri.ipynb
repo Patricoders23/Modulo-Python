{
 "cells": [
  {
   "cell_type": "markdown",
   "metadata": {},
   "source": [
    "--------------------------------------\n",
    "# ESTADÍSTICA DESCRIPTIVA \n",
    "-------------------------------------------"
   ]
  },
  {
   "cell_type": "code",
   "execution_count": 1,
   "metadata": {},
   "outputs": [],
   "source": [
    "import numpy as np\n",
    "import pandas as pd\n",
    "import matplotlib as plt\n",
    "import seaborn as sns"
   ]
  },
  {
   "cell_type": "code",
   "execution_count": 2,
   "metadata": {},
   "outputs": [],
   "source": [
    "from scipy import stats \n",
    "import statsmodels as sm\n",
    "import pingouin as pg \n"
   ]
  },
  {
   "cell_type": "markdown",
   "metadata": {},
   "source": [
    "# 1.1 Estimaciones de Ubicación (o medidas de tendencia central)\n",
    "\n",
    "La tendencia central describe la distribución de los datos concentrándose en la locación central en torno al cual se agrupan todos los demás datos. Es lo contrario de la dispersión.\n",
    "\n",
    "## Términos Clave para Estimaciones de Ubicación\n",
    "\n",
    "- **Media**: La suma de todos los valores dividida por el número de valores.\n",
    "  - Sinónimo: promedio\n",
    "\n",
    "- **Media ponderada**: La suma de todos los valores multiplicados por un peso dividida por la suma de los pesos.\n",
    "  - Sinónimo: promedio ponderado\n",
    "\n",
    "- **Mediana**: El valor tal que la mitad de los datos está por encima y por debajo.\n",
    "  - Sinónimo: percentil 50\n",
    "\n",
    "- **Percentil**: El valor tal que P por ciento de los datos está por debajo.\n",
    "  - Sinónimo: cuantil\n",
    "\n",
    "- **Mediana ponderada**: El valor tal que la mitad de la suma de los pesos está por encima y por debajo de los datos ordenados.\n",
    "\n",
    "- **Media recortada**: El promedio de todos los valores después de eliminar un número fijo de valores extremos.\n",
    "  - Sinónimo: media truncada\n",
    "\n",
    "- **Robusto**: No sensible a valores extremos.\n",
    "  - Sinónimo: resistente\n",
    "\n",
    "- **Valor atípico**: Un valor de datos que es muy diferente de la mayoría de los datos.\n",
    "  - Sinónimo: valor extremo\n",
    "\n"
   ]
  },
  {
   "cell_type": "markdown",
   "metadata": {},
   "source": [
    "## Métricas y Estimaciones\n",
    "\n",
    "### Media\n",
    "\n",
    "La estimación más básica de la ubicación es la media, o valor promedio. La media es la suma de todos los valores dividida por el número de valores. Considera el siguiente conjunto de números: {3, 5, 1, 2}. La media es:\n",
    "\n",
    "$ \\text{Media} = \\frac{3 + 5 + 1 + 2}{4} = \\frac{11}{4} = 2.75 $\n",
    "\n",
    "Verás que se usa el símbolo $\\bar{x}$ (pronunciado \"x-barra\") para representar la media de una muestra de una población. La fórmula para calcular la media para un conjunto de $n$ valores $x_1, x_2, \\ldots, x_n$ es:\n",
    "\n",
    "$ \\bar{x} = \\frac{1}{n} \\sum_{i=1}^n x_i $\n",
    "\n",
    "Calculo la media con: \n",
    "\n",
    "> 1.SciPy \n",
    "\n",
    "> 2.Pandas \n",
    "\n",
    "> 3.Statmodels"
   ]
  },
  {
   "cell_type": "code",
   "execution_count": 3,
   "metadata": {},
   "outputs": [],
   "source": [
    "import statsmodels.api as sm\n",
    "from scipy import stats\n",
    "import pandas as pd\n",
    "import numpy as np"
   ]
  },
  {
   "cell_type": "code",
   "execution_count": 4,
   "metadata": {},
   "outputs": [
    {
     "name": "stdout",
     "output_type": "stream",
     "text": [
      "Array de m: \n",
      " [9 8 7 6 5 4 3 2 1]\n",
      "El dataframe: \n",
      "    values\n",
      "0       9\n",
      "1       8\n",
      "2       7\n",
      "3       6\n",
      "4       5\n",
      "5       4\n",
      "6       3\n",
      "7       2\n",
      "8       1\n"
     ]
    }
   ],
   "source": [
    "m = np.array([9,8,7,6,5,4,3,2,1])\n",
    "print(f'Array de m: \\n', m)\n",
    "\n",
    "df = pd.DataFrame({'values': [9,8,7,6,5,4,3,2,1]})\n",
    "print(f'El dataframe: \\n', df)"
   ]
  },
  {
   "cell_type": "code",
   "execution_count": 5,
   "metadata": {},
   "outputs": [
    {
     "name": "stdout",
     "output_type": "stream",
     "text": [
      "Media usando SciPy: 5.0\n",
      "\n",
      "Media usando Pandas: 5.0\n",
      "\n",
      "El dataframe  agregado la columna intercept para calcular la media con statmodels: \n",
      "    values  intercept\n",
      "0       9          1\n",
      "1       8          1\n",
      "2       7          1\n",
      "3       6          1\n",
      "4       5          1\n",
      "5       4          1\n",
      "6       3          1\n",
      "7       2          1\n",
      "8       1          1\n",
      "\n",
      "Media usando Statsmodels: 4.999999999999999\n"
     ]
    }
   ],
   "source": [
    "# Media con SciPy \n",
    "mean_scipy = np.mean(m)\n",
    "print(\"Media usando SciPy:\", mean_scipy)\n",
    "\n",
    "# Media con Pandas \n",
    "mean_pandas = df['values'].mean()\n",
    "print(\"\\nMedia usando Pandas:\", mean_pandas)\n",
    "\n",
    "# Media con statmodels\n",
    "df['intercept'] = 1 \n",
    "print('\\nEl dataframe  agregado la columna intercept para calcular la media con statmodels: \\n', df)\n",
    "\n",
    "model = sm.OLS(df['values'], df['intercept']).fit() #Ajustar un modelo de regresión sin variables explicativas  \n",
    "\n",
    "mean_statmodels = model.params['intercept']\n",
    "print(\"\\nMedia usando Statsmodels:\", mean_statmodels)    "
   ]
  },
  {
   "cell_type": "markdown",
   "metadata": {},
   "source": [
    "### Media Recortada = trimmed mean\n",
    "\n",
    "Se calcula eliminando un número fijo de valores ordenados en cada extremo y luego tomando un promedio de los valores restantes. Representando los valores ordenados por $x_1, x_2, \\ldots, x_n$ donde $x_1$ es el valor más pequeño y $x_n$ el más grande. \n",
    "\n",
    "La fórmula para calcular la media recortada con $p$ valores más pequeños y más grandes omitidos es:\n",
    "\n",
    "$\\bar{x}_{\\text{recortada}} = \\frac{1}{n - 2p} \\sum_{i=p+1}^{n-p} x_i$\n",
    "\n",
    "Una media recortada elimina la influencia de valores extremos.\n",
    "\n",
    "Calculo la media recortada con: \n",
    "\n",
    "> 1.SciPy \n",
    "\n",
    "> 2.Pandas \n",
    "\n",
    "> 3.Statmodels"
   ]
  },
  {
   "cell_type": "code",
   "execution_count": 6,
   "metadata": {},
   "outputs": [],
   "source": [
    "from scipy.stats import trim_mean\n",
    "import statsmodels.api as sm"
   ]
  },
  {
   "cell_type": "code",
   "execution_count": 7,
   "metadata": {},
   "outputs": [
    {
     "name": "stdout",
     "output_type": "stream",
     "text": [
      "Array de r: \n",
      " [9 8 7 6 5 4 3 2 1]\n",
      "\n",
      "El dataframe, df: \n",
      "    values\n",
      "0       9\n",
      "1       8\n",
      "2       7\n",
      "3       6\n",
      "4       5\n",
      "5       4\n",
      "6       3\n",
      "7       2\n",
      "8       1\n"
     ]
    }
   ],
   "source": [
    "r = np.array([9,8,7,6,5,4,3,2,1])\n",
    "print(f'Array de r: \\n', r)\n",
    "\n",
    "df = pd.DataFrame({'values': [9,8,7,6,5,4,3,2,1]})\n",
    "print(f'\\nEl dataframe, df: \\n', df)"
   ]
  },
  {
   "cell_type": "code",
   "execution_count": 8,
   "metadata": {},
   "outputs": [
    {
     "name": "stdout",
     "output_type": "stream",
     "text": [
      "Media recortada usando SciPy: 5.0\n",
      "\n",
      "Media recortada usando Pandas: 4.5\n",
      "\n",
      "Media recortada usando una función personalizada con Statsmodels: 5.0\n"
     ]
    }
   ],
   "source": [
    "# Media recortada con SciPy\n",
    "trimmed_mean_scipy = trim_mean(r, 0.1) #Recorta el 10% de cada extremo \n",
    "print(\"Media recortada usando SciPy:\", trimmed_mean_scipy)\n",
    "\n",
    "# Media recortada con Pandas \n",
    "\n",
    "#Selecciona el 80% central de los datos (desde el 10% hasta el 90%) utilizando iloc\n",
    "trimmed_df = df['values'].sort_values().iloc[int(0.1*len(df)):int(0.9*len(df))]\n",
    "trimmed_mean_pandas = trimmed_df.mean()\n",
    "print(\"\\nMedia recortada usando Pandas:\", trimmed_mean_pandas)\n",
    "\n",
    "#Media recortada con Statsmodels \n",
    "def trimmed_mean(data, proportiontocut): \n",
    "    n = len(data)\n",
    "    k = int(n * proportiontocut)\n",
    "    trimmed_data = np.sort(data)[k:n-k]\n",
    "    return np.mean(trimmed_data)\n",
    "\n",
    "trimmed_mean_statsmodels = trimmed_mean(df['values'], 0.1)\n",
    "print(\"\\nMedia recortada usando una función personalizada con Statsmodels:\", trimmed_mean_statsmodels)"
   ]
  },
  {
   "cell_type": "markdown",
   "metadata": {},
   "source": [
    "### Media Ponderada = weighted mean\n",
    "\n",
    "Se calcula multiplicando cada valor de datos $x_i$ por un peso especificado por el usuario $w_i$ y dividiendo su suma por la suma de los pesos. La fórmula para una media ponderada es:\n",
    "\n",
    "$\\bar{x}_w = \\frac{\\sum_{i=1}^n w_i x_i}{\\sum_{i=1}^n w_i}$\n",
    "\n",
    "Calculo la media ponderada con: \n",
    "\n",
    "> 1.SciPy \n",
    "\n",
    "> 2.Pandas \n",
    "\n",
    "> 3.Statmodels\n"
   ]
  },
  {
   "cell_type": "code",
   "execution_count": 9,
   "metadata": {},
   "outputs": [],
   "source": [
    "from scipy.stats import describe"
   ]
  },
  {
   "cell_type": "code",
   "execution_count": 10,
   "metadata": {},
   "outputs": [
    {
     "name": "stdout",
     "output_type": "stream",
     "text": [
      "El array de values: \n",
      " [9 8 7 6 5 4 3 2 1]\n",
      "El array de weights: \n",
      " [2 2 2 2 1 1 1 1 2]\n",
      "----------------------------------\n",
      "El dataframe, df: \n",
      "    values  weights\n",
      "0       9        2\n",
      "1       8        2\n",
      "2       7        2\n",
      "3       6        2\n",
      "4       5        1\n",
      "5       4        1\n",
      "6       3        1\n",
      "7       2        1\n",
      "8       1        2\n"
     ]
    }
   ],
   "source": [
    "values = np.array([9,8,7,6,5,4,3,2,1])\n",
    "weights = np.array([2,2,2,2,1,1,1,1,2]) # 5 valores tiene un peso de 2 y 4 un peso de 1\n",
    "\n",
    "print('El array de values: \\n', values) \n",
    "print('El array de weights: \\n', weights) \n",
    "print('----------------------------------')\n",
    "\n",
    "df3 = pd.DataFrame({'values': [9,8,7,6,5,4,3,2,1],\n",
    "                    'weights': [2,2,2,2,1,1,1,1,2]})\n",
    "print('El dataframe, df: \\n', df3)"
   ]
  },
  {
   "cell_type": "code",
   "execution_count": 11,
   "metadata": {},
   "outputs": [
    {
     "name": "stdout",
     "output_type": "stream",
     "text": [
      "Media ponderada usando SciPy: 5.428571428571429\n"
     ]
    },
    {
     "ename": "KeyError",
     "evalue": "'weights'",
     "output_type": "error",
     "traceback": [
      "\u001b[1;31m---------------------------------------------------------------------------\u001b[0m",
      "\u001b[1;31mKeyError\u001b[0m                                  Traceback (most recent call last)",
      "File \u001b[1;32m~\\AppData\\Roaming\\Python\\Python311\\site-packages\\pandas\\core\\indexes\\base.py:3805\u001b[0m, in \u001b[0;36mIndex.get_loc\u001b[1;34m(self, key)\u001b[0m\n\u001b[0;32m   3804\u001b[0m \u001b[38;5;28;01mtry\u001b[39;00m:\n\u001b[1;32m-> 3805\u001b[0m     \u001b[38;5;28;01mreturn\u001b[39;00m \u001b[38;5;28;43mself\u001b[39;49m\u001b[38;5;241;43m.\u001b[39;49m\u001b[43m_engine\u001b[49m\u001b[38;5;241;43m.\u001b[39;49m\u001b[43mget_loc\u001b[49m\u001b[43m(\u001b[49m\u001b[43mcasted_key\u001b[49m\u001b[43m)\u001b[49m\n\u001b[0;32m   3806\u001b[0m \u001b[38;5;28;01mexcept\u001b[39;00m \u001b[38;5;167;01mKeyError\u001b[39;00m \u001b[38;5;28;01mas\u001b[39;00m err:\n",
      "File \u001b[1;32mindex.pyx:167\u001b[0m, in \u001b[0;36mpandas._libs.index.IndexEngine.get_loc\u001b[1;34m()\u001b[0m\n",
      "File \u001b[1;32mindex.pyx:196\u001b[0m, in \u001b[0;36mpandas._libs.index.IndexEngine.get_loc\u001b[1;34m()\u001b[0m\n",
      "File \u001b[1;32mpandas\\\\_libs\\\\hashtable_class_helper.pxi:7081\u001b[0m, in \u001b[0;36mpandas._libs.hashtable.PyObjectHashTable.get_item\u001b[1;34m()\u001b[0m\n",
      "File \u001b[1;32mpandas\\\\_libs\\\\hashtable_class_helper.pxi:7089\u001b[0m, in \u001b[0;36mpandas._libs.hashtable.PyObjectHashTable.get_item\u001b[1;34m()\u001b[0m\n",
      "\u001b[1;31mKeyError\u001b[0m: 'weights'",
      "\nThe above exception was the direct cause of the following exception:\n",
      "\u001b[1;31mKeyError\u001b[0m                                  Traceback (most recent call last)",
      "Cell \u001b[1;32mIn[11], line 6\u001b[0m\n\u001b[0;32m      3\u001b[0m \u001b[38;5;28mprint\u001b[39m(\u001b[38;5;124m\"\u001b[39m\u001b[38;5;124mMedia ponderada usando SciPy:\u001b[39m\u001b[38;5;124m\"\u001b[39m, weighted_mean_scipy)\n\u001b[0;32m      5\u001b[0m \u001b[38;5;66;03m# Media Ponderada con Pandas \u001b[39;00m\n\u001b[1;32m----> 6\u001b[0m weighted_mean_pandas \u001b[38;5;241m=\u001b[39m np\u001b[38;5;241m.\u001b[39maverage(df3[\u001b[38;5;124m'\u001b[39m\u001b[38;5;124mvalues\u001b[39m\u001b[38;5;124m'\u001b[39m], weights\u001b[38;5;241m=\u001b[39m\u001b[43mdf\u001b[49m\u001b[43m[\u001b[49m\u001b[38;5;124;43m'\u001b[39;49m\u001b[38;5;124;43mweights\u001b[39;49m\u001b[38;5;124;43m'\u001b[39;49m\u001b[43m]\u001b[49m)\n\u001b[0;32m      7\u001b[0m \u001b[38;5;28mprint\u001b[39m(\u001b[38;5;124m\"\u001b[39m\u001b[38;5;130;01m\\n\u001b[39;00m\u001b[38;5;124mMedia ponderada usando Pandas:\u001b[39m\u001b[38;5;124m\"\u001b[39m, weighted_mean_pandas)\n\u001b[0;32m      8\u001b[0m \u001b[38;5;28mprint\u001b[39m(\u001b[38;5;124m'\u001b[39m\u001b[38;5;124m---------------------------------------------\u001b[39m\u001b[38;5;124m'\u001b[39m)\n",
      "File \u001b[1;32m~\\AppData\\Roaming\\Python\\Python311\\site-packages\\pandas\\core\\frame.py:4102\u001b[0m, in \u001b[0;36mDataFrame.__getitem__\u001b[1;34m(self, key)\u001b[0m\n\u001b[0;32m   4100\u001b[0m \u001b[38;5;28;01mif\u001b[39;00m \u001b[38;5;28mself\u001b[39m\u001b[38;5;241m.\u001b[39mcolumns\u001b[38;5;241m.\u001b[39mnlevels \u001b[38;5;241m>\u001b[39m \u001b[38;5;241m1\u001b[39m:\n\u001b[0;32m   4101\u001b[0m     \u001b[38;5;28;01mreturn\u001b[39;00m \u001b[38;5;28mself\u001b[39m\u001b[38;5;241m.\u001b[39m_getitem_multilevel(key)\n\u001b[1;32m-> 4102\u001b[0m indexer \u001b[38;5;241m=\u001b[39m \u001b[38;5;28;43mself\u001b[39;49m\u001b[38;5;241;43m.\u001b[39;49m\u001b[43mcolumns\u001b[49m\u001b[38;5;241;43m.\u001b[39;49m\u001b[43mget_loc\u001b[49m\u001b[43m(\u001b[49m\u001b[43mkey\u001b[49m\u001b[43m)\u001b[49m\n\u001b[0;32m   4103\u001b[0m \u001b[38;5;28;01mif\u001b[39;00m is_integer(indexer):\n\u001b[0;32m   4104\u001b[0m     indexer \u001b[38;5;241m=\u001b[39m [indexer]\n",
      "File \u001b[1;32m~\\AppData\\Roaming\\Python\\Python311\\site-packages\\pandas\\core\\indexes\\base.py:3812\u001b[0m, in \u001b[0;36mIndex.get_loc\u001b[1;34m(self, key)\u001b[0m\n\u001b[0;32m   3807\u001b[0m     \u001b[38;5;28;01mif\u001b[39;00m \u001b[38;5;28misinstance\u001b[39m(casted_key, \u001b[38;5;28mslice\u001b[39m) \u001b[38;5;129;01mor\u001b[39;00m (\n\u001b[0;32m   3808\u001b[0m         \u001b[38;5;28misinstance\u001b[39m(casted_key, abc\u001b[38;5;241m.\u001b[39mIterable)\n\u001b[0;32m   3809\u001b[0m         \u001b[38;5;129;01mand\u001b[39;00m \u001b[38;5;28many\u001b[39m(\u001b[38;5;28misinstance\u001b[39m(x, \u001b[38;5;28mslice\u001b[39m) \u001b[38;5;28;01mfor\u001b[39;00m x \u001b[38;5;129;01min\u001b[39;00m casted_key)\n\u001b[0;32m   3810\u001b[0m     ):\n\u001b[0;32m   3811\u001b[0m         \u001b[38;5;28;01mraise\u001b[39;00m InvalidIndexError(key)\n\u001b[1;32m-> 3812\u001b[0m     \u001b[38;5;28;01mraise\u001b[39;00m \u001b[38;5;167;01mKeyError\u001b[39;00m(key) \u001b[38;5;28;01mfrom\u001b[39;00m \u001b[38;5;21;01merr\u001b[39;00m\n\u001b[0;32m   3813\u001b[0m \u001b[38;5;28;01mexcept\u001b[39;00m \u001b[38;5;167;01mTypeError\u001b[39;00m:\n\u001b[0;32m   3814\u001b[0m     \u001b[38;5;66;03m# If we have a listlike key, _check_indexing_error will raise\u001b[39;00m\n\u001b[0;32m   3815\u001b[0m     \u001b[38;5;66;03m#  InvalidIndexError. Otherwise we fall through and re-raise\u001b[39;00m\n\u001b[0;32m   3816\u001b[0m     \u001b[38;5;66;03m#  the TypeError.\u001b[39;00m\n\u001b[0;32m   3817\u001b[0m     \u001b[38;5;28mself\u001b[39m\u001b[38;5;241m.\u001b[39m_check_indexing_error(key)\n",
      "\u001b[1;31mKeyError\u001b[0m: 'weights'"
     ]
    }
   ],
   "source": [
    "# Media ponderada con SciPy \n",
    "weighted_mean_scipy = np.average(values, weights=weights)\n",
    "print(\"Media ponderada usando SciPy:\", weighted_mean_scipy)\n",
    "\n",
    "# Media Ponderada con Pandas \n",
    "weighted_mean_pandas = np.average(df3['values'], weights=df['weights'])\n",
    "print(\"\\nMedia ponderada usando Pandas:\", weighted_mean_pandas)\n",
    "print('---------------------------------------------')\n",
    "\n",
    "# Media Ponderada usando statsmodels\n",
    "df3['intercept'] = 1 \n",
    "print('Dataframe agragado columna intercept: \\n', df3)\n",
    "modelo = sm.WLS(df3['values'], df3[['intercept']], weights=df3['weights']).fit() #Ajusta un modelo de regresión ponderado\n",
    "weighted_mean_statsmodels = model.params['intercept']\n",
    "print(\"\\nMedia ponderada usando Statsmodels:\", weighted_mean_statsmodels)\n",
    "\n",
    "\n"
   ]
  },
  {
   "cell_type": "markdown",
   "metadata": {},
   "source": [
    "### Mediana y Estimaciones Robustas\n",
    "\n",
    "Calculo la media ponderada con: \n",
    "\n",
    "> 1.SciPy \n",
    "\n",
    "> 2.Pandas \n",
    "\n",
    "> 3.Statmodels"
   ]
  },
  {
   "cell_type": "code",
   "execution_count": 12,
   "metadata": {},
   "outputs": [],
   "source": [
    "import matplotlib as plt\n",
    "import matplotlib.pyplot as plt\n",
    "import numpy as np\n",
    "import pandas as pd\n",
    "import pingouin as pg"
   ]
  },
  {
   "cell_type": "code",
   "execution_count": 13,
   "metadata": {},
   "outputs": [
    {
     "name": "stdout",
     "output_type": "stream",
     "text": [
      "Array de e: \n",
      " [ 9  8  7  6  5  4  3  2  1 70]\n",
      "\n",
      "El dataframe, df4: \n",
      "    values\n",
      "0       9\n",
      "1       8\n",
      "2       7\n",
      "3       6\n",
      "4       5\n",
      "5       4\n",
      "6       3\n",
      "7       2\n",
      "8       1\n",
      "9      70\n"
     ]
    }
   ],
   "source": [
    "e = np.array([9,8,7,6,5,4,3,2,1,70])\n",
    "print(f'Array de e: \\n', e)\n",
    "\n",
    "df4 = pd.DataFrame({'values': [9,8,7,6,5,4,3,2,1,70]})\n",
    "print(f'\\nEl dataframe, df4: \\n', df4)"
   ]
  },
  {
   "cell_type": "code",
   "execution_count": 15,
   "metadata": {},
   "outputs": [
    {
     "name": "stdout",
     "output_type": "stream",
     "text": [
      "Media usando 'SciPy': 11.5\n",
      "Mediana usando 'SciPy': 5.5\n",
      "\n",
      "Mediana usando 'Pandas': 5.5\n",
      "\n",
      "Mediana usando Statsmodels: 5.961423733178613\n"
     ]
    },
    {
     "name": "stderr",
     "output_type": "stream",
     "text": [
      "C:\\Users\\CursosTardes\\AppData\\Local\\Temp\\ipykernel_13256\\3331695416.py:18: FutureWarning: Series.__getitem__ treating keys as positions is deprecated. In a future version, integer keys will always be treated as labels (consistent with DataFrame behavior). To access a value by position, use `ser.iloc[pos]`\n",
      "  median_statsmodels = res.params[0]\n"
     ]
    },
    {
     "ename": "AttributeError",
     "evalue": "module 'pingouin' has no attribute 'describe'",
     "output_type": "error",
     "traceback": [
      "\u001b[1;31m---------------------------------------------------------------------------\u001b[0m",
      "\u001b[1;31mAttributeError\u001b[0m                            Traceback (most recent call last)",
      "Cell \u001b[1;32mIn[15], line 23\u001b[0m\n\u001b[0;32m     19\u001b[0m \u001b[38;5;28mprint\u001b[39m(\u001b[38;5;124m\"\u001b[39m\u001b[38;5;130;01m\\n\u001b[39;00m\u001b[38;5;124mMediana usando Statsmodels:\u001b[39m\u001b[38;5;124m\"\u001b[39m, median_statsmodels)\n\u001b[0;32m     21\u001b[0m \u001b[38;5;66;03m# Mediana usando Pingouin\u001b[39;00m\n\u001b[0;32m     22\u001b[0m \u001b[38;5;66;03m# Using Pingouin to get descriptive statistics\u001b[39;00m\n\u001b[1;32m---> 23\u001b[0m desc \u001b[38;5;241m=\u001b[39m \u001b[43mpg\u001b[49m\u001b[38;5;241;43m.\u001b[39;49m\u001b[43mdescribe\u001b[49m(df4[\u001b[38;5;124m'\u001b[39m\u001b[38;5;124mvalues\u001b[39m\u001b[38;5;124m'\u001b[39m])\n\u001b[0;32m     24\u001b[0m median_pingouin \u001b[38;5;241m=\u001b[39m desc\u001b[38;5;241m.\u001b[39mloc[\u001b[38;5;124m'\u001b[39m\u001b[38;5;124m50\u001b[39m\u001b[38;5;124m%\u001b[39m\u001b[38;5;124m'\u001b[39m, \u001b[38;5;124m'\u001b[39m\u001b[38;5;124mvalues\u001b[39m\u001b[38;5;124m'\u001b[39m]\n\u001b[0;32m     25\u001b[0m \u001b[38;5;28mprint\u001b[39m(\u001b[38;5;124m\"\u001b[39m\u001b[38;5;130;01m\\n\u001b[39;00m\u001b[38;5;124mMediana usando \u001b[39m\u001b[38;5;124m'\u001b[39m\u001b[38;5;124mPingouin\u001b[39m\u001b[38;5;124m'\u001b[39m\u001b[38;5;124m:\u001b[39m\u001b[38;5;124m\"\u001b[39m, median_pingouin)\n",
      "\u001b[1;31mAttributeError\u001b[0m: module 'pingouin' has no attribute 'describe'"
     ]
    }
   ],
   "source": [
    "#Media usando Scipy\n",
    "mean_scipy = np.mean(e)\n",
    "print(\"Media usando 'SciPy':\", mean_scipy)\n",
    "#Mediana usando SciPy \n",
    "median_scipy=np.median(e)\n",
    "print(\"Mediana usando 'SciPy':\", median_scipy)\n",
    "\n",
    "# Mediana usando Pandas\n",
    "median_pandas = df4['values'].median()\n",
    "print(\"\\nMediana usando 'Pandas':\", median_pandas)\n",
    "\n",
    "#Mediana con Statsmodels\n",
    "\n",
    "#Ajusto un modelo de regresión cuantílica para calcular la mediana.\n",
    "quant_reg = sm.QuantReg(df4['values'], np.ones(len(df4['values'])))\n",
    "res = quant_reg.fit(q=0.5)\n",
    "\n",
    "median_statsmodels = res.params[0]\n",
    "print(\"\\nMediana usando Statsmodels:\", median_statsmodels)\n",
    "\n",
    "# Mediana usando Pingouin\n",
    "# Using Pingouin to get descriptive statistics\n",
    "desc = pg.describe(df4['values'])\n",
    "median_pingouin = desc.loc['50%', 'values']\n",
    "print(\"\\nMediana usando 'Pingouin':\", median_pingouin)"
   ]
  },
  {
   "cell_type": "markdown",
   "metadata": {},
   "source": [
    "En este gráfico observamos que es mejor seleccionar la mediana  y no la media. \n",
    "\n",
    "Podemos sucumbir de nuevo a la media: 11,5. Pero es este valor realmente representativo? No porque existe un valor muy alto comparado (70) con los otros. En este caso es mejor utilizar la mediana=5,5 y NO la media=11,5."
   ]
  },
  {
   "cell_type": "code",
   "execution_count": null,
   "metadata": {},
   "outputs": [
    {
     "data": {
      "image/png": "[encoded data removed]",
      "text/plain": [
       "<Figure size 640x480 with 1 Axes>"
      ]
     },
     "metadata": {},
     "output_type": "display_data"
    }
   ],
   "source": [
    "plt.bar(range(len(e)), e)\n",
    "\n",
    "\n",
    "plt.axhline(y=mean_scipy, color='r', linestyle='--', label='Media')\n",
    "plt.text(0, mean_scipy + 0.5, f'{mean_scipy:.2f}', ha='left', va='bottom', color='r')\n",
    "\n",
    "plt.axhline(y=median_scipy, color='b', linestyle='--', label='Mediana')\n",
    "plt.text(0, median_scipy + 0.5, f'{median_scipy:.2f}', ha='left', va='bottom', color='b')\n",
    "\n",
    "plt.title('Gráfico de barras con media y mediana con SciPy')\n",
    "plt.xlabel('Índice')\n",
    "plt.ylabel('Valor')\n",
    "\n",
    "plt.legend()\n",
    "plt.show()"
   ]
  },
  {
   "cell_type": "code",
   "execution_count": 18,
   "metadata": {},
   "outputs": [
    {
     "data": {
      "image/png": "[encoded data removed]",
      "text/plain": [
       "<Figure size 800x600 with 1 Axes>"
      ]
     },
     "metadata": {},
     "output_type": "display_data"
    }
   ],
   "source": [
    "# Crea el gráfico\n",
    "sns.set()\n",
    "plt.figure(figsize=(8, 6))\n",
    "sns.barplot(x=range(len(e)), y=e)\n",
    "\n",
    "plt.axhline(y=mean_scipy, color='g', linestyle='--', label='Media')\n",
    "plt.text(0, mean_scipy + 0.5, f'{mean_scipy:.2f}', ha='left', va='bottom', color='g')\n",
    "\n",
    "plt.axhline(y=median_scipy, color='r', linestyle='--', label='Mediana')\n",
    "plt.text(0, median_scipy + 0.5, f'{median_scipy:.2f}', ha='left', va='bottom', color='r')\n",
    "\n",
    "plt.title('Gráfico de barras con media y mediana con SciPy')\n",
    "plt.xlabel('Índice')\n",
    "plt.ylabel('Valor')\n",
    "\n",
    "plt.legend()\n",
    "plt.show()"
   ]
  },
  {
   "cell_type": "code",
   "execution_count": null,
   "metadata": {},
   "outputs": [],
   "source": []
  },
  {
   "cell_type": "markdown",
   "metadata": {},
   "source": [
    "#### Ejercicio 1: Estimaciones de Ubicación de la Población y las Tasas de Homicidios\n",
    "\n",
    "La Tabla 1-2 muestra las primeras filas del conjunto de datos que contiene la población y las tasas de homicidios (en unidades de asesinatos por cada 100,000 personas por año) para cada estado de EE. UU. (Censo de 2010).\n",
    "\n",
    "| Estado       | Población  | Tasa de Homicidios | Abreviatura |\n",
    "|--------------|-------------|-------------------|-------------|\n",
    "| Alabama      | 4,779,736   | 5.7               | AL          |\n",
    "| Alaska       | 710,231     | 5.6               | AK          |\n",
    "| Arizona      | 6,392,017   | 4.7               | AZ          |\n",
    "| Arkansas     | 2,915,918   | 5.6               | AR          |\n",
    "| California   | 37,253,956  | 4.4               | CA          |\n",
    "| Colorado     | 5,029,196   | 2.8               | CO          |\n",
    "| Connecticut  | 3,574,097   | 2.4               | CT          |\n",
    "| Delaware     | 897,934     | 5.8               | DE          |\n",
    "\n",
    "Calcula la media, la media recortada, la media ponderada y la mediana para la población usando Pandas, Scipy y Pingouine (Opcional: Statsmodels). Utilice el fichero `state.csv`"
   ]
  },
  {
   "cell_type": "code",
   "execution_count": 21,
   "metadata": {},
   "outputs": [],
   "source": [
    "import pandas as pd\n",
    "import numpy as np\n",
    "from scipy import stats\n",
    "import pingouin as pg\n",
    "import statsmodels.api as sm\n",
    "import seaborn as sns\n",
    "import matplotlib.pyplot as plt"
   ]
  },
  {
   "cell_type": "code",
   "execution_count": 22,
   "metadata": {},
   "outputs": [
    {
     "data": {
      "text/html": [
       "<div>\n",
       "<style scoped>\n",
       "    .dataframe tbody tr th:only-of-type {\n",
       "        vertical-align: middle;\n",
       "    }\n",
       "\n",
       "    .dataframe tbody tr th {\n",
       "        vertical-align: top;\n",
       "    }\n",
       "\n",
       "    .dataframe thead th {\n",
       "        text-align: right;\n",
       "    }\n",
       "</style>\n",
       "<table border=\"1\" class=\"dataframe\">\n",
       "  <thead>\n",
       "    <tr style=\"text-align: right;\">\n",
       "      <th></th>\n",
       "      <th>State</th>\n",
       "      <th>Population</th>\n",
       "      <th>Murder.Rate</th>\n",
       "      <th>Abbreviation</th>\n",
       "    </tr>\n",
       "  </thead>\n",
       "  <tbody>\n",
       "    <tr>\n",
       "      <th>0</th>\n",
       "      <td>Alabama</td>\n",
       "      <td>4779736</td>\n",
       "      <td>5.7</td>\n",
       "      <td>AL</td>\n",
       "    </tr>\n",
       "    <tr>\n",
       "      <th>1</th>\n",
       "      <td>Alaska</td>\n",
       "      <td>710231</td>\n",
       "      <td>5.6</td>\n",
       "      <td>AK</td>\n",
       "    </tr>\n",
       "    <tr>\n",
       "      <th>2</th>\n",
       "      <td>Arizona</td>\n",
       "      <td>6392017</td>\n",
       "      <td>4.7</td>\n",
       "      <td>AZ</td>\n",
       "    </tr>\n",
       "    <tr>\n",
       "      <th>3</th>\n",
       "      <td>Arkansas</td>\n",
       "      <td>2915918</td>\n",
       "      <td>5.6</td>\n",
       "      <td>AR</td>\n",
       "    </tr>\n",
       "  </tbody>\n",
       "</table>\n",
       "</div>"
      ],
      "text/plain": [
       "      State  Population  Murder.Rate Abbreviation\n",
       "0   Alabama     4779736          5.7           AL\n",
       "1    Alaska      710231          5.6           AK\n",
       "2   Arizona     6392017          4.7           AZ\n",
       "3  Arkansas     2915918          5.6           AR"
      ]
     },
     "execution_count": 22,
     "metadata": {},
     "output_type": "execute_result"
    }
   ],
   "source": [
    "datos = pd.read_csv('Datos/state.csv')\n",
    "datos.head(4)"
   ]
  },
  {
   "cell_type": "code",
   "execution_count": 45,
   "metadata": {},
   "outputs": [
    {
     "name": "stdout",
     "output_type": "stream",
     "text": [
      "Los tipos de datos: \n",
      " State            object\n",
      "Population        int64\n",
      "Murder.Rate     float64\n",
      "Abbreviation     object\n",
      "dtype: object\n",
      "\n",
      "La forma del dataframe \"shape\" (50, 4)\n"
     ]
    }
   ],
   "source": [
    "print('Los tipos de datos: \\n',datos.dtypes)\n",
    "print('\\nLa forma del dataframe \"shape\"', datos.shape)\n"
   ]
  },
  {
   "cell_type": "code",
   "execution_count": 24,
   "metadata": {},
   "outputs": [
    {
     "data": {
      "text/html": [
       "<div>\n",
       "<style scoped>\n",
       "    .dataframe tbody tr th:only-of-type {\n",
       "        vertical-align: middle;\n",
       "    }\n",
       "\n",
       "    .dataframe tbody tr th {\n",
       "        vertical-align: top;\n",
       "    }\n",
       "\n",
       "    .dataframe thead th {\n",
       "        text-align: right;\n",
       "    }\n",
       "</style>\n",
       "<table border=\"1\" class=\"dataframe\">\n",
       "  <thead>\n",
       "    <tr style=\"text-align: right;\">\n",
       "      <th></th>\n",
       "      <th>Population</th>\n",
       "      <th>Murder.Rate</th>\n",
       "    </tr>\n",
       "  </thead>\n",
       "  <tbody>\n",
       "    <tr>\n",
       "      <th>count</th>\n",
       "      <td>5.000000e+01</td>\n",
       "      <td>50.000000</td>\n",
       "    </tr>\n",
       "    <tr>\n",
       "      <th>mean</th>\n",
       "      <td>6.162876e+06</td>\n",
       "      <td>4.066000</td>\n",
       "    </tr>\n",
       "    <tr>\n",
       "      <th>std</th>\n",
       "      <td>6.848235e+06</td>\n",
       "      <td>1.915736</td>\n",
       "    </tr>\n",
       "    <tr>\n",
       "      <th>min</th>\n",
       "      <td>5.636260e+05</td>\n",
       "      <td>0.900000</td>\n",
       "    </tr>\n",
       "    <tr>\n",
       "      <th>25%</th>\n",
       "      <td>1.833004e+06</td>\n",
       "      <td>2.425000</td>\n",
       "    </tr>\n",
       "    <tr>\n",
       "      <th>50%</th>\n",
       "      <td>4.436370e+06</td>\n",
       "      <td>4.000000</td>\n",
       "    </tr>\n",
       "    <tr>\n",
       "      <th>75%</th>\n",
       "      <td>6.680312e+06</td>\n",
       "      <td>5.550000</td>\n",
       "    </tr>\n",
       "    <tr>\n",
       "      <th>max</th>\n",
       "      <td>3.725396e+07</td>\n",
       "      <td>10.300000</td>\n",
       "    </tr>\n",
       "  </tbody>\n",
       "</table>\n",
       "</div>"
      ],
      "text/plain": [
       "         Population  Murder.Rate\n",
       "count  5.000000e+01    50.000000\n",
       "mean   6.162876e+06     4.066000\n",
       "std    6.848235e+06     1.915736\n",
       "min    5.636260e+05     0.900000\n",
       "25%    1.833004e+06     2.425000\n",
       "50%    4.436370e+06     4.000000\n",
       "75%    6.680312e+06     5.550000\n",
       "max    3.725396e+07    10.300000"
      ]
     },
     "execution_count": 24,
     "metadata": {},
     "output_type": "execute_result"
    }
   ],
   "source": [
    "datos.describe()"
   ]
  },
  {
   "cell_type": "code",
   "execution_count": 32,
   "metadata": {},
   "outputs": [
    {
     "name": "stdout",
     "output_type": "stream",
     "text": [
      "Media (Pandas): 6162876.3\n",
      "\n",
      "Media (Scipy): 6162876.3\n",
      "\n",
      "Media (Statsmodels): 6162876.3\n"
     ]
    }
   ],
   "source": [
    "# Calcular media\n",
    "media_pandas = datos['Population'].mean()\n",
    "media_scipy = np.mean(datos['Population'])\n",
    "# media_pingouin = pg.describe(datos['Population'])['mean']\n",
    "media_statsmodels = datos['Population'].describe()['mean']\n",
    "\n",
    "print(f\"Media (Pandas): {media_pandas}\")\n",
    "print(f\"\\nMedia (Scipy): {media_scipy}\")\n",
    "# print(f\"\\nMedia (Pingouin): {media_pingouin}\")\n",
    "print(f\"\\nMedia (Statsmodels): {media_statsmodels}\")"
   ]
  },
  {
   "cell_type": "code",
   "execution_count": 36,
   "metadata": {},
   "outputs": [
    {
     "name": "stdout",
     "output_type": "stream",
     "text": [
      "Media recortada (Scipy): 4783697.125\n"
     ]
    }
   ],
   "source": [
    "# Calcular media recortada\n",
    "media_recortada_scipy = stats.trim_mean(datos['Population'], 0.1)\n",
    "# media_recortada_pingouin = pg.describe(datos['Population'])['trimmed_mean']\n",
    "\n",
    "print(f\"Media recortada (Scipy): {media_recortada_scipy}\")\n",
    "# print(f\"Media recortada (Pingouin): {media_recortada_pingouin}\")\n",
    "\n"
   ]
  },
  {
   "cell_type": "code",
   "execution_count": 37,
   "metadata": {},
   "outputs": [
    {
     "name": "stdout",
     "output_type": "stream",
     "text": [
      "Media ponderada (Pandas): 5995892.385485791\n",
      "Media ponderada (Scipy): 5995892.385485791\n"
     ]
    }
   ],
   "source": [
    "# Calcular media ponderada\n",
    "pesos = np.random.rand(len(datos))  # Generar pesos aleatorios\n",
    "media_ponderada_pandas = np.average(datos['Population'], weights=pesos)\n",
    "media_ponderada_scipy = np.average(datos['Population'], weights=pesos)\n",
    "\n",
    "print(f\"Media ponderada (Pandas): {media_ponderada_pandas}\")\n",
    "print(f\"Media ponderada (Scipy): {media_ponderada_scipy}\")"
   ]
  },
  {
   "cell_type": "code",
   "execution_count": 40,
   "metadata": {},
   "outputs": [
    {
     "name": "stdout",
     "output_type": "stream",
     "text": [
      "Mediana (Pandas): 4436369.5\n",
      "Mediana (Scipy): 4436369.5\n",
      "Mediana (Statsmodels): 4436369.5\n"
     ]
    }
   ],
   "source": [
    "# Calcular mediana\n",
    "mediana_pandas = datos['Population'].median()\n",
    "mediana_scipy = np.median(datos['Population'])\n",
    "# mediana_pingouin = pg.describe(datos['Population'])['median']\n",
    "mediana_statsmodels = datos['Population'].describe()['50%']\n",
    "\n",
    "print(f\"Mediana (Pandas): {mediana_pandas}\")\n",
    "print(f\"Mediana (Scipy): {mediana_scipy}\")\n",
    "# print(f\"Mediana (Pingouin): {mediana_pingouin}\")\n",
    "print(f\"Mediana (Statsmodels): {mediana_statsmodels}\")"
   ]
  },
  {
   "cell_type": "code",
   "execution_count": 41,
   "metadata": {},
   "outputs": [
    {
     "name": "stderr",
     "output_type": "stream",
     "text": [
      "C:\\Users\\CursosTardes\\AppData\\Local\\Temp\\ipykernel_21268\\2541172858.py:4: UserWarning: \n",
      "\n",
      "`distplot` is a deprecated function and will be removed in seaborn v0.14.0.\n",
      "\n",
      "Please adapt your code to use either `displot` (a figure-level function with\n",
      "similar flexibility) or `histplot` (an axes-level function for histograms).\n",
      "\n",
      "For a guide to updating your code to use the new functions, please see\n",
      "https://gist.github.com/mwaskom/de44147ed2974457ad6372750bbe5751\n",
      "\n",
      "  sns.distplot(datos['Population'], kde=True)\n"
     ]
    },
    {
     "data": {
      "image/png": "[encoded data removed]",
      "text/plain": [
       "<Figure size 1000x600 with 1 Axes>"
      ]
     },
     "metadata": {},
     "output_type": "display_data"
    }
   ],
   "source": [
    "# Gráfico para visualizar los resultados\n",
    "sns.set()\n",
    "plt.figure(figsize=(10, 6))\n",
    "sns.distplot(datos['Population'], kde=True)\n",
    "plt.axvline(media_pandas, color='r', linestyle='--', label='Media')\n",
    "plt.axvline(media_recortada_scipy, color='g', linestyle='--', label='Media recortada')\n",
    "plt.axvline(media_ponderada_pandas, color='b', linestyle='--', label='Media ponderada')\n",
    "plt.axvline(mediana_pandas, color='y', linestyle='--', label='Mediana')\n",
    "plt.legend()\n",
    "plt.title('Distribución de la Population')\n",
    "plt.xlabel('Population')\n",
    "plt.ylabel('Frecuencia')\n",
    "plt.show()"
   ]
  },
  {
   "cell_type": "code",
   "execution_count": null,
   "metadata": {},
   "outputs": [],
   "source": []
  },
  {
   "cell_type": "code",
   "execution_count": null,
   "metadata": {},
   "outputs": [],
   "source": []
  },
  {
   "cell_type": "code",
   "execution_count": null,
   "metadata": {},
   "outputs": [],
   "source": []
  },
  {
   "cell_type": "markdown",
   "metadata": {},
   "source": [
    "#### Ejercicio 2. Investigar cómo se interpreta estadísticamente la medida de tendecia central: `moda`.  \n",
    "Buscar ejemplos concretos donde se aplique la moda. Desarrolle un ejemplo con Pandas, Scipy, Statsmodels y Pingouine"
   ]
  },
  {
   "cell_type": "code",
   "execution_count": null,
   "metadata": {},
   "outputs": [],
   "source": []
  },
  {
   "cell_type": "code",
   "execution_count": null,
   "metadata": {},
   "outputs": [],
   "source": []
  },
  {
   "cell_type": "code",
   "execution_count": null,
   "metadata": {},
   "outputs": [],
   "source": []
  },
  {
   "cell_type": "code",
   "execution_count": null,
   "metadata": {},
   "outputs": [],
   "source": []
  },
  {
   "cell_type": "code",
   "execution_count": null,
   "metadata": {},
   "outputs": [],
   "source": []
  },
  {
   "cell_type": "code",
   "execution_count": null,
   "metadata": {},
   "outputs": [],
   "source": []
  },
  {
   "cell_type": "code",
   "execution_count": null,
   "metadata": {},
   "outputs": [],
   "source": []
  },
  {
   "cell_type": "code",
   "execution_count": null,
   "metadata": {},
   "outputs": [],
   "source": []
  },
  {
   "cell_type": "code",
   "execution_count": null,
   "metadata": {},
   "outputs": [],
   "source": []
  },
  {
   "cell_type": "code",
   "execution_count": null,
   "metadata": {},
   "outputs": [],
   "source": []
  },
  {
   "cell_type": "code",
   "execution_count": null,
   "metadata": {},
   "outputs": [],
   "source": []
  },
  {
   "cell_type": "code",
   "execution_count": null,
   "metadata": {},
   "outputs": [],
   "source": []
  }
 ],
 "metadata": {
  "kernelspec": {
   "display_name": "Curso_Python",
   "language": "python",
   "name": "python3"
  },
  "language_info": {
   "codemirror_mode": {
    "name": "ipython",
    "version": 3
   },
   "file_extension": ".py",
   "mimetype": "text/x-python",
   "name": "python",
   "nbconvert_exporter": "python",
   "pygments_lexer": "ipython3",
   "version": "3.11.9"
  }
 },
 "nbformat": 4,
 "nbformat_minor": 2
}
