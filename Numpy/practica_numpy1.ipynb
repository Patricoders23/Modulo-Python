{
 "cells": [
  {
   "cell_type": "markdown",
   "metadata": {},
   "source": [
    "## Indexación (indexing) y segmentación (slicing) de arrays "
   ]
  },
  {
   "cell_type": "code",
   "execution_count": 1,
   "metadata": {},
   "outputs": [],
   "source": [
    "import numpy as np"
   ]
  },
  {
   "cell_type": "code",
   "execution_count": 2,
   "metadata": {},
   "outputs": [
    {
     "name": "stdout",
     "output_type": "stream",
     "text": [
      "Accedemos al elemento del array: \n",
      "El array de [0]: 2\n",
      "El array de [1]: 4\n",
      "El array de [2]: 6\n",
      "El array de [3]: 8\n",
      "\n",
      "La dimensión del array es:  {1}\n",
      "\n",
      "El shape del array es:  {(5,)}\n"
     ]
    }
   ],
   "source": [
    "array = np.array([2,4,6,8,10])\n",
    "\n",
    "# Acceder al elemento en la posición del array \n",
    "print('Accedemos al elemento del array: ')\n",
    "print(f'El array de [0]: {array[0]}')\n",
    "print(f'El array de [1]: {array[1]}')\n",
    "print(f'El array de [2]: {array[2]}')\n",
    "print(f'El array de [3]: {array[3]}')\n",
    "print('\\nLa dimensión del array es: ', {array.ndim})\n",
    "print('\\nEl shape del array es: ', {array.shape})"
   ]
  },
  {
   "cell_type": "code",
   "execution_count": 3,
   "metadata": {},
   "outputs": [
    {
     "name": "stdout",
     "output_type": "stream",
     "text": [
      "La dimension del sudoku es:  {2}\n",
      "[[ 1  2  3  4  5  6]\n",
      " [ 7  8  9 10 11 12]\n",
      " [13 14 15 16 17 18]\n",
      " [19 20 21 22 23 24]\n",
      " [25 26 27 28 29 30]\n",
      " [31 32 33 34 35 36]]\n"
     ]
    }
   ],
   "source": [
    "sudoku_array = np.array([[1, 2, 3, 4, 5, 6],\n",
    "                         [7, 8, 9, 10, 11, 12],\n",
    "                         [13, 14, 15, 16, 17, 18],\n",
    "                         [19, 20, 21, 22, 23, 24],\n",
    "                         [25, 26, 27, 28, 29, 30],\n",
    "                         [31, 32, 33, 34, 35, 36]])\n",
    "\n",
    "print(f'La dimension del sudoku es: ', {sudoku_array.ndim})\n",
    "print(sudoku_array)"
   ]
  },
  {
   "cell_type": "markdown",
   "metadata": {},
   "source": [
    "La dimensión 2 se debe a que el array tiene una estructura de matriz, con 6 filas (PRIMERA DIMENSION) y 6 columnas (SEGUNDA DIMENSIÓN)."
   ]
  },
  {
   "cell_type": "code",
   "execution_count": 4,
   "metadata": {},
   "outputs": [
    {
     "name": "stdout",
     "output_type": "stream",
     "text": [
      "[1 2 3 4 5 6]\n",
      "\n",
      "Selecciona todas las filas con (:), y la coma (,) indica que queremos mantener todas las columnas,\n",
      "y 3 especifica el índice de la columna: \n",
      "[ 3  9 15 21 27 33]\n"
     ]
    }
   ],
   "source": [
    "# Accedo a la primera fila\n",
    "print(sudoku_array[0])  # Selecciona la primera fila\n",
    "\n",
    "print('\\nSelecciona todas las filas con (:), y la coma (,) indica que queremos mantener todas las columnas,')\n",
    "print('y 3 especifica el índice de la columna: ')\n",
    "print(sudoku_array[:,2]) #[:,]selecciona todas las filas \n"
   ]
  },
  {
   "cell_type": "code",
   "execution_count": 5,
   "metadata": {},
   "outputs": [
    {
     "name": "stdout",
     "output_type": "stream",
     "text": [
      "16\n"
     ]
    }
   ],
   "source": [
    "#Selecciono el 16\n",
    "print(sudoku_array[2,3])"
   ]
  },
  {
   "cell_type": "code",
   "execution_count": 6,
   "metadata": {},
   "outputs": [
    {
     "name": "stdout",
     "output_type": "stream",
     "text": [
      "35\n"
     ]
    }
   ],
   "source": [
    "#Selecciono el 35\n",
    "print(sudoku_array[5,4])"
   ]
  },
  {
   "cell_type": "code",
   "execution_count": 7,
   "metadata": {},
   "outputs": [
    {
     "name": "stdout",
     "output_type": "stream",
     "text": [
      "[13 14 15 16 17 18]\n"
     ]
    }
   ],
   "source": [
    "print(sudoku_array[2,:])"
   ]
  },
  {
   "cell_type": "markdown",
   "metadata": {},
   "source": [
    "### Slicing arrays 1D"
   ]
  },
  {
   "cell_type": "code",
   "execution_count": 8,
   "metadata": {},
   "outputs": [
    {
     "data": {
      "text/plain": [
       "array([6, 8])"
      ]
     },
     "execution_count": 8,
     "metadata": {},
     "output_type": "execute_result"
    }
   ],
   "source": [
    "array = np.array([2,4,6,8,10])\n",
    "array[2:4]"
   ]
  },
  {
   "cell_type": "markdown",
   "metadata": {},
   "source": [
    "### Slicing arrays 2D"
   ]
  },
  {
   "cell_type": "code",
   "execution_count": 9,
   "metadata": {},
   "outputs": [
    {
     "name": "stdout",
     "output_type": "stream",
     "text": [
      "La dimension del sudoku es:  {2}\n",
      "[[ 10   2   3   4   5   6]\n",
      " [ 70 800   9 100  11 120]\n",
      " [ 13  14  15  16  17  18]\n",
      " [ 19 200  21 220  23 240]\n",
      " [ 25  26  27  28  29  30]\n",
      " [ 30 302  33 340  35 360]]\n"
     ]
    }
   ],
   "source": [
    "sudoku_array1 = np.array([[10, 2, 3, 4, 5, 6],\n",
    "                         [70, 800, 9, 100, 11, 120],\n",
    "                         [13, 14, 15, 16, 17, 18],\n",
    "                         [19, 200, 21, 220, 23, 240],\n",
    "                         [25, 26, 27, 28, 29, 30],\n",
    "                         [30, 302, 33, 340, 35, 360]])\n",
    "\n",
    "print(f'La dimension del sudoku es: ', {sudoku_array1.ndim})\n",
    "print(sudoku_array1)"
   ]
  },
  {
   "cell_type": "code",
   "execution_count": 10,
   "metadata": {},
   "outputs": [
    {
     "data": {
      "text/plain": [
       "array([[800, 100, 120],\n",
       "       [200, 220, 240],\n",
       "       [302, 340, 360]])"
      ]
     },
     "execution_count": 10,
     "metadata": {},
     "output_type": "execute_result"
    }
   ],
   "source": [
    "sudoku_array1[1:6:2, 1:6:2]\n",
    "             #Filas  #Columnas"
   ]
  },
  {
   "cell_type": "markdown",
   "metadata": {},
   "source": [
    "## Ordenando arrays:"
   ]
  },
  {
   "cell_type": "code",
   "execution_count": 11,
   "metadata": {},
   "outputs": [
    {
     "data": {
      "text/plain": [
       "array([[  2,   3,   4,   5,   6,  10],\n",
       "       [  9,  11,  70, 100, 120, 800],\n",
       "       [ 13,  14,  15,  16,  17,  18],\n",
       "       [ 19,  21,  23, 200, 220, 240],\n",
       "       [ 25,  26,  27,  28,  29,  30],\n",
       "       [ 30,  33,  35, 302, 340, 360]])"
      ]
     },
     "execution_count": 11,
     "metadata": {},
     "output_type": "execute_result"
    }
   ],
   "source": [
    "np.sort(sudoku_array1)"
   ]
  },
  {
   "cell_type": "markdown",
   "metadata": {},
   "source": [
    "## Filtrado de arrays\n",
    "\n",
    "Hay 2 formas de filtrar en Numpy: \n",
    "\n",
    "* Idexado usando `mask` y `fancy`\n",
    "\n",
    "* Usando `np.where()`"
   ]
  },
  {
   "cell_type": "markdown",
   "metadata": {},
   "source": [
    "### Indexando con Boolean mask: "
   ]
  },
  {
   "cell_type": "code",
   "execution_count": 12,
   "metadata": {},
   "outputs": [
    {
     "data": {
      "text/plain": [
       "array([1, 2, 3, 4, 5])"
      ]
     },
     "execution_count": 12,
     "metadata": {},
     "output_type": "execute_result"
    }
   ],
   "source": [
    "one_to_five = np.arange(1,6)\n",
    "one_to_five"
   ]
  },
  {
   "cell_type": "code",
   "execution_count": 13,
   "metadata": {},
   "outputs": [
    {
     "data": {
      "text/plain": [
       "array([False,  True, False,  True, False])"
      ]
     },
     "execution_count": 13,
     "metadata": {},
     "output_type": "execute_result"
    }
   ],
   "source": [
    "mask = one_to_five % 2 == 0\n",
    "mask"
   ]
  },
  {
   "cell_type": "markdown",
   "metadata": {},
   "source": [
    "### Filtrado usando 'fancy indexing' "
   ]
  },
  {
   "cell_type": "code",
   "execution_count": 14,
   "metadata": {},
   "outputs": [
    {
     "data": {
      "text/plain": [
       "array([2, 4])"
      ]
     },
     "execution_count": 14,
     "metadata": {},
     "output_type": "execute_result"
    }
   ],
   "source": [
    "one_to_five = np.arange(1, 6) \n",
    "mask = one_to_five % 2 == 0\n",
    "one_to_five[mask]"
   ]
  },
  {
   "cell_type": "markdown",
   "metadata": {},
   "source": [
    "### 2D facing indexing "
   ]
  },
  {
   "cell_type": "code",
   "execution_count": 15,
   "metadata": {},
   "outputs": [
    {
     "name": "stdout",
     "output_type": "stream",
     "text": [
      "2\n"
     ]
    },
    {
     "data": {
      "text/plain": [
       "array([[ 1, 22],\n",
       "       [ 2, 21],\n",
       "       [ 3, 27],\n",
       "       [ 4, 26]])"
      ]
     },
     "execution_count": 15,
     "metadata": {},
     "output_type": "execute_result"
    }
   ],
   "source": [
    "clases_id_edad = np.array([[1,22], [2, 21], [3,27], [4,26]])\n",
    "print(clases_id_edad.ndim)\n",
    "clases_id_edad\n"
   ]
  },
  {
   "cell_type": "code",
   "execution_count": 16,
   "metadata": {},
   "outputs": [
    {
     "data": {
      "text/plain": [
       "array([ True, False, False,  True])"
      ]
     },
     "execution_count": 16,
     "metadata": {},
     "output_type": "execute_result"
    }
   ],
   "source": [
    "clases_id_edad[:,1] % 2 ==  0"
   ]
  },
  {
   "cell_type": "markdown",
   "metadata": {},
   "source": [
    "### Fancy indexing vs np.where()\n",
    "\n",
    "* Fancy indexing, retorna un array de elementos \n",
    "* np.where(), retorna un array de índices. "
   ]
  },
  {
   "cell_type": "markdown",
   "metadata": {},
   "source": [
    "### Filttado con np.where()\n"
   ]
  },
  {
   "cell_type": "code",
   "execution_count": 17,
   "metadata": {},
   "outputs": [
    {
     "data": {
      "text/plain": [
       "(array([0, 3], dtype=int64),)"
      ]
     },
     "execution_count": 17,
     "metadata": {},
     "output_type": "execute_result"
    }
   ],
   "source": [
    "np.where(clases_id_edad[:,1] % 2 == 0)"
   ]
  },
  {
   "cell_type": "markdown",
   "metadata": {},
   "source": [
    "### Obtención de elementos con np.where()"
   ]
  },
  {
   "cell_type": "code",
   "execution_count": 18,
   "metadata": {},
   "outputs": [
    {
     "name": "stdout",
     "output_type": "stream",
     "text": [
      "Consume 80 bytes\n"
     ]
    }
   ],
   "source": [
    "#array 2D \n",
    "array = np.array([\n",
    "    [1, 2, 3, 0, 5],\n",
    "    [6, 0, 8, 9, 10],\n",
    "    [11, 12, 13, 14, 0],\n",
    "    [15, 16, 17, 18, 19]\n",
    "])\n",
    "\n",
    "print(\"Consume\",array.nbytes,\"bytes\") "
   ]
  },
  {
   "cell_type": "markdown",
   "metadata": {},
   "source": [
    "Queremos encontrar los índices de las filas y columnas donde se encuentran los ceros en el array. Para hacer esto, podemos utilizar np.where() de la siguiente manera:"
   ]
  },
  {
   "cell_type": "code",
   "execution_count": 19,
   "metadata": {},
   "outputs": [
    {
     "name": "stdout",
     "output_type": "stream",
     "text": [
      "Los ceros se encuentran en las filas: [0 1 2]\n",
      "Los ceros se encuentran en las columnas: [3 1 4]\n"
     ]
    }
   ],
   "source": [
    "row_ind, col_ind = np.where(array == 0)\n",
    "\n",
    "print(f'Los ceros se encuentran en las filas: {row_ind}')\n",
    "print(f'Los ceros se encuentran en las columnas: {col_ind}')"
   ]
  },
  {
   "cell_type": "markdown",
   "metadata": {},
   "source": [
    "## Encontrar y reemplazar "
   ]
  },
  {
   "cell_type": "code",
   "execution_count": 20,
   "metadata": {},
   "outputs": [
    {
     "data": {
      "text/plain": [
       "array([['1', '2', '3', ' ', '5'],\n",
       "       ['6', ' ', '8', '9', '10'],\n",
       "       ['11', '12', '13', '14', ' '],\n",
       "       ['15', '16', '17', '18', '19']], dtype='<U11')"
      ]
     },
     "execution_count": 20,
     "metadata": {},
     "output_type": "execute_result"
    }
   ],
   "source": [
    "np.where(array == 0, \" \", array)"
   ]
  },
  {
   "cell_type": "markdown",
   "metadata": {},
   "source": [
    "## Concatenación"
   ]
  },
  {
   "cell_type": "markdown",
   "metadata": {},
   "source": [
    "### Concatenación de filas \n",
    "\n",
    "La función np.concatenate concatenará los arrays en la dirección de las filas (axis=0 por defecto), por lo que el shape final será (n1 + n2, 2), donde n1 y n2 son el número de filas de cada array."
   ]
  },
  {
   "cell_type": "code",
   "execution_count": 21,
   "metadata": {},
   "outputs": [
    {
     "name": "stdout",
     "output_type": "stream",
     "text": [
      "2\n",
      "(4, 2)\n",
      "[[ 1 22]\n",
      " [ 2 21]\n",
      " [ 3 27]\n",
      " [ 4 26]]\n",
      "--------------\n",
      "2\n",
      "(2, 2)\n",
      "[[ 5 30]\n",
      " [ 5 17]]\n",
      "\n",
      "==============\n",
      "(6, 2)\n"
     ]
    },
    {
     "data": {
      "text/plain": [
       "array([[ 1, 22],\n",
       "       [ 2, 21],\n",
       "       [ 3, 27],\n",
       "       [ 4, 26],\n",
       "       [ 5, 30],\n",
       "       [ 5, 17]])"
      ]
     },
     "execution_count": 21,
     "metadata": {},
     "output_type": "execute_result"
    }
   ],
   "source": [
    "classroom_ids_and_sizes = np.array([[1,22], [2,21],[3,27],[4,26]])\n",
    "new_classrooms = np.array([[5,30], [5,17]])\n",
    "\n",
    "print(classroom_ids_and_sizes.ndim)\n",
    "#el atributo shape de un array devuelve una tupla, (n_filas, n_columnas).\n",
    "print(classroom_ids_and_sizes.shape)\n",
    "print(classroom_ids_and_sizes)\n",
    "\n",
    "print('--------------')\n",
    "print(new_classrooms.ndim)\n",
    "print(new_classrooms.shape)\n",
    "print(new_classrooms)\n",
    "\n",
    "print('\\n==============')\n",
    "concatenado_filas = np.concatenate((classroom_ids_and_sizes, new_classrooms))\n",
    "print(concatenado_filas.shape)\n",
    "concatenado_filas"
   ]
  },
  {
   "cell_type": "markdown",
   "metadata": {},
   "source": [
    "### Concatenación de columnas "
   ]
  },
  {
   "cell_type": "code",
   "execution_count": 22,
   "metadata": {},
   "outputs": [
    {
     "name": "stdout",
     "output_type": "stream",
     "text": [
      "Consume 32 bytes\n",
      "El array --> classroom_ids_and_size\n",
      "[[ 1 22]\n",
      " [ 2 21]\n",
      " [ 3 27]\n",
      " [ 4 26]]\n",
      " Tiene shape de:  (4, 2)\n",
      " Tiene dimensión de:  2\n",
      "-----------------------------------------\n",
      "El array --> grade_levels_and_teachers\n",
      "[['1' 'Jordi']\n",
      " ['1' 'Mario']\n",
      " ['3' 'Quintin']\n",
      " ['3' 'Sofi']]\n",
      " Tiene shape de:  (4, 2)\n",
      " Tiene dimensión de:  2\n",
      "\n",
      "==========================================\n",
      "\n",
      "El array --> concatenado_columnas\n",
      " Tiene shape de:  (4, 4)\n",
      " Tiene dimensión de:  2\n"
     ]
    },
    {
     "data": {
      "text/plain": [
       "array([['1', '22', '1', 'Jordi'],\n",
       "       ['2', '21', '1', 'Mario'],\n",
       "       ['3', '27', '3', 'Quintin'],\n",
       "       ['4', '26', '3', 'Sofi']], dtype='<U11')"
      ]
     },
     "execution_count": 22,
     "metadata": {},
     "output_type": "execute_result"
    }
   ],
   "source": [
    "classroom_ids_and_sizes = np.array([[1,22],[2,21],[3,27],[4,26]])\n",
    "grade_levels_and_teachers = np.array([[1,'Jordi'], [1,'Mario'], [3,'Quintin'], [3,'Sofi']])\n",
    "print(\"Consume\",classroom_ids_and_sizes.nbytes,\"bytes\") \n",
    "\n",
    "print('El array --> classroom_ids_and_size')\n",
    "print(classroom_ids_and_sizes)\n",
    "print(f' Tiene shape de: ', classroom_ids_and_sizes.shape)\n",
    "print(f' Tiene dimensión de: ', classroom_ids_and_sizes.ndim)\n",
    "print('-----------------------------------------')\n",
    "print('El array --> grade_levels_and_teachers')\n",
    "\n",
    "print(grade_levels_and_teachers)\n",
    "print(f' Tiene shape de: ', grade_levels_and_teachers.shape)\n",
    "print(f' Tiene dimensión de: ', grade_levels_and_teachers.ndim)\n",
    "\n",
    "print('\\n==========================================')\n",
    "print('\\nEl array --> concatenado_columnas')\n",
    "concatenado_columnas = np.concatenate((classroom_ids_and_sizes, grade_levels_and_teachers), axis=1)\n",
    "\n",
    "print(f' Tiene shape de: ', concatenado_columnas.shape)\n",
    "print(f' Tiene dimensión de: ', concatenado_columnas.ndim)\n",
    "concatenado_columnas"
   ]
  },
  {
   "cell_type": "markdown",
   "metadata": {},
   "source": [
    "## Borrar con np.delete()"
   ]
  },
  {
   "cell_type": "code",
   "execution_count": 23,
   "metadata": {},
   "outputs": [],
   "source": [
    "data_clases = np.array([['1', '22', '1', 'James'],\n",
    "                        ['2', '21', '1', 'George'],\n",
    "                        ['3', '27', '2', 'Peter'],\n",
    "                        ['4', '26', '2', 'Anna']])"
   ]
  },
  {
   "cell_type": "code",
   "execution_count": 24,
   "metadata": {},
   "outputs": [
    {
     "data": {
      "text/plain": [
       "array([['1', '22', '1', 'James'],\n",
       "       ['3', '27', '2', 'Peter'],\n",
       "       ['4', '26', '2', 'Anna']], dtype='<U6')"
      ]
     },
     "execution_count": 24,
     "metadata": {},
     "output_type": "execute_result"
    }
   ],
   "source": [
    "#Borrando filas \n",
    "np.delete(data_clases, 1, axis=0)"
   ]
  },
  {
   "cell_type": "code",
   "execution_count": 25,
   "metadata": {},
   "outputs": [
    {
     "data": {
      "text/plain": [
       "array([['1', '1', 'James'],\n",
       "       ['2', '1', 'George'],\n",
       "       ['3', '2', 'Peter'],\n",
       "       ['4', '2', 'Anna']], dtype='<U6')"
      ]
     },
     "execution_count": 25,
     "metadata": {},
     "output_type": "execute_result"
    }
   ],
   "source": [
    "#Borrando columnas: \n",
    "np.delete(data_clases, 1, axis=1)"
   ]
  },
  {
   "cell_type": "code",
   "execution_count": 26,
   "metadata": {},
   "outputs": [
    {
     "data": {
      "text/plain": [
       "array([['22', '1', 'James'],\n",
       "       ['21', '1', 'George'],\n",
       "       ['27', '2', 'Peter'],\n",
       "       ['26', '2', 'Anna']], dtype='<U6')"
      ]
     },
     "execution_count": 26,
     "metadata": {},
     "output_type": "execute_result"
    }
   ],
   "source": [
    "np.delete(data_clases, 0, axis=1)"
   ]
  },
  {
   "cell_type": "code",
   "execution_count": 27,
   "metadata": {},
   "outputs": [
    {
     "data": {
      "text/plain": [
       "array(['1', '1', 'James', '2', '21', '1', 'George', '3', '27', '2',\n",
       "       'Peter', '4', '26', '2', 'Anna'], dtype='<U6')"
      ]
     },
     "execution_count": 27,
     "metadata": {},
     "output_type": "execute_result"
    }
   ],
   "source": [
    "#Borrar sin especificar \n",
    "np.delete(data_clases, 1)"
   ]
  },
  {
   "cell_type": "markdown",
   "metadata": {},
   "source": [
    "## Métodos de Agregación\n",
    "\n",
    "* .sum()\n",
    "* .min()\n",
    "* .max()\n",
    "* .mean()\n",
    "* .cumsum()"
   ]
  },
  {
   "cell_type": "code",
   "execution_count": 28,
   "metadata": {},
   "outputs": [
    {
     "data": {
      "text/plain": [
       "array([[0, 5, 1],\n",
       "       [0, 2, 0],\n",
       "       [1, 1, 2],\n",
       "       [2, 2, 1],\n",
       "       [0, 0, 0]])"
      ]
     },
     "execution_count": 28,
     "metadata": {},
     "output_type": "execute_result"
    }
   ],
   "source": [
    "security_breaches = np.array([[0,5,1],[0,2,0],[1,1,2],[2,2,1],[0,0,0]])\n",
    "security_breaches"
   ]
  },
  {
   "cell_type": "markdown",
   "metadata": {},
   "source": [
    "año 1  = cliente1(0) ---> cliente2(5)  ---> cliente3(1)\n",
    "\n",
    "año 2  = cliente1(0) ---> cliente2(2)  ---> cliente3(0)\n",
    ".\n",
    ".\n",
    ".\n",
    "\n",
    "año 5  = cliente1(0) ---> cliente2(0)  ---> cliente3(0)"
   ]
  },
  {
   "cell_type": "markdown",
   "metadata": {},
   "source": [
    "## Sumando datos"
   ]
  },
  {
   "cell_type": "code",
   "execution_count": 29,
   "metadata": {},
   "outputs": [
    {
     "name": "stdout",
     "output_type": "stream",
     "text": [
      "17\n"
     ]
    }
   ],
   "source": [
    "print(security_breaches.sum())"
   ]
  },
  {
   "cell_type": "code",
   "execution_count": 30,
   "metadata": {},
   "outputs": [
    {
     "name": "stdout",
     "output_type": "stream",
     "text": [
      "[6 2 4 5 0]\n"
     ]
    }
   ],
   "source": [
    "print(security_breaches.sum(axis = 1)) # suma filas "
   ]
  },
  {
   "cell_type": "code",
   "execution_count": 31,
   "metadata": {},
   "outputs": [
    {
     "name": "stdout",
     "output_type": "stream",
     "text": [
      "[ 3 10  4]\n"
     ]
    }
   ],
   "source": [
    "print(security_breaches.sum(axis = 0)) #suma columnas "
   ]
  },
  {
   "cell_type": "markdown",
   "metadata": {},
   "source": [
    "## Valores mínimo y valores máximo "
   ]
  },
  {
   "cell_type": "code",
   "execution_count": 32,
   "metadata": {},
   "outputs": [
    {
     "data": {
      "text/plain": [
       "0"
      ]
     },
     "execution_count": 32,
     "metadata": {},
     "output_type": "execute_result"
    }
   ],
   "source": [
    "security_breaches.min()"
   ]
  },
  {
   "cell_type": "code",
   "execution_count": 33,
   "metadata": {},
   "outputs": [
    {
     "data": {
      "text/plain": [
       "5"
      ]
     },
     "execution_count": 33,
     "metadata": {},
     "output_type": "execute_result"
    }
   ],
   "source": [
    "security_breaches.max()"
   ]
  },
  {
   "cell_type": "code",
   "execution_count": 34,
   "metadata": {},
   "outputs": [
    {
     "data": {
      "text/plain": [
       "array([0, 0, 1, 1, 0])"
      ]
     },
     "execution_count": 34,
     "metadata": {},
     "output_type": "execute_result"
    }
   ],
   "source": [
    "security_breaches.min(axis=1) # Pr fila selecciona el mínimo "
   ]
  },
  {
   "cell_type": "code",
   "execution_count": 35,
   "metadata": {},
   "outputs": [
    {
     "data": {
      "text/plain": [
       "array([0, 0, 0])"
      ]
     },
     "execution_count": 35,
     "metadata": {},
     "output_type": "execute_result"
    }
   ],
   "source": [
    "security_breaches.min(axis=0)"
   ]
  },
  {
   "cell_type": "markdown",
   "metadata": {},
   "source": [
    "## Media: mean()"
   ]
  },
  {
   "cell_type": "code",
   "execution_count": 36,
   "metadata": {},
   "outputs": [
    {
     "data": {
      "text/plain": [
       "1.1333333333333333"
      ]
     },
     "execution_count": 36,
     "metadata": {},
     "output_type": "execute_result"
    }
   ],
   "source": [
    "\n",
    "security_breaches.mean()"
   ]
  },
  {
   "cell_type": "code",
   "execution_count": 37,
   "metadata": {},
   "outputs": [
    {
     "data": {
      "text/plain": [
       "array([[0, 5, 1],\n",
       "       [0, 2, 0],\n",
       "       [1, 1, 2],\n",
       "       [2, 2, 1],\n",
       "       [0, 0, 0]])"
      ]
     },
     "execution_count": 37,
     "metadata": {},
     "output_type": "execute_result"
    }
   ],
   "source": [
    "security_breaches"
   ]
  },
  {
   "cell_type": "code",
   "execution_count": 38,
   "metadata": {},
   "outputs": [
    {
     "data": {
      "text/plain": [
       "array([2.        , 0.66666667, 1.33333333, 1.66666667, 0.        ])"
      ]
     },
     "execution_count": 38,
     "metadata": {},
     "output_type": "execute_result"
    }
   ],
   "source": [
    "# media de las filas \n",
    "security_breaches.mean(axis=1) #Por filas "
   ]
  },
  {
   "cell_type": "code",
   "execution_count": 39,
   "metadata": {},
   "outputs": [
    {
     "data": {
      "text/plain": [
       "array([[2.        ],\n",
       "       [0.66666667],\n",
       "       [1.33333333],\n",
       "       [1.66666667],\n",
       "       [0.        ]])"
      ]
     },
     "execution_count": 39,
     "metadata": {},
     "output_type": "execute_result"
    }
   ],
   "source": [
    "security_breaches.mean(axis=1, keepdims=True)"
   ]
  },
  {
   "cell_type": "markdown",
   "metadata": {},
   "source": [
    "## El argumento keepdims"
   ]
  },
  {
   "cell_type": "code",
   "execution_count": 40,
   "metadata": {},
   "outputs": [
    {
     "data": {
      "text/plain": [
       "array([[6],\n",
       "       [2],\n",
       "       [4],\n",
       "       [5],\n",
       "       [0]])"
      ]
     },
     "execution_count": 40,
     "metadata": {},
     "output_type": "execute_result"
    }
   ],
   "source": [
    "security_breaches.sum(axis=1, keepdims=True)"
   ]
  },
  {
   "cell_type": "code",
   "execution_count": 41,
   "metadata": {},
   "outputs": [
    {
     "data": {
      "text/plain": [
       "array([[ 3, 10,  4]])"
      ]
     },
     "execution_count": 41,
     "metadata": {},
     "output_type": "execute_result"
    }
   ],
   "source": [
    "security_breaches.sum(axis=0, keepdims=True)"
   ]
  },
  {
   "cell_type": "markdown",
   "metadata": {},
   "source": [
    "## Sumas acumuladas:  .cumsum()"
   ]
  },
  {
   "cell_type": "code",
   "execution_count": 42,
   "metadata": {},
   "outputs": [
    {
     "name": "stdout",
     "output_type": "stream",
     "text": [
      "El aaray antes del cumsum: \n"
     ]
    },
    {
     "data": {
      "text/plain": [
       "array([[0, 5, 1],\n",
       "       [0, 2, 0],\n",
       "       [1, 1, 2],\n",
       "       [2, 2, 1],\n",
       "       [0, 0, 0]])"
      ]
     },
     "execution_count": 42,
     "metadata": {},
     "output_type": "execute_result"
    }
   ],
   "source": [
    "print('El aaray antes del cumsum: ')\n",
    "security_breaches"
   ]
  },
  {
   "cell_type": "code",
   "execution_count": 43,
   "metadata": {},
   "outputs": [
    {
     "name": "stdout",
     "output_type": "stream",
     "text": [
      "El array despúes del cumsum: \n"
     ]
    },
    {
     "data": {
      "text/plain": [
       "array([[ 0,  5,  1],\n",
       "       [ 0,  7,  1],\n",
       "       [ 1,  8,  3],\n",
       "       [ 3, 10,  4],\n",
       "       [ 3, 10,  4]])"
      ]
     },
     "execution_count": 43,
     "metadata": {},
     "output_type": "execute_result"
    }
   ],
   "source": [
    "print('El array despúes del cumsum: ')\n",
    "security_breaches.cumsum(axis=0) # suma acumulado en  las columnas "
   ]
  },
  {
   "cell_type": "markdown",
   "metadata": {},
   "source": [
    "-------------------------\n",
    "# \"Práctica 32\"\n",
    "-------------------------"
   ]
  },
  {
   "cell_type": "code",
   "execution_count": 44,
   "metadata": {},
   "outputs": [
    {
     "name": "stdout",
     "output_type": "stream",
     "text": [
      "El array de x: \n",
      "Shape de x: (2, 3)\n",
      "Consume 24 bytes\n",
      "[[1 0 4]\n",
      " [3 3 1]]\n",
      "-----------------------------------\n",
      "El array de y: \n",
      "Shape de y:  (3, 2)\n",
      "Consume 24 bytes\n",
      "[[2 5]\n",
      " [1 1]\n",
      " [3 2]]\n",
      "-----------------------------------\n"
     ]
    }
   ],
   "source": [
    "x = np.array([[1,0,4],[3,3,1]])\n",
    "y = np.array([[2,5],[1,1],[3,2]])\n",
    "\n",
    "print('El array de x: ')\n",
    "print(f'Shape de x:', x.shape)\n",
    "print(\"Consume\",x.nbytes,\"bytes\") \n",
    "print(x)\n",
    "print('-----------------------------------')\n",
    "print('El array de y: ')\n",
    "print(f'Shape de y: ', y.shape)\n",
    "print(\"Consume\",y.nbytes,\"bytes\") \n",
    "print(y)\n",
    "print('-----------------------------------')\n",
    "# x.dot(y)"
   ]
  },
  {
   "cell_type": "code",
   "execution_count": 45,
   "metadata": {},
   "outputs": [
    {
     "data": {
      "text/plain": [
       "array([[14, 13],\n",
       "       [12, 20]])"
      ]
     },
     "execution_count": 45,
     "metadata": {},
     "output_type": "execute_result"
    }
   ],
   "source": [
    "x.dot(y)"
   ]
  },
  {
   "cell_type": "markdown",
   "metadata": {},
   "source": [
    "## Introducción a vectores y matrices "
   ]
  },
  {
   "cell_type": "markdown",
   "metadata": {},
   "source": [
    "Multiplicación fila 1 de x por columna 1 de y:\n",
    "\n",
    "[1, 0, 4] × [2, 1, 3] = ? \n",
    "\n",
    "Para multiplicar la fila 1 de x por la columna 1 de y, multiplicamos cada elemento de la fila por cada elemento de la columna y sumamos los resultados:\n",
    "\n",
    "1 × 2 = 2    ---->                1 × 5 = 5\n",
    "\n",
    "0 × 1 = 0    ---->                 0 × 1 = 0\n",
    "\n",
    "4 × 3 = 12   ---->                 4 × 2 = 8\n",
    "\n",
    "   *  Total 14     ----->                Total 13 "
   ]
  },
  {
   "cell_type": "code",
   "execution_count": 46,
   "metadata": {},
   "outputs": [
    {
     "data": {
      "text/plain": [
       "' x = [[1, 0, 4], [3, 3, 1]]\\n    y = [[2, 5], [1, 1], [3, 2]]\\n\\nresult = x.dot(y) = [[1*2 + 0*1 + 4*3, 1*5 + 0*1 + 4*2],\\n                     [3*2 + 3*1 + 1*3, 3*5 + 3*1 + 1*2]]\\n\\nresult = [[14, 13], [16, 22]] '"
      ]
     },
     "execution_count": 46,
     "metadata": {},
     "output_type": "execute_result"
    }
   ],
   "source": [
    "\"\"\" x = [[1, 0, 4], [3, 3, 1]]\n",
    "    y = [[2, 5], [1, 1], [3, 2]]\n",
    "\n",
    "result = x.dot(y) = [[1*2 + 0*1 + 4*3, 1*5 + 0*1 + 4*2],\n",
    "                     [3*2 + 3*1 + 1*3, 3*5 + 3*1 + 1*2]]\n",
    "\n",
    "result = [[14, 13], [16, 22]] \"\"\""
   ]
  },
  {
   "cell_type": "markdown",
   "metadata": {},
   "source": [
    "## Fundamentos del objeto de matriz de NumPy "
   ]
  },
  {
   "cell_type": "code",
   "execution_count": 47,
   "metadata": {},
   "outputs": [
    {
     "data": {
      "text/plain": [
       "array([[1, 2, 3],\n",
       "       [4, 5, 6]])"
      ]
     },
     "execution_count": 47,
     "metadata": {},
     "output_type": "execute_result"
    }
   ],
   "source": [
    "x = np.array([[1,2,3], [4,5,6]])\n",
    "x"
   ]
  },
  {
   "cell_type": "code",
   "execution_count": 48,
   "metadata": {},
   "outputs": [
    {
     "name": "stdout",
     "output_type": "stream",
     "text": [
      "We just create a  <class 'numpy.ndarray'>\n",
      "\n",
      "Our template has shape as (2, 3)\n",
      "\n",
      "Total size is 6\n",
      "\n",
      "The dimension of our array is  2\n",
      "\n",
      "Data type of elements are int32\n",
      "\n",
      "It consumes 24 bytes\n"
     ]
    }
   ],
   "source": [
    "\n",
    "print(\"We just create a \", type(x))\n",
    "print(\"\\nOur template has shape as\" ,x.shape)\n",
    "\n",
    "print(\"\\nTotal size is\",x.size)\n",
    "print(\"\\nThe dimension of our array is \" ,x.ndim)\n",
    "print(\"\\nData type of elements are\",x.dtype)\n",
    "print(\"\\nIt consumes\",x.nbytes,\"bytes\") \n"
   ]
  },
  {
   "cell_type": "code",
   "execution_count": 49,
   "metadata": {},
   "outputs": [
    {
     "name": "stdout",
     "output_type": "stream",
     "text": [
      "[[1. 2. 3.]\n",
      " [4. 5. 6.]]\n",
      "48\n"
     ]
    }
   ],
   "source": [
    "x = np.array([[1,2,3],[4,5,6]], dtype = float)\n",
    "print(x)\n",
    "print(x.nbytes)"
   ]
  },
  {
   "cell_type": "code",
   "execution_count": 50,
   "metadata": {},
   "outputs": [
    {
     "name": "stdout",
     "output_type": "stream",
     "text": [
      "[[1.+0.j 2.+0.j 3.+0.j]\n",
      " [4.+0.j 5.+0.j 6.+0.j]]\n",
      "96\n"
     ]
    }
   ],
   "source": [
    "\n",
    "x = np.array([[1,2,3],[4,5,6]], dtype = complex)\n",
    "print(x)\n",
    "print(x.nbytes)"
   ]
  },
  {
   "cell_type": "code",
   "execution_count": 51,
   "metadata": {},
   "outputs": [
    {
     "name": "stdout",
     "output_type": "stream",
     "text": [
      "[[ 1  2  3]\n",
      " [ 4 55  6]]\n",
      "24\n"
     ]
    }
   ],
   "source": [
    "\n",
    "x = np.array([[1,2,3],[4,55,6]], dtype = np.uint32)\n",
    "print(x)\n",
    "# print('------------------------')\n",
    "print(x.nbytes)"
   ]
  },
  {
   "cell_type": "code",
   "execution_count": 52,
   "metadata": {},
   "outputs": [
    {
     "name": "stdout",
     "output_type": "stream",
     "text": [
      "int64 consume:  48 bytes\n",
      "int32 consume:  24 bytes\n"
     ]
    }
   ],
   "source": [
    "x = np.array([[1,2,3],[4,5,6]], dtype = np.int64)\n",
    "print(\"int64 consume: \",x.nbytes, \"bytes\")\n",
    "x = np.array([[1,2,3],[4,5,6]], dtype = np.int32)\n",
    "print(\"int32 consume: \",x.nbytes, \"bytes\")"
   ]
  },
  {
   "cell_type": "code",
   "execution_count": 53,
   "metadata": {},
   "outputs": [
    {
     "data": {
      "text/plain": [
       "array([[1., 2., 3.],\n",
       "       [4., 5., 6.]])"
      ]
     },
     "execution_count": 53,
     "metadata": {},
     "output_type": "execute_result"
    }
   ],
   "source": [
    "\n",
    "x_copy = np.array(x, dtype = float)\n",
    "x_copy "
   ]
  },
  {
   "cell_type": "code",
   "execution_count": 54,
   "metadata": {},
   "outputs": [
    {
     "data": {
      "text/plain": [
       "array([[1, 2, 3],\n",
       "       [4, 5, 6]])"
      ]
     },
     "execution_count": 54,
     "metadata": {},
     "output_type": "execute_result"
    }
   ],
   "source": [
    "\n",
    "x_copy_int = x_copy.astype(int)\n",
    "x_copy_int"
   ]
  },
  {
   "cell_type": "code",
   "execution_count": 55,
   "metadata": {},
   "outputs": [
    {
     "data": {
      "text/plain": [
       "array([[1., 2., 3.],\n",
       "       [4., 5., 6.]])"
      ]
     },
     "execution_count": 55,
     "metadata": {},
     "output_type": "execute_result"
    }
   ],
   "source": [
    "x_copy"
   ]
  },
  {
   "cell_type": "code",
   "execution_count": 56,
   "metadata": {},
   "outputs": [
    {
     "name": "stdout",
     "output_type": "stream",
     "text": [
      "<class 'numpy.ndarray'>\n",
      "float64\n",
      "Con float 64 consume mas bytes:  80000000\n",
      "Con float 32 consume menos bytes:  40000000\n"
     ]
    }
   ],
   "source": [
    "\n",
    "Data_Cancer = np.random.rand(100000,100)\n",
    "print(type(Data_Cancer))\n",
    "print(Data_Cancer.dtype)\n",
    "print(f'Con float 64 consume mas bytes: ', Data_Cancer.nbytes)\n",
    "Data_Cancer_New = np.array(Data_Cancer, dtype = np.float32)\n",
    "print(f'Con float 32 consume menos bytes: ', Data_Cancer_New.nbytes)"
   ]
  },
  {
   "cell_type": "markdown",
   "metadata": {},
   "source": [
    "## Operaciones con NumPy Array "
   ]
  },
  {
   "cell_type": "code",
   "execution_count": 57,
   "metadata": {},
   "outputs": [
    {
     "name": "stdout",
     "output_type": "stream",
     "text": [
      "<class 'numpy.ndarray'>\n",
      "[ 2 14  6  8]\n"
     ]
    }
   ],
   "source": [
    "\n",
    "my_list = [2, 14, 6, 8]\n",
    "my_array = np.asarray(my_list)\n",
    "print(type(my_array)) \n",
    "print(my_array)"
   ]
  },
  {
   "cell_type": "code",
   "execution_count": 58,
   "metadata": {},
   "outputs": [
    {
     "data": {
      "text/plain": [
       "array([ 4, 16,  8, 10])"
      ]
     },
     "execution_count": 58,
     "metadata": {},
     "output_type": "execute_result"
    }
   ],
   "source": [
    "my_array +2"
   ]
  },
  {
   "cell_type": "code",
   "execution_count": 59,
   "metadata": {},
   "outputs": [
    {
     "data": {
      "text/plain": [
       "array([ 1, 13,  5,  7])"
      ]
     },
     "execution_count": 59,
     "metadata": {},
     "output_type": "execute_result"
    }
   ],
   "source": [
    "my_array -1"
   ]
  },
  {
   "cell_type": "code",
   "execution_count": 60,
   "metadata": {},
   "outputs": [
    {
     "data": {
      "text/plain": [
       "array([1., 7., 3., 4.])"
      ]
     },
     "execution_count": 60,
     "metadata": {},
     "output_type": "execute_result"
    }
   ],
   "source": [
    "my_array /2"
   ]
  },
  {
   "cell_type": "code",
   "execution_count": 61,
   "metadata": {},
   "outputs": [
    {
     "data": {
      "text/plain": [
       "array([3., 3., 3., 3.])"
      ]
     },
     "execution_count": 61,
     "metadata": {},
     "output_type": "execute_result"
    }
   ],
   "source": [
    "second_array = np.zeros(4) + 3\n",
    "second_array "
   ]
  },
  {
   "cell_type": "code",
   "execution_count": 62,
   "metadata": {},
   "outputs": [
    {
     "name": "stdout",
     "output_type": "stream",
     "text": [
      "[ 2 14  6  8]\n",
      "-------------------\n",
      "[3. 3. 3. 3.]\n",
      "\n",
      "====================\n",
      "[-1. 11.  3.  5.]\n"
     ]
    }
   ],
   "source": [
    "print(my_array)\n",
    "print('-------------------')\n",
    "print(second_array)\n",
    "\n",
    "print('\\n====================')\n",
    "print(my_array - second_array)"
   ]
  },
  {
   "cell_type": "code",
   "execution_count": 63,
   "metadata": {},
   "outputs": [
    {
     "data": {
      "text/plain": [
       "array([1.5       , 0.21428571, 0.5       , 0.375     ])"
      ]
     },
     "execution_count": 63,
     "metadata": {},
     "output_type": "execute_result"
    }
   ],
   "source": [
    "second_array / my_array \n",
    "# print(second_array / my_array )"
   ]
  },
  {
   "cell_type": "markdown",
   "metadata": {},
   "source": [
    "La función np.identity() en NumPy devuelve una matriz identidad, que es una matriz cuadrada con unos en la diagonal principal y ceros en todas las demás posiciones.\n",
    "\n",
    "Por ejemplo, si llamamos a np.identity(4), obtenemos una matriz identidad de 4x4.\n",
    "\n",
    "La matriz identidad es una matriz especial que, cuando se multiplica por otra matriz, no cambia la matriz original. Es decir, si tenemos una matriz A y la multiplicamos por la matriz identidad I, el resultado es la misma matriz A."
   ]
  },
  {
   "cell_type": "code",
   "execution_count": 64,
   "metadata": {},
   "outputs": [
    {
     "name": "stdout",
     "output_type": "stream",
     "text": [
      "second_array antes de identity\n",
      "[3. 3. 3. 3.]\n",
      "\n",
      "second array despues de np.identity\n"
     ]
    },
    {
     "data": {
      "text/plain": [
       "array([[1., 0., 0., 0.],\n",
       "       [0., 1., 0., 0.],\n",
       "       [0., 0., 1., 0.],\n",
       "       [0., 0., 0., 1.]])"
      ]
     },
     "execution_count": 64,
     "metadata": {},
     "output_type": "execute_result"
    }
   ],
   "source": [
    "print('second_array antes de identity')\n",
    "print(second_array)\n",
    "print('\\nsecond array despues de np.identity')\n",
    "second_array = np.identity(4)\n",
    "second_array"
   ]
  },
  {
   "cell_type": "code",
   "execution_count": 65,
   "metadata": {},
   "outputs": [
    {
     "data": {
      "text/plain": [
       "array([[4., 3., 3., 3.],\n",
       "       [3., 4., 3., 3.],\n",
       "       [3., 3., 4., 3.],\n",
       "       [3., 3., 3., 4.]])"
      ]
     },
     "execution_count": 65,
     "metadata": {},
     "output_type": "execute_result"
    }
   ],
   "source": [
    "second_array = np.identity(4)+3 #Aqui si suma los elementos \n",
    "second_array"
   ]
  },
  {
   "cell_type": "code",
   "execution_count": 66,
   "metadata": {},
   "outputs": [
    {
     "name": "stdout",
     "output_type": "stream",
     "text": [
      "[ 2 14  6  8]\n",
      "-------------------\n",
      "[[4. 3. 3. 3.]\n",
      " [3. 4. 3. 3.]\n",
      " [3. 3. 4. 3.]\n",
      " [3. 3. 3. 4.]]\n",
      "\n",
      "====================\n",
      "[[-2. 11.  3.  5.]\n",
      " [-1. 10.  3.  5.]\n",
      " [-1. 11.  2.  5.]\n",
      " [-1. 11.  3.  4.]]\n"
     ]
    }
   ],
   "source": [
    "print(my_array)\n",
    "print('-------------------')\n",
    "print(second_array)\n",
    "\n",
    "print('\\n====================')\n",
    "print(my_array - second_array)\n",
    "\n",
    "# my_array - second_array  "
   ]
  },
  {
   "cell_type": "code",
   "execution_count": 67,
   "metadata": {},
   "outputs": [
    {
     "data": {
      "text/plain": [
       "array([[2.        , 0.21428571, 0.5       , 0.375     ],\n",
       "       [1.5       , 0.28571429, 0.5       , 0.375     ],\n",
       "       [1.5       , 0.21428571, 0.66666667, 0.375     ],\n",
       "       [1.5       , 0.21428571, 0.5       , 0.5       ]])"
      ]
     },
     "execution_count": 67,
     "metadata": {},
     "output_type": "execute_result"
    }
   ],
   "source": [
    "second_array / my_array "
   ]
  },
  {
   "cell_type": "code",
   "execution_count": 68,
   "metadata": {},
   "outputs": [
    {
     "data": {
      "text/plain": [
       "array([3. , 3.5, 4. , 4.5, 5. , 5.5, 6. , 6.5])"
      ]
     },
     "execution_count": 68,
     "metadata": {},
     "output_type": "execute_result"
    }
   ],
   "source": [
    "x = np.arange(3,7,0.5)\n",
    "x"
   ]
  },
  {
   "cell_type": "code",
   "execution_count": 69,
   "metadata": {},
   "outputs": [
    {
     "data": {
      "text/plain": [
       "array([ 1.2       ,  3.26842105,  5.33684211,  7.40526316,  9.47368421,\n",
       "       11.54210526, 13.61052632, 15.67894737, 17.74736842, 19.81578947,\n",
       "       21.88421053, 23.95263158, 26.02105263, 28.08947368, 30.15789474,\n",
       "       32.22631579, 34.29473684, 36.36315789, 38.43157895, 40.5       ])"
      ]
     },
     "execution_count": 69,
     "metadata": {},
     "output_type": "execute_result"
    }
   ],
   "source": [
    "x = np.linspace(1.2, 40.5, num=20)\n",
    "x"
   ]
  },
  {
   "cell_type": "markdown",
   "metadata": {},
   "source": [
    "np.geomspace es una función de NumPy que devuelve un arreglo de números espaciados geométricamente entre dos valores dados."
   ]
  },
  {
   "cell_type": "code",
   "execution_count": 70,
   "metadata": {},
   "outputs": [
    {
     "data": {
      "text/plain": [
       "array([  1.,   5.,  25., 125., 625.])"
      ]
     },
     "execution_count": 70,
     "metadata": {},
     "output_type": "execute_result"
    }
   ],
   "source": [
    "np.geomspace(1, 625, num=5)"
   ]
  },
  {
   "cell_type": "markdown",
   "metadata": {},
   "source": [
    "np.logspace es una función de NumPy que devuelve un arreglo de números espaciados logarítmicamente entre dos valores dados."
   ]
  },
  {
   "cell_type": "code",
   "execution_count": 71,
   "metadata": {},
   "outputs": [
    {
     "data": {
      "text/plain": [
       "array([ 1000.        ,  1778.27941004,  3162.27766017,  5623.4132519 ,\n",
       "       10000.        ])"
      ]
     },
     "execution_count": 71,
     "metadata": {},
     "output_type": "execute_result"
    }
   ],
   "source": [
    "np.logspace(3, 4, num=5)"
   ]
  },
  {
   "cell_type": "code",
   "execution_count": 72,
   "metadata": {},
   "outputs": [
    {
     "data": {
      "text/plain": [
       "array([3.        , 3.2237098 , 3.46410162, 3.72241944, 4.        ])"
      ]
     },
     "execution_count": 72,
     "metadata": {},
     "output_type": "execute_result"
    }
   ],
   "source": [
    "np.logspace(np.log10(3) , np.log10(4) , num=5)"
   ]
  },
  {
   "cell_type": "code",
   "execution_count": 73,
   "metadata": {},
   "outputs": [
    {
     "data": {
      "text/plain": [
       "array([ True, False, False,  True])"
      ]
     },
     "execution_count": 73,
     "metadata": {},
     "output_type": "execute_result"
    }
   ],
   "source": [
    "x = np.array([1,2,3,4])\n",
    "y = np.array([1,3,4,4])\n",
    "x == y "
   ]
  },
  {
   "cell_type": "code",
   "execution_count": 74,
   "metadata": {},
   "outputs": [
    {
     "data": {
      "text/plain": [
       "False"
      ]
     },
     "execution_count": 74,
     "metadata": {},
     "output_type": "execute_result"
    }
   ],
   "source": [
    "x = np.array([1,2,3,4])\n",
    "y = np.array([1,3,4,4])\n",
    "np.array_equal(x,y)"
   ]
  },
  {
   "cell_type": "code",
   "execution_count": 75,
   "metadata": {},
   "outputs": [
    {
     "data": {
      "text/plain": [
       "array([False,  True,  True, False])"
      ]
     },
     "execution_count": 75,
     "metadata": {},
     "output_type": "execute_result"
    }
   ],
   "source": [
    "x = np.array([1,2,3,4])\n",
    "y = np.array([1,3,4,4])\n",
    "x < y "
   ]
  },
  {
   "cell_type": "markdown",
   "metadata": {},
   "source": [
    "La función np.logical_or devuelve un array con los resultados de la operación lógica \"or\" (o) entre los elementos de los arrays x -- y"
   ]
  },
  {
   "cell_type": "code",
   "execution_count": 76,
   "metadata": {},
   "outputs": [
    {
     "data": {
      "text/plain": [
       "array([ True,  True, False,  True])"
      ]
     },
     "execution_count": 76,
     "metadata": {},
     "output_type": "execute_result"
    }
   ],
   "source": [
    "x = np.array([0, 1, 0, 0], dtype=bool)\n",
    "y = np.array([1, 1, 0, 1], dtype=bool)\n",
    "np.logical_or(x,y)"
   ]
  },
  {
   "cell_type": "code",
   "execution_count": 77,
   "metadata": {},
   "outputs": [
    {
     "data": {
      "text/plain": [
       "array([False,  True, False, False])"
      ]
     },
     "execution_count": 77,
     "metadata": {},
     "output_type": "execute_result"
    }
   ],
   "source": [
    "np.logical_and(x,y)"
   ]
  },
  {
   "cell_type": "code",
   "execution_count": 78,
   "metadata": {},
   "outputs": [
    {
     "data": {
      "text/plain": [
       "array([ True, False,  True,  True])"
      ]
     },
     "execution_count": 78,
     "metadata": {},
     "output_type": "execute_result"
    }
   ],
   "source": [
    "x = np.array([12,16,57,11])\n",
    "np.logical_or(x < 13, x > 50)"
   ]
  },
  {
   "cell_type": "markdown",
   "metadata": {},
   "source": [
    " np.exp(x) devuelve un nuevo array con los valores exponentiales de cada elemento en x. \n",
    "\n",
    " Por ejemplo, si x es el array [1, 2, 3, 4], entonces np.exp(x) devolverá un array con los valores [e^1, e^2, e^3, e^4], donde e es la base del exponente neperiano (aproximadamente 2.718)."
   ]
  },
  {
   "cell_type": "code",
   "execution_count": 79,
   "metadata": {},
   "outputs": [
    {
     "data": {
      "text/plain": [
       "array([ 2.71828183,  7.3890561 , 20.08553692, 54.59815003])"
      ]
     },
     "execution_count": 79,
     "metadata": {},
     "output_type": "execute_result"
    }
   ],
   "source": [
    "x = np.array([1, 2, 3,4 ])\n",
    "np.exp(x)"
   ]
  },
  {
   "cell_type": "code",
   "execution_count": 80,
   "metadata": {},
   "outputs": [
    {
     "name": "stdout",
     "output_type": "stream",
     "text": [
      "[1 2 3 4]\n",
      "---------\n"
     ]
    },
    {
     "data": {
      "text/plain": [
       "array([0.        , 0.69314718, 1.09861229, 1.38629436])"
      ]
     },
     "execution_count": 80,
     "metadata": {},
     "output_type": "execute_result"
    }
   ],
   "source": [
    "print(x)\n",
    "print('---------')\n",
    "np.log(x)"
   ]
  },
  {
   "cell_type": "code",
   "execution_count": 81,
   "metadata": {},
   "outputs": [
    {
     "data": {
      "text/plain": [
       "array([ 0.84147098,  0.90929743,  0.14112001, -0.7568025 ])"
      ]
     },
     "execution_count": 81,
     "metadata": {},
     "output_type": "execute_result"
    }
   ],
   "source": [
    "np.sin(x)"
   ]
  },
  {
   "cell_type": "code",
   "execution_count": 82,
   "metadata": {},
   "outputs": [
    {
     "data": {
      "text/plain": [
       "array([0, 1, 2, 3, 4, 5, 6, 7, 8])"
      ]
     },
     "execution_count": 82,
     "metadata": {},
     "output_type": "execute_result"
    }
   ],
   "source": [
    "x = np.arange(9)\n",
    "x"
   ]
  },
  {
   "cell_type": "code",
   "execution_count": 83,
   "metadata": {},
   "outputs": [
    {
     "data": {
      "text/plain": [
       "array([[0, 1, 2],\n",
       "       [3, 4, 5],\n",
       "       [6, 7, 8]])"
      ]
     },
     "execution_count": 83,
     "metadata": {},
     "output_type": "execute_result"
    }
   ],
   "source": [
    "x = np.arange(9).reshape((3, 3))\n",
    "x"
   ]
  },
  {
   "cell_type": "code",
   "execution_count": 84,
   "metadata": {},
   "outputs": [
    {
     "data": {
      "text/plain": [
       "array([[0, 1, 2],\n",
       "       [3, 4, 5]])"
      ]
     },
     "execution_count": 84,
     "metadata": {},
     "output_type": "execute_result"
    }
   ],
   "source": [
    "x = np.arange(6).reshape(2,3)\n",
    "x"
   ]
  },
  {
   "cell_type": "code",
   "execution_count": 85,
   "metadata": {},
   "outputs": [
    {
     "data": {
      "text/plain": [
       "array([[0, 3],\n",
       "       [1, 4],\n",
       "       [2, 5]])"
      ]
     },
     "execution_count": 85,
     "metadata": {},
     "output_type": "execute_result"
    }
   ],
   "source": [
    "x.T"
   ]
  },
  {
   "cell_type": "code",
   "execution_count": 86,
   "metadata": {},
   "outputs": [
    {
     "data": {
      "text/plain": [
       "array([[0, 1, 2],\n",
       "       [3, 4, 5],\n",
       "       [6, 7, 8]])"
      ]
     },
     "execution_count": 86,
     "metadata": {},
     "output_type": "execute_result"
    }
   ],
   "source": [
    "x = np.arange(9).reshape((3,3))\n",
    "x"
   ]
  },
  {
   "cell_type": "code",
   "execution_count": 87,
   "metadata": {},
   "outputs": [
    {
     "data": {
      "text/plain": [
       "36"
      ]
     },
     "execution_count": 87,
     "metadata": {},
     "output_type": "execute_result"
    }
   ],
   "source": [
    "np.sum(x)"
   ]
  },
  {
   "cell_type": "markdown",
   "metadata": {},
   "source": [
    "np.amin(x) is a NumPy function that returns the minimum value in an array x."
   ]
  },
  {
   "cell_type": "code",
   "execution_count": 88,
   "metadata": {},
   "outputs": [
    {
     "data": {
      "text/plain": [
       "0"
      ]
     },
     "execution_count": 88,
     "metadata": {},
     "output_type": "execute_result"
    }
   ],
   "source": [
    "np.amin(x)"
   ]
  },
  {
   "cell_type": "markdown",
   "metadata": {},
   "source": [
    "La función np.amax(x) devuelve el valor máximo de un arreglo o matriz x."
   ]
  },
  {
   "cell_type": "code",
   "execution_count": 89,
   "metadata": {},
   "outputs": [
    {
     "data": {
      "text/plain": [
       "8"
      ]
     },
     "execution_count": 89,
     "metadata": {},
     "output_type": "execute_result"
    }
   ],
   "source": [
    "np.amax(x)"
   ]
  },
  {
   "cell_type": "markdown",
   "metadata": {},
   "source": [
    "La función np.amin(x, axis=0) devuelve el valor mínimo de cada columna de una matriz x"
   ]
  },
  {
   "cell_type": "code",
   "execution_count": 90,
   "metadata": {},
   "outputs": [
    {
     "data": {
      "text/plain": [
       "array([0, 1, 2])"
      ]
     },
     "execution_count": 90,
     "metadata": {},
     "output_type": "execute_result"
    }
   ],
   "source": [
    "np.amin(x, axis=0) #axis=0 columna"
   ]
  },
  {
   "cell_type": "code",
   "execution_count": 91,
   "metadata": {},
   "outputs": [
    {
     "data": {
      "text/plain": [
       "array([0, 3, 6])"
      ]
     },
     "execution_count": 91,
     "metadata": {},
     "output_type": "execute_result"
    }
   ],
   "source": [
    "np.amin(x, axis=1)"
   ]
  },
  {
   "cell_type": "code",
   "execution_count": 92,
   "metadata": {},
   "outputs": [
    {
     "data": {
      "text/plain": [
       "6.4"
      ]
     },
     "execution_count": 92,
     "metadata": {},
     "output_type": "execute_result"
    }
   ],
   "source": [
    "np.percentile(x, 80)"
   ]
  },
  {
   "cell_type": "markdown",
   "metadata": {},
   "source": [
    "np.argmax(x) devuelve el índice del elemento con el valor más grande en el array x."
   ]
  },
  {
   "cell_type": "code",
   "execution_count": 93,
   "metadata": {},
   "outputs": [
    {
     "data": {
      "text/plain": [
       "2"
      ]
     },
     "execution_count": 93,
     "metadata": {},
     "output_type": "execute_result"
    }
   ],
   "source": [
    "x = np.array([1,-21,3,-3])\n",
    "np.argmax(x)"
   ]
  },
  {
   "cell_type": "markdown",
   "metadata": {},
   "source": [
    " np.argmin(x) devuelve el índice del elemento con el valor más pequeño en el array x\n"
   ]
  },
  {
   "cell_type": "code",
   "execution_count": 94,
   "metadata": {},
   "outputs": [
    {
     "data": {
      "text/plain": [
       "1"
      ]
     },
     "execution_count": 94,
     "metadata": {},
     "output_type": "execute_result"
    }
   ],
   "source": [
    "np.argmin(x)\n"
   ]
  },
  {
   "cell_type": "code",
   "execution_count": 95,
   "metadata": {},
   "outputs": [
    {
     "data": {
      "text/plain": [
       "array([[ 2,  3,  5],\n",
       "       [20, 12,  4]])"
      ]
     },
     "execution_count": 95,
     "metadata": {},
     "output_type": "execute_result"
    }
   ],
   "source": [
    "x = np.array([[2, 3, 5], [20, 12, 4]])\n",
    "x"
   ]
  },
  {
   "cell_type": "code",
   "execution_count": 96,
   "metadata": {},
   "outputs": [
    {
     "data": {
      "text/plain": [
       "7.666666666666667"
      ]
     },
     "execution_count": 96,
     "metadata": {},
     "output_type": "execute_result"
    }
   ],
   "source": [
    "np.mean(x)"
   ]
  },
  {
   "cell_type": "code",
   "execution_count": 97,
   "metadata": {},
   "outputs": [
    {
     "data": {
      "text/plain": [
       "array([11. ,  7.5,  4.5])"
      ]
     },
     "execution_count": 97,
     "metadata": {},
     "output_type": "execute_result"
    }
   ],
   "source": [
    "np.mean(x, axis=0) #columnas "
   ]
  },
  {
   "cell_type": "code",
   "execution_count": 98,
   "metadata": {},
   "outputs": [
    {
     "data": {
      "text/plain": [
       "array([ 3.33333333, 12.        ])"
      ]
     },
     "execution_count": 98,
     "metadata": {},
     "output_type": "execute_result"
    }
   ],
   "source": [
    "np.mean(x, axis=1)#filas "
   ]
  },
  {
   "cell_type": "code",
   "execution_count": 99,
   "metadata": {},
   "outputs": [
    {
     "data": {
      "text/plain": [
       "4.5"
      ]
     },
     "execution_count": 99,
     "metadata": {},
     "output_type": "execute_result"
    }
   ],
   "source": [
    "np.median(x)"
   ]
  },
  {
   "cell_type": "code",
   "execution_count": 100,
   "metadata": {},
   "outputs": [
    {
     "data": {
      "text/plain": [
       "6.394442031083626"
      ]
     },
     "execution_count": 100,
     "metadata": {},
     "output_type": "execute_result"
    }
   ],
   "source": [
    "np.std(x)"
   ]
  },
  {
   "cell_type": "markdown",
   "metadata": {},
   "source": [
    "## Trabajando con Arrays Multidimensionales "
   ]
  },
  {
   "cell_type": "code",
   "execution_count": 101,
   "metadata": {},
   "outputs": [
    {
     "name": "stdout",
     "output_type": "stream",
     "text": [
      "[[1. 1. 1. 1.]\n",
      " [1. 1. 1. 1.]\n",
      " [1. 1. 1. 1.]\n",
      " [1. 1. 1. 1.]]\n",
      "2\n",
      "(4, 4)\n"
     ]
    }
   ],
   "source": [
    "c = np.ones((4, 4))\n",
    "print(c)\n",
    "print(c.ndim)\n",
    "print(c.shape)"
   ]
  },
  {
   "cell_type": "code",
   "execution_count": 102,
   "metadata": {},
   "outputs": [
    {
     "name": "stdout",
     "output_type": "stream",
     "text": [
      "[[1. 1. 1. 1.]\n",
      " [1. 1. 1. 1.]\n",
      " [1. 1. 1. 1.]\n",
      " [1. 1. 1. 1.]]\n",
      "(4, 4)\n"
     ]
    }
   ],
   "source": [
    "multiplicacion= c*c\n",
    "print(multiplicacion)\n",
    "print(multiplicacion.shape)"
   ]
  },
  {
   "cell_type": "code",
   "execution_count": 103,
   "metadata": {},
   "outputs": [
    {
     "data": {
      "text/plain": [
       "array([[4., 4., 4., 4.],\n",
       "       [4., 4., 4., 4.],\n",
       "       [4., 4., 4., 4.],\n",
       "       [4., 4., 4., 4.]])"
      ]
     },
     "execution_count": 103,
     "metadata": {},
     "output_type": "execute_result"
    }
   ],
   "source": [
    "c.dot(c)"
   ]
  },
  {
   "cell_type": "markdown",
   "metadata": {},
   "source": [
    "El método `np.vstack` (Vertical Stack) es una función de NumPy que permite apilar matrices o arrays verticalmente, es decir, concatenarlos en la dirección vertical."
   ]
  },
  {
   "cell_type": "code",
   "execution_count": 104,
   "metadata": {},
   "outputs": [
    {
     "name": "stdout",
     "output_type": "stream",
     "text": [
      "[[0 1 2 3 4]\n",
      " [5 6 7 8 9]]\n",
      "[[ 0  1  2  3  4]\n",
      " [ 5  6  7  8  9]\n",
      " [10 11 12 13 14]]\n",
      "--------------------------------\n"
     ]
    },
    {
     "data": {
      "text/plain": [
       "array([[ 0,  1,  2,  3,  4],\n",
       "       [ 5,  6,  7,  8,  9],\n",
       "       [10, 11, 12, 13, 14],\n",
       "       [ 0,  1,  2,  3,  4],\n",
       "       [ 5,  6,  7,  8,  9]])"
      ]
     },
     "execution_count": 104,
     "metadata": {},
     "output_type": "execute_result"
    }
   ],
   "source": [
    "y = np.arange(15).reshape(3,5) \n",
    "x = np.arange(10).reshape(2,5)\n",
    "print(x)\n",
    "print(y)\n",
    "print('--------------------------------')\n",
    "new_array = np.vstack((y,x))\n",
    "new_array"
   ]
  },
  {
   "cell_type": "markdown",
   "metadata": {},
   "source": [
    "La función `hstack` en NumPy se utiliza para apilar arrays horizontalmente, es decir, concatenar arrays junto a lo ancho. Esto significa que los arrays se unen lado a lado, en lugar de uno encima del otro como lo hace vstack."
   ]
  },
  {
   "cell_type": "code",
   "execution_count": 105,
   "metadata": {},
   "outputs": [
    {
     "name": "stdout",
     "output_type": "stream",
     "text": [
      "[[0 1]\n",
      " [2 3]\n",
      " [4 5]\n",
      " [6 7]\n",
      " [8 9]]\n",
      "[[ 0  1  2]\n",
      " [ 3  4  5]\n",
      " [ 6  7  8]\n",
      " [ 9 10 11]\n",
      " [12 13 14]]\n",
      "--------------------------------\n",
      "Apila horizontal\n"
     ]
    },
    {
     "data": {
      "text/plain": [
       "array([[ 0,  1,  2,  0,  1],\n",
       "       [ 3,  4,  5,  2,  3],\n",
       "       [ 6,  7,  8,  4,  5],\n",
       "       [ 9, 10, 11,  6,  7],\n",
       "       [12, 13, 14,  8,  9]])"
      ]
     },
     "execution_count": 105,
     "metadata": {},
     "output_type": "execute_result"
    }
   ],
   "source": [
    "\n",
    "y = np.arange(15).reshape(5,3) \n",
    "x = np.arange(10).reshape(5,2)\n",
    "print(x)\n",
    "print(y)\n",
    "print('--------------------------------')\n",
    "print('Apila horizontal')\n",
    "new_array = np.hstack((y,x))\n",
    "new_array"
   ]
  },
  {
   "cell_type": "markdown",
   "metadata": {},
   "source": [
    "## Biblioteca Stats "
   ]
  },
  {
   "cell_type": "markdown",
   "metadata": {},
   "source": [
    "Se utiliza la función describe de la biblioteca stats para calcular estadísticas descriptivas del arreglo x. La función devuelve varios valores que se asignan a variables individuales:\n",
    "\n",
    "* n: número de elemento en el arreglo\n",
    "\n",
    "* min_max: tupla con el mínimo y máximo valor del arreglo\n",
    "\n",
    "* mean: media del arreglo\n",
    "\n",
    "* var: varianza del arreglo\n",
    "\n",
    "* skew: sesgo del arreglo\n",
    "\n",
    "* kurt: curtosis del arreglo"
   ]
  },
  {
   "cell_type": "code",
   "execution_count": 106,
   "metadata": {},
   "outputs": [
    {
     "name": "stdout",
     "output_type": "stream",
     "text": [
      "(100, 10)\n"
     ]
    },
    {
     "data": {
      "text/plain": [
       "array([[ 4.99035555e-01,  7.27964334e-02,  6.81818526e-02,\n",
       "        -1.10834308e+00,  1.74501500e-03,  9.81890859e-01],\n",
       "       [ 4.91705154e-01,  9.11347369e-02,  2.51752015e-02,\n",
       "        -1.28788274e+00,  7.07510091e-03,  9.90619661e-01],\n",
       "       [ 5.03572988e-01,  7.20160445e-02,  4.90911995e-02,\n",
       "        -1.03364360e+00,  2.16331425e-02,  9.97717259e-01],\n",
       "       [ 5.02836663e-01,  8.51901874e-02,  1.27952197e-01,\n",
       "        -1.21939576e+00,  9.32876458e-03,  9.98747072e-01],\n",
       "       [ 4.81895516e-01,  9.06261050e-02,  9.70022958e-02,\n",
       "        -1.24546172e+00,  6.38950258e-03,  9.87560419e-01],\n",
       "       [ 5.09789081e-01,  8.86070771e-02, -6.69124932e-02,\n",
       "        -1.31916542e+00,  1.41848918e-02,  9.99843536e-01],\n",
       "       [ 4.92758412e-01,  7.91134830e-02, -2.15397382e-02,\n",
       "        -1.15623718e+00,  5.10575147e-03,  9.71327545e-01],\n",
       "       [ 5.24105457e-01,  8.51966570e-02, -1.47002099e-01,\n",
       "        -1.15079367e+00,  5.67165890e-05,  9.95960745e-01],\n",
       "       [ 5.29074624e-01,  7.85961051e-02, -6.77115632e-02,\n",
       "        -1.15036992e+00,  4.85342364e-02,  9.91240883e-01],\n",
       "       [ 4.68882566e-01,  9.64077223e-02,  1.00176590e-01,\n",
       "        -1.27466082e+00,  3.74818608e-03,  9.92803784e-01]])"
      ]
     },
     "execution_count": 106,
     "metadata": {},
     "output_type": "execute_result"
    }
   ],
   "source": [
    "from scipy import stats\n",
    "\n",
    "x= np.random.rand(100,10)\n",
    "print(x.shape)\n",
    "n, min_max, mean, var, skew, kurt = stats.describe(x)\n",
    "new_array = np.vstack((mean,var,skew,kurt,min_max[0],min_max[1]))\n",
    "new_array.T"
   ]
  },
  {
   "cell_type": "code",
   "execution_count": 107,
   "metadata": {},
   "outputs": [
    {
     "name": "stdout",
     "output_type": "stream",
     "text": [
      "2.5\n"
     ]
    },
    {
     "data": {
      "text/plain": [
       "3.0"
      ]
     },
     "execution_count": 107,
     "metadata": {},
     "output_type": "execute_result"
    }
   ],
   "source": [
    "#biblioteca numpy.ma proporciona soporte para matrices y arreglos con valores faltantes o máscaras.\n",
    "import numpy.ma as ma\n",
    "\n",
    "x = np.arange(6)\n",
    "print(x.mean())\n",
    "\n",
    "#El objeto masked_array es una matriz o arreglo que puede tener valores faltantes o máscaras\n",
    "\n",
    "masked_array = ma.masked_array(x, mask=[1,0,0,0,0,0])\n",
    "masked_array.mean()\n",
    "\n",
    "#En este caso, la máscara es [1,0,0,0,0,0], lo que significa\n",
    "#que solo el primer elemento del arreglo x (el 0) es considerado como faltante o máscara."
   ]
  },
  {
   "cell_type": "code",
   "execution_count": 109,
   "metadata": {},
   "outputs": [
    {
     "data": {
      "text/plain": [
       "array([[nan, nan, nan, nan, nan],\n",
       "       [ 5.,  6.,  7.,  8.,  9.],\n",
       "       [10., 11., 12., 13., 14.],\n",
       "       [15., 16., 17., 18., 19.],\n",
       "       [20., 21., 22., 23., 24.]])"
      ]
     },
     "execution_count": 109,
     "metadata": {},
     "output_type": "execute_result"
    }
   ],
   "source": [
    "\n",
    "x = np.arange(25, dtype = float).reshape(5,5)\n",
    "x[x<5] = np.nan #reemplaza todos los valores menores que 5 con NaN, utilizando la sintaxis x[x < 5] = np.nan.\n",
    "x"
   ]
  },
  {
   "cell_type": "code",
   "execution_count": 110,
   "metadata": {},
   "outputs": [
    {
     "data": {
      "text/plain": [
       "array([[12.5, 13.5, 14.5, 15.5, 16.5],\n",
       "       [ 5. ,  6. ,  7. ,  8. ,  9. ],\n",
       "       [10. , 11. , 12. , 13. , 14. ],\n",
       "       [15. , 16. , 17. , 18. , 19. ],\n",
       "       [20. , 21. , 22. , 23. , 24. ]])"
      ]
     },
     "execution_count": 110,
     "metadata": {},
     "output_type": "execute_result"
    }
   ],
   "source": [
    "np.where(np.isnan(x), ma.array(x, mask=np.isnan(x)).mean(axis=0), x)\n",
    "\n",
    "#isnan de NumPy para crear un arreglo booleano que indica qué elementos de x son NaN (Not a Number).\n"
   ]
  },
  {
   "cell_type": "markdown",
   "metadata": {},
   "source": [
    "## Indexing, Slicing, Reshaping, Resizing (redimensionamiento), Broadcasting (difusión)"
   ]
  },
  {
   "cell_type": "code",
   "execution_count": 111,
   "metadata": {},
   "outputs": [
    {
     "data": {
      "text/plain": [
       "'Germany'"
      ]
     },
     "execution_count": 111,
     "metadata": {},
     "output_type": "execute_result"
    }
   ],
   "source": [
    "\n",
    "x = [\"USA\",\"France\", \"Germany\",\"England\"]\n",
    "x[2]"
   ]
  },
  {
   "cell_type": "code",
   "execution_count": 112,
   "metadata": {},
   "outputs": [
    {
     "data": {
      "text/plain": [
       "'France'"
      ]
     },
     "execution_count": 112,
     "metadata": {},
     "output_type": "execute_result"
    }
   ],
   "source": [
    "x = ('USA',3,\"France\",4)\n",
    "x[2]"
   ]
  },
  {
   "cell_type": "code",
   "execution_count": 113,
   "metadata": {},
   "outputs": [
    {
     "data": {
      "text/plain": [
       "array([0, 1, 2, 3, 4, 5, 6, 7, 8, 9])"
      ]
     },
     "execution_count": 113,
     "metadata": {},
     "output_type": "execute_result"
    }
   ],
   "source": [
    "x = np.arange(10)\n",
    "x"
   ]
  },
  {
   "cell_type": "code",
   "execution_count": 114,
   "metadata": {},
   "outputs": [
    {
     "data": {
      "text/plain": [
       "5"
      ]
     },
     "execution_count": 114,
     "metadata": {},
     "output_type": "execute_result"
    }
   ],
   "source": [
    "\n",
    "x[5]"
   ]
  },
  {
   "cell_type": "code",
   "execution_count": 115,
   "metadata": {},
   "outputs": [
    {
     "data": {
      "text/plain": [
       "8"
      ]
     },
     "execution_count": 115,
     "metadata": {},
     "output_type": "execute_result"
    }
   ],
   "source": [
    "\n",
    "x[-2]"
   ]
  },
  {
   "cell_type": "code",
   "execution_count": 116,
   "metadata": {},
   "outputs": [
    {
     "data": {
      "text/plain": [
       "array([2, 3, 4, 5, 6, 7])"
      ]
     },
     "execution_count": 116,
     "metadata": {},
     "output_type": "execute_result"
    }
   ],
   "source": [
    "x[2:8]\n"
   ]
  },
  {
   "cell_type": "code",
   "execution_count": 117,
   "metadata": {},
   "outputs": [
    {
     "data": {
      "text/plain": [
       "array([0, 1, 2, 3, 4, 5, 6, 7, 8, 9])"
      ]
     },
     "execution_count": 117,
     "metadata": {},
     "output_type": "execute_result"
    }
   ],
   "source": [
    "x[:]"
   ]
  },
  {
   "cell_type": "code",
   "execution_count": 118,
   "metadata": {},
   "outputs": [
    {
     "data": {
      "text/plain": [
       "array([2, 4, 6])"
      ]
     },
     "execution_count": 118,
     "metadata": {},
     "output_type": "execute_result"
    }
   ],
   "source": [
    "\n",
    "x[2:8:2]\n"
   ]
  },
  {
   "cell_type": "code",
   "execution_count": 119,
   "metadata": {},
   "outputs": [
    {
     "data": {
      "text/plain": [
       "array([[ 0,  1,  2,  3],\n",
       "       [ 4,  5,  6,  7],\n",
       "       [ 8,  9, 10, 11],\n",
       "       [12, 13, 14, 15]])"
      ]
     },
     "execution_count": 119,
     "metadata": {},
     "output_type": "execute_result"
    }
   ],
   "source": [
    "x = np.reshape(np.arange(16),(4,4))\n",
    "x"
   ]
  },
  {
   "cell_type": "code",
   "execution_count": 120,
   "metadata": {},
   "outputs": [
    {
     "data": {
      "text/plain": [
       "array([[ 4,  5,  6,  7],\n",
       "       [ 8,  9, 10, 11]])"
      ]
     },
     "execution_count": 120,
     "metadata": {},
     "output_type": "execute_result"
    }
   ],
   "source": [
    "x[1:3]"
   ]
  },
  {
   "cell_type": "code",
   "execution_count": 121,
   "metadata": {},
   "outputs": [
    {
     "data": {
      "text/plain": [
       "array([[ 1,  2],\n",
       "       [ 5,  6],\n",
       "       [ 9, 10],\n",
       "       [13, 14]])"
      ]
     },
     "execution_count": 121,
     "metadata": {},
     "output_type": "execute_result"
    }
   ],
   "source": [
    "x[:,1:3] "
   ]
  },
  {
   "cell_type": "code",
   "execution_count": 122,
   "metadata": {},
   "outputs": [
    {
     "data": {
      "text/plain": [
       "array([[ 5,  6],\n",
       "       [ 9, 10]])"
      ]
     },
     "execution_count": 122,
     "metadata": {},
     "output_type": "execute_result"
    }
   ],
   "source": [
    "x[1:3,1:3]"
   ]
  },
  {
   "cell_type": "code",
   "execution_count": 123,
   "metadata": {},
   "outputs": [
    {
     "data": {
      "text/plain": [
       "array([[ 0,  1,  2,  3],\n",
       "       [ 4,  5,  6,  7],\n",
       "       [ 8,  9, 10, 11],\n",
       "       [12, 13, 14, 15]])"
      ]
     },
     "execution_count": 123,
     "metadata": {},
     "output_type": "execute_result"
    }
   ],
   "source": [
    "x = np.reshape(np.arange(16),(4,4))\n",
    "x"
   ]
  },
  {
   "cell_type": "markdown",
   "metadata": {},
   "source": [
    "\"fancy indexing\". x[rows, cols],  Donde rows y cols son arrays que contienen los índices de las filas y columnas que se desean seleccionar, respectivamente."
   ]
  },
  {
   "cell_type": "code",
   "execution_count": 125,
   "metadata": {},
   "outputs": [
    {
     "data": {
      "text/plain": [
       "' Fila 0, columna 0\\n    Fila 1, columna 1\\n    Fila 2, columna 3 '"
      ]
     },
     "execution_count": 125,
     "metadata": {},
     "output_type": "execute_result"
    }
   ],
   "source": [
    "x[[0,1,2],[0,1,3]]\n",
    "\"\"\" Fila 0, columna 0\n",
    "    Fila 1, columna 1\n",
    "    Fila 2, columna 3 \"\"\""
   ]
  },
  {
   "cell_type": "code",
   "execution_count": 126,
   "metadata": {},
   "outputs": [
    {
     "data": {
      "text/plain": [
       "array([[ 0,  1,  2,  3],\n",
       "       [ 4,  5,  6,  7],\n",
       "       [ 8,  9, 10, 11],\n",
       "       [12, 13, 14, 15]])"
      ]
     },
     "execution_count": 126,
     "metadata": {},
     "output_type": "execute_result"
    }
   ],
   "source": [
    "x = np.arange(16).reshape(4,4)\n",
    "x"
   ]
  },
  {
   "cell_type": "code",
   "execution_count": 128,
   "metadata": {},
   "outputs": [
    {
     "data": {
      "text/plain": [
       "array([[0, 1],\n",
       "       [2, 3]])"
      ]
     },
     "execution_count": 128,
     "metadata": {},
     "output_type": "execute_result"
    }
   ],
   "source": [
    "np.resize(x,(2,2))"
   ]
  },
  {
   "cell_type": "code",
   "execution_count": 129,
   "metadata": {},
   "outputs": [
    {
     "data": {
      "text/plain": [
       "array([[ 0,  1,  2,  3,  4,  5],\n",
       "       [ 6,  7,  8,  9, 10, 11],\n",
       "       [12, 13, 14, 15,  0,  1],\n",
       "       [ 2,  3,  4,  5,  6,  7],\n",
       "       [ 8,  9, 10, 11, 12, 13],\n",
       "       [14, 15,  0,  1,  2,  3]])"
      ]
     },
     "execution_count": 129,
     "metadata": {},
     "output_type": "execute_result"
    }
   ],
   "source": [
    "np.resize(x,(6,6))"
   ]
  },
  {
   "cell_type": "code",
   "execution_count": 130,
   "metadata": {},
   "outputs": [
    {
     "ename": "ValueError",
     "evalue": "operands could not be broadcast together with shapes (4,4) (2,3) ",
     "output_type": "error",
     "traceback": [
      "\u001b[1;31m---------------------------------------------------------------------------\u001b[0m",
      "\u001b[1;31mValueError\u001b[0m                                Traceback (most recent call last)",
      "Cell \u001b[1;32mIn[130], line 3\u001b[0m\n\u001b[0;32m      1\u001b[0m x \u001b[38;5;241m=\u001b[39m np\u001b[38;5;241m.\u001b[39marange(\u001b[38;5;241m16\u001b[39m)\u001b[38;5;241m.\u001b[39mreshape(\u001b[38;5;241m4\u001b[39m,\u001b[38;5;241m4\u001b[39m)\n\u001b[0;32m      2\u001b[0m y \u001b[38;5;241m=\u001b[39m np\u001b[38;5;241m.\u001b[39marange(\u001b[38;5;241m6\u001b[39m)\u001b[38;5;241m.\u001b[39mreshape(\u001b[38;5;241m2\u001b[39m,\u001b[38;5;241m3\u001b[39m)\n\u001b[1;32m----> 3\u001b[0m \u001b[43mx\u001b[49m\u001b[38;5;241;43m+\u001b[39;49m\u001b[43my\u001b[49m\n",
      "\u001b[1;31mValueError\u001b[0m: operands could not be broadcast together with shapes (4,4) (2,3) "
     ]
    }
   ],
   "source": [
    "x = np.arange(16).reshape(4,4)\n",
    "y = np.arange(6).reshape(2,3)\n",
    "x+y"
   ]
  },
  {
   "cell_type": "code",
   "execution_count": 131,
   "metadata": {},
   "outputs": [
    {
     "data": {
      "text/plain": [
       "array([[0., 1., 2., 3.],\n",
       "       [0., 1., 2., 3.],\n",
       "       [0., 1., 2., 3.],\n",
       "       [0., 1., 2., 3.]])"
      ]
     },
     "execution_count": 131,
     "metadata": {},
     "output_type": "execute_result"
    }
   ],
   "source": [
    "x = np.ones(16).reshape(4,4)\n",
    "y = np.arange(4)\n",
    "x*y"
   ]
  },
  {
   "cell_type": "code",
   "execution_count": 132,
   "metadata": {},
   "outputs": [
    {
     "data": {
      "text/plain": [
       "array([[0, 1],\n",
       "       [2, 3]])"
      ]
     },
     "execution_count": 132,
     "metadata": {},
     "output_type": "execute_result"
    }
   ],
   "source": [
    "\n",
    "x = np.arange(4).reshape(2,2)\n",
    "x"
   ]
  },
  {
   "cell_type": "code",
   "execution_count": 133,
   "metadata": {},
   "outputs": [
    {
     "data": {
      "text/plain": [
       "array([[0, 1]])"
      ]
     },
     "execution_count": 133,
     "metadata": {},
     "output_type": "execute_result"
    }
   ],
   "source": [
    "y = np.arange(2).reshape(1,2)\n",
    "y"
   ]
  },
  {
   "cell_type": "code",
   "execution_count": 134,
   "metadata": {},
   "outputs": [
    {
     "data": {
      "text/plain": [
       "array([[0, 1],\n",
       "       [0, 3]])"
      ]
     },
     "execution_count": 134,
     "metadata": {},
     "output_type": "execute_result"
    }
   ],
   "source": [
    "x*y"
   ]
  },
  {
   "cell_type": "code",
   "execution_count": null,
   "metadata": {},
   "outputs": [],
   "source": []
  }
 ],
 "metadata": {
  "kernelspec": {
   "display_name": "Curso_Python",
   "language": "python",
   "name": "python3"
  },
  "language_info": {
   "codemirror_mode": {
    "name": "ipython",
    "version": 3
   },
   "file_extension": ".py",
   "mimetype": "text/x-python",
   "name": "python",
   "nbconvert_exporter": "python",
   "pygments_lexer": "ipython3",
   "version": "3.11.9"
  }
 },
 "nbformat": 4,
 "nbformat_minor": 2
}
