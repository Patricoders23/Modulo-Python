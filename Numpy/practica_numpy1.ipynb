{
 "cells": [
  {
   "cell_type": "markdown",
   "metadata": {},
   "source": [
    "## Indexación (indexing) y segmentación (slicing) de arrays "
   ]
  },
  {
   "cell_type": "code",
   "execution_count": 3,
   "metadata": {},
   "outputs": [],
   "source": [
    "import numpy as np"
   ]
  },
  {
   "cell_type": "code",
   "execution_count": 7,
   "metadata": {},
   "outputs": [
    {
     "name": "stdout",
     "output_type": "stream",
     "text": [
      "Accedemos al elemento del array: \n",
      "El array de [0]: 2\n",
      "El array de [1]: 4\n",
      "El array de [2]: 6\n",
      "El array de [3]: 8\n",
      "\n",
      "La dimensión del array es:  {1}\n",
      "\n",
      "El shape del array es:  {(5,)}\n"
     ]
    }
   ],
   "source": [
    "array = np.array([2,4,6,8,10])\n",
    "\n",
    "# Acceder al elemento en la posición del array \n",
    "print('Accedemos al elemento del array: ')\n",
    "print(f'El array de [0]: {array[0]}')\n",
    "print(f'El array de [1]: {array[1]}')\n",
    "print(f'El array de [2]: {array[2]}')\n",
    "print(f'El array de [3]: {array[3]}')\n",
    "print('\\nLa dimensión del array es: ', {array.ndim})\n",
    "print('\\nEl shape del array es: ', {array.shape})"
   ]
  },
  {
   "cell_type": "code",
   "execution_count": 17,
   "metadata": {},
   "outputs": [
    {
     "name": "stdout",
     "output_type": "stream",
     "text": [
      "La dimension del sudoku es:  {2}\n",
      "[[ 1  2  3  4  5  6]\n",
      " [ 7  8  9 10 11 12]\n",
      " [13 14 15 16 17 18]\n",
      " [19 20 21 22 23 24]\n",
      " [25 26 27 28 29 30]\n",
      " [31 32 33 34 35 36]]\n"
     ]
    }
   ],
   "source": [
    "sudoku_array = np.array([[1, 2, 3, 4, 5, 6],\n",
    "                         [7, 8, 9, 10, 11, 12],\n",
    "                         [13, 14, 15, 16, 17, 18],\n",
    "                         [19, 20, 21, 22, 23, 24],\n",
    "                         [25, 26, 27, 28, 29, 30],\n",
    "                         [31, 32, 33, 34, 35, 36]])\n",
    "\n",
    "print(f'La dimension del sudoku es: ', {sudoku_array.ndim})\n",
    "print(sudoku_array)"
   ]
  },
  {
   "cell_type": "markdown",
   "metadata": {},
   "source": [
    "La dimensión 2 se debe a que el array tiene una estructura de matriz, con 6 filas (PRIMERA DIMENSION) y 6 columnas (SEGUNDA DIMENSIÓN)."
   ]
  },
  {
   "cell_type": "code",
   "execution_count": 14,
   "metadata": {},
   "outputs": [
    {
     "name": "stdout",
     "output_type": "stream",
     "text": [
      "[1 2 3 4 5 6]\n",
      "\n",
      "Selecciona todas las filas con (:), y la coma (,) indica que queremos mantener todas las columnas,\n",
      "y 3 especifica el índice de la columna: \n",
      "[ 3  9 15 21 27 33]\n"
     ]
    }
   ],
   "source": [
    "# Accedo a la primera fila\n",
    "print(sudoku_array[0])  # Selecciona la primera fila\n",
    "\n",
    "print('\\nSelecciona todas las filas con (:), y la coma (,) indica que queremos mantener todas las columnas,')\n",
    "print('y 3 especifica el índice de la columna: ')\n",
    "print(sudoku_array[:,2]) #[:,]selecciona todas las filas \n"
   ]
  },
  {
   "cell_type": "code",
   "execution_count": 15,
   "metadata": {},
   "outputs": [
    {
     "name": "stdout",
     "output_type": "stream",
     "text": [
      "16\n"
     ]
    }
   ],
   "source": [
    "#Selecciono el 16\n",
    "print(sudoku_array[2,3])"
   ]
  },
  {
   "cell_type": "code",
   "execution_count": 19,
   "metadata": {},
   "outputs": [
    {
     "name": "stdout",
     "output_type": "stream",
     "text": [
      "35\n"
     ]
    }
   ],
   "source": [
    "#Selecciono el 35\n",
    "print(sudoku_array[5,4])"
   ]
  },
  {
   "cell_type": "code",
   "execution_count": 20,
   "metadata": {},
   "outputs": [
    {
     "name": "stdout",
     "output_type": "stream",
     "text": [
      "[13 14 15 16 17 18]\n"
     ]
    }
   ],
   "source": [
    "print(sudoku_array[2,:])"
   ]
  },
  {
   "cell_type": "markdown",
   "metadata": {},
   "source": [
    "### Slicing arrays 1D"
   ]
  },
  {
   "cell_type": "code",
   "execution_count": 21,
   "metadata": {},
   "outputs": [
    {
     "data": {
      "text/plain": [
       "array([6, 8])"
      ]
     },
     "execution_count": 21,
     "metadata": {},
     "output_type": "execute_result"
    }
   ],
   "source": [
    "array = np.array([2,4,6,8,10])\n",
    "array[2:4]"
   ]
  },
  {
   "cell_type": "markdown",
   "metadata": {},
   "source": [
    "### Slicing arrays 2D"
   ]
  },
  {
   "cell_type": "code",
   "execution_count": 31,
   "metadata": {},
   "outputs": [
    {
     "name": "stdout",
     "output_type": "stream",
     "text": [
      "La dimension del sudoku es:  {2}\n",
      "[[ 10   2   3   4   5   6]\n",
      " [ 70 800   9 100  11 120]\n",
      " [ 13  14  15  16  17  18]\n",
      " [ 19 200  21 220  23 240]\n",
      " [ 25  26  27  28  29  30]\n",
      " [ 30 302  33 340  35 360]]\n"
     ]
    }
   ],
   "source": [
    "sudoku_array1 = np.array([[10, 2, 3, 4, 5, 6],\n",
    "                         [70, 800, 9, 100, 11, 120],\n",
    "                         [13, 14, 15, 16, 17, 18],\n",
    "                         [19, 200, 21, 220, 23, 240],\n",
    "                         [25, 26, 27, 28, 29, 30],\n",
    "                         [30, 302, 33, 340, 35, 360]])\n",
    "\n",
    "print(f'La dimension del sudoku es: ', {sudoku_array1.ndim})\n",
    "print(sudoku_array1)"
   ]
  },
  {
   "cell_type": "code",
   "execution_count": 33,
   "metadata": {},
   "outputs": [
    {
     "data": {
      "text/plain": [
       "array([[800, 100, 120],\n",
       "       [200, 220, 240],\n",
       "       [302, 340, 360]])"
      ]
     },
     "execution_count": 33,
     "metadata": {},
     "output_type": "execute_result"
    }
   ],
   "source": [
    "sudoku_array1[1:6:2, 1:6:2]\n",
    "             #Filas  #Columnas"
   ]
  },
  {
   "cell_type": "markdown",
   "metadata": {},
   "source": [
    "## Ordenando arrays:"
   ]
  },
  {
   "cell_type": "code",
   "execution_count": 34,
   "metadata": {},
   "outputs": [
    {
     "data": {
      "text/plain": [
       "array([[  2,   3,   4,   5,   6,  10],\n",
       "       [  9,  11,  70, 100, 120, 800],\n",
       "       [ 13,  14,  15,  16,  17,  18],\n",
       "       [ 19,  21,  23, 200, 220, 240],\n",
       "       [ 25,  26,  27,  28,  29,  30],\n",
       "       [ 30,  33,  35, 302, 340, 360]])"
      ]
     },
     "execution_count": 34,
     "metadata": {},
     "output_type": "execute_result"
    }
   ],
   "source": [
    "np.sort(sudoku_array1)"
   ]
  },
  {
   "cell_type": "markdown",
   "metadata": {},
   "source": [
    "## Filtrado de arrays\n",
    "\n",
    "Hay 2 formas de filtrar en Numpy: \n",
    "\n",
    "* Idexado usando `mask` y `fancy`\n",
    "\n",
    "* Usando `np.where()`"
   ]
  },
  {
   "cell_type": "markdown",
   "metadata": {},
   "source": [
    "### Indexando con Boolean mask: "
   ]
  },
  {
   "cell_type": "code",
   "execution_count": 35,
   "metadata": {},
   "outputs": [
    {
     "data": {
      "text/plain": [
       "array([1, 2, 3, 4, 5])"
      ]
     },
     "execution_count": 35,
     "metadata": {},
     "output_type": "execute_result"
    }
   ],
   "source": [
    "one_to_five = np.arange(1,6)\n",
    "one_to_five"
   ]
  },
  {
   "cell_type": "code",
   "execution_count": null,
   "metadata": {},
   "outputs": [],
   "source": []
  },
  {
   "cell_type": "code",
   "execution_count": null,
   "metadata": {},
   "outputs": [],
   "source": []
  },
  {
   "cell_type": "code",
   "execution_count": null,
   "metadata": {},
   "outputs": [],
   "source": []
  },
  {
   "cell_type": "code",
   "execution_count": null,
   "metadata": {},
   "outputs": [],
   "source": [
    " "
   ]
  }
 ],
 "metadata": {
  "kernelspec": {
   "display_name": "Curso_Python",
   "language": "python",
   "name": "python3"
  },
  "language_info": {
   "codemirror_mode": {
    "name": "ipython",
    "version": 3
   },
   "file_extension": ".py",
   "mimetype": "text/x-python",
   "name": "python",
   "nbconvert_exporter": "python",
   "pygments_lexer": "ipython3",
   "version": "3.11.9"
  }
 },
 "nbformat": 4,
 "nbformat_minor": 2
}
