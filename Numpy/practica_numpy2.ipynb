{
 "cells": [
  {
   "cell_type": "markdown",
   "metadata": {},
   "source": [
    "----------------------------------------------------\n",
    "# **Numpy**\n",
    "---------------------------"
   ]
  },
  {
   "cell_type": "markdown",
   "metadata": {},
   "source": [
    "## ‘Vectorized Operations’ en Numpy\n"
   ]
  },
  {
   "cell_type": "markdown",
   "metadata": {},
   "source": [
    "Recordemos que los ND-arrays de NumPy son homogéneos: un array sólo\n",
    "puede contener datos de un único tipo. Por ejemplo, un array puede contener\n",
    "enteros de 8 bits o números de coma flotante de 32 bits, pero no una mezcla de\n",
    "ambos. Esto contrasta fuertemente con las listas y tuplas de Python, que no\n",
    "tienen ninguna restricción en cuanto a la variedad de contenidos que pueden\n",
    "poseer; una lista dada puede contener simultáneamente cadenas, enteros y\n",
    "otros objetos. \n",
    "\n",
    "NumPy es capaz de delegar la tarea de realizar operaciones matemáticas en los contenidos del array a código C optimizado y compilado. Este proceso se conoce como vectorización. \n",
    "\n"
   ]
  },
  {
   "cell_type": "markdown",
   "metadata": {},
   "source": [
    "Ejemplo 1: Utilizando el método de la suma vectorizada en un array\n",
    "NumPy. Vamos a comparar el método de suma vectorizada junto con\n",
    "una operación simple no vectorizada, es decir, el método iterativo para\n",
    "calcular la suma de números de 0 - 14.999"
   ]
  },
  {
   "cell_type": "code",
   "execution_count": 1,
   "metadata": {},
   "outputs": [],
   "source": [
    "import numpy as np \n",
    "import timeit"
   ]
  },
  {
   "cell_type": "markdown",
   "metadata": {},
   "source": [
    "Los tiempos se expresan en microsegundos (µs) y nanosegundos (ns). Un microsegundo es igual a 1 millón de nanosegundos.\n",
    "\n",
    "* 17.5 µs ± 1.4 µs per loop (suma vectorizada): Esto significa que la suma vectorizada toma aproximadamente 17.5 microsegundos para completarse, con una desviación estándar de 1.4 microsegundos.\n",
    "\n",
    "* 15.2 ns ± 1.35 ns per loop (suma iterativa): Esto significa que la suma iterativa toma aproximadamente 15.2 nanosegundos para completarse, con una desviación estándar de 1.35 nanosegundos.\n",
    "\n"
   ]
  },
  {
   "cell_type": "code",
   "execution_count": 8,
   "metadata": {},
   "outputs": [
    {
     "name": "stdout",
     "output_type": "stream",
     "text": [
      "112492500\n",
      "El tiempo que toma en la suma vectorizada: \n",
      "17.5 µs ± 1.4 µs per loop (mean ± std. dev. of 7 runs, 100,000 loops each)\n",
      "------------------------------------------------------\n",
      "\n",
      "112492500\n",
      "El tiempo que toma en la suma iterativa: \n",
      "15.2 ns ± 1.35 ns per loop (mean ± std. dev. of 7 runs, 100,000,000 loops each)\n"
     ]
    }
   ],
   "source": [
    "# Suma vectorizada\n",
    "print(np.sum(np.arange(15000)))\n",
    "\n",
    "print('El tiempo que toma en la suma vectorizada: \\n', end='')\n",
    "%timeit np.sum(np.arange(15000))\n",
    "print('------------------------------------------------------')\n",
    "#Iterative sum\n",
    "total = 0 \n",
    "for item in range(0, 15000):\n",
    "    total += item\n",
    "a = total\n",
    "print('\\n' + str(a))\n",
    "print('El tiempo que toma en la suma iterativa: \\n', end='')\n",
    "%timeit a"
   ]
  },
  {
   "cell_type": "markdown",
   "metadata": {},
   "source": [
    "Ejemplo 2: Aquí compararemos la función exponencial de NumPy con la función\n",
    "exponencial de la biblioteca matemática incorporada de Python para calcular el\n",
    "valor exponencial de cada entrada de un objeto en particular"
   ]
  },
  {
   "cell_type": "code",
   "execution_count": 10,
   "metadata": {},
   "outputs": [
    {
     "name": "stdout",
     "output_type": "stream",
     "text": [
      "El tiempo que tarda la operación vectorizada: \n",
      " 2.78 µs ± 82.8 ns per loop (mean ± std. dev. of 7 runs, 100,000 loops each)\n",
      "--------------------------\n",
      "Tiempo de una operación no vectorizada: \n",
      " 21.6 µs ± 1.94 µs per loop (mean ± std. dev. of 7 runs, 100,000 loops each)\n"
     ]
    }
   ],
   "source": [
    "import numpy as np\n",
    "import timeit\n",
    "import math \n",
    "\n",
    "print('El tiempo que tarda la operación vectorizada: \\n', end=' ')\n",
    "%timeit np.exp(np.arange(150))\n",
    "\n",
    "print('--------------------------')\n",
    "\n",
    "# Operación No vectorizada\n",
    "print('Tiempo de una operación no vectorizada: \\n', end = ' ')\n",
    "%timeit [math.exp(item) for item in range(150)]"
   ]
  },
  {
   "cell_type": "markdown",
   "metadata": {},
   "source": [
    "## Suma escalar en Numpy"
   ]
  },
  {
   "cell_type": "code",
   "execution_count": 11,
   "metadata": {},
   "outputs": [
    {
     "data": {
      "text/plain": [
       "array([[1, 2, 3],\n",
       "       [4, 5, 6]])"
      ]
     },
     "execution_count": 11,
     "metadata": {},
     "output_type": "execute_result"
    }
   ],
   "source": [
    "array = np.array([[1,2,3],[4,5,6]])\n",
    "array"
   ]
  },
  {
   "cell_type": "code",
   "execution_count": 12,
   "metadata": {},
   "outputs": [
    {
     "data": {
      "text/plain": [
       "array([[4, 5, 6],\n",
       "       [7, 8, 9]])"
      ]
     },
     "execution_count": 12,
     "metadata": {},
     "output_type": "execute_result"
    }
   ],
   "source": [
    "array +3"
   ]
  },
  {
   "cell_type": "markdown",
   "metadata": {},
   "source": [
    "## Multiplicación escalar en Numpy "
   ]
  },
  {
   "cell_type": "code",
   "execution_count": 14,
   "metadata": {},
   "outputs": [
    {
     "data": {
      "text/plain": [
       "array([[1, 2, 3],\n",
       "       [4, 5, 6]])"
      ]
     },
     "execution_count": 14,
     "metadata": {},
     "output_type": "execute_result"
    }
   ],
   "source": [
    "array = np.array([[1,2,3],[4,5,6]])\n",
    "array"
   ]
  },
  {
   "cell_type": "code",
   "execution_count": 15,
   "metadata": {},
   "outputs": [
    {
     "data": {
      "text/plain": [
       "array([[ 3,  6,  9],\n",
       "       [12, 15, 18]])"
      ]
     },
     "execution_count": 15,
     "metadata": {},
     "output_type": "execute_result"
    }
   ],
   "source": [
    "array * 3"
   ]
  },
  {
   "cell_type": "markdown",
   "metadata": {},
   "source": [
    "## Suma de dos arrays "
   ]
  },
  {
   "cell_type": "code",
   "execution_count": 18,
   "metadata": {},
   "outputs": [
    {
     "data": {
      "text/plain": [
       "array([[1, 2, 3],\n",
       "       [4, 5, 6]])"
      ]
     },
     "execution_count": 18,
     "metadata": {},
     "output_type": "execute_result"
    }
   ],
   "source": [
    "array_a = np.array([[1,2,3],[4,5,6]])\n",
    "array_a"
   ]
  },
  {
   "cell_type": "code",
   "execution_count": 19,
   "metadata": {},
   "outputs": [
    {
     "data": {
      "text/plain": [
       "array([[0, 1, 0],\n",
       "       [1, 0, 1]])"
      ]
     },
     "execution_count": 19,
     "metadata": {},
     "output_type": "execute_result"
    }
   ],
   "source": [
    "array_b = np.array([[0,1,0],[1,0,1]])\n",
    "array_b"
   ]
  },
  {
   "cell_type": "code",
   "execution_count": 20,
   "metadata": {},
   "outputs": [
    {
     "data": {
      "text/plain": [
       "array([[1, 3, 3],\n",
       "       [5, 5, 7]])"
      ]
     },
     "execution_count": 20,
     "metadata": {},
     "output_type": "execute_result"
    }
   ],
   "source": [
    "array_a + array_b"
   ]
  },
  {
   "cell_type": "markdown",
   "metadata": {},
   "source": [
    "## Multiplicación de dos arrays "
   ]
  },
  {
   "cell_type": "code",
   "execution_count": 26,
   "metadata": {},
   "outputs": [
    {
     "name": "stdout",
     "output_type": "stream",
     "text": [
      "[[1 2 3]\n",
      " [4 5 6]]\n",
      "-----------\n",
      "[[0 1 0]\n",
      " [1 0 1]]\n"
     ]
    }
   ],
   "source": [
    "array_a = np.array([[1,2,3],[4,5,6]])\n",
    "print(array_a)\n",
    "print('-----------')\n",
    "array_b = np.array([[0,1,0],[1,0,1]])\n",
    "print(array_b)"
   ]
  },
  {
   "cell_type": "code",
   "execution_count": 22,
   "metadata": {},
   "outputs": [
    {
     "data": {
      "text/plain": [
       "array([[0, 2, 0],\n",
       "       [4, 0, 6]])"
      ]
     },
     "execution_count": 22,
     "metadata": {},
     "output_type": "execute_result"
    }
   ],
   "source": [
    "array_a*array_b"
   ]
  },
  {
   "cell_type": "markdown",
   "metadata": {},
   "source": [
    "## Operaciones con salida 'Booleanos'"
   ]
  },
  {
   "cell_type": "code",
   "execution_count": 27,
   "metadata": {},
   "outputs": [
    {
     "data": {
      "text/plain": [
       "array([[1, 2, 3],\n",
       "       [4, 5, 6]])"
      ]
     },
     "execution_count": 27,
     "metadata": {},
     "output_type": "execute_result"
    }
   ],
   "source": [
    "array = np.array([[1,2,3],[4,5,6]])\n",
    "array"
   ]
  },
  {
   "cell_type": "code",
   "execution_count": 28,
   "metadata": {},
   "outputs": [
    {
     "data": {
      "text/plain": [
       "array([[False, False,  True],\n",
       "       [ True,  True,  True]])"
      ]
     },
     "execution_count": 28,
     "metadata": {},
     "output_type": "execute_result"
    }
   ],
   "source": [
    "array >2"
   ]
  },
  {
   "cell_type": "markdown",
   "metadata": {},
   "source": [
    "## Vectorizar código python"
   ]
  },
  {
   "cell_type": "code",
   "execution_count": 29,
   "metadata": {},
   "outputs": [
    {
     "data": {
      "text/plain": [
       "array([['Numpy', 'is', 'awesomw']], dtype='<U7')"
      ]
     },
     "execution_count": 29,
     "metadata": {},
     "output_type": "execute_result"
    }
   ],
   "source": [
    "array = np.array([['Numpy', 'is', 'awesomw']]) \n",
    "array"
   ]
  },
  {
   "cell_type": "code",
   "execution_count": 33,
   "metadata": {},
   "outputs": [
    {
     "data": {
      "text/plain": [
       "False"
      ]
     },
     "execution_count": 33,
     "metadata": {},
     "output_type": "execute_result"
    }
   ],
   "source": [
    "len(array) >2"
   ]
  },
  {
   "cell_type": "markdown",
   "metadata": {},
   "source": [
    "Toma el primer elemento del array, que es la cadena 'Numpy', y devolvería su longitud, que es 5. \n",
    "\n",
    "El segundo elemento del array, que es la cadena 'is', y devolvería su longitud, que es 2. \n",
    "\n",
    "El tercer elemento del array, que es la cadena 'awesomw', y devolvería su longitud, que es 7."
   ]
  },
  {
   "cell_type": "code",
   "execution_count": 36,
   "metadata": {},
   "outputs": [
    {
     "name": "stdout",
     "output_type": "stream",
     "text": [
      "<numpy.vectorize object at 0x0000014041757D50>\n"
     ]
    },
    {
     "data": {
      "text/plain": [
       "array([[ True, False,  True]])"
      ]
     },
     "execution_count": 36,
     "metadata": {},
     "output_type": "execute_result"
    }
   ],
   "source": [
    "vectorize_len = np.vectorize(len)\n",
    "print(vectorize_len)\n",
    "vectorize_len(array) > 2"
   ]
  },
  {
   "cell_type": "markdown",
   "metadata": {},
   "source": [
    "--------------------------------------\n",
    "## **Broadcasting**\n",
    "--------------------------------"
   ]
  },
  {
   "cell_type": "markdown",
   "metadata": {},
   "source": [
    "Es una técnica que permite realizar operaciones aritméticas entre arrays de diferentes formas sin necesidad de que tengan las mismas dimensiones. NumPy ajusta automáticamente las dimensiones de los arrays para que coincidan antes\n",
    "de realizar la operación."
   ]
  },
  {
   "cell_type": "markdown",
   "metadata": {},
   "source": [
    "• Identificación de dimensiones compatibles: NumPy compara las dimensiones de los arrays involucrados en la operación. Las dimensiones compatibles son aquellas\n",
    "que tienen la misma longitud.\n",
    "\n",
    "• Relleno de dimensiones no compatibles: Para las dimensiones no compatibles, NumPy agrega dimensiones de tamaño 1 a los arrays más pequeños. Esto se hace de\n",
    "tal manera que las dimensiones de los arrays coincidan entre sí.\n",
    "\n",
    "• Operación elemento a elemento: Una vez que los arrays tienen las mismas dimensiones, NumPy realiza la operación aritmética elemento a elemento. Esto significa que la operación se aplica a cada par de elementos correspondientes en los arrays"
   ]
  },
  {
   "cell_type": "markdown",
   "metadata": {},
   "source": [
    "### Primera regla:\n",
    "\n",
    "Si dos arrays no tienen el mismo rango, entonces se añadirá una dimensión de 1 al principio del array con menor rango hasta que éstos coincidan. El rango de un array es lo mismo que\n",
    "su número de elementos."
   ]
  },
  {
   "cell_type": "code",
   "execution_count": 45,
   "metadata": {},
   "outputs": [
    {
     "name": "stdout",
     "output_type": "stream",
     "text": [
      "[[[0 1 2 3 4]]]\n",
      "[0 1 2 3 4]\n",
      "-----------------------\n",
      "(1, 1, 5)\n",
      "(5,)\n",
      "---- Sumo los 2 arrays ---------\n",
      "[[[0 2 4 6 8]]]\n",
      "El shape de la suma de 2 arrays [[[0 1 2 3 4]]] y [0 1 2 3 4] es: \n",
      " {(1, 1, 5)}\n"
     ]
    }
   ],
   "source": [
    "a = np.arange(5).reshape(1,1,5)\n",
    "b = np.arange(5)\n",
    "print(a)\n",
    "print(b)\n",
    "print('-----------------------')\n",
    "print(a.shape)\n",
    "print(b.shape)\n",
    "\n",
    "print('---- Sumo los 2 arrays ---------')\n",
    "c= a + b\n",
    "print(c)\n",
    "print(f'El shape de la suma de 2 arrays {a} y {b} es: \\n', {c.shape} )"
   ]
  },
  {
   "cell_type": "code",
   "execution_count": 46,
   "metadata": {},
   "outputs": [
    {
     "data": {
      "text/plain": [
       "array([[[0, 1, 2, 3, 4]]])"
      ]
     },
     "execution_count": 46,
     "metadata": {},
     "output_type": "execute_result"
    }
   ],
   "source": [
    "a"
   ]
  },
  {
   "cell_type": "code",
   "execution_count": 47,
   "metadata": {},
   "outputs": [
    {
     "data": {
      "text/plain": [
       "array([[[1, 2, 3, 4, 5]]])"
      ]
     },
     "execution_count": 47,
     "metadata": {},
     "output_type": "execute_result"
    }
   ],
   "source": [
    "1+a"
   ]
  },
  {
   "cell_type": "markdown",
   "metadata": {},
   "source": [
    "### Segunda regla:\n",
    "\n",
    "Si intentamos sumar estos dos arrays, NumPy repetirá los valores de b hasta crear tres columnas iguales y así poder llevar a cabo la operación"
   ]
  },
  {
   "cell_type": "code",
   "execution_count": 48,
   "metadata": {},
   "outputs": [
    {
     "data": {
      "text/plain": [
       "array([[0, 1, 2],\n",
       "       [3, 4, 5]])"
      ]
     },
     "execution_count": 48,
     "metadata": {},
     "output_type": "execute_result"
    }
   ],
   "source": [
    "d = np.arange(6).reshape(2,3)\n",
    "d"
   ]
  },
  {
   "cell_type": "code",
   "execution_count": 49,
   "metadata": {},
   "outputs": [
    {
     "data": {
      "text/plain": [
       "array([[100],\n",
       "       [200]])"
      ]
     },
     "execution_count": 49,
     "metadata": {},
     "output_type": "execute_result"
    }
   ],
   "source": [
    "e = np.array([[100],[200]])\n",
    "e"
   ]
  },
  {
   "cell_type": "code",
   "execution_count": 50,
   "metadata": {},
   "outputs": [
    {
     "data": {
      "text/plain": [
       "array([[100, 101, 102],\n",
       "       [203, 204, 205]])"
      ]
     },
     "execution_count": 50,
     "metadata": {},
     "output_type": "execute_result"
    }
   ],
   "source": [
    "d+e"
   ]
  },
  {
   "cell_type": "code",
   "execution_count": 53,
   "metadata": {},
   "outputs": [
    {
     "name": "stdout",
     "output_type": "stream",
     "text": [
      "[100 200 300]\n",
      "Shape del array:  (3,)\n"
     ]
    }
   ],
   "source": [
    "f = np.array([100,200,300])\n",
    "print(f)\n",
    "print(f'Shape del array: ', f.shape)"
   ]
  },
  {
   "cell_type": "code",
   "execution_count": 56,
   "metadata": {},
   "outputs": [
    {
     "name": "stdout",
     "output_type": "stream",
     "text": [
      "[[0 1 2]\n",
      " [3 4 5]]\n",
      "Shape del array:  (2, 3)\n"
     ]
    }
   ],
   "source": [
    "g = np.arange(6).reshape(2,3)\n",
    "print(g)\n",
    "print(f'Shape del array: ', g.shape)"
   ]
  },
  {
   "cell_type": "code",
   "execution_count": 60,
   "metadata": {},
   "outputs": [
    {
     "name": "stdout",
     "output_type": "stream",
     "text": [
      "[[100 201 302]\n",
      " [103 204 305]]\n",
      "Shape de la suma de los arrays (3,) y (2, 3) es\n",
      ":  (2, 3)\n"
     ]
    }
   ],
   "source": [
    "h = f+g\n",
    "print(h)\n",
    "print(f'Shape de la suma de los arrays {f.shape} y {g.shape} es\\n: ', h.shape)"
   ]
  },
  {
   "cell_type": "markdown",
   "metadata": {},
   "source": [
    "### Tercera regla: \n",
    "\n",
    "Después de aplicar las reglas 1 y 2, las dimensiones de los arrays deben coincidir. Si no es así, la operación no se puede llevar a cabo"
   ]
  },
  {
   "cell_type": "code",
   "execution_count": 61,
   "metadata": {},
   "outputs": [
    {
     "name": "stdout",
     "output_type": "stream",
     "text": [
      "[[[0 1 2 3 4]]]\n",
      "(1, 1, 5)\n"
     ]
    }
   ],
   "source": [
    "print(a)\n",
    "print(a.shape)"
   ]
  },
  {
   "cell_type": "code",
   "execution_count": 63,
   "metadata": {},
   "outputs": [
    {
     "name": "stdout",
     "output_type": "stream",
     "text": [
      "[1 2]\n",
      "(2,)\n"
     ]
    }
   ],
   "source": [
    "g = np.array([1,2])\n",
    "print(g)\n",
    "print(g.shape)"
   ]
  },
  {
   "cell_type": "code",
   "execution_count": 65,
   "metadata": {},
   "outputs": [
    {
     "ename": "ValueError",
     "evalue": "operands could not be broadcast together with shapes (1,1,5) (2,) ",
     "output_type": "error",
     "traceback": [
      "\u001b[1;31m---------------------------------------------------------------------------\u001b[0m",
      "\u001b[1;31mValueError\u001b[0m                                Traceback (most recent call last)",
      "Cell \u001b[1;32mIn[65], line 1\u001b[0m\n\u001b[1;32m----> 1\u001b[0m \u001b[43ma\u001b[49m\u001b[43m \u001b[49m\u001b[38;5;241;43m+\u001b[39;49m\u001b[43m \u001b[49m\u001b[43mg\u001b[49m  \u001b[38;5;66;03m# ERROR porque tiene diferentes dimensiones \u001b[39;00m\n",
      "\u001b[1;31mValueError\u001b[0m: operands could not be broadcast together with shapes (1,1,5) (2,) "
     ]
    }
   ],
   "source": [
    "a + g  # ERROR porque tiene diferentes dimensiones "
   ]
  },
  {
   "cell_type": "markdown",
   "metadata": {},
   "source": [
    "-------------------------------------------\n",
    "# Práctica 33 \n",
    "\n",
    "https://numpy.org/doc/stable/user/basics.broadcasting.html\n",
    "\n",
    "-----------------------"
   ]
  },
  {
   "cell_type": "markdown",
   "metadata": {},
   "source": [
    "> Broadcasting\n",
    "\n",
    "El término Broadcasting(difusión) describe cómo NumPy trata las matrices con diferentes formas durante las operaciones aritméticas. \n",
    "\n",
    "Sujeto a ciertas limitaciones, La matriz más pequeña se \"difunde\" a través de la matriz más grande para que tomen formas compatibles. \n",
    "\n",
    "Las operaciones de NumPy generalmente se realizan en pares de matrices en un elemento por elemento. En el caso más simple, las dos matrices deben tienen exactamente la misma forma, como en el siguiente ejemplo:\n",
    "\n"
   ]
  },
  {
   "cell_type": "code",
   "execution_count": 66,
   "metadata": {},
   "outputs": [
    {
     "data": {
      "text/plain": [
       "array([2, 4, 6])"
      ]
     },
     "execution_count": 66,
     "metadata": {},
     "output_type": "execute_result"
    }
   ],
   "source": [
    "a = np.array([1,2,3])\n",
    "b = np.array([2,2,2])\n",
    "a*b"
   ]
  },
  {
   "cell_type": "code",
   "execution_count": 68,
   "metadata": {},
   "outputs": [
    {
     "data": {
      "text/plain": [
       "array([2, 4, 6])"
      ]
     },
     "execution_count": 68,
     "metadata": {},
     "output_type": "execute_result"
    }
   ],
   "source": [
    "a = np.array([1,2,3])\n",
    "b = 2\n",
    "a*b"
   ]
  },
  {
   "cell_type": "markdown",
   "metadata": {},
   "source": [
    "## Normas generales de radiodifusión (Broadcasting)\n",
    "\n",
    " Dos dimensiones son compatibles cuando\n",
    "\n",
    "* son iguales, o\n",
    "\n",
    "* Uno de ellos es el 1.\n",
    "\n",
    "Si no se cumplen estas condiciones, se hace una excepción `thrown`, lo que indica que las matrices tienen formas incompatibles.`ValueError`: operands could not be broadcast together.\n",
    "\n",
    "Ejemplo: \n",
    "\n",
    "A      (4d array):  8 x 1 x 6 x 1\n",
    "\n",
    "B      (3d array):      7 x 1 x 5\n",
    "\n",
    "Result (4d array):  8 x 7 x 6 x 5"
   ]
  },
  {
   "cell_type": "code",
   "execution_count": 73,
   "metadata": {},
   "outputs": [
    {
     "name": "stdout",
     "output_type": "stream",
     "text": [
      "(256, 256, 3)\n",
      "(3,)\n",
      "3\n",
      "(256, 256, 3)\n"
     ]
    }
   ],
   "source": [
    "# Create the image array\n",
    "image = np.random.rand(256, 256, 3)\n",
    "print(image.shape)\n",
    "\n",
    "# Create the scale array\n",
    "scale = np.array([1.0, 2.0, 3.0])\n",
    "print(scale.shape)\n",
    "\n",
    "# Use broadcasting to scale the image\n",
    "result = image * scale\n",
    "print(result.ndim)\n",
    "\n",
    "print(result.shape) "
   ]
  },
  {
   "cell_type": "markdown",
   "metadata": {},
   "source": [
    "## Matrices difuminables\n",
    "\n",
    "Ejemplos de array que se pueden combinar\n",
    "\n",
    "A      (2d array):  5 x 4\n",
    "\n",
    "B      (1d array):      1\n",
    "\n",
    "Result (2d array):  5 x 4\n",
    "\n",
    "---------------------------\n",
    "\n",
    "A      (2d array):  5 x 4\n",
    "\n",
    "B      (1d array):      4\n",
    "\n",
    "Result (2d array):  5 x 4\n",
    "\n",
    "------------------------------\n",
    "\n",
    "A      (3d array):  15 x 3 x 5\n",
    "\n",
    "B      (3d array):  15 x 1 x 5\n",
    "\n",
    "Result (3d array):  15 x 3 x 5\n",
    "\n",
    "------------------------------\n",
    "\n",
    "A      (3d array):  15 x 3 x 5\n",
    "\n",
    "B      (2d array):       3 x 5\n",
    "\n",
    "Result (3d array):  15 x 3 x 5\n",
    "\n",
    "------------------------------\n",
    "\n",
    "A      (3d array):  15 x 3 x 5\n",
    "\n",
    "B      (2d array):       3 x 1\n",
    "\n",
    "Result (3d array):  15 x 3 x 5"
   ]
  },
  {
   "cell_type": "markdown",
   "metadata": {},
   "source": [
    "Ejemplos de arrays que no se pueden combinar:\n",
    "\n",
    "A      (1d array):  3\n",
    "\n",
    "B      (1d array):  4 # trailing dimensions do not match\n",
    "***********************************\n",
    "\n",
    "A      (2d array):      2 x 1\n",
    "\n",
    "B      (3d array):  8 x 4 x 3 # second from last dimensions mismatched"
   ]
  },
  {
   "cell_type": "code",
   "execution_count": 76,
   "metadata": {},
   "outputs": [
    {
     "name": "stdout",
     "output_type": "stream",
     "text": [
      "[[ 0  0  0]\n",
      " [10 10 10]\n",
      " [20 20 20]\n",
      " [30 30 30]]\n",
      "(4, 3)\n",
      "-----------------\n",
      "[1 2 3]\n",
      "(3,)\n",
      "-----------------\n",
      "[[ 1  2  3]\n",
      " [11 12 13]\n",
      " [21 22 23]\n",
      " [31 32 33]]\n",
      "(4, 3)\n"
     ]
    }
   ],
   "source": [
    "#Un ejemplo de difusión cuando se agrega una matriz 1D a una matriz 2D:\n",
    "\n",
    "a = np.array([[0,0,0],\n",
    "              [10,10,10],\n",
    "              [20,20,20],\n",
    "              [30,30,30]])\n",
    "\n",
    "print(a)\n",
    "print(a.shape)\n",
    "print('-----------------')\n",
    "b = np.array([1,2,3])\n",
    "print(b)\n",
    "print(b.shape)\n",
    "print('-----------------')\n",
    "\n",
    "c = a + b\n",
    "print(c)\n",
    "print(c.shape)\n"
   ]
  },
  {
   "cell_type": "markdown",
   "metadata": {},
   "source": [
    "La radiodifusión proporciona una forma conveniente de tomar el producto externo (o cualquier otra operación externa) de dos matrices. En el ejemplo siguiente se muestra un Operación de adición externa de dos matrices 1-D:"
   ]
  },
  {
   "cell_type": "code",
   "execution_count": 77,
   "metadata": {},
   "outputs": [
    {
     "data": {
      "text/plain": [
       "array([[ 1,  2,  3],\n",
       "       [11, 12, 13],\n",
       "       [21, 22, 23],\n",
       "       [31, 32, 33]])"
      ]
     },
     "execution_count": 77,
     "metadata": {},
     "output_type": "execute_result"
    }
   ],
   "source": [
    "a = np.array([0,10,20,30])\n",
    "b = np.array([1,2,3])\n",
    "\n",
    "a[:, np.newaxis] + b"
   ]
  },
  {
   "cell_type": "markdown",
   "metadata": {},
   "source": [
    "## Un ejemplo práctico: la cuantización vectorial "
   ]
  },
  {
   "cell_type": "code",
   "execution_count": 88,
   "metadata": {},
   "outputs": [
    {
     "name": "stdout",
     "output_type": "stream",
     "text": [
      "[111. 188.]\n",
      "El shape de observation es:  (2,)\n",
      "-----------------------------------\n",
      "[[102. 203.]\n",
      " [132. 193.]\n",
      " [ 45. 155.]\n",
      " [ 57. 173.]]\n",
      "El shape de codes es:  (4, 2)\n",
      "-----------------------------------\n",
      "[[ -9.  15.]\n",
      " [ 21.   5.]\n",
      " [-66. -33.]\n",
      " [-54. -15.]]\n",
      "El shape de diff es:  (4, 2)\n",
      "-----------------------------------\n",
      "[17.49285568 21.58703314 73.79024326 56.04462508]\n",
      "El shape de dist es:  (4,)\n"
     ]
    },
    {
     "data": {
      "text/plain": [
       "' Observation      (1d array):      2\\n    Codes            (2d array):  4 x 2\\n    Diff             (2d array):  4 x 2 '"
      ]
     },
     "execution_count": 88,
     "metadata": {},
     "output_type": "execute_result"
    }
   ],
   "source": [
    "from numpy import array, argmin, sqrt, sum\n",
    "\n",
    "observation = array([111.0, 188.0])\n",
    "print(observation)\n",
    "print(f'El shape de observation es: ', observation.shape)\n",
    "print('-----------------------------------')\n",
    "codes = array([[102.0, 203.0],\n",
    "               [132.0, 193.0],\n",
    "               [45.0, 155.0],\n",
    "               [57.0, 173.0]])\n",
    "print(codes)\n",
    "print(f'El shape de codes es: ', codes.shape)\n",
    "print('-----------------------------------')\n",
    "\n",
    "diff = codes - observation    # the broadcast happens here\n",
    "print(diff)\n",
    "print(f'El shape de diff es: ', diff.shape)\n",
    "\n",
    "print('-----------------------------------')\n",
    "dist = sqrt(sum(diff**2,axis=-1))\n",
    "print(dist)\n",
    "print(f'El shape de dist es: ', dist.shape)\n",
    "argmin(dist)\n",
    "\n",
    "#En este ejemplo, la matriz se estira para que coincida La forma de la matriz:observation, codes\n",
    "\n",
    "\"\"\" Observation      (1d array):      2\n",
    "    Codes            (2d array):  4 x 2\n",
    "    Diff             (2d array):  4 x 2 \"\"\""
   ]
  }
 ],
 "metadata": {
  "kernelspec": {
   "display_name": "Curso_Python",
   "language": "python",
   "name": "python3"
  },
  "language_info": {
   "codemirror_mode": {
    "name": "ipython",
    "version": 3
   },
   "file_extension": ".py",
   "mimetype": "text/x-python",
   "name": "python",
   "nbconvert_exporter": "python",
   "pygments_lexer": "ipython3",
   "version": "3.11.9"
  }
 },
 "nbformat": 4,
 "nbformat_minor": 2
}
