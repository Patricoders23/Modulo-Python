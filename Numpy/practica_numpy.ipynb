{
 "cells": [
  {
   "cell_type": "markdown",
   "metadata": {},
   "source": [
    "-----------------------------------\n",
    "# **NUMPY**\n",
    "---------------------"
   ]
  },
  {
   "cell_type": "markdown",
   "metadata": {},
   "source": [
    "NumPy, significa Numerical Python, es una biblioteca de Python especializada en el cálculo numérico y el análisis\n",
    "de datos, especialmente para un gran volumen de datos.\n",
    "\n",
    "Incorpora una nueva clase de objetos llamados arrays que permite representar colecciones de datos de un mismo\n",
    "tipo en varias dimensiones, y funciones muy eficientes para su manipulación\n",
    "\n",
    "Ventajas: el procesamiento de los arrays se realiza mucho más rápido (hasta 50 veces más) que las listas, lo\n",
    "cual la hace ideal para el procesamiento de vectores y matrices de grandes dimensiones"
   ]
  },
  {
   "cell_type": "markdown",
   "metadata": {},
   "source": [
    " ![Texto alternativo](\\Imagenes\\n2.PNG)"
   ]
  },
  {
   "cell_type": "markdown",
   "metadata": {},
   "source": [
    "## Tipos: \n",
    "\n",
    "* int8, int16, int32, int64 ===>  (Entero con signo) \n",
    "\n",
    "* uint8, uint16, uint32, uint64 ===> pueden definirse con diferentes tamaños, y solo pueden almacenar números no negativos.\n",
    "\n",
    "* float16, float32, float64, float128 ===> flotantes \n",
    "\n",
    "* string ===> longitud fija de tipo de string \n",
    "\n",
    "* unicode ===> longitud fija de tipo unicode "
   ]
  },
  {
   "cell_type": "markdown",
   "metadata": {},
   "source": [
    "## Forma del array (shape)"
   ]
  },
  {
   "cell_type": "markdown",
   "metadata": {},
   "source": [
    " ![Texto alternativo](\\Imagenes\\n1.PNG)"
   ]
  },
  {
   "cell_type": "markdown",
   "metadata": {},
   "source": [
    "## Dimensiones"
   ]
  },
  {
   "cell_type": "markdown",
   "metadata": {},
   "source": [
    " ![Texto alternativo](\\Imagenes\\n3.PNG)"
   ]
  },
  {
   "cell_type": "markdown",
   "metadata": {},
   "source": [
    "Un tensor 0D se denomina específicamente Escalar. Un tensor 1D se conoce específicamente como Vector. Un tensor 2D se conoce específicamente como Matriz. Las matrices 3D y de dimensiones superiores son sólo tensores. "
   ]
  },
  {
   "cell_type": "code",
   "execution_count": 3,
   "metadata": {},
   "outputs": [
    {
     "name": "stdout",
     "output_type": "stream",
     "text": [
      "1D Tensor:\n",
      "[1 2 3 4 5]\n"
     ]
    }
   ],
   "source": [
    "import numpy as np\n",
    "\n",
    "# 1D Tensor (Vector)\n",
    "tensor_1d = np.array([1, 2, 3, 4, 5])\n",
    "print(\"1D Tensor:\")\n",
    "print(tensor_1d)"
   ]
  },
  {
   "cell_type": "code",
   "execution_count": 3,
   "metadata": {},
   "outputs": [
    {
     "name": "stdout",
     "output_type": "stream",
     "text": [
      "2D Tensor:\n",
      "[[1 2 3]\n",
      " [4 5 6]\n",
      " [7 8 9]]\n"
     ]
    }
   ],
   "source": [
    "# 2D Tensor (Matriz)\n",
    "tensor_2d = np.array([[1, 2, 3], [4, 5, 6], [7, 8, 9]])\n",
    "print(\"2D Tensor:\")\n",
    "print(tensor_2d)\n"
   ]
  },
  {
   "cell_type": "code",
   "execution_count": 4,
   "metadata": {},
   "outputs": [
    {
     "name": "stdout",
     "output_type": "stream",
     "text": [
      "3D Tensor:\n",
      "[[[ 1  2  3]\n",
      "  [ 4  5  6]]\n",
      "\n",
      " [[ 7  8  9]\n",
      "  [10 11 12]]\n",
      "\n",
      " [[13 14 15]\n",
      "  [16 17 18]]]\n"
     ]
    }
   ],
   "source": [
    "# 3D Tensor\n",
    "tensor_3d = np.array([[[1, 2, 3], [4, 5, 6]], \n",
    "                      [[7, 8, 9], [10, 11, 12]], \n",
    "                      [[13, 14, 15], [16, 17, 18]]])\n",
    "print(\"3D Tensor:\")\n",
    "print(tensor_3d) \n"
   ]
  },
  {
   "cell_type": "code",
   "execution_count": 5,
   "metadata": {},
   "outputs": [
    {
     "name": "stdout",
     "output_type": "stream",
     "text": [
      "4D Tensor:\n",
      "[[[[ 1  2  3]\n",
      "   [ 4  5  6]]\n",
      "\n",
      "  [[ 7  8  9]\n",
      "   [10 11 12]]]\n",
      "\n",
      "\n",
      " [[[13 14 15]\n",
      "   [16 17 18]]\n",
      "\n",
      "  [[19 20 21]\n",
      "   [22 23 24]]]]\n"
     ]
    }
   ],
   "source": [
    "# 4D Tensor\n",
    "tensor_4d = np.array([[[[1, 2, 3], [4, 5, 6]], \n",
    "                       [[7, 8, 9], [10, 11, 12]]], \n",
    "\n",
    "                      [[[13, 14, 15], [16, 17, 18]], \n",
    "                       [[19, 20, 21], [22, 23, 24]]]])\n",
    "print(\"4D Tensor:\")\n",
    "print(tensor_4d) "
   ]
  },
  {
   "cell_type": "markdown",
   "metadata": {},
   "source": [
    "### Aplanar imágenes"
   ]
  },
  {
   "cell_type": "code",
   "execution_count": 11,
   "metadata": {},
   "outputs": [],
   "source": [
    "from PIL import Image\n",
    "imagen = Image.open('Imagenes/n1.PNG')"
   ]
  },
  {
   "cell_type": "code",
   "execution_count": 14,
   "metadata": {},
   "outputs": [
    {
     "name": "stdout",
     "output_type": "stream",
     "text": [
      "<PIL.Image.Image image mode=L size=762x374 at 0x1747A240CD0>\n"
     ]
    }
   ],
   "source": [
    "#Convierte la imagen a escala de grises\n",
    "imagen_gris = imagen.convert('L')\n",
    "print(imagen_gris)"
   ]
  },
  {
   "cell_type": "code",
   "execution_count": 13,
   "metadata": {},
   "outputs": [],
   "source": [
    "#Convierte la imagen a un array NumPy\n",
    "imagen_array = np.asarray(imagen_gris)"
   ]
  },
  {
   "cell_type": "code",
   "execution_count": 17,
   "metadata": {},
   "outputs": [
    {
     "name": "stdout",
     "output_type": "stream",
     "text": [
      "[255 255 255 ... 255 255 255]\n"
     ]
    }
   ],
   "source": [
    "#Aplana el array\n",
    "imagen_plana = imagen_array.flatten()\n",
    "print(imagen_plana)"
   ]
  },
  {
   "cell_type": "markdown",
   "metadata": {},
   "source": [
    "## Creación de arrays \n",
    "\n",
    "Para crear un array se utiliza la siguiente función de NumPy:\n",
    "* np.array(lista) : Crea un array a partir de la lista o tupla lista y devuelve una referencia a él. El número de dimensiones del array dependerá de las listas o tuplas anidadas en lista:\n",
    "* Para una lista de valores se crea un array de una dimensión, también conocido como vector.\n",
    "* Para una lista de listas de valores se crea un array de dos dimensiones, también conocido como matriz.\n",
    "* Para una lista de listas de listas de valores se crea un array de tres dimensiones, también conocido como cubo.\n",
    "\n",
    "Y así sucesivamente. No hay límite en el número de dimensiones del array más allá de la memoria disponible en el sistema."
   ]
  },
  {
   "cell_type": "code",
   "execution_count": 2,
   "metadata": {},
   "outputs": [],
   "source": [
    "import numpy as np "
   ]
  },
  {
   "cell_type": "markdown",
   "metadata": {},
   "source": [
    "### Array de una dimensión"
   ]
  },
  {
   "cell_type": "code",
   "execution_count": 12,
   "metadata": {},
   "outputs": [
    {
     "name": "stdout",
     "output_type": "stream",
     "text": [
      "[1 2 3]\n"
     ]
    }
   ],
   "source": [
    "# Array de una dimnesión \n",
    "\n",
    "a1 = np.array([1,2,3])\n",
    "print(a1)"
   ]
  },
  {
   "cell_type": "markdown",
   "metadata": {},
   "source": [
    "### Array de dos dimensiones"
   ]
  },
  {
   "cell_type": "code",
   "execution_count": 14,
   "metadata": {},
   "outputs": [
    {
     "name": "stdout",
     "output_type": "stream",
     "text": [
      "[[1 2 3]\n",
      " [4 5 6]]\n"
     ]
    }
   ],
   "source": [
    "# Array de dos dimnesiones\n",
    "\n",
    "a2 = np.array([[1,2,3],[4,5,6]])\n",
    "print(a2)"
   ]
  },
  {
   "cell_type": "markdown",
   "metadata": {},
   "source": [
    "### Array de tres dimensiones"
   ]
  },
  {
   "cell_type": "code",
   "execution_count": 5,
   "metadata": {},
   "outputs": [
    {
     "name": "stdout",
     "output_type": "stream",
     "text": [
      "[[[1 2 3]\n",
      "  [4 5 6]]\n",
      "\n",
      " [[7 8 9]\n",
      "  [8 7 6]]]\n"
     ]
    }
   ],
   "source": [
    "# Array de tres dimesiones \n",
    "a3 = np.array([[[1,2,3],[4,5,6]], [[7,8,9],[8,7,6]]])\n",
    "print(a3)"
   ]
  },
  {
   "cell_type": "markdown",
   "metadata": {},
   "source": [
    "### Array de cuatro dimensiones"
   ]
  },
  {
   "cell_type": "code",
   "execution_count": 7,
   "metadata": {},
   "outputs": [
    {
     "name": "stdout",
     "output_type": "stream",
     "text": [
      "[[[[ 1  2  3]\n",
      "   [ 4  5  6]]\n",
      "\n",
      "  [[ 7  8  9]\n",
      "   [ 8  7  6]]]\n",
      "\n",
      "\n",
      " [[[12 22 32]\n",
      "   [42 52 62]]\n",
      "\n",
      "  [[72 82 92]\n",
      "   [82 72 62]]]]\n"
     ]
    }
   ],
   "source": [
    "# Array de cuatro dimesiones \n",
    "a3 = np.array([[[[1,2,3],[4,5,6]], [[7,8,9],[8,7,6]]], [[[12,22,32],[42,52,62]], [[72,82,92],[82,72,62]]]])\n",
    "print(a3)"
   ]
  },
  {
   "cell_type": "markdown",
   "metadata": {},
   "source": [
    "### Array de cinco dimensiones"
   ]
  },
  {
   "cell_type": "code",
   "execution_count": 9,
   "metadata": {},
   "outputs": [
    {
     "name": "stdout",
     "output_type": "stream",
     "text": [
      "[[[[ 1  2  3]\n",
      "   [ 4  5  6]]\n",
      "\n",
      "  [[ 7  8  9]\n",
      "   [ 8  7  6]]]\n",
      "\n",
      "\n",
      " [[[12 22 32]\n",
      "   [42 52 62]]\n",
      "\n",
      "  [[72 82 92]\n",
      "   [82 72 62]]]]\n"
     ]
    }
   ],
   "source": [
    "a4 = np.array([[[[[1,2,3],[4,5,6]], [[7,8,9],[8,7,6]]], [[[12,22,32],[42,52,62]], [[72,82,92],[82,72,62]]], [[[12,22,32],[42,52,62]], [[702,802,902],[802,702,602]]]]])\n",
    "print(a3)"
   ]
  },
  {
   "cell_type": "markdown",
   "metadata": {},
   "source": [
    "## Verificando el número de dimensiones "
   ]
  },
  {
   "cell_type": "code",
   "execution_count": 14,
   "metadata": {},
   "outputs": [
    {
     "name": "stdout",
     "output_type": "stream",
     "text": [
      "La dimensión del array a: 0\n",
      "La dimensión del array b: 1\n",
      "La dimensión del array c: 2\n",
      "La dimensión del array d: 3\n"
     ]
    }
   ],
   "source": [
    "a = np.array(42)\n",
    "b = np.array([1,2,3,4,5])\n",
    "c = np.array([[1,2,3], [4,5,6]])\n",
    "d = np.array([[[1,2,3], [4,5,6]], [[1,2,3], [4,5,6]]])\n",
    "print(f'La dimensión del array a: {a.ndim}')\n",
    "print(f'La dimensión del array b: {b.ndim}')\n",
    "print(f'La dimensión del array c: {c.ndim}')\n",
    "print(f'La dimensión del array d: {d.ndim}')"
   ]
  },
  {
   "cell_type": "code",
   "execution_count": 19,
   "metadata": {},
   "outputs": [
    {
     "name": "stdout",
     "output_type": "stream",
     "text": [
      "[[1 3]\n",
      " [4 5]]\n"
     ]
    }
   ],
   "source": [
    "array_1_2D = np.array([[1,3], [4,5]])\n",
    "array_2_2D = np.array([[11,31], [44,55]])\n",
    "array_3_2D = np.array([[100,300], [400,500]])\n",
    "array_3D = np.array([array_1_2D, array_2_2D, array_3_2D])\n",
    "print(array_1_2D)"
   ]
  },
  {
   "cell_type": "code",
   "execution_count": 20,
   "metadata": {},
   "outputs": [
    {
     "name": "stdout",
     "output_type": "stream",
     "text": [
      "[[11 31]\n",
      " [44 55]]\n"
     ]
    }
   ],
   "source": [
    "print(array_2_2D)"
   ]
  },
  {
   "cell_type": "code",
   "execution_count": 21,
   "metadata": {},
   "outputs": [
    {
     "name": "stdout",
     "output_type": "stream",
     "text": [
      "[[100 300]\n",
      " [400 500]]\n"
     ]
    }
   ],
   "source": [
    "print(array_3_2D)"
   ]
  },
  {
   "cell_type": "code",
   "execution_count": 22,
   "metadata": {},
   "outputs": [
    {
     "name": "stdout",
     "output_type": "stream",
     "text": [
      "[[[  1   3]\n",
      "  [  4   5]]\n",
      "\n",
      " [[ 11  31]\n",
      "  [ 44  55]]\n",
      "\n",
      " [[100 300]\n",
      "  [400 500]]]\n"
     ]
    }
   ],
   "source": [
    "print(array_3D)"
   ]
  },
  {
   "cell_type": "code",
   "execution_count": 24,
   "metadata": {},
   "outputs": [
    {
     "name": "stdout",
     "output_type": "stream",
     "text": [
      "3\n"
     ]
    }
   ],
   "source": [
    "print(array_3D.ndim)"
   ]
  },
  {
   "cell_type": "markdown",
   "metadata": {},
   "source": [
    "## Construyendo arrays con `ndmin`\n",
    "El parámetro `ndmin` se utiliza para especificar el número mínimo de dimensiones. "
   ]
  },
  {
   "cell_type": "code",
   "execution_count": 26,
   "metadata": {},
   "outputs": [
    {
     "name": "stdout",
     "output_type": "stream",
     "text": [
      "[[[[[ 1  2  3  4  5  6]\n",
      "    [ 9 10 11 14 15 16]]]]]\n"
     ]
    }
   ],
   "source": [
    "array_a = np.array([[1,2,3,4,5,6], [9,10,11,14,15,16]], ndmin = 5)\n",
    "print(array_a)"
   ]
  },
  {
   "cell_type": "code",
   "execution_count": 48,
   "metadata": {},
   "outputs": [
    {
     "name": "stdout",
     "output_type": "stream",
     "text": [
      "[[[[[1 2 3 4]]]]]\n"
     ]
    }
   ],
   "source": [
    "#Construeyndo arrays con ndim \n",
    "array_5 = np.array([1,2,3, 4], ndmin=5)\n",
    "print(array_5)"
   ]
  },
  {
   "cell_type": "markdown",
   "metadata": {},
   "source": [
    "## Otras funciones para crear arrays \n",
    "\n",
    "* np.zeros()\n",
    "* np.random.random()\n",
    "* np.arange()"
   ]
  },
  {
   "cell_type": "markdown",
   "metadata": {},
   "source": [
    "### np.zeros()"
   ]
  },
  {
   "cell_type": "code",
   "execution_count": 50,
   "metadata": {},
   "outputs": [
    {
     "data": {
      "text/plain": [
       "array([[0., 0., 0.],\n",
       "       [0., 0., 0.],\n",
       "       [0., 0., 0.],\n",
       "       [0., 0., 0.],\n",
       "       [0., 0., 0.]])"
      ]
     },
     "execution_count": 50,
     "metadata": {},
     "output_type": "execute_result"
    }
   ],
   "source": [
    "# Crea un array con shape(5,3) es decir: \n",
    "#5 filas y 3 columnas, y todos los elementos se inicializan con el valor 0.0\n",
    "\n",
    "np.zeros((5,3))"
   ]
  },
  {
   "cell_type": "markdown",
   "metadata": {},
   "source": [
    "### np.random.random()"
   ]
  },
  {
   "cell_type": "code",
   "execution_count": 55,
   "metadata": {},
   "outputs": [
    {
     "name": "stdout",
     "output_type": "stream",
     "text": [
      "[[[0.90141061 0.06242253 0.96304465]\n",
      "  [0.58417649 0.37715457 0.28094854]\n",
      "  [0.45380436 0.19509499 0.39391227]\n",
      "  [0.4254745  0.48720317 0.18299548]]\n",
      "\n",
      " [[0.22555946 0.92647334 0.45882309]\n",
      "  [0.89018447 0.66845844 0.32199477]\n",
      "  [0.30332304 0.85852508 0.23982318]\n",
      "  [0.53442954 0.90942757 0.63961527]]]\n"
     ]
    }
   ],
   "source": [
    "a = np.random.random((2,4,3))\n",
    "print(a)"
   ]
  },
  {
   "cell_type": "code",
   "execution_count": 56,
   "metadata": {},
   "outputs": [
    {
     "name": "stdout",
     "output_type": "stream",
     "text": [
      "(2, 4, 3)\n"
     ]
    }
   ],
   "source": [
    "print(a.shape)"
   ]
  },
  {
   "cell_type": "markdown",
   "metadata": {},
   "source": [
    "### np.arange"
   ]
  },
  {
   "cell_type": "code",
   "execution_count": 57,
   "metadata": {},
   "outputs": [
    {
     "data": {
      "text/plain": [
       "array([-3, -2, -1,  0,  1,  2,  3])"
      ]
     },
     "execution_count": 57,
     "metadata": {},
     "output_type": "execute_result"
    }
   ],
   "source": [
    "np.arange(-3,4) # va desde el -3 hasta el 4"
   ]
  },
  {
   "cell_type": "code",
   "execution_count": 58,
   "metadata": {},
   "outputs": [
    {
     "data": {
      "text/plain": [
       "array([0, 1, 2, 3])"
      ]
     },
     "execution_count": 58,
     "metadata": {},
     "output_type": "execute_result"
    }
   ],
   "source": [
    "np.arange(4)\n"
   ]
  },
  {
   "cell_type": "code",
   "execution_count": 61,
   "metadata": {},
   "outputs": [
    {
     "data": {
      "text/plain": [
       "array([-3,  0,  3])"
      ]
     },
     "execution_count": 61,
     "metadata": {},
     "output_type": "execute_result"
    }
   ],
   "source": [
    "np.arange(-3,4, 3) #array de 3 hasta el 4 de 3 en tres \n"
   ]
  },
  {
   "cell_type": "markdown",
   "metadata": {},
   "source": [
    "## Cambio de forma: Shapeshifting\n",
    "\n",
    "> Atributos:\n",
    ".shape\n",
    "\n",
    "> Métodos:\n",
    ".flatten() \n",
    ".reshape()\n"
   ]
  },
  {
   "cell_type": "markdown",
   "metadata": {},
   "source": [
    "### .shape()"
   ]
  },
  {
   "cell_type": "code",
   "execution_count": 63,
   "metadata": {},
   "outputs": [
    {
     "name": "stdout",
     "output_type": "stream",
     "text": [
      "[[0. 0. 0. 0. 0.]\n",
      " [0. 0. 0. 0. 0.]\n",
      " [0. 0. 0. 0. 0.]]\n"
     ]
    }
   ],
   "source": [
    "array = np.zeros((3,5))\n",
    "print(array)"
   ]
  },
  {
   "cell_type": "code",
   "execution_count": 64,
   "metadata": {},
   "outputs": [
    {
     "data": {
      "text/plain": [
       "(3, 5)"
      ]
     },
     "execution_count": 64,
     "metadata": {},
     "output_type": "execute_result"
    }
   ],
   "source": [
    "array.shape"
   ]
  },
  {
   "cell_type": "code",
   "execution_count": 70,
   "metadata": {},
   "outputs": [
    {
     "name": "stdout",
     "output_type": "stream",
     "text": [
      "[[0. 0. 0.]\n",
      " [0. 0. 0.]\n",
      " [0. 0. 0.]\n",
      " [0. 0. 0.]\n",
      " [0. 0. 0.]]\n"
     ]
    }
   ],
   "source": [
    "a= np.zeros((5,3))\n",
    "print(a)"
   ]
  },
  {
   "cell_type": "code",
   "execution_count": 72,
   "metadata": {},
   "outputs": [
    {
     "name": "stdout",
     "output_type": "stream",
     "text": [
      "2\n"
     ]
    }
   ],
   "source": [
    "print(a.ndim)"
   ]
  },
  {
   "cell_type": "code",
   "execution_count": 73,
   "metadata": {},
   "outputs": [
    {
     "data": {
      "text/plain": [
       "(5, 3)"
      ]
     },
     "execution_count": 73,
     "metadata": {},
     "output_type": "execute_result"
    }
   ],
   "source": [
    "a.shape"
   ]
  },
  {
   "cell_type": "markdown",
   "metadata": {},
   "source": [
    "### .flatten()"
   ]
  },
  {
   "cell_type": "code",
   "execution_count": 74,
   "metadata": {},
   "outputs": [
    {
     "data": {
      "text/plain": [
       "2"
      ]
     },
     "execution_count": 74,
     "metadata": {},
     "output_type": "execute_result"
    }
   ],
   "source": [
    "array_1 = np.array([[1,2],[5,7],[6,6]])\n",
    "array_1.ndim"
   ]
  },
  {
   "cell_type": "code",
   "execution_count": 75,
   "metadata": {},
   "outputs": [
    {
     "name": "stdout",
     "output_type": "stream",
     "text": [
      "[[1 2]\n",
      " [5 7]\n",
      " [6 6]]\n"
     ]
    }
   ],
   "source": [
    "print(array_1)"
   ]
  },
  {
   "cell_type": "code",
   "execution_count": 77,
   "metadata": {},
   "outputs": [
    {
     "data": {
      "text/plain": [
       "array([1, 2, 5, 7, 6, 6])"
      ]
     },
     "execution_count": 77,
     "metadata": {},
     "output_type": "execute_result"
    }
   ],
   "source": [
    "array_1.flatten()"
   ]
  },
  {
   "cell_type": "code",
   "execution_count": 79,
   "metadata": {},
   "outputs": [
    {
     "data": {
      "text/plain": [
       "1"
      ]
     },
     "execution_count": 79,
     "metadata": {},
     "output_type": "execute_result"
    }
   ],
   "source": [
    "array_1.flatten().ndim"
   ]
  },
  {
   "cell_type": "markdown",
   "metadata": {},
   "source": [
    "### .reshape()"
   ]
  },
  {
   "cell_type": "code",
   "execution_count": 81,
   "metadata": {},
   "outputs": [
    {
     "name": "stdout",
     "output_type": "stream",
     "text": [
      "[[10 20]\n",
      " [50 70]\n",
      " [60 60]]\n"
     ]
    }
   ],
   "source": [
    "array_2 = np.array([[10,20],[50,70],[60,60]])\n",
    "print(array_2)"
   ]
  },
  {
   "cell_type": "code",
   "execution_count": 82,
   "metadata": {},
   "outputs": [
    {
     "data": {
      "text/plain": [
       "2"
      ]
     },
     "execution_count": 82,
     "metadata": {},
     "output_type": "execute_result"
    }
   ],
   "source": [
    "array_2.ndim # Retorne el número de dimensiones en el array\n",
    "#el array tiene 2 dimensiones: filas y columnas."
   ]
  },
  {
   "cell_type": "code",
   "execution_count": 83,
   "metadata": {},
   "outputs": [
    {
     "data": {
      "text/plain": [
       "(3, 2)"
      ]
     },
     "execution_count": 83,
     "metadata": {},
     "output_type": "execute_result"
    }
   ],
   "source": [
    "array_2.shape # forma del array como tupla "
   ]
  },
  {
   "cell_type": "code",
   "execution_count": 84,
   "metadata": {},
   "outputs": [
    {
     "data": {
      "text/plain": [
       "array([[10, 20, 50],\n",
       "       [70, 60, 60]])"
      ]
     },
     "execution_count": 84,
     "metadata": {},
     "output_type": "execute_result"
    }
   ],
   "source": [
    "array_2.reshape((2,3))"
   ]
  },
  {
   "cell_type": "code",
   "execution_count": 85,
   "metadata": {},
   "outputs": [
    {
     "data": {
      "text/plain": [
       "2"
      ]
     },
     "execution_count": 85,
     "metadata": {},
     "output_type": "execute_result"
    }
   ],
   "source": [
    "array_2.reshape((2,3)).ndim # el array tiene 2 dimensiones: filas y columnas."
   ]
  },
  {
   "cell_type": "code",
   "execution_count": 86,
   "metadata": {},
   "outputs": [
    {
     "data": {
      "text/plain": [
       "array([10, 20, 50, 70, 60, 60])"
      ]
     },
     "execution_count": 86,
     "metadata": {},
     "output_type": "execute_result"
    }
   ],
   "source": [
    "array_2.reshape(6)"
   ]
  },
  {
   "cell_type": "markdown",
   "metadata": {},
   "source": [
    "Un array con 3 dimensiones en NumPy se conoce como un tensor o un array 3D. En este caso, las 3 dimensiones son:\n",
    "\n",
    "*Filas (o eje 0)\n",
    "\n",
    "*Columnas (o eje 1)\n",
    "\n",
    "*Profundidad (o eje 2)"
   ]
  },
  {
   "cell_type": "code",
   "execution_count": 91,
   "metadata": {},
   "outputs": [
    {
     "name": "stdout",
     "output_type": "stream",
     "text": [
      "(3, 2, 3)\n"
     ]
    }
   ],
   "source": [
    "array_3d = np.array([\n",
    "    [[1, 2, 3], [4, 5, 6]],  # fila 1, columna 1\n",
    "    [[7, 8, 9], [10, 11, 12]],  # fila 1, columna 2\n",
    "    [[13, 14, 15], [16, 17, 18]]  # fila 2, columna 1\n",
    "])\n",
    "\n",
    "print(array_3d.shape) \n",
    "#La forma del array array_3d es indeed (3, 2, 3), lo que indica que tiene:\n",
    "#3 filas (eje 0), 2 columnas (eje 1), 3 elementos de profundidad (eje 2)"
   ]
  },
  {
   "cell_type": "code",
   "execution_count": 88,
   "metadata": {},
   "outputs": [
    {
     "data": {
      "text/plain": [
       "3"
      ]
     },
     "execution_count": 88,
     "metadata": {},
     "output_type": "execute_result"
    }
   ],
   "source": [
    "array_3d.ndim"
   ]
  },
  {
   "cell_type": "markdown",
   "metadata": {},
   "source": [
    "----------------------\n",
    "# **Una guía completa de los tipos de datos de NumPy**    \n",
    "-------------------------"
   ]
  },
  {
   "cell_type": "markdown",
   "metadata": {},
   "source": [
    "¿Qué más hay además de int32 y float64? \n",
    "\n",
    "Existen 7 tipos: \n",
    "\n",
    "* 1) Integers (enteros)\n",
    "* 2) Float (flotantes)\n",
    "* 3) Boleanos\n",
    "* 4) Strings (cadenas)\n",
    "* 5) Datetimes \n",
    "* 6) Combinations thereof\n",
    "* 7) Type Checks\n",
    "\n"
   ]
  },
  {
   "cell_type": "markdown",
   "metadata": {},
   "source": [
    "## 1) Integers (enteros)"
   ]
  },
  {
   "cell_type": "markdown",
   "metadata": {},
   "source": [
    "`'u'` significa 'sin signo' y los `dígitos` representan el número de bits utilizados para almacenar la variable en la memoria"
   ]
  },
  {
   "cell_type": "markdown",
   "metadata": {},
   "source": [
    " ![Texto alternativo](\\Imagenes\\np1.PNG)"
   ]
  },
  {
   "cell_type": "code",
   "execution_count": 29,
   "metadata": {},
   "outputs": [
    {
     "data": {
      "text/plain": [
       "dtype('int32')"
      ]
     },
     "execution_count": 29,
     "metadata": {},
     "output_type": "execute_result"
    }
   ],
   "source": [
    "np.array([1,2,3]).dtype\n",
    "# int32 en Windows, int64 en Linux y MacOS "
   ]
  },
  {
   "cell_type": "markdown",
   "metadata": {},
   "source": [
    " Cada elemento en el arreglo se representará como un entero sin signo de 8 bits, que puede almacenar valores desde 0 hasta 255.\n",
    "\n",
    "  Sumar 1 al elemento único 255, normalmente daría como resultado 256. Sin embargo, debido al desbordamiento de entero sin signo, el valor se envuelve alrededor de 0.\n",
    "\n",
    "  Si desea evitar este comportamiento, considere utilizar enteros con signo: np.int16 o np.int32"
   ]
  },
  {
   "cell_type": "code",
   "execution_count": 30,
   "metadata": {},
   "outputs": [
    {
     "data": {
      "text/plain": [
       "array([0], dtype=uint8)"
      ]
     },
     "execution_count": 30,
     "metadata": {},
     "output_type": "execute_result"
    }
   ],
   "source": [
    "np.array([255], np.uint8) +1  #Es:2**8-1, maximo uint8\n",
    "\n",
    "# suma 1 al elemento único 255."
   ]
  },
  {
   "cell_type": "code",
   "execution_count": 31,
   "metadata": {},
   "outputs": [
    {
     "data": {
      "text/plain": [
       "array([2147483647])"
      ]
     },
     "execution_count": 31,
     "metadata": {},
     "output_type": "execute_result"
    }
   ],
   "source": [
    "np.array([2**31-1]) #Para int32"
   ]
  },
  {
   "cell_type": "code",
   "execution_count": 32,
   "metadata": {},
   "outputs": [
    {
     "data": {
      "text/plain": [
       "array([-2147483648])"
      ]
     },
     "execution_count": 32,
     "metadata": {},
     "output_type": "execute_result"
    }
   ],
   "source": [
    "np.array([2**31-1]) +1"
   ]
  },
  {
   "cell_type": "code",
   "execution_count": 34,
   "metadata": {},
   "outputs": [
    {
     "data": {
      "text/plain": [
       "array([4455508415646675018204269146191690746966043464109921807206242693261010905477224010259680479802120507596330380442963288389344438204468201170168614570041224793214838549179946240315306828365824],\n",
       "      dtype=object)"
      ]
     },
     "execution_count": 34,
     "metadata": {},
     "output_type": "execute_result"
    }
   ],
   "source": [
    "np.array([2**630-1]) +1 #np.int64"
   ]
  },
  {
   "cell_type": "code",
   "execution_count": 36,
   "metadata": {},
   "outputs": [
    {
     "data": {
      "text/plain": [
       "1003"
      ]
     },
     "execution_count": 36,
     "metadata": {},
     "output_type": "execute_result"
    }
   ],
   "source": [
    "a = np.array([10], dtype = object)\n",
    "len(str(a**1000))"
   ]
  },
  {
   "cell_type": "markdown",
   "metadata": {},
   "source": [
    "## 2) Floats (flotantes)\n",
    "Como el float puro de Python no divergió del tipo doble de C estandarizado por IEEE 754 (nótese la diferencia en la nomenclatura), la transición de los números de coma flotante de Python a NumPy es prácticamente sin problemas: Python float es directamente compatible con np.float64 y Python complex — con np.complex128 .\n"
   ]
  },
  {
   "cell_type": "code",
   "execution_count": 39,
   "metadata": {},
   "outputs": [
    {
     "ename": "AttributeError",
     "evalue": "module 'numpy' has no attribute 'float128'",
     "output_type": "error",
     "traceback": [
      "\u001b[1;31m---------------------------------------------------------------------------\u001b[0m",
      "\u001b[1;31mAttributeError\u001b[0m                            Traceback (most recent call last)",
      "Cell \u001b[1;32mIn[39], line 1\u001b[0m\n\u001b[1;32m----> 1\u001b[0m x \u001b[38;5;241m=\u001b[39m np\u001b[38;5;241m.\u001b[39marray([\u001b[38;5;241m-\u001b[39m\u001b[38;5;241m1234.5\u001b[39m], dtype\u001b[38;5;241m=\u001b[39m\u001b[43mnp\u001b[49m\u001b[38;5;241;43m.\u001b[39;49m\u001b[43mfloat128\u001b[49m) \u001b[38;5;66;03m# Da error porque el float 128 está disponible en Linux y Mac\u001b[39;00m\n\u001b[0;32m      2\u001b[0m \u001b[38;5;66;03m# 1/(1+np.exp(-x))\u001b[39;00m\n",
      "File \u001b[1;32m~\\AppData\\Roaming\\Python\\Python311\\site-packages\\numpy\\__init__.py:347\u001b[0m, in \u001b[0;36m__getattr__\u001b[1;34m(attr)\u001b[0m\n\u001b[0;32m    344\u001b[0m     \u001b[38;5;124m\"\u001b[39m\u001b[38;5;124mRemoved in NumPy 1.25.0\u001b[39m\u001b[38;5;124m\"\u001b[39m\n\u001b[0;32m    345\u001b[0m     \u001b[38;5;28;01mraise\u001b[39;00m \u001b[38;5;167;01mRuntimeError\u001b[39;00m(\u001b[38;5;124m\"\u001b[39m\u001b[38;5;124mTester was removed in NumPy 1.25.\u001b[39m\u001b[38;5;124m\"\u001b[39m)\n\u001b[1;32m--> 347\u001b[0m \u001b[38;5;28;01mraise\u001b[39;00m \u001b[38;5;167;01mAttributeError\u001b[39;00m(\u001b[38;5;124m\"\u001b[39m\u001b[38;5;124mmodule \u001b[39m\u001b[38;5;132;01m{!r}\u001b[39;00m\u001b[38;5;124m has no attribute \u001b[39m\u001b[38;5;124m\"\u001b[39m\n\u001b[0;32m    348\u001b[0m                      \u001b[38;5;124m\"\u001b[39m\u001b[38;5;132;01m{!r}\u001b[39;00m\u001b[38;5;124m\"\u001b[39m\u001b[38;5;241m.\u001b[39mformat(\u001b[38;5;18m__name__\u001b[39m, attr))\n",
      "\u001b[1;31mAttributeError\u001b[0m: module 'numpy' has no attribute 'float128'"
     ]
    }
   ],
   "source": [
    "x = np.array([-1234.5], dtype=np.float128) # Da error porque el float 128 está disponible en Linux y Mac\n",
    "# 1/(1+np.exp(-x))\n"
   ]
  },
  {
   "cell_type": "markdown",
   "metadata": {},
   "source": [
    "Para los datos financieros decimales. El tipo decimal es útil ya que no implica tolerancias adicionales en absoluto:"
   ]
  },
  {
   "cell_type": "code",
   "execution_count": 40,
   "metadata": {},
   "outputs": [
    {
     "data": {
      "text/plain": [
       "array([Decimal('0.1'), Decimal('0.2')], dtype=object)"
      ]
     },
     "execution_count": 40,
     "metadata": {},
     "output_type": "execute_result"
    }
   ],
   "source": [
    "from decimal import Decimal as D \n",
    "\n",
    "a = np.array([D('0.1'), D('0.2')]);a"
   ]
  },
  {
   "cell_type": "code",
   "execution_count": 41,
   "metadata": {},
   "outputs": [
    {
     "data": {
      "text/plain": [
       "Decimal('0.3')"
      ]
     },
     "execution_count": 41,
     "metadata": {},
     "output_type": "execute_result"
    }
   ],
   "source": [
    "a.sum()"
   ]
  },
  {
   "cell_type": "code",
   "execution_count": 44,
   "metadata": {},
   "outputs": [
    {
     "data": {
      "text/plain": [
       "array([Fraction(1, 10), Fraction(1, 5)], dtype=object)"
      ]
     },
     "execution_count": 44,
     "metadata": {},
     "output_type": "execute_result"
    }
   ],
   "source": [
    "#Para cálculos matemáticos puros, fracciones. La fracción se puede utilizar:\n",
    "\n",
    "from fractions import Fraction\n",
    "\n",
    "np.array([Fraction(1, 10), Fraction(1, 5)], dtype=object)"
   ]
  },
  {
   "cell_type": "code",
   "execution_count": 45,
   "metadata": {},
   "outputs": [
    {
     "data": {
      "text/plain": [
       "array([1.+2.j])"
      ]
     },
     "execution_count": 45,
     "metadata": {},
     "output_type": "execute_result"
    }
   ],
   "source": [
    "#Los números complejos se tratan de la misma manera que los flotantes. \n",
    "np.array([1+2j])"
   ]
  },
  {
   "cell_type": "markdown",
   "metadata": {},
   "source": [
    "## 3) Booleano\n",
    "\n",
    "Los valores booleanos se almacenan como bytes individuales para un mejor rendimiento.\n",
    "\n",
    "A día de hoy, np.bool sigue funcionando, pero muestra una advertencia de obsolescencia."
   ]
  },
  {
   "cell_type": "code",
   "execution_count": 93,
   "metadata": {},
   "outputs": [
    {
     "data": {
      "text/plain": [
       "28"
      ]
     },
     "execution_count": 93,
     "metadata": {},
     "output_type": "execute_result"
    }
   ],
   "source": [
    "import sys\n",
    "sys.getsizeof(True)"
   ]
  },
  {
   "cell_type": "markdown",
   "metadata": {},
   "source": [
    "## 4) Strings \n",
    "\n",
    "Al inicializar una matriz NumPy con una lista de cadenas de Python, se empaquetan en un tipo de NumPy nativo de ancho fijo llamado np.str_ . Reservar un espacio necesario para que quepa la cadena más larga para cada elemento puede parecer un desperdicio (especialmente en la codificación USC-4 fija en lugar de la elección 'dinámica' del ancho UTF en Python str)"
   ]
  },
  {
   "cell_type": "code",
   "execution_count": 95,
   "metadata": {},
   "outputs": [
    {
     "data": {
      "text/plain": [
       "array(['abcde', 'x', 'y', 'x'], dtype='<U5')"
      ]
     },
     "execution_count": 95,
     "metadata": {},
     "output_type": "execute_result"
    }
   ],
   "source": [
    "np.array(['abcde', 'x', 'y', 'x']) #4 bytes por un caracter  \n",
    "#5*4 bytes por elemento"
   ]
  },
  {
   "cell_type": "code",
   "execution_count": 97,
   "metadata": {},
   "outputs": [
    {
     "data": {
      "text/plain": [
       "array(['abcde', 'x', 'y', 'x'], dtype=object)"
      ]
     },
     "execution_count": 97,
     "metadata": {},
     "output_type": "execute_result"
    }
   ],
   "source": [
    "np.array(['abcde', 'x', 'y', 'x'], object) #1byte por cada ascii caracter"
   ]
  },
  {
   "cell_type": "code",
   "execution_count": 99,
   "metadata": {},
   "outputs": [
    {
     "data": {
      "text/plain": [
       "array([b'abcde', b'x', b'y', b'x'], dtype='|S5')"
      ]
     },
     "execution_count": 99,
     "metadata": {},
     "output_type": "execute_result"
    }
   ],
   "source": [
    "np.array([b'abcde', b'x', b'y', b'x']) #1 byte por ascii caracter \n",
    "#5bytes por elemento"
   ]
  },
  {
   "cell_type": "code",
   "execution_count": 102,
   "metadata": {},
   "outputs": [
    {
     "data": {
      "text/plain": [
       "array([['A', 'B'],\n",
       "       ['C', 'D']], dtype='<U1')"
      ]
     },
     "execution_count": 102,
     "metadata": {},
     "output_type": "execute_result"
    }
   ],
   "source": [
    "np.char.upper(np.array([['a','b'],['c','d']]))\n"
   ]
  },
  {
   "cell_type": "code",
   "execution_count": 104,
   "metadata": {},
   "outputs": [
    {
     "data": {
      "text/plain": [
       "array([['A', 'B'],\n",
       "       ['C', 'D']], dtype=object)"
      ]
     },
     "execution_count": 104,
     "metadata": {},
     "output_type": "execute_result"
    }
   ],
   "source": [
    "#Con las cadenas en modo objeto, los bucles deben ocurrir en el nivel de Python:\n",
    "a=np.array([['a','b'],['c','d']])\n",
    "np.vectorize(lambda x: x.upper(), otypes=[object])(a)"
   ]
  },
  {
   "cell_type": "markdown",
   "metadata": {},
   "source": [
    "## 5) Datetimes\n",
    "\n",
    "Timestamp (también conocido como tiempo de Unix, el número de segundos desde el 1 de enero de 1970 A.C)\n",
    "\n",
    "La granularidad de los años significa que \"solo cuenta los años\", no hay una mejora real en comparación con el almacenamiento de años como un número entero. La granularidad de días es un equivalente de datetime.date de Python . Microsegundos — de datetime.datetime de Python ."
   ]
  },
  {
   "cell_type": "markdown",
   "metadata": {},
   "source": [
    "#Al crear una instancia de np.datetime64 , NumPy elige la granularidad más gruesa que aún puede contener dichos datos"
   ]
  },
  {
   "cell_type": "code",
   "execution_count": 106,
   "metadata": {},
   "outputs": [
    {
     "data": {
      "text/plain": [
       "numpy.datetime64('2024-06-18')"
      ]
     },
     "execution_count": 106,
     "metadata": {},
     "output_type": "execute_result"
    }
   ],
   "source": [
    "np.datetime64('today') #Granularidad (en tiempo local UTC+7)"
   ]
  },
  {
   "cell_type": "code",
   "execution_count": 108,
   "metadata": {},
   "outputs": [
    {
     "data": {
      "text/plain": [
       "numpy.datetime64('2024-06-18T19:15:12')"
      ]
     },
     "execution_count": 108,
     "metadata": {},
     "output_type": "execute_result"
    }
   ],
   "source": [
    "np.datetime64('now') #Granularidad en segundos (en UTC)"
   ]
  },
  {
   "cell_type": "code",
   "execution_count": 114,
   "metadata": {},
   "outputs": [
    {
     "data": {
      "text/plain": [
       "numpy.datetime64('2024-06-18T19:18:26.578650')"
      ]
     },
     "execution_count": 114,
     "metadata": {},
     "output_type": "execute_result"
    }
   ],
   "source": [
    "import datetime as dt\n",
    "np.datetime64(dt.datetime.utcnow()) #Granularidad en microsegundos"
   ]
  },
  {
   "cell_type": "code",
   "execution_count": 116,
   "metadata": {},
   "outputs": [
    {
     "data": {
      "text/plain": [
       "numpy.datetime64('2024-06-18T19:18:26.578650')"
      ]
     },
     "execution_count": 116,
     "metadata": {},
     "output_type": "execute_result"
    }
   ],
   "source": [
    "np.datetime64('2024-06-18T19:18:26.578650') #Granularidad de nanosegundos"
   ]
  },
  {
   "cell_type": "markdown",
   "metadata": {},
   "source": [
    "## 6) Combinations thereof\n",
    "\n",
    "Una 'matriz estructurada' en NumPy es una matriz con un tipo de archivo personalizado hecho de los tipos descritos anteriormente como los bloques de construcción básicos (similar a struct en C). Un ejemplo típico es un color de píxel RGB: un tipo de 3 bytes de largo (generalmente 4 para la alineación), en el que se puede acceder a los colores por su nombre:"
   ]
  },
  {
   "cell_type": "code",
   "execution_count": 3,
   "metadata": {},
   "outputs": [
    {
     "name": "stdout",
     "output_type": "stream",
     "text": [
      "[(0, 0, 0) (0, 0, 0) (0, 0, 0) (0, 0, 0) (0, 0, 0)]\n"
     ]
    }
   ],
   "source": [
    "rgb = np.dtype([('x', np.uint8), ('y', np.uint8), ('z', np.uint8)])\n",
    "a = np.zeros(5, dtype=rgb)\n",
    "print(a)"
   ]
  },
  {
   "cell_type": "code",
   "execution_count": null,
   "metadata": {},
   "outputs": [],
   "source": []
  },
  {
   "cell_type": "code",
   "execution_count": null,
   "metadata": {},
   "outputs": [],
   "source": []
  },
  {
   "cell_type": "code",
   "execution_count": null,
   "metadata": {},
   "outputs": [],
   "source": []
  },
  {
   "cell_type": "code",
   "execution_count": null,
   "metadata": {},
   "outputs": [],
   "source": []
  }
 ],
 "metadata": {
  "kernelspec": {
   "display_name": "Curso_Python",
   "language": "python",
   "name": "python3"
  },
  "language_info": {
   "codemirror_mode": {
    "name": "ipython",
    "version": 3
   },
   "file_extension": ".py",
   "mimetype": "text/x-python",
   "name": "python",
   "nbconvert_exporter": "python",
   "pygments_lexer": "ipython3",
   "version": "3.11.9"
  }
 },
 "nbformat": 4,
 "nbformat_minor": 2
}
